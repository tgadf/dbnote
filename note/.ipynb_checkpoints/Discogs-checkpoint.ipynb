{
 "cells": [
  {
   "cell_type": "code",
   "execution_count": 1,
   "id": "509866ef",
   "metadata": {},
   "outputs": [
    {
     "data": {
      "text/html": [
       "<style>.container { width:100% !important; }</style>"
      ],
      "text/plain": [
       "<IPython.core.display.HTML object>"
      ]
     },
     "metadata": {},
     "output_type": "display_data"
    }
   ],
   "source": [
    "%load_ext autoreload\n",
    "from IPython.display import display, HTML\n",
    "display(HTML(\"<style>.container { width:100% !important; }</style>\"))"
   ]
  },
  {
   "cell_type": "code",
   "execution_count": 3,
   "id": "a6a9e9ff",
   "metadata": {},
   "outputs": [],
   "source": [
    "from dbmaster import MasterParams, MasterPersist\n",
    "from dbbase import MusicDBIDModVal, MusicDBDir, MusicDBData\n",
    "from dbnote import DownloadRecord\n",
    "from utils import FileIO, DirInfo, FileInfo, getFlatList, Timestat, TermTime, TermTimeTS, getTT\n",
    "from pandas import Series, DataFrame, concat, Timestamp\n",
    "from pandb import PanDBIO\n",
    "from musicdb.discogs import MusicDBParams, RawAPIData, MusicDBIO\n",
    "from os import getpid\n",
    "\n",
    "mv = MusicDBIDModVal()\n",
    "io = FileIO()\n",
    "mpar = MusicDBParams()\n",
    "dbio = MusicDBIO()\n",
    "apiio = RawAPIData()\n",
    "db = mpar.db"
   ]
  },
  {
   "cell_type": "code",
   "execution_count": 8,
   "id": "17810033-ee5e-4874-9fbb-d68311932b54",
   "metadata": {},
   "outputs": [
    {
     "name": "stdout",
     "output_type": "stream",
     "text": [
      "DownloadRecord(db=Discogs, name=SearchArtist, rTypes=['Index', 'Data']\n",
      "DownloadRecord(db=Discogs, name=DownloadArtist, rTypes=['Index']\n",
      "DownloadRecord(db=Discogs, name=DownloadMasterAlbum, rTypes=['Index']\n",
      "DownloadRecord(db=Discogs, name=DownloadReleaseAlbum, rTypes=['Index']\n"
     ]
    }
   ],
   "source": [
    "searchArtistRecord = DownloadRecord(db=db, name=\"SearchArtist\", rTypes=[\"Index\", \"Data\"])\n",
    "downloadArtistRecord = DownloadRecord(db=db, name=\"DownloadArtist\", rTypes=[\"Index\"])\n",
    "downloadMasterAlbumRecord = DownloadRecord(db=db, name=\"DownloadMasterAlbum\", rTypes=[\"Index\"])\n",
    "downloadReleaseAlbumRecord = DownloadRecord(db=db, name=\"DownloadReleaseAlbum\", rTypes=[\"Index\"])\n",
    "allArtists = MusicDBData(path=MusicDBDir(DirInfo(\"/Volumes/Seagate/DB/\")), fname=\"discogs_202307_Artists\")\n",
    "knownArtists = dbio.rdio.getSummaryNameData"
   ]
  },
  {
   "cell_type": "code",
   "execution_count": 5,
   "id": "dbd14e52-96d4-46ae-848f-748843a6be3a",
   "metadata": {},
   "outputs": [
    {
     "name": "stdout",
     "output_type": "stream",
     "text": [
      "  ==> Moving /Users/tgadfort/anaconda3/envs/post/pandb/musicdb/Discogs/discogsSearchedForMasterArtists.p to /Users/tgadfort/anaconda3/envs/post/pandb/musicdb/Discogs/Discogs-SearchArtist-Index.p\n",
      "  ==> Moving /Users/tgadfort/anaconda3/envs/post/pandb/musicdb/Discogs/discogsSearchedForLocalArtists.p to /Users/tgadfort/anaconda3/envs/post/pandb/musicdb/Discogs/Discogs-DownloadArtist-Index.p\n",
      "  ==> Moving /Users/tgadfort/anaconda3/envs/post/pandb/musicdb/Discogs/discogsSearchedForLocalArtistsErrors.p to /Users/tgadfort/anaconda3/envs/post/pandb/musicdb/Discogs/Discogs-DownloadArtist-Error.p\n",
      "  ==> Moving /Users/tgadfort/anaconda3/envs/post/pandb/musicdb/Discogs/discogsSearchedForLocalAlbums.p to /Users/tgadfort/anaconda3/envs/post/pandb/musicdb/Discogs/Discogs-DownloadAlbum-Index.p\n",
      "  ==> Moving /Users/tgadfort/anaconda3/envs/post/pandb/musicdb/Discogs/discogsSearchedForLocalMasterAlbums.p to /Users/tgadfort/anaconda3/envs/post/pandb/musicdb/Discogs/Discogs-DownloadMasterAlbum-Index.p\n",
      "  ==> Moving /Users/tgadfort/anaconda3/envs/post/pandb/musicdb/Discogs/discogsSearchedForLocalMasterAlbumsErrors.p to /Users/tgadfort/anaconda3/envs/post/pandb/musicdb/Discogs/Discogs-DownloadMasterAlbum-Error.p\n",
      "  ==> Moving /Users/tgadfort/anaconda3/envs/post/pandb/musicdb/Discogs/discogsSearchedForLocalReleaseAlbums.p to /Users/tgadfort/anaconda3/envs/post/pandb/musicdb/Discogs/Discogs-DownloadReleaseAlbum-Index.p\n",
      "  ==> Moving /Users/tgadfort/anaconda3/envs/post/pandb/musicdb/Discogs/discogsSearchedForLocalReleaseAlbumsErrors.p to /Users/tgadfort/anaconda3/envs/post/pandb/musicdb/Discogs/Discogs-DownloadReleaseAlbum-Error.p\n"
     ]
    }
   ],
   "source": [
    "if True:\n",
    "    from utils import FileInfo\n",
    "    import shutil\n",
    "    db = dbio.params.db\n",
    "    dbdir = dbio.params.dir\n",
    "    nameMap = {\"MasterArtists\": \"SearchArtist\", \"LocalArtists\": \"DownloadArtist\", \"LocalAlbums\": \"DownloadAlbum\"}\n",
    "    nameMap = nameMap | {\"LocalMasterAlbums\": \"DownloadMasterAlbum\", \"LocalReleaseAlbums\": \"DownloadReleaseAlbum\"}\n",
    "    dinfo = DirInfo(f\"/Users/tgadfort/anaconda3/envs/post/pandb/musicdb/{db}\")\n",
    "    \n",
    "    cpMap = {}\n",
    "    for origname, newname in nameMap.items():\n",
    "        cpMap[f\"{dbdir}SearchedFor{origname}\"] = f\"{db}-{newname}-Index\"\n",
    "        cpMap[f\"{dbdir}SearchedFor{origname}Data\"] = f\"{db}-{newname}-Data\"\n",
    "        cpMap[f\"{dbdir}SearchedFor{origname}Errors\"] = f\"{db}-{newname}-Error\"\n",
    "    assert dinfo.exists(), f\"{dinfo} does not exist!\"\n",
    "    for srcFile, dstFile in cpMap.items():\n",
    "        srcFile = dinfo.join(f\"{srcFile}.p\")\n",
    "        dstFile = dinfo.join(f\"{dstFile}.p\")\n",
    "        if srcFile.exists():\n",
    "            srcFile.mvFile(dstFile)"
   ]
  },
  {
   "cell_type": "code",
   "execution_count": 7,
   "id": "52c93053",
   "metadata": {},
   "outputs": [
    {
     "name": "stdout",
     "output_type": "stream",
     "text": [
      "Discogs Search Results (PID=20471)\n",
      "  SearchArtist Index  : 769381\n",
      "  SearchArtist Data   : 0\n",
      "  SearchArtist Error  : 0\n",
      "  DownloadArtist Index: 1642898\n",
      "  DownloadArtist Error: 0\n",
      "  DownloadMasterAlbum Index: 1998237\n",
      "  DownloadMasterAlbum Error: 872\n",
      "  DownloadReleaseAlbum Index: 1996505\n",
      "  DownloadReleaseAlbum Error: 448\n",
      "  KnownArtist Data    : 8704657\n"
     ]
    }
   ],
   "source": [
    "##########################################################################################\n",
    "# Show Summary\n",
    "##########################################################################################\n",
    "print(f\"{db} Search Results (PID={getpid()})\".format(db))\n",
    "searchArtistRecord.info()\n",
    "downloadArtistRecord.info()\n",
    "downloadMasterAlbumRecord.info()\n",
    "downloadReleaseAlbumRecord.info()\n",
    "print(f\"  {'KnownArtist Data': <20}: {knownArtists().shape[0]}\")"
   ]
  },
  {
   "cell_type": "markdown",
   "id": "bb7d5872",
   "metadata": {
    "heading_collapsed": true
   },
   "source": [
    "# Search For New Artists"
   ]
  },
  {
   "cell_type": "code",
   "execution_count": 4,
   "id": "df19d5fd-b956-4196-89d2-2f0161809ae0",
   "metadata": {},
   "outputs": [
    {
     "name": "stdout",
     "output_type": "stream",
     "text": [
      "****************************************************************************************************************************\n",
      "*                                                   Loading SearchArtist                                                   *\n",
      "****************************************************************************************************************************\n",
      "  Loading Index  ... Done. Found 1434 Records\n",
      "  Loading Data   ... Done. Found 7 Records\n",
      "  Loading Error  ... Done. Found 0 Records\n",
      "# Beatport Search Results\n",
      "#   Available Names:     1248408\n",
      "#   Known Artist Names:  1434\n",
      "#   Artist Names To Get: 1247503\n"
     ]
    }
   ],
   "source": [
    "dbio = MusicDBIO(verbose=False,local=True,mkDirs=False)\n",
    "webio = RawWebData(debug=False)\n",
    "knownNames = PanDBIO().getUniqueArtistNames()\n",
    "searchedNames = Series(searchArtistRecord.getIndex())\n",
    "artistNamesToGet = knownNames[~knownNames.isin(searchedNames)]\n",
    "\n",
    "print(f\"# {db} Search Results\")\n",
    "print(f\"#   Available Names:     {knownNames.shape[0]}\")\n",
    "print(f\"#   Known Artist Names:  {searchedNames.shape[0]}\")\n",
    "print(f\"#   Artist Names To Get: {artistNamesToGet.shape[0]}\")\n",
    "\n",
    "del searchedNames\n",
    "del knownNames"
   ]
  },
  {
   "cell_type": "code",
   "execution_count": null,
   "id": "54addaa5",
   "metadata": {
    "hidden": true
   },
   "outputs": [
    {
     "name": "stdout",
     "output_type": "stream",
     "text": [
      " [Getting Beatport ArtistIDs] | StartTime 2023-10-08 12:05:19\n",
      "   ====> Terminate Time Set To 2023-10-08 19:00:00 <====\n",
      "   ====> Will Terminate Process 6 Hour and 54 Minute From Now\n",
      "****************************************************************************************************************************\n",
      "*                                                   Loading SearchArtist                                                   *\n",
      "****************************************************************************************************************************\n",
      "  Loading Index  ... Done. Found 1460 Records\n",
      "  Loading Data   ... Done. Found 33 Records\n",
      "  Loading Error  ... Done. Found 0 Records\n",
      "Searching For REO Speedwagon                                    2\n",
      "Searching For The Clientele                                     19\n",
      "Searching For The Wombats                                       6\n",
      "Searching For Bugge Wesseltoft                                  6\n",
      "Searching For Lou Barlow                                        13\n",
      "Searching For Machinedrum                                       6\n",
      "Searching For Ozma                                              19\n",
      "Searching For Adriano Celentano                                 2\n",
      "Searching For Lady Antebellum                                   8\n",
      "Searching For Heart                                             27\n",
      "Searching For Mucc                                              19\n",
      "Searching For Hot Chip                                          5\n",
      "Searching For Kollegah                                          8\n",
      "Searching For Heaven 17                                         4\n",
      "Searching For Xiu Xiu                                           8\n",
      "Searching For Blonde Redhead                                    2\n",
      "Searching For Milton Nascimento                                 11\n",
      "Searching For Emery                                             22\n",
      "Searching For Die Form                                          22\n",
      "Searching For DJ Paul                                           29\n",
      "Searching For Dion                                              26\n",
      "Searching For Quincy Jones                                      18\n",
      "Searching For The Walkabouts                                    12\n",
      "Searching For Sarah Brightman                                   17\n",
      "Searching For Riton                                             19\n",
      " [Getting Beatport ArtistIDs] | 25/?       : RunTime 2 Minute and 22 Second.\n",
      "*****************************************************************************************************************************\n",
      "*                                                    Saving SearchArtist                                                    *\n",
      "*****************************************************************************************************************************\n",
      "  Saving Index [1485] ... Done\n",
      "  Saving Data [58] ... Done\n",
      "  Saving Error [0] ... Done\n"
     ]
    },
    {
     "data": {
      "application/vnd.jupyter.widget-view+json": {
       "model_id": "ce1dfdb9dee24a54a966bc5267c3aa72",
       "version_major": 2,
       "version_minor": 0
      },
      "text/plain": [
       "Waiting:   0%|          | 0/150 [00:00<?, ?it/s]"
      ]
     },
     "metadata": {},
     "output_type": "display_data"
    },
    {
     "name": "stdout",
     "output_type": "stream",
     "text": [
      "Searching For Robin Thicke                                      1\n",
      "Searching For Martin Solveig                                    3\n",
      "Searching For Lio                                               22\n",
      "Searching For Crowbar                                           26\n",
      "Searching For Corrosion Of Conformity                           10\n",
      "Searching For Morcheeba                                         5\n",
      "Searching For Grouper                                           21\n",
      "Searching For De-Vision                                         21\n",
      "Searching For Kurtis Blow                                       3\n",
      "Searching For Ramone                                            20\n",
      "Searching For Lionel Hampton                                    7\n",
      "Searching For Seether                                           27\n",
      "Searching For Buckethead                                        9\n",
      "Searching For Slayer                                            15\n",
      "Searching For Medina Azahara                                    10\n",
      "Searching For Mike Posner                                       9\n",
      "Searching For Lloyd Cole                                        4\n",
      "Searching For Busdriver                                         10\n",
      "Searching For Hidden Orchestra                                  1\n",
      "Searching For Kool Savas                                        1\n",
      "Searching For Johnny Clarke                                     5\n",
      "Searching For Ciara                                             23\n",
      "Searching For Meek Mill                                         16\n",
      "Searching For Clutch                                            24\n",
      "Searching For The Pop Group                                     19\n",
      " [Getting Beatport ArtistIDs] | 50/?       : RunTime 5 Minute and 1 Second.\n",
      "*****************************************************************************************************************************\n",
      "*                                                    Saving SearchArtist                                                    *\n",
      "*****************************************************************************************************************************\n",
      "  Saving Index [1510] ... Done\n",
      "  Saving Data [83] ... Done\n",
      "  Saving Error [0] ... Done\n"
     ]
    },
    {
     "data": {
      "application/vnd.jupyter.widget-view+json": {
       "model_id": "0c1bcfbf247d4d8c8ce880fa9434e571",
       "version_major": 2,
       "version_minor": 0
      },
      "text/plain": [
       "Waiting:   0%|          | 0/150 [00:00<?, ?it/s]"
      ]
     },
     "metadata": {},
     "output_type": "display_data"
    },
    {
     "name": "stdout",
     "output_type": "stream",
     "text": [
      "Searching For Gang of Four                                      1\n",
      "Searching For Freddie McGregor                                  8\n",
      "Searching For Andrew Bird                                       14\n",
      "Searching For Masta Ace                                         15\n",
      "Searching For Pitch Shifter                                     8\n",
      "Searching For DJ Chicago                                        19\n",
      "Searching For Therion                                           25\n",
      "Searching For The Juan MacLean                                  5\n",
      "Searching For Paul Gilbert                                      8\n",
      "Searching For Dessa                                             27\n",
      "Searching For Planningtorock                                    4\n",
      "Searching For Ivan Lins                                         18\n",
      "Searching For Jimmy Somerville                                  5\n",
      "Searching For The Prodigy                                       4\n",
      "Searching For Mirah                                             19\n",
      "Searching For Tiësto                                           20\n",
      "Searching For Frank Zappa                                       18\n",
      "Searching For Joe McPhee                                        7\n",
      "Searching For globe                                             20\n",
      "Searching For Riva Starr                                        8\n",
      "Searching For Natacha Atlas                                     4\n",
      "Searching For Tears For Fears                                   2\n",
      "Searching For Alix Perez                                        15\n",
      "Searching For Peaches                                           23\n",
      "Searching For John Carpenter                                    2\n",
      " [Getting Beatport ArtistIDs] | 75/?       : RunTime 7 Minute and 43 Second.\n",
      "*****************************************************************************************************************************\n",
      "*                                                    Saving SearchArtist                                                    *\n",
      "*****************************************************************************************************************************\n",
      "  Saving Index [1535] ... Done\n",
      "  Saving Data [108] ... Done\n",
      "  Saving Error [0] ... Done\n"
     ]
    },
    {
     "data": {
      "application/vnd.jupyter.widget-view+json": {
       "model_id": "1f597d70096a43a4b989bed760ca9636",
       "version_major": 2,
       "version_minor": 0
      },
      "text/plain": [
       "Waiting:   0%|          | 0/150 [00:00<?, ?it/s]"
      ]
     },
     "metadata": {},
     "output_type": "display_data"
    },
    {
     "name": "stdout",
     "output_type": "stream",
     "text": [
      "Searching For 2 Unlimited                                       5\n",
      "Searching For Big D And The Kids Table                          6\n",
      "Searching For Eric Copeland                                     1\n",
      "Searching For Aly & Fila                                        2\n",
      "Searching For Julianna Barwick                                  5\n",
      "Searching For Pusha T                                           18\n",
      "Searching For Agoraphobic Nosebleed                             14\n",
      "Searching For Bow Wow                                           9\n",
      "Searching For Benny Goodman                                     14\n",
      "Searching For Petra                                             28\n",
      "Searching For MK                                                8\n",
      "Searching For Metal Church                                      16\n",
      "Searching For Wax Tailor                                        2\n",
      "Searching For Nightmares on Wax                                 3\n",
      "Searching For Stam1na                                           20\n",
      "Searching For Four Tops                                         18\n",
      "Searching For Nicky Romero                                      7\n",
      "Searching For Terranova                                         23\n",
      "Searching For Trina                                             24\n",
      "Searching For Neil Young                                        19\n",
      "Searching For Charlie Parker                                    12\n",
      "Searching For Enduser                                           9\n",
      "Searching For Incantation                                       17\n",
      "Searching For Scorpions                                         22\n",
      "Searching For OutKast                                           19\n",
      " [Getting Beatport ArtistIDs] | 100/?      : RunTime 10 Minute and 27 Second.\n",
      "*****************************************************************************************************************************\n",
      "*                                                    Saving SearchArtist                                                    *\n",
      "*****************************************************************************************************************************\n",
      "  Saving Index [1560] ... Done\n",
      "  Saving Data [133] ... Done\n",
      "  Saving Error [0] ... Done\n"
     ]
    },
    {
     "data": {
      "application/vnd.jupyter.widget-view+json": {
       "model_id": "f440c4ced3a340258473acaf1657877d",
       "version_major": 2,
       "version_minor": 0
      },
      "text/plain": [
       "Waiting:   0%|          | 0/150 [00:00<?, ?it/s]"
      ]
     },
     "metadata": {},
     "output_type": "display_data"
    },
    {
     "name": "stdout",
     "output_type": "stream",
     "text": [
      "Searching For Barbara Mason                                     1\n",
      "Searching For The Polish Ambassador                             1\n",
      "Searching For Owl City                                          8\n",
      "Searching For Maria Bethânia                                   17\n",
      "Searching For Five Finger Death Punch                           10\n",
      "Searching For Perfume                                           7\n",
      "Searching For Gladys Knight                                     2\n",
      "Searching For Eric Clapton                                      18\n",
      "Searching For Koda Kumi                                         10\n",
      "Searching For Freddie Gibbs                                     10\n",
      "Searching For Delain                                            15\n",
      "Searching For Baaba Maal                                        9\n",
      "Searching For Bee Gees                                          12\n",
      "Searching For Duran Duran                                       8\n",
      "Searching For Six Organs of Admittance                          15\n",
      "Searching For Damu the Fudgemunk                                3\n",
      "Searching For Lacrimosa                                         19\n",
      "Searching For CocoRosie                                         11\n",
      "Searching For Royal Trux                                        8\n",
      "Searching For Ry Cooder                                         11\n",
      "Searching For Gal Costa                                         12\n",
      "Searching For Bloodhound Gang                                   2\n",
      "Searching For Winterfylleth                                     0\n",
      "Searching For Doro Pesch                                        11\n",
      "Searching For DJ Rashad                                         20\n",
      " [Getting Beatport ArtistIDs] | 125/?      : RunTime 13 Minute and 9 Second.\n",
      "*****************************************************************************************************************************\n",
      "*                                                    Saving SearchArtist                                                    *\n",
      "*****************************************************************************************************************************\n",
      "  Saving Index [1585] ... Done\n",
      "  Saving Data [158] ... Done\n",
      "  Saving Error [0] ... Done\n"
     ]
    },
    {
     "data": {
      "application/vnd.jupyter.widget-view+json": {
       "model_id": "660efef7a1254ee1a601565ed1952a25",
       "version_major": 2,
       "version_minor": 0
      },
      "text/plain": [
       "Waiting:   0%|          | 0/150 [00:00<?, ?it/s]"
      ]
     },
     "metadata": {},
     "output_type": "display_data"
    },
    {
     "name": "stdout",
     "output_type": "stream",
     "text": [
      "Searching For Linval Thompson                                   14\n",
      "Searching For Bounty Killer                                     8\n",
      "Searching For Celer                                             17\n",
      "Searching For The White Stripes                                 12\n",
      "Searching For Johnny Winter                                     12\n",
      "Searching For John Prine                                        21\n",
      "Searching For Stan Getz                                         5\n",
      "Searching For Laurie Anderson                                   18\n",
      "Searching For Joan Baez                                         12\n",
      "Searching For The Ataris                                        15\n",
      "Searching For Jimmy Edgar                                       7\n",
      "Searching For K. Michelle                                       8\n",
      "Searching For Ben Frost                                         7\n",
      "Searching For Ramsey Lewis                                      7\n",
      "Searching For Eivør                                             14\n",
      "Searching For Juicy J                                           24\n",
      "Searching For Roxette                                           26\n",
      "Searching For Ornella Vanoni                                    7\n",
      "Searching For Audien                                            17\n",
      "Searching For Stephanie Mills                                   9\n",
      "Searching For Def Leppard                                       11\n",
      "Searching For The Kinks                                         24\n",
      "Searching For Elvis Costello                                    12\n",
      "Searching For Sigh                                              15\n",
      "Searching For MISTAH F.A.B.                                     2\n",
      " [Getting Beatport ArtistIDs] | 150/?      : RunTime 15 Minute and 57 Second.\n",
      "*****************************************************************************************************************************\n",
      "*                                                    Saving SearchArtist                                                    *\n",
      "*****************************************************************************************************************************\n",
      "  Saving Index [1610] ... Done\n",
      "  Saving Data [183] ... Done\n",
      "  Saving Error [0] ... Done\n"
     ]
    },
    {
     "data": {
      "application/vnd.jupyter.widget-view+json": {
       "model_id": "616d0368c53e4b92a5969ab77c753b54",
       "version_major": 2,
       "version_minor": 0
      },
      "text/plain": [
       "Waiting:   0%|          | 0/150 [00:00<?, ?it/s]"
      ]
     },
     "metadata": {},
     "output_type": "display_data"
    },
    {
     "name": "stdout",
     "output_type": "stream",
     "text": [
      "Searching For Elephant Man                                      9\n",
      "Searching For Clannad                                           21\n",
      "Searching For Devendra Banhart                                  2\n",
      "Searching For Roska                                             19\n",
      "Searching For Ozark Henry                                       6\n",
      "Searching For Ras Kass                                          10\n",
      "Searching For The Oak Ridge Boys                                14\n",
      "Searching For Mountain                                          15\n",
      "Searching For Abigor                                            20\n",
      "Searching For Ludacris                                          12\n",
      "Searching For Childish Gambino                                  6\n",
      "Searching For Garbage                                           15\n",
      "Searching For Petula Clark                                      12\n",
      "Searching For Her Space Holiday                                 22\n",
      "Searching For Franco Battiato                                   13\n",
      "Searching For Current Value                                     5\n",
      "Searching For Pete Seeger                                       5\n",
      "Searching For MAGMA                                             32\n",
      "Searching For Thomas Fehlmann                                   4\n",
      "Searching For Fairport Convention                               8\n",
      "Searching For Fu Manchu                                         16\n",
      "Searching For 2PM                                               21\n",
      "Searching For Lobos                                             21\n",
      "Searching For Queen Latifah                                     15\n",
      "Searching For Tosca                                             21\n",
      " [Getting Beatport ArtistIDs] | 175/?      : RunTime 18 Minute and 40 Second.\n",
      "*****************************************************************************************************************************\n",
      "*                                                    Saving SearchArtist                                                    *\n",
      "*****************************************************************************************************************************\n",
      "  Saving Index [1635] ... Done\n",
      "  Saving Data [208] ... Done\n",
      "  Saving Error [0] ... Done\n"
     ]
    },
    {
     "data": {
      "application/vnd.jupyter.widget-view+json": {
       "model_id": "d050a52afb224eb9bf3a9f256fc9ea51",
       "version_major": 2,
       "version_minor": 0
      },
      "text/plain": [
       "Waiting:   0%|          | 0/150 [00:00<?, ?it/s]"
      ]
     },
     "metadata": {},
     "output_type": "display_data"
    },
    {
     "name": "stdout",
     "output_type": "stream",
     "text": [
      "Searching For Muddy Water                                       12\n",
      "Searching For Jenny Owen Youngs                                 19\n",
      "Searching For Bobby Darin                                       10\n",
      "Searching For The Subways                                       14\n",
      "Searching For Ruth Brown                                        7\n",
      "Searching For Flying Lotus                                      3\n",
      "Searching For White Lion                                        19\n",
      "Searching For Mudhoney                                          16\n",
      "Searching For Tori Amos                                         16\n",
      "Searching For King Dude                                         19\n",
      "Searching For The National                                      5\n",
      "Searching For Karin Park                                        4\n",
      "Searching For Julio Iglesias                                    4\n",
      "Searching For Ohio Players                                      2\n",
      "Searching For Morbid Angel                                      4\n",
      "Searching For Xasthur                                           29\n",
      "Searching For Nancy Wilson                                      4\n",
      "Searching For Nicki Minaj                                       17\n",
      "Searching For Wolfgang Gartner                                  1\n",
      "Searching For Pulp                                              28\n",
      "Searching For The Datsuns                                       1\n",
      "Searching For Russian Circles                                   17\n",
      "Searching For John Mayall                                       16\n",
      "Searching For Avantasia                                         17\n",
      "Searching For Joe Goddard                                       10\n",
      " [Getting Beatport ArtistIDs] | 200/?      : RunTime 21 Minute and 20 Second.\n",
      "*****************************************************************************************************************************\n",
      "*                                                    Saving SearchArtist                                                    *\n",
      "*****************************************************************************************************************************\n",
      "  Saving Index [1660] ... Done\n",
      "  Saving Data [233] ... Done\n",
      "  Saving Error [0] ... Done\n"
     ]
    },
    {
     "data": {
      "application/vnd.jupyter.widget-view+json": {
       "model_id": "ef82b4006ea04ac8b717e3c23394b0e8",
       "version_major": 2,
       "version_minor": 0
      },
      "text/plain": [
       "Waiting:   0%|          | 0/150 [00:00<?, ?it/s]"
      ]
     },
     "metadata": {},
     "output_type": "display_data"
    },
    {
     "name": "stdout",
     "output_type": "stream",
     "text": [
      "Searching For Mount Kimbie                                      1\n",
      "Searching For Jay Sean                                          22\n",
      "Searching For Doja Cat                                          4\n",
      "Searching For Dream Theater                                     13\n",
      "Searching For Andrew W.K.                                       5\n",
      "Searching For Fujiya & Miyagi                                   1\n",
      "Searching For Canned Heat                                       13\n",
      "Searching For The Notwist                                       1\n",
      "Searching For Diamanda Galás                                   6\n",
      "Searching For Snow Patrol                                       15\n",
      "Searching For George Strait                                     11\n",
      "Searching For Minus The Bear                                    17\n",
      "Searching For Judy Collins                                      15\n",
      "Searching For Steve Roach                                       10\n",
      "Searching For Wolf Eyes                                         5\n",
      "Searching For Oh Land                                           26\n",
      "Searching For Lalo Schifrin                                     5\n",
      "Searching For Phil Keaggy                                       19\n",
      "Searching For Shabba Ranks                                      3\n",
      "Searching For John Mellencamp                                   15\n",
      "Searching For AKB48                                             0\n",
      "Searching For The Black Dog                                     5\n",
      "Searching For The Legendary Pink Dots                           2\n",
      "Searching For Johnny Cash                                       27\n",
      "Searching For Eloy                                              24\n",
      " [Getting Beatport ArtistIDs] | 225/?      : RunTime 23 Minute and 59 Second.\n",
      "*****************************************************************************************************************************\n",
      "*                                                    Saving SearchArtist                                                    *\n",
      "*****************************************************************************************************************************\n",
      "  Saving Index [1685] ... Done\n",
      "  Saving Data [258] ... Done\n",
      "  Saving Error [0] ... Done\n"
     ]
    },
    {
     "data": {
      "application/vnd.jupyter.widget-view+json": {
       "model_id": "f511a8a85d0c485a99f324b6d5206713",
       "version_major": 2,
       "version_minor": 0
      },
      "text/plain": [
       "Waiting:   0%|          | 0/150 [00:00<?, ?it/s]"
      ]
     },
     "metadata": {},
     "output_type": "display_data"
    },
    {
     "name": "stdout",
     "output_type": "stream",
     "text": [
      "Searching For Theatre of Tragedy                                12\n",
      "Searching For Barenaked Ladies                                  17\n",
      "Searching For Lil' Tracy                                        7\n",
      "Searching For The Wiggles                                       13\n",
      "Searching For The Miracles                                      8\n",
      "Searching For Loretta Lynn                                      14\n",
      "Searching For Eric Prydz                                        9\n",
      "Searching For James Blake                                       11\n",
      "Searching For Toddla T                                          4\n",
      "Searching For Boney M                                           18\n",
      "Searching For Sunburned Hand of the Man                         1\n",
      "Searching For Holy Ghost!                                       5\n",
      "Searching For Kenny Rogers                                      18\n",
      "Searching For Example                                           22\n",
      "Searching For 10cc                                              12\n",
      "Searching For Oscar Peterson                                    11\n",
      "Searching For Mel Tormé                                        14\n",
      "Searching For Peter Frampton                                    13\n",
      "Searching For Charles Aznavour                                  13\n",
      "Searching For Chelsea Wolfe                                     19\n",
      "Searching For Billy Joel                                        3\n",
      "Searching For Freedom Call                                      11\n",
      "Searching For Fito Páez                                        9\n",
      "Searching For Hocico                                            17\n",
      "Searching For The Chap                                          16\n",
      " [Getting Beatport ArtistIDs] | 250/?      : RunTime 26 Minute and 39 Second.\n",
      "*****************************************************************************************************************************\n",
      "*                                                    Saving SearchArtist                                                    *\n",
      "*****************************************************************************************************************************\n",
      "  Saving Index [1710] ... Done\n",
      "  Saving Data [283] ... Done\n",
      "  Saving Error [0] ... Done\n"
     ]
    },
    {
     "data": {
      "application/vnd.jupyter.widget-view+json": {
       "model_id": "29f1fbc2b07c4de7a3c84d0e5c807915",
       "version_major": 2,
       "version_minor": 0
      },
      "text/plain": [
       "Waiting:   0%|          | 0/150 [00:00<?, ?it/s]"
      ]
     },
     "metadata": {},
     "output_type": "display_data"
    },
    {
     "name": "stdout",
     "output_type": "stream",
     "text": [
      "Searching For Alan Jackson                                      27\n",
      "Searching For Natalie Cole                                      8\n",
      "Searching For Steve Earle                                       9\n",
      "Searching For Denison Witmer                                    18\n",
      "Searching For The Everly Brothers                               10\n",
      "Searching For Steve Hackett                                     9\n",
      "Searching For Master P                                          20\n",
      "Searching For Jewel                                             26\n",
      "Searching For Kurt Vile                                         1\n",
      "Searching For Delerium                                          16\n",
      "Searching For Fat Joe                                           21\n",
      "Searching For Jacek Sienkiewicz                                 3\n",
      "Searching For Keith Jarrett                                     12\n",
      "Searching For Newsboys                                          8\n",
      "Searching For Luis Miguel                                       17\n",
      "Searching For Chick Corea                                       14\n",
      "Searching For Dusty Springfield                                 14\n",
      "Searching For Drake                                             29\n",
      "Searching For Juan Gabriel                                      16\n",
      "Searching For Slugabed                                          2\n",
      "Searching For Simply Red                                        17\n",
      "Searching For A Certain Ratio                                   11\n",
      "Searching For The Go! Team                                      15\n",
      "Searching For Carly Simon                                       13\n",
      "Searching For In Flames                                         22\n",
      " [Getting Beatport ArtistIDs] | 275/?      : RunTime 29 Minute and 18 Second.\n",
      "*****************************************************************************************************************************\n",
      "*                                                    Saving SearchArtist                                                    *\n",
      "*****************************************************************************************************************************\n",
      "  Saving Index [1735] ... Done\n",
      "  Saving Data [308] ... Done\n",
      "  Saving Error [0] ... Done\n"
     ]
    },
    {
     "data": {
      "application/vnd.jupyter.widget-view+json": {
       "model_id": "2913d5680783494aba0814fc5fed3500",
       "version_major": 2,
       "version_minor": 0
      },
      "text/plain": [
       "Waiting:   0%|          | 0/150 [00:00<?, ?it/s]"
      ]
     },
     "metadata": {},
     "output_type": "display_data"
    },
    {
     "name": "stdout",
     "output_type": "stream",
     "text": [
      "Searching For Model 500                                         5\n",
      "Searching For Amenra                                            32\n",
      "Searching For Controlled Bleeding                               1\n",
      "Searching For Tim McGraw                                        7\n",
      "Searching For Inner City                                        7\n",
      "Searching For Rick Ross                                         24\n",
      "Searching For Stone Temple Pilots                               12\n",
      "Searching For Ramones                                           24\n",
      "Searching For The xx                                            24\n",
      "Searching For Bush                                              18\n",
      "Searching For Kurupt                                            22\n",
      "Searching For Étienne de Crécy                                4\n",
      "Searching For Alpha                                             31\n",
      "Searching For Smokey Robinson                                   6\n",
      "Searching For Mr. Vegas                                         19\n",
      "Searching For Slash                                             27\n",
      "Searching For Wire                                              19\n",
      "Searching For Kotiteollisuus                                    0\n",
      "Searching For Grimes                                            19\n",
      "Searching For Amplifier                                         14\n",
      "Searching For Merle Haggard                                     5\n",
      "Searching For Eros Ramazzotti                                   18\n",
      "Searching For Perry Como                                        4\n",
      "Searching For Aaron Neville                                     2\n",
      "Searching For Impaled Nazarene                                  22\n",
      " [Getting Beatport ArtistIDs] | 300/?      : RunTime 31 Minute and 58 Second.\n",
      "*****************************************************************************************************************************\n",
      "*                                                    Saving SearchArtist                                                    *\n",
      "*****************************************************************************************************************************\n",
      "  Saving Index [1760] ... Done\n",
      "  Saving Data [333] ... Done\n",
      "  Saving Error [0] ... Done\n"
     ]
    },
    {
     "data": {
      "application/vnd.jupyter.widget-view+json": {
       "model_id": "6362c025e4f2475693da31040903867a",
       "version_major": 2,
       "version_minor": 0
      },
      "text/plain": [
       "Waiting:   0%|          | 0/150 [00:00<?, ?it/s]"
      ]
     },
     "metadata": {},
     "output_type": "display_data"
    },
    {
     "name": "stdout",
     "output_type": "stream",
     "text": [
      "Searching For Peverelist                                        3\n",
      "Searching For Badly Drawn Boy                                   1\n",
      "Searching For Genesis                                           24\n",
      "Searching For Young Buck                                        10\n",
      "Searching For Dan Bern                                          19\n",
      "Searching For Ludovico Einaudi                                  10\n",
      "Searching For Alejandra Guzmán                                 13\n",
      "Searching For Lead Belly                                        14\n",
      "Searching For Dying Fetus                                       4\n",
      "Searching For Dannii Minogue                                    2\n",
      "Searching For Tanya Tucker                                      19\n",
      "Searching For Wilco                                             22\n",
      "Searching For Tinariwen                                         1\n",
      "Searching For Kylesa                                            25\n",
      "Searching For Marc Ribot                                        13\n",
      "Searching For Lupe Fiasco                                       4\n",
      "Searching For The Selecter                                      11\n",
      "Searching For Foster The People                                 4\n",
      "Searching For EyeHateGod                                        0\n",
      "Searching For Fozzy                                             23\n",
      "Searching For Alcione                                           16\n",
      "Searching For Glee Cast                                         18\n",
      "Searching For Skepta                                            18\n",
      "Searching For Pixies                                            15\n",
      "Searching For Sirenia                                           27\n",
      " [Getting Beatport ArtistIDs] | 325/?      : RunTime 34 Minute and 37 Second.\n",
      "*****************************************************************************************************************************\n",
      "*                                                    Saving SearchArtist                                                    *\n",
      "*****************************************************************************************************************************\n",
      "  Saving Index [1785] ... Done\n",
      "  Saving Data [358] ... Done\n",
      "  Saving Error [0] ... Done\n"
     ]
    },
    {
     "data": {
      "application/vnd.jupyter.widget-view+json": {
       "model_id": "331d016fe22a48e08fb0782b56978a46",
       "version_major": 2,
       "version_minor": 0
      },
      "text/plain": [
       "Waiting:   0%|          | 0/150 [00:00<?, ?it/s]"
      ]
     },
     "metadata": {},
     "output_type": "display_data"
    },
    {
     "name": "stdout",
     "output_type": "stream",
     "text": [
      "Searching For A Flock Of Seagulls                               1\n",
      "Searching For Johnny Rivers                                     9\n",
      "Searching For A.R. Rahman                                       14\n",
      "Searching For Architects                                        24\n",
      "Searching For Patty Pravo                                       7\n",
      "Searching For Mercury Rev                                       8\n",
      "Searching For McCoy Tyner                                       10\n",
      "Searching For Toby Keith                                        13\n",
      "Searching For Los Tigres del Norte                              18\n",
      "Searching For Bruce Cockburn                                    6\n",
      "Searching For Goo Goo Dolls                                     1\n",
      "Searching For Bauhaus                                           28\n",
      "Searching For Manu Delago                                       2\n",
      "Searching For Phil Collins                                      15\n",
      "Searching For Rich The Kid                                      19\n",
      "Searching For Tigers Jaw                                        11\n",
      "Searching For America                                           30\n",
      "Searching For The Impressions                                   12\n",
      "Searching For John Denver                                       21\n",
      "Searching For Modeselektor                                      3\n",
      "Searching For Peter, Paul & Mary                                6\n",
      "Searching For Roberto Carlos                                    6\n",
      "Searching For The Durutti Column                                1\n",
      "Searching For Dillinger                                         18\n",
      "Searching For Guy Clark                                         22\n",
      " [Getting Beatport ArtistIDs] | 350/?      : RunTime 37 Minute and 19 Second.\n",
      "*****************************************************************************************************************************\n",
      "*                                                    Saving SearchArtist                                                    *\n",
      "*****************************************************************************************************************************\n",
      "  Saving Index [1810] ... Done\n",
      "  Saving Data [383] ... Done\n",
      "  Saving Error [0] ... Done\n"
     ]
    },
    {
     "data": {
      "application/vnd.jupyter.widget-view+json": {
       "model_id": "9f9228ed22704234aa5321e7b3d3a51e",
       "version_major": 2,
       "version_minor": 0
      },
      "text/plain": [
       "Waiting:   0%|          | 0/150 [00:00<?, ?it/s]"
      ]
     },
     "metadata": {},
     "output_type": "display_data"
    },
    {
     "name": "stdout",
     "output_type": "stream",
     "text": [
      "Searching For Motörhead                                        7\n",
      "Searching For Paul Van Dyk                                      4\n",
      "Searching For Vince Gill                                        11\n",
      "Searching For Dead Can Dance                                    3\n",
      "Searching For Eric Roberson                                     1\n",
      "Searching For Michael Bublé                                    12\n",
      "Searching For Throwing Snow                                     6\n",
      "Searching For White Zombie                                      9\n",
      "Searching For Culture                                           30\n",
      "Searching For Oasis                                             8\n",
      "Searching For Twiztid                                           18\n",
      "Searching For Funeral for a Friend                              15\n",
      "Searching For Ace Hood                                          19\n",
      "Searching For Hundreds                                          10\n",
      "Searching For Dead Prez                                         6\n",
      "Searching For Kraan                                             27\n",
      "Searching For Erol Alkan                                        2\n",
      "Searching For Beach House                                       12\n",
      "Searching For Zucchero                                          7\n",
      "Searching For Editors                                           9\n",
      "Searching For Joe Cocker                                        13\n",
      "Searching For Styx                                              29\n",
      "Searching For Giorgio Moroder                                   5\n",
      "Searching For Bertrand Burgalat                                 1\n",
      "Searching For Old Crow Medicine Show                            16\n",
      " [Getting Beatport ArtistIDs] | 375/?      : RunTime 39 Minute and 58 Second.\n",
      "*****************************************************************************************************************************\n",
      "*                                                    Saving SearchArtist                                                    *\n",
      "*****************************************************************************************************************************\n",
      "  Saving Index [1835] ... Done\n",
      "  Saving Data [408] ... Done\n",
      "  Saving Error [0] ... Done\n"
     ]
    },
    {
     "data": {
      "application/vnd.jupyter.widget-view+json": {
       "model_id": "9104973c81a140808c4fd5db85dcf99a",
       "version_major": 2,
       "version_minor": 0
      },
      "text/plain": [
       "Waiting:   0%|          | 0/150 [00:00<?, ?it/s]"
      ]
     },
     "metadata": {},
     "output_type": "display_data"
    },
    {
     "name": "stdout",
     "output_type": "stream",
     "text": [
      "Searching For DevilDriver                                       0\n",
      "Searching For Jeff Beck                                         13\n",
      "Searching For Franz Ferdinand                                   2\n",
      "Searching For Ariane Moffatt                                    13\n",
      "Searching For The Kills                                         16\n",
      "Searching For Ennio Morricone                                   1\n",
      "Searching For The Darkness                                      15\n",
      "Searching For The Allman Brothers Band                          8\n",
      "Searching For Stevie B                                          16\n",
      "Searching For Violent Femmes                                    11\n",
      "Searching For Al Di Meola                                       14\n",
      "Searching For Robert Fripp                                      16\n",
      "Searching For KMFDM                                             1\n",
      "Searching For Assemblage 23                                     1\n",
      "Searching For ATB                                               22\n",
      "Searching For The Damned                                        15\n",
      "Searching For Jerry Jeff Walker                                 9\n",
      "Searching For Thin Lizzy                                        16\n",
      "Searching For Joell Ortiz                                       10\n",
      "Searching For Bun B                                             8\n",
      "Searching For Gunna                                             17\n",
      "Searching For Elbow                                             13\n",
      "Searching For DJ Quik                                           15\n",
      "Searching For Screeching Weasel                                 8\n",
      "Searching For Harold Melvin & the Blue Notes                    2\n",
      " [Getting Beatport ArtistIDs] | 400/?      : RunTime 42 Minute and 39 Second.\n",
      "*****************************************************************************************************************************\n",
      "*                                                    Saving SearchArtist                                                    *\n",
      "*****************************************************************************************************************************\n",
      "  Saving Index [1860] ... Done\n",
      "  Saving Data [433] ... Done\n",
      "  Saving Error [0] ... Done\n"
     ]
    },
    {
     "data": {
      "application/vnd.jupyter.widget-view+json": {
       "model_id": "5b3cf98bba2649acb4e044b1555e8bf8",
       "version_major": 2,
       "version_minor": 0
      },
      "text/plain": [
       "Waiting:   0%|          | 0/150 [00:00<?, ?it/s]"
      ]
     },
     "metadata": {},
     "output_type": "display_data"
    },
    {
     "name": "stdout",
     "output_type": "stream",
     "text": [
      "Searching For Iron Savior                                       14\n",
      "Searching For Strawbs                                           26\n",
      "Searching For Jackson Browne                                    17\n",
      "Searching For Borgore                                           13\n",
      "Searching For Unheilig                                          13\n",
      "Searching For Felix da Housecat                                 9\n",
      "Searching For Datsik                                            17\n",
      "Searching For The Hollies                                       16\n",
      "Searching For Anamanaguchi                                      6\n",
      "Searching For Krallice                                          13\n",
      "Searching For Die Ärzte                                        13\n",
      "Searching For Will Hoge                                         18\n",
      "Searching For DJ Spinna                                         24\n",
      "Searching For Articolo 31                                       1\n",
      "Searching For Junior Reid                                       18\n",
      "Searching For Superchunk                                        20\n",
      "Searching For Saurom                                            31\n",
      "Searching For Waylon Jennings                                   9\n",
      "Searching For Curren$y                                          7\n",
      "Searching For The World Is a Beautiful Place & I Am No Longer Afraid to Die13\n",
      "Searching For Adele                                             29\n",
      "Searching For Elisa                                             17\n",
      "Searching For Giorgia                                           26\n",
      "Searching For Post Malone                                       17\n",
      "Searching For Balam Acab                                        1\n",
      " [Getting Beatport ArtistIDs] | 425/?      : RunTime 45 Minute and 20 Second.\n",
      "*****************************************************************************************************************************\n",
      "*                                                    Saving SearchArtist                                                    *\n",
      "*****************************************************************************************************************************\n",
      "  Saving Index [1885] ... Done\n",
      "  Saving Data [458] ... Done\n",
      "  Saving Error [0] ... Done\n"
     ]
    },
    {
     "data": {
      "application/vnd.jupyter.widget-view+json": {
       "model_id": "afb14d89fe6242968d915dc74ccb8c8e",
       "version_major": 2,
       "version_minor": 0
      },
      "text/plain": [
       "Waiting:   0%|          | 0/150 [00:00<?, ?it/s]"
      ]
     },
     "metadata": {},
     "output_type": "display_data"
    },
    {
     "name": "stdout",
     "output_type": "stream",
     "text": [
      "Searching For Pharoah Sanders                                   13\n",
      "Searching For Fruit Bats                                        18\n",
      "Searching For Ricardo Arjona                                    2\n",
      "Searching For Michael W. Smith                                  11\n",
      "Searching For Lucinda Williams                                  7\n",
      "Searching For Odd Nosdam                                        1\n",
      "Searching For Juno Reactor                                      2\n",
      "Searching For Erasure                                           12\n",
      "Searching For Gianna Nannini                                    3\n",
      "Searching For DMX Krew                                          4\n",
      "Searching For Orbital                                           15\n",
      "Searching For Litto Nebbia                                      2\n",
      "Searching For Zed Bias                                          7\n",
      "Searching For Bo Diddley                                        11\n",
      "Searching For Plies                                             6\n",
      "Searching For Guilty Simpson                                    15\n",
      "Searching For Anaal Nathrakh                                    14\n",
      "Searching For Metrik                                            15\n",
      "Searching For Yuksek                                            19\n",
      "Searching For Freddie Hubbard                                   15\n",
      "Searching For Joe Bataan                                        5\n",
      "Searching For Cypress Hill                                      3\n",
      "Searching For Donna Summer                                      6\n",
      "Searching For The Yardbirds                                     8\n",
      "Searching For Randy Travis                                      12\n",
      " [Getting Beatport ArtistIDs] | 450/?      : RunTime 47 Minute and 59 Second.\n",
      "*****************************************************************************************************************************\n",
      "*                                                    Saving SearchArtist                                                    *\n",
      "*****************************************************************************************************************************\n",
      "  Saving Index [1910] ... Done\n",
      "  Saving Data [483] ... Done\n",
      "  Saving Error [0] ... Done\n"
     ]
    },
    {
     "data": {
      "application/vnd.jupyter.widget-view+json": {
       "model_id": "59b64f49b50b4c5aa0f3f60f4577a88f",
       "version_major": 2,
       "version_minor": 0
      },
      "text/plain": [
       "Waiting:   0%|          | 0/150 [00:00<?, ?it/s]"
      ]
     },
     "metadata": {},
     "output_type": "display_data"
    },
    {
     "name": "stdout",
     "output_type": "stream",
     "text": [
      "Searching For LeCrae                                            21\n",
      "Searching For His Name Is Alive                                 1\n",
      "Searching For Dwight Yoakam                                     8\n",
      "Searching For Regina Spektor                                    11\n",
      "Searching For Squarepusher                                      2\n",
      "Searching For Thousand Foot Krutch                              5\n",
      "Searching For Geographer                                        14\n",
      "Searching For Lujuria                                           23\n",
      "Searching For Chuck Berry                                       15\n",
      "Searching For Transglobal Underground                           2\n",
      "Searching For The Divine Comedy                                 6\n",
      "Searching For Vanilla Ice                                       3\n",
      "Searching For Herb Alpert                                       9\n",
      "Searching For Electric Six                                      7\n",
      "Searching For Fats Domino                                       4\n",
      "Searching For The Maine                                         23\n",
      "Searching For India                                             16\n",
      "Searching For The Doobie Brothers                               10\n",
      "Searching For John Hartford                                     16\n",
      "Searching For The Cranberries                                   9\n",
      "Searching For Cold War Kids                                     18\n",
      "Searching For Jerry Butler                                      5\n",
      "Searching For Loudon Wainwright III                             6\n",
      "Searching For Kelly Rowland                                     7\n",
      "Searching For Kreator                                           24\n",
      " [Getting Beatport ArtistIDs] | 475/?      : RunTime 50 Minute and 41 Second.\n",
      "*****************************************************************************************************************************\n",
      "*                                                    Saving SearchArtist                                                    *\n",
      "*****************************************************************************************************************************\n",
      "  Saving Index [1935] ... Done\n",
      "  Saving Data [508] ... Done\n",
      "  Saving Error [0] ... Done\n"
     ]
    },
    {
     "data": {
      "application/vnd.jupyter.widget-view+json": {
       "model_id": "42eade0c6f5e4b43ab1f632a035cddd7",
       "version_major": 2,
       "version_minor": 0
      },
      "text/plain": [
       "Waiting:   0%|          | 0/150 [00:00<?, ?it/s]"
      ]
     },
     "metadata": {},
     "output_type": "display_data"
    },
    {
     "name": "stdout",
     "output_type": "stream",
     "text": [
      "Searching For Sponge                                            30\n",
      "Searching For The Cinch                                         14\n",
      "Searching For Richard B Marx                                    13\n",
      "Searching For Dirty South                                       10\n",
      "Searching For Malcolm Middleton                                 14\n",
      "Searching For Johnny Paycheck                                   15\n",
      "Searching For David Bisbal                                      2\n",
      "Searching For Subway to Sally                                   15\n",
      "Searching For New Model Army                                    13\n",
      "Searching For Digital Underground                               7\n",
      "Searching For Deetron                                           15\n",
      "Searching For Agnostic Front                                    13\n",
      "Searching For Breaking Benjamin                                 13\n",
      "Searching For Asphyx                                            19\n",
      "Searching For The Stranglers                                    18\n",
      "Searching For The Kooks                                         30\n",
      "Searching For Big Sean                                          27\n",
      "Searching For Billy Ray Cyrus                                   15\n",
      "Searching For Black Flag                                        22\n",
      "Searching For O.S.T.R.                                          30\n",
      "Searching For Guster                                            24\n",
      "Searching For Steve Forbert                                     26\n",
      "Searching For Birth Control                                     15\n",
      "Searching For Laibach                                           15\n",
      "Searching For Lee Hazlewood                                     20\n",
      " [Getting Beatport ArtistIDs] | 500/?      : RunTime 53 Minute and 23 Second.\n",
      "*****************************************************************************************************************************\n",
      "*                                                    Saving SearchArtist                                                    *\n",
      "*****************************************************************************************************************************\n",
      "  Saving Index [1960] ... Done\n",
      "  Saving Data [533] ... Done\n",
      "  Saving Error [0] ... Done\n"
     ]
    },
    {
     "data": {
      "application/vnd.jupyter.widget-view+json": {
       "model_id": "96bb525c5cc349958afb3764cf91c9ee",
       "version_major": 2,
       "version_minor": 0
      },
      "text/plain": [
       "Waiting:   0%|          | 0/150 [00:00<?, ?it/s]"
      ]
     },
     "metadata": {},
     "output_type": "display_data"
    },
    {
     "name": "stdout",
     "output_type": "stream",
     "text": [
      "Searching For Tina Arena                                        1\n",
      "Searching For Don Omar                                          16\n",
      "Searching For Rudimental                                        10\n",
      "Searching For Ghost                                             24\n",
      "Searching For Kylie Minogue                                     6\n",
      "Searching For Mozzy                                             20\n",
      "Searching For DJ Hell                                           22\n",
      "Searching For Nana Mouskouri                                    12\n",
      "Searching For Jazzanova                                         11\n",
      "Searching For Boards of Canada                                  2\n",
      "Searching For Gojira                                            27\n",
      "Searching For The Thermals                                      13\n",
      "Searching For Robyn Hitchcock                                   2\n",
      "Searching For León Gieco                                       23\n",
      "Searching For Tina Dico                                         12\n",
      "Searching For Donald Byrd                                       8\n",
      "Searching For Artillery                                         16\n",
      "Searching For Rustie                                            17\n",
      "Searching For Gianni Morandi                                    3\n",
      "Searching For Pat Boone                                         12\n",
      "Searching For Ryan Adams                                        5\n",
      "Searching For Steve Bug                                         15\n",
      "Searching For All Time Low                                      11\n",
      "Searching For Aleksi Perälä                                   1\n",
      "Searching For Rick Astley                                       8\n",
      " [Getting Beatport ArtistIDs] | 525/?      : RunTime 56 Minute and 4 Second.\n",
      "*****************************************************************************************************************************\n",
      "*                                                    Saving SearchArtist                                                    *\n",
      "*****************************************************************************************************************************\n",
      "  Saving Index [1985] ... Done\n",
      "  Saving Data [558] ... Done\n",
      "  Saving Error [0] ... Done\n"
     ]
    },
    {
     "data": {
      "application/vnd.jupyter.widget-view+json": {
       "model_id": "5b84f2d4a33a44b9b0337648db421127",
       "version_major": 2,
       "version_minor": 0
      },
      "text/plain": [
       "Waiting:   0%|          | 0/150 [00:00<?, ?it/s]"
      ]
     },
     "metadata": {},
     "output_type": "display_data"
    },
    {
     "name": "stdout",
     "output_type": "stream",
     "text": [
      "Searching For Jack Bruce                                        8\n",
      "Searching For Nerina Pallot                                     6\n",
      "Searching For Breakage                                          16\n",
      "Searching For Joseph Arthur                                     17\n",
      "Searching For Sade                                              15\n",
      "Searching For Los Suaves                                        7\n",
      "Searching For Melissa Etheridge                                 22\n",
      "Searching For Santana                                           30\n",
      "Searching For Gloria Trevi                                      18\n",
      "Searching For Wes Montgomery                                    16\n",
      "Searching For Billy Idol                                        15\n",
      "Searching For Alicia Keys                                       6\n",
      "Searching For Peter Maffay                                      17\n",
      "Searching For Wink                                              25\n",
      "Searching For Mia Martini                                       18\n",
      "Searching For Sleeping With Sirens                              6\n",
      "Searching For Marty Robbins                                     6\n",
      "Searching For HEALTH                                            30\n",
      "Searching For Arms and Sleepers                                 1\n",
      "Searching For Steve Lacy                                        29\n",
      "Searching For Rose Royce                                        8\n",
      "Searching For Austra                                            15\n",
      "Searching For Insomnium                                         14\n",
      "Searching For Leon Russell                                      20\n",
      "Searching For Jacques Higelin                                   11\n",
      " [Getting Beatport ArtistIDs] | 550/?      : RunTime 58 Minute and 41 Second.\n",
      "*****************************************************************************************************************************\n",
      "*                                                    Saving SearchArtist                                                    *\n",
      "*****************************************************************************************************************************\n",
      "  Saving Index [2010] ... Done\n",
      "  Saving Data [583] ... Done\n",
      "  Saving Error [0] ... Done\n"
     ]
    },
    {
     "data": {
      "application/vnd.jupyter.widget-view+json": {
       "model_id": "99772b9f62b94504bc9c541803732a6f",
       "version_major": 2,
       "version_minor": 0
      },
      "text/plain": [
       "Waiting:   0%|          | 0/150 [00:00<?, ?it/s]"
      ]
     },
     "metadata": {},
     "output_type": "display_data"
    },
    {
     "name": "stdout",
     "output_type": "stream",
     "text": [
      "Searching For John Frusciante                                   1\n",
      "Searching For Erasmo Carlos                                     10\n",
      "Searching For Lemaitre                                          4\n",
      "Searching For Dexter Gordon                                     8\n",
      "Searching For Boy George                                        12\n",
      "Searching For David Sylvian                                     16\n",
      "Searching For Jordan Rudess                                     2\n",
      "Searching For The Lucksmiths                                    6\n",
      "Searching For Rival Consoles                                    2\n",
      "Searching For AlexisOnFire                                      0\n",
      "Searching For Joe Bonamassa                                     8\n",
      "Searching For Pyogenesis                                        18\n",
      "Searching For T.I.                                              19\n",
      "Searching For The Rapture                                       24\n",
      "Searching For The Chieftains                                    9\n",
      "Searching For Jeannie C. Riley                                  4\n",
      "Searching For Ane Brun                                          4\n",
      "Searching For The Field                                         12\n",
      "Searching For Taio Cruz                                         20\n",
      "Searching For Incubus                                           21\n",
      "Searching For Utada Hikaru                                      8\n",
      "Searching For Too $hort                                         4\n",
      "Searching For Testament                                         11\n",
      "Searching For CunninLynguists                                   2\n",
      "Searching For Kamelot                                           26\n",
      " [Getting Beatport ArtistIDs] | 575/?      : RunTime 1 Hour and 1 Minute.\n",
      "*****************************************************************************************************************************\n",
      "*                                                    Saving SearchArtist                                                    *\n",
      "*****************************************************************************************************************************\n",
      "  Saving Index [2035] ... Done\n",
      "  Saving Data [608] ... Done\n",
      "  Saving Error [0] ... Done\n"
     ]
    },
    {
     "data": {
      "application/vnd.jupyter.widget-view+json": {
       "model_id": "99ede0a817cb44f78c36a2d0b4f8a237",
       "version_major": 2,
       "version_minor": 0
      },
      "text/plain": [
       "Waiting:   0%|          | 0/150 [00:00<?, ?it/s]"
      ]
     },
     "metadata": {},
     "output_type": "display_data"
    },
    {
     "name": "stdout",
     "output_type": "stream",
     "text": [
      "Searching For the GazettE                                       12\n",
      "Searching For Joe Hisaishi                                      8\n",
      "Searching For Taake                                             22\n",
      "Searching For Marvin Gaye                                       11\n",
      "Searching For Guilherme Arantes                                 8\n",
      "Searching For Aretha Franklin                                   4\n",
      "Searching For Chet Atkins                                       14\n",
      "Searching For Stereo Total                                      2\n",
      "Searching For Peabo Bryson                                      1\n",
      "Searching For Alcatrazz                                         11\n",
      "Searching For Escape The Fate                                   11\n",
      "Searching For IAM                                               18\n",
      "Searching For Peter Björn And John                             19\n",
      "Searching For Tankcsapda                                        0\n",
      "Searching For Mark Knopfler                                     1\n",
      "Searching For Son Lux                                           23\n",
      "Searching For DJ Fresh                                          26\n",
      "Searching For Cradle Of Filth                                   12\n",
      "Searching For Katatonia                                         20\n",
      "Searching For Nicky Jam                                         25\n",
      "Searching For Liza Minnelli                                     13\n",
      "Searching For Bryan Ferry                                       5\n",
      "Searching For Sizzla                                            25\n",
      "Searching For Steely Dan                                        8\n",
      "Searching For Hammock                                           18\n",
      " [Getting Beatport ArtistIDs] | 600/?      : RunTime 1 Hour and 4 Minute.\n",
      "*****************************************************************************************************************************\n",
      "*                                                    Saving SearchArtist                                                    *\n",
      "*****************************************************************************************************************************\n",
      "  Saving Index [2060] ... Done\n",
      "  Saving Data [633] ... Done\n",
      "  Saving Error [0] ... Done\n"
     ]
    },
    {
     "data": {
      "application/vnd.jupyter.widget-view+json": {
       "model_id": "3b3803fe13f54ed7924b6d7374a41566",
       "version_major": 2,
       "version_minor": 0
      },
      "text/plain": [
       "Waiting:   0%|          | 0/150 [00:00<?, ?it/s]"
      ]
     },
     "metadata": {},
     "output_type": "display_data"
    },
    {
     "name": "stdout",
     "output_type": "stream",
     "text": [
      "Searching For In This Moment                                    15\n",
      "Searching For Alabama 3                                         5\n",
      "Searching For Josh Rouse                                        19\n",
      "Searching For Ashanti                                           26\n",
      "Searching For Anix                                              20\n",
      "Searching For Aimee Mann                                        7\n",
      "Searching For Dinosaur Jr.                                      19\n",
      "Searching For Trace Adkins                                      1\n",
      "Searching For The Monkees                                       18\n",
      "Searching For Blue Stahli                                       3\n",
      "Searching For Thanatos                                          24\n",
      "Searching For Trey Songz                                        13\n",
      "Searching For Phish                                             12\n",
      "Searching For John Grant                                        21\n",
      "Searching For Ensiferum                                         1\n",
      "Searching For Fafá de Belém                                   15\n",
      "Searching For SebastiAn                                         28\n",
      "Searching For Nouvelle Vague                                    14\n",
      "Searching For The Acacia Strain                                 17\n",
      "Searching For Government Issue                                  11\n",
      "Searching For Radiohead                                         9\n",
      "Searching For Kronos Quartet                                    10\n",
      "Searching For Cage                                              24\n",
      "Searching For Mujuice                                           4\n",
      "Searching For UVERworld                                         15\n",
      " [Getting Beatport ArtistIDs] | 625/?      : RunTime 1 Hour and 6 Minute.\n",
      "*****************************************************************************************************************************\n",
      "*                                                    Saving SearchArtist                                                    *\n",
      "*****************************************************************************************************************************\n",
      "  Saving Index [2085] ... Done\n",
      "  Saving Data [658] ... Done\n",
      "  Saving Error [0] ... Done\n"
     ]
    },
    {
     "data": {
      "application/vnd.jupyter.widget-view+json": {
       "model_id": "55255604a061461a9e2f0e39431c8286",
       "version_major": 2,
       "version_minor": 0
      },
      "text/plain": [
       "Waiting:   0%|          | 0/150 [00:00<?, ?it/s]"
      ]
     },
     "metadata": {},
     "output_type": "display_data"
    },
    {
     "name": "stdout",
     "output_type": "stream",
     "text": [
      "Searching For Florent Pagny                                     3\n",
      "Searching For Tony Joe White                                    6\n",
      "Searching For Rockets                                           17\n",
      "Searching For Type O Negative                                   13\n",
      "Searching For The Pretty Things                                 14\n",
      "Searching For Bastille                                          33\n",
      "Searching For Dinah Washington                                  13\n",
      "Searching For Tracy Lawrence                                    6\n",
      "Searching For Frankie Knuckles                                  6\n",
      "Searching For Paul Simon                                        15\n",
      "Searching For Paco de Lucía                                    10\n",
      "Searching For Bloc Party                                        11\n",
      "Searching For Matmos                                            15\n",
      "Searching For Rick Wakeman                                      5\n",
      "Searching For D.O.A. (2)                                        17\n",
      "Searching For Keith Sweat                                       5\n",
      "Searching For The Dears                                         29\n",
      "Searching For Daddy Yankee                                      9\n",
      "Searching For Amorphis                                          17\n",
      "Searching For Emmanuel                                          32\n",
      "Searching For Atomic Rooster                                    7\n",
      "Searching For Lacrimas Profundere                               12\n",
      "Searching For Damian Marley                                     13\n",
      "Searching For Labrinth                                          12\n",
      "Searching For Troye Sivan                                       6\n",
      " [Getting Beatport ArtistIDs] | 650/?      : RunTime 1 Hour and 9 Minute.\n",
      "*****************************************************************************************************************************\n",
      "*                                                    Saving SearchArtist                                                    *\n",
      "*****************************************************************************************************************************\n",
      "  Saving Index [2110] ... Done\n",
      "  Saving Data [683] ... Done\n",
      "  Saving Error [0] ... Done\n"
     ]
    },
    {
     "data": {
      "application/vnd.jupyter.widget-view+json": {
       "model_id": "643c043161124a32a468a260094165bd",
       "version_major": 2,
       "version_minor": 0
      },
      "text/plain": [
       "Waiting:   0%|          | 0/150 [00:00<?, ?it/s]"
      ]
     },
     "metadata": {},
     "output_type": "display_data"
    },
    {
     "name": "stdout",
     "output_type": "stream",
     "text": [
      "Searching For UNKLE                                             12\n",
      "Searching For Enzo Jannacci                                     18\n",
      "Searching For Bobby Vinton                                      5\n",
      "Searching For Fiorella Mannoia                                  7\n",
      "Searching For Brad Mehldau                                      11\n",
      "Searching For Alain Souchon                                     4\n",
      "Searching For Per Gessle                                        13\n",
      "Searching For Ed Sheeran                                        14\n",
      "Searching For Liquid Stranger                                   5\n",
      "Searching For All That Remains                                  14\n",
      "Searching For Dropkick Murphys                                  7\n",
      "Searching For Sammy Davis Jr.                                   15\n",
      "Searching For Horna                                             23\n",
      "Searching For Carmen Consoli                                    18\n",
      "Searching For João Gilberto                                    15\n",
      "Searching For Wayne Shorter                                     14\n",
      "Searching For Elvin Jones                                       20\n",
      "Searching For Cutty Ranks                                       7\n",
      "Searching For Foreigner                                         20\n",
      "Searching For Diary Of Dreams                                   7\n",
      "Searching For Gong                                              15\n",
      "Searching For The Kingston Trio                                 17\n",
      "Searching For Ginuwine                                          4\n",
      "Searching For Frank Turner                                      7\n",
      "Searching For My Chemical Romance                               15\n",
      " [Getting Beatport ArtistIDs] | 675/?      : RunTime 1 Hour and 11 Minute.\n",
      "*****************************************************************************************************************************\n",
      "*                                                    Saving SearchArtist                                                    *\n",
      "*****************************************************************************************************************************\n",
      "  Saving Index [2135] ... Done\n",
      "  Saving Data [708] ... Done\n",
      "  Saving Error [0] ... Done\n"
     ]
    },
    {
     "data": {
      "application/vnd.jupyter.widget-view+json": {
       "model_id": "9f1ca64348ec4fc1baa41f7a9ad20421",
       "version_major": 2,
       "version_minor": 0
      },
      "text/plain": [
       "Waiting:   0%|          | 0/150 [00:00<?, ?it/s]"
      ]
     },
     "metadata": {},
     "output_type": "display_data"
    },
    {
     "name": "stdout",
     "output_type": "stream",
     "text": [
      "Searching For Peter Tosh                                        12\n",
      "Searching For Marlena Shaw                                      5\n",
      "Searching For Case                                              20\n",
      "Searching For Maserati                                          19\n",
      "Searching For J. Cole                                           16\n",
      "Searching For Tiny Tim                                          18\n",
      "Searching For Billy Squier                                      15\n",
      "Searching For Dominique A                                       7\n",
      "Searching For Pop Will Eat Itself                               10\n",
      "Searching For Brian Wilson                                      17\n",
      "Searching For Heaven Shall Burn                                 15\n",
      "Searching For Odetta                                            31\n",
      "Searching For CONFLICT                                          21\n",
      "Searching For Arrested Development                              1\n",
      "Searching For Pino Daniele                                      7\n",
      "Searching For Lorn                                              15\n",
      "Searching For Kendrick Lamar                                    3\n",
      "Searching For Christophe                                        10\n",
      "Searching For David Byrne                                       8\n",
      "Searching For Flight Facilities                                 2\n",
      "Searching For Westlife                                          13\n",
      "Searching For Unsane                                            19\n",
      "Searching For Clarence Carter                                   2\n",
      "Searching For Stanton Warriors                                  1\n",
      "Searching For Randy Crawford                                    8\n",
      " [Getting Beatport ArtistIDs] | 700/?      : RunTime 1 Hour and 14 Minute.\n",
      "*****************************************************************************************************************************\n",
      "*                                                    Saving SearchArtist                                                    *\n",
      "*****************************************************************************************************************************\n",
      "  Saving Index [2160] ... Done\n",
      "  Saving Data [733] ... Done\n",
      "  Saving Error [0] ... Done\n"
     ]
    },
    {
     "data": {
      "application/vnd.jupyter.widget-view+json": {
       "model_id": "b25f30c2b50e494494eb1c6f22d17c59",
       "version_major": 2,
       "version_minor": 0
      },
      "text/plain": [
       "Waiting:   0%|          | 0/150 [00:00<?, ?it/s]"
      ]
     },
     "metadata": {},
     "output_type": "display_data"
    },
    {
     "name": "stdout",
     "output_type": "stream",
     "text": [
      "Searching For Brad Paisley                                      13\n",
      "Searching For HIM                                               31\n",
      "Searching For Travis Tritt                                      10\n",
      "Searching For The Decemberists                                  13\n",
      "Searching For Enigma                                            33\n",
      "Searching For Backyard Babies                                   1\n",
      "Searching For Luther Vandross                                   3\n",
      "Searching For Camo & Krooked                                    6\n",
      "Searching For Bob Sinclar                                       7\n",
      "Searching For Super Furry Animals                               5\n",
      "Searching For Abdullah Ibrahim                                  15\n",
      "Searching For Whitney Houston                                   2\n",
      "Searching For Carrie Underwood                                  14\n",
      "Searching For Charlie Wilson                                    5\n",
      "Searching For The Horrors                                       7\n",
      "Searching For Bobby Womack                                      3\n",
      "Searching For Lycia                                             22\n",
      "Searching For Samiam                                            23\n",
      "Searching For Panda Bear                                        10\n",
      "Searching For Chaka Khan                                        10\n",
      "Searching For K3 (2)                                            13\n",
      "Searching For Gloria Gaynor                                     4\n",
      "Searching For Laurent Garnier                                   2\n",
      "Searching For Hot Chocolate                                     4\n",
      "Searching For Midnight Oil                                      17\n",
      " [Getting Beatport ArtistIDs] | 725/?      : RunTime 1 Hour and 17 Minute.\n",
      "*****************************************************************************************************************************\n",
      "*                                                    Saving SearchArtist                                                    *\n",
      "*****************************************************************************************************************************\n",
      "  Saving Index [2185] ... Done\n",
      "  Saving Data [758] ... Done\n",
      "  Saving Error [0] ... Done\n"
     ]
    },
    {
     "data": {
      "application/vnd.jupyter.widget-view+json": {
       "model_id": "d31da33e249b4654988703a01c3bcd90",
       "version_major": 2,
       "version_minor": 0
      },
      "text/plain": [
       "Waiting:   0%|          | 0/150 [00:00<?, ?it/s]"
      ]
     },
     "metadata": {},
     "output_type": "display_data"
    },
    {
     "name": "stdout",
     "output_type": "stream",
     "text": [
      "Searching For Psychic TV                                        14\n",
      "Searching For Igor Stravinsky                                   14\n",
      "Searching For Candi Staton                                      5\n",
      "Searching For Turin Brakes                                      9\n",
      "Searching For The Byrds                                         26\n",
      "Searching For Memphis Slim                                      4\n",
      "Searching For Sebadoh                                           10\n",
      "Searching For Herbie Mann                                       20\n",
      "Searching For Fugazi                                            34\n",
      "Searching For GZA                                               32\n",
      "Searching For The Tiger Lillies                                 12\n",
      "Searching For Killah Priest                                     4\n",
      "Searching For Ofra Haza                                         11\n",
      "Searching For Natalia LaFourcade                                1\n",
      "Searching For Mastodon                                          16\n",
      "Searching For Greyson Chance                                    2\n",
      "Searching For Air Supply                                        11\n",
      "Searching For Mumford & Sons                                    14\n",
      "Searching For Mando Diao                                        8\n",
      "Searching For The Pack A.D.                                     6\n",
      "Searching For Vampire Weekend                                   1\n",
      "Searching For Pennywise                                         16\n",
      "Searching For Charlotte Gainsbourg                              4\n",
      "Searching For Robert Pollard                                    16\n",
      "Searching For The Pillows                                       7\n",
      " [Getting Beatport ArtistIDs] | 750/?      : RunTime 1 Hour and 19 Minute.\n",
      "*****************************************************************************************************************************\n",
      "*                                                    Saving SearchArtist                                                    *\n",
      "*****************************************************************************************************************************\n",
      "  Saving Index [2210] ... Done\n",
      "  Saving Data [783] ... Done\n",
      "  Saving Error [0] ... Done\n"
     ]
    },
    {
     "data": {
      "application/vnd.jupyter.widget-view+json": {
       "model_id": "1ac62bd2c3044d16b0d335688f6991bc",
       "version_major": 2,
       "version_minor": 0
      },
      "text/plain": [
       "Waiting:   0%|          | 0/150 [00:00<?, ?it/s]"
      ]
     },
     "metadata": {},
     "output_type": "display_data"
    },
    {
     "name": "stdout",
     "output_type": "stream",
     "text": [
      "Searching For Oliver Koletzki                                   5\n",
      "Searching For Martinho da Vila                                  3\n",
      "Searching For Piero Umiliani                                    11\n",
      "Searching For Little Dragon                                     7\n",
      "Searching For Suicide                                           21\n",
      "Searching For Shalamar                                          7\n",
      "Searching For Renaissance                                       19\n",
      "Searching For The Cassandra Complex                             11\n",
      "Searching For Ricardo Montaner                                  12\n",
      "Searching For Gusgus                                            17\n",
      "Searching For The Mission                                       11\n",
      "Searching For Laura Marling                                     18\n",
      "Searching For Jerry Reed                                        10\n",
      "Searching For Galahad                                           15\n",
      "Searching For Camouflage                                        6\n",
      "Searching For Francis Cabrel                                    18\n",
      "Searching For Ween                                              20\n",
      "Searching For Canadian Squires                                  17\n",
      "Searching For Ewan MacColl                                      6\n",
      "Searching For Ying Yang Twins                                   3\n",
      "Searching For Pitty                                             28\n",
      "Searching For Demon Hunter                                      16\n",
      "Searching For Benjamin Biolay                                   12\n",
      "Searching For Nirvana                                           38\n",
      "Searching For Ace Frehley                                       12\n",
      " [Getting Beatport ArtistIDs] | 775/?      : RunTime 1 Hour and 22 Minute.\n",
      "*****************************************************************************************************************************\n",
      "*                                                    Saving SearchArtist                                                    *\n",
      "*****************************************************************************************************************************\n",
      "  Saving Index [2235] ... Done\n",
      "  Saving Data [808] ... Done\n",
      "  Saving Error [0] ... Done\n"
     ]
    },
    {
     "data": {
      "application/vnd.jupyter.widget-view+json": {
       "model_id": "3ab9ab64157742c089f0babf2a5f9ccb",
       "version_major": 2,
       "version_minor": 0
      },
      "text/plain": [
       "Waiting:   0%|          | 0/150 [00:00<?, ?it/s]"
      ]
     },
     "metadata": {},
     "output_type": "display_data"
    },
    {
     "name": "stdout",
     "output_type": "stream",
     "text": [
      "Searching For Eddie Money                                       16\n",
      "Searching For Parov Stelar                                      3\n",
      "Searching For Amerie                                            15\n",
      "Searching For Skunk Anansie                                     7\n",
      "Searching For Orleans                                           21\n",
      "Searching For Luke Bryan                                        11\n",
      "Searching For Alice In Chains                                   14\n",
      "Searching For Mustasch                                          18\n",
      "Searching For The Devil Wears Prada                             22\n",
      "Searching For Christina Aguilera                                1\n",
      "Searching For Simple Minds                                      14\n",
      "Searching For Grant Green                                       8\n",
      "Searching For Milt Jackson                                      18\n",
      "Searching For Solarstone                                        9\n",
      "Searching For Rachael Yamagata                                  14\n",
      "Searching For Sadat X                                           13\n",
      "Searching For Ten Years After                                   11\n",
      "Searching For Moodymann                                         13\n",
      "Searching For Nipsey Hussle                                     6\n",
      "Searching For Amp Fiddler                                       11\n",
      "Searching For Danzig                                            15\n",
      "Searching For Jonas Brothers                                    10\n",
      "Searching For Lee Ritenour                                      20\n",
      "Searching For Periphery                                         21\n",
      "Searching For Modern Talking                                    14\n",
      " [Getting Beatport ArtistIDs] | 800/?      : RunTime 1 Hour and 25 Minute.\n",
      "*****************************************************************************************************************************\n",
      "*                                                    Saving SearchArtist                                                    *\n",
      "*****************************************************************************************************************************\n",
      "  Saving Index [2260] ... Done\n",
      "  Saving Data [833] ... Done\n",
      "  Saving Error [0] ... Done\n"
     ]
    },
    {
     "data": {
      "application/vnd.jupyter.widget-view+json": {
       "model_id": "a230dda2823e471680777a5864be8cad",
       "version_major": 2,
       "version_minor": 0
      },
      "text/plain": [
       "Waiting:   0%|          | 0/150 [00:00<?, ?it/s]"
      ]
     },
     "metadata": {},
     "output_type": "display_data"
    },
    {
     "name": "stdout",
     "output_type": "stream",
     "text": [
      "Searching For Piano Magic                                       2\n",
      "Searching For The Stooges                                       5\n",
      "Searching For Marsheaux                                         3\n",
      "Searching For Pallas                                            17\n",
      "Searching For Sarah McLachlan                                   9\n",
      "Searching For Chamillionaire                                    2\n",
      "Searching For The Human League                                  5\n",
      "Searching For La Oreja de Van Gogh                              3\n",
      "Searching For Mike Watt                                         21\n",
      "Searching For Balthazar                                         23\n",
      "Searching For Com Truise                                        3\n",
      "Searching For Dave Edmunds                                      14\n",
      "Searching For Sezen Aksu                                        6\n",
      "Searching For Kate Rusby                                        12\n",
      "Searching For Jars Of Clay                                      5\n",
      "Searching For Titus Andronicus                                  1\n",
      "Searching For Septicflesh                                       0\n",
      "Searching For Ben E. King                                       1\n",
      "Searching For Meiko                                             18\n",
      "Searching For Cannonball Adderley                               8\n",
      "Searching For Rick Springfield                                  15\n",
      "Searching For Wolfe Tones                                       15\n",
      "Searching For UB40                                              1\n",
      "Searching For Autoramas                                         7\n",
      "Searching For Golden Earring                                    5\n",
      " [Getting Beatport ArtistIDs] | 825/?      : RunTime 1 Hour and 27 Minute.\n",
      "*****************************************************************************************************************************\n",
      "*                                                    Saving SearchArtist                                                    *\n",
      "*****************************************************************************************************************************\n",
      "  Saving Index [2285] ... Done\n",
      "  Saving Data [858] ... Done\n",
      "  Saving Error [0] ... Done\n"
     ]
    },
    {
     "data": {
      "application/vnd.jupyter.widget-view+json": {
       "model_id": "3a0197c60718430587a406c636899da0",
       "version_major": 2,
       "version_minor": 0
      },
      "text/plain": [
       "Waiting:   0%|          | 0/150 [00:00<?, ?it/s]"
      ]
     },
     "metadata": {},
     "output_type": "display_data"
    },
    {
     "name": "stdout",
     "output_type": "stream",
     "text": [
      "Searching For Ian Hunter                                        21\n",
      "Searching For Riuichi Sakamoto                                  2\n",
      "Searching For Conforce                                          15\n",
      "Searching For Peter Hammill                                     16\n",
      "Searching For Andrew Bayer                                      10\n",
      "Searching For Zedd                                              28\n",
      "Searching For Spiritualized?                                    13\n",
      "Searching For Funkadelic                                        19\n",
      "Searching For Archers of Loaf                                   10\n",
      "Searching For Tim Burgess                                       17\n",
      "Searching For Buddy Rich                                        22\n",
      "Searching For Train (2)                                         11\n",
      "Searching For Brotha Lynch Hung                                 14\n",
      "Searching For Hank Williams                                     25\n",
      "Searching For James Newton Howard                               2\n",
      "Searching For The Smiths                                        17\n",
      "Searching For José James                                       20\n",
      "Searching For Blind Guardian                                    13\n",
      "Searching For Horace Silver                                     13\n",
      "Searching For Pedro Aznar                                       9\n",
      "Searching For Running Wild                                      19\n",
      "Searching For Floating Points                                   4\n",
      "Searching For Booka Shade                                       2\n",
      "Searching For Sara Bareilles                                    3\n",
      "Searching For Eyeless in Gaza                                   16\n",
      " [Getting Beatport ArtistIDs] | 850/?      : RunTime 1 Hour and 30 Minute.\n",
      "*****************************************************************************************************************************\n",
      "*                                                    Saving SearchArtist                                                    *\n",
      "*****************************************************************************************************************************\n",
      "  Saving Index [2310] ... Done\n",
      "  Saving Data [883] ... Done\n",
      "  Saving Error [0] ... Done\n"
     ]
    },
    {
     "data": {
      "application/vnd.jupyter.widget-view+json": {
       "model_id": "619984411cb343f8ac67ecc058ab7a76",
       "version_major": 2,
       "version_minor": 0
      },
      "text/plain": [
       "Waiting:   0%|          | 0/150 [00:00<?, ?it/s]"
      ]
     },
     "metadata": {},
     "output_type": "display_data"
    },
    {
     "name": "stdout",
     "output_type": "stream",
     "text": [
      "Searching For The Smithereens                                   7\n",
      "Searching For Apocalyptica                                      15\n",
      "Searching For Planetary Assault Systems                         2\n",
      "Searching For Nile Rodgers                                      13\n",
      "Searching For Elio E Le Storie Tes                              19\n",
      "Searching For Rory Gallagher                                    2\n",
      "Searching For Foals                                             9\n",
      "Searching For Al Hirt                                           9\n",
      "Searching For Bette Midler                                      14\n",
      "Searching For Cloud Nothings                                    12\n",
      "Searching For Okkervil River                                    13\n",
      "Searching For Harry Connick Jr.                                 10\n",
      "Searching For Ariel Pink                                        4\n",
      "Searching For Kampfar                                           20\n",
      "Searching For Bobby Bare                                        21\n",
      "Searching For Johnny Thunders                                   14\n",
      "Searching For Volbeat                                           28\n",
      "Searching For Spice 1                                           16\n",
      "Searching For Gesaffelstein                                     4\n",
      "Searching For Chris Young                                       23\n",
      "Searching For Gramatik                                          15\n",
      "Searching For Iann Dior                                         17\n",
      "Searching For MGMT                                              13\n",
      "Searching For Fakear                                            17\n",
      "Searching For Röyksopp                                         11\n",
      " [Getting Beatport ArtistIDs] | 875/?      : RunTime 1 Hour and 33 Minute.\n",
      "*****************************************************************************************************************************\n",
      "*                                                    Saving SearchArtist                                                    *\n",
      "*****************************************************************************************************************************\n",
      "  Saving Index [2335] ... Done\n",
      "  Saving Data [908] ... Done\n",
      "  Saving Error [0] ... Done\n"
     ]
    },
    {
     "data": {
      "application/vnd.jupyter.widget-view+json": {
       "model_id": "69de934d0fb241e88059891ece70c081",
       "version_major": 2,
       "version_minor": 0
      },
      "text/plain": [
       "Waiting:   0%|          | 0/150 [00:00<?, ?it/s]"
      ]
     },
     "metadata": {},
     "output_type": "display_data"
    },
    {
     "name": "stdout",
     "output_type": "stream",
     "text": [
      "Searching For Sham 69                                           19\n",
      "Searching For Rihanna                                           26\n",
      "Searching For Josh Groban                                       14\n",
      "Searching For Falco                                             27\n",
      "Searching For Danny L Harle                                     5\n",
      "Searching For Gruff Rhys                                        18\n",
      "Searching For Axwell                                            17\n",
      "Searching For Virus Syndicate                                   11\n",
      "Searching For Joakim                                            16\n",
      "Searching For Anthony Hamilton                                  3\n",
      "Searching For Aesthetic Perfection                              3\n",
      "Searching For Red Jumpsuit Apparatus                            4\n",
      "Searching For Feist                                             19\n",
      "Searching For Ed Motta                                          11\n",
      "Searching For Sylvie Vartan                                     17\n",
      "Searching For CMX                                               27\n",
      "Searching For Ani DiFranco                                      4\n",
      "Searching For Inner Circle                                      17\n",
      "Searching For Dashboard Confessional                            15\n",
      "Searching For Carlos Vives                                      18\n",
      "Searching For Mose Allison                                      13\n",
      "Searching For Michael Hurley                                    15\n",
      "Searching For Trisha Yearwood                                   10\n",
      "Searching For Vitalic                                           19\n",
      "Searching For Jimmy Dean                                        7\n",
      " [Getting Beatport ArtistIDs] | 900/?      : RunTime 1 Hour and 35 Minute.\n",
      "*****************************************************************************************************************************\n",
      "*                                                    Saving SearchArtist                                                    *\n",
      "*****************************************************************************************************************************\n",
      "  Saving Index [2360] ... Done\n",
      "  Saving Data [933] ... Done\n",
      "  Saving Error [0] ... Done\n"
     ]
    },
    {
     "data": {
      "application/vnd.jupyter.widget-view+json": {
       "model_id": "a8a6fde561ac427ca29d745b54aada2f",
       "version_major": 2,
       "version_minor": 0
      },
      "text/plain": [
       "Waiting:   0%|          | 0/150 [00:00<?, ?it/s]"
      ]
     },
     "metadata": {},
     "output_type": "display_data"
    },
    {
     "name": "stdout",
     "output_type": "stream",
     "text": [
      "Searching For Arlo Guthrie                                      9\n",
      "Searching For Emilíana Torrini                                 9\n",
      "Searching For Harold Budd                                       2\n",
      "Searching For Earl Sweatshirt                                   2\n",
      "Searching For Purity Ring                                       2\n",
      "Searching For Eric Benét                                       5\n",
      "Searching For Jerry Garcia                                      19\n",
      "Searching For Matthew Sweet                                     16\n",
      "Searching For Miranda!                                          29\n",
      "Searching For Tankard                                           29\n",
      "Searching For Caravan (6)                                       16\n",
      "Searching For Third Eye Blind                                   2\n",
      "Searching For Haken                                             32\n",
      "Searching For Nurse With Wound                                  4\n",
      "Searching For Bay City Rollers                                  9\n",
      "Searching For Rita Coolidge                                     12\n",
      "Searching For Hannah Peel                                       9\n",
      "Searching For InMe                                              16\n",
      "Searching For Coffins                                           26\n",
      "Searching For Claude Nougaro                                    14\n",
      "Searching For Farid Bang                                        6\n",
      "Searching For Tom Scott                                         25\n",
      "Searching For God is an Astronaut                               8\n",
      "Searching For Cal Tjader                                        11\n",
      "Searching For Gino Paoli                                        8\n",
      " [Getting Beatport ArtistIDs] | 925/?      : RunTime 1 Hour and 38 Minute.\n",
      "*****************************************************************************************************************************\n",
      "*                                                    Saving SearchArtist                                                    *\n",
      "*****************************************************************************************************************************\n",
      "  Saving Index [2385] ... Done\n",
      "  Saving Data [958] ... Done\n",
      "  Saving Error [0] ... Done\n"
     ]
    },
    {
     "data": {
      "application/vnd.jupyter.widget-view+json": {
       "model_id": "388a84087341457585b97142524497b7",
       "version_major": 2,
       "version_minor": 0
      },
      "text/plain": [
       "Waiting:   0%|          | 0/150 [00:00<?, ?it/s]"
      ]
     },
     "metadata": {},
     "output_type": "display_data"
    },
    {
     "name": "stdout",
     "output_type": "stream",
     "text": [
      "Searching For Richie Havens                                     16\n",
      "Searching For Cocteau Twins                                     1\n",
      "Searching For Stray From The Path                               6\n",
      "Searching For Alex Chilton                                      12\n",
      "Searching For Wyclef Jean                                       2\n",
      "Searching For Therapy?                                          23\n",
      "Searching For M83                                               1\n",
      "Searching For Britney Spears                                    2\n",
      "Searching For France Gall                                       11\n",
      "Searching For Sheena Easton                                     10\n",
      "Searching For The Twilight Sad                                  11\n",
      "Searching For Helen Reddy                                       10\n",
      "Searching For Common                                            16\n",
      "Searching For Dierks Bentley                                    13\n",
      "Searching For NRBQ                                              6\n",
      "Searching For Anne Murray                                       8\n",
      "Searching For Chromeo                                           16\n",
      "Searching For Sinister                                          30\n",
      "Searching For Spirit                                            25\n",
      "Searching For Ereb Altor                                        12\n",
      "Searching For Julian Cope                                       11\n",
      "Searching For HEATWAVE                                          19\n",
      "Searching For Fuck The Facts                                    15\n",
      "Searching For High On Fire                                      5\n",
      "Searching For Dionysos                                          18\n",
      " [Getting Beatport ArtistIDs] | 950/?      : RunTime 1 Hour and 41 Minute.\n",
      "*****************************************************************************************************************************\n",
      "*                                                    Saving SearchArtist                                                    *\n",
      "*****************************************************************************************************************************\n",
      "  Saving Index [2410] ... Done\n",
      "  Saving Data [983] ... Done\n",
      "  Saving Error [0] ... Done\n"
     ]
    },
    {
     "data": {
      "application/vnd.jupyter.widget-view+json": {
       "model_id": "f5913076102142ddb8d99d3f68c1b3ed",
       "version_major": 2,
       "version_minor": 0
      },
      "text/plain": [
       "Waiting:   0%|          | 0/150 [00:00<?, ?it/s]"
      ]
     },
     "metadata": {},
     "output_type": "display_data"
    },
    {
     "name": "stdout",
     "output_type": "stream",
     "text": [
      "Searching For David Sanborn                                     21\n",
      "Searching For Owen                                              17\n",
      "Searching For Shakra                                            22\n",
      "Searching For Julie London                                      14\n",
      "Searching For The Nits                                          26\n",
      "Searching For 2Pac                                              23\n",
      "Searching For Iron & Wine                                       10\n",
      "Searching For Trivium                                           29\n",
      "Searching For Lita Ford                                         16\n",
      "Searching For Nada Surf                                         15\n",
      "Searching For Terence Fixmer                                    3\n",
      "Searching For Steven Curtis Chapman                             10\n",
      "Searching For Bomb The Bass                                     6\n",
      "Searching For Das Ich                                           14\n",
      "Searching For Erykah Badu                                       11\n",
      "Searching For Monica                                            26\n",
      "Searching For Peter Brötzmann                                  17\n",
      "Searching For Jane Birkin                                       21\n",
      "Searching For Justin Bieber                                     12\n",
      "Searching For Woody Guthrie                                     13\n",
      "Searching For The Third Day                                     11\n",
      "Searching For Mott The Hoople                                   7\n",
      "Searching For Sonata Arctica                                    7\n",
      "Searching For A Perfect Circle                                  19\n",
      "Searching For Mount Eerie                                       10\n",
      " [Getting Beatport ArtistIDs] | 975/?      : RunTime 1 Hour and 43 Minute.\n",
      "*****************************************************************************************************************************\n",
      "*                                                    Saving SearchArtist                                                    *\n",
      "*****************************************************************************************************************************\n",
      "  Saving Index [2435] ... Done\n",
      "  Saving Data [1008] ... Done\n",
      "  Saving Error [0] ... Done\n"
     ]
    },
    {
     "data": {
      "application/vnd.jupyter.widget-view+json": {
       "model_id": "d14a124bf7a14e7caac7a6b92bf0220a",
       "version_major": 2,
       "version_minor": 0
      },
      "text/plain": [
       "Waiting:   0%|          | 0/150 [00:00<?, ?it/s]"
      ]
     },
     "metadata": {},
     "output_type": "display_data"
    },
    {
     "name": "stdout",
     "output_type": "stream",
     "text": [
      "Searching For Henry Kaiser                                      10\n",
      "Searching For We Are Scientists                                 13\n",
      "Searching For Chicago Symphony Orchestra                        9\n",
      "Searching For Kenny Burrell                                     12\n",
      "Searching For The Gap Band                                      6\n",
      "Searching For Showtek                                           17\n",
      "Searching For Blut Aus Nord                                     4\n",
      "Searching For Nico                                              27\n",
      "Searching For The Troggs                                        12\n",
      "Searching For Supergrass                                        14\n",
      "Searching For Spiderbait                                        10\n",
      "Searching For Emerson Lake & Palmer                             18\n",
      "Searching For Michael Calfan                                    5\n",
      "Searching For Gang Starr                                        2\n",
      "Searching For Thom Yorke                                        5\n",
      "Searching For Blood, Sweat & Tears                              9\n",
      "Searching For Hugh Masekela                                     10\n",
      "Searching For Yellowcard                                        13\n",
      "Searching For Lee Ranaldo                                       3\n",
      "Searching For DeWolff                                           16\n",
      "Searching For Mal Waldron                                       15\n",
      "Searching For Nelly Furtado                                     5\n",
      "Searching For Nils Lofgren                                      18\n",
      "Searching For Moonspell                                         16\n",
      "Searching For Alphaville                                        15\n",
      " [Getting Beatport ArtistIDs] | 1000/?     : RunTime 1 Hour and 46 Minute.\n",
      "*****************************************************************************************************************************\n",
      "*                                                    Saving SearchArtist                                                    *\n",
      "*****************************************************************************************************************************\n",
      "  Saving Index [2460] ... Done\n",
      "  Saving Data [1033] ... Done\n",
      "  Saving Error [0] ... Done\n"
     ]
    },
    {
     "data": {
      "application/vnd.jupyter.widget-view+json": {
       "model_id": "e938d225ba364d219eff35003a4a0122",
       "version_major": 2,
       "version_minor": 0
      },
      "text/plain": [
       "Waiting:   0%|          | 0/150 [00:00<?, ?it/s]"
      ]
     },
     "metadata": {},
     "output_type": "display_data"
    },
    {
     "name": "stdout",
     "output_type": "stream",
     "text": [
      "Searching For Touché Amoré                                    12\n",
      "Searching For Loreen                                            23\n",
      "Searching For Alizée                                           17\n",
      "Searching For MercyMe                                           18\n",
      "Searching For Badfinger                                         7\n",
      "Searching For Azymuth                                           11\n",
      "Searching For The Avett Brothers                                7\n",
      "Searching For Cold Chisel                                       10\n",
      "Searching For Blue Magic                                        2\n",
      "Searching For Regis                                             14\n",
      "Searching For Blues Traveler                                    6\n",
      "Searching For Joe Ely                                           30\n",
      "Searching For James McMurtry                                    19\n",
      "Searching For Zoot Woman                                        5\n",
      "Searching For The James Taylor Quartet                          2\n",
      "Searching For K's Choice                                        16\n",
      "Searching For DJ Koze                                           24\n",
      "Searching For Beans On Toast                                    12\n",
      "Searching For Acid Drinkers                                     14\n",
      "Searching For The Alchemist                                     17\n",
      "Searching For Ben Sidran                                        14\n",
      "Searching For Blue Cheer                                        13\n",
      "Searching For How To Dress Well                                 6\n",
      "Searching For The Alarm                                         18\n",
      "Searching For Allen Toussaint                                   8\n",
      " [Getting Beatport ArtistIDs] | 1025/?     : RunTime 1 Hour and 49 Minute.\n",
      "*****************************************************************************************************************************\n",
      "*                                                    Saving SearchArtist                                                    *\n",
      "*****************************************************************************************************************************\n",
      "  Saving Index [2485] ... Done\n",
      "  Saving Data [1058] ... Done\n",
      "  Saving Error [0] ... Done\n"
     ]
    },
    {
     "data": {
      "application/vnd.jupyter.widget-view+json": {
       "model_id": "872e088307ca4dedae6a0ce311fb735e",
       "version_major": 2,
       "version_minor": 0
      },
      "text/plain": [
       "Waiting:   0%|          | 0/150 [00:00<?, ?it/s]"
      ]
     },
     "metadata": {},
     "output_type": "display_data"
    },
    {
     "name": "stdout",
     "output_type": "stream",
     "text": [
      "Searching For Neon Trees                                        4\n",
      "Searching For Stereolab                                         14\n",
      "Searching For Apollo Brown                                      3\n",
      "Searching For Pestilence                                        17\n",
      "Searching For Frank Ocean                                       11\n",
      "Searching For Shelby Lynne                                      14\n",
      "Searching For Carla Thomas                                      13\n",
      "Searching For Travis                                            23\n",
      "Searching For Lena Horne                                        6\n",
      "Searching For Yukihiro Takahashi                                11\n",
      "Searching For Sam Smith (12)                                    5\n",
      "Searching For Matthew Dear                                      13\n",
      "Searching For Thomas Dolby                                      6\n",
      "Searching For DJ Food                                           16\n",
      "Searching For P.O.D.                                            29\n",
      "Searching For Omar S                                            16\n",
      "Searching For Luis Alberto Spinetta                             3\n",
      "Searching For Joan Of Arc                                       8\n",
      "Searching For Doc Watson                                        22\n",
      "Searching For Onyx                                              31\n",
      "Searching For Marina Lima                                       18\n",
      "Searching For Quintino                                          16\n",
      "Searching For Kristin Hersh                                     1\n",
      "Searching For Phaeleh                                           12\n",
      "Searching For Arnaud Rebotini                                   5\n",
      " [Getting Beatport ArtistIDs] | 1050/?     : RunTime 1 Hour and 51 Minute.\n",
      "*****************************************************************************************************************************\n",
      "*                                                    Saving SearchArtist                                                    *\n",
      "*****************************************************************************************************************************\n",
      "  Saving Index [2510] ... Done\n",
      "  Saving Data [1083] ... Done\n",
      "  Saving Error [0] ... Done\n"
     ]
    },
    {
     "data": {
      "application/vnd.jupyter.widget-view+json": {
       "model_id": "609ad98b7d13422081b5ca06ace7f1a7",
       "version_major": 2,
       "version_minor": 0
      },
      "text/plain": [
       "Waiting:   0%|          | 0/150 [00:00<?, ?it/s]"
      ]
     },
     "metadata": {},
     "output_type": "display_data"
    },
    {
     "name": "stdout",
     "output_type": "stream",
     "text": [
      "Searching For Plácido Domingo                                  2\n",
      "Searching For Joe                                               21\n",
      "Searching For Kasper Bjørke                                     4\n",
      "Searching For John Williams                                     11\n",
      "Searching For Rosemary Clooney                                  20\n",
      "Searching For Canibus                                           15\n",
      "Searching For Tom Robinson                                      20\n",
      "Searching For Attrition                                         17\n",
      "Searching For Secrets of the Moon                               9\n",
      "Searching For Luan Santana                                      19\n",
      "Searching For Born Ruffians                                     4\n",
      "Searching For Hot Water Music                                   14\n",
      "Searching For Jolin Tsai                                        7\n",
      "Searching For Old Man Gloom                                     12\n",
      "Searching For William Fitzsimmons                               15\n",
      "Searching For Tocotronic                                        20\n",
      "Searching For Nina Hagen                                        16\n",
      "Searching For The Tragically Hip                                13\n",
      "Searching For Neneh Cherry                                      5\n",
      "Searching For Savoy Brown                                       10\n",
      "Searching For Zebrahead                                         1\n",
      "Searching For Combichrist                                       2\n",
      "Searching For Tavares                                           15\n",
      "Searching For Billy Eckstine                                    14\n",
      "Searching For Zion Train                                        13\n",
      " [Getting Beatport ArtistIDs] | 1075/?     : RunTime 1 Hour and 54 Minute.\n",
      "*****************************************************************************************************************************\n",
      "*                                                    Saving SearchArtist                                                    *\n",
      "*****************************************************************************************************************************\n",
      "  Saving Index [2535] ... Done\n",
      "  Saving Data [1108] ... Done\n",
      "  Saving Error [0] ... Done\n"
     ]
    },
    {
     "data": {
      "application/vnd.jupyter.widget-view+json": {
       "model_id": "5de2a5409b1b414c814e269d5d5af345",
       "version_major": 2,
       "version_minor": 0
      },
      "text/plain": [
       "Waiting:   0%|          | 0/150 [00:00<?, ?it/s]"
      ]
     },
     "metadata": {},
     "output_type": "display_data"
    },
    {
     "name": "stdout",
     "output_type": "stream",
     "text": [
      "Searching For Devin Townsend                                    7\n",
      "Searching For Collin Raye                                       7\n",
      "Searching For Loudblast                                         11\n",
      "Searching For Key Glock                                         5\n",
      "Searching For Onra                                              15\n",
      "Searching For Helen Love                                        16\n",
      "Searching For Taylor Deupree                                    3\n",
      "Searching For Patty Loveless                                    3\n",
      "Searching For Zomby                                             15\n",
      "Searching For Marc E Bassy                                      10\n",
      "Searching For The Last Poets                                    3\n",
      "Searching For Duane Eddy                                        10\n",
      "Searching For Hauschka                                          6\n",
      "Searching For The Stanley Brothers                              16\n",
      "Searching For 1-2 Japanese                                      12\n",
      "Searching For Tim Buckley                                       5\n",
      "Searching For Evan Parker                                       10\n",
      "Searching For Baden Powell                                      11\n",
      "Searching For Freddie King                                      12\n",
      "Searching For Traxman                                           17\n",
      "Searching For Leftfield                                         17\n",
      "Searching For Ugress                                            15\n",
      "Searching For Alien Sex Fiend                                   15\n",
      "Searching For João Bosco                                       17\n",
      "Searching For Zazie                                             5\n",
      " [Getting Beatport ArtistIDs] | 1100/?     : RunTime 1 Hour and 57 Minute.\n",
      "*****************************************************************************************************************************\n",
      "*                                                    Saving SearchArtist                                                    *\n",
      "*****************************************************************************************************************************\n",
      "  Saving Index [2560] ... Done\n",
      "  Saving Data [1133] ... Done\n",
      "  Saving Error [0] ... Done\n"
     ]
    },
    {
     "data": {
      "application/vnd.jupyter.widget-view+json": {
       "model_id": "1952c4ee58f948fc9072364a7499c459",
       "version_major": 2,
       "version_minor": 0
      },
      "text/plain": [
       "Waiting:   0%|          | 0/150 [00:00<?, ?it/s]"
      ]
     },
     "metadata": {},
     "output_type": "display_data"
    },
    {
     "name": "stdout",
     "output_type": "stream",
     "text": [
      "Searching For Andreas Dorau                                     1\n",
      "Searching For Barclay James Harvest                             14\n",
      "Searching For The Trews                                         17\n",
      "Searching For Mystikal                                          19\n",
      "Searching For Mayer Hawthorne                                   8\n",
      "Searching For X                                                 13\n",
      "Searching For Noga Erez                                         3\n",
      "Searching For 1349                                              22\n",
      "Searching For This Will Destroy You                             12\n",
      "Searching For Sammy Kershaw                                     14\n",
      "Searching For David Hasselhoff                                  16\n",
      "Searching For Funker Vogt                                       2\n",
      "Searching For Dave Van Ronk                                     9\n",
      "Searching For O.C.                                              20\n",
      "Searching For Martina McBride                                   19\n",
      "Searching For Ed Harcourt                                       8\n",
      "Searching For Robert Charlebois                                 11\n",
      "Searching For Connie Smith                                      14\n",
      "Searching For Inigo Kennedy                                     2\n",
      "Searching For Television Personalities                          3\n",
      "Searching For Los Planetas                                      14\n",
      "Searching For Skindred                                          19\n",
      "Searching For Goblin (5)                                        16\n",
      "Searching For Bomba Estéreo                                    9\n",
      "Searching For Cheer-Accident                                    11\n",
      " [Getting Beatport ArtistIDs] | 1125/?     : RunTime 1 Hour and 59 Minute.\n",
      "*****************************************************************************************************************************\n",
      "*                                                    Saving SearchArtist                                                    *\n",
      "*****************************************************************************************************************************\n",
      "  Saving Index [2585] ... Done\n",
      "  Saving Data [1158] ... Done\n",
      "  Saving Error [0] ... Done\n"
     ]
    },
    {
     "data": {
      "application/vnd.jupyter.widget-view+json": {
       "model_id": "86bb6f6952414b08a55174f9cd14c352",
       "version_major": 2,
       "version_minor": 0
      },
      "text/plain": [
       "Waiting:   0%|          | 0/150 [00:00<?, ?it/s]"
      ]
     },
     "metadata": {},
     "output_type": "display_data"
    },
    {
     "name": "stdout",
     "output_type": "stream",
     "text": [
      "Searching For Jungle Brothers                                   8\n",
      "Searching For Widowspeak                                        1\n",
      "Searching For Billy Ocean                                       10\n",
      "Searching For Crystal Fighters                                  1\n",
      "Searching For Miranda Lambert                                   14\n",
      "Searching For Helene Fischer                                    14\n",
      "Searching For Problem                                           20\n",
      "Searching For Soul II Soul                                      4\n",
      "Searching For Thompson Twins                                    19\n",
      "Searching For Matthew Good                                      8\n",
      "Searching For Shantel                                           16\n",
      "Searching For The Four Freshmen                                 12\n",
      "Searching For Visions of Atlantis                               12\n",
      "Searching For Béla Fleck                                       14\n",
      "Searching For Orange Goblin                                     14\n",
      "Searching For Trick Daddy                                       7\n",
      "Searching For OK Go                                             18\n",
      "Searching For Death in June                                     13\n",
      "Searching For Nuclear Assault                                   7\n",
      "Searching For Lloyd Banks                                       16\n",
      "Searching For Kaiser Chiefs                                     6\n",
      "Searching For Buddy Holly                                       16\n",
      "Searching For The Fixx                                          19\n",
      "Searching For Chad VanGaalen                                    7\n",
      "Searching For The Ready Set                                     15\n",
      " [Getting Beatport ArtistIDs] | 1150/?     : RunTime 2 Hour and 2 Minute.\n",
      "*****************************************************************************************************************************\n",
      "*                                                    Saving SearchArtist                                                    *\n",
      "*****************************************************************************************************************************\n",
      "  Saving Index [2610] ... Done\n",
      "  Saving Data [1183] ... Done\n",
      "  Saving Error [0] ... Done\n"
     ]
    },
    {
     "data": {
      "application/vnd.jupyter.widget-view+json": {
       "model_id": "956d26a778c84d659bdec09ec6b4c284",
       "version_major": 2,
       "version_minor": 0
      },
      "text/plain": [
       "Waiting:   0%|          | 0/150 [00:00<?, ?it/s]"
      ]
     },
     "metadata": {},
     "output_type": "display_data"
    },
    {
     "name": "stdout",
     "output_type": "stream",
     "text": [
      "Searching For Right Said Fred                                   8\n",
      "Searching For Yelawolf                                          3\n",
      "Searching For Count Bass D                                      6\n",
      "Searching For Berner                                            21\n",
      "Searching For Korpiklaani                                       0\n",
      "Searching For The Lemonheads                                    12\n",
      "Searching For Dark Tranquillity                                 14\n",
      "Searching For The Faint                                         21\n",
      "Searching For No-Man                                            32\n",
      "Searching For Yngwie J. Malmsteen                               15\n",
      "Searching For Patti LaBelle                                     2\n",
      "Searching For SuidAkrA                                          4\n",
      "Searching For Sergio Dalma                                      9\n",
      "Searching For Link Wray                                         9\n",
      "Searching For Jim Lauderdale                                    12\n",
      "Searching For Einstürzende Neubauten                           3\n",
      "Searching For CeCe Peniston                                     13\n",
      "Searching For Jedi Mind Tricks                                  2\n",
      "Searching For Jacques Dutronc                                   13\n",
      "Searching For Oval                                              29\n",
      "Searching For Forgotten Tomb                                    10\n",
      "Searching For Elvenking                                         16\n",
      "Searching For CFCF                                              4\n",
      "Searching For MONDO GROSSO                                      9\n",
      "Searching For The Trammps                                       4\n",
      " [Getting Beatport ArtistIDs] | 1175/?     : RunTime 2 Hour and 5 Minute.\n",
      "*****************************************************************************************************************************\n",
      "*                                                    Saving SearchArtist                                                    *\n",
      "*****************************************************************************************************************************\n",
      "  Saving Index [2635] ... Done\n",
      "  Saving Data [1208] ... Done\n",
      "  Saving Error [0] ... Done\n"
     ]
    },
    {
     "data": {
      "application/vnd.jupyter.widget-view+json": {
       "model_id": "5af360a4745b42fb987dcbfdd55ac890",
       "version_major": 2,
       "version_minor": 0
      },
      "text/plain": [
       "Waiting:   0%|          | 0/150 [00:00<?, ?it/s]"
      ]
     },
     "metadata": {},
     "output_type": "display_data"
    },
    {
     "name": "stdout",
     "output_type": "stream",
     "text": [
      "Searching For VNV Nation                                        3\n",
      "Searching For Dizzee Rascal                                     4\n",
      "Searching For De La Soul                                        18\n",
      "Searching For Bonga                                             19\n",
      "Searching For Ronan Keating                                     12\n",
      "Searching For Mayday!                                           28\n",
      "Searching For Sleeping At Last                                  7\n",
      "Searching For Amber                                             32\n",
      "Searching For Mac Dre                                           16\n",
      "Searching For The Spencer Davis Group                           12\n",
      "Searching For Ulrich Schnauss                                   4\n",
      "Searching For Agathocles                                        0\n",
      "Searching For Steve Hillage                                     7\n",
      "Searching For O.A.R.                                            27\n",
      "Searching For Aiko                                              25\n",
      "Searching For Coleman Hawkins                                   14\n",
      "Searching For Project Pat                                       19\n",
      "Searching For Phonique                                          21\n",
      "Searching For Art Blakey                                        6\n",
      "Searching For INXS                                              14\n",
      "Searching For Kristine W                                        9\n",
      "Searching For Sheek Louch                                       1\n",
      "Searching For Carpenter Brut                                    1\n",
      "Searching For Die Apokalyptischen Reiter                        12\n",
      "Searching For Lyrics Born                                       3\n",
      " [Getting Beatport ArtistIDs] | 1200/?     : RunTime 2 Hour and 7 Minute.\n",
      "*****************************************************************************************************************************\n",
      "*                                                    Saving SearchArtist                                                    *\n",
      "*****************************************************************************************************************************\n",
      "  Saving Index [2660] ... Done\n",
      "  Saving Data [1233] ... Done\n",
      "  Saving Error [0] ... Done\n"
     ]
    },
    {
     "data": {
      "application/vnd.jupyter.widget-view+json": {
       "model_id": "8eb3646c050446e595f97cfbb058e765",
       "version_major": 2,
       "version_minor": 0
      },
      "text/plain": [
       "Waiting:   0%|          | 0/150 [00:00<?, ?it/s]"
      ]
     },
     "metadata": {},
     "output_type": "display_data"
    },
    {
     "name": "stdout",
     "output_type": "stream",
     "text": [
      "Searching For Marisa Monte                                      7\n",
      "Searching For Infernal (2)                                      11\n",
      "Searching For Gato Barbieri                                     5\n",
      "Searching For Angels & Airwaves                                 17\n",
      "Searching For Beres Hammond                                     10\n",
      "Searching For Clams Casino                                      2\n",
      "Searching For Santigold                                         17\n",
      "Searching For Amii Stewart                                      10\n",
      "Searching For Sneaky Sound System                               6\n",
      "Searching For Slim Thug                                         5\n",
      "Searching For Sia                                               17\n",
      "Searching For The Babys                                         28\n",
      "Searching For Champion Jack Dupree                              13\n",
      "Searching For 10,000 Maniacs                                    13\n",
      "Searching For Del Shannon                                       9\n",
      "Searching For Earl Klugh                                        6\n",
      "Searching For Luna                                              24\n",
      "Searching For Heather Nova                                      12\n",
      "Searching For Tank (51)                                         5\n",
      "Searching For Throwdown                                         20\n",
      "Searching For Artur Rubinstein                                  13\n",
      "Searching For Thomas Anders                                     24\n",
      "Searching For Go West                                           21\n",
      "Searching For Chumbawamba                                       6\n",
      "Searching For Jag Panzer                                        5\n",
      " [Getting Beatport ArtistIDs] | 1225/?     : RunTime 2 Hour and 10 Minute.\n",
      "*****************************************************************************************************************************\n",
      "*                                                    Saving SearchArtist                                                    *\n",
      "*****************************************************************************************************************************\n",
      "  Saving Index [2685] ... Done\n",
      "  Saving Data [1258] ... Done\n",
      "  Saving Error [0] ... Done\n"
     ]
    },
    {
     "data": {
      "application/vnd.jupyter.widget-view+json": {
       "model_id": "b3ee02fdccd64547a2495732e263436b",
       "version_major": 2,
       "version_minor": 0
      },
      "text/plain": [
       "Waiting:   0%|          | 0/150 [00:00<?, ?it/s]"
      ]
     },
     "metadata": {},
     "output_type": "display_data"
    },
    {
     "name": "stdout",
     "output_type": "stream",
     "text": [
      "Searching For Loreena McKennitt                                 22\n",
      "Searching For Feuerschwanz                                      1\n",
      "Searching For Bob Seger                                         21\n",
      "Searching For Nocturnal Emissions                               3\n",
      "Searching For Broadcast                                         9\n",
      "Searching For Thy Catafalque                                    5\n",
      "Searching For Mr. Oizo                                          13\n",
      "Searching For Bon Jovi                                          19\n",
      "Searching For Shlohmo                                           15\n"
     ]
    }
   ],
   "source": [
    "ts = Timestat(f\"Getting {db} ArtistIDs\")\n",
    "tt = getTT(skipEOD=False, vacation=True)\n",
    "assert dbio.rdio.isLocal, f\"MusicDBIO is not set for local downloads!\"\n",
    "\n",
    "def isError(artistName, nErrors, sleeptime, error=None):\n",
    "    searchArtistRecord.setError(index=artistName)\n",
    "    print(f\"Search Error ==> {artistName}: {error}\")\n",
    "    nErrors.append(artistName)\n",
    "    webio.sleep(sleeptime)\n",
    "    \n",
    "n = 0\n",
    "maxN = 2500000\n",
    "nErrors = []\n",
    "searchArtistRecord.load()\n",
    "for i, (idx, artistName) in enumerate(artistNamesToGet.items()):\n",
    "    if searchArtistRecord.isKnown(artistName):\n",
    "        continue\n",
    "\n",
    "    if len(nErrors) >= 5:\n",
    "        print(\"Stopping due to 5 consecutive errors\")\n",
    "        break\n",
    "\n",
    "    try:\n",
    "        response = webio.getArtistSearchData(artistName=artistName)\n",
    "    except Exception as error:\n",
    "        isError(artistName, nErrors, 10, error)\n",
    "        continue\n",
    "\n",
    "    if not isinstance(response, dict):\n",
    "        isError(artistName, nErrors, 3.5, \"NotDict\")\n",
    "        continue\n",
    "\n",
    "    nErrors = []\n",
    "    searchArtistRecord.setData(index=artistName, data=response)\n",
    "    webio.sleep(5.0)\n",
    "    n += 1\n",
    "        \n",
    "    if n % 25 == 0:\n",
    "        ts.update(n=n)\n",
    "        searchArtistRecord.save()\n",
    "        webio.wait(15.0)\n",
    "        if tt.isFinished():\n",
    "            break\n",
    "    \n",
    "    if n >= maxN:\n",
    "        print(\"Breaking after {0} downloads...\".format(maxN))\n",
    "        break\n",
    "\n",
    "ts.stop()\n",
    "searchArtistRecord.save()"
   ]
  },
  {
   "cell_type": "code",
   "execution_count": 17,
   "id": "d2011302-ed28-42a3-b486-f879adda12a9",
   "metadata": {},
   "outputs": [
    {
     "name": "stdout",
     "output_type": "stream",
     "text": [
      "*****************************************************************************************************************************\n",
      "*                                                    Saving SearchArtist                                                    *\n",
      "*****************************************************************************************************************************\n",
      "  Saving Index [1434] ... Done\n",
      "  Saving Data [7] ... Done\n"
     ]
    }
   ],
   "source": [
    "searchArtistRecord.save()"
   ]
  },
  {
   "cell_type": "markdown",
   "id": "337ddf40-7595-413c-aceb-80e9636e365a",
   "metadata": {},
   "source": [
    "## Append New Data To Global Search Artist Data"
   ]
  },
  {
   "cell_type": "code",
   "execution_count": 12,
   "id": "a92a5a3c-db0b-4f7a-aa27-15d99aa8028d",
   "metadata": {},
   "outputs": [
    {
     "name": "stdout",
     "output_type": "stream",
     "text": [
      "Found 595658 Previously Known Results\n",
      "Found 507 Searchs\n",
      "Found 11942 Results\n",
      "Found 0 Duplicate Results\n",
      "Found 10477 New Results\n",
      "  ==> 23.55 All Results / Search\n",
      "  ==> 20.66 New Results / Search\n",
      "Saving 607600 Data ... Done\n",
      "*****************************************************************************************************************************\n",
      "*                                                 Initializing SearchArtist                                                 *\n",
      "*****************************************************************************************************************************\n",
      "  Initializing Data   ... Done\n"
     ]
    }
   ],
   "source": [
    "from utils import flattenLists\n",
    "\n",
    "######################################################################################################\n",
    "# Load Global Search Data\n",
    "######################################################################################################\n",
    "dbio = MusicDBIO()\n",
    "prevSearchArtistData = dbio.rdio.getData(\"SearchArtist\")\n",
    "nPrevResults = prevSearchArtistData.shape[0]\n",
    "print(f\"Found {nPrevResults} Previously Known Results\")\n",
    "\n",
    "######################################################################################################\n",
    "# Explode Recent Data\n",
    "######################################################################################################\n",
    "df = DataFrame(concat([Series(s) for s in searchArtistRecord.recordData['Data'].values()]))\n",
    "df.index = df.index.astype(str)\n",
    "newData = df[~df.index.duplicated()]\n",
    "newData.columns = [\"Name\"]\n",
    "\n",
    "nSearches = len(searchArtistRecord.recordData['Data'])\n",
    "nResults = newData.shape[0]\n",
    "print(f\"Found {nSearches} Searchs\")\n",
    "print(f\"Found {nResults} Results\")\n",
    "nDuplicates = newData.index.duplicated().sum()\n",
    "print(f\"Found {nDuplicates} Duplicate Results\")\n",
    "newData = newData[~newData.index.duplicated()]\n",
    "\n",
    "newResults = newData[newData.index.isin(prevSearchArtistData.index)]\n",
    "nNewResults = newResults.shape[0]\n",
    "rResultsPerSearch = nResults/nSearches\n",
    "rNewResultsPerSearch = nNewResults / nSearches\n",
    "print(f\"Found {nNewResults} New Results\")\n",
    "print(f\"  ==> {rResultsPerSearch:.2f} All Results / Search\")\n",
    "print(f\"  ==> {rNewResultsPerSearch:.2f} New Results / Search\")\n",
    "\n",
    "searchArtistsData = concat([prevSearchArtistData, newData])\n",
    "nSearchArtistsData = searchArtistsData.shape[0]\n",
    "print(f\"Saving {nSearchArtistsData} Data ... \", end=\"\")\n",
    "dbio.rdio.saveData(\"SearchArtist\", data=searchArtistsData)\n",
    "print(\"Done\")\n",
    "searchArtistRecord.initData(force=True)"
   ]
  },
  {
   "cell_type": "markdown",
   "id": "80515f1b",
   "metadata": {},
   "source": [
    "# Download Artist Data"
   ]
  },
  {
   "cell_type": "code",
   "execution_count": 13,
   "id": "5fc8663a",
   "metadata": {},
   "outputs": [
    {
     "name": "stdout",
     "output_type": "stream",
     "text": [
      "# Discogs Search Results\n",
      "#   Available Names:     8704658\n",
      "#   Known Artist Names:  1642898\n",
      "#   Artist Names To Get: 8704658\n"
     ]
    }
   ],
   "source": [
    "dbio = MusicDBIO(verbose=False,local=True,mkDirs=False)\n",
    "apiio = RawAPIData(debug=False)\n",
    "knownNames = allArtists.get()\n",
    "knownNames['ModVal'] = knownNames.index.map(mv.getModVal)\n",
    "downloadedNames = Series(downloadArtistRecord.getIndex())\n",
    "availableNames = knownNames[~knownNames.isin(downloadedNames)]\n",
    "artistNamesToGet = Series({modVal: modValDF for modVal,modValDF in availableNames.groupby(\"ModVal\")})\n",
    "\n",
    "print(f\"# {db} Search Results\")\n",
    "print(f\"#   Available Names:     {knownNames.shape[0]}\")\n",
    "print(f\"#   Known Artist Names:  {downloadedNames.shape[0]}\")\n",
    "print(f\"#   Artist Names To Get: {availableNames.shape[0]}\")\n",
    "\n",
    "del availableNames\n",
    "del downloadedNames\n",
    "del knownNames"
   ]
  },
  {
   "cell_type": "code",
   "execution_count": 14,
   "id": "8b4bcbb7-af2b-4b41-9417-c89ec0a5f3ef",
   "metadata": {},
   "outputs": [
    {
     "name": "stdout",
     "output_type": "stream",
     "text": [
      " [Getting Discogs ArtistIDs] | StartTime 2023-10-09 11:55:47\n",
      "   ====> Terminate Time Set To 2023-10-09 19:00:00 <====\n",
      "   ====> Will Terminate Process 7 Hour and 4 Minute From Now\n",
      "****************************************************************************************************************************\n",
      "*                                                  Loading DownloadArtist                                                  *\n",
      "****************************************************************************************************************************\n",
      "  Loading Index  ... Done. Found 1642898 Records\n",
      "  Loading Error  ... Done. Found 0 Records\n"
     ]
    },
    {
     "ename": "AttributeError",
     "evalue": "'Series' object has no attribute 'iteritems'",
     "output_type": "error",
     "traceback": [
      "\u001b[0;31m---------------------------------------------------------------------------\u001b[0m",
      "\u001b[0;31mAttributeError\u001b[0m                            Traceback (most recent call last)",
      "\u001b[0;32m/var/folders/8r/1gvk2_112kj422gdw190z3bh0000gn/T/ipykernel_20471/4152483840.py\u001b[0m in \u001b[0;36m?\u001b[0;34m()\u001b[0m\n\u001b[1;32m     12\u001b[0m \u001b[0mmaxN\u001b[0m \u001b[0;34m=\u001b[0m \u001b[0;36m2500000\u001b[0m\u001b[0;34m\u001b[0m\u001b[0;34m\u001b[0m\u001b[0m\n\u001b[1;32m     13\u001b[0m \u001b[0mstop\u001b[0m \u001b[0;34m=\u001b[0m \u001b[0;32mFalse\u001b[0m\u001b[0;34m\u001b[0m\u001b[0;34m\u001b[0m\u001b[0m\n\u001b[1;32m     14\u001b[0m \u001b[0mnErrors\u001b[0m \u001b[0;34m=\u001b[0m \u001b[0;34m[\u001b[0m\u001b[0;34m]\u001b[0m\u001b[0;34m\u001b[0m\u001b[0;34m\u001b[0m\u001b[0m\n\u001b[1;32m     15\u001b[0m \u001b[0mdownloadArtistRecord\u001b[0m\u001b[0;34m.\u001b[0m\u001b[0mload\u001b[0m\u001b[0;34m(\u001b[0m\u001b[0;34m)\u001b[0m\u001b[0;34m\u001b[0m\u001b[0;34m\u001b[0m\u001b[0m\n\u001b[0;32m---> 16\u001b[0;31m \u001b[0;32mfor\u001b[0m \u001b[0mgroupModVal\u001b[0m\u001b[0;34m,\u001b[0m\u001b[0mmodValData\u001b[0m \u001b[0;32min\u001b[0m \u001b[0martistNamesToGet\u001b[0m\u001b[0;34m.\u001b[0m\u001b[0miteritems\u001b[0m\u001b[0;34m(\u001b[0m\u001b[0;34m)\u001b[0m\u001b[0;34m:\u001b[0m\u001b[0;34m\u001b[0m\u001b[0;34m\u001b[0m\u001b[0m\n\u001b[0m\u001b[1;32m     17\u001b[0m     \u001b[0;32mif\u001b[0m \u001b[0mstop\u001b[0m \u001b[0;32mis\u001b[0m \u001b[0;32mTrue\u001b[0m\u001b[0;34m:\u001b[0m\u001b[0;34m\u001b[0m\u001b[0;34m\u001b[0m\u001b[0m\n\u001b[1;32m     18\u001b[0m         \u001b[0;32mbreak\u001b[0m\u001b[0;34m\u001b[0m\u001b[0;34m\u001b[0m\u001b[0m\n\u001b[1;32m     19\u001b[0m     \u001b[0mN\u001b[0m \u001b[0;34m=\u001b[0m \u001b[0mmodValData\u001b[0m\u001b[0;34m.\u001b[0m\u001b[0mshape\u001b[0m\u001b[0;34m[\u001b[0m\u001b[0;36m0\u001b[0m\u001b[0;34m]\u001b[0m\u001b[0;34m\u001b[0m\u001b[0;34m\u001b[0m\u001b[0m\n",
      "\u001b[0;32m~/anaconda3/envs/post/lib/python3.11/site-packages/pandas/core/generic.py\u001b[0m in \u001b[0;36m?\u001b[0;34m(self, name)\u001b[0m\n\u001b[1;32m   6198\u001b[0m             \u001b[0;32mand\u001b[0m \u001b[0mname\u001b[0m \u001b[0;32mnot\u001b[0m \u001b[0;32min\u001b[0m \u001b[0mself\u001b[0m\u001b[0;34m.\u001b[0m\u001b[0m_accessors\u001b[0m\u001b[0;34m\u001b[0m\u001b[0;34m\u001b[0m\u001b[0m\n\u001b[1;32m   6199\u001b[0m             \u001b[0;32mand\u001b[0m \u001b[0mself\u001b[0m\u001b[0;34m.\u001b[0m\u001b[0m_info_axis\u001b[0m\u001b[0;34m.\u001b[0m\u001b[0m_can_hold_identifiers_and_holds_name\u001b[0m\u001b[0;34m(\u001b[0m\u001b[0mname\u001b[0m\u001b[0;34m)\u001b[0m\u001b[0;34m\u001b[0m\u001b[0;34m\u001b[0m\u001b[0m\n\u001b[1;32m   6200\u001b[0m         ):\n\u001b[1;32m   6201\u001b[0m             \u001b[0;32mreturn\u001b[0m \u001b[0mself\u001b[0m\u001b[0;34m[\u001b[0m\u001b[0mname\u001b[0m\u001b[0;34m]\u001b[0m\u001b[0;34m\u001b[0m\u001b[0;34m\u001b[0m\u001b[0m\n\u001b[0;32m-> 6202\u001b[0;31m         \u001b[0;32mreturn\u001b[0m \u001b[0mobject\u001b[0m\u001b[0;34m.\u001b[0m\u001b[0m__getattribute__\u001b[0m\u001b[0;34m(\u001b[0m\u001b[0mself\u001b[0m\u001b[0;34m,\u001b[0m \u001b[0mname\u001b[0m\u001b[0;34m)\u001b[0m\u001b[0;34m\u001b[0m\u001b[0;34m\u001b[0m\u001b[0m\n\u001b[0m",
      "\u001b[0;31mAttributeError\u001b[0m: 'Series' object has no attribute 'iteritems'"
     ]
    }
   ],
   "source": [
    "ts = Timestat(f\"Getting {db} ArtistIDs\")\n",
    "tt = getTT(skipEOD=False, vacation=True)\n",
    "assert dbio.rdio.isLocal, f\"MusicDBIO is not set for local downloads!\"\n",
    "\n",
    "def isError(artistName, nErrors, sleeptime, error=None):\n",
    "    searchArtistRecord.setError(index=artistName)\n",
    "    print(f\"Search Error ==> {artistName}: {error}\")\n",
    "    nErrors.append(artistName)\n",
    "    apiio.sleep(sleeptime)\n",
    "    \n",
    "n = 0\n",
    "maxN = 2500000\n",
    "stop = False\n",
    "nErrors = []\n",
    "downloadArtistRecord.load()\n",
    "for groupModVal,modValData in artistNamesToGet.items():\n",
    "    if stop is True:\n",
    "        break\n",
    "    N = modValData.shape[0]\n",
    "    for i,(artistID,artistName) in enumerate(modValData['name'].items()):    \n",
    "        if downloadArtistRecord.isKnown(artistName):\n",
    "            continue\n",
    "    \n",
    "        if len(nErrors) >= 5:\n",
    "            print(\"Stopping due to 5 consecutive errors\")\n",
    "            break\n",
    "    \n",
    "        print(f\"{groupModVal: <8} | {i: <8} | {N: <8} | {n: <8} | \", end=\"\")\n",
    "        response = apiio.getArtistData(artistID=artistID, artistName=artistName)        \n",
    "        stop = True\n",
    "        break\n",
    "        \n",
    "        try:\n",
    "            response = apiio.getArtistData(artistID=artistID, artistName=artistName)        \n",
    "        except Exception as error:\n",
    "            isError(artistName, nErrors, 5, error)\n",
    "            continue\n",
    "    \n",
    "        if not isinstance(response, dict):\n",
    "            isError(artistName, nErrors, 3.5, \"NotDict\")\n",
    "            continue\n",
    "\n",
    "        \n",
    "        nErrors = []\n",
    "        dbio.rdio.saveData(\"RawArtist\", data=response, modval=modVal, dbID=artistID)\n",
    "        downloadArtistRecord.setIndex(index=artistName)\n",
    "        apiio.sleep(2.0)\n",
    "        n += 1\n",
    "            \n",
    "        if n % 25 == 0:\n",
    "            ts.update(n=n)\n",
    "            searchArtistRecord.save()\n",
    "            apiio.wait(15.0)\n",
    "            if tt.isFinished():\n",
    "                break\n",
    "        \n",
    "        if n >= maxN:\n",
    "            print(\"Breaking after {0} downloads...\".format(maxN))\n",
    "            break\n",
    "\n",
    "ts.stop()\n",
    "#downloadArtistRecord.save()"
   ]
  },
  {
   "cell_type": "code",
   "execution_count": null,
   "id": "cb6354bd",
   "metadata": {},
   "outputs": [],
   "source": [
    "ts = Timestat(\"Getting {0} ArtistIDs\".format(db))\n",
    "tt = getTT(skipEOD=False)\n",
    "\n",
    "n    = 0\n",
    "maxN = 2500000\n",
    "localArtistsDict = localArtists.get()\n",
    "localArtistsDictErrors = localArtistsErrors.get()\n",
    "stop = False\n",
    "nErrors = []\n",
    "for groupModVal,modValData in artistNamesToGet.iteritems():\n",
    "    if stop is True:\n",
    "        break\n",
    "    for j,(artistID,row) in enumerate(modValData.iterrows()):\n",
    "        if len(nErrors) >= 5:\n",
    "            for artistID in nErrors:\n",
    "                print(f\"del searchedForErrors['{artistID}']\")\n",
    "                stop=True\n",
    "                break\n",
    "        if any([dct.get(artistID) is not None for dct in [localArtistsDict, localArtistsDictErrors]]):\n",
    "            continue\n",
    "            \n",
    "        artistName  = row[\"Name\"]\n",
    "        artistRef   = row[\"Ref\"]\n",
    "\n",
    "        print(f\"{groupModVal: <8} |{j: <8} | {n: <8} | \", end=\"\")\n",
    "        try:\n",
    "            response = webio.getArtistData(artistName=artistName, artistRef=artistRef)\n",
    "        except:\n",
    "            print(\"Error ==> {0}\".format(artistName))\n",
    "            localArtistsDictErrors[artistID] = True\n",
    "            nErrors.append(artistID)\n",
    "            webio.sleep(10)\n",
    "            continue\n",
    "\n",
    "        if not isinstance(response,bytes):\n",
    "            print(\"Error ==> {0}\".format(artistName))\n",
    "            localArtistsDictErrors[artistID] = True\n",
    "            nErrors.append(artistID)\n",
    "            webio.sleep(3.5)\n",
    "            continue\n",
    "\n",
    "        nErrors = []\n",
    "        modVal  = mv.getModVal(artistID)\n",
    "        mio.data.saveRawArtistData(data=response, modval=modVal, dbID=artistID)\n",
    "        localArtistsDict[artistID] = True\n",
    "        webio.sleep(4.5)\n",
    "        n += 1\n",
    "        nLastErrors = 0\n",
    "        \n",
    "        if n % 5 == 0:\n",
    "            if tt.isFinished():\n",
    "                stop=True\n",
    "                break\n",
    "\n",
    "        if n % 50 == 0:\n",
    "            webio.sleep(5)\n",
    "            \n",
    "        if n % 100 == 0:\n",
    "            saveArtistData(db, localArtistsDict, localArtistsDictErrors)\n",
    "            if tt.isFinished():\n",
    "                stop=True\n",
    "                break\n",
    "            webio.wait(10.0)\n",
    "\n",
    "        if n >= maxN:\n",
    "            print(\"Breaking after {0} downloads...\".format(maxN))\n",
    "            stop=True\n",
    "            break\n",
    "\n",
    "ts.stop()\n",
    "if True: saveArtistData(db, localArtistsDict, localArtistsDictErrors)"
   ]
  },
  {
   "cell_type": "code",
   "execution_count": null,
   "id": "0c73ade6",
   "metadata": {},
   "outputs": [],
   "source": [
    "if True: saveArtistData(db, localArtistsDict, localArtistsDictErrors)"
   ]
  },
  {
   "cell_type": "markdown",
   "id": "e943fd7f",
   "metadata": {
    "heading_collapsed": true,
    "jp-MarkdownHeadingCollapsed": true
   },
   "source": [
    "# Download Album Data"
   ]
  },
  {
   "cell_type": "markdown",
   "id": "60841744",
   "metadata": {
    "heading_collapsed": true,
    "hidden": true
   },
   "source": [
    "## Create Media Data"
   ]
  },
  {
   "cell_type": "code",
   "execution_count": null,
   "id": "fba8df92",
   "metadata": {
    "hidden": true
   },
   "outputs": [],
   "source": [
    "mediaData = {}\n",
    "for modVal in range(100):\n",
    "    modValData = mio.data.getModValData(modVal)\n",
    "    modValMediaData = {}\n",
    "    for artistID,artistIDData in modValData.iteritems():\n",
    "        for mediaType,mediaTypeData in artistIDData.media.media.items():\n",
    "            modValMediaData.update({code: [artistID,media.album,media.url] for code,media in mediaTypeData.items()})\n",
    "    mediaData.update(modValMediaData)\n",
    "    if (modVal+1) % 10 == 0:\n",
    "        print(f\"ModVal = {modVal+1}\")\n",
    "        \n",
    "df = DataFrame(mediaData).T\n",
    "df.columns = [\"ArtistID\", \"Name\", \"Ref\"]\n",
    "knownMedia.save(data=df)"
   ]
  },
  {
   "cell_type": "markdown",
   "id": "4adc39f5",
   "metadata": {
    "hidden": true
   },
   "source": [
    "## Download Data"
   ]
  },
  {
   "cell_type": "code",
   "execution_count": null,
   "id": "c3926b7d",
   "metadata": {
    "hidden": true
   },
   "outputs": [],
   "source": [
    "mio   = bandcamp.MusicDBIO(verbose=False,local=True,mkDirs=False)\n",
    "webio = bandcamp.RawWebData(debug=False)"
   ]
  },
  {
   "cell_type": "code",
   "execution_count": null,
   "id": "3cc84ddf",
   "metadata": {
    "hidden": true
   },
   "outputs": [],
   "source": [
    "useArtist = False\n",
    "numMaster = 250\n",
    "\n",
    "knownAlbumsData = knownMedia.get()\n",
    "knownAlbumsData['IndexModVal'] = knownAlbumsData.index.map(mio.getModVal)\n",
    "availableNames  = concat([artistIDDF.head(numMaster) for artistID,artistIDDF in knownAlbumsData.groupby([\"ArtistID\"])])\n",
    "localAlbumsDict = localAlbums.get()\n",
    "availableNames  = availableNames[~availableNames.index.isin(localAlbumsDict.keys())]\n",
    "albumNamesToGet = Series({modVal: modValDF for modVal,modValDF in availableNames.groupby([\"IndexModVal\"])})\n",
    "\n",
    "print(f\"# {db} Album Search Results\")\n",
    "print(f\"#   Available Album IDs:  {knownAlbumsData.shape[0]}\")\n",
    "print(f\"#   Known Album IDs:      {len(localAlbumsDict)}\")\n",
    "print(f\"#   Albums To Download:   {availableNames.shape[0]}\")\n",
    "\n",
    "del availableNames\n",
    "del localAlbumsDict\n",
    "del knownAlbumsData\n",
    "\n",
    "#   Albums To Download:   23457\n",
    "#   Albums To Download:   20437\n",
    "#   Albums To Download:   12137\n",
    "#   Albums To Download:   4132"
   ]
  },
  {
   "cell_type": "code",
   "execution_count": null,
   "id": "d85b7827",
   "metadata": {
    "hidden": true
   },
   "outputs": [],
   "source": [
    "def saveAlbumData(db, localAlbumsDict, searchedForErrors):\n",
    "    print(\"=\"*150)\n",
    "    print(f\"Saving {len(localAlbumsDict)} {db} Albums Data\")\n",
    "    localAlbums.save(data=localAlbumsDict)\n",
    "    print(f\"Saving {len(searchedForErrors)} {db} Searched For Errors\")\n",
    "    errors.save(data=searchedForErrors)\n",
    "    print(\"=\"*150)"
   ]
  },
  {
   "cell_type": "code",
   "execution_count": null,
   "id": "27cb8e07",
   "metadata": {
    "hidden": true
   },
   "outputs": [],
   "source": [
    "ts = Timestat(\"Getting {0} AlbumIDs\".format(db))\n",
    "tt = getTT(skipEOD=False)\n",
    "\n",
    "n    = 0\n",
    "maxN = 25000000\n",
    "localAlbumsDict     = localAlbums.get()\n",
    "searchedForErrors   = errors.get()\n",
    "stop = False\n",
    "nErrors = []\n",
    "for groupModVal,modValData in albumNamesToGet.iteritems():\n",
    "    if stop is True:\n",
    "        break\n",
    "    for j,(albumID,row) in enumerate(modValData.iterrows()):\n",
    "        if len(nErrors) >= 5:\n",
    "            for artistID in nErrors:\n",
    "                print(f\"del searchedForErrors['{artistID}']\")\n",
    "                stop=True\n",
    "                break\n",
    "        if any([dct.get(albumID) is not None for dct in [localAlbumsDict, searchedForErrors]]):\n",
    "            continue\n",
    "            \n",
    "        artistID   = row[\"ArtistID\"]\n",
    "        albumName  = row[\"Name\"]\n",
    "        albumRef  = row[\"Ref\"]\n",
    "\n",
    "        print(f\"{groupModVal: <8} |{j: <8} | {n: <8} | \", end=\"\")\n",
    "        try:\n",
    "            response = webio.getAlbumData(albumName=albumName, albumRef=albumRef)\n",
    "        except:\n",
    "            print(\"Error ==> {0}\".format(albumName))\n",
    "            searchedForErrors[albumID] = True\n",
    "            nErrors.append(albumID)\n",
    "            webio.sleep(10)\n",
    "            continue\n",
    "\n",
    "        if not isinstance(response,bytes):\n",
    "            print(\"Error ==> {0}\".format(albumName))\n",
    "            searchedForErrors[albumID] = True\n",
    "            nErrors.append(albumID)\n",
    "            webio.sleep(3.5)\n",
    "            continue\n",
    "\n",
    "        nErrors = []\n",
    "        modVal=mio.mv.get(albumID)\n",
    "        mio.data.saveRawArtistAlbumData(data=response, modval=modVal, dbID=albumID)\n",
    "        localAlbumsDict[albumID] = True\n",
    "        webio.sleep(4.5)\n",
    "        n += 1\n",
    "        nLastErrors = 0\n",
    "        \n",
    "        if n % 5 == 0:\n",
    "            if tt.isFinished():\n",
    "                stop=True\n",
    "                break\n",
    "\n",
    "        if n % 50 == 0:\n",
    "            webio.sleep(5)\n",
    "            \n",
    "        if n % 100 == 0:\n",
    "            saveAlbumData(db, localAlbumsDict, searchedForErrors)\n",
    "            if tt.isFinished():\n",
    "                stop=True\n",
    "                break\n",
    "            webio.wait(10.0)\n",
    "\n",
    "        if n >= maxN:\n",
    "            print(\"Breaking after {0} downloads...\".format(maxN))\n",
    "            stop=True\n",
    "            break\n",
    "\n",
    "ts.stop()\n",
    "if True: saveAlbumData(db, localAlbumsDict, searchedForErrors)"
   ]
  },
  {
   "cell_type": "code",
   "execution_count": null,
   "id": "d69d83f3",
   "metadata": {
    "hidden": true
   },
   "outputs": [],
   "source": [
    "from os import getpid\n",
    "getpid()"
   ]
  },
  {
   "cell_type": "markdown",
   "id": "0f5ffb07",
   "metadata": {
    "heading_collapsed": true
   },
   "source": [
    "# Download Lists"
   ]
  },
  {
   "cell_type": "markdown",
   "id": "c87ebfa0",
   "metadata": {
    "hidden": true
   },
   "source": [
    "## Download Starter"
   ]
  },
  {
   "cell_type": "code",
   "execution_count": null,
   "id": "340aed0e",
   "metadata": {
    "hidden": true
   },
   "outputs": [],
   "source": [
    "from apiutils import WebIO\n",
    "from ioutils import FileIO, HTMLIO\n",
    "io  = FileIO()\n",
    "hio = HTMLIO()\n",
    "wio = WebIO()"
   ]
  },
  {
   "cell_type": "code",
   "execution_count": null,
   "id": "33406fc6",
   "metadata": {
    "hidden": true
   },
   "outputs": [],
   "source": [
    "starter             = {}\n",
    "starter[\"List\"]     = \"https://www.bandcamp.org/lists.php\"\n",
    "starter[\"Genre\"]    = \"https://www.bandcamp.org/genre.php\"\n",
    "#starterBestAlbum = \"https://www.bandcamp.org/ratings/6-highest-rated/2023/1\"\n",
    "starter[\"Rating\"]   = \"https://www.bandcamp.org/ratings\"\n",
    "starter[\"Discover\"] = \"https://www.bandcamp.org/discover\"\n",
    "starter[\"Releases\"] = \"https://www.bandcamp.org/releases\"\n",
    "starter[\"MustHear\"] = \"https://www.bandcamp.org/must-hear\"\n",
    "\n",
    "savename = \"../../sandbox/AOTYstarter.p\"\n",
    "starterData = io.get(savename)\n",
    "for key,url in starter.items():\n",
    "    if starterData.get(key) is not None:\n",
    "        continue\n",
    "    retval = wio.get(url)\n",
    "    if retval.code == 200:\n",
    "        print(key)\n",
    "        starterData[key] = retval.data\n",
    "    wio.sleep(3)\n",
    "        \n",
    "print(f\"Saving data to {savename}\")\n",
    "io.save(idata=starterData, ifile=savename)"
   ]
  },
  {
   "cell_type": "code",
   "execution_count": null,
   "id": "1b9627b1",
   "metadata": {
    "hidden": true
   },
   "outputs": [],
   "source": [
    "useStarter = False\n",
    "useSite    = True\n",
    "\n",
    "if useStarter is True:\n",
    "    aotyData = io.get(\"../../sandbox/AOTYstarter.p\")\n",
    "elif useSite is True:\n",
    "    aotyData = io.get(\"../../sandbox/AOTYsiteData.p\") | io.get(\"../../sandbox/AOTYsiteData2.p\")\n",
    "else:\n",
    "    aotyData = {}\n",
    "    \n",
    "N  = len(aotyData)\n",
    "ts = Timestat(f\"Sorting {N} Site Refs\")\n",
    "refsData = {\"List\": {}, \"Lists\": {}, \"Rating\": {}, \"Album\": {}, \"Artist\": {}, \"Discover\": {}, \"Genre\": {}, \"MustHear\": {}, \"Release\": {}, \"Spotify\": {}, \"Apple\": {}, \"Amazon\": {}, \"User\": {}}\n",
    "for n,(key,keyData) in enumerate(aotyData.items()):\n",
    "    if (n+1) % 500 == 0 or (n+1) == 100:\n",
    "        ts.update(n=n+1, N=N)\n",
    "        \n",
    "    bsdata = hio.get(keyData)\n",
    "    refs = bsdata.findAll(\"a\")\n",
    "    for ref in refs:\n",
    "        href = ref.get('href')\n",
    "        if not isinstance(href,str):\n",
    "            continue\n",
    "        if href.startswith(\"/list/\"):\n",
    "            refsData[\"List\"][href] = ref.text.strip()\n",
    "        elif \"lists.php\" in href:\n",
    "            refsData[\"Lists\"][href] = ref.text.strip()\n",
    "        elif href.startswith(\"/ratings/\"):\n",
    "            refsData[\"Rating\"][href] = ref.text.strip()\n",
    "        elif href.startswith(\"/artist/\"):\n",
    "            refsData[\"Artist\"][href] = ref.text.strip()\n",
    "        elif href.startswith(\"/album/\"):\n",
    "            refsData[\"Album\"][href] = ref.text.strip()\n",
    "        elif href.startswith(\"/discover/\"):\n",
    "            refsData[\"Discover\"][href] = ref.text.strip()\n",
    "        elif href.startswith(\"/genre/\"):\n",
    "            refsData[\"Genre\"][href] = ref.text.strip()\n",
    "        elif href.startswith(\"/must-hear/\"):\n",
    "            refsData[\"MustHear\"][href] = ref.text.strip()\n",
    "        elif \"/releases/\" in href:\n",
    "            refsData[\"Release\"][href] = ref.text.strip()\n",
    "        elif \"spotify.com\" in href:\n",
    "            refsData[\"Spotify\"][href] = ref.text.strip()\n",
    "        elif \"apple.com\" in href:\n",
    "            refsData[\"Apple\"][href] = ref.text.strip()\n",
    "        elif \"amazon.com\" in href:\n",
    "            refsData[\"Amazon\"][href] = ref.text.strip()\n",
    "        elif \"/user/\" in href:\n",
    "            refsData[\"User\"][href] = ref.text.strip()\n",
    "        else:\n",
    "            continue\n",
    "            print(href,'\\t|\\t',ref.text)\n",
    "            \n",
    "ts.stop()"
   ]
  },
  {
   "cell_type": "code",
   "execution_count": null,
   "id": "4104a0c5",
   "metadata": {
    "hidden": true
   },
   "outputs": [],
   "source": [
    "savename = \"../../sandbox/AOTYsiteRefs.p\"\n",
    "print(f\"Saving data to {savename}\")\n",
    "for key,keyData in refsData.items():\n",
    "    print(f\"  {key: <20}{len(keyData)}\")\n",
    "io.save(idata=refsData, ifile=savename)"
   ]
  },
  {
   "cell_type": "code",
   "execution_count": null,
   "id": "d6d88b46",
   "metadata": {
    "hidden": true
   },
   "outputs": [],
   "source": [
    "siteData   = {}\n",
    "artistData = {}\n",
    "albumData  = {}\n",
    "userData   = {}\n",
    "otherData  = {}\n",
    "\n",
    "if False:\n",
    "    for ref,name in refsData[\"List\"].items():\n",
    "        if ref.startswith(\"/artist/\"):\n",
    "            artistData[ref] = name\n",
    "        elif ref.startswith(\"/album/\"):\n",
    "            albumData[ref] = name\n",
    "        elif ref.startswith(\"/user/\"):\n",
    "            userData[ref] = name\n",
    "        elif ref.startswith(\"/\"):\n",
    "            siteData[ref] = name\n",
    "        else:\n",
    "            otherData[ref] = name\n",
    "else:\n",
    "    for key,keyData in refsData.items():\n",
    "        for ref,name in keyData.items():\n",
    "            if ref.startswith(\"/artist/\"):\n",
    "                artistData[ref] = name\n",
    "            elif ref.startswith(\"/album/\"):\n",
    "                albumData[ref] = name\n",
    "            elif ref.startswith(\"/user/\"):\n",
    "                userData[ref] = name\n",
    "            elif ref.startswith(\"/\"):\n",
    "                if \"/list/\" in ref:\n",
    "                    siteData[ref] = name\n",
    "                else:\n",
    "                    otherData[ref] = name\n",
    "            else:\n",
    "                otherData[ref] = name\n",
    "            \n",
    "print(f\"Found {len(artistData)} Artist Refs\")\n",
    "print(f\"Found {len(albumData)} Album Refs\")\n",
    "print(f\"Found {len(userData)} User Refs\")\n",
    "print(f\"Found {len(siteData)} Site Refs\")\n",
    "print(f\"Found {len(otherData)} Other Refs\")"
   ]
  },
  {
   "cell_type": "code",
   "execution_count": null,
   "id": "551c70cf",
   "metadata": {
    "hidden": true
   },
   "outputs": [],
   "source": [
    "for year in range(1970,2005):\n",
    "    key = f'/lists.php?y={year}'\n",
    "    val = 'View More'\n",
    "    siteData[key] = val"
   ]
  },
  {
   "cell_type": "code",
   "execution_count": null,
   "id": "8ee2cf2a",
   "metadata": {
    "hidden": true
   },
   "outputs": [],
   "source": [
    "savename1 = \"../../sandbox/AOTYsiteData.p\"\n",
    "siteDataDownloads1 = io.get(savename1)\n",
    "print(f\"Found {len(siteDataDownloads1)} Previous Downloads\")\n",
    "savename2 = \"../../sandbox/AOTYsiteData2.p\"\n",
    "siteDataDownloads2 = io.get(savename2)\n",
    "print(f\"Found {len(siteDataDownloads2)} Previous Downloads\")\n",
    "N = len(siteData)\n",
    "ts = Timestat(f\"Downloading {N} Site Refs\")\n",
    "for n,(ref,name) in enumerate(siteData.items()):\n",
    "    url=f\"https://www.bandcamp.org{ref}\"\n",
    "    if any([dct.get(ref) is not None for dct in [siteDataDownloads1,siteDataDownloads2]]):\n",
    "        continue\n",
    "    \n",
    "    retval = wio.get(url)\n",
    "    if retval.code == 200:\n",
    "        print(f\"{n: <6} | {N: <6} | {ref}\")\n",
    "        siteDataDownloads2[ref] = retval.data\n",
    "    wio.sleep(3)\n",
    "    \n",
    "    if (n+1) % 25 == 0:\n",
    "        ts.update(n=n+1,N=N)\n",
    "        print(f\"Saving {len(siteDataDownloads2)} data to {savename2}\")\n",
    "        io.save(idata=siteDataDownloads2, ifile=savename2)\n",
    "\n",
    "ts.stop()\n",
    "        \n",
    "print(f\"Saving data to {savename2}\")\n",
    "io.save(idata=siteDataDownloads2, ifile=savename2)"
   ]
  },
  {
   "cell_type": "code",
   "execution_count": null,
   "id": "31757bc0",
   "metadata": {
    "hidden": true
   },
   "outputs": [],
   "source": [
    "siteDataDownloads = io.get(\"../../sandbox/AOTYsiteData.p\")"
   ]
  },
  {
   "cell_type": "code",
   "execution_count": null,
   "id": "60389a81",
   "metadata": {
    "hidden": true
   },
   "outputs": [],
   "source": [
    "io.save(idata=siteDataDownloads, ifile=savename)"
   ]
  },
  {
   "cell_type": "markdown",
   "id": "9625faa6",
   "metadata": {
    "hidden": true
   },
   "source": [
    "## Check For New Data"
   ]
  },
  {
   "cell_type": "code",
   "execution_count": null,
   "id": "bee6ba90",
   "metadata": {
    "hidden": true
   },
   "outputs": [],
   "source": [
    "from lib.bandcamp import MusicDBID\n",
    "mid = MusicDBID()\n",
    "mid.getAlbumID('/album/515536-beyonce-renaissance/critic-lists/?f=all&y=2022')"
   ]
  },
  {
   "cell_type": "code",
   "execution_count": null,
   "id": "89396c35",
   "metadata": {
    "hidden": true
   },
   "outputs": [],
   "source": [
    "df = DataFrame(Series(refsData[\"Album\"])).reset_index().rename(columns={\"index\": \"Ref\", 0: \"List\"})\n",
    "df[\"AlbumID\"] = df[\"Ref\"].map(mid.getAlbumID)\n",
    "df = df[~df[\"AlbumID\"].duplicated()]"
   ]
  },
  {
   "cell_type": "code",
   "execution_count": null,
   "id": "5413dfa5",
   "metadata": {
    "hidden": true
   },
   "outputs": [],
   "source": [
    "df = DataFrame(Series(refsData[\"Artist\"])).reset_index().rename(columns={\"index\": \"Ref\", 0: \"Name\"})\n",
    "df[\"ArtistID\"] = df[\"Ref\"].map(mid.getArtistID)\n",
    "df = df[~df[\"ArtistID\"].duplicated()]"
   ]
  },
  {
   "cell_type": "code",
   "execution_count": null,
   "id": "bf390c07",
   "metadata": {
    "hidden": true
   },
   "outputs": [],
   "source": [
    "artistNames = searchArtists()"
   ]
  },
  {
   "cell_type": "code",
   "execution_count": null,
   "id": "9e048d3c",
   "metadata": {
    "hidden": true
   },
   "outputs": [],
   "source": [
    "df.index = df[\"ArtistID\"]\n",
    "df = df.drop([\"ArtistID\"], axis=1)\n",
    "artistNames = concat([artistNames,df])\n",
    "artistNames = artistNames[~artistNames.index.duplicated()]"
   ]
  },
  {
   "cell_type": "code",
   "execution_count": null,
   "id": "11e2e24e",
   "metadata": {
    "hidden": true
   },
   "outputs": [],
   "source": [
    "mio.data.saveSearchArtistData(data=artistNames)"
   ]
  },
  {
   "cell_type": "markdown",
   "id": "03eb06c2",
   "metadata": {},
   "source": [
    "# Backup"
   ]
  },
  {
   "cell_type": "code",
   "execution_count": null,
   "id": "21696e15",
   "metadata": {},
   "outputs": [],
   "source": [
    "from utils import StoreData, backup\n",
    "from numpy import array_split\n",
    "sd = StoreData(\"bandcamp\", \"Artist\")\n",
    "for modVals in array_split(range(100), 2):\n",
    "    sd.mergeLocalData(modVals=modVals)\n",
    "sd.mergeGlobalData()"
   ]
  },
  {
   "cell_type": "code",
   "execution_count": null,
   "id": "60404c5a",
   "metadata": {},
   "outputs": [],
   "source": [
    "from time import sleep\n",
    "sleep(200)\n",
    "sd.mergeGlobalData()"
   ]
  },
  {
   "cell_type": "code",
   "execution_count": null,
   "id": "22c968e7",
   "metadata": {},
   "outputs": [],
   "source": [
    "for modVal in range(67):\n",
    "    srcDir = DirInfo(f\"/Volumes/Piggy/Discog/artists-bandcamp/{modVal}/artists\")\n",
    "    files  = [FileInfo(ifile) for ifile in srcDir.getFiles()]\n",
    "    files  = [finfo for finfo in files if finfo.basename.isdigit()]\n",
    "    dstDir = DirInfo(f\"/Users/tgadfort/Music/Discog/artists-bandcamp/{modVal}/artists\")\n",
    "    for srcFile in files:\n",
    "        dstFile = dstDir.join(srcFile.name)\n",
    "        srcFile.mvFile(dstFile)"
   ]
  },
  {
   "cell_type": "code",
   "execution_count": null,
   "id": "6f16b7aa",
   "metadata": {},
   "outputs": [],
   "source": []
  }
 ],
 "metadata": {
  "kernelspec": {
   "display_name": "Python 3 (ipykernel)",
   "language": "python",
   "name": "python3"
  },
  "language_info": {
   "codemirror_mode": {
    "name": "ipython",
    "version": 3
   },
   "file_extension": ".py",
   "mimetype": "text/x-python",
   "name": "python",
   "nbconvert_exporter": "python",
   "pygments_lexer": "ipython3",
   "version": "3.11.4"
  },
  "toc": {
   "base_numbering": 1,
   "nav_menu": {},
   "number_sections": true,
   "sideBar": true,
   "skip_h1_title": false,
   "title_cell": "Table of Contents",
   "title_sidebar": "Contents",
   "toc_cell": false,
   "toc_position": {},
   "toc_section_display": true,
   "toc_window_display": false
  }
 },
 "nbformat": 4,
 "nbformat_minor": 5
}
