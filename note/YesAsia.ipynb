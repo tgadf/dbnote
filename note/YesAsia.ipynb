{
 "cells": [
  {
   "cell_type": "code",
   "execution_count": null,
   "id": "c0d4d4b2-884c-4bfb-9645-7bfc83110d5e",
   "metadata": {},
   "outputs": [],
   "source": [
    "%load_ext autoreload\n",
    "from IPython.display import display, HTML\n",
    "display(HTML(\"<style>.container { width:100% !important; }</style>\"))"
   ]
  },
  {
   "cell_type": "code",
   "execution_count": null,
   "id": "e9d6db3b-6236-40a4-aec1-234eee149325",
   "metadata": {},
   "outputs": [],
   "source": [
    "from dbmaster import MasterParams, MasterPersist\n",
    "from dbbase import MusicDBIDModVal, MusicDBDir, MusicDBData\n",
    "from dbnote import DownloadRecord, KnownRecord\n",
    "from utils import FileIO, DirInfo, FileInfo, getFlatList, Timestat, TermTime, TermTimeTS, getTT\n",
    "from pandas import Series, DataFrame, concat, Timestamp\n",
    "from pandb import PanDBIO\n",
    "from musicdb.yesasia import MusicDBParams, RawWebData, MusicDBIO\n",
    "from os import getpid\n",
    "\n",
    "mv = MusicDBIDModVal()\n",
    "io = FileIO()\n",
    "mpar = MusicDBParams()\n",
    "dbio = MusicDBIO()\n",
    "webio = RawWebData()\n",
    "db = mpar.db"
   ]
  },
  {
   "cell_type": "code",
   "execution_count": null,
   "id": "6789621b-4c18-4372-90b5-d3285906c172",
   "metadata": {},
   "outputs": [],
   "source": [
    "searchArtistRecord = DownloadRecord(db=db, name=\"SearchArtist\", rTypes=[\"Index\", \"Data\"])\n",
    "downloadArtistRecord = DownloadRecord(db=db, name=\"DownloadArtist\", rTypes=[\"Index\"])\n",
    "knownLinks = KnownRecord(db=db, name=\"Links\")"
   ]
  },
  {
   "cell_type": "code",
   "execution_count": null,
   "id": "2dd838d2-a693-476d-bac0-1f70e5d0762d",
   "metadata": {},
   "outputs": [],
   "source": [
    "##########################################################################################\n",
    "# Show Summary\n",
    "##########################################################################################\n",
    "print(f\"{db} Search Results (PID={getpid()})\".format(db))\n",
    "searchArtistRecord.info()\n",
    "downloadArtistRecord.info()\n",
    "knownLinks.info()\n",
    "#print(f\"  {'KnownArtist Data': <20}: {knownArtists().shape[0]}\")"
   ]
  },
  {
   "cell_type": "markdown",
   "id": "91dd8764-cf03-46e5-93ba-8366c8c9ba7e",
   "metadata": {},
   "source": [
    "# Starter Data"
   ]
  },
  {
   "cell_type": "markdown",
   "id": "fad2ce14-1489-4148-b570-fc092322ac06",
   "metadata": {},
   "source": [
    "## Known Links"
   ]
  },
  {
   "cell_type": "code",
   "execution_count": null,
   "id": "fb44a280-c511-4f2a-9f9f-f1ba235a8876",
   "metadata": {},
   "outputs": [],
   "source": [
    "from utils import WebIO, getHTML, FileIO\n",
    "webio = WebIO()\n",
    "musicURL = \"https://www.yesasia.com/us/en/music-concerts-videos.html\"\n",
    "data = webio.get(musicURL)\n",
    "from dbraw import getTagText\n",
    "bsdata = getHTML(data.data)\n",
    "\n",
    "links = {}\n",
    "musicDiv = bsdata.find(\"div\", {\"id\": \"idb\"})\n",
    "musicLIs = musicDiv.findAll(\"li\", {\"class\": \"filterPanel\"})\n",
    "for li in musicLIs:\n",
    "    countryTag = li.find('b')\n",
    "    country = getTagText(countryTag)\n",
    "    pages = li.findAll(\"li\")\n",
    "    refTags = [page.find('a') for page in pages]\n",
    "    refs = {ref.get('href'): ref.text for ref in refTags}\n",
    "    links[country] = refs\n",
    "    print(country, '\\t', refs)\n",
    "\n",
    "\n",
    "editorDiv = bsdata.find(\"div\", {\"id\": \"id19\"})\n",
    "musicLIs = editorDiv.findAll(\"li\", {\"class\": \"filterPanel\"})\n",
    "for li in musicLIs:\n",
    "    countryTag = li.find('b')\n",
    "    country = getTagText(countryTag)\n",
    "    pages = li.findAll(\"li\")\n",
    "    refTags = [page.find('a') for page in pages]\n",
    "    refs = {ref.get('href'): ref.text for ref in refTags}\n",
    "    links[country] = refs\n",
    "    print(country, '\\t', refs)\n",
    "\n",
    "knownLinks.init(force=True)\n",
    "knownLinks.load()\n",
    "knownLinks.setData(links)\n",
    "knownLinks.save()"
   ]
  },
  {
   "cell_type": "markdown",
   "id": "e63690ee-5208-4b59-a5fb-90443682456a",
   "metadata": {
    "scrolled": true
   },
   "source": [
    "## Individual Artists"
   ]
  },
  {
   "cell_type": "code",
   "execution_count": null,
   "id": "c9cd45cd-6de7-4de7-a1d0-3ca78ebb62a8",
   "metadata": {},
   "outputs": [],
   "source": [
    "knownLinks.load(verbose=False)\n",
    "links = knownLinks.getData()"
   ]
  },
  {
   "cell_type": "code",
   "execution_count": null,
   "id": "9f857e0c-f673-4395-8de7-2b7c05574807",
   "metadata": {},
   "outputs": [],
   "source": [
    "for country, countryLinks in links.items():\n",
    "    for url, name in countryLinks.items():\n",
    "        if name in [\"Female Singers\", \"Male Singers\", \"Groups\"]:\n",
    "            print(f\"{country: <20}{name: <20}{url}\")"
   ]
  },
  {
   "cell_type": "code",
   "execution_count": null,
   "id": "e6d20226-45bb-4ccf-a5d9-87dd5380251d",
   "metadata": {},
   "outputs": [],
   "source": [
    "from utils import WebIO, getHTML, FileIO\n",
    "from dbraw import getTagText, isTag, isBS4\n",
    "\n",
    "def getCharRefs(bsdata):\n",
    "    charIdxTag = bsdata.find(\"div\", {\"id\": \"charIndex\"})\n",
    "    charIdxRefs = [(ref.text, ref.get('href')) for ref in charIdxTag.findAll(\"a\")]\n",
    "    charIdxRefs = [(ch, ref) for (ch, ref) in charIdxRefs if ch.isalpha() and ref.startswith(\"http\")]\n",
    "    return charIdxRefs\n",
    "\n",
    "def getPageData(bsdata, artistData):\n",
    "    def getArtists(bsdata):\n",
    "        artistListDiv = bsdata.find(\"div\", {\"id\": \"artistList\"})\n",
    "        artistRefTags = [li.find('a') for li in artistListDiv.findAll(\"li\")]\n",
    "        artistRefs = [(ref.text, ref.get('href')) for ref in artistRefTags if isTag(ref)]\n",
    "        return artistRefs\n",
    "        \n",
    "    print(f\"Curr = {len(artistData): <5} | \", end=\"\")\n",
    "    newArtists = getArtists(bsdata)\n",
    "    print(f\"Found = {len(newArtists): <5} | \", end=\"\")\n",
    "    artistData += newArtists\n",
    "    print(f\"Total = {len(artistData): <5}\")\n",
    "    pagingSpan = bsdata.find(\"span\", {\"class\": \"paging\"})\n",
    "    if not isTag(pagingSpan):\n",
    "        return\n",
    "    for spanRef in pagingSpan.findAll(\"a\"):\n",
    "        if spanRef.get('title') == \"Next\":\n",
    "            nextURL = spanRef.get('href')\n",
    "            print(f\"{' ': <4}{nextURL: <100}\", end=\"\")\n",
    "            print(\".\", end=\"\")\n",
    "            webio.sleep(7.5)\n",
    "            data = webio.get(nextURL)\n",
    "            webio.sleep(7.5)\n",
    "            print(\".\\t\", end=\"\")\n",
    "            if data.code != 200:\n",
    "                print(f\"Bad Code [{data.code}] [{data}]\")\n",
    "                break\n",
    "            bsdata = getHTML(data.data)\n",
    "            if not isBS4(bsdata):\n",
    "                print(\"Not BS4\")\n",
    "                break\n",
    "            getPageData(bsdata, artistData)\n",
    "            break"
   ]
  },
  {
   "cell_type": "code",
   "execution_count": null,
   "id": "3872ba67-cf3c-4efe-9f2b-db1260e9b384",
   "metadata": {},
   "outputs": [],
   "source": [
    "webio = WebIO()\n",
    "url=\"https://www.yesasia.com/us/japanese-female-singers/0-0-0-bpt.297_alb.4-en/list.html\"\n",
    "artistData = []\n",
    "print(f\"{'A': <4}{url: <100}\", end=\"\")\n",
    "print(\".\", end=\"\")\n",
    "data = webio.get(url)\n",
    "webio.sleep(7.5)\n",
    "print(\".\\t\", end=\"\")\n",
    "\n",
    "if data.code != 200:\n",
    "    print(f\"Bad Code {data.code}\")\n",
    "    1/0\n",
    "bsdata = getHTML(data.data)\n",
    "if not isBS4(bsdata):\n",
    "    print(\"Not BS4\")\n",
    "    1/0\n",
    "\n",
    "charRefs = getCharRefs(bsdata)\n",
    "getPageData(bsdata, artistData)\n",
    "\n",
    "for ch, url in charRefs:\n",
    "    print(f\"{ch: <4}{url: <100}\", end=\"\")\n",
    "    print(\".\", end=\"\")\n",
    "    webio.sleep(7.5)\n",
    "    data = webio.get(url)\n",
    "    webio.sleep(7.5)\n",
    "    print(\".\\t\", end=\"\")\n",
    "    if data.code != 200:\n",
    "        print(f\"Bad Code [{data.code}] [{data}]\")\n",
    "        break\n",
    "    bsdata = getHTML(data.data)\n",
    "    if not isBS4(bsdata):\n",
    "        print(\"Not BS4\")\n",
    "        break\n",
    "    getPageData(bsdata, artistData)"
   ]
  },
  {
   "cell_type": "code",
   "execution_count": null,
   "id": "e6238f03-1eed-41c8-b08f-993b8dfe90b7",
   "metadata": {},
   "outputs": [],
   "source": [
    "from dbraw import isTag"
   ]
  },
  {
   "cell_type": "code",
   "execution_count": null,
   "id": "bf549690-dbef-4b6e-a509-d1a9813baff6",
   "metadata": {},
   "outputs": [],
   "source": [
    "len(\"https://www.yesasia.com/us/0-0-0-ann.6_vm.32_bt.297_anit.3_bpt.297_alb.4-en/list.html\")"
   ]
  },
  {
   "cell_type": "code",
   "execution_count": null,
   "id": "3b79dc97-aa63-4f16-bb46-28cc48a8334c",
   "metadata": {},
   "outputs": [],
   "source": [
    "\n",
    "\n",
    "charIdxRefs"
   ]
  },
  {
   "cell_type": "code",
   "execution_count": null,
   "id": "6925c726-6148-4c66-b34b-2c655c75b524",
   "metadata": {},
   "outputs": [],
   "source": [
    "name = \"Rolling St\"\n",
    "\n",
    "baseURL = dbio.params.baseURL\n",
    "dname = \"-\".join([val.lower() for val in name.split(\" \")])\n",
    "sname = \"+\".join(name.split(\" \"))\n",
    "\n",
    "url = f\"{baseURL}/us/search/{dname}/0-0-0-q.{sname}_bpt.48-en/list.html\"\n",
    "#https://www.yesasia.com/us/search/dave-matthews/0-0-0-q.Dave+Matthews_bpt.48-en/list.html\n",
    "#https://www.yesasia.com/us/search/rolling-stones/0-0-0-q.Rolling+Stones_bpt.48-en/list.html\n",
    "test = \"https://www.yesasia.com/us/search/rolling-st/0-0-0-q.Rolling+St_bpt.48-en/list.html\"\n",
    "test == url"
   ]
  },
  {
   "cell_type": "code",
   "execution_count": null,
   "id": "7d2239d5-83a1-4490-9876-c4849274c147",
   "metadata": {},
   "outputs": [],
   "source": []
  },
  {
   "cell_type": "code",
   "execution_count": null,
   "id": "65f7ba36-9f86-40e3-865a-c5ad763e7d94",
   "metadata": {},
   "outputs": [],
   "source": [
    "\n",
    "url = \"https://www.qobuz.com/us-en/genres/download-streaming-albums\"\n",
    "data = webio.get(url)"
   ]
  },
  {
   "cell_type": "code",
   "execution_count": null,
   "id": "2864f3d9-647c-4458-aa3a-612e4e41052c",
   "metadata": {},
   "outputs": [],
   "source": [
    "bsdata = getHTML(data.data)\n",
    "ul = bsdata.find(\"ul\", {\"class\": \"hierarchical-list\"})\n",
    "lis = ul.findAll(\"li\")\n",
    "genres = []\n",
    "knownGenres = {}\n",
    "levels = {1: None, 2: None, 3: None, 4: None}\n",
    "prev = []\n",
    "\n",
    "for li in lis:\n",
    "    level = li.get('class')\n",
    "    levels[level] = name\n",
    "    atag = li.find('a')\n",
    "    ref = atag.get('href')\n",
    "    name = atag.text\n",
    "    genres.append([level, name, ref])\n",
    "    knownGenres[ref] = [name, level]"
   ]
  },
  {
   "cell_type": "code",
   "execution_count": null,
   "id": "9d38c4db-f164-44ae-83e9-f74adc8ced80",
   "metadata": {},
   "outputs": [],
   "source": [
    "knownGenreRecord.setData(knownGenres)\n",
    "knownGenreRecord.save()"
   ]
  },
  {
   "cell_type": "markdown",
   "id": "636e9242-b198-49fd-be8a-79031cb21dbd",
   "metadata": {},
   "source": [
    "# Download Numbered Pages"
   ]
  },
  {
   "cell_type": "code",
   "execution_count": null,
   "id": "c4ddda1a-f206-4a67-8ada-dae65c97416e",
   "metadata": {},
   "outputs": [],
   "source": [
    "def getTerminalGenres():\n",
    "    knownGenreRecord.load(verbose=False)\n",
    "    data = knownGenreRecord.getData()\n",
    "    prev = [None, None, 0]\n",
    "    term = []\n",
    "    for ref, (name, level) in data.items():\n",
    "        level = int(level[0][-1])\n",
    "        #print(level,'\\t',name, end=\"\\t\")\n",
    "        if level <= prev[2]: \n",
    "            term.append(prev)\n",
    "            #print(f\" + {prev}\", end=\"\")\n",
    "        #print(\"\")\n",
    "        prev = [ref, name, level]\n",
    "    term.append(prev)\n",
    "    return term"
   ]
  },
  {
   "cell_type": "code",
   "execution_count": null,
   "id": "4fe86403-caa6-4a09-b1d8-80e171a5fefd",
   "metadata": {},
   "outputs": [],
   "source": [
    "dbio = MusicDBIO(verbose=False,local=True,mkDirs=False)\n",
    "webio = RawWebData(debug=False)\n",
    "downloadGenreRecord.load()\n",
    "genreNamesToGet = {}\n",
    "for (ref, genre, level) in getTerminalGenres():\n",
    "    genreKey = (genre, None)\n",
    "    if downloadGenreRecord.isKnown(genreKey):\n",
    "        continue\n",
    "    for page in range(1,10000):\n",
    "        genreKey = (genre, page)\n",
    "        if not downloadGenreRecord.isKnown(genreKey):\n",
    "            genreNamesToGet[genreKey] = ref\n",
    "            break\n",
    "genreNamesToGet = Series(genreNamesToGet)\n",
    "#knownNames = Series({(genre, 1): ref })\n",
    "#genreNamesToGet = knownNames[~knownNames.index.map(downloadGenreRecord.isKnown)]\n",
    "\n",
    "print(f\"# {db} Search Results\")\n",
    "print(f\"#   Known Artist Names:  {downloadGenreRecord.numKnown()}\")\n",
    "print(f\"#   Artist Names To Get: {genreNamesToGet.shape[0]}\")"
   ]
  },
  {
   "cell_type": "code",
   "execution_count": null,
   "id": "2132e14b-fa05-47d4-9eca-f195d4d11918",
   "metadata": {},
   "outputs": [],
   "source": [
    "ts = Timestat(f\"Getting {db} ArtistIDs\")\n",
    "tt = getTT(skipEOD=True, vacation=True)\n",
    "assert dbio.rdio.isLocal, f\"MusicDBIO is not set for local downloads!\"\n",
    "\n",
    "def isError(genreName, page, nErrors, sleeptime, error=None):\n",
    "    genreKey = (genreName, page)\n",
    "    downloadGenreRecord.setError(index=genreKey)\n",
    "    print(f\"Search Error ==> {genreName}: {error}\")\n",
    "    nErrors.append(artistName)\n",
    "    webio.sleep(sleeptime)\n",
    "    \n",
    "n = 0\n",
    "maxN = 250000000\n",
    "nErrors = []\n",
    "for i, ((genreName, page), genreRef) in enumerate(genreNamesToGet.items()):\n",
    "    if tt.isFinished():\n",
    "        break\n",
    "            \n",
    "    genreURL = None\n",
    "    pageNum = None\n",
    "    last = False\n",
    "    while last is False:\n",
    "        page = page if pageNum is None else pageNum\n",
    "        genreKey = (genreName, page)\n",
    "        if downloadGenreRecord.isKnown(genreKey):\n",
    "            continue\n",
    "    \n",
    "        if len(nErrors) >= 5:\n",
    "            print(\"Stopping due to 5 consecutive errors\")\n",
    "            break\n",
    "        \n",
    "        try:\n",
    "            response = webio.getGenreData(genreRef, genreURL, page)\n",
    "        except Exception as error:\n",
    "            isError(genreName, page, nErrors, 10, error)\n",
    "            continue\n",
    "    \n",
    "        if not isinstance(response, dict):\n",
    "            isError(genreName, page, nErrors, 3.5, \"NotDict\")\n",
    "            continue\n",
    "    \n",
    "        media = response[\"Media\"]\n",
    "        nextRef = response[\"NextRef\"]\n",
    "        pageNum = response[\"Page\"]\n",
    "        genreURL = f\"{webio.baseURL}{nextRef}\" if isinstance(nextRef, str) else None\n",
    "        if len(media) == 0:\n",
    "            last = True\n",
    "    \n",
    "        nErrors = []\n",
    "        downloadGenreRecord.setData(index=genreKey, data=media)\n",
    "        if pageNum is None or len(media) < 21:\n",
    "            last = True\n",
    "            genreKey = (genreName, None)\n",
    "            media = []\n",
    "            downloadGenreRecord.setData(index=genreKey, data=media)\n",
    "            break\n",
    "            \n",
    "        webio.sleep(6.5)\n",
    "        n += 1\n",
    "            \n",
    "        if n % 5 == 0:\n",
    "            if tt.isFinished():\n",
    "                last = True\n",
    "                break\n",
    "            webio.sleep(1.0)\n",
    "            \n",
    "        if n % 15 == 0:\n",
    "            ts.update(n=n)\n",
    "            downloadGenreRecord.save()\n",
    "            webio.wait(10.0)\n",
    "            if tt.isFinished():\n",
    "                last = True\n",
    "                break\n",
    "        \n",
    "        if n >= maxN:\n",
    "            print(f\"Breaking after {maxN} downloads...\")\n",
    "            last = True\n",
    "            break\n",
    "\n",
    "ts.stop()\n",
    "downloadGenreRecord.save()"
   ]
  },
  {
   "cell_type": "code",
   "execution_count": null,
   "id": "d0ea05e6-a698-4acf-ba06-60df52832cd1",
   "metadata": {},
   "outputs": [],
   "source": [
    "downloadGenreRecord.save()"
   ]
  },
  {
   "cell_type": "code",
   "execution_count": null,
   "id": "9493c091-9ec6-46d5-911c-52fbdbf108b1",
   "metadata": {},
   "outputs": [],
   "source": [
    "downloadGenreRecord.getData()"
   ]
  },
  {
   "cell_type": "code",
   "execution_count": null,
   "id": "dd47ca60-bc81-4d6e-87cc-237b599484c9",
   "metadata": {},
   "outputs": [],
   "source": [
    "term = getTerminalGenres()\n",
    "ref = term[0][0]\n",
    "baseURL = dbio.params.baseURL\n",
    "url = f\"{baseURL}{ref}?ssf%5BsortBy%5D=main_catalog_date_desc\"\n",
    "print(url)\n",
    "#       https://www.qobuz.com/us-en/genre/pop-inde/download-streaming-albums/page/1?ssf%5BsortBy%5D=main_catalog_date_desc\n",
    "#print(\"https://www.qobuz.com/us-en/genre/pop-inde/download-streaming-albums?ssf%5BsortBy%5D=main_catalog_date_desc\")\n",
    "#https://www.qobuz.com/us-en/genre/pop-inde/download-streaming-albums?ssf%5BsortBy%5D=main_catalog_date_desc\n",
    "#https://www.qobuz.com/us-en/genre/pop-inde/download-streaming-albums/?ssf%5BsortBy%5D=main_catalog_date_desc\n",
    "url1=\"https://www.qobuz.com/us-en/genre/pop-inde/download-streaming-albums/page/3?ssf%5BsortBy%5D=main_catalog_date_desc\"\n",
    "url2='https://www.qobuz.com/us-en/genre/pop-inde/download-streaming-albums/page/3?ssf%5BsortBy%5D=main_catalog_date_desc'\n",
    "url1 == url2\n",
    "#url=\"https://www.qobuz.com/us-en/genre/pop-inde/download-streaming-albums/page/2?ssf%5BsortBy%5D=main_catalog_date_desc\"\n",
    "#genreData = webio.get(url)"
   ]
  },
  {
   "cell_type": "code",
   "execution_count": null,
   "id": "668cf155-1bfd-4fb6-8d49-5fca5062016c",
   "metadata": {},
   "outputs": [],
   "source": [
    "url = webio.getGenrePageURL(genreRef=ref, genreURL=None, page=3)\n",
    "genreData = webio.get(url)"
   ]
  },
  {
   "cell_type": "code",
   "execution_count": null,
   "id": "a08351fd-a13b-49b9-a110-d45dccdcb95d",
   "metadata": {},
   "outputs": [],
   "source": [
    "import difflib\n",
    "a = url1\n",
    "b = url2\n",
    "for i,s in enumerate(difflib.ndiff(a, b)):\n",
    "    print(i,'\\t',s)"
   ]
  },
  {
   "cell_type": "code",
   "execution_count": null,
   "id": "9f01f4e6-8bbb-420f-9de3-8fd514e021e2",
   "metadata": {},
   "outputs": [],
   "source": [
    "genreData.data"
   ]
  },
  {
   "cell_type": "code",
   "execution_count": null,
   "id": "509e178e-b6fe-43bf-a482-b15a749245c7",
   "metadata": {},
   "outputs": [],
   "source": [
    "from utils import getHTML\n",
    "\n",
    "https://www.qobuz.com/us-en/genre/pop-inde/download-streaming-albums?ssf%5BsortBy%5D=main_catalog_date_desc\n",
    "https://www.qobuz.com/us-en/genre/pop-inde/download-streaming-albums/page/2?ssf%5BsortBy%5D=main_catalog_date_desc\n",
    "bsdata = getHTML(gData.data)"
   ]
  },
  {
   "cell_type": "code",
   "execution_count": null,
   "id": "f72e4061-6b61-46c0-9a2a-840fccde29f6",
   "metadata": {},
   "outputs": [],
   "source": [
    "pageDiv = bsdata.find(\"div\", {\"class\": \"product__header\"})\n",
    "nextRef = pageDiv.find(\"a\", {\"rel\": \"next\"})\n",
    "nextRef"
   ]
  },
  {
   "cell_type": "code",
   "execution_count": null,
   "id": "4d6c2918-62e2-4b9e-b9e1-36b7d9b3cbc1",
   "metadata": {},
   "outputs": [],
   "source": [
    "from dbraw import isTag, getTagText\n",
    "def getPageData(bsdata):\n",
    "    retval = []\n",
    "    \n",
    "    wrapper = bsdata.find(\"ul\", {\"class\": \"product__wrapper\"})\n",
    "    for li in wrapper.findAll(\"li\"):\n",
    "        coverDiv = li.find(\"div\", {\"class\": \"product__cover\"})\n",
    "        cover = coverDiv.get('data-src') if isTag(coverDiv) else None\n",
    "    \n",
    "        dataDiv = li.find(\"div\", {\"class\": \"product__data\"})\n",
    "        genreTag = dataDiv.find(\"p\", {\"class\": \"product__data--genre\"}) if isTag(dataDiv) else None\n",
    "        genre = getTagText(genreTag).strip()\n",
    "        releaseTag = dataDiv.find(\"p\", {\"class\": \"product__data--release\"}) if isTag(dataDiv) else None\n",
    "        release = getTagText(releaseTag).strip()\n",
    "        \n",
    "        containerDiv = li.find(\"div\", {\"class\": \"product__container\"})\n",
    "        containerRefTag = containerDiv.find(\"a\") if isTag(containerDiv) else None\n",
    "        containerRef = containerRefTag.get('href') if isTag(containerRefTag) else None\n",
    "        containerTitle = getTagText(containerRefTag).strip()\n",
    "            \n",
    "        artistDiv = li.find(\"p\", {\"class\": \"product__artist\"})\n",
    "        artistTag = artistDiv.find(\"a\") if isTag(artistDiv) else None\n",
    "        artistRef = artistTag.get('href') if isTag(artistTag) else None\n",
    "        artistName = getTagText(artistTag).strip()\n",
    "        \n",
    "        infosDiv = li.find(\"p\", {\"class\": \"product__infos\"})\n",
    "        infosTag = infosDiv.find(\"a\") if isTag(infosDiv) else None\n",
    "        labelRef = infosTag.get('href') if isTag(infosTag) else None\n",
    "        labelName = getTagText(infosTag).strip()\n",
    "    \n",
    "        # print(f\"{artistName: <40}{containerTitle: <60}\")\n",
    "\n",
    "        record = {\"Artist\": [artistName, artistRef], \"Album\": [containerTitle, containerRef],\n",
    "                  \"Label\": [labelName, labelRef], \"Genre\": genre, \"Release\": release}\n",
    "\n",
    "        retval.append(record)\n",
    "\n",
    "    return retval"
   ]
  },
  {
   "cell_type": "code",
   "execution_count": null,
   "id": "75f498be-3630-4892-9b1e-eb19a60e882a",
   "metadata": {},
   "outputs": [],
   "source": [
    "retval = getPageData(bsdata)"
   ]
  },
  {
   "cell_type": "code",
   "execution_count": null,
   "id": "30d4684f-84da-4a7b-87b8-e20f6bc09a02",
   "metadata": {},
   "outputs": [],
   "source": [
    "retval"
   ]
  },
  {
   "cell_type": "code",
   "execution_count": null,
   "id": "9e64a39c-7d03-4845-91eb-696b280c72d9",
   "metadata": {},
   "outputs": [],
   "source": [
    "from utils import getHTML\n",
    "bsdata = getHTML(data.data)\n",
    "from utils import FileIO\n",
    "io = FileIO()\n",
    "io.save(idata=data.data, ifile=\"qobuz.genres.p\")"
   ]
  },
  {
   "cell_type": "code",
   "execution_count": null,
   "id": "68dc46e8-b017-4756-9d70-e6a44339c984",
   "metadata": {},
   "outputs": [],
   "source": [
    "url = \"https://www.qobuz.com/us-en/search?q=Boris\"\n",
    "data = webio.get(url)"
   ]
  },
  {
   "cell_type": "code",
   "execution_count": null,
   "id": "b511677b-1d4e-4809-b1c9-823bf2ec0c87",
   "metadata": {},
   "outputs": [],
   "source": [
    "ul = bsdata.find(\"ul\", {\"class\": \"hierarchical-list\"})\n",
    "lis = ul.findAll(\"li\")\n",
    "genres = []\n",
    "levels = {\"level1\": None, \"level2\": None, \"level3\": None}\n",
    "for li in lis:\n",
    "    level = li.get('class')\n",
    "    atag = li.find('a')\n",
    "    ref = atag.get('href')\n",
    "    name = atag.text\n",
    "    genres.append([level, name, ref])"
   ]
  }
 ],
 "metadata": {
  "kernelspec": {
   "display_name": "Python 3 (ipykernel)",
   "language": "python",
   "name": "python3"
  },
  "language_info": {
   "codemirror_mode": {
    "name": "ipython",
    "version": 3
   },
   "file_extension": ".py",
   "mimetype": "text/x-python",
   "name": "python",
   "nbconvert_exporter": "python",
   "pygments_lexer": "ipython3",
   "version": "3.11.4"
  }
 },
 "nbformat": 4,
 "nbformat_minor": 5
}
