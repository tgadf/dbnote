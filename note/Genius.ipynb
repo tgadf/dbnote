{
 "cells": [
  {
   "cell_type": "code",
   "execution_count": null,
   "id": "509866ef",
   "metadata": {},
   "outputs": [],
   "source": [
    "%load_ext autoreload\n",
    "from IPython.display import display, HTML\n",
    "display(HTML(\"<style>.container { width:100% !important; }</style>\"))"
   ]
  },
  {
   "cell_type": "code",
   "execution_count": null,
   "id": "a6a9e9ff",
   "metadata": {},
   "outputs": [],
   "source": [
    "from dbmaster import MasterParams, MasterPersist\n",
    "from dbbase import MusicDBIDModVal, MusicDBDir, MusicDBData\n",
    "from dbnote import DownloadRecord, MergeSearchArtist, ConcatRawData\n",
    "from utils import FileIO, DirInfo, FileInfo, getFlatList, Timestat, TermTime, TermTimeTS, getTT\n",
    "from pandas import Series, DataFrame, concat, Timestamp\n",
    "from pandb import PanDBIO\n",
    "from musicdb.genius import MusicDBParams, RawAPIData, MusicDBIO\n",
    "from functools import partial\n",
    "from os import getpid\n",
    "\n",
    "mv = MusicDBIDModVal()\n",
    "io = FileIO()\n",
    "mpar = MusicDBParams()\n",
    "dbio = MusicDBIO()\n",
    "apiio = RawAPIData()\n",
    "db = mpar.db"
   ]
  },
  {
   "cell_type": "code",
   "execution_count": null,
   "id": "17810033-ee5e-4874-9fbb-d68311932b54",
   "metadata": {},
   "outputs": [],
   "source": [
    "searchArtistRecord = DownloadRecord(db=db, name=\"SearchArtist\", rTypes=[\"Index\", \"Data\"])\n",
    "downloadArtistRecord = DownloadRecord(db=db, name=\"DownloadArtist\", rTypes=[\"Index\"])\n",
    "downloadArtistSongRecord = DownloadRecord(db=db, name=\"DownloadArtistSong\", rTypes=[\"Index\"])\n",
    "downloadAlbumRecord = DownloadRecord(db=db, name=\"DownloadAlbum\", rTypes=[\"Index\"])\n",
    "downloadSongRecord = DownloadRecord(db=db, name=\"DownloadSong\", rTypes=[\"Index\"])\n",
    "allArtists = partial(dbio.rdio.getData, \"SearchArtist\")\n",
    "knownArtists = dbio.rdio.getSummaryNameData"
   ]
  },
  {
   "cell_type": "code",
   "execution_count": null,
   "id": "dbd14e52-96d4-46ae-848f-748843a6be3a",
   "metadata": {},
   "outputs": [],
   "source": [
    "if False:\n",
    "    from utils import FileInfo\n",
    "    import shutil\n",
    "    db = dbio.params.db\n",
    "    dbdir = dbio.params.dir\n",
    "    nameMap = {\"MasterArtists\": \"SearchArtist\", \"LocalArtists\": \"DownloadArtist\", \"LocalAlbums\": \"DownloadAlbum\"}\n",
    "    nameMap = nameMap | {\"LocalArtistSongs\": \"DownloadArtistSong\", \"LocalSongs\": \"DownloadSong\", \"LocalAlbums\": \"DownloadAlbum\"}\n",
    "    dinfo = DirInfo(f\"/Users/tgadfort/anaconda3/envs/post/pandb/musicdb/{db}\")\n",
    "    \n",
    "    cpMap = {}\n",
    "    for origname, newname in nameMap.items():\n",
    "        cpMap[f\"{dbdir}SearchedFor{origname}\"] = f\"{db}-{newname}-Index\"\n",
    "        cpMap[f\"{dbdir}SearchedFor{origname}Data\"] = f\"{db}-{newname}-Data\"\n",
    "        cpMap[f\"{dbdir}SearchedFor{origname}Errors\"] = f\"{db}-{newname}-Error\"\n",
    "    assert dinfo.exists(), f\"{dinfo} does not exist!\"\n",
    "    for srcFile, dstFile in cpMap.items():\n",
    "        srcFile = dinfo.join(f\"{srcFile}.p\")\n",
    "        dstFile = dinfo.join(f\"{dstFile}.p\")\n",
    "        if srcFile.exists():\n",
    "            srcFile.mvFile(dstFile)"
   ]
  },
  {
   "cell_type": "code",
   "execution_count": null,
   "id": "52c93053",
   "metadata": {},
   "outputs": [],
   "source": [
    "##########################################################################################\n",
    "# Show Summary\n",
    "##########################################################################################\n",
    "print(f\"{db} Search Results (PID={getpid()})\".format(db))\n",
    "searchArtistRecord.info()\n",
    "downloadArtistRecord.info()\n",
    "downloadArtistSongRecord.info()\n",
    "downloadAlbumRecord.info()\n",
    "downloadSongRecord.info()\n",
    "print(f\"  {'KnownArtist Data': <20}: {knownArtists().shape[0]}\")"
   ]
  },
  {
   "cell_type": "markdown",
   "id": "bb7d5872",
   "metadata": {
    "heading_collapsed": true,
    "jp-MarkdownHeadingCollapsed": true
   },
   "source": [
    "# Search For New Artists"
   ]
  },
  {
   "cell_type": "code",
   "execution_count": null,
   "id": "4f29b566-c324-459e-81b9-5bd8bd24762d",
   "metadata": {},
   "outputs": [],
   "source": [
    "######################################################################################################\n",
    "# Explode Recent Data\n",
    "######################################################################################################\n",
    "def getNewData(searchArtistRecord):\n",
    "    newData = searchArtistRecord.getData()\n",
    "    if len(newData) == 0:\n",
    "        return DataFrame()\n",
    "    newData = concat([Series(s) for s in newData.values()])\n",
    "    newData.index = newData.index.astype(str)\n",
    "    newData = newData[~newData.index.duplicated()]\n",
    "    return newData\n",
    "\n",
    "def mergeNewData(searchArtistRecord):\n",
    "    searchArtistRecord.load(verbose=False)\n",
    "    newData = getNewData(searchArtistRecord)\n",
    "    msr = MergeSearchArtist(db)\n",
    "    msr.mergeLocal(searchArtistRecord, newData, test=False)"
   ]
  },
  {
   "cell_type": "code",
   "execution_count": null,
   "id": "df19d5fd-b956-4196-89d2-2f0161809ae0",
   "metadata": {},
   "outputs": [],
   "source": [
    "dbio = MusicDBIO(verbose=False,local=True,mkDirs=False)\n",
    "apiio = RawAPIData(debug=False)\n",
    "knownNames = PanDBIO().getUniqueArtistNames()\n",
    "mergeNewData(searchArtistRecord)\n",
    "searchedNames = Series(searchArtistRecord.getIndex())\n",
    "artistNamesToGet = knownNames[~knownNames.map(searchArtistRecord.isKnown)]\n",
    "\n",
    "print(f\"# {db} Search Results\")\n",
    "print(f\"#   Available Names:     {knownNames.shape[0]}\")\n",
    "print(f\"#   Known Artist Names:  {searchedNames.shape[0]}\")\n",
    "print(f\"#   Artist Names To Get: {artistNamesToGet.shape[0]}\")\n",
    "\n",
    "del searchedNames\n",
    "del knownNames"
   ]
  },
  {
   "cell_type": "code",
   "execution_count": null,
   "id": "54addaa5",
   "metadata": {
    "hidden": true
   },
   "outputs": [],
   "source": [
    "ts = Timestat(f\"Getting {db} ArtistIDs\")\n",
    "tt = getTT(skipEOD=False, vacation=True)\n",
    "assert dbio.rdio.isLocal, f\"MusicDBIO is not set for local downloads!\"\n",
    "\n",
    "def isError(artistName, nErrors, sleeptime, error=None):\n",
    "    searchArtistRecord.setError(index=artistName)\n",
    "    print(f\"Search Error ==> {artistName}: {error}\")\n",
    "    nErrors.append(artistName)\n",
    "    apiio.sleep(sleeptime)\n",
    "    \n",
    "n = 0\n",
    "maxN = 250000000\n",
    "nErrors = []\n",
    "searchArtistRecord.load(verbose=False)\n",
    "for i, (idx, artistName) in enumerate(artistNamesToGet.items()):\n",
    "    if searchArtistRecord.isKnown(artistName):\n",
    "        continue\n",
    "\n",
    "    if len(nErrors) >= 5:\n",
    "        print(\"Stopping due to 5 consecutive errors\")\n",
    "        break\n",
    "\n",
    "    try:\n",
    "        response = apiio.getArtistSearchData(artistName=artistName)\n",
    "    except Exception as error:\n",
    "        isError(artistName, nErrors, 10, error)\n",
    "        continue\n",
    "\n",
    "    if not isinstance(response, dict):\n",
    "        isError(artistName, nErrors, 3.5, \"NotDict\")\n",
    "        continue\n",
    "\n",
    "    nErrors = []\n",
    "    searchArtistRecord.setData(index=artistName, data=response)\n",
    "    apiio.sleep(2.5)\n",
    "    n += 1\n",
    "        \n",
    "    if n % 25 == 0:\n",
    "        ts.update(n=n)\n",
    "        searchArtistRecord.save()\n",
    "        apiio.wait(10.0)\n",
    "        if tt.isFinished():\n",
    "            break\n",
    "    \n",
    "    if n >= maxN:\n",
    "        print(\"Breaking after {0} downloads...\".format(maxN))\n",
    "        break\n",
    "\n",
    "ts.stop()\n",
    "searchArtistRecord.save()"
   ]
  },
  {
   "cell_type": "markdown",
   "id": "80515f1b",
   "metadata": {
    "jp-MarkdownHeadingCollapsed": true
   },
   "source": [
    "# Download Artist Data"
   ]
  },
  {
   "cell_type": "code",
   "execution_count": null,
   "id": "5fc8663a",
   "metadata": {},
   "outputs": [],
   "source": [
    "dbio = MusicDBIO(verbose=False,local=True,mkDirs=True)\n",
    "apiio = RawAPIData(debug=False)\n",
    "knownNames = DataFrame(allArtists()).rename(columns={0: \"Name\"})\n",
    "knownNames['ModVal'] = knownNames.index.map(mv.getModVal)\n",
    "downloadedNames = Series(downloadArtistRecord.getIndex())\n",
    "availableNames = knownNames[~knownNames.index.isin(downloadedNames.index)]\n",
    "artistNamesToGet = Series({modVal: modValDF for modVal,modValDF in availableNames.groupby(\"ModVal\")})\n",
    "\n",
    "print(f\"# {db} Search Results\")\n",
    "print(f\"#   Available Names:     {knownNames.shape[0]}\")\n",
    "print(f\"#   Known Artist Names:  {downloadedNames.shape[0]}\")\n",
    "print(f\"#   Artist Names To Get: {availableNames.shape[0]}\")\n",
    "\n",
    "del availableNames\n",
    "del downloadedNames\n",
    "del knownNames"
   ]
  },
  {
   "cell_type": "code",
   "execution_count": null,
   "id": "8b4bcbb7-af2b-4b41-9417-c89ec0a5f3ef",
   "metadata": {},
   "outputs": [],
   "source": [
    "ts = Timestat(f\"Getting {db} ArtistIDs\")\n",
    "tt = getTT(skipEOD=False, vacation=True)\n",
    "assert dbio.rdio.isLocal, f\"MusicDBIO is not set for local downloads!\"\n",
    "\n",
    "def isError(artistID, artistName, nErrors, sleeptime, error=None):\n",
    "    downloadArtistRecord.setError(index=artistID)\n",
    "    print(f\"Download Error ==> {artistName}: {error}\")\n",
    "    nErrors.append(artistID)\n",
    "    apiio.sleep(sleeptime)\n",
    "    \n",
    "n = 0\n",
    "maxN = 250000000\n",
    "stop = False\n",
    "nErrors = []\n",
    "for modVal,modValData in artistNamesToGet.items():\n",
    "    #modVal = groupModVal[0]\n",
    "    if stop is True:\n",
    "        break\n",
    "    N = modValData.shape[0]\n",
    "    for i,(artistID,artistName) in enumerate(modValData['Name'].items()):    \n",
    "        if downloadArtistRecord.isKnown(artistID):\n",
    "            continue\n",
    "    \n",
    "        if len(nErrors) >= 5:\n",
    "            print(\"Stopping due to 5 consecutive errors\")\n",
    "            stop = True\n",
    "            break\n",
    "    \n",
    "        print(f\"{modVal: <8} | {i: <8} | {N: <8} | {n: <8} | \", end=\"\")\n",
    "        try:\n",
    "            response = apiio.getArtistData(artistID=artistID, artistName=artistName)        \n",
    "        except Exception as error:\n",
    "            isError(artistID, artistName, nErrors, 5, error)\n",
    "            continue\n",
    "    \n",
    "        if not isinstance(response, dict):\n",
    "            isError(artistID, artistName, nErrors, 3.5, \"NotDict\")\n",
    "            continue\n",
    "\n",
    "        \n",
    "        nErrors = []\n",
    "        downloadArtistRecord.setIndex(index=artistID)\n",
    "        dbio.rdio.saveData(\"RawArtist\", modVal, artistID, data=response)\n",
    "        apiio.sleep(2.0)\n",
    "        n += 1\n",
    "            \n",
    "        if n % 25 == 0:\n",
    "            ts.update(n=n)\n",
    "            downloadArtistRecord.save()\n",
    "            apiio.wait(15.0)\n",
    "            if tt.isFinished():\n",
    "                stop = True\n",
    "                break\n",
    "        \n",
    "        if n >= maxN:\n",
    "            print(f\"Breaking after {maxN} downloads...\")\n",
    "            stop = True\n",
    "            break\n",
    "\n",
    "ts.stop()\n",
    "downloadArtistRecord.save()"
   ]
  },
  {
   "cell_type": "code",
   "execution_count": null,
   "id": "0c73ade6",
   "metadata": {},
   "outputs": [],
   "source": [
    "downloadArtistRecord.save()"
   ]
  },
  {
   "cell_type": "code",
   "execution_count": null,
   "id": "ace4f1c7-2b92-4137-9f05-326070d635f6",
   "metadata": {},
   "outputs": [],
   "source": [
    "crd = ConcatRawData(db=dbio.db, dType=\"Artist\")\n",
    "#crd.concat()\n",
    "#crd.merge(test=False)\n",
    "#crd.remove(force=True)"
   ]
  },
  {
   "cell_type": "markdown",
   "id": "e943fd7f",
   "metadata": {
    "heading_collapsed": true
   },
   "source": [
    "# Download Artist Songs Data"
   ]
  },
  {
   "cell_type": "code",
   "execution_count": null,
   "id": "cc5cb6c8-e2a8-495e-b9ae-1ff499b4c6b0",
   "metadata": {},
   "outputs": [],
   "source": [
    "dbio = MusicDBIO(verbose=False,local=True,mkDirs=False)\n",
    "apiio = RawAPIData(debug=False)\n",
    "knownNames = DataFrame(allArtists()).rename(columns={0: \"Name\"})\n",
    "knownNames['ModVal'] = knownNames.index.map(mv.getModVal)\n",
    "downloadedNames = Series(downloadArtistSongRecord.getIndex())\n",
    "availableNames = knownNames[~knownNames.index.isin(downloadedNames.index)]\n",
    "artistNamesToGet = Series({modVal: modValDF for modVal,modValDF in availableNames.groupby(\"ModVal\")})\n",
    "\n",
    "print(f\"# {db} Search Results\")\n",
    "print(f\"#   Available Names:     {knownNames.shape[0]}\")\n",
    "print(f\"#   Known Artist Names:  {downloadedNames.shape[0]}\")\n",
    "print(f\"#   Artist Names To Get: {availableNames.shape[0]}\")\n",
    "\n",
    "del availableNames\n",
    "del downloadedNames\n",
    "del knownNames"
   ]
  },
  {
   "cell_type": "code",
   "execution_count": null,
   "id": "a2c44e97-4d93-4a00-a8ae-5a7dc666f858",
   "metadata": {},
   "outputs": [],
   "source": [
    "ts = Timestat(f\"Getting {db} ArtistIDs\")\n",
    "tt = getTT(skipEOD=False, vacation=True)\n",
    "assert dbio.rdio.isLocal, f\"MusicDBIO is not set for local downloads!\"\n",
    "\n",
    "def isError(artistID, artistName, nErrors, sleeptime, error=None):\n",
    "    downloadArtistSongRecord.setError(index=artistID)\n",
    "    print(f\"Download Error ==> {artistName}: {error}\")\n",
    "    nErrors.append(artistID)\n",
    "    apiio.sleep(sleeptime)\n",
    "    \n",
    "n = 0\n",
    "maxN = 2500000\n",
    "stop = False\n",
    "nErrors = []\n",
    "for modVal,modValData in artistNamesToGet.items():\n",
    "    #modVal = groupModVal[0]\n",
    "    if stop is True:\n",
    "        break\n",
    "    N = modValData.shape[0]\n",
    "    for i,(artistID,artistName) in enumerate(modValData['Name'].items()):    \n",
    "        if downloadArtistSongRecord.isKnown(artistID):\n",
    "            continue\n",
    "    \n",
    "        if len(nErrors) >= 5:\n",
    "            print(\"Stopping due to 5 consecutive errors\")\n",
    "            stop = True\n",
    "            break\n",
    "    \n",
    "        print(f\"{modVal: <8} | {i: <8} | {N: <8} | {n: <8} | \", end=\"\")\n",
    "        try:\n",
    "            response = apiio.getArtistSongsData(artistID=artistID, artistName=artistName)        \n",
    "        except Exception as error:\n",
    "            isError(artistID, artistName, nErrors, 5, error)\n",
    "            continue\n",
    "    \n",
    "        if not isinstance(response, dict):\n",
    "            isError(artistID, artistName, nErrors, 3.5, \"NotDict\")\n",
    "            continue\n",
    "\n",
    "        \n",
    "        nErrors = []\n",
    "        downloadArtistSongRecord.setIndex(index=artistID)\n",
    "        dbio.rdio.saveData(\"RawArtistSong\", modVal, artistID, data=response)\n",
    "        apiio.sleep(2.0)\n",
    "        n += 1\n",
    "            \n",
    "        if n % 25 == 0:\n",
    "            ts.update(n=n)\n",
    "            downloadArtistSongRecord.save()\n",
    "            apiio.wait(15.0)\n",
    "            if tt.isFinished():\n",
    "                stop = True\n",
    "                break\n",
    "        \n",
    "        if n >= maxN:\n",
    "            print(f\"Breaking after {maxN} downloads...\")\n",
    "            stop = True\n",
    "            break\n",
    "\n",
    "ts.stop()\n",
    "downloadArtistSongRecord.save()"
   ]
  },
  {
   "cell_type": "code",
   "execution_count": null,
   "id": "01f8a824-0f72-48e7-92fb-537e4d776345",
   "metadata": {},
   "outputs": [],
   "source": [
    "downloadArtistSongRecord.save()"
   ]
  },
  {
   "cell_type": "code",
   "execution_count": null,
   "id": "fba8df92",
   "metadata": {
    "hidden": true
   },
   "outputs": [],
   "source": [
    "mediaData = {}\n",
    "for modVal in range(100):\n",
    "    modValData = dbio.data.getModValData(modVal)\n",
    "    modValMediaData = {}\n",
    "    for artistID,artistIDData in modValData.iteritems():\n",
    "        for mediaType,mediaTypeData in artistIDData.media.media.items():\n",
    "            modValMediaData.update({code: [artistID,media.album,media.url] for code,media in mediaTypeData.items()})\n",
    "    mediaData.update(modValMediaData)\n",
    "    if (modVal+1) % 10 == 0:\n",
    "        print(f\"ModVal = {modVal+1}\")\n",
    "        \n",
    "df = DataFrame(mediaData).T\n",
    "df.columns = [\"ArtistID\", \"Name\", \"Ref\"]\n",
    "knownMedia.save(data=df)"
   ]
  },
  {
   "cell_type": "markdown",
   "id": "4adc39f5",
   "metadata": {
    "hidden": true
   },
   "source": [
    "## Download Data"
   ]
  },
  {
   "cell_type": "code",
   "execution_count": null,
   "id": "c3926b7d",
   "metadata": {
    "hidden": true
   },
   "outputs": [],
   "source": [
    "dbio   = bandcamp.MusicDBIO(verbose=False,local=True,mkDirs=False)\n",
    "apiio = bandcamp.RawAPIData(debug=False)"
   ]
  }
 ],
 "metadata": {
  "kernelspec": {
   "display_name": "Python 3 (ipykernel)",
   "language": "python",
   "name": "python3"
  },
  "language_info": {
   "codemirror_mode": {
    "name": "ipython",
    "version": 3
   },
   "file_extension": ".py",
   "mimetype": "text/x-python",
   "name": "python",
   "nbconvert_exporter": "python",
   "pygments_lexer": "ipython3",
   "version": "3.11.4"
  },
  "toc": {
   "base_numbering": 1,
   "nav_menu": {},
   "number_sections": true,
   "sideBar": true,
   "skip_h1_title": false,
   "title_cell": "Table of Contents",
   "title_sidebar": "Contents",
   "toc_cell": false,
   "toc_position": {},
   "toc_section_display": true,
   "toc_window_display": false
  }
 },
 "nbformat": 4,
 "nbformat_minor": 5
}
