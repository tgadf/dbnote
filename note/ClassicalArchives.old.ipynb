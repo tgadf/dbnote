{
 "cells": [
  {
   "cell_type": "code",
   "execution_count": null,
   "id": "cadb2431",
   "metadata": {},
   "outputs": [],
   "source": [
    "%load_ext autoreload\n",
    "from IPython.core.display import display, HTML\n",
    "display(HTML(\"<style>.container { width:100`% !important; }</style>\"))\n",
    "import warnings\n",
    "warnings.simplefilter(action='ignore', category=FutureWarning)\n",
    "warnings.simplefilter(action='ignore', category=UserWarning)"
   ]
  },
  {
   "cell_type": "code",
   "execution_count": null,
   "id": "cc47892b",
   "metadata": {},
   "outputs": [],
   "source": [
    "from apiutils import WebIO\n",
    "from ioutils import FileIO, HTMLIO\n",
    "from fileutils import FileInfo, DirInfo\n",
    "from master import MasterParams, MusicDBPermDir\n",
    "from pandas import Series, DataFrame, concat\n",
    "from sys import prefix\n",
    "from listUtils import getFlatList\n",
    "from musicdb import PanDBIO\n",
    "mp    = MasterParams(verbose=True)\n",
    "io    = FileIO()\n",
    "wio   = WebIO()\n",
    "hio   = HTMLIO()\n",
    "mdbpd = MusicDBPermDir()"
   ]
  },
  {
   "cell_type": "code",
   "execution_count": null,
   "id": "2c223435",
   "metadata": {},
   "outputs": [],
   "source": [
    "from lib import classicalarchives\n",
    "mio   = classicalarchives.MusicDBIO(verbose=True, mkDirs=True)\n",
    "webio = classicalarchives.RawWebData()\n",
    "db    = mio.db\n",
    "permDBDir = mdbpd.getDBPermPath(db)\n",
    "print(\"Saving Perminant {0} DB Data To {1}\".format(db, permDBDir.str))"
   ]
  },
  {
   "cell_type": "code",
   "execution_count": null,
   "id": "7bb5a15b",
   "metadata": {},
   "outputs": [],
   "source": [
    "from base import MusicDBDir, MusicDBData\n",
    "permDir = MusicDBDir(permDBDir)\n",
    "localComposers     = MusicDBData(path=permDir, fname=\"{0}SearchedForLocalComposers\".format(db.lower()))\n",
    "localPerformers    = MusicDBData(path=permDir, fname=\"{0}SearchedForLocalPerformers\".format(db.lower()))\n",
    "knownArtists       = {} #mio.data.getSummaryNameData()\n",
    "searchComposers    = mio.data.getSearchComposersData()\n",
    "searchPerformers   = mio.data.getSearchPerformersData()\n",
    "errors             = MusicDBData(path=permDir, fname=\"{0}SearchedForErrors\".format(db.lower()))"
   ]
  },
  {
   "cell_type": "code",
   "execution_count": null,
   "id": "a19f1df5",
   "metadata": {},
   "outputs": [],
   "source": [
    "##########################################################################################\n",
    "# Show Summary\n",
    "##########################################################################################\n",
    "print(\"{0} Search Results\".format(db))\n",
    "print(\"   Local Composers:           {0}\".format(len(localComposers.get())))\n",
    "print(\"   Local Performers:          {0}\".format(len(localPerformers.get())))\n",
    "print(\"   Errors:                    {0}\".format(len(errors.get())))\n",
    "print(\"   Search Composers:          {0}\".format(len(searchComposers)))\n",
    "print(\"   Search Performers:         {0}\".format(len(searchPerformers)))\n",
    "print(\"   Known Summary IDs:         {0}\".format(len(knownArtists)))"
   ]
  },
  {
   "cell_type": "code",
   "execution_count": null,
   "id": "236548b7",
   "metadata": {},
   "outputs": [],
   "source": [
    "import osascript\n",
    "def getScript(url, savename, dtime):\n",
    "    dscript = '''\n",
    "tell application \"Safari\"\n",
    "activate\n",
    "set URL of document 1 to \"{0}\"\n",
    "delay {2}\n",
    "set myString to source of document 1\n",
    "end tell\n",
    "set newFile to POSIX file \"{1}\"\n",
    "open for access newFile with write permission\n",
    "write myString to newFile as «class utf8»\n",
    "close access newFile\n",
    "'''.format(url, savename, dtime)\n",
    "    \n",
    "    return dscript"
   ]
  },
  {
   "cell_type": "markdown",
   "id": "072d4639",
   "metadata": {
    "heading_collapsed": true
   },
   "source": [
    "# Download ModVal Data"
   ]
  },
  {
   "cell_type": "markdown",
   "id": "95e0608e",
   "metadata": {
    "hidden": true
   },
   "source": [
    "## Download Via OSA"
   ]
  },
  {
   "cell_type": "code",
   "execution_count": null,
   "id": "c3ebe7ad",
   "metadata": {
    "hidden": true
   },
   "outputs": [],
   "source": [
    "#url = f\"https://www.classicalarchives.com/performers/{ch}.html\"\n",
    "from string import ascii_lowercase\n",
    "aTypes = [\"composers\", \"performers\"]\n",
    "for aType in aTypes:\n",
    "    for ch in ascii_lowercase:\n",
    "        url = f\"https://www.classicalarchives.com/{aType}/{ch}.html\"\n",
    "        savename = f\"/Users/tgadfort/Documents/code310/pandb/note/classicalarchives/{aType}_{ch}.html\"\n",
    "        if FileInfo(savename).exists():\n",
    "            continue\n",
    "        print(f\"{url: <60} ==> {savename}\")\n",
    "        dscript  = getScript(url, savename, dtime=15)\n",
    "        code,out,err = osascript.run(dscript)"
   ]
  },
  {
   "cell_type": "markdown",
   "id": "8f5f5778",
   "metadata": {
    "hidden": true
   },
   "source": [
    "## Parse OSA Data"
   ]
  },
  {
   "cell_type": "code",
   "execution_count": null,
   "id": "c9d6cdb9",
   "metadata": {
    "hidden": true
   },
   "outputs": [],
   "source": [
    "from lib.classicalarchives import MusicDBID\n",
    "mdbid = MusicDBID()\n",
    "aTypes = [\"composers\", \"performers\"]\n",
    "saveData = {}\n",
    "for aType in aTypes:\n",
    "    artistData = {}\n",
    "    files  = DirInfo(\"/Users/tgadfort/Documents/code310/pandb/note/classicalarchives\").glob(f\"{aType}_*.html\")\n",
    "    for ifile in files:\n",
    "        fData = {}\n",
    "        bsdata = hio.get(open(ifile, encoding=\"latin-1\").read())\n",
    "        listingDiv = bsdata.find(\"div\", {\"class\": \"listing\"})\n",
    "        if listingDiv:\n",
    "            refs = listingDiv.findAll(\"a\")\n",
    "            fData.update({mdbid.get(ref): {\"Name\": ref.text, \"Ref\": ref.get('href')} for ref in refs})\n",
    "        print(len(fData),'\\t',ifile)\n",
    "        artistData.update(fData)\n",
    "    artistData = DataFrame(artistData).T\n",
    "    artistData = artistData[artistData[\"Ref\"].apply(lambda ref: isinstance(ref,str))]\n",
    "    saveData[aType] = artistData"
   ]
  },
  {
   "cell_type": "code",
   "execution_count": null,
   "id": "cdd1dc66",
   "metadata": {
    "hidden": true
   },
   "outputs": [],
   "source": [
    "mio.data.saveSearchComposersData(data=saveData['composers'])\n",
    "mio.data.saveSearchPerformersData(data=saveData['performers'])"
   ]
  },
  {
   "cell_type": "markdown",
   "id": "d7ed154d",
   "metadata": {
    "heading_collapsed": true
   },
   "source": [
    "# Download Composer Data"
   ]
  },
  {
   "cell_type": "code",
   "execution_count": null,
   "id": "a9a45d63",
   "metadata": {
    "hidden": true
   },
   "outputs": [],
   "source": [
    "mio   = classicalarchives.MusicDBIO(verbose=False,local=True,mkDirs=False)"
   ]
  },
  {
   "cell_type": "code",
   "execution_count": null,
   "id": "46b53c11",
   "metadata": {
    "hidden": true
   },
   "outputs": [],
   "source": [
    "useSearchData = True\n",
    "if useSearchData is True:\n",
    "    composerNames      = searchComposers #.sort_values(by=\"Num\", ascending=False)\n",
    "    localComposersDict = localComposers.get()\n",
    "    composerNamesToGet = composerNames[~composerNames.index.isin(localComposersDict.keys())].sample(frac=1)\n",
    "\n",
    "    print(\"# {0} Search Results\".format(db))\n",
    "    print(\"#   Available Names:      {0}\".format(len(composerNames)))\n",
    "    print(\"#   Known Artist Names:   {0}\".format(len(localComposersDict)))\n",
    "    print(\"#   Artist Names To Get:  {0}\".format(len(composerNamesToGet)))"
   ]
  },
  {
   "cell_type": "code",
   "execution_count": null,
   "id": "38453206",
   "metadata": {
    "hidden": true
   },
   "outputs": [],
   "source": [
    "if False:\n",
    "    localComposersDict  = localComposers.get()\n",
    "    for i,(composerID,row) in enumerate(composerNamesToGet.iterrows()):\n",
    "        composerName = row[\"Name\"]\n",
    "        composerRef  = row[\"Ref\"]\n",
    "        localComposersDict[composerID] = composerName\n",
    "        if len(localComposersDict) == 500:\n",
    "            break\n",
    "\n",
    "    print(\"Saving {0} {1} Composers Data\".format(len(localComposersDict), db))\n",
    "    localComposers.save(data=localComposersDict)"
   ]
  },
  {
   "cell_type": "code",
   "execution_count": null,
   "id": "2b362028",
   "metadata": {
    "hidden": true
   },
   "outputs": [],
   "source": [
    "from timeutils import Timestat, TermTime\n",
    "import random\n",
    "\n",
    "ts = Timestat(\"Getting {0} composerIDs\".format(db))\n",
    "tt = TermTime(\"tomorrow\", \"9:50am\")\n",
    "#tt = TermTime(\"today\", \"7:00pm\")\n",
    "maxN = 5000000\n",
    "\n",
    "n  = 0\n",
    "localComposersDict  = localComposers.get()\n",
    "searchedForErrors   = errors.get()\n",
    "N = composerNamesToGet.shape[0]\n",
    "\n",
    "for i,(composerID,row) in enumerate(composerNamesToGet.iterrows()):\n",
    "    composerName = row[\"Name\"]\n",
    "    composerRef  = row[\"Ref\"]\n",
    "    if localComposersDict.get(composerID) is not None:\n",
    "        continue\n",
    "    #if searchedForErrors.get(composerID) is not None:\n",
    "    #    continue\n",
    "        \n",
    "    url = f\"https://www.classicalarchives.com{composerRef}\"\n",
    "    savename = f\"/Users/tgadfort/Desktop/ClassicalArchives/Composer/{composerID}.html\"\n",
    "    #if FileInfo(savename).exists():\n",
    "    #    continue\n",
    "    print(f\"{i+1: >5}/{N: <10}{url: <60} ==> \", end=\"\")\n",
    "    dscript  = getScript(url, savename, dtime=7+random.randint(0,5))\n",
    "    code,out,err = osascript.run(dscript)\n",
    "    if FileInfo(savename).exists():\n",
    "        print(f\"{composerID}\")\n",
    "        localComposersDict[composerID] = composerName\n",
    "    else:\n",
    "        searchedForErrors[composerID] = composerName\n",
    "        print(f\"Error in download.\")\n",
    "        \n",
    "    n += 1\n",
    "        \n",
    "    if n % 10 == 0 or n >= maxN:\n",
    "        print(\"=\"*150)\n",
    "        ts.update(n=n)\n",
    "        print(\"Saving {0} {1} Composers Data\".format(len(localComposersDict), db))\n",
    "        localComposers.save(data=localComposersDict)\n",
    "        if len(searchedForErrors) > 0:\n",
    "            errors.save(data=searchedForErrors)\n",
    "        print(\"=\"*150)\n",
    "        webio.wait(5.0)\n",
    "        if tt.isFinished() or n >= maxN:\n",
    "            break\n",
    "    \n",
    "ts.stop()\n",
    "print(\"Saving {0} {1} Composers Data\".format(len(localComposersDict), db))\n",
    "localComposers.save(data=localComposersDict)\n",
    "if len(searchedForErrors) > 0:\n",
    "    print(\"Saving {0} {1} Errors\".format(len(searchedForErrors), db))\n",
    "    errors.save(data=searchedForErrors)"
   ]
  },
  {
   "cell_type": "markdown",
   "id": "6f3e1115",
   "metadata": {},
   "source": [
    "# Download Performer Data"
   ]
  },
  {
   "cell_type": "code",
   "execution_count": null,
   "id": "eab42bc4",
   "metadata": {},
   "outputs": [],
   "source": [
    "mio   = classicalarchives.MusicDBIO(verbose=False,local=True,mkDirs=False)"
   ]
  },
  {
   "cell_type": "code",
   "execution_count": null,
   "id": "07fadcc8",
   "metadata": {},
   "outputs": [],
   "source": [
    "useSearchData = True\n",
    "\n",
    "if useSearchData is True:\n",
    "    performerNames      = searchPerformers #.sort_values(by=\"Num\", ascending=False)\n",
    "    localPerformersDict = localPerformers.get()\n",
    "    performerNamesToGet = performerNames[~performerNames.index.isin(localPerformersDict.keys())].sample(frac=1)\n",
    "\n",
    "    print(\"# {0} Search Results\".format(db))\n",
    "    print(\"#   Available Names:      {0}\".format(len(performerNames)))\n",
    "    print(\"#   Known Artist Names:   {0}\".format(len(localPerformersDict)))\n",
    "    print(\"#   Artist Names To Get:  {0}\".format(len(performerNamesToGet)))\n",
    "    \n",
    "#   Artist Names To Get:  18518\n",
    "#   Artist Names To Get:  9042"
   ]
  },
  {
   "cell_type": "code",
   "execution_count": null,
   "id": "4d255445",
   "metadata": {},
   "outputs": [],
   "source": [
    "from timeutils import Timestat, TermTime\n",
    "import random\n",
    "\n",
    "ts = Timestat(\"Getting {0} performerIDs\".format(db))\n",
    "#tt = TermTime(\"tomorrow\", \"9:50am\")\n",
    "tt = TermTime(\"today\", \"10:00pm\")\n",
    "maxN = 50000\n",
    "\n",
    "n  = 0\n",
    "localPerformersDict = localPerformers.get()\n",
    "searchedForErrors   = errors.get()\n",
    "N = performerNamesToGet.shape[0]\n",
    "\n",
    "for i,(performerID,row) in enumerate(performerNamesToGet.iterrows()):\n",
    "    performerName = row[\"Name\"]\n",
    "    performerRef  = row[\"Ref\"]\n",
    "    if localPerformersDict.get(performerID) is not None:\n",
    "        continue\n",
    "    #if searchedForErrors.get(performerID) is not None:\n",
    "    #    continue\n",
    "        \n",
    "    url = f\"https://www.classicalarchives.com{performerRef}\"\n",
    "    savename = f\"/Users/tgadfort/Desktop/ClassicalArchives/Performer/{performerID}.html\"\n",
    "    if FileInfo(savename).exists():\n",
    "        continue\n",
    "    print(f\"{i+1: >5}/{N: <10}{url: <60} ==> \", end=\"\")\n",
    "    dscript  = getScript(url, savename, dtime=7+random.randint(0,5))\n",
    "    code,out,err = osascript.run(dscript)\n",
    "    if FileInfo(savename).exists():\n",
    "        print(f\"{performerID}\")\n",
    "        localPerformersDict[performerID] = performerName\n",
    "    else:\n",
    "        searchedForErrors[performerID] = performerName\n",
    "        print(f\"Error in download.\")\n",
    "        \n",
    "    n += 1\n",
    "        \n",
    "    if n % 8 == 0 or n >= maxN:\n",
    "        print(\"=\"*150)\n",
    "        ts.update(n=n)\n",
    "        print(\"Saving {0} {1} performers Data\".format(len(localPerformersDict), db))\n",
    "        localPerformers.save(data=localPerformersDict)\n",
    "        if len(searchedForErrors) > 0:\n",
    "            errors.save(data=searchedForErrors)\n",
    "        print(\"=\"*150)\n",
    "        webio.wait(4.0)\n",
    "        if tt.isFinished() or n >= maxN:\n",
    "            break\n",
    "    \n",
    "ts.stop()\n",
    "print(\"Saving {0} {1} performers Data\".format(len(localPerformersDict), db))\n",
    "localPerformers.save(data=localPerformersDict)\n",
    "if len(searchedForErrors) > 0:\n",
    "    print(\"Saving {0} {1} Errors\".format(len(searchedForErrors), db))\n",
    "    errors.save(data=searchedForErrors)"
   ]
  },
  {
   "cell_type": "code",
   "execution_count": null,
   "id": "63180d89",
   "metadata": {},
   "outputs": [],
   "source": [
    "localPerformers.save(data=localPerformersDict)"
   ]
  },
  {
   "cell_type": "code",
   "execution_count": null,
   "id": "fbdb4b87",
   "metadata": {},
   "outputs": [],
   "source": [
    "from lib.classicalarchives import moveLocalFiles, removeLocalFiles\n",
    "moveLocalFiles()\n",
    "#removeLocalFiles()\n",
    "#localPerformers.save(data=localPerformersDict)"
   ]
  },
  {
   "cell_type": "code",
   "execution_count": null,
   "id": "4b4d53c9",
   "metadata": {},
   "outputs": [],
   "source": [
    "mio.prd.parseComposerData(modVal=1, force=True)\n",
    "mio.prd.mergeModValData(modVal=1)"
   ]
  },
  {
   "cell_type": "markdown",
   "id": "56b0ca23",
   "metadata": {},
   "source": [
    "# Download & Parse"
   ]
  },
  {
   "cell_type": "code",
   "execution_count": null,
   "id": "faee2baf",
   "metadata": {},
   "outputs": [],
   "source": [
    "from fileutils import DirInfo\n",
    "from ioutils import FileIO\n",
    "aTypeDir = \"Composer\"\n",
    "mioLocal  = DirInfo(f\"/Users/tgadfort/Desktop/ClassicalArchives/{aTypeDir}\")\n",
    "io        = FileIO()\n",
    "print(\"  ==> Finding Files in {0}: \".format(mioLocal.str), end=\"\")\n",
    "files = list(mioLocal.glob(\"*.htm*\"))\n",
    "print(\"  ==> Found {0} Files\".format(len(files)))"
   ]
  },
  {
   "cell_type": "code",
   "execution_count": null,
   "id": "ff289fe1",
   "metadata": {},
   "outputs": [],
   "source": [
    "composerID=\"23701\"\n",
    "composerRef=f\"/composer/{composerID}.html\"\n",
    "url = f\"https://www.classicalarchives.com{composerRef}\"\n",
    "savename = f\"/Users/tgadfort/Desktop/ClassicalArchives/Composer/{composerID}.html\"\n",
    "print(f\"{url: <60} ==> \", end=\"\")\n",
    "dscript  = getScript(url, savename, dtime=3+random.randint(0,5))\n",
    "code,out,err = osascript.run(dscript)\n",
    "print(f\"{savename}\")"
   ]
  },
  {
   "cell_type": "code",
   "execution_count": null,
   "id": "1bd1c95c",
   "metadata": {},
   "outputs": [],
   "source": [
    "names = mio.data.getSummaryNameData()"
   ]
  },
  {
   "cell_type": "code",
   "execution_count": null,
   "id": "60cd3404",
   "metadata": {},
   "outputs": [],
   "source": [
    "names[names.index.isin([FileInfo(ifile).basename for ifile in files])].head(30)"
   ]
  },
  {
   "cell_type": "code",
   "execution_count": null,
   "id": "d4c53b99",
   "metadata": {},
   "outputs": [],
   "source": [
    "ifile = '/Users/tgadfort/Desktop/ClassicalArchives/Composer/23701.html'\n",
    "data  = open(ifile, encoding=\"ascii\").read()"
   ]
  },
  {
   "cell_type": "code",
   "execution_count": null,
   "id": "58e5e500",
   "metadata": {},
   "outputs": [],
   "source": [
    "data"
   ]
  },
  {
   "cell_type": "code",
   "execution_count": null,
   "id": "f1475ef1",
   "metadata": {},
   "outputs": [],
   "source": []
  },
  {
   "cell_type": "code",
   "execution_count": null,
   "id": "2dd70532",
   "metadata": {},
   "outputs": [],
   "source": [
    "\n",
    "        files = list(mioLocal.glob(\"*.htm*\"))\n",
    "        ts = Timestat(\"Moving {0} Local Files To Global Directories\".format(len(files)))\n",
    "        for n,ifile in enumerate(files):\n",
    "            if (n+1) % 25 == 0:\n",
    "                ts.update(n=n+1,N=len(files))\n",
    "            dbID    = FileInfo(ifile).basename\n",
    "            modVal  = mioGlobal.getModVal(dbID)\n",
    "            dstFile = FileInfo(eval(f\"mioGlobal.data.getRaw{aTypeDir}Filename(modVal,dbID)\"))"
   ]
  },
  {
   "cell_type": "code",
   "execution_count": null,
   "id": "792288d0",
   "metadata": {},
   "outputs": [],
   "source": []
  },
  {
   "cell_type": "code",
   "execution_count": null,
   "id": "143b70f6",
   "metadata": {},
   "outputs": [],
   "source": []
  },
  {
   "cell_type": "code",
   "execution_count": null,
   "id": "a755eb4e",
   "metadata": {},
   "outputs": [],
   "source": []
  },
  {
   "cell_type": "code",
   "execution_count": null,
   "id": "d53cb87f",
   "metadata": {},
   "outputs": [],
   "source": [
    "from utils import PoolIO\n",
    "pio = PoolIO(\"ClassicalArchives\")\n",
    "#pio.parse(force=True)\n",
    "pio.merge()\n",
    "pio.meta()\n",
    "pio.sum()\n",
    "pio.search()"
   ]
  },
  {
   "cell_type": "code",
   "execution_count": null,
   "id": "2b98ee3d",
   "metadata": {},
   "outputs": [],
   "source": []
  },
  {
   "cell_type": "code",
   "execution_count": null,
   "id": "77186ba8",
   "metadata": {},
   "outputs": [],
   "source": []
  },
  {
   "cell_type": "code",
   "execution_count": null,
   "id": "cb59f5d0",
   "metadata": {},
   "outputs": [],
   "source": [
    "# Multiple pages\n",
    "#https://www.classicalarchives.com/artist/6138.html"
   ]
  },
  {
   "cell_type": "code",
   "execution_count": null,
   "id": "efc91125",
   "metadata": {},
   "outputs": [],
   "source": [
    "from collections import Counter\n",
    "cntr = Counter()\n",
    "for modVal in range(100):\n",
    "    data = mio.data.getModValData(modVal)\n",
    "    for k,v in data.iteritems():\n",
    "        for name,vals in v.mediaCounts.counts.items():\n",
    "            cntr[name] += vals"
   ]
  },
  {
   "cell_type": "code",
   "execution_count": null,
   "id": "b3d63599",
   "metadata": {},
   "outputs": [],
   "source": [
    "cntr.most_common()"
   ]
  },
  {
   "cell_type": "code",
   "execution_count": null,
   "id": "f737b750",
   "metadata": {},
   "outputs": [],
   "source": []
  },
  {
   "cell_type": "code",
   "execution_count": null,
   "id": "90b927ba",
   "metadata": {},
   "outputs": [],
   "source": []
  },
  {
   "cell_type": "code",
   "execution_count": null,
   "id": "7d39e5a8",
   "metadata": {},
   "outputs": [],
   "source": [
    "from lib.classicalarchives import RawDBData\n",
    "rdbData = RawDBData(debug=False)\n",
    "retval = rdbData.getPerformerData('/Volumes/Piggy/Discog/artists-classicalarchives/4/performer/105604.p')"
   ]
  },
  {
   "cell_type": "code",
   "execution_count": null,
   "id": "d520d172",
   "metadata": {},
   "outputs": [],
   "source": [
    "retval.show()"
   ]
  },
  {
   "cell_type": "code",
   "execution_count": null,
   "id": "a6583d17",
   "metadata": {},
   "outputs": [],
   "source": [
    "retval.media.media[\"Performances\"][0].get()"
   ]
  },
  {
   "cell_type": "code",
   "execution_count": null,
   "id": "c4b359f0",
   "metadata": {},
   "outputs": [],
   "source": []
  },
  {
   "cell_type": "code",
   "execution_count": null,
   "id": "3d400d6b",
   "metadata": {},
   "outputs": [],
   "source": []
  },
  {
   "cell_type": "code",
   "execution_count": null,
   "id": "3eb2a920",
   "metadata": {},
   "outputs": [],
   "source": []
  },
  {
   "cell_type": "code",
   "execution_count": null,
   "id": "d664d666",
   "metadata": {},
   "outputs": [],
   "source": [
    "bsdata = hio.get(io.get('/Volumes/Piggy/Discog/artists-classicalarchives/4/performer/105604.p'))"
   ]
  },
  {
   "cell_type": "code",
   "execution_count": null,
   "id": "77c2cf46",
   "metadata": {
    "scrolled": true
   },
   "outputs": [],
   "source": [
    "bsdata"
   ]
  },
  {
   "cell_type": "code",
   "execution_count": null,
   "id": "5844191e",
   "metadata": {},
   "outputs": [],
   "source": []
  },
  {
   "cell_type": "code",
   "execution_count": null,
   "id": "37c4a7e5",
   "metadata": {},
   "outputs": [],
   "source": [
    "jsonData['albums']"
   ]
  },
  {
   "cell_type": "code",
   "execution_count": null,
   "id": "8193c915",
   "metadata": {},
   "outputs": [],
   "source": [
    "jsonLines = [line.strip().split(\" = \")[-1] for line in jsData.split(\"\\n\")]"
   ]
  },
  {
   "cell_type": "code",
   "execution_count": null,
   "id": "18043dfd",
   "metadata": {},
   "outputs": [],
   "source": [
    "jsonLines"
   ]
  },
  {
   "cell_type": "code",
   "execution_count": null,
   "id": "409ccf59",
   "metadata": {},
   "outputs": [],
   "source": [
    "\n",
    "try:\n",
    "    jsonData = [json.loads(jsonLine[:-3]) for jsonLine in jsonLines]\n",
    "except:\n",
    "    jsonData = []"
   ]
  },
  {
   "cell_type": "code",
   "execution_count": null,
   "id": "98672536",
   "metadata": {},
   "outputs": [],
   "source": []
  }
 ],
 "metadata": {
  "kernelspec": {
   "display_name": "Python 3 (ipykernel)",
   "language": "python",
   "name": "python3"
  },
  "language_info": {
   "codemirror_mode": {
    "name": "ipython",
    "version": 3
   },
   "file_extension": ".py",
   "mimetype": "text/x-python",
   "name": "python",
   "nbconvert_exporter": "python",
   "pygments_lexer": "ipython3",
   "version": "3.11.4"
  },
  "toc": {
   "base_numbering": 1,
   "nav_menu": {},
   "number_sections": true,
   "sideBar": true,
   "skip_h1_title": false,
   "title_cell": "Table of Contents",
   "title_sidebar": "Contents",
   "toc_cell": false,
   "toc_position": {},
   "toc_section_display": true,
   "toc_window_display": false
  }
 },
 "nbformat": 4,
 "nbformat_minor": 5
}
