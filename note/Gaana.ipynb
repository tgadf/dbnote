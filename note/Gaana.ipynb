{
 "cells": [
  {
   "cell_type": "code",
   "execution_count": null,
   "id": "509866ef",
   "metadata": {},
   "outputs": [],
   "source": [
    "%load_ext autoreload\n",
    "from IPython.display import display, HTML\n",
    "display(HTML(\"<style>.container { width:100% !important; }</style>\"))"
   ]
  },
  {
   "cell_type": "code",
   "execution_count": null,
   "id": "a6a9e9ff",
   "metadata": {},
   "outputs": [],
   "source": [
    "from dbmaster import MasterParams, MasterPersist\n",
    "from dbbase import MusicDBIDModVal, MusicDBDir, MusicDBData\n",
    "from dbnote import DownloadRecord, MergeSearchArtist\n",
    "from utils import FileIO, DirInfo, FileInfo, getFlatList, Timestat, TermTime, TermTimeTS, getTT\n",
    "from pandas import Series, DataFrame, concat, Timestamp\n",
    "from pandb import PanDBIO\n",
    "from musicdb.gaana import MusicDBParams, RawWebData, MusicDBIO\n",
    "from musicdb import getdbio\n",
    "from functools import partial\n",
    "from os import getpid\n",
    "\n",
    "mv = MusicDBIDModVal()\n",
    "io = FileIO()\n",
    "mpar = MusicDBParams()\n",
    "dbio = MusicDBIO()\n",
    "webio = RawWebData()\n",
    "db = mpar.db"
   ]
  },
  {
   "cell_type": "code",
   "execution_count": null,
   "id": "17810033-ee5e-4874-9fbb-d68311932b54",
   "metadata": {},
   "outputs": [],
   "source": [
    "searchArtistRecord = DownloadRecord(db=db, name=\"SearchArtist\", rTypes=[\"Index\", \"Data\"])\n",
    "downloadArtistRecord = DownloadRecord(db=db, name=\"DownloadArtist\", rTypes=[\"Index\"])\n",
    "allArtists = partial(dbio.rdio.getData, \"SearchArtist\")\n",
    "knownArtists = dbio.rdio.getSummaryNameData"
   ]
  },
  {
   "cell_type": "code",
   "execution_count": null,
   "id": "dbd14e52-96d4-46ae-848f-748843a6be3a",
   "metadata": {},
   "outputs": [],
   "source": [
    "if False:\n",
    "    from utils import FileInfo\n",
    "    import shutil\n",
    "    db = dbio.params.db\n",
    "    dbdir = dbio.params.dir\n",
    "    nameMap = {\"MasterArtists\": \"SearchArtist\", \"LocalArtists\": \"DownloadArtist\", \"LocalAlbums\": \"DownloadAlbum\"}\n",
    "    nameMap = nameMap | {\"LocalArtistsTracks\": \"DownloadArtistTrack\", \"LocalArtistsReleases\": \"DownloadArtistRelease\"}\n",
    "    dinfo = DirInfo(f\"/Users/tgadfort/anaconda3/envs/post/pandb/musicdb/{db}\")\n",
    "    \n",
    "    cpMap = {}\n",
    "    for origname, newname in nameMap.items():\n",
    "        cpMap[f\"{dbdir}SearchedFor{origname}\"] = f\"{db}-{newname}-Index\"\n",
    "        cpMap[f\"{dbdir}SearchedFor{origname}Data\"] = f\"{db}-{newname}-Data\"\n",
    "        cpMap[f\"{dbdir}SearchedFor{origname}Errors\"] = f\"{db}-{newname}-Error\"\n",
    "    assert dinfo.exists(), f\"{dinfo} does not exist!\"\n",
    "    for srcFile, dstFile in cpMap.items():\n",
    "        srcFile = dinfo.join(f\"{srcFile}.p\")\n",
    "        dstFile = dinfo.join(f\"{dstFile}.p\")\n",
    "        if srcFile.exists():\n",
    "            srcFile.mvFile(dstFile)"
   ]
  },
  {
   "cell_type": "code",
   "execution_count": null,
   "id": "52c93053",
   "metadata": {},
   "outputs": [],
   "source": [
    "##########################################################################################\n",
    "# Show Summary\n",
    "##########################################################################################\n",
    "print(f\"{db} Search Results (PID={getpid()})\".format(db))\n",
    "searchArtistRecord.info()\n",
    "downloadArtistRecord.info()\n",
    "#print(f\"  {'KnownArtist Data': <20}: {knownArtists().shape[0]}\")"
   ]
  },
  {
   "cell_type": "markdown",
   "id": "bb7d5872",
   "metadata": {
    "heading_collapsed": true,
    "jp-MarkdownHeadingCollapsed": true
   },
   "source": [
    "# Search For New Artists"
   ]
  },
  {
   "cell_type": "code",
   "execution_count": null,
   "id": "0614622d-2a0a-4ca6-bc44-49faa30e5d02",
   "metadata": {},
   "outputs": [],
   "source": [
    "######################################################################################################\n",
    "# Explode Recent Data\n",
    "######################################################################################################\n",
    "def getNewData(searchArtistRecord):    \n",
    "    newData = searchArtistRecord.getData()\n",
    "    if len(newData) == 0:\n",
    "        return DataFrame()    \n",
    "    df = DataFrame(concat([Series(s) for s in newData.values()]))\n",
    "    df.index = df.index.astype(str)\n",
    "    newData = df[~df.index.duplicated()]\n",
    "    newData.columns = [\"Name\"]\n",
    "    return newData\n",
    "\n",
    "def mergeNewData(searchArtistRecord):\n",
    "    searchArtistRecord.load(verbose=False)\n",
    "    newData = getNewData(searchArtistRecord)\n",
    "    msr = MergeSearchArtist(db)\n",
    "    msr.mergeLocal(searchArtistRecord, newData, test=False)"
   ]
  },
  {
   "cell_type": "code",
   "execution_count": null,
   "id": "df19d5fd-b956-4196-89d2-2f0161809ae0",
   "metadata": {},
   "outputs": [],
   "source": [
    "usepdb = False\n",
    "usejio = True\n",
    "\n",
    "dbio = MusicDBIO(verbose=False,local=True,mkDirs=False)\n",
    "webio = RawWebData(debug=False)\n",
    "if usepdb is True:\n",
    "    knownNames = PanDBIO().getUniqueMatchedArtistNames(\"JioSaavn\")\n",
    "elif usejio is True:\n",
    "    jiodbio = getdbio(\"JioSaavn\")\n",
    "    knownNames = jiodbio.rdio.getSummaryNameData()\n",
    "mergeNewData(searchArtistRecord)\n",
    "searchedNames = Series(searchArtistRecord.getIndex())\n",
    "artistNamesToGet = knownNames[~knownNames.map(searchArtistRecord.isKnown)]\n",
    "\n",
    "print(f\"# {db} Search Results\")\n",
    "print(f\"#   Available Names:     {knownNames.shape[0]}\")\n",
    "print(f\"#   Known Artist Names:  {searchedNames.shape[0]}\")\n",
    "print(f\"#   Artist Names To Get: {artistNamesToGet.shape[0]}\")\n",
    "\n",
    "del searchedNames\n",
    "del knownNames"
   ]
  },
  {
   "cell_type": "code",
   "execution_count": null,
   "id": "54addaa5",
   "metadata": {
    "hidden": true
   },
   "outputs": [],
   "source": [
    "ts = Timestat(f\"Getting {db} ArtistIDs\")\n",
    "tt = getTT(skipEOD=False, vacation=True)\n",
    "assert dbio.rdio.isLocal, f\"MusicDBIO is not set for local downloads!\"\n",
    "\n",
    "def isError(artistName, nErrors, sleeptime, error=None):\n",
    "    searchArtistRecord.setError(index=artistName)\n",
    "    print(f\"Search Error ==> {artistName}: {error}\")\n",
    "    nErrors.append(artistName)\n",
    "    webio.sleep(sleeptime)\n",
    "    \n",
    "n = 0\n",
    "maxN = 25000000\n",
    "nErrors = []\n",
    "searchArtistRecord.load(verbose=False)\n",
    "for i, (idx, artistName) in enumerate(artistNamesToGet.items()):\n",
    "    if searchArtistRecord.isKnown(artistName):\n",
    "        continue\n",
    "\n",
    "    if len(nErrors) >= 5:\n",
    "        print(\"Stopping due to 5 consecutive errors\")\n",
    "        break\n",
    "\n",
    "    try:\n",
    "        response = webio.getArtistSearchData(artistName=artistName)\n",
    "    except Exception as error:\n",
    "        isError(artistName, nErrors, 10, error)\n",
    "        continue\n",
    "\n",
    "    if not isinstance(response, dict):\n",
    "        isError(artistName, nErrors, 3.5, \"NotDict\")\n",
    "        continue\n",
    "\n",
    "    nErrors = []\n",
    "    searchArtistRecord.setData(index=artistName, data=response)\n",
    "    webio.sleep(5.0)\n",
    "    n += 1\n",
    "        \n",
    "    if n % 25 == 0:\n",
    "        ts.update(n=n)\n",
    "        searchArtistRecord.save()\n",
    "        webio.wait(15.0)\n",
    "        if tt.isFinished():\n",
    "            break\n",
    "    \n",
    "    if n >= maxN:\n",
    "        print(\"Breaking after {0} downloads...\".format(maxN))\n",
    "        break\n",
    "\n",
    "ts.stop()\n",
    "searchArtistRecord.save()"
   ]
  },
  {
   "cell_type": "code",
   "execution_count": null,
   "id": "89b2bfe0-7d1e-4e7e-98db-7b8b72ea3b5b",
   "metadata": {},
   "outputs": [],
   "source": [
    "searchArtistRecord.save()"
   ]
  },
  {
   "cell_type": "code",
   "execution_count": null,
   "id": "3486462a-19c7-456f-9575-cfaae6d97b1f",
   "metadata": {},
   "outputs": [],
   "source": [
    "msa = MergeSearchArtist(dbio.db)\n",
    "msa.copyFromLocal(force=True)"
   ]
  },
  {
   "cell_type": "markdown",
   "id": "80515f1b",
   "metadata": {},
   "source": [
    "# Download Artist Data"
   ]
  },
  {
   "cell_type": "code",
   "execution_count": null,
   "id": "5fc8663a",
   "metadata": {},
   "outputs": [],
   "source": [
    "dbio = MusicDBIO(verbose=False,local=True,mkDirs=True)\n",
    "webio = RawWebData(debug=False)\n",
    "knownNames = DataFrame(allArtists()).reset_index().rename(columns={0: \"Name\", \"index\": \"Ref\"})\n",
    "knownNames.index = knownNames[\"Ref\"].map(dbio.getdbid)\n",
    "knownNames['ModVal'] = knownNames.index.map(mv.getModVal)\n",
    "downloadedNames = Series(downloadArtistRecord.getIndex())\n",
    "availableNames = knownNames[~knownNames.index.isin(downloadedNames.index)]\n",
    "artistNamesToGet = Series({modVal: modValDF for modVal,modValDF in availableNames.groupby(\"ModVal\")})\n",
    "\n",
    "print(f\"# {db} Search Results\")\n",
    "print(f\"#   Available Names:     {knownNames.shape[0]}\")\n",
    "print(f\"#   Known Artist Names:  {downloadedNames.shape[0]}\")\n",
    "print(f\"#   Artist Names To Get: {availableNames.shape[0]}\")\n",
    "\n",
    "del availableNames\n",
    "del downloadedNames\n",
    "del knownNames"
   ]
  },
  {
   "cell_type": "code",
   "execution_count": null,
   "id": "526dbbe7-2306-4df6-a0f7-a4f1fa3d5bbe",
   "metadata": {},
   "outputs": [],
   "source": [
    "ts = Timestat(f\"Getting {db} ArtistIDs\")\n",
    "tt = getTT(skipEOD=False, vacation=True)\n",
    "assert dbio.rdio.isLocal, f\"MusicDBIO is not set for local downloads!\"\n",
    "\n",
    "def isError(artistID, artistName, nErrors, sleeptime, error=None):\n",
    "    downloadArtistRecord.setError(index=artistID)\n",
    "    print(f\"Download Error ==> {artistName}: {error}\")\n",
    "    nErrors.append(artistID)\n",
    "    webio.sleep(sleeptime)\n",
    "    \n",
    "n = 0\n",
    "maxN = 2500000\n",
    "stop = False\n",
    "nErrors = []\n",
    "for modVal,modValData in artistNamesToGet.items():\n",
    "    #modVal = groupModVal[0]\n",
    "    if stop is True:\n",
    "        break\n",
    "    N = modValData.shape[0]\n",
    "    for i,(artistID,row) in enumerate(modValData.iterrows()):\n",
    "        if downloadArtistRecord.isKnown(artistID):\n",
    "            continue\n",
    "    \n",
    "        if len(nErrors) >= 5:\n",
    "            print(\"Stopping due to 5 consecutive errors\")\n",
    "            stop = True\n",
    "            break\n",
    "\n",
    "        artistRef = row[\"Ref\"]\n",
    "        artistName = row[\"Name\"]\n",
    "    \n",
    "        print(f\"{modVal: <8} | {i: <8} | {N: <8} | {n: <8} | \", end=\"\")\n",
    "        \n",
    "        try:\n",
    "            response = webio.getArtistData(artistName=artistName, artistRef=artistRef)\n",
    "        except Exception as error:\n",
    "            isError(artistID, artistName, nErrors, 5, error)\n",
    "            continue\n",
    "    \n",
    "        if not isinstance(response, bytes):\n",
    "            isError(artistID, artistName, nErrors, 4.5, \"NotBytes\")\n",
    "            continue\n",
    "\n",
    "        nErrors = []\n",
    "        downloadArtistRecord.setIndex(index=artistID)\n",
    "        dbio.rdio.saveData(\"RawArtist\", modVal, artistID, data=response)\n",
    "        webio.sleep(4.0)\n",
    "        n += 1\n",
    "            \n",
    "        if n % 25 == 0:\n",
    "            ts.update(n=n)\n",
    "            downloadArtistRecord.save()\n",
    "            webio.wait(15.0)\n",
    "            if tt.isFinished():\n",
    "                stop = True\n",
    "                break\n",
    "        \n",
    "        if n >= maxN:\n",
    "            print(f\"Breaking after {maxN} downloads...\")\n",
    "            stop = True\n",
    "            break\n",
    "\n",
    "ts.stop()\n",
    "downloadArtistRecord.save()"
   ]
  },
  {
   "cell_type": "code",
   "execution_count": null,
   "id": "8755c841-ab80-4d11-904c-b0bac22e1414",
   "metadata": {},
   "outputs": [],
   "source": [
    "downloadArtistRecord.save()"
   ]
  },
  {
   "cell_type": "code",
   "execution_count": null,
   "id": "5a327725-aba4-4b8d-8e8d-cc56e9ed77fd",
   "metadata": {},
   "outputs": [],
   "source": [
    "from utils import getHTML\n",
    "bsdata = getHTML(response)\n",
    "bsdata"
   ]
  },
  {
   "cell_type": "code",
   "execution_count": null,
   "id": "7feeb850-a6a6-4268-9fea-da7e240f4681",
   "metadata": {},
   "outputs": [],
   "source": [
    "dbio.rdio.getFilename(\"RawArtist\", modVal, artistID)"
   ]
  },
  {
   "cell_type": "code",
   "execution_count": null,
   "id": "7b63d0de-df3a-461c-9b48-b4845dfaaa18",
   "metadata": {},
   "outputs": [],
   "source": [
    "from dbraw import getJSON, getTagText\n",
    "def getBasicData(bsdata):\n",
    "    for scriptTag in bsdata.findAll(\"script\", {\"type\": \"application/ld+json\"}):\n",
    "        jDataText = getTagText(scriptTag)\n",
    "        jData = getJSON(jDataText)\n",
    "        if not isinstance(jData, dict):\n",
    "            continue\n",
    "        jType = jData.get('@type')\n",
    "        if jType != \"MusicGroup\":\n",
    "            continue\n",
    "        artistName = jData.get('name')\n",
    "        artistURL = jData.get('url')\n",
    "        artistImage = jData.get('image')"
   ]
  },
  {
   "cell_type": "code",
   "execution_count": null,
   "id": "44ee8d7e-9505-4b9a-af60-a068c81f7e75",
   "metadata": {},
   "outputs": [],
   "source": [
    "albumsSecTag = None\n",
    "podcastsSecTag = None\n",
    "similarArtistsSecTag = None\n",
    "extraTagSec = bsdata.findAll(\"section\", {\"class\": \"caro\"})\n",
    "for tag in extraTagSec:\n",
    "    h2Tag = tag.find(\"h2\")\n",
    "    if not isTag(h2Tag):\n",
    "        continue\n",
    "    text = getTagText(h2Tag)\n",
    "    if isinstance(text, str) and text == \"Top Albums\":\n",
    "        albumsSecTag = tag\n",
    "    if isinstance(text, str) and text == \"Top Podcasts\":\n",
    "        podcastsSecTag = tag\n",
    "    if isinstance(text, str) and text == \"Similar Artists\":\n",
    "        similarArtistsSecTag = tag"
   ]
  },
  {
   "cell_type": "code",
   "execution_count": null,
   "id": "794c3ab1-a0a4-42d4-ba6b-8ac258146f66",
   "metadata": {},
   "outputs": [],
   "source": [
    "from dbraw import isTag\n",
    "def getMedia(bsdata):\n",
    "    basicData = []\n",
    "    songListSecTag = bsdata.find(\"section\", {\"class\": \"song-list\"})\n",
    "    for div in songListSecTag.findAll(\"div\", {\"class\": \"_grp\"}):\n",
    "        nameurl = div.find(\"a\", {\"class\": \"_tra\"})\n",
    "        artists = div.findAll(\"a\", {\"class\": \"_link\"})\n",
    "        if not isTag(nameurl):\n",
    "            continue\n",
    "        url = nameurl.get('href')\n",
    "        name = nameurl.text.split(\">\")[-1].strip()\n",
    "        artists = {ref.get('href'): ref.get('title') for ref in artists} if isTag(ref) else None\n",
    "        basicData.append({\"Name\": name, \"URL\": url, \"Artists\": artists})\n",
    "    \n",
    "    albumData = songListSecTag.findAll(\"div\", {\"class\": \"_alb\"})\n",
    "    albumRefs = [div.find(\"a\") for div in albumData]\n",
    "    albumRefs = [{\"AlbumURL\": ref.get('href'), \"AlbumName\": ref.get('title')} for ref in albumRefs if isTag(ref)]\n",
    "    \n",
    "    durationData = songListSecTag.findAll(\"li\", {\"class\": \"_dur\"})\n",
    "    durData = [{\"Duration\": dur.text} for dur in durationData if \":\" in dur.text]\n",
    "    for basic, album, dur in list(zip(basicData, albumRefs, durData)):\n",
    "        media = basic | album | dur"
   ]
  },
  {
   "cell_type": "code",
   "execution_count": null,
   "id": "e794fdea-d90e-4666-a795-7dca7264226a",
   "metadata": {},
   "outputs": [],
   "source": [
    "def getSimilarArtists(similarArtistsSecTag):\n",
    "    similarArtists = {}\n",
    "    for item in similarArtistsSecTag.findAll(\"li\"):\n",
    "        ref = item.find(\"a\", {\"class\": \"al\"})\n",
    "        url = ref.get('href')\n",
    "        name = ref.text.split(\">\")[-1].strip()\n",
    "        similarArtists[url] = name"
   ]
  },
  {
   "cell_type": "code",
   "execution_count": null,
   "id": "cbbcf369-f3e8-4703-9e17-fbc1a19d6ab6",
   "metadata": {},
   "outputs": [],
   "source": [
    "def getAlbums(albumsSecTag):\n",
    "    topAlbums = {}\n",
    "    for item in albumsSecTag.findAll(\"li\"):\n",
    "        ref = item.find(\"a\", {\"class\": \"al\"})\n",
    "        url = ref.get('href')\n",
    "        name = ref.text.split(\">\")[-1].strip()\n",
    "        topAlbums[url] = name"
   ]
  },
  {
   "cell_type": "code",
   "execution_count": null,
   "id": "c8aa32cb",
   "metadata": {},
   "outputs": [],
   "source": [
    "artistNames            = searchArtists()\n",
    "artistNames['IndexModVal'] = artistNames.index.map(mv.getModVal)\n",
    "localArtistsDict       = localArtists.get()\n",
    "localArtistsErrorsDict = localArtistsErrors.get()\n",
    "availableNames         = artistNames[~artistNames.index.isin(localArtistsDict.keys())]\n",
    "availableNames         = availableNames[~availableNames.index.isin(localArtistsErrorsDict.keys())]\n",
    "artistNamesToGet = Series({modVal: modValDF for modVal,modValDF in availableNames.groupby([\"IndexModVal\"])})\n",
    "\n",
    "\n",
    "print(\"# {0} Search Results\".format(db))\n",
    "print(\"#   Available Names:      {0}\".format(len(artistNames)))\n",
    "print(\"#   Known Artist Names:   {0}\".format(len(localArtistsDict)))\n",
    "print(\"#   Artist Names To Get:  {0}\".format(len(availableNames)))\n",
    "\n",
    "del availableNames\n",
    "del localArtistsErrorsDict\n",
    "del localArtistsDict\n",
    "del artistNames\n",
    "\n",
    "#   Artist Names To Get:  3051"
   ]
  },
  {
   "cell_type": "code",
   "execution_count": null,
   "id": "e7145553",
   "metadata": {},
   "outputs": [],
   "source": [
    "def saveArtistData(db, localArtistsDict, localArtistsDictErrors):\n",
    "    print(\"=\"*150)\n",
    "    print(f\"Saving {len(localArtistsDict)} {db} Artists Data\")\n",
    "    localArtists.save(data=localArtistsDict)\n",
    "    print(f\"Saving {len(localArtistsDictErrors)} {db} Artists Data Errors\")\n",
    "    localArtistsErrors.save(data=localArtistsDictErrors)\n",
    "    print(\"=\"*150)"
   ]
  },
  {
   "cell_type": "code",
   "execution_count": null,
   "id": "cb6354bd",
   "metadata": {},
   "outputs": [],
   "source": [
    "ts = Timestat(\"Getting {0} ArtistIDs\".format(db))\n",
    "tt = getTT(skipEOD=False)\n",
    "\n",
    "n    = 0\n",
    "maxN = 2500000\n",
    "localArtistsDict = localArtists.get()\n",
    "localArtistsDictErrors = localArtistsErrors.get()\n",
    "stop = False\n",
    "nErrors = []\n",
    "for groupModVal,modValData in artistNamesToGet.iteritems():\n",
    "    if stop is True:\n",
    "        break\n",
    "    for j,(artistID,row) in enumerate(modValData.iterrows()):\n",
    "        if len(nErrors) >= 5:\n",
    "            for artistID in nErrors:\n",
    "                print(f\"del searchedForErrors['{artistID}']\")\n",
    "                stop=True\n",
    "                break\n",
    "        if any([dct.get(artistID) is not None for dct in [localArtistsDict, localArtistsDictErrors]]):\n",
    "            continue\n",
    "            \n",
    "        artistName  = row[\"Name\"]\n",
    "        artistRef   = row[\"Ref\"]\n",
    "\n",
    "        print(f\"{groupModVal: <8} |{j: <8} | {n: <8} | \", end=\"\")\n",
    "        try:\n",
    "            response = webio.getArtistData(artistName=artistName, artistRef=artistRef)\n",
    "        except:\n",
    "            print(\"Error ==> {0}\".format(artistName))\n",
    "            localArtistsDictErrors[artistID] = True\n",
    "            nErrors.append(artistID)\n",
    "            webio.sleep(10)\n",
    "            continue\n",
    "\n",
    "        if not isinstance(response,bytes):\n",
    "            print(\"Error ==> {0}\".format(artistName))\n",
    "            localArtistsDictErrors[artistID] = True\n",
    "            nErrors.append(artistID)\n",
    "            webio.sleep(3.5)\n",
    "            continue\n",
    "\n",
    "        nErrors = []\n",
    "        modVal  = mv.getModVal(artistID)\n",
    "        mio.data.saveRawArtistData(data=response, modval=modVal, dbID=artistID)\n",
    "        localArtistsDict[artistID] = True\n",
    "        webio.sleep(4.5)\n",
    "        n += 1\n",
    "        nLastErrors = 0\n",
    "        \n",
    "        if n % 5 == 0:\n",
    "            if tt.isFinished():\n",
    "                stop=True\n",
    "                break\n",
    "\n",
    "        if n % 50 == 0:\n",
    "            webio.sleep(5)\n",
    "            \n",
    "        if n % 100 == 0:\n",
    "            saveArtistData(db, localArtistsDict, localArtistsDictErrors)\n",
    "            if tt.isFinished():\n",
    "                stop=True\n",
    "                break\n",
    "            webio.wait(10.0)\n",
    "\n",
    "        if n >= maxN:\n",
    "            print(\"Breaking after {0} downloads...\".format(maxN))\n",
    "            stop=True\n",
    "            break\n",
    "\n",
    "ts.stop()\n",
    "if True: saveArtistData(db, localArtistsDict, localArtistsDictErrors)"
   ]
  },
  {
   "cell_type": "code",
   "execution_count": null,
   "id": "0c73ade6",
   "metadata": {},
   "outputs": [],
   "source": [
    "if True: saveArtistData(db, localArtistsDict, localArtistsDictErrors)"
   ]
  },
  {
   "cell_type": "markdown",
   "id": "e943fd7f",
   "metadata": {
    "heading_collapsed": true,
    "jp-MarkdownHeadingCollapsed": true
   },
   "source": [
    "# Download Album Data"
   ]
  },
  {
   "cell_type": "markdown",
   "id": "60841744",
   "metadata": {
    "heading_collapsed": true,
    "hidden": true
   },
   "source": [
    "## Create Media Data"
   ]
  },
  {
   "cell_type": "code",
   "execution_count": null,
   "id": "fba8df92",
   "metadata": {
    "hidden": true
   },
   "outputs": [],
   "source": [
    "mediaData = {}\n",
    "for modVal in range(100):\n",
    "    modValData = mio.data.getModValData(modVal)\n",
    "    modValMediaData = {}\n",
    "    for artistID,artistIDData in modValData.iteritems():\n",
    "        for mediaType,mediaTypeData in artistIDData.media.media.items():\n",
    "            modValMediaData.update({code: [artistID,media.album,media.url] for code,media in mediaTypeData.items()})\n",
    "    mediaData.update(modValMediaData)\n",
    "    if (modVal+1) % 10 == 0:\n",
    "        print(f\"ModVal = {modVal+1}\")\n",
    "        \n",
    "df = DataFrame(mediaData).T\n",
    "df.columns = [\"ArtistID\", \"Name\", \"Ref\"]\n",
    "knownMedia.save(data=df)"
   ]
  },
  {
   "cell_type": "markdown",
   "id": "4adc39f5",
   "metadata": {
    "hidden": true
   },
   "source": [
    "## Download Data"
   ]
  },
  {
   "cell_type": "code",
   "execution_count": null,
   "id": "c3926b7d",
   "metadata": {
    "hidden": true
   },
   "outputs": [],
   "source": [
    "mio   = bandcamp.MusicDBIO(verbose=False,local=True,mkDirs=False)\n",
    "webio = bandcamp.RawWebData(debug=False)"
   ]
  },
  {
   "cell_type": "code",
   "execution_count": null,
   "id": "3cc84ddf",
   "metadata": {
    "hidden": true
   },
   "outputs": [],
   "source": [
    "useArtist = False\n",
    "numMaster = 250\n",
    "\n",
    "knownAlbumsData = knownMedia.get()\n",
    "knownAlbumsData['IndexModVal'] = knownAlbumsData.index.map(mio.getModVal)\n",
    "availableNames  = concat([artistIDDF.head(numMaster) for artistID,artistIDDF in knownAlbumsData.groupby([\"ArtistID\"])])\n",
    "localAlbumsDict = localAlbums.get()\n",
    "availableNames  = availableNames[~availableNames.index.isin(localAlbumsDict.keys())]\n",
    "albumNamesToGet = Series({modVal: modValDF for modVal,modValDF in availableNames.groupby([\"IndexModVal\"])})\n",
    "\n",
    "print(f\"# {db} Album Search Results\")\n",
    "print(f\"#   Available Album IDs:  {knownAlbumsData.shape[0]}\")\n",
    "print(f\"#   Known Album IDs:      {len(localAlbumsDict)}\")\n",
    "print(f\"#   Albums To Download:   {availableNames.shape[0]}\")\n",
    "\n",
    "del availableNames\n",
    "del localAlbumsDict\n",
    "del knownAlbumsData\n",
    "\n",
    "#   Albums To Download:   23457\n",
    "#   Albums To Download:   20437\n",
    "#   Albums To Download:   12137\n",
    "#   Albums To Download:   4132"
   ]
  },
  {
   "cell_type": "code",
   "execution_count": null,
   "id": "d85b7827",
   "metadata": {
    "hidden": true
   },
   "outputs": [],
   "source": [
    "def saveAlbumData(db, localAlbumsDict, searchedForErrors):\n",
    "    print(\"=\"*150)\n",
    "    print(f\"Saving {len(localAlbumsDict)} {db} Albums Data\")\n",
    "    localAlbums.save(data=localAlbumsDict)\n",
    "    print(f\"Saving {len(searchedForErrors)} {db} Searched For Errors\")\n",
    "    errors.save(data=searchedForErrors)\n",
    "    print(\"=\"*150)"
   ]
  },
  {
   "cell_type": "code",
   "execution_count": null,
   "id": "27cb8e07",
   "metadata": {
    "hidden": true
   },
   "outputs": [],
   "source": [
    "ts = Timestat(\"Getting {0} AlbumIDs\".format(db))\n",
    "tt = getTT(skipEOD=False)\n",
    "\n",
    "n    = 0\n",
    "maxN = 25000000\n",
    "localAlbumsDict     = localAlbums.get()\n",
    "searchedForErrors   = errors.get()\n",
    "stop = False\n",
    "nErrors = []\n",
    "for groupModVal,modValData in albumNamesToGet.iteritems():\n",
    "    if stop is True:\n",
    "        break\n",
    "    for j,(albumID,row) in enumerate(modValData.iterrows()):\n",
    "        if len(nErrors) >= 5:\n",
    "            for artistID in nErrors:\n",
    "                print(f\"del searchedForErrors['{artistID}']\")\n",
    "                stop=True\n",
    "                break\n",
    "        if any([dct.get(albumID) is not None for dct in [localAlbumsDict, searchedForErrors]]):\n",
    "            continue\n",
    "            \n",
    "        artistID   = row[\"ArtistID\"]\n",
    "        albumName  = row[\"Name\"]\n",
    "        albumRef  = row[\"Ref\"]\n",
    "\n",
    "        print(f\"{groupModVal: <8} |{j: <8} | {n: <8} | \", end=\"\")\n",
    "        try:\n",
    "            response = webio.getAlbumData(albumName=albumName, albumRef=albumRef)\n",
    "        except:\n",
    "            print(\"Error ==> {0}\".format(albumName))\n",
    "            searchedForErrors[albumID] = True\n",
    "            nErrors.append(albumID)\n",
    "            webio.sleep(10)\n",
    "            continue\n",
    "\n",
    "        if not isinstance(response,bytes):\n",
    "            print(\"Error ==> {0}\".format(albumName))\n",
    "            searchedForErrors[albumID] = True\n",
    "            nErrors.append(albumID)\n",
    "            webio.sleep(3.5)\n",
    "            continue\n",
    "\n",
    "        nErrors = []\n",
    "        modVal=mio.mv.get(albumID)\n",
    "        mio.data.saveRawArtistAlbumData(data=response, modval=modVal, dbID=albumID)\n",
    "        localAlbumsDict[albumID] = True\n",
    "        webio.sleep(4.5)\n",
    "        n += 1\n",
    "        nLastErrors = 0\n",
    "        \n",
    "        if n % 5 == 0:\n",
    "            if tt.isFinished():\n",
    "                stop=True\n",
    "                break\n",
    "\n",
    "        if n % 50 == 0:\n",
    "            webio.sleep(5)\n",
    "            \n",
    "        if n % 100 == 0:\n",
    "            saveAlbumData(db, localAlbumsDict, searchedForErrors)\n",
    "            if tt.isFinished():\n",
    "                stop=True\n",
    "                break\n",
    "            webio.wait(10.0)\n",
    "\n",
    "        if n >= maxN:\n",
    "            print(\"Breaking after {0} downloads...\".format(maxN))\n",
    "            stop=True\n",
    "            break\n",
    "\n",
    "ts.stop()\n",
    "if True: saveAlbumData(db, localAlbumsDict, searchedForErrors)"
   ]
  },
  {
   "cell_type": "code",
   "execution_count": null,
   "id": "d69d83f3",
   "metadata": {
    "hidden": true
   },
   "outputs": [],
   "source": [
    "from os import getpid\n",
    "getpid()"
   ]
  },
  {
   "cell_type": "markdown",
   "id": "0f5ffb07",
   "metadata": {
    "heading_collapsed": true
   },
   "source": [
    "# Download Lists"
   ]
  },
  {
   "cell_type": "markdown",
   "id": "c87ebfa0",
   "metadata": {
    "hidden": true
   },
   "source": [
    "## Download Starter"
   ]
  },
  {
   "cell_type": "code",
   "execution_count": null,
   "id": "340aed0e",
   "metadata": {
    "hidden": true
   },
   "outputs": [],
   "source": [
    "from apiutils import WebIO\n",
    "from ioutils import FileIO, HTMLIO\n",
    "io  = FileIO()\n",
    "hio = HTMLIO()\n",
    "wio = WebIO()"
   ]
  },
  {
   "cell_type": "code",
   "execution_count": null,
   "id": "33406fc6",
   "metadata": {
    "hidden": true
   },
   "outputs": [],
   "source": [
    "starter             = {}\n",
    "starter[\"List\"]     = \"https://www.bandcamp.org/lists.php\"\n",
    "starter[\"Genre\"]    = \"https://www.bandcamp.org/genre.php\"\n",
    "#starterBestAlbum = \"https://www.bandcamp.org/ratings/6-highest-rated/2023/1\"\n",
    "starter[\"Rating\"]   = \"https://www.bandcamp.org/ratings\"\n",
    "starter[\"Discover\"] = \"https://www.bandcamp.org/discover\"\n",
    "starter[\"Releases\"] = \"https://www.bandcamp.org/releases\"\n",
    "starter[\"MustHear\"] = \"https://www.bandcamp.org/must-hear\"\n",
    "\n",
    "savename = \"../../sandbox/AOTYstarter.p\"\n",
    "starterData = io.get(savename)\n",
    "for key,url in starter.items():\n",
    "    if starterData.get(key) is not None:\n",
    "        continue\n",
    "    retval = wio.get(url)\n",
    "    if retval.code == 200:\n",
    "        print(key)\n",
    "        starterData[key] = retval.data\n",
    "    wio.sleep(3)\n",
    "        \n",
    "print(f\"Saving data to {savename}\")\n",
    "io.save(idata=starterData, ifile=savename)"
   ]
  },
  {
   "cell_type": "code",
   "execution_count": null,
   "id": "1b9627b1",
   "metadata": {
    "hidden": true
   },
   "outputs": [],
   "source": [
    "useStarter = False\n",
    "useSite    = True\n",
    "\n",
    "if useStarter is True:\n",
    "    aotyData = io.get(\"../../sandbox/AOTYstarter.p\")\n",
    "elif useSite is True:\n",
    "    aotyData = io.get(\"../../sandbox/AOTYsiteData.p\") | io.get(\"../../sandbox/AOTYsiteData2.p\")\n",
    "else:\n",
    "    aotyData = {}\n",
    "    \n",
    "N  = len(aotyData)\n",
    "ts = Timestat(f\"Sorting {N} Site Refs\")\n",
    "refsData = {\"List\": {}, \"Lists\": {}, \"Rating\": {}, \"Album\": {}, \"Artist\": {}, \"Discover\": {}, \"Genre\": {}, \"MustHear\": {}, \"Release\": {}, \"Spotify\": {}, \"Apple\": {}, \"Amazon\": {}, \"User\": {}}\n",
    "for n,(key,keyData) in enumerate(aotyData.items()):\n",
    "    if (n+1) % 500 == 0 or (n+1) == 100:\n",
    "        ts.update(n=n+1, N=N)\n",
    "        \n",
    "    bsdata = hio.get(keyData)\n",
    "    refs = bsdata.findAll(\"a\")\n",
    "    for ref in refs:\n",
    "        href = ref.get('href')\n",
    "        if not isinstance(href,str):\n",
    "            continue\n",
    "        if href.startswith(\"/list/\"):\n",
    "            refsData[\"List\"][href] = ref.text.strip()\n",
    "        elif \"lists.php\" in href:\n",
    "            refsData[\"Lists\"][href] = ref.text.strip()\n",
    "        elif href.startswith(\"/ratings/\"):\n",
    "            refsData[\"Rating\"][href] = ref.text.strip()\n",
    "        elif href.startswith(\"/artist/\"):\n",
    "            refsData[\"Artist\"][href] = ref.text.strip()\n",
    "        elif href.startswith(\"/album/\"):\n",
    "            refsData[\"Album\"][href] = ref.text.strip()\n",
    "        elif href.startswith(\"/discover/\"):\n",
    "            refsData[\"Discover\"][href] = ref.text.strip()\n",
    "        elif href.startswith(\"/genre/\"):\n",
    "            refsData[\"Genre\"][href] = ref.text.strip()\n",
    "        elif href.startswith(\"/must-hear/\"):\n",
    "            refsData[\"MustHear\"][href] = ref.text.strip()\n",
    "        elif \"/releases/\" in href:\n",
    "            refsData[\"Release\"][href] = ref.text.strip()\n",
    "        elif \"spotify.com\" in href:\n",
    "            refsData[\"Spotify\"][href] = ref.text.strip()\n",
    "        elif \"apple.com\" in href:\n",
    "            refsData[\"Apple\"][href] = ref.text.strip()\n",
    "        elif \"amazon.com\" in href:\n",
    "            refsData[\"Amazon\"][href] = ref.text.strip()\n",
    "        elif \"/user/\" in href:\n",
    "            refsData[\"User\"][href] = ref.text.strip()\n",
    "        else:\n",
    "            continue\n",
    "            print(href,'\\t|\\t',ref.text)\n",
    "            \n",
    "ts.stop()"
   ]
  },
  {
   "cell_type": "code",
   "execution_count": null,
   "id": "4104a0c5",
   "metadata": {
    "hidden": true
   },
   "outputs": [],
   "source": [
    "savename = \"../../sandbox/AOTYsiteRefs.p\"\n",
    "print(f\"Saving data to {savename}\")\n",
    "for key,keyData in refsData.items():\n",
    "    print(f\"  {key: <20}{len(keyData)}\")\n",
    "io.save(idata=refsData, ifile=savename)"
   ]
  },
  {
   "cell_type": "code",
   "execution_count": null,
   "id": "d6d88b46",
   "metadata": {
    "hidden": true
   },
   "outputs": [],
   "source": [
    "siteData   = {}\n",
    "artistData = {}\n",
    "albumData  = {}\n",
    "userData   = {}\n",
    "otherData  = {}\n",
    "\n",
    "if False:\n",
    "    for ref,name in refsData[\"List\"].items():\n",
    "        if ref.startswith(\"/artist/\"):\n",
    "            artistData[ref] = name\n",
    "        elif ref.startswith(\"/album/\"):\n",
    "            albumData[ref] = name\n",
    "        elif ref.startswith(\"/user/\"):\n",
    "            userData[ref] = name\n",
    "        elif ref.startswith(\"/\"):\n",
    "            siteData[ref] = name\n",
    "        else:\n",
    "            otherData[ref] = name\n",
    "else:\n",
    "    for key,keyData in refsData.items():\n",
    "        for ref,name in keyData.items():\n",
    "            if ref.startswith(\"/artist/\"):\n",
    "                artistData[ref] = name\n",
    "            elif ref.startswith(\"/album/\"):\n",
    "                albumData[ref] = name\n",
    "            elif ref.startswith(\"/user/\"):\n",
    "                userData[ref] = name\n",
    "            elif ref.startswith(\"/\"):\n",
    "                if \"/list/\" in ref:\n",
    "                    siteData[ref] = name\n",
    "                else:\n",
    "                    otherData[ref] = name\n",
    "            else:\n",
    "                otherData[ref] = name\n",
    "            \n",
    "print(f\"Found {len(artistData)} Artist Refs\")\n",
    "print(f\"Found {len(albumData)} Album Refs\")\n",
    "print(f\"Found {len(userData)} User Refs\")\n",
    "print(f\"Found {len(siteData)} Site Refs\")\n",
    "print(f\"Found {len(otherData)} Other Refs\")"
   ]
  },
  {
   "cell_type": "code",
   "execution_count": null,
   "id": "551c70cf",
   "metadata": {
    "hidden": true
   },
   "outputs": [],
   "source": [
    "for year in range(1970,2005):\n",
    "    key = f'/lists.php?y={year}'\n",
    "    val = 'View More'\n",
    "    siteData[key] = val"
   ]
  },
  {
   "cell_type": "code",
   "execution_count": null,
   "id": "8ee2cf2a",
   "metadata": {
    "hidden": true
   },
   "outputs": [],
   "source": [
    "savename1 = \"../../sandbox/AOTYsiteData.p\"\n",
    "siteDataDownloads1 = io.get(savename1)\n",
    "print(f\"Found {len(siteDataDownloads1)} Previous Downloads\")\n",
    "savename2 = \"../../sandbox/AOTYsiteData2.p\"\n",
    "siteDataDownloads2 = io.get(savename2)\n",
    "print(f\"Found {len(siteDataDownloads2)} Previous Downloads\")\n",
    "N = len(siteData)\n",
    "ts = Timestat(f\"Downloading {N} Site Refs\")\n",
    "for n,(ref,name) in enumerate(siteData.items()):\n",
    "    url=f\"https://www.bandcamp.org{ref}\"\n",
    "    if any([dct.get(ref) is not None for dct in [siteDataDownloads1,siteDataDownloads2]]):\n",
    "        continue\n",
    "    \n",
    "    retval = wio.get(url)\n",
    "    if retval.code == 200:\n",
    "        print(f\"{n: <6} | {N: <6} | {ref}\")\n",
    "        siteDataDownloads2[ref] = retval.data\n",
    "    wio.sleep(3)\n",
    "    \n",
    "    if (n+1) % 25 == 0:\n",
    "        ts.update(n=n+1,N=N)\n",
    "        print(f\"Saving {len(siteDataDownloads2)} data to {savename2}\")\n",
    "        io.save(idata=siteDataDownloads2, ifile=savename2)\n",
    "\n",
    "ts.stop()\n",
    "        \n",
    "print(f\"Saving data to {savename2}\")\n",
    "io.save(idata=siteDataDownloads2, ifile=savename2)"
   ]
  },
  {
   "cell_type": "code",
   "execution_count": null,
   "id": "31757bc0",
   "metadata": {
    "hidden": true
   },
   "outputs": [],
   "source": [
    "siteDataDownloads = io.get(\"../../sandbox/AOTYsiteData.p\")"
   ]
  },
  {
   "cell_type": "code",
   "execution_count": null,
   "id": "60389a81",
   "metadata": {
    "hidden": true
   },
   "outputs": [],
   "source": [
    "io.save(idata=siteDataDownloads, ifile=savename)"
   ]
  },
  {
   "cell_type": "markdown",
   "id": "9625faa6",
   "metadata": {
    "hidden": true
   },
   "source": [
    "## Check For New Data"
   ]
  },
  {
   "cell_type": "code",
   "execution_count": null,
   "id": "bee6ba90",
   "metadata": {
    "hidden": true
   },
   "outputs": [],
   "source": [
    "from lib.bandcamp import MusicDBID\n",
    "mid = MusicDBID()\n",
    "mid.getAlbumID('/album/515536-beyonce-renaissance/critic-lists/?f=all&y=2022')"
   ]
  },
  {
   "cell_type": "code",
   "execution_count": null,
   "id": "89396c35",
   "metadata": {
    "hidden": true
   },
   "outputs": [],
   "source": [
    "df = DataFrame(Series(refsData[\"Album\"])).reset_index().rename(columns={\"index\": \"Ref\", 0: \"List\"})\n",
    "df[\"AlbumID\"] = df[\"Ref\"].map(mid.getAlbumID)\n",
    "df = df[~df[\"AlbumID\"].duplicated()]"
   ]
  },
  {
   "cell_type": "code",
   "execution_count": null,
   "id": "5413dfa5",
   "metadata": {
    "hidden": true
   },
   "outputs": [],
   "source": [
    "df = DataFrame(Series(refsData[\"Artist\"])).reset_index().rename(columns={\"index\": \"Ref\", 0: \"Name\"})\n",
    "df[\"ArtistID\"] = df[\"Ref\"].map(mid.getArtistID)\n",
    "df = df[~df[\"ArtistID\"].duplicated()]"
   ]
  },
  {
   "cell_type": "code",
   "execution_count": null,
   "id": "bf390c07",
   "metadata": {
    "hidden": true
   },
   "outputs": [],
   "source": [
    "artistNames = searchArtists()"
   ]
  },
  {
   "cell_type": "code",
   "execution_count": null,
   "id": "9e048d3c",
   "metadata": {
    "hidden": true
   },
   "outputs": [],
   "source": [
    "df.index = df[\"ArtistID\"]\n",
    "df = df.drop([\"ArtistID\"], axis=1)\n",
    "artistNames = concat([artistNames,df])\n",
    "artistNames = artistNames[~artistNames.index.duplicated()]"
   ]
  },
  {
   "cell_type": "code",
   "execution_count": null,
   "id": "11e2e24e",
   "metadata": {
    "hidden": true
   },
   "outputs": [],
   "source": [
    "mio.data.saveSearchArtistData(data=artistNames)"
   ]
  },
  {
   "cell_type": "markdown",
   "id": "03eb06c2",
   "metadata": {},
   "source": [
    "# Backup"
   ]
  },
  {
   "cell_type": "code",
   "execution_count": null,
   "id": "21696e15",
   "metadata": {},
   "outputs": [],
   "source": [
    "from utils import StoreData, backup\n",
    "from numpy import array_split\n",
    "sd = StoreData(\"bandcamp\", \"Artist\")\n",
    "for modVals in array_split(range(100), 2):\n",
    "    sd.mergeLocalData(modVals=modVals)\n",
    "sd.mergeGlobalData()"
   ]
  },
  {
   "cell_type": "code",
   "execution_count": null,
   "id": "60404c5a",
   "metadata": {},
   "outputs": [],
   "source": [
    "from time import sleep\n",
    "sleep(200)\n",
    "sd.mergeGlobalData()"
   ]
  },
  {
   "cell_type": "code",
   "execution_count": null,
   "id": "22c968e7",
   "metadata": {},
   "outputs": [],
   "source": [
    "for modVal in range(67):\n",
    "    srcDir = DirInfo(f\"/Volumes/Piggy/Discog/artists-bandcamp/{modVal}/artists\")\n",
    "    files  = [FileInfo(ifile) for ifile in srcDir.getFiles()]\n",
    "    files  = [finfo for finfo in files if finfo.basename.isdigit()]\n",
    "    dstDir = DirInfo(f\"/Users/tgadfort/Music/Discog/artists-bandcamp/{modVal}/artists\")\n",
    "    for srcFile in files:\n",
    "        dstFile = dstDir.join(srcFile.name)\n",
    "        srcFile.mvFile(dstFile)"
   ]
  },
  {
   "cell_type": "code",
   "execution_count": null,
   "id": "6f16b7aa",
   "metadata": {},
   "outputs": [],
   "source": []
  }
 ],
 "metadata": {
  "kernelspec": {
   "display_name": "Python 3 (ipykernel)",
   "language": "python",
   "name": "python3"
  },
  "language_info": {
   "codemirror_mode": {
    "name": "ipython",
    "version": 3
   },
   "file_extension": ".py",
   "mimetype": "text/x-python",
   "name": "python",
   "nbconvert_exporter": "python",
   "pygments_lexer": "ipython3",
   "version": "3.11.4"
  },
  "toc": {
   "base_numbering": 1,
   "nav_menu": {},
   "number_sections": true,
   "sideBar": true,
   "skip_h1_title": false,
   "title_cell": "Table of Contents",
   "title_sidebar": "Contents",
   "toc_cell": false,
   "toc_position": {},
   "toc_section_display": true,
   "toc_window_display": false
  }
 },
 "nbformat": 4,
 "nbformat_minor": 5
}
