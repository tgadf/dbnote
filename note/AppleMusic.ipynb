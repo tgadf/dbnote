{
 "cells": [
  {
   "cell_type": "code",
   "execution_count": 1,
   "id": "509866ef",
   "metadata": {},
   "outputs": [
    {
     "data": {
      "text/html": [
       "<style>.container { width:100% !important; }</style>"
      ],
      "text/plain": [
       "<IPython.core.display.HTML object>"
      ]
     },
     "metadata": {},
     "output_type": "display_data"
    }
   ],
   "source": [
    "%load_ext autoreload\n",
    "from IPython.display import display, HTML\n",
    "display(HTML(\"<style>.container { width:100% !important; }</style>\"))"
   ]
  },
  {
   "cell_type": "code",
   "execution_count": 2,
   "id": "a6a9e9ff",
   "metadata": {},
   "outputs": [
    {
     "name": "stdout",
     "output_type": "stream",
     "text": [
      "Setting Raw Path To [DirInfo(path=/Volumes/Seagate)]\n"
     ]
    },
    {
     "name": "stderr",
     "output_type": "stream",
     "text": [
      "/Users/tgadfort/code/dbmaster/src/dbmaster/paths.py:22: UserWarning: Perm Path [DirInfo(path=/Volumes/Piggy)] Does Not Exist.\n",
      "  warnings.warn(f\"Perm Path [{permDrivePath}] Does Not Exist.\")\n"
     ]
    }
   ],
   "source": [
    "from dbmaster import MasterParams, MasterPersist\n",
    "from dbbase import MusicDBIDModVal, MusicDBDir, MusicDBData\n",
    "from dbnote import DownloadRecord, KnownRecord, MergeSearchArtist\n",
    "from utils import FileIO, DirInfo, FileInfo, getFlatList, Timestat, TermTime, TermTimeTS, getTT\n",
    "from pandas import Series, DataFrame, concat, Timestamp\n",
    "from pandb import PanDBIO\n",
    "from musicdb.applemusic import MusicDBParams, RawWebData, MusicDBIO, MusicDBID\n",
    "from os import getpid\n",
    "\n",
    "mv = MusicDBIDModVal()\n",
    "io = FileIO()\n",
    "mpar = MusicDBParams()\n",
    "dbio = MusicDBIO()\n",
    "webio = RawWebData()\n",
    "db = mpar.db"
   ]
  },
  {
   "cell_type": "code",
   "execution_count": 3,
   "id": "17810033-ee5e-4874-9fbb-d68311932b54",
   "metadata": {},
   "outputs": [
    {
     "name": "stdout",
     "output_type": "stream",
     "text": [
      "Setting Raw Path To [DirInfo(path=/Volumes/Seagate)]\n",
      "DownloadRecord(db=AppleMusic, name=SearchArtist, rTypes=['Index', 'Data'])\n",
      "Setting Raw Path To [DirInfo(path=/Volumes/Seagate)]\n",
      "DownloadRecord(db=AppleMusic, name=DownloadArtist, rTypes=['Index'])\n",
      "Setting Raw Path To [DirInfo(path=/Volumes/Seagate)]\n",
      "DownloadRecord(db=AppleMusic, name=DownloadAlbum, rTypes=['Index'])\n",
      "Setting Raw Path To [DirInfo(path=/Volumes/Seagate)]\n",
      "DownloadRecord(db=AppleMusic, name=KnownAlbum)\n",
      "Setting Raw Path To [DirInfo(path=/Volumes/Seagate)]\n",
      "DownloadRecord(db=AppleMusic, name=KnownPlaylist)\n",
      "Setting Raw Path To [DirInfo(path=/Volumes/Seagate)]\n",
      "DownloadRecord(db=AppleMusic, name=KnownCurator)\n",
      "Setting Raw Path To [DirInfo(path=/Volumes/Seagate)]\n",
      "DownloadRecord(db=AppleMusic, name=KnownStation)\n",
      "Setting Raw Path To [DirInfo(path=/Volumes/Seagate)]\n",
      "DownloadRecord(db=AppleMusic, name=KnownVideo)\n",
      "Setting Raw Path To [DirInfo(path=/Volumes/Seagate)]\n",
      "DownloadRecord(db=AppleMusic, name=KnownPost)\n"
     ]
    }
   ],
   "source": [
    "searchArtistRecord = DownloadRecord(db=db, name=\"SearchArtist\", rTypes=[\"Index\", \"Data\"])\n",
    "downloadArtistRecord = DownloadRecord(db=db, name=\"DownloadArtist\", rTypes=[\"Index\"])\n",
    "downloadAlbumRecord = DownloadRecord(db=db, name=\"DownloadAlbum\", rTypes=[\"Index\"])\n",
    "knownAlbumRecord = KnownRecord(db=db, name=\"KnownAlbum\", rTypes=[\"Index\", \"Data\"])\n",
    "knownPlaylistRecord = KnownRecord(db=db, name=\"KnownPlaylist\", rTypes=[\"Index\", \"Data\"])\n",
    "knownCuratorRecord = KnownRecord(db=db, name=\"KnownCurator\", rTypes=[\"Index\", \"Data\"])\n",
    "knownStationRecord = KnownRecord(db=db, name=\"KnownStation\", rTypes=[\"Index\", \"Data\"])\n",
    "knownVideoRecord = KnownRecord(db=db, name=\"KnownVideo\", rTypes=[\"Index\", \"Data\"])\n",
    "knownPostRecord = KnownRecord(db=db, name=\"KnownPost\", rTypes=[\"Index\", \"Data\"])\n",
    "knownArtists = dbio.rdio.getSummaryNameData"
   ]
  },
  {
   "cell_type": "code",
   "execution_count": null,
   "id": "dbd14e52-96d4-46ae-848f-748843a6be3a",
   "metadata": {},
   "outputs": [],
   "source": [
    "if False:\n",
    "    from utils import FileInfo\n",
    "    import shutil\n",
    "    db = dbio.params.db\n",
    "    dbdir = dbio.params.dir\n",
    "    nameMap = {\"MasterArtists\": \"SearchArtist\", \"LocalArtists\": \"DownloadArtist\", \"LocalAlbums\": \"DownloadAlbum\"}\n",
    "    dinfo = DirInfo(f\"/Users/tgadfort/anaconda3/envs/post/pandb/musicdb/{db}\")\n",
    "    \n",
    "    cpMap = {}\n",
    "    for origname, newname in nameMap.items():\n",
    "        cpMap[f\"{dbdir}SearchedFor{origname}\"] = f\"{db}-{newname}-Index\"\n",
    "        cpMap[f\"{dbdir}SearchedFor{origname}Data\"] = f\"{db}-{newname}-Data\"\n",
    "        cpMap[f\"{dbdir}SearchedFor{origname}Errors\"] = f\"{db}-{newname}-Error\"\n",
    "    assert dinfo.exists(), f\"{dinfo} does not exist!\"\n",
    "    for srcFile, dstFile in cpMap.items():\n",
    "        srcFile = dinfo.join(f\"{srcFile}.p\")\n",
    "        dstFile = dinfo.join(f\"{dstFile}.p\")\n",
    "        if srcFile.exists():\n",
    "            srcFile.mvFile(dstFile)"
   ]
  },
  {
   "cell_type": "code",
   "execution_count": null,
   "id": "52c93053",
   "metadata": {},
   "outputs": [],
   "source": [
    "##########################################################################################\n",
    "# Show Summary\n",
    "##########################################################################################\n",
    "print(f\"{db} Search Results (PID={getpid()})\".format(db))\n",
    "searchArtistRecord.info()\n",
    "downloadArtistRecord.info()\n",
    "downloadAlbumRecord.info()\n",
    "knownAlbumRecord.info()\n",
    "knownPlaylistRecord.info()\n",
    "knownCuratorRecord.info()\n",
    "knownStationRecord.info()\n",
    "knownVideoRecord.info()\n",
    "knownPostRecord.info()\n",
    "print(f\"  {'KnownArtist Data': <20}: {knownArtists().shape[0]}\")"
   ]
  },
  {
   "cell_type": "markdown",
   "id": "bb7d5872",
   "metadata": {
    "heading_collapsed": true
   },
   "source": [
    "# Search For New Artists"
   ]
  },
  {
   "cell_type": "code",
   "execution_count": 4,
   "id": "42261368-68bf-4bba-85cf-ccac91e4053c",
   "metadata": {},
   "outputs": [],
   "source": [
    "######################################################################################################\n",
    "# Explode Recent Data\n",
    "######################################################################################################\n",
    "def getNewData(searchArtistRecord):\n",
    "    newData = searchArtistRecord.getData()\n",
    "    if len(newData) == 0:\n",
    "        return DataFrame()\n",
    "    newData = concat([DataFrame(s[\"Artist\"]).T for s in newData.values()])\n",
    "    newData.index = newData.index.astype(str)\n",
    "    newData = newData[~newData.index.duplicated()]\n",
    "    return newData\n",
    "\n",
    "def mergeNewData(searchArtistRecord):\n",
    "    searchArtistRecord.load(verbose=False)\n",
    "    newData = searchArtistRecord.getData()\n",
    "    if len(newData) == 0:\n",
    "        return\n",
    "    for idType in ['Album', 'Playlist', 'Curator', 'Station', 'Video', 'Post']:\n",
    "        keyData = {key: record.get(idType, {}) for key, record in newData.items()}\n",
    "        keyData = {key: value for s in keyData.values() for key, value in s.items()}\n",
    "        if len(keyData) == 0:\n",
    "            continue\n",
    "        exec(f\"known{idType}Record.load(verbose=False)\")\n",
    "        exec(f\"known{idType}Record.mergeData(keyData)\")\n",
    "        exec(f\"known{idType}Record.save()\")\n",
    "        \n",
    "    newData = getNewData(searchArtistRecord)\n",
    "    msr = MergeSearchArtist(db)\n",
    "    msr.mergeLocal(searchArtistRecord, newData, test=False)"
   ]
  },
  {
   "cell_type": "code",
   "execution_count": 8,
   "id": "df19d5fd-b956-4196-89d2-2f0161809ae0",
   "metadata": {},
   "outputs": [
    {
     "name": "stderr",
     "output_type": "stream",
     "text": [
      "/Users/tgadfort/code/dbmaster/src/dbmaster/paths.py:22: UserWarning: Perm Path [DirInfo(path=/Volumes/Piggy)] Does Not Exist.\n",
      "  warnings.warn(f\"Perm Path [{permDrivePath}] Does Not Exist.\")\n"
     ]
    },
    {
     "name": "stdout",
     "output_type": "stream",
     "text": [
      "Setting Raw Path To [DirInfo(path=/Volumes/Seagate)]\n",
      "Setting Raw Path To [DirInfo(path=/Volumes/Seagate)]\n",
      "Setting Raw Path To [DirInfo(path=/Volumes/Seagate)]\n",
      "*****************************************************************************************************************************\n",
      "*                                                     Saving KnownAlbum                                                     *\n",
      "*****************************************************************************************************************************\n",
      "  Saving Data [2046624] ... Done\n",
      "****************************************************************************************************************************\n",
      "*                                                   Saving KnownPlaylist                                                   *\n",
      "****************************************************************************************************************************\n",
      "  Saving Data [36949] ... Done\n",
      "*****************************************************************************************************************************\n",
      "*                                                    Saving KnownCurator                                                    *\n",
      "*****************************************************************************************************************************\n",
      "  Saving Data [1091] ... Done\n",
      "*****************************************************************************************************************************\n",
      "*                                                    Saving KnownStation                                                    *\n",
      "*****************************************************************************************************************************\n",
      "  Saving Data [36183] ... Done\n",
      "*****************************************************************************************************************************\n",
      "*                                                     Saving KnownVideo                                                     *\n",
      "*****************************************************************************************************************************\n",
      "  Saving Data [179696] ... Done\n",
      "****************************************************************************************************************************\n",
      "*                                                     Saving KnownPost                                                     *\n",
      "****************************************************************************************************************************\n",
      "  Saving Data [24869] ... Done\n",
      "****************************************************************************************************************************\n",
      "*                                             MergeSearchArtist(db=AppleMusic)                                             *\n",
      "****************************************************************************************************************************\n",
      "  ==> Creating copy of local SearchArtist data\n",
      "Setting Raw Path To [DirInfo(path=/Volumes/Seagate)]\n"
     ]
    },
    {
     "name": "stderr",
     "output_type": "stream",
     "text": [
      "/Users/tgadfort/code/dbmaster/src/dbmaster/paths.py:22: UserWarning: Perm Path [DirInfo(path=/Volumes/Piggy)] Does Not Exist.\n",
      "  warnings.warn(f\"Perm Path [{permDrivePath}] Does Not Exist.\")\n"
     ]
    },
    {
     "name": "stdout",
     "output_type": "stream",
     "text": [
      "  ==> Created copy of local SearchArtist data with (1661347, 3) shape\n",
      "Setting Raw Path To [DirInfo(path=/Volumes/Seagate)]\n"
     ]
    },
    {
     "name": "stderr",
     "output_type": "stream",
     "text": [
      "/Users/tgadfort/code/dbmaster/src/dbmaster/paths.py:22: UserWarning: Perm Path [DirInfo(path=/Volumes/Piggy)] Does Not Exist.\n",
      "  warnings.warn(f\"Perm Path [{permDrivePath}] Does Not Exist.\")\n"
     ]
    },
    {
     "name": "stdout",
     "output_type": "stream",
     "text": [
      "Found 18500 Searches\n",
      "Found 144872 Results\n",
      "Found 0 Duplicate Results\n",
      "Found 1661347 Previously Known Results\n",
      "Found 55069 New Results\n",
      "  ==> 7.83 All Results / Search\n",
      "  ==> 2.98 New Results / Search\n",
      "Saving 1716416 Data ... Setting Raw Path To [DirInfo(path=/Volumes/Seagate)]\n"
     ]
    },
    {
     "name": "stderr",
     "output_type": "stream",
     "text": [
      "/Users/tgadfort/code/dbmaster/src/dbmaster/paths.py:22: UserWarning: Perm Path [DirInfo(path=/Volumes/Piggy)] Does Not Exist.\n",
      "  warnings.warn(f\"Perm Path [{permDrivePath}] Does Not Exist.\")\n"
     ]
    },
    {
     "name": "stdout",
     "output_type": "stream",
     "text": [
      "Done\n",
      "Setting Raw Path To [DirInfo(path=/Volumes/Seagate)]\n",
      "*****************************************************************************************************************************\n",
      "*                                                 Initializing SearchArtist                                                 *\n",
      "*****************************************************************************************************************************\n",
      "  Initializing Data   ... Done\n",
      "# AppleMusic Search Results (PID=65638)\n",
      "#   Available Names:     1012663\n",
      "#   Known Artist Names:  333932\n",
      "#   Artist Names To Get: 678644\n"
     ]
    }
   ],
   "source": [
    "dbio = MusicDBIO(verbose=False,local=True,mkDirs=False)\n",
    "webio = RawWebData(debug=False)\n",
    "knownNames = PanDBIO().getUniqueUnmatchedArtistNames(db)\n",
    "mergeNewData(searchArtistRecord)\n",
    "searchedNames = Series(searchArtistRecord.getIndex())\n",
    "artistNamesToGet = knownNames[~knownNames.map(searchArtistRecord.isKnown)]\n",
    "\n",
    "print(f\"# {db} Search Results (PID={getpid()})\")\n",
    "print(f\"#   Available Names:     {knownNames.shape[0]}\")\n",
    "print(f\"#   Known Artist Names:  {searchedNames.shape[0]}\")\n",
    "print(f\"#   Artist Names To Get: {artistNamesToGet.shape[0]}\")\n",
    "\n",
    "del searchedNames\n",
    "del knownNames"
   ]
  },
  {
   "cell_type": "code",
   "execution_count": 7,
   "id": "54addaa5",
   "metadata": {
    "hidden": true
   },
   "outputs": [
    {
     "name": "stdout",
     "output_type": "stream",
     "text": [
      " [Getting AppleMusic ArtistIDs] | StartTime 2023-11-24 10:59:52\n",
      "   ====> Terminate Time Set To 2023-11-24 19:00:00 <====\n",
      "   ====> Will Terminate Process 8 Hour and 7 Second From Now\n",
      "Searching For Akkai                                             {'Artist': 19, 'Album': 12}\n",
      "Searching For Yung Sheikh                                       {'Artist': 13, 'Album': 9}\n",
      "Searching For Pathetic Son                                      {'Artist': 1, 'Album': 13}\n",
      "Searching For Nick Rossi                                        {'Artist': 3, 'Album': 9}\n",
      "Searching For Salvatore di Giacomo                              {'Artist': 20, 'Album': 11}\n",
      "Searching For Cir:cle                                           {'Artist': 14, 'Album': 9}\n",
      "Searching For Gustavo Dominguez                                 {'Artist': 13, 'Album': 14}\n",
      "Searching For Minor G                                           {'Artist': 31, 'Album': 12}\n",
      "Searching For Dr. Thulz                                         {'Artist': 9, 'Album': 13}\n",
      "Searching For Capital X                                         {'Artist': 12, 'Album': 9}\n",
      "Searching For Txmmy Gun                                         {'Artist': 1, 'Album': 9}\n",
      "Searching For Uttu                                              {'Artist': 11, 'Album': 14}\n",
      "Searching For Zero Four Hero                                    {'Artist': 3, 'Album': 8}\n",
      "Searching For Magnetic Ear                                      {'Artist': 4, 'Album': 7}\n",
      "Searching For Helmut Cool                                       {'Artist': 3, 'Album': 4}\n",
      "Searching For Jezabel Martinez                                  {'Artist': 1, 'Album': 7}\n",
      "Searching For Shelby Swain                                      {'Artist': 3, 'Album': 12}\n",
      "Searching For Hanta                                             {'Artist': 22, 'Album': 14}\n",
      "Searching For Filsufatia                                        {'Artist': 1, 'Album': 1}\n",
      "Searching For Alejo                                             {'Artist': 28, 'Album': 16}\n",
      "Searching For Runner and Bobby                                  {'Artist': 1, 'Album': 11}\n",
      "Searching For ChartStalker                                      {'Artist': 1, 'Album': 3}\n",
      "Searching For Chandra-Surya                                     {'Artist': 18, 'Album': 14}\n",
      "Searching For Yonge Jaundice                                    {'Artist': 16, 'Album': 12}\n",
      "Searching For Sotra                                             {'Artist': 26, 'Album': 14}\n",
      " [Getting AppleMusic ArtistIDs] | 25/?       : RunTime 2 Minute and 27 Second.\n",
      "*****************************************************************************************************************************\n",
      "*                                                    Saving SearchArtist                                                    *\n",
      "*****************************************************************************************************************************\n",
      "  Saving Index [329332] ... Done\n",
      "  Saving Data [13900] ... Done\n",
      "  Saving Error [85] ... Done\n"
     ]
    },
    {
     "data": {
      "application/vnd.jupyter.widget-view+json": {
       "model_id": "616692e643df4eb58847e0cd5d52b482",
       "version_major": 2,
       "version_minor": 0
      },
      "text/plain": [
       "Waiting:   0%|          | 0/50 [00:00<?, ?it/s]"
      ]
     },
     "metadata": {},
     "output_type": "display_data"
    },
    {
     "name": "stdout",
     "output_type": "stream",
     "text": [
      "Searching For School Daze                                       {'Artist': 15, 'Album': 16}\n",
      "Searching For Hard & Pure                                       {'Artist': 16, 'Album': 15}\n",
      "Searching For Vegar Dahl                                        {'Artist': 2, 'Album': 11}\n",
      "Searching For P.H.A.T.T.                                        {'Artist': 32, 'Album': 17}\n",
      "Searching For Emre Arisev                                       {'Artist': 5, 'Album': 14}\n",
      "Searching For Riva's Groove                                     {'Artist': 10, 'Album': 20}\n",
      "Searching For Trey Gordon                                       {'Artist': 2, 'Album': 9}\n",
      "Searching For Ruven Medici                                      {'Artist': 7, 'Album': 15}\n",
      "Searching For Arctic Domination                                 {'Artist': 2, 'Album': 8}\n",
      "Searching For Atari Alan                                        {'Artist': 5, 'Album': 14}\n",
      "Searching For Tong & Spoon                                      {'Artist': 8, 'Album': 11}\n",
      "Searching For Mark Mandelbaum                                   {'Artist': 0, 'Album': 0}\n",
      "Searching For Dave Olney                                        {'Artist': 3, 'Album': 5}\n",
      "Searching For Mikush                                            {'Artist': 8, 'Album': 11}\n",
      "Searching For Agent Babylon                                     {'Artist': 9, 'Album': 7}\n",
      "Searching For LA Trotsky                                        {'Artist': 3, 'Album': 9}\n",
      "Searching For Saint-Loup-en-Bray                                {'Artist': 4, 'Album': 12}\n",
      "Searching For Jan &amp; Solo                                    {'Artist': 30, 'Album': 10}\n",
      "Searching For Electric Penguins                                 {'Artist': 4, 'Album': 7}\n",
      "Searching For Konomi Sasaki                                     {'Artist': 15, 'Album': 1}\n",
      "Searching For Sam Shingler                                      {'Artist': 1, 'Album': 10}\n",
      "Searching For The Matter of China                               {'Artist': 5, 'Album': 7}\n",
      "Searching For Charlotte Petitte                                 {'Artist': 1, 'Album': 7}\n",
      "Searching For El Navegante                                      {'Artist': 22, 'Album': 14}\n",
      "Searching For Richard Wakley                                    {'Artist': 0, 'Album': 0}\n",
      " [Getting AppleMusic ArtistIDs] | 50/?       : RunTime 4 Minute and 59 Second.\n",
      "*****************************************************************************************************************************\n",
      "*                                                    Saving SearchArtist                                                    *\n",
      "*****************************************************************************************************************************\n",
      "  Saving Index [329357] ... Done\n",
      "  Saving Data [13925] ... Done\n",
      "  Saving Error [85] ... Done\n"
     ]
    },
    {
     "data": {
      "application/vnd.jupyter.widget-view+json": {
       "model_id": "94e202c42da140d7be579373a9c4553d",
       "version_major": 2,
       "version_minor": 0
      },
      "text/plain": [
       "Waiting:   0%|          | 0/50 [00:00<?, ?it/s]"
      ]
     },
     "metadata": {},
     "output_type": "display_data"
    },
    {
     "name": "stdout",
     "output_type": "stream",
     "text": [
      "Searching For Acid on Sphere                                    {'Artist': 5, 'Album': 13}\n",
      "Searching For Soyana                                            {'Artist': 5, 'Album': 13}\n",
      "Searching For Massimo Mantovani                                 {'Artist': 3, 'Album': 10}\n",
      "Searching For Destiny Navaira                                   {'Artist': 6, 'Album': 11}\n",
      "Searching For Ask Carol                                         {'Artist': 1, 'Album': 10}\n",
      "Searching For Rene Matamoros                                    {'Artist': 2, 'Album': 8}\n",
      "Searching For Priyanka NK                                       {'Artist': 29, 'Album': 15}\n",
      "Searching For The Rex-Factor                                    {'Artist': 4, 'Album': 16}\n",
      "Searching For L-Smooth Mensah                                   {'Artist': 7, 'Album': 9}\n",
      "Searching For The Dead Reds                                     {'Artist': 19, 'Album': 11}\n",
      "Searching For Moshe Siegel                                      {'Artist': 5, 'Album': 11}\n",
      "Searching For Mads Hansens Kapel                                {'Artist': 1, 'Album': 6}\n",
      "Searching For Wender Kramer                                     {'Artist': 5, 'Album': 11}\n",
      "Searching For Chatnoir                                          {'Artist': 18, 'Album': 10}\n",
      "Searching For Bitfiend                                          {'Artist': 3, 'Album': 6}\n",
      "Searching For Antonio Pozo \"El Mochuelo\"                        {'Artist': 2, 'Album': 3}\n",
      "Searching For Banda della Scuola Popolare di Musica di Testaccio{'Artist': 6, 'Album': 2}\n",
      "Searching For GXG                                               {'Artist': 21, 'Album': 13}\n",
      "Searching For Susie Q                                           {'Artist': 16, 'Album': 14}\n",
      "Searching For Ferenc Tarjani                                    {'Artist': 18, 'Album': 8}\n",
      "Searching For Azure The Paradox                                 {'Artist': 4, 'Album': 12}\n",
      "Searching For Van Sisto                                         {'Artist': 2, 'Album': 10}\n",
      "Searching For Gene Krupa Jazz Trio                              {'Artist': 11, 'Album': 7}\n",
      "Searching For Margie Anderson                                   {'Artist': 2, 'Album': 2}\n",
      "Searching For Helmut Eisel & JEM                                {'Artist': 4, 'Album': 7}\n",
      " [Getting AppleMusic ArtistIDs] | 75/?       : RunTime 7 Minute and 37 Second.\n",
      "*****************************************************************************************************************************\n",
      "*                                                    Saving SearchArtist                                                    *\n",
      "*****************************************************************************************************************************\n",
      "  Saving Index [329382] ... Done\n",
      "  Saving Data [13950] ... Done\n",
      "  Saving Error [85] ... Done\n"
     ]
    },
    {
     "data": {
      "application/vnd.jupyter.widget-view+json": {
       "model_id": "10b2e627a1234b5195c6f13b001ced5f",
       "version_major": 2,
       "version_minor": 0
      },
      "text/plain": [
       "Waiting:   0%|          | 0/50 [00:00<?, ?it/s]"
      ]
     },
     "metadata": {},
     "output_type": "display_data"
    },
    {
     "name": "stdout",
     "output_type": "stream",
     "text": [
      "Searching For Wan Lacky                                         {'Artist': 5, 'Album': 14}\n",
      "Searching For Los Chavalos de California                        {'Artist': 4, 'Album': 9}\n",
      "Searching For Solace Brothers                                   {'Artist': 4, 'Album': 9}\n",
      "Searching For Christopher Dean Band                             {'Artist': 19, 'Album': 7}\n",
      "Searching For Enchanted Voices                                  {'Artist': 13, 'Album': 8}\n",
      "Searching For Tom Saunders                                      {'Artist': 12, 'Album': 9}\n",
      "Searching For Global Jazz Project                               {'Artist': 4, 'Album': 7}\n",
      "Searching For Jimmy R. Price                                    {'Artist': 2, 'Album': 7}\n",
      "Searching For The 7-10 Splits                                   {'Artist': 5, 'Album': 8}\n",
      "Searching For Gregory Paul Aubuchon                             {'Artist': 1, 'Album': 2}\n",
      "Searching For Solace                                            {'Artist': 30, 'Album': 16}\n",
      "Searching For Michael \"Mr. Mike\" Simpson                        {'Artist': 3, 'Album': 5}\n",
      "Searching For Chris Stamey & the Fellow Travelers               {'Artist': 3, 'Album': 3}\n",
      "Searching For Gerald Lee Ames                                   {'Artist': 1, 'Album': 2}\n",
      "Searching For David Shepherd Grossman                           {'Artist': 1, 'Album': 2}\n",
      "Searching For Jim Malone                                        {'Artist': 9, 'Album': 7}\n",
      "Searching For Anthony Vincent                                   {'Artist': 16, 'Album': 15}\n",
      "Searching For Sérgio Di Ramos                                  {'Artist': 1, 'Album': 3}\n",
      "Searching For Jeff Furman                                       {'Artist': 4, 'Album': 4}\n",
      "Searching For Carma                                             {'Artist': 27, 'Album': 16}\n",
      "Searching For Judith C. Nelson                                  {'Artist': 10, 'Album': 6}\n",
      "Searching For Kala Hari                                         {'Artist': 16, 'Album': 15}\n",
      "Searching For Carton Sonore                                     {'Artist': 7, 'Album': 8}\n",
      "Searching For Springhouse Revival                               {'Artist': 1, 'Album': 5}\n",
      "Searching For Warren G. Hardings                                {'Artist': 6, 'Album': 8}\n",
      " [Getting AppleMusic ArtistIDs] | 100/?      : RunTime 10 Minute and 10 Second.\n",
      "*****************************************************************************************************************************\n",
      "*                                                    Saving SearchArtist                                                    *\n",
      "*****************************************************************************************************************************\n",
      "  Saving Index [329407] ... Done\n",
      "  Saving Data [13975] ... Done\n",
      "  Saving Error [85] ... Done\n"
     ]
    },
    {
     "data": {
      "application/vnd.jupyter.widget-view+json": {
       "model_id": "18ecc696d4724aaf85cb6c683e0971ae",
       "version_major": 2,
       "version_minor": 0
      },
      "text/plain": [
       "Waiting:   0%|          | 0/50 [00:00<?, ?it/s]"
      ]
     },
     "metadata": {},
     "output_type": "display_data"
    },
    {
     "name": "stdout",
     "output_type": "stream",
     "text": [
      "Searching For Beer Tone                                         {'Artist': 13, 'Album': 13}\n",
      "Searching For Michael Knead                                     {'Artist': 1, 'Album': 7}\n",
      "Searching For DJ Mercer                                         {'Artist': 16, 'Album': 13}\n",
      "Searching For Nihat Doğan                                      {'Artist': 2, 'Album': 10}\n",
      "Searching For Alexenn                                           {'Artist': 4, 'Album': 11}\n",
      "Searching For Urs Wild                                          {'Artist': 12, 'Album': 16}\n",
      "Searching For Killer Whale                                      {'Artist': 24, 'Album': 16}\n",
      "Searching For Erna Hrönn Ólafsdóttir                         {'Artist': 3, 'Album': 12}\n",
      "Searching For Beri                                              {'Artist': 28, 'Album': 16}\n",
      "Searching For Uzu                                               {'Artist': 27, 'Album': 19}\n",
      "Searching For Myotis Treble                                     {'Artist': 1, 'Album': 3}\n",
      "Searching For The Puritans                                      {'Artist': 9, 'Album': 8}\n",
      "Searching For Radicule.                                         {'Artist': 2, 'Album': 10}\n",
      "Searching For Some Became Hollow Tubes                          {'Artist': 1, 'Album': 2}\n",
      "Searching For Daniela Garsal                                    {'Artist': 23, 'Album': 15}\n",
      "Searching For Askvald                                           {'Artist': 1, 'Album': 1}\n",
      "Searching For Ever Burn                                         {'Artist': 12, 'Album': 15}\n",
      "Searching For New Era Symphonic Band                            {'Artist': 40, 'Album': 19}\n",
      "Searching For Red Cain                                          {'Artist': 4, 'Album': 9}\n",
      "Searching For Color-code                                        {'Artist': 26, 'Album': 17}\n",
      "Searching For Balet                                             {'Artist': 38, 'Album': 15}\n",
      "Searching For Nahue MC                                          {'Artist': 8, 'Album': 8}\n",
      "Searching For Nietzsche                                         {'Artist': 32, 'Album': 16}\n",
      "Searching For Daniele Terranova                                 {'Artist': 6, 'Album': 5}\n",
      "Searching For DHIONN                                            {'Artist': 9, 'Album': 9}\n",
      " [Getting AppleMusic ArtistIDs] | 125/?      : RunTime 12 Minute and 49 Second.\n",
      "*****************************************************************************************************************************\n",
      "*                                                    Saving SearchArtist                                                    *\n",
      "*****************************************************************************************************************************\n",
      "  Saving Index [329432] ... Done\n",
      "  Saving Data [14000] ... Done\n",
      "  Saving Error [85] ... Done\n"
     ]
    },
    {
     "data": {
      "application/vnd.jupyter.widget-view+json": {
       "model_id": "ebed96a9f25d42c09598ee728a3e8527",
       "version_major": 2,
       "version_minor": 0
      },
      "text/plain": [
       "Waiting:   0%|          | 0/50 [00:00<?, ?it/s]"
      ]
     },
     "metadata": {},
     "output_type": "display_data"
    },
    {
     "name": "stdout",
     "output_type": "stream",
     "text": [
      "Searching For Tim McNary                                        {'Artist': 5, 'Album': 8}\n",
      "Searching For David Gramberg                                    {'Artist': 3, 'Album': 8}\n",
      "Searching For El Bastardo                                       {'Artist': 20, 'Album': 14}\n",
      "Searching For Temple of Gnosis                                  {'Artist': 7, 'Album': 7}\n",
      "Searching For Money Gang Slugga                                 {'Artist': 3, 'Album': 7}\n",
      "Searching For S.K.T                                             {'Artist': 23, 'Album': 19}\n",
      "Searching For Benny Smiles                                      {'Artist': 3, 'Album': 7}\n",
      "Searching For Christian DRUXS                                   {'Artist': 3, 'Album': 11}\n",
      "Searching For American Cream Team                               {'Artist': 9, 'Album': 9}\n",
      "Searching For Inderpal Moga                                     {'Artist': 10, 'Album': 14}\n",
      "Searching For MK The Cynic                                      {'Artist': 6, 'Album': 11}\n",
      "Searching For Circular Run                                      {'Artist': 2, 'Album': 8}\n",
      "Searching For Endeavor                                          {'Artist': 31, 'Album': 15}\n",
      "Searching For AB.Y. SS                                          {'Artist': 19, 'Album': 10}\n",
      "Searching For Nick Caster                                       {'Artist': 5, 'Album': 9}\n",
      "Searching For Skelter                                           {'Artist': 27, 'Album': 15}\n",
      "Searching For The Musician Physician                            {'Artist': 9, 'Album': 9}\n",
      "Searching For Raphael Los                                       {'Artist': 4, 'Album': 7}\n",
      "Searching For Bryan Joon                                        {'Artist': 2, 'Album': 8}\n",
      "Searching For Powerful                                          {'Artist': 22, 'Album': 13}\n",
      "Searching For Adrian Whyte                                      {'Artist': 10, 'Album': 7}\n",
      "Searching For Ciao Manu                                         {'Artist': 8, 'Album': 15}\n",
      "Searching For Daniel Dor                                        {'Artist': 20, 'Album': 7}\n",
      "Searching For Johan Klingwall                                   {'Artist': 2, 'Album': 7}\n",
      "Searching For Golgothan Remains                                 {'Artist': 1, 'Album': 2}\n",
      " [Getting AppleMusic ArtistIDs] | 150/?      : RunTime 15 Minute and 24 Second.\n",
      "*****************************************************************************************************************************\n",
      "*                                                    Saving SearchArtist                                                    *\n",
      "*****************************************************************************************************************************\n",
      "  Saving Index [329457] ... Done\n",
      "  Saving Data [14025] ... Done\n",
      "  Saving Error [85] ... Done\n"
     ]
    },
    {
     "data": {
      "application/vnd.jupyter.widget-view+json": {
       "model_id": "ae9c18a350ce4fb3abb23a0f5a06371d",
       "version_major": 2,
       "version_minor": 0
      },
      "text/plain": [
       "Waiting:   0%|          | 0/50 [00:00<?, ?it/s]"
      ]
     },
     "metadata": {},
     "output_type": "display_data"
    },
    {
     "name": "stdout",
     "output_type": "stream",
     "text": [
      "Searching For L'Enfant Terrible                                 {'Artist': 22, 'Album': 16}\n",
      "Searching For David Kershenbaum                                 {'Artist': 4, 'Album': 4}\n",
      "Searching For Nicola Loud                                       {'Artist': 30, 'Album': 11}\n",
      "Searching For Carl Bohm                                         {'Artist': 16, 'Album': 7}\n",
      "Searching For Reinaldo Hierrezuelo                              {'Artist': 11, 'Album': 7}\n",
      "Searching For Curt Sobel                                        {'Artist': 1, 'Album': 1}\n",
      "Searching For Signe Lund                                        {'Artist': 20, 'Album': 7}\n",
      "Searching For Joram Feitsma                                     {'Artist': 12, 'Album': 8}\n",
      "Searching For Frank Motley & His Crew                           {'Artist': 7, 'Album': 12}\n",
      "Searching For Royal Air Force Dance Orchestra                   {'Artist': 15, 'Album': 10}\n",
      "Searching For Jin Tonique                                       {'Artist': 23, 'Album': 9}\n",
      "Searching For RotaryDisco76                                     {'Artist': 1, 'Album': 8}\n",
      "Searching For Young Laroye                                      {'Artist': 8, 'Album': 13}\n",
      "Searching For Floresents                                        {'Artist': 8, 'Album': 12}\n",
      "Searching For Erieza Royal & The Summary Lynch                  {'Artist': 0, 'Album': 0}\n",
      "Searching For Stay Out                                          {'Artist': 22, 'Album': 16}\n",
      "Searching For Ed Begley                                         {'Artist': 14, 'Album': 10}\n",
      "Searching For Mricky & Danieli                                  {'Artist': 9, 'Album': 8}\n",
      "Searching For Sozonov                                           {'Artist': 6, 'Album': 13}\n",
      "Searching For Shayan Eshraghi                                   {'Artist': 6, 'Album': 14}\n",
      "Searching For Lulz Silva                                        {'Artist': 1, 'Album': 7}\n",
      "Searching For Beydagi                                           {'Artist': 8, 'Album': 18}\n",
      "Searching For Tekraw                                            {'Artist': 14, 'Album': 16}\n",
      "Searching For Androgy̆nus                                       {'Artist': 3, 'Album': 7}\n",
      "Searching For India Parkman                                     {'Artist': 2, 'Album': 8}\n",
      " [Getting AppleMusic ArtistIDs] | 175/?      : RunTime 17 Minute and 60 Second.\n",
      "*****************************************************************************************************************************\n",
      "*                                                    Saving SearchArtist                                                    *\n",
      "*****************************************************************************************************************************\n",
      "  Saving Index [329482] ... Done\n",
      "  Saving Data [14050] ... Done\n",
      "  Saving Error [85] ... Done\n"
     ]
    },
    {
     "data": {
      "application/vnd.jupyter.widget-view+json": {
       "model_id": "cb45432f23e04de1a185ef6219fb6ebf",
       "version_major": 2,
       "version_minor": 0
      },
      "text/plain": [
       "Waiting:   0%|          | 0/50 [00:00<?, ?it/s]"
      ]
     },
     "metadata": {},
     "output_type": "display_data"
    },
    {
     "name": "stdout",
     "output_type": "stream",
     "text": [
      "Searching For Hot Lipps Inc                                     {'Artist': 5, 'Album': 16}\n",
      "Searching For Champion J.R                                      {'Artist': 12, 'Album': 14}\n",
      "Searching For Demise of Sanity                                  {'Artist': 5, 'Album': 8}\n",
      "Searching For Alexander Asp                                     {'Artist': 12, 'Album': 9}\n",
      "Searching For Hef Augusto                                       {'Artist': 8, 'Album': 5}\n",
      "Searching For André Barros                                     {'Artist': 22, 'Album': 9}\n",
      "Searching For Ben Elder                                         {'Artist': 10, 'Album': 7}\n",
      "Searching For The 3rd Generation Band                           {'Artist': 17, 'Album': 9}\n",
      "Searching For Be Happy                                          {'Artist': 20, 'Album': 16}\n",
      "Searching For A. Ramadevi                                       {'Artist': 11, 'Album': 14}\n",
      "Searching For MYUKO                                             {'Artist': 24, 'Album': 13}\n",
      "Searching For KnowerdzPablo                                     {'Artist': 8, 'Album': 13}\n",
      "Searching For Kiara Franco                                      {'Artist': 6, 'Album': 13}\n",
      "Searching For Canuto                                            {'Artist': 20, 'Album': 15}\n",
      "Searching For Free Tibet                                        {'Artist': 13, 'Album': 17}\n",
      "Searching For FAST BOY                                          {'Artist': 27, 'Album': 17}\n",
      "Searching For Astor Piazzolla Y Su Orquesta Típica             {'Artist': 11, 'Album': 2}\n",
      "Searching For Miët                                             {'Artist': 26, 'Album': 16}\n",
      "Searching For Clevor Cloggs                                     {'Artist': 7, 'Album': 9}\n",
      "Searching For Antics                                            {'Artist': 29, 'Album': 16}\n",
      "Searching For Csézy                                            {'Artist': 2, 'Album': 7}\n",
      "Searching For Storm upon the Masses                             {'Artist': 1, 'Album': 2}\n",
      "Searching For Orpheum                                           {'Artist': 22, 'Album': 15}\n",
      "Searching For Gabz                                              {'Artist': 23, 'Album': 14}\n",
      "Searching For Big Chef                                          {'Artist': 18, 'Album': 10}\n",
      " [Getting AppleMusic ArtistIDs] | 200/?      : RunTime 20 Minute and 36 Second.\n",
      "*****************************************************************************************************************************\n",
      "*                                                    Saving SearchArtist                                                    *\n",
      "*****************************************************************************************************************************\n",
      "  Saving Index [329507] ... Done\n",
      "  Saving Data [14075] ... Done\n",
      "  Saving Error [85] ... Done\n"
     ]
    },
    {
     "data": {
      "application/vnd.jupyter.widget-view+json": {
       "model_id": "ffab48d19ab544e5ad6ffcfc5ee34bd4",
       "version_major": 2,
       "version_minor": 0
      },
      "text/plain": [
       "Waiting:   0%|          | 0/50 [00:00<?, ?it/s]"
      ]
     },
     "metadata": {},
     "output_type": "display_data"
    },
    {
     "name": "stdout",
     "output_type": "stream",
     "text": [
      "Searching For Felipe Novaes                                     {'Artist': 8, 'Album': 11}\n",
      "Searching For Dixie Town                                        {'Artist': 10, 'Album': 8}\n",
      "Searching For GBF King                                          {'Artist': 5, 'Album': 12}\n",
      "Searching For World Wild                                        {'Artist': 23, 'Album': 12}\n",
      "Searching For The Northerners                                   {'Artist': 18, 'Album': 15}\n",
      "Searching For Anouchka Gwen                                     {'Artist': 3, 'Album': 8}\n",
      "Searching For Classic Jack                                      {'Artist': 10, 'Album': 14}\n",
      "Searching For Happy Valley                                      {'Artist': 23, 'Album': 15}\n",
      "Searching For Al Rakhim                                         {'Artist': 4, 'Album': 13}\n",
      "Searching For Hollywood TV Players                              {'Artist': 21, 'Album': 19}\n",
      "Searching For Medali                                            {'Artist': 21, 'Album': 10}\n",
      "Searching For The FlameMakers                                   {'Artist': 7, 'Album': 8}\n",
      "Searching For Murta                                             {'Artist': 21, 'Album': 15}\n",
      "Searching For D.o.s.                                            {'Artist': 31, 'Album': 13}\n",
      "Searching For Raving Ravers                                     {'Artist': 9, 'Album': 18}\n",
      "Searching For Tang Liangxing                                    {'Artist': 1, 'Album': 4}\n",
      "Searching For Vincent Bouchot                                   {'Artist': 47, 'Album': 8}\n",
      "Searching For Sundowners                                        {'Artist': 23, 'Album': 15}\n",
      "Searching For Jorge Rossy Vibes Quintet                         {'Artist': 6, 'Album': 1}\n",
      "Searching For Little Bits                                       {'Artist': 36, 'Album': 16}\n",
      "Searching For Simeon Jones                                      {'Artist': 7, 'Album': 8}\n",
      "Searching For Juan Vincente Zambrano                            {'Artist': 4, 'Album': 4}\n",
      "Searching For Hahn Dae-soo                                      {'Artist': 5, 'Album': 13}\n",
      "Searching For Juke-19                                           {'Artist': 4, 'Album': 1}\n",
      "Searching For Shivkumar Sharma & Hariprasad Chaurasia           {'Artist': 3, 'Album': 7}\n",
      " [Getting AppleMusic ArtistIDs] | 225/?      : RunTime 23 Minute and 10 Second.\n",
      "*****************************************************************************************************************************\n",
      "*                                                    Saving SearchArtist                                                    *\n",
      "*****************************************************************************************************************************\n",
      "  Saving Index [329532] ... Done\n",
      "  Saving Data [14100] ... Done\n",
      "  Saving Error [85] ... Done\n"
     ]
    },
    {
     "data": {
      "application/vnd.jupyter.widget-view+json": {
       "model_id": "940f4aa99dcc4d6fbb1052f5dbef7265",
       "version_major": 2,
       "version_minor": 0
      },
      "text/plain": [
       "Waiting:   0%|          | 0/50 [00:00<?, ?it/s]"
      ]
     },
     "metadata": {},
     "output_type": "display_data"
    },
    {
     "name": "stdout",
     "output_type": "stream",
     "text": [
      "Searching For Nav'                                              {'Artist': 17, 'Album': 15}\n",
      "Searching For Zakir Hussain & Shivkumar Sharma                  {'Artist': 5, 'Album': 8}\n",
      "Searching For Los Papis R.A. 7                                  {'Artist': 10, 'Album': 8}\n",
      "Searching For Ponce De'Leioun                                   {'Artist': 6, 'Album': 13}\n",
      "Searching For Sub Space                                         {'Artist': 26, 'Album': 15}\n",
      "Searching For Zach Bair                                         {'Artist': 1, 'Album': 8}\n",
      "Searching For Marie Vaunt                                       {'Artist': 5, 'Album': 14}\n",
      "Searching For Alex Gracia                                       {'Artist': 11, 'Album': 14}\n",
      "Searching For Broken Robot                                      {'Artist': 17, 'Album': 14}\n",
      "Searching For Living Phantoms                                   {'Artist': 7, 'Album': 7}\n",
      "Searching For Carnal Disfigurement                              {'Artist': 2, 'Album': 3}\n",
      "Searching For Johnny Wagner                                     {'Artist': 13, 'Album': 11}\n",
      "Searching For Jake Torrey                                       {'Artist': 5, 'Album': 12}\n",
      "Searching For Holophonor                                        {'Artist': 5, 'Album': 6}\n",
      "Searching For Obeah                                             {'Artist': 22, 'Album': 13}\n",
      "Searching For Windows to Sky                                    {'Artist': 3, 'Album': 9}\n",
      "Searching For Aaro630                                           {'Artist': 3, 'Album': 13}\n",
      "Searching For Richard Hughes                                    {'Artist': 17, 'Album': 15}\n",
      "Searching For Markus Volpert                                    {'Artist': 37, 'Album': 10}\n",
      "Searching For William South                                     {'Artist': 23, 'Album': 13}\n",
      "Searching For Johnny Christ                                     {'Artist': 8, 'Album': 8}\n",
      "Searching For Paul Harvey                                       {'Artist': 20, 'Album': 12}\n",
      "Searching For Attila Pertis                                     {'Artist': 5, 'Album': 6}\n",
      "Searching For Arthur Frackenpohl                                {'Artist': 8, 'Album': 4}\n",
      "Searching For Gustavo Souza                                     {'Artist': 19, 'Album': 10}\n",
      " [Getting AppleMusic ArtistIDs] | 250/?      : RunTime 25 Minute and 45 Second.\n",
      "*****************************************************************************************************************************\n",
      "*                                                    Saving SearchArtist                                                    *\n",
      "*****************************************************************************************************************************\n",
      "  Saving Index [329557] ... Done\n",
      "  Saving Data [14125] ... Done\n",
      "  Saving Error [85] ... Done\n"
     ]
    },
    {
     "data": {
      "application/vnd.jupyter.widget-view+json": {
       "model_id": "caef432e93d749328086f85855e31869",
       "version_major": 2,
       "version_minor": 0
      },
      "text/plain": [
       "Waiting:   0%|          | 0/50 [00:00<?, ?it/s]"
      ]
     },
     "metadata": {},
     "output_type": "display_data"
    },
    {
     "name": "stdout",
     "output_type": "stream",
     "text": [
      "Searching For John Waugh                                        {'Artist': 6, 'Album': 7}\n",
      "Searching For Ben Jacobs                                        {'Artist': 17, 'Album': 16}\n",
      "Searching For Martin Landquist                                  {'Artist': 1, 'Album': 3}\n",
      "Searching For Katie Jones                                       {'Artist': 14, 'Album': 10}\n",
      "Searching For Sunny Nair                                        {'Artist': 13, 'Album': 11}\n",
      "Searching For Tomoya on the Big Moon                            {'Artist': 4, 'Album': 11}\n",
      "Searching For Fearless                                          {'Artist': 27, 'Album': 15}\n",
      "Searching For Radagast the Brown                                {'Artist': 6, 'Album': 10}\n",
      "Searching For Billy Cadden                                      {'Artist': 3, 'Album': 7}\n",
      "Searching For Plane Without a Pilot                             {'Artist': 1, 'Album': 3}\n",
      "Searching For Celine Lory                                       {'Artist': 3, 'Album': 5}\n",
      "Searching For Ariyana Ki'mah                                    {'Artist': 1, 'Album': 7}\n",
      "Searching For Community Education                               {'Artist': 9, 'Album': 7}\n",
      "Searching For Alan Dickson                                      {'Artist': 2, 'Album': 3}\n",
      "Searching For Tosha Lynn                                        {'Artist': 3, 'Album': 6}\n",
      "Searching For Geno White                                        {'Artist': 7, 'Album': 7}\n",
      "Searching For A Seasonal Disguise                               {'Artist': 1, 'Album': 1}\n",
      "Searching For Tragedy Vampires                                  {'Artist': 5, 'Album': 4}\n",
      "Searching For Katrina Stonehart                                 {'Artist': 1, 'Album': 2}\n",
      "Searching For Aptera                                            {'Artist': 7, 'Album': 11}\n",
      "Searching For Pina Colada Blues                                 {'Artist': 19, 'Album': 12}\n",
      "Searching For DBrief                                            {'Artist': 22, 'Album': 10}\n",
      "Searching For The Nightglow                                     {'Artist': 13, 'Album': 12}\n",
      "Searching For Human Pollution                                   {'Artist': 10, 'Album': 10}\n",
      "Searching For Olaf Wollschlager                                 {'Artist': 9, 'Album': 9}\n",
      " [Getting AppleMusic ArtistIDs] | 275/?      : RunTime 28 Minute and 18 Second.\n",
      "*****************************************************************************************************************************\n",
      "*                                                    Saving SearchArtist                                                    *\n",
      "*****************************************************************************************************************************\n",
      "  Saving Index [329582] ... Done\n",
      "  Saving Data [14150] ... Done\n",
      "  Saving Error [85] ... Done\n"
     ]
    },
    {
     "data": {
      "application/vnd.jupyter.widget-view+json": {
       "model_id": "af05562443f04f169b08f71ad8e8ff2d",
       "version_major": 2,
       "version_minor": 0
      },
      "text/plain": [
       "Waiting:   0%|          | 0/50 [00:00<?, ?it/s]"
      ]
     },
     "metadata": {},
     "output_type": "display_data"
    },
    {
     "name": "stdout",
     "output_type": "stream",
     "text": [
      "Searching For Lee Robinson                                      {'Artist': 16, 'Album': 8}\n",
      "Searching For Markus Mehta                                      {'Artist': 5, 'Album': 18}\n",
      "Searching For Seek Arguedas                                     {'Artist': 4, 'Album': 15}\n",
      "Searching For Part Time Lover                                   {'Artist': 22, 'Album': 13}\n",
      "Searching For FR3Y                                              {'Artist': 17, 'Album': 16}\n",
      "Searching For Johnny Aux                                        {'Artist': 18, 'Album': 16}\n",
      "Searching For Issi Noho                                         {'Artist': 1, 'Album': 9}\n",
      "Searching For Ibiza Nation                                      {'Artist': 14, 'Album': 17}\n",
      "Searching For The Street Preacherz                              {'Artist': 5, 'Album': 6}\n",
      "Searching For Artcore Machine                                   {'Artist': 2, 'Album': 5}\n",
      "Searching For The Devil Himself                                 {'Artist': 21, 'Album': 17}\n",
      "Searching For Waldo Mendoza                                     {'Artist': 14, 'Album': 10}\n",
      "Searching For Charlotte Caluwaerts                              {'Artist': 8, 'Album': 14}\n",
      "Searching For Mario Suppa                                       {'Artist': 6, 'Album': 15}\n",
      "Searching For Nilo Pinta                                        {'Artist': 1, 'Album': 9}\n",
      "Searching For hermit                                            {'Artist': 30, 'Album': 16}\n",
      "Searching For Octavius Hernandez                                {'Artist': 1, 'Album': 13}\n",
      "Searching For My Favorite Scar                                  {'Artist': 12, 'Album': 13}\n",
      "Searching For Romeo la Gota                                     {'Artist': 13, 'Album': 11}\n",
      "Searching For Quintin Kelly                                     {'Artist': 2, 'Album': 14}\n",
      "Searching For Eyezic                                            {'Artist': 13, 'Album': 16}\n",
      "Searching For Stone Dagger                                      {'Artist': 11, 'Album': 12}\n",
      "Searching For GuyThatDoesMusic                                  {'Artist': 1, 'Album': 5}\n",
      "Searching For Dany C.                                           {'Artist': 29, 'Album': 12}\n",
      "Searching For Anna Jean                                         {'Artist': 16, 'Album': 14}\n",
      " [Getting AppleMusic ArtistIDs] | 300/?      : RunTime 30 Minute and 52 Second.\n",
      "*****************************************************************************************************************************\n",
      "*                                                    Saving SearchArtist                                                    *\n",
      "*****************************************************************************************************************************\n",
      "  Saving Index [329607] ... Done\n",
      "  Saving Data [14175] ... Done\n",
      "  Saving Error [85] ... Done\n"
     ]
    },
    {
     "data": {
      "application/vnd.jupyter.widget-view+json": {
       "model_id": "713b1d2d579d475aae303519585674b8",
       "version_major": 2,
       "version_minor": 0
      },
      "text/plain": [
       "Waiting:   0%|          | 0/50 [00:00<?, ?it/s]"
      ]
     },
     "metadata": {},
     "output_type": "display_data"
    },
    {
     "name": "stdout",
     "output_type": "stream",
     "text": [
      "Searching For Annjet                                            {'Artist': 3, 'Album': 10}\n",
      "Searching For Jovian Spin                                       {'Artist': 1, 'Album': 2}\n",
      "Searching For Trinity-X                                         {'Artist': 17, 'Album': 10}\n",
      "Searching For Serious Beak                                      {'Artist': 1, 'Album': 3}\n",
      "Searching For Okay Pronto                                       {'Artist': 9, 'Album': 15}\n",
      "Searching For Mario Robbiani                                    {'Artist': 3, 'Album': 3}\n",
      "Searching For Jaroslaw Smietana                                 {'Artist': 2, 'Album': 2}\n",
      "Searching For Singie Singie                                     {'Artist': 5, 'Album': 8}\n",
      "Searching For Scott P. Schreer                                  {'Artist': 7, 'Album': 1}\n",
      "Searching For Clave 702                                         {'Artist': 15, 'Album': 12}\n",
      "Searching For Andrew Vinter                                     {'Artist': 7, 'Album': 7}\n",
      "Searching For Sk The Reaper                                     {'Artist': 3, 'Album': 11}\n",
      "Searching For Malenuit                                          {'Artist': 1, 'Album': 1}\n",
      "Searching For Hard Resolve                                      {'Artist': 5, 'Album': 13}\n",
      "Searching For Maninder Rangi                                    {'Artist': 4, 'Album': 9}\n",
      "Searching For Havana Hustlers                                   {'Artist': 6, 'Album': 11}\n",
      "Searching For Henry Ranta                                       {'Artist': 30, 'Album': 9}\n",
      "Searching For Eternal Drak                                      {'Artist': 7, 'Album': 9}\n",
      "Searching For Jiasheng Big Tree                                 {'Artist': 0, 'Album': 0}\n",
      "Searching For Unohdettu Tulevaisuus                             {'Artist': 2, 'Album': 2}\n",
      "Searching For Heiliger Krieg                                    {'Artist': 4, 'Album': 3}\n",
      "Searching For Procombo                                          {'Artist': 2, 'Album': 10}\n",
      "Searching For Mattbeat                                          {'Artist': 5, 'Album': 14}\n",
      "Searching For Mr.K (BG)                                         {'Artist': 9, 'Album': 8}\n",
      "Searching For Widow Von'Du                                      {'Artist': 7, 'Album': 9}\n",
      " [Getting AppleMusic ArtistIDs] | 325/?      : RunTime 33 Minute and 25 Second.\n",
      "*****************************************************************************************************************************\n",
      "*                                                    Saving SearchArtist                                                    *\n",
      "*****************************************************************************************************************************\n",
      "  Saving Index [329632] ... Done\n",
      "  Saving Data [14200] ... Done\n",
      "  Saving Error [85] ... Done\n"
     ]
    },
    {
     "data": {
      "application/vnd.jupyter.widget-view+json": {
       "model_id": "95e2aad015ef455797c9b9d813268fb0",
       "version_major": 2,
       "version_minor": 0
      },
      "text/plain": [
       "Waiting:   0%|          | 0/50 [00:00<?, ?it/s]"
      ]
     },
     "metadata": {},
     "output_type": "display_data"
    },
    {
     "name": "stdout",
     "output_type": "stream",
     "text": [
      "Searching For Excellent                                         {'Artist': 26, 'Album': 13}\n",
      "Searching For Digital Kay                                       {'Artist': 2, 'Album': 13}\n",
      "Searching For Quemmekh                                          {'Artist': 1, 'Album': 7}\n",
      "Searching For Kleintje Pils                                     {'Artist': 7, 'Album': 7}\n",
      "Searching For Jérôme Etcheberry                               {'Artist': 7, 'Album': 5}\n",
      "Searching For Cheb Kada                                         {'Artist': 4, 'Album': 9}\n",
      "Searching For E'velyne                                          {'Artist': 19, 'Album': 12}\n",
      "Searching For Kriegs Legion                                     {'Artist': 1, 'Album': 2}\n",
      "Searching For The Rogers                                        {'Artist': 37, 'Album': 18}\n",
      "Searching For Angela Winkler                                    {'Artist': 5, 'Album': 7}\n",
      "Searching For The Sugar Sisters                                 {'Artist': 6, 'Album': 8}\n",
      "Searching For Balássy Betty                                    {'Artist': 6, 'Album': 9}\n",
      "Searching For Friedrich Dotzauer                                {'Artist': 4, 'Album': 2}\n",
      "Searching For Geertje Spijkerman                                {'Artist': 2, 'Album': 6}\n",
      "Searching For Pekka Laukkarinen                                 {'Artist': 4, 'Album': 4}\n",
      "Searching For Bo Maniette                                       {'Artist': 7, 'Album': 2}\n",
      "Searching For Hidden Operator                                   {'Artist': 6, 'Album': 8}\n",
      "Searching For Daima                                             {'Artist': 24, 'Album': 15}\n",
      "Searching For Voices From Deep Below                            {'Artist': 1, 'Album': 3}\n",
      "Searching For Burí Burá                                       {'Artist': 1, 'Album': 2}\n",
      "Searching For Noel Estrada                                      {'Artist': 6, 'Album': 7}\n",
      "Searching For Tim Juckes                                        {'Artist': 25, 'Album': 16}\n",
      "Searching For De Piepkes                                        {'Artist': 2, 'Album': 4}\n",
      "Searching For Beergrass                                         {'Artist': 1, 'Album': 2}\n",
      "Searching For Grey Gallows                                      {'Artist': 4, 'Album': 7}\n",
      " [Getting AppleMusic ArtistIDs] | 350/?      : RunTime 35 Minute and 58 Second.\n",
      "*****************************************************************************************************************************\n",
      "*                                                    Saving SearchArtist                                                    *\n",
      "*****************************************************************************************************************************\n",
      "  Saving Index [329657] ... Done\n",
      "  Saving Data [14225] ... Done\n",
      "  Saving Error [85] ... Done\n"
     ]
    },
    {
     "data": {
      "application/vnd.jupyter.widget-view+json": {
       "model_id": "8dda335abfc449cc87f5a9c769521534",
       "version_major": 2,
       "version_minor": 0
      },
      "text/plain": [
       "Waiting:   0%|          | 0/50 [00:00<?, ?it/s]"
      ]
     },
     "metadata": {},
     "output_type": "display_data"
    },
    {
     "name": "stdout",
     "output_type": "stream",
     "text": [
      "Searching For Christiane Hörbiger                              {'Artist': 1, 'Album': 1}\n",
      "Searching For DSKNT                                             {'Artist': 1, 'Album': 2}\n",
      "Searching For Lauren Neko                                       {'Artist': 12, 'Album': 13}\n",
      "Searching For Marcioz                                           {'Artist': 3, 'Album': 11}\n",
      "Searching For Laila Olivera                                     {'Artist': 11, 'Album': 14}\n",
      "Searching For Sonika Singh                                      {'Artist': 28, 'Album': 15}\n",
      "Searching For DJ Herb                                           {'Artist': 15, 'Album': 11}\n",
      "Searching For Sully Nomad                                       {'Artist': 18, 'Album': 13}\n",
      "Searching For Ramón Márquez Y Su Orquesta                     {'Artist': 9, 'Album': 13}\n",
      "Searching For Southpaw Steel 'N' Twang                          {'Artist': 2, 'Album': 3}\n",
      "Searching For Paul Freegard                                     {'Artist': 4, 'Album': 4}\n",
      "Searching For Kirk the Flirt                                    {'Artist': 7, 'Album': 11}\n",
      "Searching For The Abstract Eye                                  {'Artist': 7, 'Album': 9}\n",
      "Searching For Squire Parsons Trio                               {'Artist': 2, 'Album': 7}\n",
      "Searching For BlankFor.ms                                       {'Artist': 7, 'Album': 8}\n",
      "Searching For John Berger                                       {'Artist': 39, 'Album': 7}\n",
      "Searching For People Vs. Larsen                                 {'Artist': 1, 'Album': 2}\n",
      "Searching For Duggy 040                                         {'Artist': 6, 'Album': 13}\n",
      "Searching For Gove Scrivenor                                    {'Artist': 1, 'Album': 2}\n",
      "Searching For Dmitry Ivanov                                     {'Artist': 26, 'Album': 7}\n",
      "Searching For S.A.S                                             {'Artist': 29, 'Album': 10}\n",
      "Searching For Obsys                                             {'Artist': 20, 'Album': 11}\n",
      "Searching For Alexei Scutari                                    {'Artist': 6, 'Album': 14}\n",
      "Searching For Alex Fader                                        {'Artist': 2, 'Album': 9}\n",
      "Searching For The Fantastic Flying Frogs                        {'Artist': 1, 'Album': 13}\n",
      " [Getting AppleMusic ArtistIDs] | 375/?      : RunTime 38 Minute and 34 Second.\n",
      "*****************************************************************************************************************************\n",
      "*                                                    Saving SearchArtist                                                    *\n",
      "*****************************************************************************************************************************\n",
      "  Saving Index [329682] ... Done\n",
      "  Saving Data [14250] ... Done\n",
      "  Saving Error [85] ... Done\n"
     ]
    },
    {
     "data": {
      "application/vnd.jupyter.widget-view+json": {
       "model_id": "ef16791981484ae7bd65152f039ca1f4",
       "version_major": 2,
       "version_minor": 0
      },
      "text/plain": [
       "Waiting:   0%|          | 0/50 [00:00<?, ?it/s]"
      ]
     },
     "metadata": {},
     "output_type": "display_data"
    },
    {
     "name": "stdout",
     "output_type": "stream",
     "text": [
      "Searching For Liberty Ship                                      {'Artist': 8, 'Album': 9}\n",
      "Searching For Hostage Situation                                 {'Artist': 12, 'Album': 16}\n",
      "Searching For Mexican Seafood                                   {'Artist': 7, 'Album': 10}\n",
      "Searching For Abigail Rose                                      {'Artist': 19, 'Album': 16}\n",
      "Searching For Paralizer                                         {'Artist': 11, 'Album': 11}\n",
      "Searching For Sam Waters                                        {'Artist': 15, 'Album': 9}\n",
      "Searching For Dan Troxell                                       {'Artist': 4, 'Album': 4}\n",
      "Searching For FromDropTillDawn                                  {'Artist': 10, 'Album': 15}\n",
      "Searching For Gianmaria Maiocco                                 {'Artist': 3, 'Album': 13}\n",
      "Searching For Future Phunk                                      {'Artist': 9, 'Album': 8}\n",
      "Searching For Chamaco                                           {'Artist': 31, 'Album': 13}\n",
      "Searching For Elena Lukášová                                 {'Artist': 2, 'Album': 5}\n",
      "Searching For Drift of Genes                                    {'Artist': 1, 'Album': 1}\n",
      "Searching For Neokhrome                                         {'Artist': 1, 'Album': 0}\n",
      "Searching For Rafiki bobo                                       {'Artist': 2, 'Album': 9}\n",
      "Searching For Brian Devoil                                      {'Artist': 0, 'Album': 0}\n",
      "Searching For Will Rahmer                                       {'Artist': 6, 'Album': 3}\n",
      "Searching For \"Lightning\" Lisle Leete                           {'Artist': 0, 'Album': 0}\n",
      "Searching For Chad Fridirici                                    {'Artist': 0, 'Album': 0}\n",
      "Searching For Esko Elstelä                                     {'Artist': 0, 'Album': 0}\n",
      "Searching For Sam Feldman                                       {'Artist': 8, 'Album': 3}\n",
      "Searching For Matthew Lehmann                                   {'Artist': 11, 'Album': 2}\n",
      "Searching For Dennis Berry                                      {'Artist': 32, 'Album': 8}\n",
      "Searching For Brynn Arens                                       {'Artist': 1, 'Album': 1}\n",
      "Searching For Mel Wanzo                                         {'Artist': 11, 'Album': 1}\n",
      " [Getting AppleMusic ArtistIDs] | 400/?      : RunTime 41 Minute and 6 Second.\n",
      "*****************************************************************************************************************************\n",
      "*                                                    Saving SearchArtist                                                    *\n",
      "*****************************************************************************************************************************\n",
      "  Saving Index [329707] ... Done\n",
      "  Saving Data [14275] ... Done\n",
      "  Saving Error [85] ... Done\n"
     ]
    },
    {
     "data": {
      "application/vnd.jupyter.widget-view+json": {
       "model_id": "8304386853c549a28fc82fc9d41d0b6c",
       "version_major": 2,
       "version_minor": 0
      },
      "text/plain": [
       "Waiting:   0%|          | 0/50 [00:00<?, ?it/s]"
      ]
     },
     "metadata": {},
     "output_type": "display_data"
    },
    {
     "name": "stdout",
     "output_type": "stream",
     "text": [
      "Searching For Richard Foos                                      {'Artist': 20, 'Album': 13}\n",
      "Searching For Steve Griffith                                    {'Artist': 14, 'Album': 9}\n",
      "Searching For Felix Walworth                                    {'Artist': 0, 'Album': 0}\n",
      "Searching For Jukka Nevalainen                                  {'Artist': 0, 'Album': 0}\n",
      "Searching For Alexis Mincolla                                   {'Artist': 0, 'Album': 0}\n",
      "Searching For Roger Karmanik                                    {'Artist': 0, 'Album': 0}\n",
      "Searching For Per Pallesen                                      {'Artist': 16, 'Album': 5}\n",
      "Searching For Pedro e os Apóstolos                             {'Artist': 3, 'Album': 11}\n",
      "Searching For Cosh Boys                                         {'Artist': 4, 'Album': 9}\n",
      "Searching For Saori Saitoh                                      {'Artist': 0, 'Album': 0}\n",
      "Searching For Michael Orth                                      {'Artist': 8, 'Album': 7}\n",
      "Searching For The Powerwalker                                   {'Artist': 32, 'Album': 13}\n",
      "Searching For André Brocoletti                                 {'Artist': 3, 'Album': 12}\n",
      "Searching For Kenny Gee                                         {'Artist': 23, 'Album': 14}\n",
      "Searching For Madysyn                                           {'Artist': 7, 'Album': 11}\n",
      "Searching For Prince Williams                                   {'Artist': 21, 'Album': 10}\n",
      "Searching For Soham                                             {'Artist': 30, 'Album': 16}\n",
      "Searching For Carola Häggkvist                                 {'Artist': 6, 'Album': 13}\n",
      "Searching For Maša                                             {'Artist': 25, 'Album': 14}\n",
      "Searching For Shug Jackson                                      {'Artist': 2, 'Album': 11}\n",
      "Searching For Moly Wave                                         {'Artist': 3, 'Album': 9}\n",
      "Searching For Wine & Warpaint                                   {'Artist': 3, 'Album': 7}\n",
      "Searching For Las Palabras Queman                               {'Artist': 2, 'Album': 5}\n",
      "Searching For The Buddy Bregman Orchestra                       {'Artist': 7, 'Album': 8}\n",
      "Searching For Ted Heath & Edmundo Ros                           {'Artist': 7, 'Album': 14}\n",
      " [Getting AppleMusic ArtistIDs] | 425/?      : RunTime 43 Minute and 38 Second.\n",
      "*****************************************************************************************************************************\n",
      "*                                                    Saving SearchArtist                                                    *\n",
      "*****************************************************************************************************************************\n",
      "  Saving Index [329732] ... Done\n",
      "  Saving Data [14300] ... Done\n",
      "  Saving Error [85] ... Done\n"
     ]
    },
    {
     "data": {
      "application/vnd.jupyter.widget-view+json": {
       "model_id": "d5848c1b3c8a4bdd98310615a6bafd97",
       "version_major": 2,
       "version_minor": 0
      },
      "text/plain": [
       "Waiting:   0%|          | 0/50 [00:00<?, ?it/s]"
      ]
     },
     "metadata": {},
     "output_type": "display_data"
    },
    {
     "name": "stdout",
     "output_type": "stream",
     "text": [
      "Searching For Big Treal                                         {'Artist': 15, 'Album': 12}\n",
      "Searching For San Cha                                           {'Artist': 17, 'Album': 7}\n",
      "Searching For M. Young                                          {'Artist': 22, 'Album': 7}\n",
      "Searching For Ralf Knoflook                                     {'Artist': 1, 'Album': 3}\n",
      "Searching For Chris Voss                                        {'Artist': 9, 'Album': 12}\n",
      "Searching For Eugène Cormon                                    {'Artist': 25, 'Album': 11}\n",
      "Searching For Orange Viper                                      {'Artist': 2, 'Album': 5}\n",
      "Searching For Effective Sound                                   {'Artist': 28, 'Album': 11}\n",
      "Searching For KOJ                                               {'Artist': 22, 'Album': 13}\n",
      "Searching For THE HOTEL LOBBY                                   {'Artist': 24, 'Album': 15}\n",
      "Searching For Meny Méndez                                      {'Artist': 13, 'Album': 14}\n",
      "Searching For Adam Shulman Sextet                               {'Artist': 1, 'Album': 2}\n",
      "Searching For Zodiac Death Valley                               {'Artist': 1, 'Album': 2}\n",
      "Searching For Yanick Etienne                                    {'Artist': 1, 'Album': 2}\n",
      "Searching For Bossa Futura                                      {'Artist': 8, 'Album': 8}\n",
      "Searching For Eero Ainesmaa                                     {'Artist': 2, 'Album': 4}\n",
      "Searching For Sum Alvarinho                                     {'Artist': 1, 'Album': 3}\n",
      "Searching For Masi Luoma                                        {'Artist': 2, 'Album': 2}\n",
      "Searching For Johnny Monsoon                                    {'Artist': 7, 'Album': 11}\n",
      "Searching For Verbz Vegas                                       {'Artist': 1, 'Album': 13}\n",
      "Searching For Enki Bello                                        {'Artist': 1, 'Album': 7}\n",
      "Searching For Sailor Poon                                       {'Artist': 1, 'Album': 5}\n",
      "Searching For Vakarm                                            {'Artist': 7, 'Album': 9}\n",
      "Searching For Blanche Biau                                      {'Artist': 3, 'Album': 8}\n",
      "Searching For Teen-Machine                                      {'Artist': 13, 'Album': 10}\n",
      " [Getting AppleMusic ArtistIDs] | 450/?      : RunTime 46 Minute and 12 Second.\n",
      "*****************************************************************************************************************************\n",
      "*                                                    Saving SearchArtist                                                    *\n",
      "*****************************************************************************************************************************\n",
      "  Saving Index [329757] ... Done\n",
      "  Saving Data [14325] ... Done\n",
      "  Saving Error [85] ... Done\n"
     ]
    },
    {
     "data": {
      "application/vnd.jupyter.widget-view+json": {
       "model_id": "c0a49c7976eb41638b7826db19462fe0",
       "version_major": 2,
       "version_minor": 0
      },
      "text/plain": [
       "Waiting:   0%|          | 0/50 [00:00<?, ?it/s]"
      ]
     },
     "metadata": {},
     "output_type": "display_data"
    },
    {
     "name": "stdout",
     "output_type": "stream",
     "text": [
      "Searching For Phil Barclay & The Sliders                        {'Artist': 2, 'Album': 2}\n",
      "Searching For Juke Boy Barkus                                   {'Artist': 1, 'Album': 2}\n",
      "Searching For Christof Escher                                   {'Artist': 3, 'Album': 2}\n",
      "Searching For Natural Progressions                              {'Artist': 7, 'Album': 7}\n",
      "Searching For Jeremy Lynn Woodall                               {'Artist': 1, 'Album': 1}\n",
      "Searching For Latin Soul Project                                {'Artist': 11, 'Album': 9}\n",
      "Searching For David Milnes                                      {'Artist': 45, 'Album': 8}\n",
      "Searching For Viva La Noche                                     {'Artist': 20, 'Album': 14}\n",
      "Searching For Lil Squid                                         {'Artist': 10, 'Album': 11}\n",
      "Searching For At The End Of Times, Nothing                      {'Artist': 7, 'Album': 10}\n",
      "Searching For Carmelo Pagano                                    {'Artist': 0, 'Album': 0}\n",
      "Searching For Emma Lu                                           {'Artist': 12, 'Album': 7}\n",
      "Searching For Verity Butler                                     {'Artist': 7, 'Album': 3}\n",
      "Searching For The Morphism                                      {'Artist': 3, 'Album': 7}\n",
      "Searching For Chuuwee & Trizz                                   {'Artist': 5, 'Album': 10}\n",
      "Searching For Elektro GT                                        {'Artist': 3, 'Album': 3}\n",
      "Searching For Mowgan                                            {'Artist': 3, 'Album': 8}\n",
      "Searching For Arne Hülphers                                    {'Artist': 11, 'Album': 12}\n",
      "Searching For 2 House                                           {'Artist': 23, 'Album': 11}\n",
      "Searching For Beau Turrentine                                   {'Artist': 1, 'Album': 10}\n",
      "Searching For Kbd Meeks                                         {'Artist': 2, 'Album': 10}\n",
      "Searching For Zandra Arnold                                     {'Artist': 1, 'Album': 13}\n",
      "Searching For Belton Richard & The Musical Aces                 {'Artist': 2, 'Album': 3}\n",
      "Searching For Robert Maxwell His Harp & Orchestra               {'Artist': 1, 'Album': 7}\n",
      "Searching For Ultimate Shines                                   {'Artist': 6, 'Album': 11}\n",
      " [Getting AppleMusic ArtistIDs] | 475/?      : RunTime 48 Minute and 46 Second.\n",
      "*****************************************************************************************************************************\n",
      "*                                                    Saving SearchArtist                                                    *\n",
      "*****************************************************************************************************************************\n",
      "  Saving Index [329782] ... Done\n",
      "  Saving Data [14350] ... Done\n",
      "  Saving Error [85] ... Done\n"
     ]
    },
    {
     "data": {
      "application/vnd.jupyter.widget-view+json": {
       "model_id": "989586b00bb24422b8b759919e8abd3e",
       "version_major": 2,
       "version_minor": 0
      },
      "text/plain": [
       "Waiting:   0%|          | 0/50 [00:00<?, ?it/s]"
      ]
     },
     "metadata": {},
     "output_type": "display_data"
    },
    {
     "name": "stdout",
     "output_type": "stream",
     "text": [
      "Searching For El Incomparable de Sinaloa                        {'Artist': 7, 'Album': 8}\n",
      "Searching For Baby Swipey                                       {'Artist': 5, 'Album': 9}\n",
      "Searching For SonikBuster                                       {'Artist': 6, 'Album': 9}\n",
      "Searching For Yung Joka                                         {'Artist': 3, 'Album': 8}\n",
      "Searching For CätCät                                          {'Artist': 16, 'Album': 16}\n",
      "Searching For Rectify                                           {'Artist': 20, 'Album': 17}\n",
      "Searching For Die Gropius Lerchen                               {'Artist': 5, 'Album': 6}\n",
      "Searching For Rick Wonder                                       {'Artist': 5, 'Album': 12}\n",
      "Searching For Emrod                                             {'Artist': 2, 'Album': 11}\n",
      "Searching For Los Satelites de Jalisco                          {'Artist': 1, 'Album': 8}\n",
      "Searching For Black Noise Therapy                               {'Artist': 7, 'Album': 7}\n",
      "Searching For Caianda                                           {'Artist': 3, 'Album': 12}\n",
      "Searching For Mike Carroll                                      {'Artist': 12, 'Album': 8}\n",
      "Searching For DnB Allstars                                      {'Artist': 21, 'Album': 14}\n",
      "Searching For The Big Jamboree                                  {'Artist': 5, 'Album': 7}\n",
      "Searching For Greenvision                                       {'Artist': 13, 'Album': 11}\n",
      "Searching For Robyrt Hecht                                      {'Artist': 8, 'Album': 8}\n",
      "Searching For Mastik Lickers                                    {'Artist': 16, 'Album': 13}\n",
      "Searching For Greathumour                                       {'Artist': 1, 'Album': 4}\n",
      "Searching For Jimmy Rhodes                                      {'Artist': 10, 'Album': 10}\n",
      "Searching For Pete Parsons                                      {'Artist': 5, 'Album': 6}\n",
      "Searching For Andrew Maze                                       {'Artist': 5, 'Album': 10}\n",
      "Searching For Ministerio Musical Trigo Limpio                   {'Artist': 1, 'Album': 8}\n",
      "Searching For The Voice of Rita                                 {'Artist': 14, 'Album': 16}\n",
      "Searching For Robot Boii                                        {'Artist': 42, 'Album': 17}\n",
      " [Getting AppleMusic ArtistIDs] | 500/?      : RunTime 51 Minute and 22 Second.\n",
      "*****************************************************************************************************************************\n",
      "*                                                    Saving SearchArtist                                                    *\n",
      "*****************************************************************************************************************************\n",
      "  Saving Index [329807] ... Done\n",
      "  Saving Data [14375] ... Done\n",
      "  Saving Error [85] ... Done\n"
     ]
    },
    {
     "data": {
      "application/vnd.jupyter.widget-view+json": {
       "model_id": "9c69ba09ec8c475995fa6c1ad8dc3cd2",
       "version_major": 2,
       "version_minor": 0
      },
      "text/plain": [
       "Waiting:   0%|          | 0/50 [00:00<?, ?it/s]"
      ]
     },
     "metadata": {},
     "output_type": "display_data"
    },
    {
     "name": "stdout",
     "output_type": "stream",
     "text": [
      "Searching For Taysha                                            {'Artist': 15, 'Album': 14}\n",
      "Searching For David Glover                                      {'Artist': 16, 'Album': 10}\n",
      "Searching For Latteo                                            {'Artist': 7, 'Album': 15}\n",
      "Searching For Matilda De Angelis                                {'Artist': 12, 'Album': 8}\n",
      "Searching For The Magic Words                                   {'Artist': 25, 'Album': 15}\n",
      "Searching For Jeff Craven                                       {'Artist': 5, 'Album': 11}\n",
      "Searching For Non Talkers                                       {'Artist': 1, 'Album': 8}\n",
      "Searching For Dontee Weaver                                     {'Artist': 3, 'Album': 7}\n",
      "Searching For Samael Senja                                      {'Artist': 2, 'Album': 13}\n",
      "Searching For Teiko Yume                                        {'Artist': 6, 'Album': 17}\n",
      "Searching For Samitha Mudunkotuwa                               {'Artist': 23, 'Album': 14}\n",
      "Searching For Max Mash                                          {'Artist': 6, 'Album': 12}\n",
      "Searching For ContraBanda                                       {'Artist': 21, 'Album': 13}\n",
      "Searching For Zawicizuz                                         {'Artist': 0, 'Album': 0}\n",
      "Searching For DXS                                               {'Artist': 25, 'Album': 13}\n",
      "Searching For Razorback                                         {'Artist': 31, 'Album': 16}\n",
      "Searching For Unholy War                                        {'Artist': 15, 'Album': 15}\n",
      "Searching For Invoker                                           {'Artist': 18, 'Album': 14}\n",
      "Searching For Dark Clouds                                       {'Artist': 24, 'Album': 16}\n",
      "Searching For Primal Dawn                                       {'Artist': 6, 'Album': 7}\n",
      "Searching For Denizen                                           {'Artist': 31, 'Album': 19}\n",
      "Searching For Laconist                                          {'Artist': 13, 'Album': 7}\n",
      "Searching For Andreas Hellkvist                                 {'Artist': 9, 'Album': 7}\n",
      "Searching For Triple J                                          {'Artist': 19, 'Album': 8}\n",
      "Searching For La Comparsa Universitaria De La Laguna            {'Artist': 1, 'Album': 3}\n",
      " [Getting AppleMusic ArtistIDs] | 525/?      : RunTime 53 Minute and 58 Second.\n",
      "*****************************************************************************************************************************\n",
      "*                                                    Saving SearchArtist                                                    *\n",
      "*****************************************************************************************************************************\n",
      "  Saving Index [329832] ... Done\n",
      "  Saving Data [14400] ... Done\n",
      "  Saving Error [85] ... Done\n"
     ]
    },
    {
     "data": {
      "application/vnd.jupyter.widget-view+json": {
       "model_id": "1dd3121e793c4537a11e3e940198772d",
       "version_major": 2,
       "version_minor": 0
      },
      "text/plain": [
       "Waiting:   0%|          | 0/50 [00:00<?, ?it/s]"
      ]
     },
     "metadata": {},
     "output_type": "display_data"
    },
    {
     "name": "stdout",
     "output_type": "stream",
     "text": [
      "Searching For Fox 45                                            {'Artist': 7, 'Album': 8}\n",
      "Searching For Arv Garrison                                      {'Artist': 2, 'Album': 2}\n",
      "Searching For Krön                                             {'Artist': 14, 'Album': 11}\n",
      "Searching For Silentium Noctis                                  {'Artist': 6, 'Album': 6}\n",
      "Searching For Blem                                              {'Artist': 26, 'Album': 16}\n",
      "Searching For Death Chaos                                       {'Artist': 22, 'Album': 14}\n",
      "Searching For DJ Antox                                          {'Artist': 7, 'Album': 11}\n",
      "Searching For Mozelle Alderson                                  {'Artist': 1, 'Album': 3}\n",
      "Searching For Gil Flat                                          {'Artist': 6, 'Album': 9}\n",
      "Searching For Hördegårds Fyra                                 {'Artist': 9, 'Album': 4}\n",
      "Searching For 自決 9 6                                            {'Artist': 1, 'Album': 0}\n",
      "Searching For Tokyo Call Project                                {'Artist': 2, 'Album': 2}\n",
      "Searching For Sven Ahlbäck                                     {'Artist': 7, 'Album': 6}\n",
      "Searching For Frank Witzel                                      {'Artist': 0, 'Album': 0}\n",
      "Searching For Chouteira                                         {'Artist': 6, 'Album': 12}\n",
      "Searching For Pozytywka                                         {'Artist': 16, 'Album': 15}\n",
      "Searching For Turbina                                           {'Artist': 22, 'Album': 13}\n",
      "Searching For Hammerbrain                                       {'Artist': 10, 'Album': 12}\n",
      "Searching For Velvet Kills                                      {'Artist': 3, 'Album': 7}\n",
      "Searching For Censurados                                        {'Artist': 19, 'Album': 9}\n",
      "Searching For Xaxaxa                                            {'Artist': 12, 'Album': 13}\n",
      "Searching For The Freecoasters                                  {'Artist': 3, 'Album': 6}\n",
      "Searching For Депутат Балтики                                   {'Artist': 1, 'Album': 3}\n",
      "Searching For The Alchemystics                                  {'Artist': 2, 'Album': 5}\n",
      "Searching For Lauri Saatpalu                                    {'Artist': 3, 'Album': 6}\n",
      " [Getting AppleMusic ArtistIDs] | 550/?      : RunTime 56 Minute and 31 Second.\n",
      "*****************************************************************************************************************************\n",
      "*                                                    Saving SearchArtist                                                    *\n",
      "*****************************************************************************************************************************\n",
      "  Saving Index [329857] ... Done\n",
      "  Saving Data [14425] ... Done\n",
      "  Saving Error [85] ... Done\n"
     ]
    },
    {
     "data": {
      "application/vnd.jupyter.widget-view+json": {
       "model_id": "1503e6a663a84e4d88f97e88e45cbecc",
       "version_major": 2,
       "version_minor": 0
      },
      "text/plain": [
       "Waiting:   0%|          | 0/50 [00:00<?, ?it/s]"
      ]
     },
     "metadata": {},
     "output_type": "display_data"
    },
    {
     "name": "stdout",
     "output_type": "stream",
     "text": [
      "Searching For Chen Li Zhong                                     {'Artist': 39, 'Album': 12}\n",
      "Searching For 黃敏華                                               {'Artist': 1, 'Album': 5}\n",
      "Searching For DJ Sparc                                          {'Artist': 20, 'Album': 14}\n",
      "Searching For John Beckett                                      {'Artist': 21, 'Album': 8}\n",
      "Searching For Lola London                                       {'Artist': 8, 'Album': 13}\n",
      "Searching For HEHVY                                             {'Artist': 6, 'Album': 11}\n",
      "Searching For Pomodoro                                          {'Artist': 24, 'Album': 17}\n",
      "Searching For tapei                                             {'Artist': 17, 'Album': 12}\n",
      "Searching For Andrew Dannaoui                                   {'Artist': 1, 'Album': 5}\n",
      "Searching For Luis Alberto                                      {'Artist': 15, 'Album': 16}\n",
      "Searching For Sting & Shaggy                                    {'Artist': 18, 'Album': 11}\n",
      "Searching For Tommi Mischell                                    {'Artist': 5, 'Album': 10}\n",
      "Searching For Pınar Kaleli Ilhan                                {'Artist': 2, 'Album': 4}\n",
      "Searching For Fr. Paul O'Donnell                                {'Artist': 4, 'Album': 7}\n",
      "Searching For Back Roads                                        {'Artist': 24, 'Album': 15}\n",
      "Searching For Sytze Vliegen                                     {'Artist': 0, 'Album': 0}\n",
      "Searching For Mike Croston                                      {'Artist': 1, 'Album': 7}\n",
      "Searching For Sumit Tuli                                        {'Artist': 4, 'Album': 8}\n",
      "Searching For Yung Trap                                         {'Artist': 23, 'Album': 13}\n",
      "Searching For Logical Sound Discovery                           {'Artist': 1, 'Album': 7}\n",
      "Searching For Mark Austin Solo Project                          {'Artist': 1, 'Album': 8}\n",
      "Searching For Cardo Hills                                       {'Artist': 15, 'Album': 15}\n",
      "Searching For Laura Brino                                       {'Artist': 6, 'Album': 7}\n",
      "Searching For Martin Rid                                        {'Artist': 10, 'Album': 11}\n",
      "Searching For Lollipop Boy                                      {'Artist': 12, 'Album': 12}\n",
      " [Getting AppleMusic ArtistIDs] | 575/?      : RunTime 59 Minute and 8 Second.\n",
      "*****************************************************************************************************************************\n",
      "*                                                    Saving SearchArtist                                                    *\n",
      "*****************************************************************************************************************************\n",
      "  Saving Index [329882] ... Done\n",
      "  Saving Data [14450] ... Done\n",
      "  Saving Error [85] ... Done\n"
     ]
    },
    {
     "data": {
      "application/vnd.jupyter.widget-view+json": {
       "model_id": "3007f55729c84ae79f60c571ed411427",
       "version_major": 2,
       "version_minor": 0
      },
      "text/plain": [
       "Waiting:   0%|          | 0/50 [00:00<?, ?it/s]"
      ]
     },
     "metadata": {},
     "output_type": "display_data"
    },
    {
     "name": "stdout",
     "output_type": "stream",
     "text": [
      "Searching For Logan Ryan Band                                   {'Artist': 4, 'Album': 9}\n",
      "Searching For Zac Mac Band                                      {'Artist': 8, 'Album': 10}\n",
      "Searching For MC GL da City                                     {'Artist': 25, 'Album': 12}\n",
      "Searching For Bryant Dean Chapman                               {'Artist': 1, 'Album': 7}\n",
      "Searching For Thurman Re' Adams                                 {'Artist': 1, 'Album': 7}\n",
      "Searching For Sense of Scenery                                  {'Artist': 1, 'Album': 7}\n",
      "Searching For Lords of Beacon House                             {'Artist': 2, 'Album': 3}\n",
      "Searching For Perpetual Dawn                                    {'Artist': 8, 'Album': 13}\n",
      "Searching For Sects Tape                                        {'Artist': 3, 'Album': 3}\n",
      "Searching For Charts Hits 2014                                  {'Artist': 11, 'Album': 10}\n",
      "Searching For Bigga                                             {'Artist': 26, 'Album': 15}\n",
      "Searching For S'morez                                           {'Artist': 3, 'Album': 10}\n",
      "Searching For Alexandre Destrez                                 {'Artist': 8, 'Album': 6}\n",
      "Searching For Keumel                                            {'Artist': 11, 'Album': 9}\n",
      "Searching For Only a Visitor                                    {'Artist': 4, 'Album': 6}\n",
      "Searching For Chris Fretwell                                    {'Artist': 2, 'Album': 11}\n",
      "Searching For DJ Nuno E                                         {'Artist': 24, 'Album': 15}\n",
      "Searching For Yuta Suzuki                                       {'Artist': 2, 'Album': 12}\n",
      "Searching For B. Justice                                        {'Artist': 12, 'Album': 14}\n",
      "Searching For pau hernadez                                      {'Artist': 2, 'Album': 14}\n",
      "Searching For Kijana                                            {'Artist': 26, 'Album': 15}\n",
      "Searching For Anish                                             {'Artist': 34, 'Album': 17}\n",
      "Searching For To the Bone                                       {'Artist': 23, 'Album': 7}\n",
      "Searching For CCFX                                              {'Artist': 4, 'Album': 6}\n",
      "Searching For Utkarsh Shinde                                    {'Artist': 15, 'Album': 11}\n",
      " [Getting AppleMusic ArtistIDs] | 600/?      : RunTime 1 Hour and 1 Minute.\n",
      "*****************************************************************************************************************************\n",
      "*                                                    Saving SearchArtist                                                    *\n",
      "*****************************************************************************************************************************\n",
      "  Saving Index [329907] ... Done\n",
      "  Saving Data [14475] ... Done\n",
      "  Saving Error [85] ... Done\n"
     ]
    },
    {
     "data": {
      "application/vnd.jupyter.widget-view+json": {
       "model_id": "93e0910dfb724a1da163f3160f6522ba",
       "version_major": 2,
       "version_minor": 0
      },
      "text/plain": [
       "Waiting:   0%|          | 0/50 [00:00<?, ?it/s]"
      ]
     },
     "metadata": {},
     "output_type": "display_data"
    },
    {
     "name": "stdout",
     "output_type": "stream",
     "text": [
      "Searching For Jackhamma                                         {'Artist': 17, 'Album': 17}\n",
      "Searching For N!cky                                             {'Artist': 11, 'Album': 11}\n",
      "Searching For Technical Kidman                                  {'Artist': 1, 'Album': 2}\n",
      "Searching For Aina More                                         {'Artist': 11, 'Album': 13}\n",
      "Searching For Shoebill                                          {'Artist': 14, 'Album': 12}\n",
      "Searching For BITE MARX                                         {'Artist': 3, 'Album': 8}\n",
      "Searching For Myka 9 & Factor Chandelier                        {'Artist': 5, 'Album': 7}\n",
      "Searching For Narayan Thakar                                    {'Artist': 7, 'Album': 8}\n",
      "Searching For Condessa                                          {'Artist': 17, 'Album': 13}\n",
      "Searching For Robot Jones                                       {'Artist': 5, 'Album': 13}\n",
      "Searching For Boozooks                                          {'Artist': 16, 'Album': 11}\n",
      "Searching For T-CHOPPA                                          {'Artist': 14, 'Album': 14}\n",
      "Searching For Danny Peterson                                    {'Artist': 13, 'Album': 12}\n",
      "Searching For Alexx Divinoo                                     {'Artist': 3, 'Album': 8}\n",
      "Searching For Cominotto                                         {'Artist': 14, 'Album': 14}\n",
      "Searching For Eric Heydenfeld                                   {'Artist': 1, 'Album': 10}\n",
      "Searching For Grünberg                                         {'Artist': 22, 'Album': 10}\n",
      "Searching For Agm & Quintrix                                    {'Artist': 6, 'Album': 8}\n",
      "Searching For Rox Alert                                         {'Artist': 5, 'Album': 14}\n",
      "Searching For Dancing For Architecture                          {'Artist': 6, 'Album': 9}\n",
      "Searching For De Asian Groove                                   {'Artist': 4, 'Album': 13}\n",
      "Searching For Lola Mento                                        {'Artist': 14, 'Album': 12}\n",
      "Searching For Plumpy Bitches                                    {'Artist': 2, 'Album': 1}\n",
      "Searching For Leaconscious                                      {'Artist': 2, 'Album': 15}\n",
      "Searching For Micky B                                           {'Artist': 31, 'Album': 15}\n",
      " [Getting AppleMusic ArtistIDs] | 625/?      : RunTime 1 Hour and 4 Minute.\n",
      "*****************************************************************************************************************************\n",
      "*                                                    Saving SearchArtist                                                    *\n",
      "*****************************************************************************************************************************\n",
      "  Saving Index [329932] ... Done\n",
      "  Saving Data [14500] ... Done\n",
      "  Saving Error [85] ... Done\n"
     ]
    },
    {
     "data": {
      "application/vnd.jupyter.widget-view+json": {
       "model_id": "6b17c529a9d74e67941fd8806a004e6d",
       "version_major": 2,
       "version_minor": 0
      },
      "text/plain": [
       "Waiting:   0%|          | 0/50 [00:00<?, ?it/s]"
      ]
     },
     "metadata": {},
     "output_type": "display_data"
    },
    {
     "name": "stdout",
     "output_type": "stream",
     "text": [
      "Searching For 2 Guys in Da House                                {'Artist': 12, 'Album': 15}\n",
      "Searching For Outset                                            {'Artist': 30, 'Album': 17}\n",
      "Searching For Polina Play                                       {'Artist': 3, 'Album': 14}\n",
      "Searching For Grst                                              {'Artist': 2, 'Album': 3}\n",
      "Searching For Into Dagorlad                                     {'Artist': 0, 'Album': 0}\n",
      "Searching For Marthyrium                                        {'Artist': 1, 'Album': 2}\n",
      "Searching For Jetes                                             {'Artist': 22, 'Album': 10}\n",
      "Searching For VV Pampi                                          {'Artist': 4, 'Album': 12}\n",
      "Searching For Purple Tape Nate                                  {'Artist': 2, 'Album': 2}\n",
      "Searching For Philip A. Kruse                                   {'Artist': 27, 'Album': 9}\n",
      "Searching For The Autumn Leaves Fall In                         {'Artist': 26, 'Album': 13}\n",
      "Searching For Dueto Blanco Y Negro                              {'Artist': 28, 'Album': 17}\n",
      "Searching For Tony Star                                         {'Artist': 19, 'Album': 9}\n",
      "Searching For Très Mortimer                                    {'Artist': 3, 'Album': 12}\n",
      "Searching For Mustard                                           {'Artist': 19, 'Album': 11}\n",
      "Searching For Exilio Psíquico                                  {'Artist': 2, 'Album': 8}\n",
      "Searching For Noé Solange                                      {'Artist': 4, 'Album': 8}\n",
      "Searching For Buddha Kush                                       {'Artist': 11, 'Album': 13}\n",
      "Searching For The Mind                                          {'Artist': 25, 'Album': 9}\n",
      "Searching For David Bertman                                     {'Artist': 9, 'Album': 8}\n",
      "Searching For Heavy Rotation                                    {'Artist': 17, 'Album': 15}\n",
      "Searching For Fernando Martinez del Campo                       {'Artist': 1, 'Album': 8}\n",
      "Searching For Kings Noise                                       {'Artist': 24, 'Album': 13}\n",
      "Searching For Lizzy Young                                       {'Artist': 8, 'Album': 8}\n",
      "Searching For My My Snake Eyes                                  {'Artist': 8, 'Album': 7}\n",
      " [Getting AppleMusic ArtistIDs] | 650/?      : RunTime 1 Hour and 6 Minute.\n",
      "*****************************************************************************************************************************\n",
      "*                                                    Saving SearchArtist                                                    *\n",
      "*****************************************************************************************************************************\n",
      "  Saving Index [329957] ... Done\n",
      "  Saving Data [14525] ... Done\n",
      "  Saving Error [85] ... Done\n"
     ]
    },
    {
     "data": {
      "application/vnd.jupyter.widget-view+json": {
       "model_id": "333aab68c04c4a2c96074316818944fd",
       "version_major": 2,
       "version_minor": 0
      },
      "text/plain": [
       "Waiting:   0%|          | 0/50 [00:00<?, ?it/s]"
      ]
     },
     "metadata": {},
     "output_type": "display_data"
    },
    {
     "name": "stdout",
     "output_type": "stream",
     "text": [
      "Searching For John Lesaca                                       {'Artist': 4, 'Album': 5}\n",
      "Searching For Iwona Skwarek                                     {'Artist': 6, 'Album': 6}\n",
      "Searching For Andrew Dream                                      {'Artist': 6, 'Album': 9}\n",
      "Searching For Ocilippene Penz                                   {'Artist': 0, 'Album': 0}\n",
      "Searching For Telecult Powers                                   {'Artist': 1, 'Album': 0}\n",
      "Searching For HIKARU                                            {'Artist': 13, 'Album': 13}\n",
      "Searching For Ann Schein                                        {'Artist': 12, 'Album': 7}\n",
      "Searching For Mahr                                              {'Artist': 28, 'Album': 16}\n",
      "Searching For Holotrop                                          {'Artist': 7, 'Album': 8}\n",
      "Searching For A Person                                          {'Artist': 31, 'Album': 17}\n",
      "Searching For Grinder Bueno                                     {'Artist': 0, 'Album': 0}\n",
      "Searching For Poznański Chór Chłopięcy                       {'Artist': 3, 'Album': 2}\n",
      "Searching For Nan Blakstone                                     {'Artist': 1, 'Album': 1}\n",
      "Searching For The McLain Family Band                            {'Artist': 19, 'Album': 9}\n",
      "Searching For Young Harry                                       {'Artist': 18, 'Album': 13}\n",
      "Searching For President Street                                  {'Artist': 11, 'Album': 15}\n",
      "Searching For Retroacción                                      {'Artist': 5, 'Album': 10}\n",
      "Searching For L Ʌ V Σ N                                         {'Artist': 7, 'Album': 11}\n",
      "Searching For Los Indomables De Huetamo                         {'Artist': 1, 'Album': 8}\n",
      "Searching For Technology Scum                                   {'Artist': 3, 'Album': 7}\n",
      "Searching For Sridevi                                           {'Artist': 38, 'Album': 10}\n",
      "Searching For Amr Dee Huncho                                    {'Artist': 4, 'Album': 13}\n",
      "Searching For The Continental OP                                {'Artist': 26, 'Album': 9}\n",
      "Searching For Guy Debord                                        {'Artist': 10, 'Album': 9}\n",
      "Searching For Panoramas                                         {'Artist': 25, 'Album': 13}\n",
      " [Getting AppleMusic ArtistIDs] | 675/?      : RunTime 1 Hour and 9 Minute.\n",
      "*****************************************************************************************************************************\n",
      "*                                                    Saving SearchArtist                                                    *\n",
      "*****************************************************************************************************************************\n",
      "  Saving Index [329982] ... Done\n",
      "  Saving Data [14550] ... Done\n",
      "  Saving Error [85] ... Done\n"
     ]
    },
    {
     "data": {
      "application/vnd.jupyter.widget-view+json": {
       "model_id": "16a24401239145bf916c198eaa93697f",
       "version_major": 2,
       "version_minor": 0
      },
      "text/plain": [
       "Waiting:   0%|          | 0/50 [00:00<?, ?it/s]"
      ]
     },
     "metadata": {},
     "output_type": "display_data"
    },
    {
     "name": "stdout",
     "output_type": "stream",
     "text": [
      "Searching For Smithstonian                                      {'Artist': 22, 'Album': 13}\n",
      "Searching For Suomen Talvisota 1939-1940                        {'Artist': 1, 'Album': 0}\n",
      "Searching For Pissed On                                         {'Artist': 21, 'Album': 14}\n",
      "Searching For YYZ                                               {'Artist': 16, 'Album': 14}\n",
      "Searching For Hayley Gene                                       {'Artist': 11, 'Album': 13}\n",
      "Searching For Lihab                                             {'Artist': 21, 'Album': 15}\n",
      "Searching For DJ Kenn Aon                                       {'Artist': 6, 'Album': 6}\n",
      "Searching For Al Moralde                                        {'Artist': 11, 'Album': 13}\n",
      "Searching For Jae5ive                                           {'Artist': 7, 'Album': 11}\n",
      "Searching For MUSUME                                            {'Artist': 22, 'Album': 15}\n",
      "Searching For Thomas Slinger                                    {'Artist': 3, 'Album': 7}\n",
      "Searching For Dago Orozco                                       {'Artist': 4, 'Album': 7}\n",
      "Searching For Mick Whitehouse                                   {'Artist': 3, 'Album': 15}\n",
      "Searching For DJ Oberon                                         {'Artist': 11, 'Album': 14}\n",
      "Searching For Raie Da Costa                                     {'Artist': 3, 'Album': 7}\n",
      "Searching For Digital Dread                                     {'Artist': 12, 'Album': 11}\n",
      "Searching For Artie Customs                                     {'Artist': 3, 'Album': 9}\n",
      "Searching For Picture Puncture                                  {'Artist': 9, 'Album': 6}\n",
      "Searching For Parc-X Trio                                       {'Artist': 1, 'Album': 7}\n",
      "Searching For Mosaic Orchestra                                  {'Artist': 5, 'Album': 7}\n",
      "Searching For The Raptor Trail                                  {'Artist': 1, 'Album': 4}\n",
      "Searching For Grass Routes                                      {'Artist': 15, 'Album': 8}\n",
      "Searching For Centrifuge                                        {'Artist': 22, 'Album': 15}\n",
      "Searching For Belgrade National Opera Chorus                    {'Artist': 44, 'Album': 7}\n",
      "Searching For Ashanti                                           {'Artist': 21, 'Album': 10}\n",
      " [Getting AppleMusic ArtistIDs] | 700/?      : RunTime 1 Hour and 12 Minute.\n",
      "*****************************************************************************************************************************\n",
      "*                                                    Saving SearchArtist                                                    *\n",
      "*****************************************************************************************************************************\n",
      "  Saving Index [330007] ... Done\n",
      "  Saving Data [14575] ... Done\n",
      "  Saving Error [85] ... Done\n"
     ]
    },
    {
     "data": {
      "application/vnd.jupyter.widget-view+json": {
       "model_id": "2ff6a70d6091402ca21763a76ecc1737",
       "version_major": 2,
       "version_minor": 0
      },
      "text/plain": [
       "Waiting:   0%|          | 0/50 [00:00<?, ?it/s]"
      ]
     },
     "metadata": {},
     "output_type": "display_data"
    },
    {
     "name": "stdout",
     "output_type": "stream",
     "text": [
      "Searching For Marco Ramelli                                     {'Artist': 10, 'Album': 3}\n",
      "Searching For Fey Moth                                          {'Artist': 1, 'Album': 5}\n",
      "Searching For Josey Whales                                      {'Artist': 1, 'Album': 6}\n",
      "Searching For Velcro Pygmies                                    {'Artist': 2, 'Album': 2}\n",
      "Searching For Ila Cantor                                        {'Artist': 3, 'Album': 7}\n",
      "Searching For Zita Pretorius                                    {'Artist': 3, 'Album': 4}\n",
      "Searching For Rafiki Chemari                                    {'Artist': 1, 'Album': 0}\n",
      "Searching For Yeah Son!                                         {'Artist': 30, 'Album': 20}\n",
      "Searching For Shenandoah & the Night                            {'Artist': 19, 'Album': 11}\n",
      "Searching For The Accomplices                                   {'Artist': 12, 'Album': 7}\n",
      "Searching For Hot Like Fire                                     {'Artist': 19, 'Album': 14}\n",
      "Searching For Keys FTV                                          {'Artist': 4, 'Album': 4}\n",
      "Searching For Masque Music Art                                  {'Artist': 10, 'Album': 7}\n",
      "Searching For Bear Williams                                     {'Artist': 4, 'Album': 7}\n",
      "Searching For Suntrax                                           {'Artist': 4, 'Album': 11}\n",
      "Searching For Jacob Jeffries Band                               {'Artist': 4, 'Album': 7}\n",
      "Searching For Adrijana Krasniqi                                 {'Artist': 0, 'Album': 0}\n",
      "Searching For Los Relampagos de Guerrero                        {'Artist': 3, 'Album': 3}\n",
      "Searching For George Hicks                                      {'Artist': 13, 'Album': 8}\n",
      "Searching For Duy Hoàng Phong                                  {'Artist': 14, 'Album': 12}\n",
      "Searching For LJ Coon                                           {'Artist': 3, 'Album': 7}\n",
      "Searching For Snit's Dog & Pony Show                            {'Artist': 1, 'Album': 4}\n",
      "Searching For Niyi Adams                                        {'Artist': 4, 'Album': 8}\n",
      "Searching For Steinberg Duo                                     {'Artist': 22, 'Album': 7}\n",
      "Searching For Alyse Black                                       {'Artist': 5, 'Album': 7}\n",
      " [Getting AppleMusic ArtistIDs] | 725/?      : RunTime 1 Hour and 14 Minute.\n",
      "*****************************************************************************************************************************\n",
      "*                                                    Saving SearchArtist                                                    *\n",
      "*****************************************************************************************************************************\n",
      "  Saving Index [330032] ... Done\n",
      "  Saving Data [14600] ... Done\n",
      "  Saving Error [85] ... Done\n"
     ]
    },
    {
     "data": {
      "application/vnd.jupyter.widget-view+json": {
       "model_id": "cb37813e11444d5c9dca12ec15963015",
       "version_major": 2,
       "version_minor": 0
      },
      "text/plain": [
       "Waiting:   0%|          | 0/50 [00:00<?, ?it/s]"
      ]
     },
     "metadata": {},
     "output_type": "display_data"
    },
    {
     "name": "stdout",
     "output_type": "stream",
     "text": [
      "Searching For The Cut*off                                       {'Artist': 30, 'Album': 17}\n",
      "Searching For End Transmission                                  {'Artist': 17, 'Album': 17}\n",
      "Searching For Ill                                               {'Artist': 33, 'Album': 17}\n",
      "Searching For In Sect                                           {'Artist': 20, 'Album': 11}\n",
      "Searching For Repko                                             {'Artist': 5, 'Album': 11}\n",
      "Searching For Under Mountains                                   {'Artist': 15, 'Album': 7}\n",
      "Searching For Jason Cruz                                        {'Artist': 9, 'Album': 17}\n",
      "Searching For CROAK                                             {'Artist': 32, 'Album': 17}\n",
      "Searching For Agador Spartacus                                  {'Artist': 2, 'Album': 5}\n",
      "Searching For Two Figures                                       {'Artist': 15, 'Album': 15}\n",
      "Searching For Evoice                                            {'Artist': 16, 'Album': 16}\n",
      "Searching For Backwood                                          {'Artist': 27, 'Album': 13}\n",
      "Searching For Mo'Cheddah                                        {'Artist': 8, 'Album': 11}\n",
      "Searching For O'queStrada                                       {'Artist': 2, 'Album': 2}\n",
      "Searching For Norelle                                           {'Artist': 10, 'Album': 10}\n",
      "Searching For Timeless Rage                                     {'Artist': 4, 'Album': 6}\n",
      "Searching For Mantij                                            {'Artist': 15, 'Album': 13}\n",
      "Searching For Field Kit                                         {'Artist': 4, 'Album': 8}\n",
      "Searching For Randy Mason                                       {'Artist': 11, 'Album': 11}\n",
      "Searching For Annabelle's Garden                                {'Artist': 1, 'Album': 1}\n",
      "Searching For Circle Sky                                        {'Artist': 12, 'Album': 13}\n",
      "Searching For KBG                                               {'Artist': 21, 'Album': 14}\n",
      "Searching For Arrival Sound System                              {'Artist': 3, 'Album': 9}\n",
      "Searching For Malandro                                          {'Artist': 28, 'Album': 15}\n",
      "Searching For Buhai                                             {'Artist': 17, 'Album': 10}\n",
      " [Getting AppleMusic ArtistIDs] | 750/?      : RunTime 1 Hour and 17 Minute.\n",
      "*****************************************************************************************************************************\n",
      "*                                                    Saving SearchArtist                                                    *\n",
      "*****************************************************************************************************************************\n",
      "  Saving Index [330057] ... Done\n",
      "  Saving Data [14625] ... Done\n",
      "  Saving Error [85] ... Done\n"
     ]
    },
    {
     "data": {
      "application/vnd.jupyter.widget-view+json": {
       "model_id": "87af914b0ec14222854783b8521e1af5",
       "version_major": 2,
       "version_minor": 0
      },
      "text/plain": [
       "Waiting:   0%|          | 0/50 [00:00<?, ?it/s]"
      ]
     },
     "metadata": {},
     "output_type": "display_data"
    },
    {
     "name": "stdout",
     "output_type": "stream",
     "text": [
      "Searching For Tom Meny                                          {'Artist': 2, 'Album': 7}\n",
      "Searching For Blue Angels                                       {'Artist': 21, 'Album': 15}\n",
      "Searching For Genny Day                                         {'Artist': 3, 'Album': 9}\n",
      "Searching For Brave Music                                       {'Artist': 30, 'Album': 16}\n",
      "Searching For Noise Destruction                                 {'Artist': 8, 'Album': 10}\n",
      "Searching For Liam Weldon                                       {'Artist': 3, 'Album': 3}\n",
      "Searching For Trille Palsgaard                                  {'Artist': 0, 'Album': 0}\n",
      "Searching For John Weatherley                                   {'Artist': 5, 'Album': 7}\n",
      "Searching For Deepro                                            {'Artist': 20, 'Album': 16}\n",
      "Searching For Spit Infinity                                     {'Artist': 1, 'Album': 15}\n",
      "Searching For Bill J. Jenkins                                   {'Artist': 3, 'Album': 6}\n",
      "Searching For Chris James and the Showdowns                     {'Artist': 1, 'Album': 4}\n",
      "Searching For Tobirus Mozelle                                   {'Artist': 9, 'Album': 14}\n",
      "Searching For Dusty Buddha Child                                {'Artist': 3, 'Album': 3}\n",
      "Searching For Yosuke Yamashita New York Trio                    {'Artist': 3, 'Album': 2}\n",
      "Searching For Ohana Lekio                                       {'Artist': 1, 'Album': 7}\n",
      "Searching For Guerrera                                          {'Artist': 23, 'Album': 13}\n",
      "Searching For Music Engineer                                    {'Artist': 28, 'Album': 15}\n",
      "Searching For Yung Zedd                                         {'Artist': 4, 'Album': 11}\n",
      "Searching For Pleizel                                           {'Artist': 5, 'Album': 9}\n",
      "Searching For Mercy Necromancy                                  {'Artist': 4, 'Album': 9}\n",
      "Searching For BigFatEddie                                       {'Artist': 2, 'Album': 16}\n",
      "Searching For Saint Clair                                       {'Artist': 23, 'Album': 12}\n",
      "Searching For John Ulf Anderson                                 {'Artist': 2, 'Album': 3}\n",
      "Searching For Ill Nino                                          {'Artist': 10, 'Album': 10}\n",
      " [Getting AppleMusic ArtistIDs] | 775/?      : RunTime 1 Hour and 19 Minute.\n",
      "*****************************************************************************************************************************\n",
      "*                                                    Saving SearchArtist                                                    *\n",
      "*****************************************************************************************************************************\n",
      "  Saving Index [330082] ... Done\n",
      "  Saving Data [14650] ... Done\n",
      "  Saving Error [85] ... Done\n"
     ]
    },
    {
     "data": {
      "application/vnd.jupyter.widget-view+json": {
       "model_id": "6d45d6719fa04c559fc52ec408196bf7",
       "version_major": 2,
       "version_minor": 0
      },
      "text/plain": [
       "Waiting:   0%|          | 0/50 [00:00<?, ?it/s]"
      ]
     },
     "metadata": {},
     "output_type": "display_data"
    },
    {
     "name": "stdout",
     "output_type": "stream",
     "text": [
      "Searching For Sleazemaster                                      {'Artist': 1, 'Album': 10}\n",
      "Searching For Bad Taste                                         {'Artist': 25, 'Album': 14}\n",
      "Searching For Dj Wesley Gonzaga                                 {'Artist': 22, 'Album': 13}\n",
      "Searching For The Booyah! Kids                                  {'Artist': 3, 'Album': 6}\n",
      "Searching For Selvageria                                        {'Artist': 17, 'Album': 13}\n",
      "Searching For Celebrating David Bowie                           {'Artist': 5, 'Album': 12}\n",
      "Searching For Deathbed                                          {'Artist': 31, 'Album': 17}\n",
      "Searching For CRSN                                              {'Artist': 14, 'Album': 8}\n",
      "Searching For The Additives                                     {'Artist': 9, 'Album': 9}\n",
      "Searching For John Teo                                          {'Artist': 8, 'Album': 7}\n",
      "Searching For Noise Wares                                       {'Artist': 9, 'Album': 13}\n",
      "Searching For Pallab Borax                                      {'Artist': 10, 'Album': 15}\n",
      "Searching For Vírus                                            {'Artist': 31, 'Album': 17}\n",
      "Searching For Mike Lorello                                      {'Artist': 5, 'Album': 11}\n",
      "Searching For Nic Gyalson                                       {'Artist': 1, 'Album': 0}\n",
      "Searching For Herve Villard                                     {'Artist': 1, 'Album': 7}\n",
      "Searching For Passion Theatre                                   {'Artist': 11, 'Album': 11}\n",
      "Searching For Jay Jordan                                        {'Artist': 18, 'Album': 9}\n",
      "Searching For Bayaan                                            {'Artist': 12, 'Album': 10}\n",
      "Searching For Cryptic Dungeon                                   {'Artist': 3, 'Album': 3}\n",
      "Searching For Syd Kult                                          {'Artist': 1, 'Album': 4}\n",
      "Searching For Guilford                                          {'Artist': 18, 'Album': 12}\n",
      "Searching For Arctique Circles                                  {'Artist': 13, 'Album': 7}\n",
      "Searching For I-Sense                                           {'Artist': 21, 'Album': 15}\n",
      "Searching For Arkouzis                                          {'Artist': 0, 'Album': 0}\n",
      " [Getting AppleMusic ArtistIDs] | 800/?      : RunTime 1 Hour and 22 Minute.\n",
      "*****************************************************************************************************************************\n",
      "*                                                    Saving SearchArtist                                                    *\n",
      "*****************************************************************************************************************************\n",
      "  Saving Index [330107] ... Done\n",
      "  Saving Data [14675] ... Done\n",
      "  Saving Error [85] ... Done\n"
     ]
    },
    {
     "data": {
      "application/vnd.jupyter.widget-view+json": {
       "model_id": "d301a675bf514ab0a56605ed90db929a",
       "version_major": 2,
       "version_minor": 0
      },
      "text/plain": [
       "Waiting:   0%|          | 0/50 [00:00<?, ?it/s]"
      ]
     },
     "metadata": {},
     "output_type": "display_data"
    },
    {
     "name": "stdout",
     "output_type": "stream",
     "text": [
      "Searching For touron                                            {'Artist': 25, 'Album': 12}\n",
      "Searching For Criptadel                                         {'Artist': 1, 'Album': 3}\n",
      "Searching For Нечто                                             {'Artist': 26, 'Album': 18}\n",
      "Searching For Ex Wives                                          {'Artist': 15, 'Album': 11}\n",
      "Searching For SMILEY FACES MADE FROM RAW MEAT                   {'Artist': 1, 'Album': 4}\n",
      "Searching For Oldfield Victory                                  {'Artist': 11, 'Album': 11}\n",
      "Searching For Genitor Lvminis                                   {'Artist': 0, 'Album': 0}\n",
      "Searching For Wild Roses for the Exit                           {'Artist': 6, 'Album': 8}\n",
      "Searching For Metro West                                        {'Artist': 8, 'Album': 8}\n",
      "Searching For Kata Sarka                                        {'Artist': 1, 'Album': 1}\n",
      "Searching For Gott & Die Welt                                   {'Artist': 34, 'Album': 13}\n",
      "Searching For Skarmento                                         {'Artist': 30, 'Album': 15}\n",
      "Searching For BaumaTraum                                        {'Artist': 1, 'Album': 1}\n",
      "Searching For Dissonant Elephant                                {'Artist': 0, 'Album': 0}\n",
      "Searching For Cult Play                                         {'Artist': 9, 'Album': 11}\n",
      "Searching For Warrego Valles                                    {'Artist': 2, 'Album': 1}\n",
      "Searching For Bad Mojos                                         {'Artist': 10, 'Album': 7}\n",
      "Searching For Germ House                                        {'Artist': 2, 'Album': 8}\n",
      "Searching For Bishop and Atheist                                {'Artist': 9, 'Album': 5}\n",
      "Searching For Lasse Reinstroem                                  {'Artist': 2, 'Album': 7}\n",
      "Searching For CADY                                              {'Artist': 27, 'Album': 12}\n",
      "Searching For Dead Hour Noise                                   {'Artist': 2, 'Album': 5}\n",
      "Searching For The Sly and Unseen                                {'Artist': 1, 'Album': 0}\n",
      "Searching For The Road Sodas                                    {'Artist': 11, 'Album': 10}\n",
      "Searching For Kamizol                                           {'Artist': 21, 'Album': 8}\n",
      " [Getting AppleMusic ArtistIDs] | 825/?      : RunTime 1 Hour and 25 Minute.\n",
      "*****************************************************************************************************************************\n",
      "*                                                    Saving SearchArtist                                                    *\n",
      "*****************************************************************************************************************************\n",
      "  Saving Index [330132] ... Done\n",
      "  Saving Data [14700] ... Done\n",
      "  Saving Error [85] ... Done\n"
     ]
    },
    {
     "data": {
      "application/vnd.jupyter.widget-view+json": {
       "model_id": "6c2df04d3d754156877c79a9684f9970",
       "version_major": 2,
       "version_minor": 0
      },
      "text/plain": [
       "Waiting:   0%|          | 0/50 [00:00<?, ?it/s]"
      ]
     },
     "metadata": {},
     "output_type": "display_data"
    },
    {
     "name": "stdout",
     "output_type": "stream",
     "text": [
      "Searching For 満潮                                                {'Artist': 10, 'Album': 13}\n",
      "Searching For Camp of Wolves                                    {'Artist': 5, 'Album': 5}\n",
      "Searching For 40 Hells                                          {'Artist': 19, 'Album': 14}\n",
      "Searching For Faux Fir                                          {'Artist': 5, 'Album': 7}\n",
      "Searching For Hanumann                                          {'Artist': 28, 'Album': 13}\n",
      "Searching For Bandaga                                           {'Artist': 12, 'Album': 14}\n",
      "Searching For Kush Mink                                         {'Artist': 6, 'Album': 14}\n",
      "Searching For Selly                                             {'Artist': 19, 'Album': 14}\n",
      "Searching For Rong Kong Koma                                    {'Artist': 1, 'Album': 7}\n",
      "Searching For Fontaine Sisters                                  {'Artist': 6, 'Album': 17}\n",
      "Searching For Dulcie                                            {'Artist': 16, 'Album': 13}\n",
      "Searching For Lito El Blanco                                    {'Artist': 17, 'Album': 15}\n",
      "Searching For Lil Boy Blue                                      {'Artist': 27, 'Album': 14}\n",
      "Searching For Krazy Kyle Lapointe                               {'Artist': 1, 'Album': 5}\n",
      "Searching For Vague Reference                                   {'Artist': 4, 'Album': 5}\n",
      "Searching For Softest                                           {'Artist': 28, 'Album': 15}\n",
      "Searching For JiaLing                                           {'Artist': 21, 'Album': 11}\n",
      "Searching For Slickman                                          {'Artist': 19, 'Album': 12}\n",
      "Searching For Jennifer Decilveo                                 {'Artist': 2, 'Album': 1}\n",
      "Searching For Bridey                                            {'Artist': 11, 'Album': 10}\n",
      "Searching For Major Ace                                         {'Artist': 28, 'Album': 14}\n",
      "Searching For Femme Krawall                                     {'Artist': 1, 'Album': 2}\n",
      "Searching For Comfort                                           {'Artist': 32, 'Album': 19}\n",
      "Searching For Ominous Resurrection                              {'Artist': 2, 'Album': 3}\n",
      "Searching For Louise Le Hir                                     {'Artist': 1, 'Album': 5}\n",
      " [Getting AppleMusic ArtistIDs] | 850/?      : RunTime 1 Hour and 27 Minute.\n",
      "*****************************************************************************************************************************\n",
      "*                                                    Saving SearchArtist                                                    *\n",
      "*****************************************************************************************************************************\n",
      "  Saving Index [330157] ... Done\n",
      "  Saving Data [14725] ... Done\n",
      "  Saving Error [85] ... Done\n"
     ]
    },
    {
     "data": {
      "application/vnd.jupyter.widget-view+json": {
       "model_id": "f489d2981deb441ea46bde13b3644cf6",
       "version_major": 2,
       "version_minor": 0
      },
      "text/plain": [
       "Waiting:   0%|          | 0/50 [00:00<?, ?it/s]"
      ]
     },
     "metadata": {},
     "output_type": "display_data"
    },
    {
     "name": "stdout",
     "output_type": "stream",
     "text": [
      "Searching For Sachiko Sakurai                                   {'Artist': 11, 'Album': 2}\n",
      "Searching For Charles Ellis                                     {'Artist': 6, 'Album': 9}\n",
      "Searching For Beo Lil Kenny                                     {'Artist': 8, 'Album': 8}\n",
      "Searching For La Perla Colombiana                               {'Artist': 6, 'Album': 11}\n",
      "Searching For Kevin King                                        {'Artist': 17, 'Album': 8}\n",
      "Searching For Mark Exodus                                       {'Artist': 10, 'Album': 8}\n",
      "Searching For T Dot Est                                         {'Artist': 11, 'Album': 11}\n",
      "Searching For HeLLeR                                            {'Artist': 19, 'Album': 11}\n",
      "Searching For Saint Laffi                                       {'Artist': 3, 'Album': 5}\n",
      "Searching For Will Garcia                                       {'Artist': 18, 'Album': 13}\n",
      "Searching For Motti                                             {'Artist': 28, 'Album': 15}\n",
      "Searching For Sachin Singh                                      {'Artist': 43, 'Album': 16}\n",
      "Searching For Gojko                                             {'Artist': 11, 'Album': 9}\n",
      "Searching For Columbus Frugé                                   {'Artist': 1, 'Album': 4}\n",
      "Searching For Soundtrakk                                        {'Artist': 11, 'Album': 8}\n",
      "Searching For Keisha Shontelle                                  {'Artist': 6, 'Album': 10}\n",
      "Searching For DJ Kwestion                                       {'Artist': 13, 'Album': 11}\n",
      "Searching For Escaping Aghartha                                 {'Artist': 1, 'Album': 6}\n",
      "Searching For GabiM                                             {'Artist': 30, 'Album': 15}\n",
      "Searching For Subchvrge                                         {'Artist': 1, 'Album': 11}\n",
      "Searching For Jan Niklas Simonsen                               {'Artist': 0, 'Album': 0}\n",
      "Searching For Zha                                               {'Artist': 44, 'Album': 14}\n",
      "Searching For AV.rage                                           {'Artist': 13, 'Album': 13}\n",
      "Searching For Nene Fresco                                       {'Artist': 5, 'Album': 10}\n",
      "Searching For Ĵomart kaj Nataŝa                               {'Artist': 3, 'Album': 8}\n",
      " [Getting AppleMusic ArtistIDs] | 875/?      : RunTime 1 Hour and 30 Minute.\n",
      "*****************************************************************************************************************************\n",
      "*                                                    Saving SearchArtist                                                    *\n",
      "*****************************************************************************************************************************\n",
      "  Saving Index [330182] ... Done\n",
      "  Saving Data [14750] ... Done\n",
      "  Saving Error [85] ... Done\n"
     ]
    },
    {
     "data": {
      "application/vnd.jupyter.widget-view+json": {
       "model_id": "2d564b4d002e4c9192128e81477604d5",
       "version_major": 2,
       "version_minor": 0
      },
      "text/plain": [
       "Waiting:   0%|          | 0/50 [00:00<?, ?it/s]"
      ]
     },
     "metadata": {},
     "output_type": "display_data"
    },
    {
     "name": "stdout",
     "output_type": "stream",
     "text": [
      "Searching For daybe                                             {'Artist': 12, 'Album': 12}\n",
      "Searching For Charlise Rookwood                                 {'Artist': 2, 'Album': 1}\n",
      "Searching For Moebius AG                                        {'Artist': 5, 'Album': 8}\n",
      "Searching For Global Dance Tribe                                {'Artist': 3, 'Album': 12}\n",
      "Searching For MANCHA                                            {'Artist': 35, 'Album': 15}\n",
      "Searching For Flippers                                          {'Artist': 25, 'Album': 13}\n",
      "Searching For Alphaeus Koroma Mr J                              {'Artist': 3, 'Album': 7}\n",
      "Searching For Monolit                                           {'Artist': 26, 'Album': 16}\n",
      "Searching For Tony Lee King                                     {'Artist': 4, 'Album': 7}\n",
      "Searching For Daniel Trabold                                    {'Artist': 2, 'Album': 10}\n",
      "Searching For Dope Walker                                       {'Artist': 6, 'Album': 7}\n",
      "Searching For Ramlal                                            {'Artist': 27, 'Album': 16}\n",
      "Searching For Rajkavi Inderjit Singh Tulsi                      {'Artist': 1, 'Album': 1}\n",
      "Searching For Nusrat Badr                                       {'Artist': 4, 'Album': 3}\n",
      "Searching For Jason Warrior                                     {'Artist': 4, 'Album': 16}\n",
      "Searching For Chino El Asesino                                  {'Artist': 9, 'Album': 11}\n",
      "Searching For Jason Speed                                       {'Artist': 7, 'Album': 17}\n",
      "Searching For 'Dwellers                                         {'Artist': 26, 'Album': 16}\n",
      "Searching For Nell Gotkovsky                                    {'Artist': 11, 'Album': 10}\n",
      "Searching For Fisk På Disc                                     {'Artist': 5, 'Album': 11}\n",
      "Searching For Carlos Dacosta                                    {'Artist': 11, 'Album': 10}\n",
      "Searching For DJ Edm                                            {'Artist': 25, 'Album': 8}\n",
      "Searching For Tahj Keeton                                       {'Artist': 2, 'Album': 8}\n",
      "Searching For Thee Milkshakes                                   {'Artist': 4, 'Album': 5}\n",
      "Searching For Bonny Cepeda Y Su Orquesta                        {'Artist': 1, 'Album': 13}\n",
      " [Getting AppleMusic ArtistIDs] | 900/?      : RunTime 1 Hour and 32 Minute.\n",
      "*****************************************************************************************************************************\n",
      "*                                                    Saving SearchArtist                                                    *\n",
      "*****************************************************************************************************************************\n",
      "  Saving Index [330207] ... Done\n",
      "  Saving Data [14775] ... Done\n",
      "  Saving Error [85] ... Done\n"
     ]
    },
    {
     "data": {
      "application/vnd.jupyter.widget-view+json": {
       "model_id": "891bbe9ca96d4e1582ff30aa4f7406e2",
       "version_major": 2,
       "version_minor": 0
      },
      "text/plain": [
       "Waiting:   0%|          | 0/50 [00:00<?, ?it/s]"
      ]
     },
     "metadata": {},
     "output_type": "display_data"
    },
    {
     "name": "stdout",
     "output_type": "stream",
     "text": [
      "Searching For Nathan Skyers                                     {'Artist': 5, 'Album': 10}\n",
      "Searching For Kaczka                                            {'Artist': 19, 'Album': 16}\n",
      "Searching For Michael Preuss                                    {'Artist': 17, 'Album': 2}\n",
      "Searching For Andrea Prete                                      {'Artist': 5, 'Album': 12}\n",
      "Searching For Pär Hulkoff                                      {'Artist': 5, 'Album': 2}\n",
      "Searching For Too Kool                                          {'Artist': 31, 'Album': 16}\n",
      "Searching For Triste Terre                                      {'Artist': 13, 'Album': 8}\n",
      "Searching For Arbulubra                                         {'Artist': 1, 'Album': 4}\n",
      "Searching For Eleanore & the Lost                               {'Artist': 9, 'Album': 10}\n",
      "Searching For Evil Projects                                     {'Artist': 15, 'Album': 13}\n",
      "Searching For pHate                                             {'Artist': 32, 'Album': 16}\n",
      "Searching For Sunics                                            {'Artist': 10, 'Album': 15}\n",
      "Searching For Alien Tongue Trio                                 {'Artist': 4, 'Album': 5}\n",
      "Searching For ROARS                                             {'Artist': 30, 'Album': 15}\n",
      "Searching For Manus Bell                                        {'Artist': 11, 'Album': 11}\n",
      "Searching For SLH                                               {'Artist': 19, 'Album': 13}\n",
      "Searching For DJ di Granati                                     {'Artist': 5, 'Album': 14}\n",
      "Searching For David Deputy                                      {'Artist': 1, 'Album': 1}\n",
      "Searching For King Flexx                                        {'Artist': 20, 'Album': 8}\n",
      "Searching For Rolex DJ                                          {'Artist': 14, 'Album': 15}\n",
      "Searching For ARIA VEIL                                         {'Artist': 18, 'Album': 10}\n",
      "Searching For Sino                                              {'Artist': 30, 'Album': 15}\n",
      "Searching For DJ Tukutz                                         {'Artist': 8, 'Album': 11}\n",
      "Searching For Almud                                             {'Artist': 8, 'Album': 11}\n",
      "Searching For Singing Fats                                      {'Artist': 29, 'Album': 12}\n",
      " [Getting AppleMusic ArtistIDs] | 925/?      : RunTime 1 Hour and 35 Minute.\n",
      "*****************************************************************************************************************************\n",
      "*                                                    Saving SearchArtist                                                    *\n",
      "*****************************************************************************************************************************\n",
      "  Saving Index [330232] ... Done\n",
      "  Saving Data [14800] ... Done\n",
      "  Saving Error [85] ... Done\n"
     ]
    },
    {
     "data": {
      "application/vnd.jupyter.widget-view+json": {
       "model_id": "1ca08957fc5b422cb21d7026438090ef",
       "version_major": 2,
       "version_minor": 0
      },
      "text/plain": [
       "Waiting:   0%|          | 0/50 [00:00<?, ?it/s]"
      ]
     },
     "metadata": {},
     "output_type": "display_data"
    },
    {
     "name": "stdout",
     "output_type": "stream",
     "text": [
      "Searching For The Duskwhales                                    {'Artist': 1, 'Album': 8}\n",
      "Searching For Christopher Mccray                                {'Artist': 8, 'Album': 9}\n",
      "Searching For Los Puntos Del Amor                               {'Artist': 3, 'Album': 11}\n",
      "Searching For Francis Linel                                     {'Artist': 3, 'Album': 8}\n",
      "Searching For Lauri Yrjölä                                    {'Artist': 1, 'Album': 4}\n",
      "Searching For Happy Fangs                                       {'Artist': 7, 'Album': 7}\n",
      "Searching For Avertia                                           {'Artist': 4, 'Album': 9}\n",
      "Searching For Von Mollestein                                    {'Artist': 1, 'Album': 5}\n",
      "Searching For Marc Beasley                                      {'Artist': 6, 'Album': 17}\n",
      "Searching For Roby Sampler                                      {'Artist': 3, 'Album': 9}\n",
      "Searching For Practitioner                                      {'Artist': 22, 'Album': 13}\n",
      "Searching For Deadly Dark                                       {'Artist': 10, 'Album': 12}\n",
      "Searching For Young Menice                                      {'Artist': 18, 'Album': 11}\n",
      "Searching For Smiles Only                                       {'Artist': 11, 'Album': 13}\n",
      "Searching For Galdston & Thom                                   {'Artist': 2, 'Album': 1}\n",
      "Searching For Marco Rollo                                       {'Artist': 5, 'Album': 10}\n",
      "Searching For Emmy Duvo                                         {'Artist': 1, 'Album': 8}\n",
      "Searching For Los Pico Pico                                     {'Artist': 8, 'Album': 15}\n",
      "Searching For Yokosuka Saber Tiger                              {'Artist': 0, 'Album': 0}\n",
      "Searching For Hemisferio                                        {'Artist': 29, 'Album': 17}\n",
      "Searching For Amesarak                                          {'Artist': 0, 'Album': 0}\n",
      "Searching For Aryos                                             {'Artist': 22, 'Album': 13}\n",
      "Searching For Nimphaion                                         {'Artist': 1, 'Album': 2}\n",
      "Searching For Black Hat Bones                                   {'Artist': 2, 'Album': 4}\n",
      "Searching For Romantycy Lekkich Obyczajów                      {'Artist': 1, 'Album': 7}\n",
      " [Getting AppleMusic ArtistIDs] | 950/?      : RunTime 1 Hour and 37 Minute.\n",
      "*****************************************************************************************************************************\n",
      "*                                                    Saving SearchArtist                                                    *\n",
      "*****************************************************************************************************************************\n",
      "  Saving Index [330257] ... Done\n",
      "  Saving Data [14825] ... Done\n",
      "  Saving Error [85] ... Done\n"
     ]
    },
    {
     "data": {
      "application/vnd.jupyter.widget-view+json": {
       "model_id": "4a781b3dc02144be8138490a26c4ae23",
       "version_major": 2,
       "version_minor": 0
      },
      "text/plain": [
       "Waiting:   0%|          | 0/50 [00:00<?, ?it/s]"
      ]
     },
     "metadata": {},
     "output_type": "display_data"
    },
    {
     "name": "stdout",
     "output_type": "stream",
     "text": [
      "Searching For The Roues Brothers                                {'Artist': 1, 'Album': 7}\n",
      "Searching For White Fox                                         {'Artist': 23, 'Album': 13}\n",
      "Searching For ReeferCool                                        {'Artist': 3, 'Album': 11}\n",
      "Searching For Frantzis                                          {'Artist': 7, 'Album': 12}\n",
      "Searching For HB the Lgnd                                       {'Artist': 2, 'Album': 12}\n",
      "Searching For DSG DougHboy                                      {'Artist': 2, 'Album': 8}\n",
      "Searching For Roland Benberry 3                                 {'Artist': 5, 'Album': 13}\n",
      "Searching For Mercedess                                         {'Artist': 30, 'Album': 14}\n",
      "Searching For Radio Free Human                                  {'Artist': 2, 'Album': 13}\n",
      "Searching For Kennoly                                           {'Artist': 13, 'Album': 13}\n",
      "Searching For Astro Blacksmith                                  {'Artist': 6, 'Album': 10}\n",
      "Searching For Kana Bhadra                                       {'Artist': 4, 'Album': 7}\n",
      "Searching For Holiday Music                                     {'Artist': 34, 'Album': 19}\n",
      "Searching For Luke Star                                         {'Artist': 14, 'Album': 14}\n",
      "Searching For Trance Vision Steppers                            {'Artist': 4, 'Album': 3}\n",
      "Searching For LinBit                                            {'Artist': 3, 'Album': 15}\n",
      "Searching For Audiohazard                                       {'Artist': 6, 'Album': 11}\n",
      "Searching For Azzault                                           {'Artist': 18, 'Album': 13}\n",
      "Searching For Enslaved by Owls                                  {'Artist': 2, 'Album': 2}\n",
      "Searching For Jēran                                            {'Artist': 15, 'Album': 8}\n",
      "Searching For Tom Jessen                                        {'Artist': 12, 'Album': 5}\n",
      "Searching For Harpoon Forever                                   {'Artist': 10, 'Album': 10}\n",
      "Searching For Nicole Edwards                                    {'Artist': 4, 'Album': 11}\n",
      "Searching For The Prettybads                                    {'Artist': 1, 'Album': 7}\n",
      "Searching For Seventeen Migs of Spring                          {'Artist': 0, 'Album': 0}\n",
      " [Getting AppleMusic ArtistIDs] | 975/?      : RunTime 1 Hour and 40 Minute.\n",
      "*****************************************************************************************************************************\n",
      "*                                                    Saving SearchArtist                                                    *\n",
      "*****************************************************************************************************************************\n",
      "  Saving Index [330282] ... Done\n",
      "  Saving Data [14850] ... Done\n",
      "  Saving Error [85] ... Done\n"
     ]
    },
    {
     "data": {
      "application/vnd.jupyter.widget-view+json": {
       "model_id": "773e55f9c5d54e6fbc379e229b99f6c6",
       "version_major": 2,
       "version_minor": 0
      },
      "text/plain": [
       "Waiting:   0%|          | 0/50 [00:00<?, ?it/s]"
      ]
     },
     "metadata": {},
     "output_type": "display_data"
    },
    {
     "name": "stdout",
     "output_type": "stream",
     "text": [
      "Searching For Parastatic                                        {'Artist': 14, 'Album': 9}\n",
      "Searching For Eye Licker                                        {'Artist': 5, 'Album': 8}\n",
      "Searching For Slenderman                                        {'Artist': 20, 'Album': 12}\n",
      "Searching For Vegetable G                                       {'Artist': 9, 'Album': 7}\n",
      "Searching For Ninja Scroll                                      {'Artist': 16, 'Album': 17}\n",
      "Searching For Zombie Sundae                                     {'Artist': 1, 'Album': 3}\n",
      "Searching For Wez Saunders                                      {'Artist': 4, 'Album': 13}\n",
      "Searching For BlackSwan                                         {'Artist': 22, 'Album': 14}\n",
      "Searching For 80 Proof Rider                                    {'Artist': 3, 'Album': 8}\n",
      "Searching For Professor James Roberson                          {'Artist': 2, 'Album': 3}\n",
      "Searching For SUICIDE CIRCLE                                    {'Artist': 5, 'Album': 9}\n",
      "Searching For Haddock                                           {'Artist': 21, 'Album': 11}\n",
      "Searching For Toby Letra                                        {'Artist': 31, 'Album': 14}\n",
      "Searching For Depths of Baciu                                   {'Artist': 2, 'Album': 8}\n",
      "Searching For notsocool                                         {'Artist': 28, 'Album': 15}\n",
      "Searching For pasajero 747                                      {'Artist': 2, 'Album': 10}\n",
      "Searching For Nootropic                                         {'Artist': 8, 'Album': 9}\n",
      "Searching For TC                                                {'Artist': 23, 'Album': 12}\n",
      "Searching For Hoofmark                                          {'Artist': 2, 'Album': 2}\n",
      "Searching For Burial Oath                                       {'Artist': 23, 'Album': 13}\n",
      "Searching For Septic Mutagen                                    {'Artist': 1, 'Album': 3}\n",
      "Searching For Mind Pirates                                      {'Artist': 8, 'Album': 11}\n",
      "Searching For Synthologic                                       {'Artist': 4, 'Album': 15}\n",
      "Searching For Ana Díaz                                         {'Artist': 20, 'Album': 15}\n",
      "Searching For Aurelius Zon                                      {'Artist': 9, 'Album': 14}\n",
      " [Getting AppleMusic ArtistIDs] | 1000/?     : RunTime 1 Hour and 43 Minute.\n",
      "*****************************************************************************************************************************\n",
      "*                                                    Saving SearchArtist                                                    *\n",
      "*****************************************************************************************************************************\n",
      "  Saving Index [330307] ... Done\n",
      "  Saving Data [14875] ... Done\n",
      "  Saving Error [85] ... Done\n"
     ]
    },
    {
     "data": {
      "application/vnd.jupyter.widget-view+json": {
       "model_id": "590c895277474eefb996425faf5fc97f",
       "version_major": 2,
       "version_minor": 0
      },
      "text/plain": [
       "Waiting:   0%|          | 0/50 [00:00<?, ?it/s]"
      ]
     },
     "metadata": {},
     "output_type": "display_data"
    },
    {
     "name": "stdout",
     "output_type": "stream",
     "text": [
      "Searching For Soulstars                                         {'Artist': 27, 'Album': 14}\n",
      "Searching For Erratic KFL                                       {'Artist': 1, 'Album': 9}\n",
      "Searching For Kolkeydo                                          {'Artist': 1, 'Album': 9}\n",
      "Searching For Ale B                                             {'Artist': 13, 'Album': 15}\n",
      "Searching For Ласковый Бык                                     {'Artist': 3, 'Album': 6}\n",
      "Searching For KASATKA GX                                        {'Artist': 3, 'Album': 8}\n",
      "Searching For Sixto Rodriguez                                   {'Artist': 10, 'Album': 7}\n",
      "Searching For Stevie Zita                                       {'Artist': 2, 'Album': 15}\n",
      "Searching For JYT                                               {'Artist': 8, 'Album': 15}\n",
      "Searching For Shota Kageyama                                    {'Artist': 6, 'Album': 6}\n",
      "Searching For Vólan                                            {'Artist': 27, 'Album': 17}\n",
      "Searching For Ricardo Mejia                                     {'Artist': 9, 'Album': 16}\n",
      "Searching For Lauren Juzang                                     {'Artist': 5, 'Album': 10}\n",
      "Searching For Cynista                                           {'Artist': 18, 'Album': 12}\n",
      "Searching For Amortalist                                        {'Artist': 12, 'Album': 10}\n",
      "Searching For Stockard Channing                                 {'Artist': 6, 'Album': 11}\n",
      "Searching For JK Lloyd                                          {'Artist': 4, 'Album': 13}\n",
      "Searching For AfterDreams                                       {'Artist': 6, 'Album': 7}\n",
      "Searching For The Will of a Million                             {'Artist': 26, 'Album': 17}\n",
      "Searching For Witticism                                         {'Artist': 22, 'Album': 15}\n",
      "Searching For Last Burning Embers                               {'Artist': 2, 'Album': 2}\n",
      "Searching For nekodex                                           {'Artist': 2, 'Album': 10}\n",
      "Searching For Adopekid                                          {'Artist': 0, 'Album': 0}\n",
      "Searching For Double Cheese                                     {'Artist': 22, 'Album': 14}\n",
      "Searching For Emma Lucia                                        {'Artist': 7, 'Album': 10}\n",
      " [Getting AppleMusic ArtistIDs] | 1025/?     : RunTime 1 Hour and 45 Minute.\n",
      "*****************************************************************************************************************************\n",
      "*                                                    Saving SearchArtist                                                    *\n",
      "*****************************************************************************************************************************\n",
      "  Saving Index [330332] ... Done\n",
      "  Saving Data [14900] ... Done\n",
      "  Saving Error [85] ... Done\n"
     ]
    },
    {
     "data": {
      "application/vnd.jupyter.widget-view+json": {
       "model_id": "89793460aeac4de7b13bd19f25898898",
       "version_major": 2,
       "version_minor": 0
      },
      "text/plain": [
       "Waiting:   0%|          | 0/50 [00:00<?, ?it/s]"
      ]
     },
     "metadata": {},
     "output_type": "display_data"
    },
    {
     "name": "stdout",
     "output_type": "stream",
     "text": [
      "Searching For Itchy McGuirk                                     {'Artist': 1, 'Album': 3}\n",
      "Searching For The Hep Cat Boo Daddies                           {'Artist': 2, 'Album': 3}\n",
      "Searching For Bagatelle                                         {'Artist': 24, 'Album': 16}\n",
      "Searching For Bryan Adam Joyner                                 {'Artist': 1, 'Album': 3}\n",
      "Searching For Trio Rafale                                       {'Artist': 1, 'Album': 4}\n",
      "Searching For Tumbleweed Mile                                   {'Artist': 5, 'Album': 7}\n",
      "Searching For Super Junior Yesung                               {'Artist': 6, 'Album': 15}\n",
      "Searching For The Absynth Quintet                               {'Artist': 2, 'Album': 3}\n",
      "Searching For Mitch and the Polecats                            {'Artist': 5, 'Album': 6}\n",
      "Searching For Big Larry & the Gangsta Blues Band                {'Artist': 6, 'Album': 7}\n",
      "Searching For The Gospel Incredibles                            {'Artist': 12, 'Album': 7}\n",
      "Searching For David Roter Method                                {'Artist': 1, 'Album': 3}\n",
      "Searching For Back Porch Boogie Band                            {'Artist': 3, 'Album': 7}\n",
      "Searching For Alice J. Jones                                    {'Artist': 1, 'Album': 4}\n",
      "Searching For The Warrior Kings                                 {'Artist': 4, 'Album': 8}\n",
      "Searching For The Outer Space Heaters                           {'Artist': 10, 'Album': 8}\n",
      "Searching For DJ Power Tool                                     {'Artist': 17, 'Album': 13}\n",
      "Searching For Wavevom                                           {'Artist': 1, 'Album': 5}\n",
      "Searching For The Big Cheese                                    {'Artist': 30, 'Album': 15}\n",
      "Searching For Aquino e a Orquestra Invisível                   {'Artist': 1, 'Album': 8}\n",
      "Searching For illexotic                                         {'Artist': 3, 'Album': 11}\n",
      "Searching For Brozzo                                            {'Artist': 5, 'Album': 9}\n",
      "Searching For Shy One                                           {'Artist': 31, 'Album': 14}\n",
      "Searching For Lil Yen                                           {'Artist': 9, 'Album': 10}\n",
      "Searching For Flow Celestial                                    {'Artist': 19, 'Album': 15}\n",
      " [Getting AppleMusic ArtistIDs] | 1050/?     : RunTime 1 Hour and 48 Minute.\n",
      "*****************************************************************************************************************************\n",
      "*                                                    Saving SearchArtist                                                    *\n",
      "*****************************************************************************************************************************\n",
      "  Saving Index [330357] ... Done\n",
      "  Saving Data [14925] ... Done\n",
      "  Saving Error [85] ... Done\n"
     ]
    },
    {
     "data": {
      "application/vnd.jupyter.widget-view+json": {
       "model_id": "6073293ebb764ccfbc4f72e016ae56f6",
       "version_major": 2,
       "version_minor": 0
      },
      "text/plain": [
       "Waiting:   0%|          | 0/50 [00:00<?, ?it/s]"
      ]
     },
     "metadata": {},
     "output_type": "display_data"
    },
    {
     "name": "stdout",
     "output_type": "stream",
     "text": [
      "Searching For Jesse Francis                                     {'Artist': 14, 'Album': 13}\n",
      "Searching For Junito Wen                                        {'Artist': 13, 'Album': 13}\n",
      "Searching For Joe Ptacek                                        {'Artist': 0, 'Album': 0}\n",
      "Searching For G.rizo                                            {'Artist': 15, 'Album': 11}\n",
      "Searching For Atlan                                             {'Artist': 16, 'Album': 11}\n",
      "Searching For Arcane Objective                                  {'Artist': 1, 'Album': 7}\n",
      "Searching For Aerial Blacked                                    {'Artist': 1, 'Album': 4}\n",
      "Searching For Lucci                                             {'Artist': 15, 'Album': 11}\n",
      "Searching For Pfalz                                             {'Artist': 31, 'Album': 14}\n",
      "Searching For Club                                              {'Artist': 27, 'Album': 19}\n",
      "Searching For Daveed Ramsay                                     {'Artist': 14, 'Album': 9}\n",
      "Searching For The Metaluna Mutant                               {'Artist': 1, 'Album': 2}\n",
      "Searching For Mc Double-b                                       {'Artist': 8, 'Album': 13}\n",
      "Searching For Acid Braincrackers                                {'Artist': 3, 'Album': 4}\n",
      "Searching For The Culls                                         {'Artist': 18, 'Album': 12}\n",
      "Searching For Jiddu Krishnamurti                                {'Artist': 4, 'Album': 9}\n",
      "Searching For Olivier Bassil                                    {'Artist': 2, 'Album': 1}\n",
      "Searching For People You Meet Outside Of Bars                   {'Artist': 2, 'Album': 10}\n",
      "Searching For Gemma J                                           {'Artist': 16, 'Album': 7}\n",
      "Searching For Laurence Marrero                                  {'Artist': 0, 'Album': 0}\n",
      "Searching For Steve Brooks                                      {'Artist': 17, 'Album': 9}\n",
      "Searching For Emptystare                                        {'Artist': 6, 'Album': 8}\n",
      "Searching For Abrakadabra                                       {'Artist': 30, 'Album': 16}\n",
      "Searching For Ikaru                                             {'Artist': 10, 'Album': 11}\n",
      "Searching For Underman                                          {'Artist': 22, 'Album': 14}\n",
      " [Getting AppleMusic ArtistIDs] | 1075/?     : RunTime 1 Hour and 50 Minute.\n",
      "*****************************************************************************************************************************\n",
      "*                                                    Saving SearchArtist                                                    *\n",
      "*****************************************************************************************************************************\n",
      "  Saving Index [330382] ... Done\n",
      "  Saving Data [14950] ... Done\n",
      "  Saving Error [85] ... Done\n"
     ]
    },
    {
     "data": {
      "application/vnd.jupyter.widget-view+json": {
       "model_id": "94b7cd67cf0b4118923a1c8b656eeb61",
       "version_major": 2,
       "version_minor": 0
      },
      "text/plain": [
       "Waiting:   0%|          | 0/50 [00:00<?, ?it/s]"
      ]
     },
     "metadata": {},
     "output_type": "display_data"
    },
    {
     "name": "stdout",
     "output_type": "stream",
     "text": [
      "Searching For Carlos Merguia                                    {'Artist': 0, 'Album': 0}\n",
      "Searching For Dj Luli Torres                                    {'Artist': 1, 'Album': 7}\n",
      "Searching For Giancarlo Pasquini                                {'Artist': 1, 'Album': 1}\n",
      "Searching For Refye el Demonio                                  {'Artist': 8, 'Album': 15}\n",
      "Searching For Boogiemane                                        {'Artist': 19, 'Album': 13}\n",
      "Searching For Jan Bark                                          {'Artist': 6, 'Album': 7}\n",
      "Searching For Tèklé Tèsfa-Ezghi                              {'Artist': 1, 'Album': 1}\n",
      "Searching For ARGI                                              {'Artist': 21, 'Album': 15}\n",
      "Searching For The Phonkers                                      {'Artist': 6, 'Album': 8}\n",
      "Searching For Woods                                             {'Artist': 39, 'Album': 17}\n",
      "Searching For The Wright Specials                               {'Artist': 15, 'Album': 11}\n",
      "Searching For Souley                                            {'Artist': 19, 'Album': 14}\n",
      "Searching For 765ghost                                          {'Artist': 3, 'Album': 10}\n",
      "Searching For Titans in Time                                    {'Artist': 1, 'Album': 10}\n",
      "Searching For Óscar Martínez                                  {'Artist': 14, 'Album': 10}\n",
      "Searching For J.F. Gloss                                        {'Artist': 3, 'Album': 10}\n",
      "Searching For Matt Lastname                                     {'Artist': 30, 'Album': 18}\n",
      "Searching For May The Tempest                                   {'Artist': 2, 'Album': 8}\n",
      "Searching For Raphael Mayers                                    {'Artist': 4, 'Album': 9}\n",
      "Searching For Kate & Karen                                      {'Artist': 43, 'Album': 12}\n",
      "Searching For zio                                               {'Artist': 35, 'Album': 18}\n",
      "Searching For MABS                                              {'Artist': 28, 'Album': 12}\n",
      "Searching For Inofaith                                          {'Artist': 4, 'Album': 4}\n",
      "Searching For BOII CHEEF                                        {'Artist': 12, 'Album': 11}\n",
      "Searching For Arboza                                            {'Artist': 18, 'Album': 9}\n",
      " [Getting AppleMusic ArtistIDs] | 1100/?     : RunTime 1 Hour and 53 Minute.\n",
      "*****************************************************************************************************************************\n",
      "*                                                    Saving SearchArtist                                                    *\n",
      "*****************************************************************************************************************************\n",
      "  Saving Index [330407] ... Done\n",
      "  Saving Data [14975] ... Done\n",
      "  Saving Error [85] ... Done\n"
     ]
    },
    {
     "data": {
      "application/vnd.jupyter.widget-view+json": {
       "model_id": "c852b2a1243e4b1b992325e5ac1cf472",
       "version_major": 2,
       "version_minor": 0
      },
      "text/plain": [
       "Waiting:   0%|          | 0/50 [00:00<?, ?it/s]"
      ]
     },
     "metadata": {},
     "output_type": "display_data"
    },
    {
     "name": "stdout",
     "output_type": "stream",
     "text": [
      "Searching For Mehran Atash                                      {'Artist': 2, 'Album': 13}\n",
      "Searching For La Chica Cumbia                                   {'Artist': 19, 'Album': 14}\n",
      "Searching For Tommy Noble                                       {'Artist': 5, 'Album': 7}\n",
      "Searching For Eddie Powell                                      {'Artist': 7, 'Album': 8}\n",
      "Searching For The Mixer Man                                     {'Artist': 11, 'Album': 11}\n",
      "Searching For Pragu' De Sus                                     {'Artist': 8, 'Album': 7}\n",
      "Searching For Mona de Bo                                        {'Artist': 7, 'Album': 10}\n",
      "Searching For Gratts                                            {'Artist': 16, 'Album': 7}\n",
      "Searching For DJ Carlo Bardini                                  {'Artist': 5, 'Album': 16}\n",
      "Searching For Dope (PT)                                         {'Artist': 20, 'Album': 11}\n",
      "Searching For Chite                                             {'Artist': 9, 'Album': 9}\n",
      "Searching For Different Ray                                     {'Artist': 16, 'Album': 12}\n",
      "Searching For Soffie Viemose                                    {'Artist': 4, 'Album': 9}\n",
      "Searching For Issayah Maxwell                                   {'Artist': 1, 'Album': 11}\n",
      "Searching For Joypark                                           {'Artist': 3, 'Album': 9}\n",
      "Searching For The Last Hard Men                                 {'Artist': 23, 'Album': 15}\n",
      "Searching For Mike Mauri                                        {'Artist': 6, 'Album': 9}\n",
      "Searching For Wander Sa                                         {'Artist': 13, 'Album': 17}\n",
      "Searching For Optogram                                          {'Artist': 6, 'Album': 7}\n",
      "Searching For Oli Lazarus                                       {'Artist': 13, 'Album': 3}\n",
      "Searching For Dmitri Shostakovich Jr.                           {'Artist': 14, 'Album': 8}\n",
      "Searching For Daeda                                             {'Artist': 11, 'Album': 13}\n",
      "Searching For Emanuel Azz                                       {'Artist': 3, 'Album': 9}\n",
      "Searching For Massimo Amato                                     {'Artist': 6, 'Album': 6}\n",
      "Searching For Vyacheslav Ovchinnikov                            {'Artist': 5, 'Album': 2}\n",
      " [Getting AppleMusic ArtistIDs] | 1125/?     : RunTime 1 Hour and 56 Minute.\n",
      "*****************************************************************************************************************************\n",
      "*                                                    Saving SearchArtist                                                    *\n",
      "*****************************************************************************************************************************\n",
      "  Saving Index [330432] ... Done\n",
      "  Saving Data [15000] ... Done\n",
      "  Saving Error [85] ... Done\n"
     ]
    },
    {
     "data": {
      "application/vnd.jupyter.widget-view+json": {
       "model_id": "77cda450897444998695d2f7c1e47b44",
       "version_major": 2,
       "version_minor": 0
      },
      "text/plain": [
       "Waiting:   0%|          | 0/50 [00:00<?, ?it/s]"
      ]
     },
     "metadata": {},
     "output_type": "display_data"
    },
    {
     "name": "stdout",
     "output_type": "stream",
     "text": [
      "Searching For Govind Krsna Das                                  {'Artist': 5, 'Album': 13}\n",
      "Searching For Eno Michael                                       {'Artist': 4, 'Album': 8}\n",
      "Searching For Kulwinder Singh                                   {'Artist': 22, 'Album': 13}\n",
      "Searching For Mocki                                             {'Artist': 5, 'Album': 10}\n",
      "Searching For Midnight Society                                  {'Artist': 30, 'Album': 17}\n",
      "Searching For Morning Crush                                     {'Artist': 5, 'Album': 10}\n",
      "Searching For Shiloh Lindsey                                    {'Artist': 19, 'Album': 7}\n",
      "Searching For Tiga Lilly                                        {'Artist': 4, 'Album': 7}\n",
      "Searching For Best Boys Electric                                {'Artist': 26, 'Album': 12}\n",
      "Searching For Dextramine 90                                     {'Artist': 1, 'Album': 10}\n",
      "Searching For The Human Case                                    {'Artist': 3, 'Album': 8}\n",
      "Searching For Andy Akiho                                        {'Artist': 9, 'Album': 9}\n",
      "Searching For Oneiione                                          {'Artist': 4, 'Album': 13}\n",
      "Searching For Will Hummel                                       {'Artist': 3, 'Album': 5}\n",
      "Searching For Ján Kuric                                        {'Artist': 2, 'Album': 2}\n",
      "Searching For Hartmut Elbert                                    {'Artist': 16, 'Album': 3}\n",
      "Searching For Dave Scheff                                       {'Artist': 2, 'Album': 1}\n",
      "Searching For Mario de Jesús Baéz                             {'Artist': 0, 'Album': 0}\n",
      "Searching For Big Baba                                          {'Artist': 16, 'Album': 13}\n",
      "Searching For Prynce                                            {'Artist': 32, 'Album': 12}\n",
      "Searching For Chromatic Apparatus                               {'Artist': 14, 'Album': 15}\n",
      "Searching For Mafia Gang                                        {'Artist': 31, 'Album': 13}\n",
      "Searching For Bryant Powell                                     {'Artist': 15, 'Album': 12}\n",
      "Searching For Luvwillow                                         {'Artist': 8, 'Album': 14}\n",
      "Searching For Gayance                                           {'Artist': 9, 'Album': 8}\n",
      " [Getting AppleMusic ArtistIDs] | 1150/?     : RunTime 1 Hour and 58 Minute.\n",
      "*****************************************************************************************************************************\n",
      "*                                                    Saving SearchArtist                                                    *\n",
      "*****************************************************************************************************************************\n",
      "  Saving Index [330457] ... Done\n",
      "  Saving Data [15025] ... Done\n",
      "  Saving Error [85] ... Done\n"
     ]
    },
    {
     "data": {
      "application/vnd.jupyter.widget-view+json": {
       "model_id": "1279fa77b80444e49d1e2d298a63dfe3",
       "version_major": 2,
       "version_minor": 0
      },
      "text/plain": [
       "Waiting:   0%|          | 0/50 [00:00<?, ?it/s]"
      ]
     },
     "metadata": {},
     "output_type": "display_data"
    },
    {
     "name": "stdout",
     "output_type": "stream",
     "text": [
      "Searching For Marcus Viana & Transfônica Orkestra              {'Artist': 3, 'Album': 1}\n",
      "Searching For Jovanny Cadena                                    {'Artist': 12, 'Album': 9}\n",
      "Searching For Aggro                                             {'Artist': 31, 'Album': 17}\n",
      "Searching For Samuele Scelfo                                    {'Artist': 6, 'Album': 12}\n",
      "Searching For Dave Eastoe                                       {'Artist': 9, 'Album': 8}\n",
      "Searching For Redeye Carl & the Pirates                         {'Artist': 2, 'Album': 7}\n",
      "Searching For Doghouse Swine                                    {'Artist': 1, 'Album': 6}\n",
      "Searching For Andrew J. Bond                                    {'Artist': 9, 'Album': 13}\n",
      "Searching For Mohamed Noor                                      {'Artist': 14, 'Album': 8}\n",
      "Searching For Ladislav Kubik                                    {'Artist': 10, 'Album': 6}\n",
      "Searching For Trans Trenderz                                    {'Artist': 5, 'Album': 7}\n",
      "Searching For Robin Rush                                        {'Artist': 14, 'Album': 14}\n",
      "Searching For Dominic Breen                                     {'Artist': 2, 'Album': 8}\n",
      "Searching For Chethan Naik                                      {'Artist': 30, 'Album': 16}\n",
      "Searching For Ending Satellites                                 {'Artist': 4, 'Album': 8}\n",
      "Searching For Hollow Hand                                       {'Artist': 4, 'Album': 10}\n",
      "Searching For Manoj Manjul                                      {'Artist': 5, 'Album': 13}\n",
      "Searching For Alexandre Nero                                    {'Artist': 3, 'Album': 8}\n",
      "Searching For Stach Bukowski                                    {'Artist': 2, 'Album': 10}\n",
      "Searching For Mermelada de Morcilla                             {'Artist': 3, 'Album': 9}\n",
      "Searching For Stargold                                          {'Artist': 18, 'Album': 18}\n",
      "Searching For Seize the Vatican                                 {'Artist': 1, 'Album': 2}\n",
      "Searching For Steve Hawks                                       {'Artist': 9, 'Album': 15}\n",
      "Searching For Dan Absent                                        {'Artist': 11, 'Album': 13}\n",
      "Searching For Joe Denim                                         {'Artist': 2, 'Album': 10}\n",
      " [Getting AppleMusic ArtistIDs] | 1175/?     : RunTime 2 Hour and 1 Minute.\n",
      "*****************************************************************************************************************************\n",
      "*                                                    Saving SearchArtist                                                    *\n",
      "*****************************************************************************************************************************\n",
      "  Saving Index [330482] ... Done\n",
      "  Saving Data [15050] ... Done\n",
      "  Saving Error [85] ... Done\n"
     ]
    },
    {
     "data": {
      "application/vnd.jupyter.widget-view+json": {
       "model_id": "c5cc4939ce404bc595a1aa7ccedab342",
       "version_major": 2,
       "version_minor": 0
      },
      "text/plain": [
       "Waiting:   0%|          | 0/50 [00:00<?, ?it/s]"
      ]
     },
     "metadata": {},
     "output_type": "display_data"
    },
    {
     "name": "stdout",
     "output_type": "stream",
     "text": [
      "Searching For Quarterjack                                       {'Artist': 7, 'Album': 7}\n",
      "Searching For Cyranek                                           {'Artist': 10, 'Album': 15}\n",
      "Searching For Phenix BBJ                                        {'Artist': 6, 'Album': 13}\n",
      "Searching For Mc Morena                                         {'Artist': 40, 'Album': 13}\n",
      "Searching For Cloudy Manteen                                    {'Artist': 1, 'Album': 7}\n",
      "Searching For School Boy                                        {'Artist': 19, 'Album': 10}\n",
      "Searching For Blood of The Moon                                 {'Artist': 23, 'Album': 14}\n",
      "Searching For Rebekah Renatus                                   {'Artist': 7, 'Album': 14}\n",
      "Searching For Soapy                                             {'Artist': 25, 'Album': 16}\n",
      "Searching For Recipe                                            {'Artist': 27, 'Album': 14}\n",
      "Searching For Tore Andersen                                     {'Artist': 5, 'Album': 7}\n",
      "Searching For Teddy Wilson And His All Stars                    {'Artist': 5, 'Album': 4}\n",
      "Searching For Gabriela Cegolea                                  {'Artist': 9, 'Album': 11}\n",
      "Searching For DJ Jacob                                          {'Artist': 22, 'Album': 13}\n",
      "Searching For Official Lion of Judah                            {'Artist': 3, 'Album': 11}\n",
      "Searching For Baki B3                                           {'Artist': 16, 'Album': 9}\n",
      "Searching For 21 views                                          {'Artist': 5, 'Album': 13}\n",
      "Searching For K Collective                                      {'Artist': 23, 'Album': 12}\n",
      "Searching For Fumarole                                          {'Artist': 10, 'Album': 9}\n",
      "Searching For From Kissing                                      {'Artist': 26, 'Album': 13}\n",
      "Searching For City of Glass                                     {'Artist': 18, 'Album': 13}\n",
      "Searching For JK Christopher                                    {'Artist': 5, 'Album': 13}\n",
      "Searching For Silverlink                                        {'Artist': 6, 'Album': 10}\n",
      "Searching For J.O.Y                                             {'Artist': 37, 'Album': 18}\n",
      "Searching For Kemayo                                            {'Artist': 12, 'Album': 11}\n",
      " [Getting AppleMusic ArtistIDs] | 1200/?     : RunTime 2 Hour and 3 Minute.\n",
      "*****************************************************************************************************************************\n",
      "*                                                    Saving SearchArtist                                                    *\n",
      "*****************************************************************************************************************************\n",
      "  Saving Index [330507] ... Done\n",
      "  Saving Data [15075] ... Done\n",
      "  Saving Error [85] ... Done\n"
     ]
    },
    {
     "data": {
      "application/vnd.jupyter.widget-view+json": {
       "model_id": "c82eb64823474c21bb669a9ffff59abe",
       "version_major": 2,
       "version_minor": 0
      },
      "text/plain": [
       "Waiting:   0%|          | 0/50 [00:00<?, ?it/s]"
      ]
     },
     "metadata": {},
     "output_type": "display_data"
    },
    {
     "name": "stdout",
     "output_type": "stream",
     "text": [
      "Searching For H.M.B.L.                                          {'Artist': 20, 'Album': 13}\n",
      "Searching For Lee Watson                                        {'Artist': 9, 'Album': 8}\n",
      "Searching For Bajo Fuego                                        {'Artist': 17, 'Album': 16}\n",
      "Searching For Bahaa Ezat                                        {'Artist': 1, 'Album': 4}\n",
      "Searching For Crème solaire                                    {'Artist': 14, 'Album': 12}\n",
      "Searching For LEFT.                                             {'Artist': 32, 'Album': 18}\n",
      "Searching For Romee                                             {'Artist': 15, 'Album': 16}\n",
      "Searching For Dana McKeon                                       {'Artist': 8, 'Album': 13}\n",
      "Searching For The Sea of Cortez                                 {'Artist': 11, 'Album': 14}\n",
      "Searching For 1-800-Bull                                        {'Artist': 7, 'Album': 13}\n",
      "Searching For Cheb Terro                                        {'Artist': 7, 'Album': 9}\n",
      "Searching For Knightmare                                        {'Artist': 31, 'Album': 14}\n",
      "Searching For Lex Ludlow                                        {'Artist': 11, 'Album': 9}\n",
      "Searching For Velvet 99                                         {'Artist': 11, 'Album': 12}\n",
      "Searching For Cheb Runner                                       {'Artist': 8, 'Album': 10}\n",
      "Searching For Gopher D                                          {'Artist': 13, 'Album': 12}\n",
      "Searching For The Titty Twisters Orchestra                      {'Artist': 1, 'Album': 2}\n",
      "Searching For Majestic J                                        {'Artist': 10, 'Album': 8}\n",
      "Searching For Clube de Patifes                                  {'Artist': 1, 'Album': 7}\n",
      "Searching For Holy Manatee                                      {'Artist': 1, 'Album': 2}\n",
      "Searching For Mindseed                                          {'Artist': 5, 'Album': 9}\n",
      "Searching For Oladips                                           {'Artist': 11, 'Album': 10}\n",
      "Searching For EvilSound                                         {'Artist': 5, 'Album': 12}\n",
      "Searching For Delicious Allstars                                {'Artist': 6, 'Album': 7}\n",
      "Searching For Blown To Bits                                     {'Artist': 10, 'Album': 12}\n",
      " [Getting AppleMusic ArtistIDs] | 1225/?     : RunTime 2 Hour and 6 Minute.\n",
      "*****************************************************************************************************************************\n",
      "*                                                    Saving SearchArtist                                                    *\n",
      "*****************************************************************************************************************************\n",
      "  Saving Index [330532] ... Done\n",
      "  Saving Data [15100] ... Done\n",
      "  Saving Error [85] ... Done\n"
     ]
    },
    {
     "data": {
      "application/vnd.jupyter.widget-view+json": {
       "model_id": "ace69c4879de4c2f9630d987350defed",
       "version_major": 2,
       "version_minor": 0
      },
      "text/plain": [
       "Waiting:   0%|          | 0/50 [00:00<?, ?it/s]"
      ]
     },
     "metadata": {},
     "output_type": "display_data"
    },
    {
     "name": "stdout",
     "output_type": "stream",
     "text": [
      "Searching For Secret Bandits                                    {'Artist': 10, 'Album': 13}\n",
      "Searching For dwmndV                                            {'Artist': 21, 'Album': 7}\n",
      "Searching For Rodney Anonymous                                  {'Artist': 11, 'Album': 12}\n",
      "Searching For Grimwolf                                          {'Artist': 3, 'Album': 7}\n",
      "Searching For Lil Shock                                         {'Artist': 10, 'Album': 16}\n",
      "Searching For Martin David Jones                                {'Artist': 34, 'Album': 8}\n",
      "Searching For V8 Rumble                                         {'Artist': 3, 'Album': 3}\n",
      "Searching For Det Norske Jubelorkester                          {'Artist': 1, 'Album': 2}\n",
      "Searching For Kate Boyd                                         {'Artist': 4, 'Album': 7}\n",
      "Searching For Darin Leong                                       {'Artist': 1, 'Album': 3}\n",
      "Searching For John Storms-Rohm                                  {'Artist': 1, 'Album': 2}\n",
      "Searching For Gregorian Chant Schola of Saint John's Abbey and University{'Artist': 18, 'Album': 7}\n",
      "Searching For Yair Dalal & Al Ol Ensemble                       {'Artist': 13, 'Album': 8}\n",
      "Searching For Hello Strangers                                   {'Artist': 37, 'Album': 14}\n",
      "Searching For Pilos y Sus Monarcas                              {'Artist': 2, 'Album': 2}\n",
      "Searching For Beto Villa Y Su Orquesta                          {'Artist': 22, 'Album': 10}\n",
      "Searching For Johnny Douglas                                    {'Artist': 25, 'Album': 9}\n",
      "Searching For Sálvate si puedes                                {'Artist': 1, 'Album': 2}\n",
      "Searching For DJ Дождик                                         {'Artist': 3, 'Album': 3}\n",
      "Searching For Trine & Moonlighters                              {'Artist': 1, 'Album': 1}\n",
      "Searching For Buckshotz                                         {'Artist': 15, 'Album': 10}\n",
      "Searching For Katrin Sass                                       {'Artist': 3, 'Album': 4}\n",
      "Searching For Sickchild                                         {'Artist': 6, 'Album': 5}\n",
      "Searching For The Short Wave Mystery                            {'Artist': 4, 'Album': 5}\n",
      "Searching For Kenny Martin, Jr.                                 {'Artist': 1, 'Album': 3}\n",
      " [Getting AppleMusic ArtistIDs] | 1250/?     : RunTime 2 Hour and 9 Minute.\n",
      "*****************************************************************************************************************************\n",
      "*                                                    Saving SearchArtist                                                    *\n",
      "*****************************************************************************************************************************\n",
      "  Saving Index [330557] ... Done\n",
      "  Saving Data [15125] ... Done\n",
      "  Saving Error [85] ... Done\n"
     ]
    },
    {
     "data": {
      "application/vnd.jupyter.widget-view+json": {
       "model_id": "6305af171930420fb43f9e3942291594",
       "version_major": 2,
       "version_minor": 0
      },
      "text/plain": [
       "Waiting:   0%|          | 0/50 [00:00<?, ?it/s]"
      ]
     },
     "metadata": {},
     "output_type": "display_data"
    },
    {
     "name": "stdout",
     "output_type": "stream",
     "text": [
      "Searching For DJ Prince Ice                                     {'Artist': 15, 'Album': 7}\n",
      "Searching For Linda M. Smith                                    {'Artist': 2, 'Album': 4}\n",
      "Searching For David Ajj                                         {'Artist': 1, 'Album': 3}\n",
      "Searching For Crown of Thorns Ministries                        {'Artist': 2, 'Album': 4}\n",
      "Searching For Banje Fail                                        {'Artist': 1, 'Album': 6}\n",
      "Searching For Emma Marie                                        {'Artist': 17, 'Album': 14}\n",
      "Searching For Annie & The Beekeepers                            {'Artist': 2, 'Album': 3}\n",
      "Searching For Dre Rich Kidd                                     {'Artist': 9, 'Album': 8}\n",
      "Searching For Big Ty-Stick                                      {'Artist': 7, 'Album': 8}\n",
      "Searching For Clara Mann                                        {'Artist': 7, 'Album': 8}\n",
      "Searching For Filippo Fedetto                                   {'Artist': 5, 'Album': 20}\n",
      "Searching For V.O.L.T                                           {'Artist': 34, 'Album': 14}\n",
      "Searching For Amela Amvox                                       {'Artist': 1, 'Album': 9}\n",
      "Searching For Nicolay Ramm                                      {'Artist': 1, 'Album': 7}\n",
      "Searching For Adetola                                           {'Artist': 13, 'Album': 14}\n",
      "Searching For 王ADEN                                             {'Artist': 6, 'Album': 13}\n",
      "Searching For NoGht                                             {'Artist': 34, 'Album': 19}\n",
      "Searching For The Swirlers                                      {'Artist': 1, 'Album': 10}\n",
      "Searching For Digital Militia                                   {'Artist': 9, 'Album': 12}\n",
      "Searching For DJ Chucky                                         {'Artist': 20, 'Album': 16}\n",
      "Searching For Little Ambient Machine                            {'Artist': 1, 'Album': 4}\n",
      "Searching For Wearyland                                         {'Artist': 5, 'Album': 8}\n",
      "Searching For Serpent Ascending                                 {'Artist': 2, 'Album': 3}\n",
      "Searching For Eisentanz                                         {'Artist': 2, 'Album': 7}\n",
      "Searching For Out Da Ville                                      {'Artist': 25, 'Album': 17}\n",
      " [Getting AppleMusic ArtistIDs] | 1275/?     : RunTime 2 Hour and 11 Minute.\n",
      "*****************************************************************************************************************************\n",
      "*                                                    Saving SearchArtist                                                    *\n",
      "*****************************************************************************************************************************\n",
      "  Saving Index [330582] ... Done\n",
      "  Saving Data [15150] ... Done\n",
      "  Saving Error [85] ... Done\n"
     ]
    },
    {
     "data": {
      "application/vnd.jupyter.widget-view+json": {
       "model_id": "3c4112c50d9c4bb585ddde72678fd227",
       "version_major": 2,
       "version_minor": 0
      },
      "text/plain": [
       "Waiting:   0%|          | 0/50 [00:00<?, ?it/s]"
      ]
     },
     "metadata": {},
     "output_type": "display_data"
    },
    {
     "name": "stdout",
     "output_type": "stream",
     "text": [
      "Searching For Johnnie Gray                                      {'Artist': 28, 'Album': 15}\n",
      "Searching For Ανδρέας Καρακότας                               {'Artist': 1, 'Album': 0}\n",
      "Searching For The Hardcore Committee                            {'Artist': 17, 'Album': 10}\n",
      "Searching For M-S-O                                             Code={response.code}\n",
      "Search Error ==> M-S-O: NotDict\n",
      "Searching For Zoran Modli                                       {'Artist': 2, 'Album': 1}\n",
      "Searching For Mind Skelp-cher                                   {'Artist': 0, 'Album': 0}\n",
      "Searching For Graziella Madrigal                                {'Artist': 7, 'Album': 2}\n",
      "Searching For Alois Kottmann                                    {'Artist': 0, 'Album': 0}\n",
      "Searching For Lutz Pruditsch                                    {'Artist': 0, 'Album': 0}\n",
      "Searching For Prisoner 639                                      {'Artist': 0, 'Album': 0}\n",
      "Searching For Rita Johns                                        {'Artist': 9, 'Album': 12}\n",
      "Searching For Phil Legard                                       {'Artist': 1, 'Album': 1}\n",
      "Searching For Yori-Aki Matsudaira                               {'Artist': 8, 'Album': 5}\n",
      "Searching For Mighloe                                           {'Artist': 4, 'Album': 12}\n",
      "Searching For LNK                                               {'Artist': 27, 'Album': 15}\n",
      "Searching For Dwin                                              {'Artist': 23, 'Album': 16}\n",
      "Searching For Digerdöden                                       {'Artist': 10, 'Album': 11}\n",
      "Searching For Écho[rchure]                                     {'Artist': 1, 'Album': 1}\n",
      "Searching For Burkhartsvinter                                   {'Artist': 0, 'Album': 0}\n",
      "Searching For Svafnirkult                                       {'Artist': 0, 'Album': 0}\n",
      "Searching For Patronymicon                                      {'Artist': 1, 'Album': 1}\n",
      "Searching For Gone Sadness                                      {'Artist': 14, 'Album': 14}\n",
      "Searching For Suburban Terrorist                                {'Artist': 5, 'Album': 5}\n",
      "Searching For Thy Legion                                        {'Artist': 7, 'Album': 6}\n",
      "Searching For Antigod                                           {'Artist': 20, 'Album': 11}\n",
      "Searching For Markus Voorn                                      {'Artist': 5, 'Album': 9}\n",
      " [Getting AppleMusic ArtistIDs] | 1300/?     : RunTime 2 Hour and 14 Minute.\n",
      "*****************************************************************************************************************************\n",
      "*                                                    Saving SearchArtist                                                    *\n",
      "*****************************************************************************************************************************\n",
      "  Saving Index [330607] ... Done\n",
      "  Saving Data [15175] ... Done\n",
      "  Saving Error [86] ... Done\n"
     ]
    },
    {
     "data": {
      "application/vnd.jupyter.widget-view+json": {
       "model_id": "9f360265538b477ab6e0ca73da0d2406",
       "version_major": 2,
       "version_minor": 0
      },
      "text/plain": [
       "Waiting:   0%|          | 0/50 [00:00<?, ?it/s]"
      ]
     },
     "metadata": {},
     "output_type": "display_data"
    },
    {
     "name": "stdout",
     "output_type": "stream",
     "text": [
      "Searching For Meera Krishna                                     {'Artist': 9, 'Album': 9}\n",
      "Searching For MALNEEZY                                          {'Artist': 2, 'Album': 8}\n",
      "Searching For G.S.G.                                            {'Artist': 34, 'Album': 17}\n",
      "Searching For Mindful Of Pripyat                                {'Artist': 2, 'Album': 2}\n",
      "Searching For Dominik Wollenweber                               {'Artist': 22, 'Album': 5}\n",
      "Searching For Simon Thorpe                                      {'Artist': 11, 'Album': 8}\n",
      "Searching For Headstock                                         {'Artist': 9, 'Album': 9}\n",
      "Searching For Lisa Cat Berro                                    {'Artist': 4, 'Album': 5}\n",
      "Searching For Acharné                                          {'Artist': 15, 'Album': 14}\n",
      "Searching For Lorrenzzetti                                      {'Artist': 16, 'Album': 14}\n",
      "Searching For Sapienza                                          {'Artist': 24, 'Album': 14}\n",
      "Searching For Col Hamilton                                      {'Artist': 20, 'Album': 16}\n",
      "Searching For Geoda                                             {'Artist': 8, 'Album': 8}\n",
      "Searching For Roberto Gatto Quartet                             {'Artist': 2, 'Album': 5}\n",
      "Searching For Szűcs Gabi                                       {'Artist': 5, 'Album': 4}\n",
      "Searching For Hellbore                                          {'Artist': 3, 'Album': 4}\n",
      "Searching For SikDuo                                            {'Artist': 6, 'Album': 13}\n",
      "Searching For Da Krypt Keepa                                    {'Artist': 5, 'Album': 10}\n",
      "Searching For Alírio Netto                                     {'Artist': 15, 'Album': 12}\n",
      "Searching For Søren Berlev                                      {'Artist': 1, 'Album': 1}\n",
      "Searching For Kid E$S                                           {'Artist': 27, 'Album': 16}\n",
      "Searching For Exulansis                                         {'Artist': 21, 'Album': 18}\n",
      "Searching For Chico Chicano                                     {'Artist': 6, 'Album': 16}\n",
      "Searching For Miguel Angel Romero Espinoza                      {'Artist': 0, 'Album': 0}\n",
      "Searching For Infected Soul                                     {'Artist': 15, 'Album': 13}\n",
      " [Getting AppleMusic ArtistIDs] | 1325/?     : RunTime 2 Hour and 16 Minute.\n",
      "*****************************************************************************************************************************\n",
      "*                                                    Saving SearchArtist                                                    *\n",
      "*****************************************************************************************************************************\n",
      "  Saving Index [330632] ... Done\n",
      "  Saving Data [15200] ... Done\n",
      "  Saving Error [86] ... Done\n"
     ]
    },
    {
     "data": {
      "application/vnd.jupyter.widget-view+json": {
       "model_id": "0fc6f78da5544f14b9e680fce0e6375a",
       "version_major": 2,
       "version_minor": 0
      },
      "text/plain": [
       "Waiting:   0%|          | 0/50 [00:00<?, ?it/s]"
      ]
     },
     "metadata": {},
     "output_type": "display_data"
    },
    {
     "name": "stdout",
     "output_type": "stream",
     "text": [
      "Searching For 6000000000себя                                    {'Artist': 1, 'Album': 1}\n",
      "Searching For Rezystencja                                       {'Artist': 2, 'Album': 4}\n",
      "Searching For Simone Molinaro                                   {'Artist': 9, 'Album': 8}\n",
      "Searching For Mas                                               {'Artist': 36, 'Album': 15}\n",
      "Searching For DJ Jas                                            {'Artist': 15, 'Album': 14}\n",
      "Searching For Nini Rosso ed il suo Complesso                    {'Artist': 2, 'Album': 1}\n",
      "Searching For The Carrier Wave                                  {'Artist': 7, 'Album': 8}\n",
      "Searching For T'NT                                              {'Artist': 28, 'Album': 15}\n",
      "Searching For Esazlesa                                          {'Artist': 1, 'Album': 1}\n",
      "Searching For Doruk Onatkut Orkestrası                          {'Artist': 1, 'Album': 1}\n",
      "Searching For Blaha                                             {'Artist': 19, 'Album': 12}\n",
      "Searching For Kombo The X Writer                                {'Artist': 5, 'Album': 8}\n",
      "Searching For One Over                                          {'Artist': 31, 'Album': 16}\n",
      "Searching For Ray of Light                                      {'Artist': 21, 'Album': 16}\n",
      "Searching For Goa Psy Trance Masters                            {'Artist': 18, 'Album': 16}\n",
      "Searching For Asako Tamura                                      {'Artist': 5, 'Album': 3}\n",
      "Searching For Sherry Drive                                      {'Artist': 1, 'Album': 9}\n",
      "Searching For Narcsus Prye                                      {'Artist': 1, 'Album': 8}\n",
      "Searching For Prosthetic Orchestra                              {'Artist': 2, 'Album': 4}\n",
      "Searching For Masquerade of Shadows                             {'Artist': 8, 'Album': 9}\n",
      "Searching For Extreme Brutal Terror                             {'Artist': 12, 'Album': 18}\n",
      "Searching For Ambient Death                                     {'Artist': 19, 'Album': 7}\n",
      "Searching For Kevin M. Buck                                     {'Artist': 1, 'Album': 7}\n",
      "Searching For The Beans                                         {'Artist': 28, 'Album': 16}\n",
      "Searching For Polyhedron                                        {'Artist': 18, 'Album': 17}\n",
      " [Getting AppleMusic ArtistIDs] | 1350/?     : RunTime 2 Hour and 19 Minute.\n",
      "*****************************************************************************************************************************\n",
      "*                                                    Saving SearchArtist                                                    *\n",
      "*****************************************************************************************************************************\n",
      "  Saving Index [330657] ... Done\n",
      "  Saving Data [15225] ... Done\n",
      "  Saving Error [86] ... Done\n"
     ]
    },
    {
     "data": {
      "application/vnd.jupyter.widget-view+json": {
       "model_id": "47b4a2874be74cf7be1928a3b7328882",
       "version_major": 2,
       "version_minor": 0
      },
      "text/plain": [
       "Waiting:   0%|          | 0/50 [00:00<?, ?it/s]"
      ]
     },
     "metadata": {},
     "output_type": "display_data"
    },
    {
     "name": "stdout",
     "output_type": "stream",
     "text": [
      "Searching For Chhina                                            {'Artist': 19, 'Album': 13}\n",
      "Searching For DJ A.M.G                                          {'Artist': 23, 'Album': 13}\n",
      "Searching For MC Lucy                                           {'Artist': 22, 'Album': 13}\n",
      "Searching For Stf Chef                                          {'Artist': 6, 'Album': 12}\n",
      "Searching For Black & White                                     {'Artist': 30, 'Album': 15}\n",
      "Searching For Didar Khan                                        {'Artist': 2, 'Album': 10}\n",
      "Searching For Dynamic Waves                                     {'Artist': 10, 'Album': 12}\n",
      "Searching For Sensou                                            {'Artist': 17, 'Album': 14}\n",
      "Searching For Nathan Landry                                     {'Artist': 3, 'Album': 11}\n",
      "Searching For Doxia                                             {'Artist': 7, 'Album': 12}\n",
      "Searching For Gayle Brogan                                      {'Artist': 11, 'Album': 2}\n",
      "Searching For Ed Alton                                          {'Artist': 9, 'Album': 11}\n",
      "Searching For Stefan ZMK                                        {'Artist': 6, 'Album': 9}\n",
      "Searching For Amy Peters                                        {'Artist': 6, 'Album': 9}\n",
      "Searching For Der Räuber und der Prinz                         {'Artist': 8, 'Album': 11}\n",
      "Searching For Nekronomikon                                      {'Artist': 19, 'Album': 12}\n",
      "Searching For T-Cuts                                            {'Artist': 16, 'Album': 13}\n",
      "Searching For Multiplayer Charity                               {'Artist': 3, 'Album': 3}\n",
      "Searching For Kasey Jones                                       {'Artist': 23, 'Album': 19}\n",
      "Searching For Kaveh Soroush                                     {'Artist': 3, 'Album': 2}\n",
      "Searching For the bootleg boy                                   {'Artist': 21, 'Album': 17}\n",
      "Searching For Hypeventure                                       {'Artist': 1, 'Album': 0}\n",
      "Searching For Tommy Boss Brown                                  {'Artist': 15, 'Album': 11}\n",
      "Searching For Đình Dũng                                       {'Artist': 11, 'Album': 14}\n",
      "Searching For Daniels Gone                                      {'Artist': 20, 'Album': 10}\n",
      " [Getting AppleMusic ArtistIDs] | 1375/?     : RunTime 2 Hour and 22 Minute.\n",
      "*****************************************************************************************************************************\n",
      "*                                                    Saving SearchArtist                                                    *\n",
      "*****************************************************************************************************************************\n",
      "  Saving Index [330682] ... Done\n",
      "  Saving Data [15250] ... Done\n",
      "  Saving Error [86] ... Done\n"
     ]
    },
    {
     "data": {
      "application/vnd.jupyter.widget-view+json": {
       "model_id": "62c047fb8e3d4ee08eac2cff5a865a79",
       "version_major": 2,
       "version_minor": 0
      },
      "text/plain": [
       "Waiting:   0%|          | 0/50 [00:00<?, ?it/s]"
      ]
     },
     "metadata": {},
     "output_type": "display_data"
    },
    {
     "name": "stdout",
     "output_type": "stream",
     "text": [
      "Searching For Claire Kelly                                      {'Artist': 5, 'Album': 9}\n",
      "Searching For Bxrrihoz Mortuus Est                              {'Artist': 8, 'Album': 14}\n",
      "Searching For Gianni B (G&D Future)                             {'Artist': 4, 'Album': 9}\n",
      "Searching For Anthony Kelly                                     {'Artist': 10, 'Album': 7}\n",
      "Searching For NitMa                                             {'Artist': 16, 'Album': 15}\n",
      "Searching For Socks and Sandals                                 {'Artist': 18, 'Album': 14}\n",
      "Searching For Ranil Mallawarachchi                              {'Artist': 5, 'Album': 8}\n",
      "Searching For Fay Ray                                           {'Artist': 7, 'Album': 7}\n",
      "Searching For Effe Elle                                         {'Artist': 3, 'Album': 8}\n",
      "Searching For Nicho                                             {'Artist': 13, 'Album': 7}\n",
      "Searching For Zook Enigma                                       {'Artist': 8, 'Album': 13}\n",
      "Searching For Vittoria and the Hyde Park                        {'Artist': 1, 'Album': 8}\n",
      "Searching For M.M. Srilekha                                     {'Artist': 35, 'Album': 18}\n",
      "Searching For Bossmann                                          {'Artist': 20, 'Album': 15}\n",
      "Searching For Rishiraj Pandey                                   {'Artist': 12, 'Album': 15}\n",
      "Searching For NEXXT777                                          {'Artist': 10, 'Album': 14}\n",
      "Searching For The Velvet Stripes                                {'Artist': 2, 'Album': 11}\n",
      "Searching For Ikurru                                            {'Artist': 5, 'Album': 9}\n",
      "Searching For Anatopia                                          {'Artist': 15, 'Album': 7}\n",
      "Searching For Anders Johan Greger Lewen                         {'Artist': 8, 'Album': 9}\n",
      "Searching For Kujo The Savage                                   {'Artist': 7, 'Album': 14}\n",
      "Searching For Insain                                            {'Artist': 22, 'Album': 16}\n",
      "Searching For Logickal                                          {'Artist': 1, 'Album': 9}\n",
      "Searching For Pump Estate                                       {'Artist': 13, 'Album': 15}\n",
      "Searching For El Sam & Dave Droid                               {'Artist': 8, 'Album': 10}\n",
      " [Getting AppleMusic ArtistIDs] | 1400/?     : RunTime 2 Hour and 24 Minute.\n",
      "*****************************************************************************************************************************\n",
      "*                                                    Saving SearchArtist                                                    *\n",
      "*****************************************************************************************************************************\n",
      "  Saving Index [330707] ... Done\n",
      "  Saving Data [15275] ... Done\n",
      "  Saving Error [86] ... Done\n"
     ]
    },
    {
     "data": {
      "application/vnd.jupyter.widget-view+json": {
       "model_id": "07b6c5bf01514c649078997e53d4d6e5",
       "version_major": 2,
       "version_minor": 0
      },
      "text/plain": [
       "Waiting:   0%|          | 0/50 [00:00<?, ?it/s]"
      ]
     },
     "metadata": {},
     "output_type": "display_data"
    },
    {
     "name": "stdout",
     "output_type": "stream",
     "text": [
      "Searching For Baffopizza                                        {'Artist': 1, 'Album': 6}\n",
      "Searching For Psychic Rites                                     {'Artist': 1, 'Album': 4}\n",
      "Searching For Chuy Chavez                                       {'Artist': 9, 'Album': 8}\n",
      "Searching For Beetlebat                                         {'Artist': 7, 'Album': 15}\n",
      "Searching For Amaterasu                                         {'Artist': 22, 'Album': 14}\n",
      "Searching For JAH6                                              {'Artist': 24, 'Album': 19}\n",
      "Searching For Placement                                         {'Artist': 25, 'Album': 17}\n",
      "Searching For T-Street                                          {'Artist': 26, 'Album': 17}\n",
      "Searching For Frank Burkitt                                     {'Artist': 1, 'Album': 6}\n",
      "Searching For Scutum Man                                        {'Artist': 2, 'Album': 14}\n",
      "Searching For Adam Coogan                                       {'Artist': 1, 'Album': 6}\n",
      "Searching For Genuim                                            {'Artist': 15, 'Album': 9}\n",
      "Searching For Laureli                                           {'Artist': 13, 'Album': 16}\n",
      "Searching For Britt-Inger Dreilick                              {'Artist': 2, 'Album': 1}\n",
      "Searching For FOREVAYANG                                        {'Artist': 7, 'Album': 7}\n",
      "Searching For Disha Roy                                         {'Artist': 11, 'Album': 11}\n",
      "Searching For Raul Diaz                                         {'Artist': 26, 'Album': 13}\n",
      "Searching For Isaac, The Beloved                                {'Artist': 2, 'Album': 7}\n",
      "Searching For Atiya                                             {'Artist': 22, 'Album': 14}\n",
      "Searching For Big Thing                                         {'Artist': 22, 'Album': 12}\n",
      "Searching For Fastlife Juke                                     {'Artist': 5, 'Album': 9}\n",
      "Searching For Svend Nielsen                                     {'Artist': 34, 'Album': 7}\n",
      "Searching For Staya Staya                                       {'Artist': 11, 'Album': 8}\n",
      "Searching For DRH                                               {'Artist': 22, 'Album': 13}\n",
      "Searching For Catarina H                                        {'Artist': 7, 'Album': 15}\n",
      " [Getting AppleMusic ArtistIDs] | 1425/?     : RunTime 2 Hour and 27 Minute.\n",
      "*****************************************************************************************************************************\n",
      "*                                                    Saving SearchArtist                                                    *\n",
      "*****************************************************************************************************************************\n",
      "  Saving Index [330732] ... Done\n",
      "  Saving Data [15300] ... Done\n",
      "  Saving Error [86] ... Done\n"
     ]
    },
    {
     "data": {
      "application/vnd.jupyter.widget-view+json": {
       "model_id": "6a9f053eabeb474581a47423a58cab45",
       "version_major": 2,
       "version_minor": 0
      },
      "text/plain": [
       "Waiting:   0%|          | 0/50 [00:00<?, ?it/s]"
      ]
     },
     "metadata": {},
     "output_type": "display_data"
    },
    {
     "name": "stdout",
     "output_type": "stream",
     "text": [
      "Searching For Glaskaca                                          {'Artist': 2, 'Album': 9}\n",
      "Searching For The Original Juniors                              {'Artist': 27, 'Album': 16}\n",
      "Searching For Mistery                                           {'Artist': 38, 'Album': 18}\n",
      "Searching For Buenri                                            {'Artist': 12, 'Album': 12}\n",
      "Searching For Amazing                                           {'Artist': 26, 'Album': 14}\n",
      "Searching For Morticia Walker                                   {'Artist': 3, 'Album': 14}\n",
      "Searching For Brazilian Gentleman                               {'Artist': 5, 'Album': 7}\n",
      "Searching For Arturo Chacón-Cruz                               {'Artist': 21, 'Album': 3}\n",
      "Searching For Vincent Alexander                                 {'Artist': 24, 'Album': 11}\n",
      "Searching For Kristal Cherelle                                  {'Artist': 4, 'Album': 11}\n",
      "Searching For Jan Theelen                                       {'Artist': 4, 'Album': 1}\n",
      "Searching For The Strange Content                               {'Artist': 2, 'Album': 8}\n",
      "Searching For Ninho                                             {'Artist': 24, 'Album': 12}\n",
      "Searching For Rei Summers                                       {'Artist': 9, 'Album': 9}\n",
      "Searching For Melton Mustafa Orchestra                          {'Artist': 2, 'Album': 2}\n",
      "Searching For Aaron McGonzo                                     {'Artist': 2, 'Album': 1}\n",
      "Searching For Michael Kane & The Morning Afters                 {'Artist': 2, 'Album': 7}\n",
      "Searching For Hara Alonso                                       {'Artist': 4, 'Album': 6}\n",
      "Searching For Tiêu Châu Như Quỳnh                           {'Artist': 18, 'Album': 14}\n",
      "Searching For The New Starts Now                                {'Artist': 1, 'Album': 10}\n",
      "Searching For Beny                                              {'Artist': 28, 'Album': 20}\n",
      "Searching For Jeppe Zeeberg                                     {'Artist': 4, 'Album': 9}\n",
      "Searching For Sapna Choudhary                                   {'Artist': 32, 'Album': 15}\n",
      "Searching For Duo de Munk                                       {'Artist': 16, 'Album': 5}\n",
      "Searching For Josh Rumble                                       {'Artist': 6, 'Album': 12}\n",
      " [Getting AppleMusic ArtistIDs] | 1450/?     : RunTime 2 Hour and 29 Minute.\n",
      "*****************************************************************************************************************************\n",
      "*                                                    Saving SearchArtist                                                    *\n",
      "*****************************************************************************************************************************\n",
      "  Saving Index [330757] ... Done\n",
      "  Saving Data [15325] ... Done\n",
      "  Saving Error [86] ... Done\n"
     ]
    },
    {
     "data": {
      "application/vnd.jupyter.widget-view+json": {
       "model_id": "adb170bd27be4fc69de1e5dde654bd32",
       "version_major": 2,
       "version_minor": 0
      },
      "text/plain": [
       "Waiting:   0%|          | 0/50 [00:00<?, ?it/s]"
      ]
     },
     "metadata": {},
     "output_type": "display_data"
    },
    {
     "name": "stdout",
     "output_type": "stream",
     "text": [
      "Searching For Natanael Berg                                     {'Artist': 26, 'Album': 5}\n",
      "Searching For Martina Dennis                                    {'Artist': 16, 'Album': 10}\n",
      "Searching For Shivering Spines                                  {'Artist': 4, 'Album': 7}\n",
      "Searching For DiscoMafia                                        {'Artist': 8, 'Album': 13}\n",
      "Searching For Los Pikantes                                      {'Artist': 17, 'Album': 14}\n",
      "Searching For Kuzey Köker                                      {'Artist': 2, 'Album': 12}\n",
      "Searching For Raquel Lúa                                       {'Artist': 4, 'Album': 8}\n",
      "Searching For Lasoulmates                                       {'Artist': 9, 'Album': 13}\n",
      "Searching For Alfred Czital                                     {'Artist': 7, 'Album': 6}\n",
      "Searching For A Big Yes and a small no                          {'Artist': 3, 'Album': 7}\n",
      "Searching For Jose Mardones                                     {'Artist': 22, 'Album': 5}\n",
      "Searching For Original Jaklinger Buam                           {'Artist': 2, 'Album': 7}\n",
      "Searching For Big $hot                                          {'Artist': 18, 'Album': 13}\n",
      "Searching For Lucifer Scale                                     {'Artist': 3, 'Album': 4}\n",
      "Searching For Susan Sontag                                      {'Artist': 17, 'Album': 8}\n",
      "Searching For Max Farewell                                      {'Artist': 7, 'Album': 11}\n",
      "Searching For LoMalo                                            {'Artist': 18, 'Album': 14}\n",
      "Searching For Frank Head                                        {'Artist': 7, 'Album': 12}\n",
      "Searching For Bo Jaywalker                                      {'Artist': 1, 'Album': 7}\n",
      "Searching For Sam Akpro                                         {'Artist': 4, 'Album': 6}\n",
      "Searching For Chris Lucey                                       {'Artist': 0, 'Album': 0}\n",
      "Searching For Christoph Lauter                                  {'Artist': 1, 'Album': 3}\n",
      "Searching For Margaret McDuffie                                 {'Artist': 1, 'Album': 5}\n",
      "Searching For Rubella Graves                                    {'Artist': 1, 'Album': 3}\n",
      "Searching For Dilly Dallies                                     {'Artist': 11, 'Album': 7}\n",
      " [Getting AppleMusic ArtistIDs] | 1475/?     : RunTime 2 Hour and 32 Minute.\n",
      "*****************************************************************************************************************************\n",
      "*                                                    Saving SearchArtist                                                    *\n",
      "*****************************************************************************************************************************\n",
      "  Saving Index [330782] ... Done\n",
      "  Saving Data [15350] ... Done\n",
      "  Saving Error [86] ... Done\n"
     ]
    },
    {
     "data": {
      "application/vnd.jupyter.widget-view+json": {
       "model_id": "0b07d817b0bd41669cc068f4d315e34c",
       "version_major": 2,
       "version_minor": 0
      },
      "text/plain": [
       "Waiting:   0%|          | 0/50 [00:00<?, ?it/s]"
      ]
     },
     "metadata": {},
     "output_type": "display_data"
    },
    {
     "name": "stdout",
     "output_type": "stream",
     "text": [
      "Searching For Cantor David Berger                               {'Artist': 6, 'Album': 4}\n",
      "Searching For Matt Riley                                        {'Artist': 6, 'Album': 11}\n",
      "Searching For XNilo                                             {'Artist': 10, 'Album': 12}\n",
      "Searching For Sorin Melinte                                     {'Artist': 2, 'Album': 4}\n",
      "Searching For Shvona Lavette                                    {'Artist': 1, 'Album': 8}\n",
      "Searching For Torsten Michaelis                                 {'Artist': 3, 'Album': 2}\n",
      "Searching For Milt Jackson Orchestra                            {'Artist': 21, 'Album': 3}\n",
      "Searching For Jeff Dugan                                        {'Artist': 3, 'Album': 6}\n",
      "Searching For Ayoni                                             {'Artist': 12, 'Album': 13}\n",
      "Searching For Arstarulsmirus                                    {'Artist': 7, 'Album': 12}\n",
      "Searching For Lady London                                       {'Artist': 15, 'Album': 13}\n",
      "Searching For Richard Easel                                     {'Artist': 14, 'Album': 7}\n",
      "Searching For Badder Than Evil                                  {'Artist': 11, 'Album': 6}\n",
      "Searching For Alxr                                              {'Artist': 22, 'Album': 13}\n",
      "Searching For Rub Amaya                                         {'Artist': 24, 'Album': 15}\n",
      "Searching For Zjawin                                            {'Artist': 6, 'Album': 2}\n",
      "Searching For Jonatan Seara                                     {'Artist': 1, 'Album': 6}\n",
      "Searching For Howie Reeve                                       {'Artist': 2, 'Album': 2}\n",
      "Searching For Totälickers                                      {'Artist': 0, 'Album': 0}\n",
      "Searching For Jean Monnet                                       {'Artist': 8, 'Album': 3}\n",
      "Searching For Buddy Moreno & His Orchestra                      {'Artist': 1, 'Album': 1}\n",
      "Searching For Raoul Roy                                         {'Artist': 5, 'Album': 2}\n",
      "Searching For DJ Fresh                                          {'Artist': 18, 'Album': 8}\n",
      "Searching For Rogier Smal                                       {'Artist': 4, 'Album': 1}\n",
      "Searching For Otitis                                            {'Artist': 13, 'Album': 13}\n",
      " [Getting AppleMusic ArtistIDs] | 1500/?     : RunTime 2 Hour and 35 Minute.\n",
      "*****************************************************************************************************************************\n",
      "*                                                    Saving SearchArtist                                                    *\n",
      "*****************************************************************************************************************************\n",
      "  Saving Index [330807] ... Done\n",
      "  Saving Data [15375] ... Done\n",
      "  Saving Error [86] ... Done\n"
     ]
    },
    {
     "data": {
      "application/vnd.jupyter.widget-view+json": {
       "model_id": "de43308a9843425b8e5a78976c0318ad",
       "version_major": 2,
       "version_minor": 0
      },
      "text/plain": [
       "Waiting:   0%|          | 0/50 [00:00<?, ?it/s]"
      ]
     },
     "metadata": {},
     "output_type": "display_data"
    },
    {
     "name": "stdout",
     "output_type": "stream",
     "text": [
      "Searching For Michel Arbatz                                     {'Artist': 1, 'Album': 1}\n",
      "Searching For Gian Stellari e la sua Orchestra                  {'Artist': 1, 'Album': 1}\n",
      "Searching For Lalao                                             {'Artist': 14, 'Album': 13}\n",
      "Searching For Hiroyuki Chiba                                    {'Artist': 1, 'Album': 3}\n",
      "Searching For DJ Danny                                          {'Artist': 20, 'Album': 13}\n",
      "Searching For THE COOLS                                         {'Artist': 24, 'Album': 16}\n",
      "Searching For Schweizer Jugend-Sinfonie-Orchester               {'Artist': 28, 'Album': 6}\n",
      "Searching For Giorgis Xilouris                                  {'Artist': 4, 'Album': 4}\n",
      "Searching For Frieda Linzi                                      {'Artist': 1, 'Album': 0}\n",
      "Searching For The Broken Toys                                   {'Artist': 16, 'Album': 11}\n",
      "Searching For Niki                                              {'Artist': 15, 'Album': 12}\n",
      "Searching For Christine Sehnaoui                                {'Artist': 4, 'Album': 4}\n",
      "Searching For Kimura Kou                                        {'Artist': 31, 'Album': 8}\n",
      "Searching For Recall                                            {'Artist': 32, 'Album': 16}\n",
      "Searching For R3z                                               {'Artist': 12, 'Album': 13}\n",
      "Searching For Randweg                                           {'Artist': 3, 'Album': 6}\n",
      "Searching For Sheila Southern                                   {'Artist': 6, 'Album': 8}\n",
      "Searching For Hobo Tone                                         {'Artist': 5, 'Album': 6}\n",
      "Searching For CDM Latin Project                                 {'Artist': 2, 'Album': 0}\n",
      "Searching For Jaynie                                            {'Artist': 19, 'Album': 13}\n",
      "Searching For The Unborn Child                                  {'Artist': 22, 'Album': 16}\n",
      "Searching For Sanctophoby                                       {'Artist': 0, 'Album': 0}\n",
      "Searching For Michaell D                                        {'Artist': 32, 'Album': 13}\n",
      "Searching For Conner Cherland                                   {'Artist': 1, 'Album': 7}\n",
      "Searching For Garage Class                                      {'Artist': 9, 'Album': 12}\n",
      " [Getting AppleMusic ArtistIDs] | 1525/?     : RunTime 2 Hour and 37 Minute.\n",
      "*****************************************************************************************************************************\n",
      "*                                                    Saving SearchArtist                                                    *\n",
      "*****************************************************************************************************************************\n",
      "  Saving Index [330832] ... Done\n",
      "  Saving Data [15400] ... Done\n",
      "  Saving Error [86] ... Done\n"
     ]
    },
    {
     "data": {
      "application/vnd.jupyter.widget-view+json": {
       "model_id": "28bc5b2dd0d347ebad853e948fd0557f",
       "version_major": 2,
       "version_minor": 0
      },
      "text/plain": [
       "Waiting:   0%|          | 0/50 [00:00<?, ?it/s]"
      ]
     },
     "metadata": {},
     "output_type": "display_data"
    },
    {
     "name": "stdout",
     "output_type": "stream",
     "text": [
      "Searching For Piccadilly Circuits                               {'Artist': 1, 'Album': 1}\n",
      "Searching For Maji &amp; Seraj                                  {'Artist': 7, 'Album': 7}\n",
      "Searching For TEEDA                                             {'Artist': 16, 'Album': 11}\n",
      "Searching For Daddy Waku                                        {'Artist': 4, 'Album': 13}\n",
      "Searching For Yolo Aventuras                                    {'Artist': 11, 'Album': 15}\n",
      "Searching For cdp                                               {'Artist': 24, 'Album': 18}\n",
      "Searching For Kelly Doyle                                       {'Artist': 1, 'Album': 9}\n",
      "Searching For DJ DBN                                            {'Artist': 5, 'Album': 8}\n",
      "Searching For Lenny Bertoldo                                    {'Artist': 3, 'Album': 4}\n",
      "Searching For Vern Blair Debate                                 {'Artist': 1, 'Album': 3}\n",
      "Searching For Leo Elstob                                        {'Artist': 3, 'Album': 0}\n",
      "Searching For RickyAtoms                                        {'Artist': 9, 'Album': 10}\n",
      "Searching For Ossaiofficial                                     {'Artist': 2, 'Album': 11}\n",
      "Searching For AudioBoyz                                         {'Artist': 1, 'Album': 3}\n",
      "Searching For Vanya Taylor                                      {'Artist': 5, 'Album': 3}\n",
      "Searching For Saldās sejas                                     {'Artist': 4, 'Album': 11}\n",
      "Searching For GITANA                                            {'Artist': 28, 'Album': 17}\n",
      "Searching For Mark Collins                                      {'Artist': 7, 'Album': 7}\n",
      "Searching For Scrouge                                           {'Artist': 26, 'Album': 14}\n",
      "Searching For The Calhoun Twins                                 {'Artist': 2, 'Album': 4}\n",
      "Searching For Chris Dalla Riva                                  {'Artist': 1, 'Album': 12}\n",
      "Searching For Alise                                             {'Artist': 21, 'Album': 12}\n",
      "Searching For Designed Conviction                               {'Artist': 6, 'Album': 6}\n",
      "Searching For Andy Lang                                         {'Artist': 6, 'Album': 7}\n",
      "Searching For Bobby Keyes                                       {'Artist': 17, 'Album': 10}\n",
      " [Getting AppleMusic ArtistIDs] | 1550/?     : RunTime 2 Hour and 40 Minute.\n",
      "*****************************************************************************************************************************\n",
      "*                                                    Saving SearchArtist                                                    *\n",
      "*****************************************************************************************************************************\n",
      "  Saving Index [330857] ... Done\n",
      "  Saving Data [15425] ... Done\n",
      "  Saving Error [86] ... Done\n"
     ]
    },
    {
     "data": {
      "application/vnd.jupyter.widget-view+json": {
       "model_id": "425b209c9ccf4ab195d2aa8a2e6c12dc",
       "version_major": 2,
       "version_minor": 0
      },
      "text/plain": [
       "Waiting:   0%|          | 0/50 [00:00<?, ?it/s]"
      ]
     },
     "metadata": {},
     "output_type": "display_data"
    },
    {
     "name": "stdout",
     "output_type": "stream",
     "text": [
      "Searching For D.D.T. Jazz Band                                  {'Artist': 34, 'Album': 18}\n",
      "Searching For Randy Moore                                       {'Artist': 5, 'Album': 7}\n",
      "Searching For Naughty Boy Presents                              {'Artist': 11, 'Album': 9}\n",
      "Searching For Doc Luv Jones                                     {'Artist': 3, 'Album': 11}\n",
      "Searching For Aaron Steel                                       {'Artist': 8, 'Album': 13}\n",
      "Searching For BIG YASA                                          {'Artist': 16, 'Album': 13}\n",
      "Searching For Fart Man                                          {'Artist': 13, 'Album': 15}\n",
      "Searching For Tim Scott                                         {'Artist': 27, 'Album': 8}\n",
      "Searching For Chengannur Sreekumar                              {'Artist': 16, 'Album': 14}\n",
      "Searching For Young Moses                                       {'Artist': 31, 'Album': 16}\n",
      "Searching For Xana Luz                                          {'Artist': 3, 'Album': 12}\n",
      "Searching For Echoboyy                                          {'Artist': 12, 'Album': 11}\n",
      "Searching For Willy Clément                                    {'Artist': 5, 'Album': 7}\n",
      "Searching For Derrick                                           {'Artist': 27, 'Album': 15}\n",
      "Searching For Guerrilla Seca                                    {'Artist': 6, 'Album': 7}\n",
      "Searching For Zimski                                            {'Artist': 14, 'Album': 12}\n",
      "Searching For Severence                                         {'Artist': 20, 'Album': 12}\n",
      "Searching For Qwälen                                           {'Artist': 1, 'Album': 5}\n",
      "Searching For Santans                                           {'Artist': 19, 'Album': 13}\n",
      "Searching For Kum                                               {'Artist': 29, 'Album': 16}\n",
      "Searching For Col. Parker                                       {'Artist': 18, 'Album': 12}\n",
      "Searching For Nicky G                                           {'Artist': 17, 'Album': 9}\n",
      "Searching For Breakthrough Even                                 {'Artist': 3, 'Album': 12}\n",
      "Searching For Satchmo                                           {'Artist': 12, 'Album': 11}\n",
      "Searching For Parth Oza                                         {'Artist': 20, 'Album': 13}\n",
      " [Getting AppleMusic ArtistIDs] | 1575/?     : RunTime 2 Hour and 42 Minute.\n",
      "*****************************************************************************************************************************\n",
      "*                                                    Saving SearchArtist                                                    *\n",
      "*****************************************************************************************************************************\n",
      "  Saving Index [330882] ... Done\n",
      "  Saving Data [15450] ... Done\n",
      "  Saving Error [86] ... Done\n"
     ]
    },
    {
     "data": {
      "application/vnd.jupyter.widget-view+json": {
       "model_id": "d7f27c718c474b419b1711d0a43f344d",
       "version_major": 2,
       "version_minor": 0
      },
      "text/plain": [
       "Waiting:   0%|          | 0/50 [00:00<?, ?it/s]"
      ]
     },
     "metadata": {},
     "output_type": "display_data"
    },
    {
     "name": "stdout",
     "output_type": "stream",
     "text": [
      "Searching For Gera Demara                                       {'Artist': 5, 'Album': 13}\n",
      "Searching For The Neon Boys                                     {'Artist': 11, 'Album': 13}\n",
      "Searching For Mattip Music                                      {'Artist': 5, 'Album': 8}\n",
      "Searching For General M.D. Shirinda                             {'Artist': 5, 'Album': 5}\n",
      "Searching For Les Etoiles                                       {'Artist': 27, 'Album': 15}\n",
      "Searching For Mac Odell                                         {'Artist': 6, 'Album': 13}\n",
      "Searching For White Label                                       {'Artist': 29, 'Album': 16}\n",
      "Searching For Elsa Esmeralda                                    {'Artist': 12, 'Album': 13}\n",
      "Searching For T Dot                                             {'Artist': 28, 'Album': 13}\n",
      "Searching For DJ Playstation                                    {'Artist': 14, 'Album': 12}\n",
      "Searching For Stefano Lotto                                     {'Artist': 3, 'Album': 11}\n",
      "Searching For José María Aguilar                              {'Artist': 11, 'Album': 9}\n",
      "Searching For Iselder                                           {'Artist': 1, 'Album': 7}\n",
      "Searching For Mr. André Cruz                                   {'Artist': 9, 'Album': 12}\n",
      "Searching For 死DeadLucky                                        {'Artist': 4, 'Album': 8}\n",
      "Searching For Fatai William                                     {'Artist': 3, 'Album': 10}\n",
      "Searching For Pomni Imya Svoyo                                  {'Artist': 0, 'Album': 0}\n",
      "Searching For Ensemble Polysono                                 {'Artist': 8, 'Album': 7}\n",
      "Searching For BYRD DADDY COOL BREEZE                            {'Artist': 5, 'Album': 11}\n",
      "Searching For Aline Aelberts                                    {'Artist': 0, 'Album': 0}\n",
      "Searching For Robin de Raaff                                    {'Artist': 21, 'Album': 7}\n",
      "Searching For ili                                               {'Artist': 27, 'Album': 15}\n",
      "Searching For Carter Vail                                       {'Artist': 1, 'Album': 15}\n",
      "Searching For Lil Bobby                                         {'Artist': 23, 'Album': 16}\n",
      "Searching For Brödet                                           {'Artist': 6, 'Album': 8}\n",
      " [Getting AppleMusic ArtistIDs] | 1600/?     : RunTime 2 Hour and 45 Minute.\n",
      "*****************************************************************************************************************************\n",
      "*                                                    Saving SearchArtist                                                    *\n",
      "*****************************************************************************************************************************\n",
      "  Saving Index [330907] ... Done\n",
      "  Saving Data [15475] ... Done\n",
      "  Saving Error [86] ... Done\n"
     ]
    },
    {
     "data": {
      "application/vnd.jupyter.widget-view+json": {
       "model_id": "03dd77d933564868b24df9b957b475c8",
       "version_major": 2,
       "version_minor": 0
      },
      "text/plain": [
       "Waiting:   0%|          | 0/50 [00:00<?, ?it/s]"
      ]
     },
     "metadata": {},
     "output_type": "display_data"
    },
    {
     "name": "stdout",
     "output_type": "stream",
     "text": [
      "Searching For Kylan Road                                        {'Artist': 3, 'Album': 16}\n",
      "Searching For Ola Fresca                                        {'Artist': 5, 'Album': 7}\n",
      "Searching For Posthumous Regurgitation                          {'Artist': 1, 'Album': 2}\n",
      "Searching For Bhai Amarjit Singh Taan                           {'Artist': 3, 'Album': 11}\n",
      "Searching For LaLa                                              {'Artist': 25, 'Album': 16}\n",
      "Searching For Diego Alonso                                      {'Artist': 14, 'Album': 13}\n",
      "Searching For Big-O                                             {'Artist': 35, 'Album': 16}\n",
      "Searching For Phil Spitalny's Music                             {'Artist': 9, 'Album': 10}\n",
      "Searching For Slo-O                                             {'Artist': 27, 'Album': 12}\n",
      "Searching For Code 701                                          {'Artist': 2, 'Album': 8}\n",
      "Searching For Bibi Tatto                                        {'Artist': 4, 'Album': 10}\n",
      "Searching For Aura Blaze                                        {'Artist': 3, 'Album': 9}\n",
      "Searching For Kay Barton                                        {'Artist': 2, 'Album': 12}\n",
      "Searching For Tierstar Andrez                                   {'Artist': 7, 'Album': 10}\n",
      "Searching For Fernand Bonifay                                   {'Artist': 7, 'Album': 3}\n",
      "Searching For Suasi                                             {'Artist': 28, 'Album': 12}\n",
      "Searching For Norah                                             {'Artist': 13, 'Album': 9}\n",
      "Searching For Vice Girl                                         {'Artist': 3, 'Album': 7}\n",
      "Searching For Ray X Ben                                         {'Artist': 13, 'Album': 10}\n",
      "Searching For ALEXIS ASHLEY                                     {'Artist': 5, 'Album': 9}\n",
      "Searching For Chen-K                                            {'Artist': 13, 'Album': 11}\n",
      "Searching For Rei Santana                                       {'Artist': 5, 'Album': 11}\n",
      "Searching For TSH SUDACA                                        {'Artist': 10, 'Album': 10}\n",
      "Searching For Issa Rodriguez                                    {'Artist': 3, 'Album': 13}\n",
      "Searching For Johny Demoni                                      {'Artist': 13, 'Album': 11}\n",
      " [Getting AppleMusic ArtistIDs] | 1625/?     : RunTime 2 Hour and 48 Minute.\n",
      "*****************************************************************************************************************************\n",
      "*                                                    Saving SearchArtist                                                    *\n",
      "*****************************************************************************************************************************\n",
      "  Saving Index [330932] ... Done\n",
      "  Saving Data [15500] ... Done\n",
      "  Saving Error [86] ... Done\n"
     ]
    },
    {
     "data": {
      "application/vnd.jupyter.widget-view+json": {
       "model_id": "983e1e25338947638ef74cb13a23dbbd",
       "version_major": 2,
       "version_minor": 0
      },
      "text/plain": [
       "Waiting:   0%|          | 0/50 [00:00<?, ?it/s]"
      ]
     },
     "metadata": {},
     "output_type": "display_data"
    },
    {
     "name": "stdout",
     "output_type": "stream",
     "text": [
      "Searching For Aggeu Marques                                     {'Artist': 3, 'Album': 9}\n",
      "Searching For Dj Henry's Feesjuh                                {'Artist': 11, 'Album': 9}\n",
      "Searching For AngstSystem                                       {'Artist': 1, 'Album': 0}\n",
      "Searching For Andreas Schenker                                  {'Artist': 1, 'Album': 9}\n",
      "Searching For Костя Бес                                         {'Artist': 7, 'Album': 12}\n",
      "Searching For Robert Bruce Scott                                {'Artist': 11, 'Album': 2}\n",
      "Searching For Sylvia Brandse                                    {'Artist': 6, 'Album': 9}\n",
      "Searching For Exael Salcedo Garcés                             {'Artist': 2, 'Album': 10}\n",
      "Searching For Lee Canning                                       {'Artist': 3, 'Album': 10}\n",
      "Searching For Pertinence                                        {'Artist': 16, 'Album': 15}\n",
      "Searching For Sewerside                                         {'Artist': 11, 'Album': 11}\n",
      "Searching For Eduardo José Cabra Martínez                     {'Artist': 0, 'Album': 0}\n",
      "Searching For Vibration Inc.                                    {'Artist': 10, 'Album': 10}\n",
      "Searching For KIDDO KAT                                         {'Artist': 1, 'Album': 7}\n",
      "Searching For Erin Bloomer                                      {'Artist': 2, 'Album': 13}\n",
      "Searching For The Credentials                                   {'Artist': 5, 'Album': 7}\n",
      "Searching For J.B. Sebastian                                    {'Artist': 19, 'Album': 12}\n",
      "Searching For Small Western                                     {'Artist': 17, 'Album': 15}\n",
      "Searching For DJ Hermann                                        {'Artist': 8, 'Album': 10}\n",
      "Searching For Salo Loyo                                         {'Artist': 7, 'Album': 4}\n",
      "Searching For DJ E-Rick & Tactic                                {'Artist': 3, 'Album': 7}\n",
      "Searching For Tukan                                             {'Artist': 18, 'Album': 12}\n",
      "Searching For DJ Myst                                           {'Artist': 22, 'Album': 10}\n",
      "Searching For The ElegantEgo                                    {'Artist': 1, 'Album': 13}\n",
      "Searching For Octogone                                          {'Artist': 19, 'Album': 14}\n",
      " [Getting AppleMusic ArtistIDs] | 1650/?     : RunTime 2 Hour and 50 Minute.\n",
      "*****************************************************************************************************************************\n",
      "*                                                    Saving SearchArtist                                                    *\n",
      "*****************************************************************************************************************************\n",
      "  Saving Index [330957] ... Done\n",
      "  Saving Data [15525] ... Done\n",
      "  Saving Error [86] ... Done\n"
     ]
    },
    {
     "data": {
      "application/vnd.jupyter.widget-view+json": {
       "model_id": "4185b7efefc04b1c8218cb8b3d9e0e63",
       "version_major": 2,
       "version_minor": 0
      },
      "text/plain": [
       "Waiting:   0%|          | 0/50 [00:00<?, ?it/s]"
      ]
     },
     "metadata": {},
     "output_type": "display_data"
    },
    {
     "name": "stdout",
     "output_type": "stream",
     "text": [
      "Searching For Hartz Angels                                      {'Artist': 6, 'Album': 8}\n",
      "Searching For Warrior WRS                                       {'Artist': 16, 'Album': 10}\n",
      "Searching For Aendrah                                           {'Artist': 2, 'Album': 14}\n",
      "Searching For Regimen                                           {'Artist': 24, 'Album': 14}\n",
      "Searching For Ruhr Chill Factory                                {'Artist': 1, 'Album': 10}\n",
      "Searching For Camilo Kmo                                        {'Artist': 2, 'Album': 9}\n",
      "Searching For Tronik                                            {'Artist': 28, 'Album': 16}\n",
      "Searching For M.K. Project                                      {'Artist': 12, 'Album': 12}\n",
      "Searching For DUB 4 REASON                                      {'Artist': 1, 'Album': 2}\n",
      "Searching For Ska2tonics                                        {'Artist': 1, 'Album': 2}\n",
      "Searching For Mobo                                              {'Artist': 18, 'Album': 8}\n",
      "Searching For Peggy Little                                      {'Artist': 20, 'Album': 14}\n",
      "Searching For Pie Plant Pete                                    {'Artist': 0, 'Album': 0}\n",
      "Searching For Annalisa Scarrone                                 {'Artist': 7, 'Album': 13}\n",
      "Searching For Salatiel Santos                                   {'Artist': 2, 'Album': 8}\n",
      "Searching For Leek Mali                                         {'Artist': 1, 'Album': 7}\n",
      "Searching For Tim Zen                                           {'Artist': 6, 'Album': 10}\n",
      "Searching For CJ Seven                                          {'Artist': 19, 'Album': 15}\n",
      "Searching For Anticitizen                                       {'Artist': 13, 'Album': 15}\n",
      "Searching For Merk (ITA)                                        {'Artist': 5, 'Album': 11}\n",
      "Searching For Dan Madams                                        {'Artist': 12, 'Album': 12}\n",
      "Searching For Ankita Bhattacharyya                              {'Artist': 13, 'Album': 13}\n",
      "Searching For Kapchiz                                           {'Artist': 7, 'Album': 10}\n",
      "Searching For Unfolk                                            {'Artist': 4, 'Album': 4}\n",
      "Searching For DJ Beeno                                          {'Artist': 9, 'Album': 10}\n",
      " [Getting AppleMusic ArtistIDs] | 1675/?     : RunTime 2 Hour and 53 Minute.\n",
      "*****************************************************************************************************************************\n",
      "*                                                    Saving SearchArtist                                                    *\n",
      "*****************************************************************************************************************************\n",
      "  Saving Index [330982] ... Done\n",
      "  Saving Data [15550] ... Done\n",
      "  Saving Error [86] ... Done\n"
     ]
    },
    {
     "data": {
      "application/vnd.jupyter.widget-view+json": {
       "model_id": "c76d3313115647d49a2fe5f85cf52e88",
       "version_major": 2,
       "version_minor": 0
      },
      "text/plain": [
       "Waiting:   0%|          | 0/50 [00:00<?, ?it/s]"
      ]
     },
     "metadata": {},
     "output_type": "display_data"
    },
    {
     "name": "stdout",
     "output_type": "stream",
     "text": [
      "Searching For pothOles                                          {'Artist': 26, 'Album': 13}\n",
      "Searching For DJ Dave Dee                                       {'Artist': 4, 'Album': 13}\n",
      "Searching For Martin Cloud                                      {'Artist': 6, 'Album': 15}\n",
      "Searching For Erik Gustafsson                                   {'Artist': 35, 'Album': 8}\n",
      "Searching For Glen Larson                                       {'Artist': 3, 'Album': 2}\n",
      "Searching For Ullapul                                           {'Artist': 11, 'Album': 8}\n",
      "Searching For Vanessa Marquez                                   {'Artist': 5, 'Album': 5}\n",
      "Searching For nana hatori                                       {'Artist': 10, 'Album': 13}\n",
      "Searching For RSO Ljubljana                                     {'Artist': 14, 'Album': 9}\n",
      "Searching For Ted Z and The Wranglers                           {'Artist': 2, 'Album': 7}\n",
      "Searching For Thomas Pryde                                      {'Artist': 10, 'Album': 7}\n",
      "Searching For Gorebag & The Grunts                              {'Artist': 1, 'Album': 3}\n",
      "Searching For Wanted by the FBI                                 {'Artist': 5, 'Album': 12}\n",
      "Searching For The Ben Gunn Society                              {'Artist': 1, 'Album': 3}\n",
      "Searching For Condition Blue                                    {'Artist': 19, 'Album': 11}\n",
      "Searching For Joe Buck, Jr.                                     {'Artist': 8, 'Album': 4}\n",
      "Searching For Groove Apparatus                                  {'Artist': 1, 'Album': 3}\n",
      "Searching For Ryder Buck & the Breakers                         {'Artist': 1, 'Album': 4}\n",
      "Searching For Peter Wilson                                      {'Artist': 23, 'Album': 11}\n",
      "Searching For Fries                                             {'Artist': 26, 'Album': 13}\n",
      "Searching For DJ Schwa                                          {'Artist': 10, 'Album': 13}\n",
      "Searching For Mary Edwards                                      {'Artist': 20, 'Album': 9}\n",
      "Searching For Mandrake Root                                     {'Artist': 11, 'Album': 12}\n",
      "Searching For Zygmythkaupt                                      {'Artist': 0, 'Album': 0}\n",
      "Searching For Mike Berg                                         {'Artist': 14, 'Album': 8}\n",
      " [Getting AppleMusic ArtistIDs] | 1700/?     : RunTime 2 Hour and 55 Minute.\n",
      "*****************************************************************************************************************************\n",
      "*                                                    Saving SearchArtist                                                    *\n",
      "*****************************************************************************************************************************\n",
      "  Saving Index [331007] ... Done\n",
      "  Saving Data [15575] ... Done\n",
      "  Saving Error [86] ... Done\n"
     ]
    },
    {
     "data": {
      "application/vnd.jupyter.widget-view+json": {
       "model_id": "71810df1e66e4ec5b5a9464b196577ad",
       "version_major": 2,
       "version_minor": 0
      },
      "text/plain": [
       "Waiting:   0%|          | 0/50 [00:00<?, ?it/s]"
      ]
     },
     "metadata": {},
     "output_type": "display_data"
    },
    {
     "name": "stdout",
     "output_type": "stream",
     "text": [
      "Searching For Scott Albert Johnson                              {'Artist': 1, 'Album': 3}\n",
      "Searching For Fagault                                           {'Artist': 8, 'Album': 12}\n",
      "Searching For DAMMAK                                            {'Artist': 5, 'Album': 13}\n",
      "Searching For Forever Dawn                                      {'Artist': 19, 'Album': 14}\n",
      "Searching For sERg O                                            {'Artist': 15, 'Album': 10}\n",
      "Searching For Neurosplit                                        {'Artist': 3, 'Album': 12}\n",
      "Searching For SPRUCE                                            {'Artist': 29, 'Album': 16}\n",
      "Searching For Mother Brain                                      {'Artist': 15, 'Album': 13}\n",
      "Searching For BORT                                              {'Artist': 32, 'Album': 17}\n",
      "Searching For Green Hypnotic                                    {'Artist': 2, 'Album': 11}\n",
      "Searching For Philemic                                          {'Artist': 1, 'Album': 4}\n",
      "Searching For Mike Gudmann                                      {'Artist': 19, 'Album': 16}\n",
      "Searching For Døssy                                             {'Artist': 8, 'Album': 13}\n",
      "Searching For Scurrow                                           {'Artist': 7, 'Album': 13}\n",
      "Searching For Maysev                                            {'Artist': 4, 'Album': 9}\n",
      "Searching For Danitse                                           {'Artist': 3, 'Album': 8}\n",
      "Searching For Armando Vega                                      {'Artist': 10, 'Album': 7}\n",
      "Searching For Eric Jones                                        {'Artist': 18, 'Album': 7}\n",
      "Searching For Crimeanization                                    {'Artist': 1, 'Album': 5}\n",
      "Searching For Mark Tonett                                       {'Artist': 10, 'Album': 14}\n",
      "Searching For Beet & Bad Lieutenant                             {'Artist': 6, 'Album': 7}\n",
      "Searching For Hazy                                              {'Artist': 34, 'Album': 15}\n",
      "Searching For Hunted Creatures                                  {'Artist': 7, 'Album': 7}\n",
      "Searching For Jørgen Bentzon                                    {'Artist': 12, 'Album': 7}\n",
      "Searching For albie                                             {'Artist': 16, 'Album': 9}\n",
      " [Getting AppleMusic ArtistIDs] | 1725/?     : RunTime 2 Hour and 58 Minute.\n",
      "*****************************************************************************************************************************\n",
      "*                                                    Saving SearchArtist                                                    *\n",
      "*****************************************************************************************************************************\n",
      "  Saving Index [331032] ... Done\n",
      "  Saving Data [15600] ... Done\n",
      "  Saving Error [86] ... Done\n"
     ]
    },
    {
     "data": {
      "application/vnd.jupyter.widget-view+json": {
       "model_id": "5d8a3a4b77fe4140896d8f4158839603",
       "version_major": 2,
       "version_minor": 0
      },
      "text/plain": [
       "Waiting:   0%|          | 0/50 [00:00<?, ?it/s]"
      ]
     },
     "metadata": {},
     "output_type": "display_data"
    },
    {
     "name": "stdout",
     "output_type": "stream",
     "text": [
      "Searching For Jaya Kishori                                      {'Artist': 7, 'Album': 12}\n",
      "Searching For Paul Page & His Paradise Music                    {'Artist': 13, 'Album': 14}\n",
      "Searching For WADE08                                            {'Artist': 17, 'Album': 14}\n",
      "Searching For Spectateur                                        {'Artist': 8, 'Album': 12}\n",
      "Searching For Thug Lucciano                                     {'Artist': 4, 'Album': 10}\n",
      "Searching For Weapons of Mass Creation                          {'Artist': 4, 'Album': 10}\n",
      "Searching For DJ \"D.O.C.\"                                       {'Artist': 25, 'Album': 15}\n",
      "Searching For The Hoodfellaz                                    {'Artist': 26, 'Album': 13}\n",
      "Searching For Protonic                                          {'Artist': 14, 'Album': 16}\n",
      "Searching For Zendik                                            {'Artist': 4, 'Album': 7}\n",
      "Searching For Rraouhhh!                                         {'Artist': 1, 'Album': 4}\n",
      "Searching For Costiera                                          {'Artist': 4, 'Album': 13}\n",
      "Searching For Havens & Hart                                     {'Artist': 8, 'Album': 13}\n",
      "Searching For KEDGE                                             {'Artist': 21, 'Album': 10}\n",
      "Searching For Joe Gray                                          {'Artist': 18, 'Album': 12}\n",
      "Searching For Felon                                             {'Artist': 40, 'Album': 18}\n",
      "Searching For Lady Bex                                          {'Artist': 5, 'Album': 11}\n",
      "Searching For Tizzle Stillfaded                                 {'Artist': 4, 'Album': 4}\n",
      "Searching For Nevi                                              {'Artist': 16, 'Album': 15}\n",
      "Searching For Alex Browne                                       {'Artist': 38, 'Album': 8}\n",
      "Searching For Tremorr                                           {'Artist': 3, 'Album': 14}\n",
      "Searching For Chip Dolan                                        {'Artist': 4, 'Album': 3}\n",
      "Searching For Broken Mind                                       {'Artist': 23, 'Album': 16}\n",
      "Searching For Hangácsi Márton                                 {'Artist': 14, 'Album': 11}\n",
      "Searching For Sinclair                                          {'Artist': 24, 'Album': 13}\n",
      " [Getting AppleMusic ArtistIDs] | 1750/?     : RunTime 3 Hour and 60 Second.\n",
      "*****************************************************************************************************************************\n",
      "*                                                    Saving SearchArtist                                                    *\n",
      "*****************************************************************************************************************************\n",
      "  Saving Index [331057] ... Done\n",
      "  Saving Data [15625] ... Done\n",
      "  Saving Error [86] ... Done\n"
     ]
    },
    {
     "data": {
      "application/vnd.jupyter.widget-view+json": {
       "model_id": "2ac9b12f4dd040a4aa80f6d269316d56",
       "version_major": 2,
       "version_minor": 0
      },
      "text/plain": [
       "Waiting:   0%|          | 0/50 [00:00<?, ?it/s]"
      ]
     },
     "metadata": {},
     "output_type": "display_data"
    },
    {
     "name": "stdout",
     "output_type": "stream",
     "text": [
      "Searching For The Breakbeat Junkie                              {'Artist': 13, 'Album': 16}\n",
      "Searching For Melissa Pixel                                     {'Artist': 10, 'Album': 11}\n",
      "Searching For Gabri3l                                           {'Artist': 17, 'Album': 15}\n",
      "Searching For Dot-Comma                                         {'Artist': 22, 'Album': 12}\n",
      "Searching For $nuff                                             {'Artist': 23, 'Album': 15}\n",
      "Searching For Milk the Fish                                     {'Artist': 4, 'Album': 7}\n",
      "Searching For Ralph &amp; Larry Houl                            {'Artist': 15, 'Album': 13}\n",
      "Searching For Meltberry                                         {'Artist': 4, 'Album': 8}\n",
      "Searching For Black Lime                                        {'Artist': 6, 'Album': 10}\n",
      "Searching For DJ N.I.T.                                         {'Artist': 26, 'Album': 16}\n",
      "Searching For Timebandit                                        {'Artist': 21, 'Album': 15}\n",
      "Searching For Clayton                                           {'Artist': 38, 'Album': 16}\n",
      "Searching For Hissanol                                          {'Artist': 1, 'Album': 2}\n",
      "Searching For Tangerines                                        {'Artist': 25, 'Album': 15}\n",
      "Searching For Mental Bombin                                     {'Artist': 17, 'Album': 12}\n",
      "Searching For Little Johnny Hamilton                            {'Artist': 9, 'Album': 10}\n",
      "Searching For Daphné                                           {'Artist': 33, 'Album': 15}\n",
      "Searching For Michael Landon                                    {'Artist': 9, 'Album': 10}\n",
      "Searching For Pravin Godkhindi                                  {'Artist': 13, 'Album': 9}\n",
      "Searching For John Keating                                      {'Artist': 10, 'Album': 10}\n",
      "Searching For Cara Stacey                                       {'Artist': 4, 'Album': 5}\n",
      "Searching For Lovey                                             {'Artist': 28, 'Album': 17}\n",
      "Searching For The Nasty Boyz                                    {'Artist': 22, 'Album': 14}\n",
      "Searching For Eazim                                             {'Artist': 3, 'Album': 13}\n",
      "Searching For GoldB                                             {'Artist': 17, 'Album': 15}\n",
      " [Getting AppleMusic ArtistIDs] | 1775/?     : RunTime 3 Hour and 3 Minute.\n",
      "*****************************************************************************************************************************\n",
      "*                                                    Saving SearchArtist                                                    *\n",
      "*****************************************************************************************************************************\n",
      "  Saving Index [331082] ... Done\n",
      "  Saving Data [15650] ... Done\n",
      "  Saving Error [86] ... Done\n"
     ]
    },
    {
     "data": {
      "application/vnd.jupyter.widget-view+json": {
       "model_id": "0d05a26e14b74a9aa3a4d0339cafb71c",
       "version_major": 2,
       "version_minor": 0
      },
      "text/plain": [
       "Waiting:   0%|          | 0/50 [00:00<?, ?it/s]"
      ]
     },
     "metadata": {},
     "output_type": "display_data"
    },
    {
     "name": "stdout",
     "output_type": "stream",
     "text": [
      "Searching For Dyna Mink                                         {'Artist': 2, 'Album': 9}\n",
      "Searching For Steven Cheung                                     {'Artist': 35, 'Album': 13}\n",
      "Searching For Goldie Foxx                                       {'Artist': 6, 'Album': 13}\n",
      "Searching For Robert Brooks                                     {'Artist': 24, 'Album': 8}\n",
      "Searching For Schott Free                                       {'Artist': 6, 'Album': 5}\n",
      "Searching For Lynnea M                                          {'Artist': 4, 'Album': 15}\n",
      "Searching For Darek Vostřel                                    {'Artist': 7, 'Album': 9}\n",
      "Searching For New Apostles                                      {'Artist': 5, 'Album': 7}\n",
      "Searching For The Virgineers                                    {'Artist': 0, 'Album': 0}\n",
      "Searching For Cranko Pop                                        {'Artist': 1, 'Album': 0}\n",
      "Searching For Musta Risti                                       {'Artist': 2, 'Album': 6}\n",
      "Searching For JUPITER$ TYRADE                                   {'Artist': 8, 'Album': 12}\n",
      "Searching For Shanti Force                                      {'Artist': 12, 'Album': 13}\n",
      "Searching For Brenda Harris                                     {'Artist': 25, 'Album': 5}\n",
      "Searching For Layzie                                            {'Artist': 21, 'Album': 14}\n",
      "Searching For Gallop                                            {'Artist': 28, 'Album': 15}\n",
      "Searching For Operación Triunfo 2008                           {'Artist': 2, 'Album': 0}\n",
      "Searching For Lnf Jc                                            {'Artist': 4, 'Album': 5}\n",
      "Searching For Greyhead                                          {'Artist': 9, 'Album': 14}\n",
      "Searching For Ignis                                             {'Artist': 27, 'Album': 16}\n",
      "Searching For Los Days                                          {'Artist': 13, 'Album': 7}\n",
      "Searching For DJ Roland                                         {'Artist': 29, 'Album': 17}\n",
      "Searching For ND Kobi'                                          {'Artist': 14, 'Album': 15}\n",
      "Searching For Starmanna                                         {'Artist': 22, 'Album': 13}\n",
      "Searching For Juliette Bertin                                   {'Artist': 3, 'Album': 11}\n",
      " [Getting AppleMusic ArtistIDs] | 1800/?     : RunTime 3 Hour and 6 Minute.\n",
      "*****************************************************************************************************************************\n",
      "*                                                    Saving SearchArtist                                                    *\n",
      "*****************************************************************************************************************************\n",
      "  Saving Index [331107] ... Done\n",
      "  Saving Data [15675] ... Done\n",
      "  Saving Error [86] ... Done\n"
     ]
    },
    {
     "data": {
      "application/vnd.jupyter.widget-view+json": {
       "model_id": "d7d2984d2670454b94ded701454c0236",
       "version_major": 2,
       "version_minor": 0
      },
      "text/plain": [
       "Waiting:   0%|          | 0/50 [00:00<?, ?it/s]"
      ]
     },
     "metadata": {},
     "output_type": "display_data"
    },
    {
     "name": "stdout",
     "output_type": "stream",
     "text": [
      "Searching For Etchar                                            {'Artist': 4, 'Album': 9}\n",
      "Searching For Daniel Yafe                                       {'Artist': 3, 'Album': 14}\n",
      "Searching For Ann Mulqueen                                      {'Artist': 1, 'Album': 2}\n",
      "Searching For A.D.K.O.B                                         {'Artist': 24, 'Album': 10}\n",
      "Searching For Ferdous Wahid                                     {'Artist': 5, 'Album': 8}\n",
      "Searching For Ami Joshi                                         {'Artist': 6, 'Album': 14}\n",
      "Searching For Malcolm Nuna                                      {'Artist': 8, 'Album': 12}\n",
      "Searching For Twax                                              {'Artist': 5, 'Album': 14}\n",
      "Searching For Raw Roets                                         {'Artist': 8, 'Album': 12}\n",
      "Searching For Fancy Floss                                       {'Artist': 10, 'Album': 14}\n",
      "Searching For Vengeance Sorcery                                 {'Artist': 4, 'Album': 4}\n",
      "Searching For Julian Greis                                      {'Artist': 3, 'Album': 1}\n",
      "Searching For Thee Mightees                                     {'Artist': 1, 'Album': 4}\n",
      "Searching For Flaying                                           {'Artist': 23, 'Album': 15}\n",
      "Searching For Lily Seabird                                      {'Artist': 2, 'Album': 8}\n",
      "Searching For Daniel Hedin                                      {'Artist': 4, 'Album': 1}\n",
      "Searching For Adam Ohana                                        {'Artist': 5, 'Album': 2}\n",
      "Searching For Barry Stuart                                      {'Artist': 24, 'Album': 9}\n",
      "Searching For Bernd Berwanger                                   {'Artist': 2, 'Album': 1}\n",
      "Searching For Ray Stiles                                        {'Artist': 1, 'Album': 0}\n",
      "Searching For Rick Lopez                                        {'Artist': 14, 'Album': 8}\n",
      "Searching For Bob Wackerman                                     {'Artist': 2, 'Album': 1}\n",
      "Searching For Jon Drukman                                       {'Artist': 3, 'Album': 2}\n",
      "Searching For Ber Quinn                                         {'Artist': 1, 'Album': 2}\n",
      "Searching For James A. Ball                                     {'Artist': 18, 'Album': 15}\n",
      " [Getting AppleMusic ArtistIDs] | 1825/?     : RunTime 3 Hour and 8 Minute.\n",
      "*****************************************************************************************************************************\n",
      "*                                                    Saving SearchArtist                                                    *\n",
      "*****************************************************************************************************************************\n",
      "  Saving Index [331132] ... Done\n",
      "  Saving Data [15700] ... Done\n",
      "  Saving Error [86] ... Done\n"
     ]
    },
    {
     "data": {
      "application/vnd.jupyter.widget-view+json": {
       "model_id": "0a339aeb36a9474aacd8c52128b57c39",
       "version_major": 2,
       "version_minor": 0
      },
      "text/plain": [
       "Waiting:   0%|          | 0/50 [00:00<?, ?it/s]"
      ]
     },
     "metadata": {},
     "output_type": "display_data"
    },
    {
     "name": "stdout",
     "output_type": "stream",
     "text": [
      "Searching For Bert van der Wolf                                 {'Artist': 13, 'Album': 2}\n",
      "Searching For Jereme Jay                                        {'Artist': 6, 'Album': 8}\n",
      "Searching For Chris Slusarenko                                  {'Artist': 2, 'Album': 1}\n",
      "Searching For Riggs Morales                                     {'Artist': 0, 'Album': 0}\n",
      "Searching For Arnaud Taillefer                                  {'Artist': 0, 'Album': 0}\n",
      "Searching For Osho Endo                                         {'Artist': 2, 'Album': 1}\n",
      "Searching For Rosella Conz                                      {'Artist': 0, 'Album': 0}\n",
      "Searching For Stefan Josefus                                    {'Artist': 2, 'Album': 4}\n",
      "Searching For Joseph Sauter                                     {'Artist': 4, 'Album': 1}\n",
      "Searching For Thom Van Der Bruggen                              {'Artist': 0, 'Album': 0}\n",
      "Searching For Jacky Dreksler                                    {'Artist': 0, 'Album': 0}\n",
      "Searching For Bass & Beard                                      {'Artist': 14, 'Album': 10}\n",
      "Searching For Neon Knights                                      {'Artist': 14, 'Album': 12}\n",
      "Searching For Després                                          {'Artist': 33, 'Album': 17}\n",
      "Searching For DJ Zuul                                           {'Artist': 4, 'Album': 9}\n",
      "Searching For CavoDeep                                          {'Artist': 3, 'Album': 11}\n",
      "Searching For Vato Kahi                                         {'Artist': 2, 'Album': 0}\n",
      "Searching For Alain Craens                                      {'Artist': 17, 'Album': 4}\n",
      "Searching For Visceral Design                                   {'Artist': 6, 'Album': 11}\n",
      "Searching For Nuclëar Fröst                                   {'Artist': 11, 'Album': 13}\n",
      "Searching For Atra                                              {'Artist': 33, 'Album': 17}\n",
      "Searching For Foxwood                                           {'Artist': 15, 'Album': 10}\n",
      "Searching For Steven Olaf                                       {'Artist': 10, 'Album': 11}\n",
      "Searching For Don Hosea                                         {'Artist': 18, 'Album': 13}\n",
      "Searching For George Kam                                        {'Artist': 3, 'Album': 11}\n",
      " [Getting AppleMusic ArtistIDs] | 1850/?     : RunTime 3 Hour and 11 Minute.\n",
      "*****************************************************************************************************************************\n",
      "*                                                    Saving SearchArtist                                                    *\n",
      "*****************************************************************************************************************************\n",
      "  Saving Index [331157] ... Done\n",
      "  Saving Data [15725] ... Done\n",
      "  Saving Error [86] ... Done\n"
     ]
    },
    {
     "data": {
      "application/vnd.jupyter.widget-view+json": {
       "model_id": "63c0ae9118ae478ab6541294c3fef0a5",
       "version_major": 2,
       "version_minor": 0
      },
      "text/plain": [
       "Waiting:   0%|          | 0/50 [00:00<?, ?it/s]"
      ]
     },
     "metadata": {},
     "output_type": "display_data"
    },
    {
     "name": "stdout",
     "output_type": "stream",
     "text": [
      "Searching For Alessio Di Turi                                   {'Artist': 6, 'Album': 1}\n",
      "Searching For Thanos Giouletzis                                 {'Artist': 5, 'Album': 5}\n",
      "Searching For Ravers Unite                                      {'Artist': 13, 'Album': 10}\n",
      "Searching For CaMi                                              {'Artist': 20, 'Album': 14}\n",
      "Searching For The Losers Club                                   {'Artist': 17, 'Album': 16}\n",
      "Searching For Kalako                                            {'Artist': 15, 'Album': 13}\n",
      "Searching For Gemwave                                           {'Artist': 3, 'Album': 7}\n",
      "Searching For François D'Agincour                              {'Artist': 7, 'Album': 5}\n",
      "Searching For JINU                                              {'Artist': 13, 'Album': 11}\n",
      "Searching For Kimdness                                          {'Artist': 24, 'Album': 11}\n",
      "Searching For Clave Suprema                                     {'Artist': 2, 'Album': 11}\n",
      "Searching For Base De Rap                                       {'Artist': 35, 'Album': 11}\n",
      "Searching For The Stab                                          {'Artist': 27, 'Album': 13}\n",
      "Searching For Ditta Zusa                                        {'Artist': 3, 'Album': 0}\n",
      "Searching For The Invitations                                   {'Artist': 27, 'Album': 7}\n",
      "Searching For Embittered                                        {'Artist': 11, 'Album': 13}\n",
      "Searching For Grup Estel                                        {'Artist': 8, 'Album': 8}\n",
      "Searching For Aborticidio                                       {'Artist': 0, 'Album': 0}\n",
      "Searching For Carcoma                                           {'Artist': 27, 'Album': 14}\n",
      "Searching For Die fröhlichen Wanderer                          {'Artist': 6, 'Album': 10}\n",
      "Searching For Foodband                                          {'Artist': 5, 'Album': 3}\n",
      "Searching For The Insurgent                                     {'Artist': 13, 'Album': 7}\n",
      "Searching For Joyce Ormela Harris                               {'Artist': 0, 'Album': 0}\n",
      "Searching For Milpatte                                          {'Artist': 1, 'Album': 2}\n",
      "Searching For Patrician Anne McKinnon                           {'Artist': 0, 'Album': 0}\n",
      " [Getting AppleMusic ArtistIDs] | 1875/?     : RunTime 3 Hour and 13 Minute.\n",
      "*****************************************************************************************************************************\n",
      "*                                                    Saving SearchArtist                                                    *\n",
      "*****************************************************************************************************************************\n",
      "  Saving Index [331182] ... Done\n",
      "  Saving Data [15750] ... Done\n",
      "  Saving Error [86] ... Done\n"
     ]
    },
    {
     "data": {
      "application/vnd.jupyter.widget-view+json": {
       "model_id": "877711811613441b8c4f4f0f2c07283d",
       "version_major": 2,
       "version_minor": 0
      },
      "text/plain": [
       "Waiting:   0%|          | 0/50 [00:00<?, ?it/s]"
      ]
     },
     "metadata": {},
     "output_type": "display_data"
    },
    {
     "name": "stdout",
     "output_type": "stream",
     "text": [
      "Searching For Hrönir                                           {'Artist': 6, 'Album': 5}\n",
      "Searching For Sue Schell                                        {'Artist': 0, 'Album': 0}\n",
      "Searching For Guadalajara Brass                                 {'Artist': 3, 'Album': 4}\n",
      "Searching For Siinkwa Chonjang                                  {'Artist': 0, 'Album': 0}\n",
      "Searching For Ruža Balog                                       {'Artist': 0, 'Album': 0}\n",
      "Searching For Aristeo                                           {'Artist': 23, 'Album': 13}\n",
      "Searching For Intense Mutilation                                {'Artist': 3, 'Album': 3}\n",
      "Searching For Run C&W                                           {'Artist': 20, 'Album': 15}\n",
      "Searching For Catherine Bardin                                  {'Artist': 1, 'Album': 1}\n",
      "Searching For Roland Topor                                      {'Artist': 2, 'Album': 1}\n",
      "Searching For Υπόγεια Τροχιά                                  {'Artist': 0, 'Album': 0}\n",
      "Searching For Dolores Ware                                      {'Artist': 1, 'Album': 2}\n",
      "Searching For MC Breeze                                         {'Artist': 19, 'Album': 7}\n",
      "Searching For FunxSoulJaz                                       {'Artist': 3, 'Album': 6}\n",
      "Searching For Heroes of Cranberry Farm                          {'Artist': 0, 'Album': 0}\n",
      "Searching For Regininha                                         {'Artist': 5, 'Album': 4}\n",
      "Searching For Nightfall                                         {'Artist': 32, 'Album': 16}\n",
      "Searching For Formas                                            {'Artist': 24, 'Album': 15}\n",
      "Searching For Hubert Bognermayr & Harald Zuschrader             {'Artist': 2, 'Album': 5}\n",
      "Searching For The Southernaires                                 {'Artist': 10, 'Album': 8}\n",
      "Searching For Handicapper Horns                                 {'Artist': 3, 'Album': 1}\n",
      "Searching For Black A.G.                                        {'Artist': 32, 'Album': 17}\n",
      "Searching For Margaluz                                          {'Artist': 1, 'Album': 2}\n",
      "Searching For Godwin Ezike & the Ambassadors                    {'Artist': 3, 'Album': 3}\n",
      "Searching For Webelos                                           {'Artist': 9, 'Album': 15}\n",
      " [Getting AppleMusic ArtistIDs] | 1900/?     : RunTime 3 Hour and 16 Minute.\n",
      "*****************************************************************************************************************************\n",
      "*                                                    Saving SearchArtist                                                    *\n",
      "*****************************************************************************************************************************\n",
      "  Saving Index [331207] ... Done\n",
      "  Saving Data [15775] ... Done\n",
      "  Saving Error [86] ... Done\n"
     ]
    },
    {
     "data": {
      "application/vnd.jupyter.widget-view+json": {
       "model_id": "6fbb673fe53c4d5c8f5b40a1b0a34b83",
       "version_major": 2,
       "version_minor": 0
      },
      "text/plain": [
       "Waiting:   0%|          | 0/50 [00:00<?, ?it/s]"
      ]
     },
     "metadata": {},
     "output_type": "display_data"
    },
    {
     "name": "stdout",
     "output_type": "stream",
     "text": [
      "Searching For Branko Blaće                                     {'Artist': 6, 'Album': 8}\n",
      "Searching For Yak!                                              {'Artist': 32, 'Album': 14}\n",
      "Searching For Maja Kraft                                        {'Artist': 0, 'Album': 0}\n",
      "Searching For North &amp; South                                 {'Artist': 8, 'Album': 7}\n",
      "Searching For Mehmet Özbek                                     {'Artist': 12, 'Album': 12}\n",
      "Searching For Tessa Birnie                                      {'Artist': 1, 'Album': 2}\n",
      "Searching For Raymond Scott Quintet                             {'Artist': 4, 'Album': 8}\n",
      "Searching For Laurent Bardainne & Tigre d'Eau Douce             {'Artist': 5, 'Album': 7}\n",
      "Searching For Annabelle Playe                                   {'Artist': 13, 'Album': 11}\n",
      "Searching For Zotora                                            {'Artist': 1, 'Album': 4}\n",
      "Searching For On Air                                            {'Artist': 41, 'Album': 18}\n",
      "Searching For Hollywood Indians                                 {'Artist': 5, 'Album': 14}\n",
      "Searching For Edoardo Agnelli                                   {'Artist': 2, 'Album': 8}\n",
      "Searching For Ella & The Angels                                 {'Artist': 24, 'Album': 16}\n",
      "Searching For B.A.U.                                            {'Artist': 30, 'Album': 17}\n",
      "Searching For Ediva                                             {'Artist': 3, 'Album': 11}\n",
      "Searching For Annie Cotton                                      {'Artist': 7, 'Album': 7}\n",
      "Searching For Eddie Friel                                       {'Artist': 2, 'Album': 9}\n",
      "Searching For Marcello Malu                                     {'Artist': 0, 'Album': 0}\n",
      "Searching For Will and the Kill                                 {'Artist': 34, 'Album': 18}\n",
      "Searching For Anna Peverelli                                    {'Artist': 0, 'Album': 0}\n",
      "Searching For Luisella Ronconi                                  {'Artist': 0, 'Album': 0}\n",
      "Searching For Bruno Laurenti                                    {'Artist': 0, 'Album': 0}\n",
      "Searching For La ragazza 77                                     {'Artist': 3, 'Album': 2}\n",
      "Searching For Panorama                                          {'Artist': 31, 'Album': 14}\n",
      " [Getting AppleMusic ArtistIDs] | 1925/?     : RunTime 3 Hour and 18 Minute.\n",
      "*****************************************************************************************************************************\n",
      "*                                                    Saving SearchArtist                                                    *\n",
      "*****************************************************************************************************************************\n",
      "  Saving Index [331232] ... Done\n",
      "  Saving Data [15800] ... Done\n",
      "  Saving Error [86] ... Done\n"
     ]
    },
    {
     "data": {
      "application/vnd.jupyter.widget-view+json": {
       "model_id": "11b3b8023ad24deeb5ffdf0e71c91007",
       "version_major": 2,
       "version_minor": 0
      },
      "text/plain": [
       "Waiting:   0%|          | 0/50 [00:00<?, ?it/s]"
      ]
     },
     "metadata": {},
     "output_type": "display_data"
    },
    {
     "name": "stdout",
     "output_type": "stream",
     "text": [
      "Searching For Mr. Peppermint                                    {'Artist': 7, 'Album': 6}\n",
      "Searching For Excessive Visage                                  {'Artist': 1, 'Album': 3}\n",
      "Searching For Killer of Sheep                                   {'Artist': 6, 'Album': 7}\n",
      "Searching For Marisa Interligi                                  {'Artist': 0, 'Album': 0}\n",
      "Searching For Jostein Hasselgård                               {'Artist': 6, 'Album': 2}\n",
      "Searching For Alex Machin                                       {'Artist': 3, 'Album': 3}\n",
      "Searching For Chris Kilmore                                     {'Artist': 3, 'Album': 7}\n",
      "Searching For Jany Bron                                         {'Artist': 2, 'Album': 2}\n",
      "Searching For Annamaria Parise                                  {'Artist': 27, 'Album': 10}\n",
      "Searching For Zoli Ádok                                        {'Artist': 4, 'Album': 3}\n",
      "Searching For Sandra Simó                                      {'Artist': 18, 'Album': 2}\n",
      "Searching For Paul J. Qualley                                   {'Artist': 0, 'Album': 0}\n",
      "Searching For All of Us                                         {'Artist': 28, 'Album': 17}\n",
      "Searching For Linas & Simona                                    {'Artist': 2, 'Album': 1}\n",
      "Searching For Sic Boy Federation                                {'Artist': 0, 'Album': 0}\n",
      "Searching For Neu Rot                                           {'Artist': 6, 'Album': 8}\n",
      "Searching For 333                                               {'Artist': 30, 'Album': 14}\n",
      "Searching For Calculated X                                      {'Artist': 24, 'Album': 14}\n",
      "Searching For Gregg Burge                                       {'Artist': 5, 'Album': 2}\n",
      "Searching For Lindsay Daenen                                    {'Artist': 0, 'Album': 0}\n",
      "Searching For Enzo Miceli                                       {'Artist': 0, 'Album': 0}\n",
      "Searching For Emza                                              {'Artist': 20, 'Album': 13}\n",
      "Searching For Northern Sadness                                  {'Artist': 5, 'Album': 8}\n",
      "Searching For Francesco Giomi                                   {'Artist': 9, 'Album': 9}\n",
      "Searching For 2 Tone                                            {'Artist': 30, 'Album': 16}\n",
      " [Getting AppleMusic ArtistIDs] | 1950/?     : RunTime 3 Hour and 21 Minute.\n",
      "*****************************************************************************************************************************\n",
      "*                                                    Saving SearchArtist                                                    *\n",
      "*****************************************************************************************************************************\n",
      "  Saving Index [331257] ... Done\n",
      "  Saving Data [15825] ... Done\n",
      "  Saving Error [86] ... Done\n"
     ]
    },
    {
     "data": {
      "application/vnd.jupyter.widget-view+json": {
       "model_id": "4901b9f5c5bb48c19edd367298f839a8",
       "version_major": 2,
       "version_minor": 0
      },
      "text/plain": [
       "Waiting:   0%|          | 0/50 [00:00<?, ?it/s]"
      ]
     },
     "metadata": {},
     "output_type": "display_data"
    },
    {
     "name": "stdout",
     "output_type": "stream",
     "text": [
      "Searching For Pilato                                            {'Artist': 25, 'Album': 16}\n",
      "Searching For 69 Starfighter                                    {'Artist': 2, 'Album': 12}\n",
      "Searching For Dale Saunders                                     {'Artist': 9, 'Album': 8}\n",
      "Searching For Arturo Gatica                                     {'Artist': 2, 'Album': 5}\n",
      "Searching For Sax O'Conga                                       {'Artist': 2, 'Album': 9}\n",
      "Searching For First Frontier                                    {'Artist': 13, 'Album': 10}\n",
      "Searching For La Race Canine                                    {'Artist': 4, 'Album': 4}\n",
      "Searching For MASON FLINT                                       {'Artist': 8, 'Album': 14}\n",
      "Searching For Chargers                                          {'Artist': 33, 'Album': 15}\n",
      "Searching For Kabeya                                            {'Artist': 28, 'Album': 14}\n",
      "Searching For Kame2                                             {'Artist': 8, 'Album': 15}\n",
      "Searching For Kisean Anderson                                   {'Artist': 9, 'Album': 10}\n",
      "Searching For Ticket West                                       {'Artist': 5, 'Album': 9}\n",
      "Searching For IX WULF                                           {'Artist': 2, 'Album': 15}\n",
      "Searching For Melez                                             {'Artist': 19, 'Album': 13}\n",
      "Searching For Natalola                                          {'Artist': 12, 'Album': 12}\n",
      "Searching For Father White                                      {'Artist': 14, 'Album': 7}\n",
      "Searching For The Hullabahoos                                   {'Artist': 2, 'Album': 9}\n",
      "Searching For The Family Sowell                                 {'Artist': 6, 'Album': 7}\n",
      "Searching For Western Horizon Productions                       {'Artist': 1, 'Album': 17}\n",
      "Searching For Probe Of Expired                                  {'Artist': 1, 'Album': 11}\n",
      "Searching For TRUST FUND OZU                                    {'Artist': 4, 'Album': 10}\n",
      "Searching For Yilberking                                        {'Artist': 14, 'Album': 14}\n",
      "Searching For STEFF BLESS                                       {'Artist': 6, 'Album': 15}\n",
      "Searching For Preston Pablo                                     {'Artist': 11, 'Album': 17}\n",
      " [Getting AppleMusic ArtistIDs] | 1975/?     : RunTime 3 Hour and 24 Minute.\n",
      "*****************************************************************************************************************************\n",
      "*                                                    Saving SearchArtist                                                    *\n",
      "*****************************************************************************************************************************\n",
      "  Saving Index [331282] ... Done\n",
      "  Saving Data [15850] ... Done\n",
      "  Saving Error [86] ... Done\n"
     ]
    },
    {
     "data": {
      "application/vnd.jupyter.widget-view+json": {
       "model_id": "fb8f401ca5194fdea2094bcae7ce66e7",
       "version_major": 2,
       "version_minor": 0
      },
      "text/plain": [
       "Waiting:   0%|          | 0/50 [00:00<?, ?it/s]"
      ]
     },
     "metadata": {},
     "output_type": "display_data"
    },
    {
     "name": "stdout",
     "output_type": "stream",
     "text": [
      "Searching For Blue Statue                                       {'Artist': 6, 'Album': 11}\n",
      "Searching For Marshall McLean Band                              {'Artist': 5, 'Album': 7}\n",
      "Searching For Ticklish Allsorts                                 {'Artist': 1, 'Album': 2}\n",
      "Searching For Disco Gang                                        {'Artist': 16, 'Album': 13}\n",
      "Searching For All the Glory                                     {'Artist': 23, 'Album': 14}\n",
      "Searching For Cate Song                                         {'Artist': 20, 'Album': 7}\n",
      "Searching For A Lanky Swede                                     {'Artist': 1, 'Album': 4}\n",
      "Searching For Alexander Fleischer                               {'Artist': 12, 'Album': 7}\n",
      "Searching For Rob & the Hitmen                                  {'Artist': 24, 'Album': 13}\n",
      "Searching For Lucio Manca                                       {'Artist': 4, 'Album': 6}\n",
      "Searching For Peter Struijk                                     {'Artist': 3, 'Album': 4}\n",
      "Searching For Rich McCulley                                     {'Artist': 3, 'Album': 7}\n",
      "Searching For EYJAA                                             {'Artist': 1, 'Album': 7}\n",
      "Searching For The Delta                                         {'Artist': 24, 'Album': 15}\n",
      "Searching For Theo Meier                                        {'Artist': 3, 'Album': 13}\n",
      "Searching For S V Krishna Reddy                                 {'Artist': 21, 'Album': 12}\n",
      "Searching For Dub Convention                                    {'Artist': 7, 'Album': 7}\n",
      "Searching For Labrynthine                                       {'Artist': 12, 'Album': 12}\n",
      "Searching For WILDLYF                                           {'Artist': 8, 'Album': 11}\n",
      "Searching For Zoahh                                             {'Artist': 8, 'Album': 13}\n",
      "Searching For Ashton Edminster                                  {'Artist': 3, 'Album': 10}\n",
      "Searching For Dirty Trainload                                   {'Artist': 1, 'Album': 2}\n",
      "Searching For Brudywr                                           {'Artist': 1, 'Album': 8}\n",
      "Searching For HUSKIE                                            {'Artist': 15, 'Album': 11}\n",
      "Searching For Poisonouz                                         {'Artist': 18, 'Album': 10}\n",
      " [Getting AppleMusic ArtistIDs] | 2000/?     : RunTime 3 Hour and 26 Minute.\n",
      "*****************************************************************************************************************************\n",
      "*                                                    Saving SearchArtist                                                    *\n",
      "*****************************************************************************************************************************\n",
      "  Saving Index [331307] ... Done\n",
      "  Saving Data [15875] ... Done\n",
      "  Saving Error [86] ... Done\n"
     ]
    },
    {
     "data": {
      "application/vnd.jupyter.widget-view+json": {
       "model_id": "afa18e11237f4de9802372233d198a25",
       "version_major": 2,
       "version_minor": 0
      },
      "text/plain": [
       "Waiting:   0%|          | 0/50 [00:00<?, ?it/s]"
      ]
     },
     "metadata": {},
     "output_type": "display_data"
    },
    {
     "name": "stdout",
     "output_type": "stream",
     "text": [
      "Searching For Benjamin Boi                                      {'Artist': 2, 'Album': 7}\n",
      "Searching For Neat, The                                         {'Artist': 20, 'Album': 8}\n",
      "Searching For GO 2                                              {'Artist': 34, 'Album': 16}\n",
      "Searching For Eyes Faces                                        {'Artist': 16, 'Album': 13}\n",
      "Searching For Intersonic Subformation                           {'Artist': 1, 'Album': 2}\n",
      "Searching For Ak Debris                                         {'Artist': 4, 'Album': 13}\n",
      "Searching For Joe Saan                                          {'Artist': 4, 'Album': 11}\n",
      "Searching For Shashwati Phukan                                  {'Artist': 19, 'Album': 9}\n",
      "Searching For Kaatchi                                           {'Artist': 10, 'Album': 13}\n",
      "Searching For Daddy's Beemer                                    {'Artist': 1, 'Album': 10}\n",
      "Searching For Criminal Mayhem                                   {'Artist': 4, 'Album': 16}\n",
      "Searching For Paul Gibson                                       {'Artist': 10, 'Album': 18}\n",
      "Searching For Tecksound                                         {'Artist': 2, 'Album': 11}\n",
      "Searching For Jare & VilleGalle                                 {'Artist': 5, 'Album': 11}\n",
      "Searching For Move Inc.                                         {'Artist': 5, 'Album': 8}\n",
      "Searching For Horus The Astroneer                               {'Artist': 3, 'Album': 7}\n",
      "Searching For Steven Claydon                                    {'Artist': 7, 'Album': 2}\n",
      "Searching For Erik Smith                                        {'Artist': 16, 'Album': 9}\n",
      "Searching For Jay Schellen                                      {'Artist': 8, 'Album': 6}\n",
      "Searching For Franklin Fuentes                                  {'Artist': 8, 'Album': 12}\n",
      "Searching For Self Disgrace                                     {'Artist': 4, 'Album': 5}\n",
      "Searching For Bait-Z                                            {'Artist': 16, 'Album': 13}\n",
      "Searching For Sana Khan                                         {'Artist': 36, 'Album': 7}\n",
      "Searching For MC Juninho JR                                     {'Artist': 20, 'Album': 11}\n",
      "Searching For Francois                                          {'Artist': 35, 'Album': 15}\n",
      " [Getting AppleMusic ArtistIDs] | 2025/?     : RunTime 3 Hour and 29 Minute.\n",
      "*****************************************************************************************************************************\n",
      "*                                                    Saving SearchArtist                                                    *\n",
      "*****************************************************************************************************************************\n",
      "  Saving Index [331332] ... Done\n",
      "  Saving Data [15900] ... Done\n",
      "  Saving Error [86] ... Done\n"
     ]
    },
    {
     "data": {
      "application/vnd.jupyter.widget-view+json": {
       "model_id": "24ea8dcc8eaa468fb69a2ccb9b4c55a3",
       "version_major": 2,
       "version_minor": 0
      },
      "text/plain": [
       "Waiting:   0%|          | 0/50 [00:00<?, ?it/s]"
      ]
     },
     "metadata": {},
     "output_type": "display_data"
    },
    {
     "name": "stdout",
     "output_type": "stream",
     "text": [
      "Searching For Haben Godefa                                      {'Artist': 2, 'Album': 5}\n",
      "Searching For Risky Business                                    {'Artist': 22, 'Album': 15}\n",
      "Searching For Forró Cangaço                                   {'Artist': 8, 'Album': 8}\n",
      "Searching For Roman Sebastian                                   {'Artist': 20, 'Album': 13}\n",
      "Searching For The Contact Project                               {'Artist': 8, 'Album': 17}\n",
      "Searching For Chris Armstrong                                   {'Artist': 10, 'Album': 8}\n",
      "Searching For Ackermann                                         {'Artist': 38, 'Album': 15}\n",
      "Searching For Sem Reznha                                        {'Artist': 3, 'Album': 9}\n",
      "Searching For Silk Cinema                                       {'Artist': 1, 'Album': 10}\n",
      "Searching For Moawk                                             {'Artist': 14, 'Album': 8}\n",
      "Searching For Advide                                            {'Artist': 26, 'Album': 13}\n",
      "Searching For Laura Cox Band                                    {'Artist': 10, 'Album': 7}\n",
      "Searching For Scott Harris                                      {'Artist': 23, 'Album': 11}\n",
      "Searching For Tanayu                                            {'Artist': 19, 'Album': 13}\n",
      "Searching For Mike Slap                                         {'Artist': 5, 'Album': 9}\n",
      "Searching For The Lost Brothers                                 {'Artist': 9, 'Album': 8}\n",
      "Searching For Kramos                                            {'Artist': 12, 'Album': 9}\n",
      "Searching For Ascète                                           {'Artist': 6, 'Album': 8}\n",
      "Searching For The Broken Orchestra                              {'Artist': 11, 'Album': 12}\n",
      "Searching For Talia Stewart                                     {'Artist': 8, 'Album': 11}\n",
      "Searching For Emanuel                                           {'Artist': 23, 'Album': 13}\n",
      "Searching For Witch                                             {'Artist': 34, 'Album': 15}\n",
      "Searching For Trey Vinter                                       {'Artist': 7, 'Album': 15}\n",
      "Searching For Ron Rockwell                                      {'Artist': 2, 'Album': 10}\n",
      "Searching For Giggs Superstar                                   {'Artist': 12, 'Album': 12}\n",
      " [Getting AppleMusic ArtistIDs] | 2050/?     : RunTime 3 Hour and 31 Minute.\n",
      "*****************************************************************************************************************************\n",
      "*                                                    Saving SearchArtist                                                    *\n",
      "*****************************************************************************************************************************\n",
      "  Saving Index [331357] ... Done\n",
      "  Saving Data [15925] ... Done\n",
      "  Saving Error [86] ... Done\n"
     ]
    },
    {
     "data": {
      "application/vnd.jupyter.widget-view+json": {
       "model_id": "55a256c4faa54f518ab3be969516b909",
       "version_major": 2,
       "version_minor": 0
      },
      "text/plain": [
       "Waiting:   0%|          | 0/50 [00:00<?, ?it/s]"
      ]
     },
     "metadata": {},
     "output_type": "display_data"
    },
    {
     "name": "stdout",
     "output_type": "stream",
     "text": [
      "Searching For Eli Framer                                        {'Artist': 1, 'Album': 4}\n",
      "Searching For Honey G.                                          {'Artist': 14, 'Album': 17}\n",
      "Searching For Alessandro Forte                                  {'Artist': 4, 'Album': 11}\n",
      "Searching For Northling                                         {'Artist': 3, 'Album': 16}\n",
      "Searching For Biathalon                                         {'Artist': 6, 'Album': 8}\n",
      "Searching For Treading Bloom                                    {'Artist': 10, 'Album': 10}\n",
      "Searching For Atte Elias Kantonen                               {'Artist': 1, 'Album': 2}\n",
      "Searching For In a Lonely Place                                 {'Artist': 10, 'Album': 13}\n",
      "Searching For The Wendy Darlings                                {'Artist': 9, 'Album': 9}\n",
      "Searching For benj△min                                          {'Artist': 1, 'Album': 1}\n",
      "Searching For Faery Ring                                        {'Artist': 18, 'Album': 12}\n",
      "Searching For Dookoom                                           {'Artist': 1, 'Album': 7}\n",
      "Searching For Wonderfuls                                        {'Artist': 27, 'Album': 18}\n",
      "Searching For residual energy boss                              {'Artist': 0, 'Album': 0}\n",
      "Searching For Secluded Alchemist                                {'Artist': 0, 'Album': 0}\n",
      "Searching For Radio Ushichichi                                  {'Artist': 0, 'Album': 0}\n",
      "Searching For IIVII                                             {'Artist': 8, 'Album': 8}\n",
      "Searching For La Trace                                          {'Artist': 18, 'Album': 13}\n",
      "Searching For B>E>A>K                                           {'Artist': 30, 'Album': 15}\n",
      "Searching For The Maniacs                                       {'Artist': 22, 'Album': 13}\n",
      "Searching For S ND Y P RL RS                                    {'Artist': 1, 'Album': 1}\n",
      "Searching For Pamela_ and her sons                              {'Artist': 2, 'Album': 2}\n",
      "Searching For Sword Mountain                                    {'Artist': 13, 'Album': 13}\n",
      "Searching For Michael Anthony                                   {'Artist': 18, 'Album': 10}\n",
      "Searching For DJ Enry Dance                                     {'Artist': 5, 'Album': 11}\n",
      " [Getting AppleMusic ArtistIDs] | 2075/?     : RunTime 3 Hour and 34 Minute.\n",
      "*****************************************************************************************************************************\n",
      "*                                                    Saving SearchArtist                                                    *\n",
      "*****************************************************************************************************************************\n",
      "  Saving Index [331382] ... Done\n",
      "  Saving Data [15950] ... Done\n",
      "  Saving Error [86] ... Done\n"
     ]
    },
    {
     "data": {
      "application/vnd.jupyter.widget-view+json": {
       "model_id": "8a7f0e5bd0fc4956adccb667c00b50d5",
       "version_major": 2,
       "version_minor": 0
      },
      "text/plain": [
       "Waiting:   0%|          | 0/50 [00:00<?, ?it/s]"
      ]
     },
     "metadata": {},
     "output_type": "display_data"
    },
    {
     "name": "stdout",
     "output_type": "stream",
     "text": [
      "Searching For Psylence                                          {'Artist': 22, 'Album': 14}\n",
      "Searching For JHAY RHOD                                         {'Artist': 7, 'Album': 13}\n",
      "Searching For JP DJ                                             {'Artist': 25, 'Album': 12}\n",
      "Searching For Noam Bar                                          {'Artist': 4, 'Album': 8}\n",
      "Searching For Abolishment of Flesh                              {'Artist': 1, 'Album': 6}\n",
      "Searching For Optimuss                                          {'Artist': 9, 'Album': 18}\n",
      "Searching For Monss                                             {'Artist': 5, 'Album': 12}\n",
      "Searching For Madmax                                            {'Artist': 33, 'Album': 14}\n",
      "Searching For Joel Hodgson                                      {'Artist': 14, 'Album': 7}\n",
      "Searching For Jay Outback                                       {'Artist': 5, 'Album': 16}\n",
      "Searching For Zhao Yiping                                       {'Artist': 1, 'Album': 1}\n",
      "Searching For Taro Urashima                                     {'Artist': 10, 'Album': 15}\n",
      "Searching For GMAC CASH                                         {'Artist': 2, 'Album': 14}\n",
      "Searching For monokim                                           {'Artist': 2, 'Album': 8}\n",
      "Searching For Mizzy                                             {'Artist': 27, 'Album': 16}\n",
      "Searching For 雷擎                                                {'Artist': 8, 'Album': 10}\n",
      "Searching For Mr. Nitro                                         {'Artist': 12, 'Album': 7}\n",
      "Searching For Tommy Lee Moffat                                  {'Artist': 2, 'Album': 7}\n",
      "Searching For Dark Wizard                                       {'Artist': 16, 'Album': 14}\n",
      "Searching For Hellcrash                                         {'Artist': 1, 'Album': 2}\n",
      "Searching For FEVER                                             {'Artist': 27, 'Album': 15}\n",
      "Searching For Damn Dirty Ape                                    {'Artist': 4, 'Album': 12}\n",
      "Searching For Heisey Glass Company, The                         {'Artist': 1, 'Album': 8}\n",
      "Searching For Armanibanz!                                       {'Artist': 7, 'Album': 14}\n",
      "Searching For Steven Richard Lindholm                           {'Artist': 1, 'Album': 2}\n",
      " [Getting AppleMusic ArtistIDs] | 2100/?     : RunTime 3 Hour and 37 Minute.\n",
      "*****************************************************************************************************************************\n",
      "*                                                    Saving SearchArtist                                                    *\n",
      "*****************************************************************************************************************************\n",
      "  Saving Index [331407] ... Done\n",
      "  Saving Data [15975] ... Done\n",
      "  Saving Error [86] ... Done\n"
     ]
    },
    {
     "data": {
      "application/vnd.jupyter.widget-view+json": {
       "model_id": "bc9c1177764741229bdac9971bd78d3d",
       "version_major": 2,
       "version_minor": 0
      },
      "text/plain": [
       "Waiting:   0%|          | 0/50 [00:00<?, ?it/s]"
      ]
     },
     "metadata": {},
     "output_type": "display_data"
    },
    {
     "name": "stdout",
     "output_type": "stream",
     "text": [
      "Searching For Boy Wunder                                        {'Artist': 13, 'Album': 7}\n",
      "Searching For Karlos K Sound                                    {'Artist': 8, 'Album': 17}\n",
      "Searching For Michael Sarsfield                                 {'Artist': 10, 'Album': 5}\n",
      "Searching For DJ Dlee                                           {'Artist': 24, 'Album': 13}\n",
      "Searching For Danny Handerson                                   {'Artist': 1, 'Album': 12}\n",
      "Searching For The Rags                                          {'Artist': 32, 'Album': 9}\n",
      "Searching For Tensei One                                        {'Artist': 14, 'Album': 9}\n",
      "Searching For Mouth Water                                       {'Artist': 4, 'Album': 12}\n",
      "Searching For Chris Liberator & D.A.V.E. The Drummer            {'Artist': 4, 'Album': 7}\n",
      "Searching For Satu Vihavainen                                   {'Artist': 30, 'Album': 5}\n",
      "Searching For Billie Maxwell                                    {'Artist': 11, 'Album': 12}\n",
      "Searching For Dori Grayson                                      {'Artist': 3, 'Album': 5}\n",
      "Searching For Jack Lathrop                                      {'Artist': 29, 'Album': 6}\n",
      "Searching For Helmuth Franke                                    {'Artist': 4, 'Album': 6}\n",
      "Searching For Muckram Wakes                                     {'Artist': 0, 'Album': 0}\n",
      "Searching For Noi Tre                                           {'Artist': 13, 'Album': 11}\n",
      "Searching For Chili Charles                                     {'Artist': 6, 'Album': 10}\n",
      "Searching For The Gothics                                       {'Artist': 25, 'Album': 15}\n",
      "Searching For Nelson Keene                                      {'Artist': 4, 'Album': 3}\n",
      "Searching For Les Walker                                        {'Artist': 26, 'Album': 12}\n",
      "Searching For Tracy                                             {'Artist': 21, 'Album': 16}\n",
      "Searching For Bis Shuttlesworth                                 {'Artist': 2, 'Album': 3}\n",
      "Searching For Wild Wayne                                        {'Artist': 16, 'Album': 12}\n",
      "Searching For John Patter                                       {'Artist': 6, 'Album': 10}\n",
      "Searching For Kenya Emil                                        {'Artist': 1, 'Album': 2}\n",
      " [Getting AppleMusic ArtistIDs] | 2125/?     : RunTime 3 Hour and 39 Minute.\n",
      "*****************************************************************************************************************************\n",
      "*                                                    Saving SearchArtist                                                    *\n",
      "*****************************************************************************************************************************\n",
      "  Saving Index [331432] ... Done\n",
      "  Saving Data [16000] ... Done\n",
      "  Saving Error [86] ... Done\n"
     ]
    },
    {
     "data": {
      "application/vnd.jupyter.widget-view+json": {
       "model_id": "b089e958b1824293b11970043255ab4c",
       "version_major": 2,
       "version_minor": 0
      },
      "text/plain": [
       "Waiting:   0%|          | 0/50 [00:00<?, ?it/s]"
      ]
     },
     "metadata": {},
     "output_type": "display_data"
    },
    {
     "name": "stdout",
     "output_type": "stream",
     "text": [
      "Searching For Kenya                                             {'Artist': 34, 'Album': 15}\n",
      "Searching For Lill-Ingmars                                      {'Artist': 1, 'Album': 6}\n",
      "Searching For Future Flex                                       {'Artist': 13, 'Album': 14}\n",
      "Searching For Speechdrops                                       {'Artist': 1, 'Album': 6}\n",
      "Searching For Eva Simontacchi                                   {'Artist': 3, 'Album': 4}\n",
      "Searching For Khaan                                             {'Artist': 26, 'Album': 12}\n",
      "Searching For Trias GB                                          {'Artist': 14, 'Album': 13}\n",
      "Searching For Eliza May                                         {'Artist': 10, 'Album': 14}\n",
      "Searching For MadRats                                           {'Artist': 6, 'Album': 9}\n",
      "Searching For Joy Nichols                                       {'Artist': 24, 'Album': 13}\n",
      "Searching For The Queen's Head                                  {'Artist': 14, 'Album': 13}\n",
      "Searching For Robert Lindsay Nathan                             {'Artist': 1, 'Album': 3}\n",
      "Searching For The Hollands!                                     {'Artist': 12, 'Album': 7}\n",
      "Searching For Bethel Steele                                     {'Artist': 1, 'Album': 5}\n",
      "Searching For Project Ruori                                     {'Artist': 1, 'Album': 2}\n",
      "Searching For La Cocodrila                                      {'Artist': 5, 'Album': 7}\n",
      "Searching For The Marvins                                       {'Artist': 16, 'Album': 7}\n",
      "Searching For Zoë Sundra                                       {'Artist': 1, 'Album': 3}\n",
      "Searching For Pistol Arrows                                     {'Artist': 1, 'Album': 2}\n",
      "Searching For Headshrinkers                                     {'Artist': 7, 'Album': 12}\n",
      "Searching For Phondupe                                          {'Artist': 1, 'Album': 8}\n",
      "Searching For THE FLYING BED                                    {'Artist': 19, 'Album': 16}\n",
      "Searching For Loskober                                          {'Artist': 1, 'Album': 3}\n",
      "Searching For Electric Clouds                                   {'Artist': 19, 'Album': 16}\n",
      "Searching For Grand Masterz                                     {'Artist': 18, 'Album': 14}\n",
      " [Getting AppleMusic ArtistIDs] | 2150/?     : RunTime 3 Hour and 42 Minute.\n",
      "*****************************************************************************************************************************\n",
      "*                                                    Saving SearchArtist                                                    *\n",
      "*****************************************************************************************************************************\n",
      "  Saving Index [331457] ... Done\n",
      "  Saving Data [16025] ... Done\n",
      "  Saving Error [86] ... Done\n"
     ]
    },
    {
     "data": {
      "application/vnd.jupyter.widget-view+json": {
       "model_id": "d05e4a2262144abe8082d9391f7f12ba",
       "version_major": 2,
       "version_minor": 0
      },
      "text/plain": [
       "Waiting:   0%|          | 0/50 [00:00<?, ?it/s]"
      ]
     },
     "metadata": {},
     "output_type": "display_data"
    },
    {
     "name": "stdout",
     "output_type": "stream",
     "text": [
      "Searching For Suburban Architecture                             {'Artist': 3, 'Album': 8}\n",
      "Searching For Mayol                                             {'Artist': 28, 'Album': 13}\n",
      "Searching For Paus                                              {'Artist': 27, 'Album': 14}\n",
      "Searching For Anna Müller                                      {'Artist': 37, 'Album': 11}\n",
      "Searching For Praxi                                             {'Artist': 19, 'Album': 11}\n",
      "Searching For Caley Rose                                        {'Artist': 2, 'Album': 13}\n",
      "Searching For Captain Jack's Army                               {'Artist': 3, 'Album': 10}\n",
      "Searching For Stephan Olbricht                                  {'Artist': 3, 'Album': 4}\n",
      "Searching For Namo Maitri                                       {'Artist': 2, 'Album': 8}\n",
      "Searching For Lágrimas                                         {'Artist': 25, 'Album': 14}\n",
      "Searching For Shwamp                                            {'Artist': 2, 'Album': 5}\n",
      "Searching For Boudi Aridi                                       {'Artist': 4, 'Album': 13}\n",
      "Searching For Blodwar                                           {'Artist': 1, 'Album': 0}\n",
      "Searching For The Long Cold Dark                                {'Artist': 3, 'Album': 7}\n",
      "Searching For Papi Lotus                                        {'Artist': 9, 'Album': 13}\n",
      "Searching For Pat Smythe                                        {'Artist': 8, 'Album': 7}\n",
      "Searching For Clay's Composite                                  {'Artist': 3, 'Album': 7}\n",
      "Searching For Glohaven                                          {'Artist': 4, 'Album': 4}\n",
      "Searching For Covered Wagon Musicians                           {'Artist': 3, 'Album': 1}\n",
      "Searching For Jacob Poe                                         {'Artist': 3, 'Album': 14}\n",
      "Searching For Calloway Luh $ki                                  {'Artist': 1, 'Album': 10}\n",
      "Searching For Slater Manzo                                      {'Artist': 5, 'Album': 10}\n",
      "Searching For Steve Marks                                       {'Artist': 30, 'Album': 13}\n",
      "Searching For Diamond Boy                                       {'Artist': 32, 'Album': 15}\n",
      "Searching For Farsea                                            {'Artist': 15, 'Album': 7}\n",
      " [Getting AppleMusic ArtistIDs] | 2175/?     : RunTime 3 Hour and 44 Minute.\n",
      "*****************************************************************************************************************************\n",
      "*                                                    Saving SearchArtist                                                    *\n",
      "*****************************************************************************************************************************\n",
      "  Saving Index [331482] ... Done\n",
      "  Saving Data [16050] ... Done\n",
      "  Saving Error [86] ... Done\n"
     ]
    },
    {
     "data": {
      "application/vnd.jupyter.widget-view+json": {
       "model_id": "07bfa1a2dac546b4803f90abd93c453d",
       "version_major": 2,
       "version_minor": 0
      },
      "text/plain": [
       "Waiting:   0%|          | 0/50 [00:00<?, ?it/s]"
      ]
     },
     "metadata": {},
     "output_type": "display_data"
    },
    {
     "name": "stdout",
     "output_type": "stream",
     "text": [
      "Searching For Gustav Lundgren Trio                              {'Artist': 9, 'Album': 13}\n",
      "Searching For DJ Tofke                                          {'Artist': 3, 'Album': 1}\n",
      "Searching For Beauty & The Beat                                 {'Artist': 26, 'Album': 12}\n",
      "Searching For Giovanni Cigui                                    {'Artist': 3, 'Album': 7}\n",
      "Searching For Supa Nytro                                        {'Artist': 10, 'Album': 17}\n",
      "Searching For Spek Arson                                        {'Artist': 8, 'Album': 13}\n",
      "Searching For Lights A.M                                        {'Artist': 18, 'Album': 12}\n",
      "Searching For The Clinic                                        {'Artist': 28, 'Album': 17}\n",
      "Searching For Cascadia '10                                      {'Artist': 4, 'Album': 8}\n",
      "Searching For Rollo Tomasi                                      {'Artist': 4, 'Album': 9}\n",
      "Searching For Megumi Acorda                                     {'Artist': 3, 'Album': 7}\n",
      "Searching For Audio Species                                     {'Artist': 10, 'Album': 8}\n",
      "Searching For Trance of Mine                                    {'Artist': 13, 'Album': 8}\n",
      "Searching For Kai Jaxx                                          {'Artist': 11, 'Album': 7}\n",
      "Searching For Gender Chores                                     {'Artist': 1, 'Album': 7}\n",
      "Searching For Forestionist                                      {'Artist': 1, 'Album': 2}\n",
      "Searching For Dyslm                                             {'Artist': 8, 'Album': 14}\n",
      "Searching For DJ Scorpio                                        {'Artist': 19, 'Album': 14}\n",
      "Searching For Seas, Starry                                      {'Artist': 1, 'Album': 7}\n",
      "Searching For Great Rift                                        {'Artist': 7, 'Album': 8}\n",
      "Searching For La Tempesta Basel                                 {'Artist': 3, 'Album': 2}\n",
      "Searching For Invid Mind                                        {'Artist': 5, 'Album': 11}\n",
      "Searching For Orto                                              {'Artist': 39, 'Album': 15}\n",
      "Searching For Die Original Teddies                              {'Artist': 8, 'Album': 7}\n",
      "Searching For Blew Velvet                                       {'Artist': 1, 'Album': 7}\n",
      " [Getting AppleMusic ArtistIDs] | 2200/?     : RunTime 3 Hour and 47 Minute.\n",
      "*****************************************************************************************************************************\n",
      "*                                                    Saving SearchArtist                                                    *\n",
      "*****************************************************************************************************************************\n",
      "  Saving Index [331507] ... Done\n",
      "  Saving Data [16075] ... Done\n",
      "  Saving Error [86] ... Done\n"
     ]
    },
    {
     "data": {
      "application/vnd.jupyter.widget-view+json": {
       "model_id": "f52b491f403e4a06a57f130f47fe3855",
       "version_major": 2,
       "version_minor": 0
      },
      "text/plain": [
       "Waiting:   0%|          | 0/50 [00:00<?, ?it/s]"
      ]
     },
     "metadata": {},
     "output_type": "display_data"
    },
    {
     "name": "stdout",
     "output_type": "stream",
     "text": [
      "Searching For Jaksa Jordes                                      {'Artist': 10, 'Album': 13}\n",
      "Searching For Graciane Finzi                                    {'Artist': 13, 'Album': 6}\n",
      "Searching For Candlefields                                      {'Artist': 1, 'Album': 13}\n",
      "Searching For Serge Folie                                       {'Artist': 5, 'Album': 7}\n",
      "Searching For Kaon                                              {'Artist': 25, 'Album': 15}\n",
      "Searching For Scott Kerr                                        {'Artist': 3, 'Album': 7}\n",
      "Searching For STEP by Step                                      {'Artist': 28, 'Album': 14}\n",
      "Searching For von Stroheim                                      {'Artist': 4, 'Album': 7}\n",
      "Searching For Cynthia Amoah                                     {'Artist': 3, 'Album': 8}\n",
      "Searching For Mariion Christiian                                {'Artist': 6, 'Album': 15}\n",
      "Searching For Solar Music Club                                  {'Artist': 6, 'Album': 17}\n",
      "Searching For THE PREZIDENT KANE                                {'Artist': 3, 'Album': 10}\n",
      "Searching For Van Lazarux                                       {'Artist': 9, 'Album': 13}\n",
      "Searching For Michael Carpenter and The Banks Brothers          {'Artist': 2, 'Album': 9}\n",
      "Searching For Seeress                                           {'Artist': 17, 'Album': 9}\n",
      "Searching For Kontakto                                          {'Artist': 22, 'Album': 12}\n",
      "Searching For Jungle Bill                                       {'Artist': 10, 'Album': 10}\n",
      "Searching For Reixtra                                           {'Artist': 4, 'Album': 13}\n",
      "Searching For Aaron D.                                          {'Artist': 23, 'Album': 12}\n",
      "Searching For Extravagance SL                                   {'Artist': 1, 'Album': 14}\n",
      "Searching For Cristian R. Aguiar                                {'Artist': 1, 'Album': 15}\n",
      "Searching For Los Playoneros del Cesar                          {'Artist': 1, 'Album': 3}\n",
      "Searching For Mason Ray Parker                                  {'Artist': 3, 'Album': 11}\n",
      "Searching For Chelo Ramírez                                    {'Artist': 4, 'Album': 14}\n",
      "Searching For Emily Parish                                      {'Artist': 3, 'Album': 7}\n",
      " [Getting AppleMusic ArtistIDs] | 2225/?     : RunTime 3 Hour and 50 Minute.\n",
      "*****************************************************************************************************************************\n",
      "*                                                    Saving SearchArtist                                                    *\n",
      "*****************************************************************************************************************************\n",
      "  Saving Index [331532] ... Done\n",
      "  Saving Data [16100] ... Done\n",
      "  Saving Error [86] ... Done\n"
     ]
    },
    {
     "data": {
      "application/vnd.jupyter.widget-view+json": {
       "model_id": "3c23516173404fe4a836c4931a8aeb4e",
       "version_major": 2,
       "version_minor": 0
      },
      "text/plain": [
       "Waiting:   0%|          | 0/50 [00:00<?, ?it/s]"
      ]
     },
     "metadata": {},
     "output_type": "display_data"
    },
    {
     "name": "stdout",
     "output_type": "stream",
     "text": [
      "Searching For Acruz Sesper                                      {'Artist': 2, 'Album': 7}\n",
      "Searching For Magic Tramps                                      {'Artist': 3, 'Album': 7}\n",
      "Searching For Nicolas Bouzas                                    {'Artist': 8, 'Album': 9}\n",
      "Searching For Vd                                                {'Artist': 20, 'Album': 16}\n",
      "Searching For Gulzar Naza                                       {'Artist': 2, 'Album': 2}\n",
      "Searching For Harry Sandhu                                      {'Artist': 15, 'Album': 13}\n",
      "Searching For Faktor Straha                                     {'Artist': 1, 'Album': 0}\n",
      "Searching For Exoristoi                                         {'Artist': 1, 'Album': 1}\n",
      "Searching For Martin Dhamen                                     {'Artist': 5, 'Album': 16}\n",
      "Searching For Dutch Master Spence                               {'Artist': 1, 'Album': 11}\n",
      "Searching For Violent Definition                                {'Artist': 2, 'Album': 2}\n",
      "Searching For Designer                                          {'Artist': 27, 'Album': 17}\n",
      "Searching For Keith Mlevhu                                      {'Artist': 1, 'Album': 3}\n",
      "Searching For Francis Huster                                    {'Artist': 4, 'Album': 3}\n",
      "Searching For Lyle Murphy                                       {'Artist': 9, 'Album': 9}\n",
      "Searching For SuperStyleDeluxe                                  {'Artist': 4, 'Album': 12}\n",
      "Searching For Tremendous                                        {'Artist': 23, 'Album': 16}\n",
      "Searching For Isto                                              {'Artist': 39, 'Album': 17}\n",
      "Searching For Mandala (UK)                                      {'Artist': 6, 'Album': 10}\n",
      "Searching For Aïcha Cherif                                     {'Artist': 2, 'Album': 3}\n",
      "Searching For The Psycho Kid                                    {'Artist': 19, 'Album': 13}\n",
      "Searching For Ken Marvin                                        {'Artist': 9, 'Album': 11}\n",
      "Searching For Cumbia Soledena                                   {'Artist': 13, 'Album': 14}\n",
      "Searching For Acouphènes                                       {'Artist': 17, 'Album': 13}\n",
      "Searching For Meriton Celiku                                    {'Artist': 3, 'Album': 13}\n",
      " [Getting AppleMusic ArtistIDs] | 2250/?     : RunTime 3 Hour and 52 Minute.\n",
      "*****************************************************************************************************************************\n",
      "*                                                    Saving SearchArtist                                                    *\n",
      "*****************************************************************************************************************************\n",
      "  Saving Index [331557] ... Done\n",
      "  Saving Data [16125] ... Done\n",
      "  Saving Error [86] ... Done\n"
     ]
    },
    {
     "data": {
      "application/vnd.jupyter.widget-view+json": {
       "model_id": "7e6a857899ed4aa3a8e9ca62737fa38a",
       "version_major": 2,
       "version_minor": 0
      },
      "text/plain": [
       "Waiting:   0%|          | 0/50 [00:00<?, ?it/s]"
      ]
     },
     "metadata": {},
     "output_type": "display_data"
    },
    {
     "name": "stdout",
     "output_type": "stream",
     "text": [
      "Searching For Shiv Nigam                                        {'Artist': 10, 'Album': 10}\n",
      "Searching For Magic En El Beat                                  {'Artist': 14, 'Album': 13}\n",
      "Searching For José Asunción Flores                            {'Artist': 9, 'Album': 4}\n",
      "Searching For Subterranea                                       {'Artist': 28, 'Album': 17}\n",
      "Searching For Aslay                                             {'Artist': 5, 'Album': 14}\n",
      "Searching For Devi Aldiva                                       {'Artist': 12, 'Album': 17}\n",
      "Searching For Luxtides                                          {'Artist': 15, 'Album': 13}\n",
      "Searching For Partner Look                                      {'Artist': 5, 'Album': 5}\n",
      "Searching For Clarys                                            {'Artist': 16, 'Album': 10}\n",
      "Searching For Watusi Cult Leaders                               {'Artist': 4, 'Album': 4}\n",
      "Searching For Jeff DevilFish                                    {'Artist': 13, 'Album': 16}\n",
      "Searching For Mustafa JJ                                        {'Artist': 2, 'Album': 13}\n",
      "Searching For J Dugs                                            {'Artist': 1, 'Album': 6}\n",
      "Searching For Kaqq & Cheise                                     {'Artist': 1, 'Album': 1}\n",
      "Searching For Victor Guedez                                     {'Artist': 6, 'Album': 13}\n",
      "Searching For Stephane Lumiere                                  {'Artist': 2, 'Album': 11}\n",
      "Searching For Sandro Marini                                     {'Artist': 8, 'Album': 13}\n",
      "Searching For Merzlux                                           {'Artist': 2, 'Album': 3}\n",
      "Searching For Microhm                                           {'Artist': 4, 'Album': 10}\n",
      "Searching For Eddie Valdez                                      {'Artist': 24, 'Album': 11}\n",
      "Searching For Razem Ponad Kilo                                  {'Artist': 11, 'Album': 3}\n",
      "Searching For Henning Merten                                    {'Artist': 11, 'Album': 14}\n",
      "Searching For Loki                                              {'Artist': 34, 'Album': 19}\n",
      "Searching For Serjan                                            {'Artist': 18, 'Album': 15}\n",
      "Searching For Mundo Azul                                        {'Artist': 21, 'Album': 16}\n",
      " [Getting AppleMusic ArtistIDs] | 2275/?     : RunTime 3 Hour and 55 Minute.\n",
      "*****************************************************************************************************************************\n",
      "*                                                    Saving SearchArtist                                                    *\n",
      "*****************************************************************************************************************************\n",
      "  Saving Index [331582] ... Done\n",
      "  Saving Data [16150] ... Done\n",
      "  Saving Error [86] ... Done\n"
     ]
    },
    {
     "data": {
      "application/vnd.jupyter.widget-view+json": {
       "model_id": "edd06b875fd448aa9c38d9fa73253296",
       "version_major": 2,
       "version_minor": 0
      },
      "text/plain": [
       "Waiting:   0%|          | 0/50 [00:00<?, ?it/s]"
      ]
     },
     "metadata": {},
     "output_type": "display_data"
    },
    {
     "name": "stdout",
     "output_type": "stream",
     "text": [
      "Searching For Two Rangers                                       {'Artist': 17, 'Album': 11}\n",
      "Searching For Reinforcement                                     {'Artist': 27, 'Album': 16}\n",
      "Searching For Ludovic Llorca                                    {'Artist': 1, 'Album': 0}\n",
      "Searching For Young Decades                                     {'Artist': 4, 'Album': 13}\n",
      "Searching For Amaya Hnos                                        {'Artist': 2, 'Album': 8}\n",
      "Searching For SOUTHPAW CHOP                                     {'Artist': 3, 'Album': 6}\n",
      "Searching For Overheads                                         {'Artist': 26, 'Album': 12}\n",
      "Searching For Coffi                                             {'Artist': 18, 'Album': 14}\n",
      "Searching For Big Walter Price                                  {'Artist': 18, 'Album': 6}\n",
      "Searching For Exalta                                            {'Artist': 17, 'Album': 12}\n",
      "Searching For Lado Obscuro                                      {'Artist': 16, 'Album': 12}\n",
      "Searching For MF                                                {'Artist': 29, 'Album': 16}\n",
      "Searching For Baby Powder                                       {'Artist': 15, 'Album': 14}\n",
      "Searching For Niza Buenrostro                                   {'Artist': 8, 'Album': 13}\n",
      "Searching For Mohamed Sghir                                     {'Artist': 13, 'Album': 13}\n",
      "Searching For Martyr for Madison                                {'Artist': 2, 'Album': 11}\n",
      "Searching For DJ RIAN A                                         {'Artist': 36, 'Album': 17}\n",
      "Searching For Zyz                                               {'Artist': 19, 'Album': 13}\n",
      "Searching For Kaarel                                            {'Artist': 9, 'Album': 11}\n",
      "Searching For The Warning Shots                                 {'Artist': 18, 'Album': 11}\n",
      "Searching For Rolo                                              {'Artist': 27, 'Album': 14}\n",
      "Searching For MC Jimmy                                          {'Artist': 33, 'Album': 12}\n",
      "Searching For Johnny Pearson & His London Orchestra             {'Artist': 4, 'Album': 7}\n",
      "Searching For Del Bombers                                       {'Artist': 1, 'Album': 7}\n",
      "Searching For Richard Leigh Harris                              {'Artist': 3, 'Album': 3}\n",
      " [Getting AppleMusic ArtistIDs] | 2300/?     : RunTime 3 Hour and 57 Minute.\n",
      "*****************************************************************************************************************************\n",
      "*                                                    Saving SearchArtist                                                    *\n",
      "*****************************************************************************************************************************\n",
      "  Saving Index [331607] ... Done\n",
      "  Saving Data [16175] ... Done\n",
      "  Saving Error [86] ... Done\n"
     ]
    },
    {
     "data": {
      "application/vnd.jupyter.widget-view+json": {
       "model_id": "e83d17d1573148c886ae620e77624e72",
       "version_major": 2,
       "version_minor": 0
      },
      "text/plain": [
       "Waiting:   0%|          | 0/50 [00:00<?, ?it/s]"
      ]
     },
     "metadata": {},
     "output_type": "display_data"
    },
    {
     "name": "stdout",
     "output_type": "stream",
     "text": [
      "Searching For Susan Anderson Bell                               {'Artist': 3, 'Album': 4}\n",
      "Searching For Wicked Relish                                     {'Artist': 1, 'Album': 3}\n",
      "Searching For Yuridope                                          {'Artist': 19, 'Album': 16}\n",
      "Searching For KC1                                               {'Artist': 21, 'Album': 13}\n",
      "Searching For Smurfie Syco                                      {'Artist': 12, 'Album': 4}\n",
      "Searching For The Charging Bliss Project                        {'Artist': 1, 'Album': 0}\n",
      "Searching For Psychic Shakes                                    {'Artist': 1, 'Album': 10}\n",
      "Searching For Bill Swan                                         {'Artist': 1, 'Album': 9}\n",
      "Searching For Jean-Max Rivière                                 {'Artist': 2, 'Album': 0}\n",
      "Searching For Stash the Groove Bug                              {'Artist': 3, 'Album': 8}\n",
      "Searching For PALOMATIC                                         {'Artist': 1, 'Album': 3}\n",
      "Searching For Antwaarps Vervolg                                 {'Artist': 1, 'Album': 1}\n",
      "Searching For Tex Perkins and the Band of Gold                  {'Artist': 4, 'Album': 7}\n",
      "Searching For Obelija                                           {'Artist': 2, 'Album': 2}\n",
      "Searching For Friðryk                                           {'Artist': 1, 'Album': 4}\n",
      "Searching For Picture Music                                     {'Artist': 24, 'Album': 10}\n",
      "Searching For Rising Sun Systems                                {'Artist': 4, 'Album': 5}\n",
      "Searching For Xerónimo                                         {'Artist': 5, 'Album': 3}\n",
      "Searching For Twolate                                           {'Artist': 18, 'Album': 13}\n",
      "Searching For DJ Armand                                         {'Artist': 11, 'Album': 13}\n",
      "Searching For Kay9ine                                           {'Artist': 12, 'Album': 10}\n",
      "Searching For Short Stories                                     {'Artist': 34, 'Album': 19}\n",
      "Searching For Marsha Gee                                        {'Artist': 0, 'Album': 0}\n",
      "Searching For Nanette Newman                                    {'Artist': 1, 'Album': 1}\n",
      "Searching For Le Kéné-Star de Sikasso                         {'Artist': 1, 'Album': 1}\n",
      " [Getting AppleMusic ArtistIDs] | 2325/?     : RunTime 4 Hour and 35 Second.\n",
      "*****************************************************************************************************************************\n",
      "*                                                    Saving SearchArtist                                                    *\n",
      "*****************************************************************************************************************************\n",
      "  Saving Index [331632] ... Done\n",
      "  Saving Data [16200] ... Done\n",
      "  Saving Error [86] ... Done\n"
     ]
    },
    {
     "data": {
      "application/vnd.jupyter.widget-view+json": {
       "model_id": "a951fa9e6f4c44a9b04315b3bb70c03a",
       "version_major": 2,
       "version_minor": 0
      },
      "text/plain": [
       "Waiting:   0%|          | 0/50 [00:00<?, ?it/s]"
      ]
     },
     "metadata": {},
     "output_type": "display_data"
    },
    {
     "name": "stdout",
     "output_type": "stream",
     "text": [
      "Searching For 110% Pure                                         {'Artist': 16, 'Album': 13}\n",
      "Searching For Mud Acres                                         {'Artist': 10, 'Album': 4}\n",
      "Searching For A.F.C. Botswana                                   {'Artist': 0, 'Album': 0}\n",
      "Searching For Intexor + Sinesweeper                             {'Artist': 0, 'Album': 0}\n",
      "Searching For Outface                                           {'Artist': 7, 'Album': 9}\n",
      "Searching For Sei Hexe                                          {'Artist': 22, 'Album': 4}\n",
      "Searching For Cobras                                            {'Artist': 28, 'Album': 16}\n",
      "Searching For Los Brazos                                        {'Artist': 19, 'Album': 15}\n",
      "Searching For Ceasar Kiveli                                     {'Artist': 2, 'Album': 3}\n",
      "Searching For Klikk32                                           {'Artist': 2, 'Album': 8}\n",
      "Searching For Arakawa Band                                      {'Artist': 17, 'Album': 9}\n",
      "Searching For Winni II                                          {'Artist': 20, 'Album': 11}\n",
      "Searching For Marthyr                                           {'Artist': 28, 'Album': 15}\n",
      "Searching For Pedifile                                          {'Artist': 19, 'Album': 12}\n",
      "Searching For Head-On                                           {'Artist': 28, 'Album': 16}\n",
      "Searching For M.E.G.                                            {'Artist': 24, 'Album': 19}\n",
      "Searching For Tarik                                             {'Artist': 35, 'Album': 17}\n",
      "Searching For Néstor Ramljak                                   {'Artist': 16, 'Album': 12}\n",
      "Searching For Sean 1da                                          {'Artist': 30, 'Album': 14}\n",
      "Searching For Fritz Hager                                       {'Artist': 2, 'Album': 6}\n",
      "Searching For Ess2Mad                                           {'Artist': 10, 'Album': 13}\n",
      "Searching For Yusuf Harputlu                                    {'Artist': 1, 'Album': 7}\n",
      "Searching For G Sudden                                          {'Artist': 4, 'Album': 9}\n",
      "Searching For Neroun                                            {'Artist': 15, 'Album': 15}\n",
      "Searching For Zomando                                           {'Artist': 3, 'Album': 14}\n",
      " [Getting AppleMusic ArtistIDs] | 2350/?     : RunTime 4 Hour and 3 Minute.\n",
      "*****************************************************************************************************************************\n",
      "*                                                    Saving SearchArtist                                                    *\n",
      "*****************************************************************************************************************************\n",
      "  Saving Index [331657] ... Done\n",
      "  Saving Data [16225] ... Done\n",
      "  Saving Error [86] ... Done\n"
     ]
    },
    {
     "data": {
      "application/vnd.jupyter.widget-view+json": {
       "model_id": "91eb9b38f8954f2ab3098c82506b0c8e",
       "version_major": 2,
       "version_minor": 0
      },
      "text/plain": [
       "Waiting:   0%|          | 0/50 [00:00<?, ?it/s]"
      ]
     },
     "metadata": {},
     "output_type": "display_data"
    },
    {
     "name": "stdout",
     "output_type": "stream",
     "text": [
      "Searching For Andy & the Live Wires                             {'Artist': 6, 'Album': 15}\n",
      "Searching For Matt Werth                                        {'Artist': 18, 'Album': 13}\n",
      "Searching For Osvaldo Sosa Cordero                              {'Artist': 6, 'Album': 3}\n",
      "Searching For Ian Luff                                          {'Artist': 2, 'Album': 1}\n",
      "Searching For Kolacny Brothers                                  {'Artist': 5, 'Album': 13}\n",
      "Searching For AdjoinY                                           {'Artist': 7, 'Album': 13}\n",
      "Searching For Waste Mankind                                     {'Artist': 4, 'Album': 5}\n",
      "Searching For Daina Dieva                                       {'Artist': 3, 'Album': 4}\n",
      "Searching For ADU                                               {'Artist': 30, 'Album': 14}\n",
      "Searching For The Musicmakers                                   {'Artist': 15, 'Album': 7}\n",
      "Searching For Martín Beltrán                                  {'Artist': 9, 'Album': 10}\n",
      "Searching For Sekhar                                            {'Artist': 41, 'Album': 15}\n",
      "Searching For Sera Kalo                                         {'Artist': 13, 'Album': 9}\n",
      "Searching For Kimmo Huusko                                      {'Artist': 0, 'Album': 0}\n",
      "Searching For Darwich                                           {'Artist': 18, 'Album': 9}\n",
      "Searching For Dynamic Emotion                                   {'Artist': 5, 'Album': 12}\n",
      "Searching For The All New Adventures Of Us                      {'Artist': 6, 'Album': 7}\n",
      "Searching For Sifat                                             {'Artist': 21, 'Album': 14}\n",
      "Searching For Benny Crespo's Gang                               {'Artist': 1, 'Album': 4}\n",
      "Searching For Bluehost                                          {'Artist': 1, 'Album': 9}\n",
      "Searching For Khepri                                            {'Artist': 28, 'Album': 15}\n",
      "Searching For Knell Anwyll                                      {'Artist': 1, 'Album': 7}\n",
      "Searching For Aysel                                             {'Artist': 27, 'Album': 12}\n",
      "Searching For Sudeep palanad                                    {'Artist': 17, 'Album': 14}\n",
      "Searching For Los Mitos MX                                      {'Artist': 2, 'Album': 10}\n",
      " [Getting AppleMusic ArtistIDs] | 2375/?     : RunTime 4 Hour and 5 Minute.\n",
      "*****************************************************************************************************************************\n",
      "*                                                    Saving SearchArtist                                                    *\n",
      "*****************************************************************************************************************************\n",
      "  Saving Index [331682] ... Done\n",
      "  Saving Data [16250] ... Done\n",
      "  Saving Error [86] ... Done\n"
     ]
    },
    {
     "data": {
      "application/vnd.jupyter.widget-view+json": {
       "model_id": "2418928c31d9461c92c053b623d42eab",
       "version_major": 2,
       "version_minor": 0
      },
      "text/plain": [
       "Waiting:   0%|          | 0/50 [00:00<?, ?it/s]"
      ]
     },
     "metadata": {},
     "output_type": "display_data"
    },
    {
     "name": "stdout",
     "output_type": "stream",
     "text": [
      "Searching For Tatyana Kalmykova                                 {'Artist': 9, 'Album': 8}\n",
      "Searching For The Trichomes                                     {'Artist': 1, 'Album': 7}\n",
      "Searching For Wyld                                              {'Artist': 23, 'Album': 14}\n",
      "Searching For Kemback                                           {'Artist': 2, 'Album': 9}\n",
      "Searching For The Cult of Boydah                                {'Artist': 1, 'Album': 3}\n",
      "Searching For Frangipani                                        {'Artist': 20, 'Album': 13}\n",
      "Searching For Juodvarnis                                        {'Artist': 1, 'Album': 7}\n",
      "Searching For Dr. Tony Evans                                    {'Artist': 7, 'Album': 8}\n",
      "Searching For Hanzo The Phantom                                 {'Artist': 4, 'Album': 9}\n",
      "Searching For Dark Legion                                       {'Artist': 11, 'Album': 13}\n",
      "Searching For Dear Me                                           {'Artist': 19, 'Album': 15}\n",
      "Searching For Tony Seal                                         {'Artist': 7, 'Album': 14}\n",
      "Searching For Wendy Blake                                       {'Artist': 11, 'Album': 8}\n",
      "Searching For Mauno Gang                                        {'Artist': 1, 'Album': 2}\n",
      "Searching For L0key Wavey                                       {'Artist': 2, 'Album': 8}\n",
      "Searching For Urban Groove                                      {'Artist': 28, 'Album': 17}\n",
      "Searching For Dominique Falk                                    {'Artist': 1, 'Album': 13}\n",
      "Searching For Ella Riot                                         {'Artist': 8, 'Album': 4}\n",
      "Searching For Denyerkin                                         {'Artist': 24, 'Album': 15}\n",
      "Searching For Swapan Chakrabarti                                {'Artist': 10, 'Album': 11}\n",
      "Searching For Percy Whitlock                                    {'Artist': 22, 'Album': 9}\n",
      "Searching For Mason Porter                                      {'Artist': 3, 'Album': 8}\n",
      "Searching For Jose Guerrero                                     {'Artist': 22, 'Album': 13}\n",
      "Searching For Phantom Boy                                       {'Artist': 14, 'Album': 14}\n",
      "Searching For Maaike Siegerist                                  {'Artist': 1, 'Album': 8}\n",
      " [Getting AppleMusic ArtistIDs] | 2400/?     : RunTime 4 Hour and 8 Minute.\n",
      "*****************************************************************************************************************************\n",
      "*                                                    Saving SearchArtist                                                    *\n",
      "*****************************************************************************************************************************\n",
      "  Saving Index [331707] ... Done\n",
      "  Saving Data [16275] ... Done\n",
      "  Saving Error [86] ... Done\n"
     ]
    },
    {
     "data": {
      "application/vnd.jupyter.widget-view+json": {
       "model_id": "10dc2f5075ce4100bd37eec0493cca8c",
       "version_major": 2,
       "version_minor": 0
      },
      "text/plain": [
       "Waiting:   0%|          | 0/50 [00:00<?, ?it/s]"
      ]
     },
     "metadata": {},
     "output_type": "display_data"
    },
    {
     "name": "stdout",
     "output_type": "stream",
     "text": [
      "Searching For Thurneman                                         {'Artist': 4, 'Album': 7}\n",
      "Searching For Hargonath                                         {'Artist': 0, 'Album': 0}\n",
      "Searching For Moth Eater                                        {'Artist': 4, 'Album': 4}\n",
      "Searching For Devilium                                          {'Artist': 3, 'Album': 4}\n",
      "Searching For Ortiz                                             {'Artist': 24, 'Album': 8}\n",
      "Searching For Pancho Amat Y El Cabildo Del Son                  {'Artist': 6, 'Album': 7}\n",
      "Searching For Glass Keys                                        {'Artist': 12, 'Album': 13}\n",
      "Searching For JP Fernandez                                      {'Artist': 21, 'Album': 13}\n",
      "Searching For Neodyne Project                                   {'Artist': 2, 'Album': 9}\n",
      "Searching For Computer Science                                  {'Artist': 20, 'Album': 15}\n",
      "Searching For o.utlier                                          {'Artist': 21, 'Album': 12}\n",
      "Searching For Zizi                                              {'Artist': 21, 'Album': 13}\n",
      "Searching For Rogelio Gutiérrez y Su Conjunto                  {'Artist': 6, 'Album': 7}\n",
      "Searching For Alex Cooksley                                     {'Artist': 4, 'Album': 14}\n",
      "Searching For Adamant Scream                                    {'Artist': 4, 'Album': 6}\n",
      "Searching For Mr. Noun                                          {'Artist': 9, 'Album': 10}\n",
      "Searching For R.I.P Kenny                                       {'Artist': 27, 'Album': 17}\n",
      "Searching For Rapsters Nation                                   {'Artist': 1, 'Album': 6}\n",
      "Searching For Greatest Lakes                                    {'Artist': 6, 'Album': 7}\n",
      "Searching For Pedro Juan Rivera                                 {'Artist': 13, 'Album': 4}\n",
      "Searching For OT.TO                                             {'Artist': 16, 'Album': 12}\n",
      "Searching For Martin Brown                                      {'Artist': 14, 'Album': 10}\n",
      "Searching For Cheryl Reid O'Hagan                               {'Artist': 1, 'Album': 3}\n",
      "Searching For Funkmasters                                       {'Artist': 19, 'Album': 10}\n",
      "Searching For Jamie Safir                                       {'Artist': 7, 'Album': 8}\n",
      " [Getting AppleMusic ArtistIDs] | 2425/?     : RunTime 4 Hour and 10 Minute.\n",
      "*****************************************************************************************************************************\n",
      "*                                                    Saving SearchArtist                                                    *\n",
      "*****************************************************************************************************************************\n",
      "  Saving Index [331732] ... Done\n",
      "  Saving Data [16300] ... Done\n",
      "  Saving Error [86] ... Done\n"
     ]
    },
    {
     "data": {
      "application/vnd.jupyter.widget-view+json": {
       "model_id": "2ae8c12da2954a4398570d4b6fa71bb5",
       "version_major": 2,
       "version_minor": 0
      },
      "text/plain": [
       "Waiting:   0%|          | 0/50 [00:00<?, ?it/s]"
      ]
     },
     "metadata": {},
     "output_type": "display_data"
    },
    {
     "name": "stdout",
     "output_type": "stream",
     "text": [
      "Searching For Kyngjai                                           {'Artist': 1, 'Album': 10}\n",
      "Searching For Carlos G                                          {'Artist': 27, 'Album': 10}\n",
      "Searching For Andy Lane                                         {'Artist': 4, 'Album': 13}\n",
      "Searching For Eli Rose                                          {'Artist': 9, 'Album': 12}\n",
      "Searching For Chandrasena Hettiarachchi                         {'Artist': 3, 'Album': 13}\n",
      "Searching For BHIKHARI BAL                                      {'Artist': 2, 'Album': 1}\n",
      "Searching For MNMNTS                                            {'Artist': 2, 'Album': 3}\n",
      "Searching For gfire                                             {'Artist': 26, 'Album': 15}\n",
      "Searching For DDDXIE                                            {'Artist': 6, 'Album': 8}\n",
      "Searching For Sunfighter                                        {'Artist': 8, 'Album': 8}\n",
      "Searching For Robot Redford                                     {'Artist': 9, 'Album': 12}\n",
      "Searching For Lil Mabu                                          {'Artist': 11, 'Album': 12}\n",
      "Searching For The Sweetheart                                    {'Artist': 28, 'Album': 15}\n",
      "Searching For Hurry, Eskimo                                     {'Artist': 2, 'Album': 4}\n",
      "Searching For RUBY DA $LOTH                                     {'Artist': 4, 'Album': 8}\n",
      "Searching For Bobby Trixx                                       {'Artist': 6, 'Album': 14}\n",
      "Searching For Tania Karra                                       {'Artist': 1, 'Album': 5}\n",
      "Searching For Gaelle Addison                                    {'Artist': 2, 'Album': 1}\n",
      "Searching For Dangerwank                                        {'Artist': 5, 'Album': 7}\n",
      "Searching For By Proxy Music                                    {'Artist': 23, 'Album': 16}\n",
      "Searching For Tilden Parc                                       {'Artist': 3, 'Album': 14}\n",
      "Searching For Ana Herrero                                       {'Artist': 10, 'Album': 10}\n",
      "Searching For Flowen                                            {'Artist': 16, 'Album': 12}\n",
      "Searching For Poor Man's Gambit                                 {'Artist': 1, 'Album': 3}\n",
      "Searching For Guava Duff                                        {'Artist': 1, 'Album': 3}\n",
      " [Getting AppleMusic ArtistIDs] | 2450/?     : RunTime 4 Hour and 13 Minute.\n",
      "*****************************************************************************************************************************\n",
      "*                                                    Saving SearchArtist                                                    *\n",
      "*****************************************************************************************************************************\n",
      "  Saving Index [331757] ... Done\n",
      "  Saving Data [16325] ... Done\n",
      "  Saving Error [86] ... Done\n"
     ]
    },
    {
     "data": {
      "application/vnd.jupyter.widget-view+json": {
       "model_id": "a4f5606c23914aacaa80ed13cb841b75",
       "version_major": 2,
       "version_minor": 0
      },
      "text/plain": [
       "Waiting:   0%|          | 0/50 [00:00<?, ?it/s]"
      ]
     },
     "metadata": {},
     "output_type": "display_data"
    },
    {
     "name": "stdout",
     "output_type": "stream",
     "text": [
      "Searching For Tesla Quartet                                     {'Artist': 4, 'Album': 3}\n",
      "Searching For Tombstone Blue                                    {'Artist': 8, 'Album': 7}\n",
      "Searching For Zoey Wren                                         {'Artist': 2, 'Album': 7}\n",
      "Searching For Jeff and Paige                                    {'Artist': 21, 'Album': 7}\n",
      "Searching For Hazard To Ya Booty                                {'Artist': 5, 'Album': 4}\n",
      "Searching For Lick Creek                                        {'Artist': 2, 'Album': 5}\n",
      "Searching For Mercy Road Team                                   {'Artist': 1, 'Album': 4}\n",
      "Searching For Bethel University Department of Music             {'Artist': 1, 'Album': 3}\n",
      "Searching For The Hallucinant Telepherique                      {'Artist': 1, 'Album': 3}\n",
      "Searching For Felt Hat String Band                              {'Artist': 12, 'Album': 14}\n",
      "Searching For Chelsea McBride's Socialist Night School          {'Artist': 1, 'Album': 3}\n",
      "Searching For Mozartists Vienna                                 {'Artist': 2, 'Album': 3}\n",
      "Searching For Pulp Dogs                                         {'Artist': 4, 'Album': 5}\n",
      "Searching For Trio Archangelo Corelli                           {'Artist': 17, 'Album': 8}\n",
      "Searching For Billy Dean and Dawn                               {'Artist': 1, 'Album': 3}\n",
      "Searching For Tart Flakey and the Jazz Catheters                {'Artist': 1, 'Album': 3}\n",
      "Searching For Sherrie Shepherd                                  {'Artist': 3, 'Album': 4}\n",
      "Searching For Martin L. Dumas Jr.                               {'Artist': 1, 'Album': 2}\n",
      "Searching For Schillah                                          {'Artist': 12, 'Album': 16}\n",
      "Searching For Casket of Dreams                                  {'Artist': 12, 'Album': 13}\n",
      "Searching For King Youngblood                                   {'Artist': 5, 'Album': 8}\n",
      "Searching For Cornelius Jakhelln                                {'Artist': 0, 'Album': 0}\n",
      "Searching For Mario Légaré                                    {'Artist': 9, 'Album': 3}\n",
      "Searching For Steven Walcott                                    {'Artist': 10, 'Album': 4}\n",
      "Searching For Steve Koven Trio                                  {'Artist': 1, 'Album': 4}\n",
      " [Getting AppleMusic ArtistIDs] | 2475/?     : RunTime 4 Hour and 16 Minute.\n",
      "*****************************************************************************************************************************\n",
      "*                                                    Saving SearchArtist                                                    *\n",
      "*****************************************************************************************************************************\n",
      "  Saving Index [331782] ... Done\n",
      "  Saving Data [16350] ... Done\n",
      "  Saving Error [86] ... Done\n"
     ]
    },
    {
     "data": {
      "application/vnd.jupyter.widget-view+json": {
       "model_id": "ffbeebd0068e456aa69279cafd3c4553",
       "version_major": 2,
       "version_minor": 0
      },
      "text/plain": [
       "Waiting:   0%|          | 0/50 [00:00<?, ?it/s]"
      ]
     },
     "metadata": {},
     "output_type": "display_data"
    },
    {
     "name": "stdout",
     "output_type": "stream",
     "text": [
      "Searching For Justine Frischmann                                {'Artist': 3, 'Album': 2}\n",
      "Searching For Joe Warren Cormier                                {'Artist': 1, 'Album': 2}\n",
      "Searching For Marót Viki és a Nova Kultúr zenekar            {'Artist': 3, 'Album': 4}\n",
      "Searching For Beat Mavericks                                    {'Artist': 4, 'Album': 10}\n",
      "Searching For SPIT                                              {'Artist': 33, 'Album': 16}\n",
      "Searching For Dead Gum                                          {'Artist': 15, 'Album': 13}\n",
      "Searching For Greg Bonham                                       {'Artist': 1, 'Album': 3}\n",
      "Searching For Ansgar Wilken                                     {'Artist': 0, 'Album': 0}\n",
      "Searching For Borlai Gergő                                     {'Artist': 14, 'Album': 8}\n",
      "Searching For Terg                                              {'Artist': 16, 'Album': 13}\n",
      "Searching For Norma Hendy                                       {'Artist': 1, 'Album': 13}\n",
      "Searching For Tooth Decay                                       {'Artist': 17, 'Album': 14}\n",
      "Searching For Sharpwaist                                        {'Artist': 0, 'Album': 0}\n",
      "Searching For Monopolka                                         {'Artist': 9, 'Album': 4}\n",
      "Searching For Gangsters d'Amour                                 {'Artist': 14, 'Album': 16}\n",
      "Searching For The Next Generation                               {'Artist': 38, 'Album': 15}\n",
      "Searching For Netherworld Dancing Toys                          {'Artist': 1, 'Album': 1}\n",
      "Searching For Ray Lev                                           {'Artist': 13, 'Album': 8}\n",
      "Searching For The Beautiful Babies                              {'Artist': 26, 'Album': 14}\n",
      "Searching For Scratchclart                                      {'Artist': 8, 'Album': 8}\n",
      "Searching For Appäratus                                        {'Artist': 24, 'Album': 14}\n",
      "Searching For King Masco                                        {'Artist': 13, 'Album': 13}\n",
      "Searching For Walter Rehberg                                    {'Artist': 1, 'Album': 3}\n",
      "Searching For Four One and Only's                               Code={response.code}\n",
      "Search Error ==> Four One and Only's: NotDict\n",
      "Searching For Otto Joachim                                      {'Artist': 40, 'Album': 12}\n",
      "Searching For Lucien Muratore                                   {'Artist': 6, 'Album': 5}\n",
      " [Getting AppleMusic ArtistIDs] | 2500/?     : RunTime 4 Hour and 18 Minute.\n",
      "*****************************************************************************************************************************\n",
      "*                                                    Saving SearchArtist                                                    *\n",
      "*****************************************************************************************************************************\n",
      "  Saving Index [331807] ... Done\n",
      "  Saving Data [16375] ... Done\n",
      "  Saving Error [87] ... Done\n"
     ]
    },
    {
     "data": {
      "application/vnd.jupyter.widget-view+json": {
       "model_id": "47667fe1e114467e9dafeca5e5ed891b",
       "version_major": 2,
       "version_minor": 0
      },
      "text/plain": [
       "Waiting:   0%|          | 0/50 [00:00<?, ?it/s]"
      ]
     },
     "metadata": {},
     "output_type": "display_data"
    },
    {
     "name": "stdout",
     "output_type": "stream",
     "text": [
      "Searching For Jan Weiler                                        {'Artist': 4, 'Album': 1}\n",
      "Searching For Passagerarna                                      {'Artist': 2, 'Album': 2}\n",
      "Searching For Second to None                                    {'Artist': 27, 'Album': 16}\n",
      "Searching For Schola Cantorum Cantate Domino                    {'Artist': 1, 'Album': 3}\n",
      "Searching For The Barton Brothers                               {'Artist': 9, 'Album': 9}\n",
      "Searching For Buddy Tate's Orchestra                            {'Artist': 15, 'Album': 3}\n",
      "Searching For Marian Love                                       {'Artist': 10, 'Album': 9}\n",
      "Searching For Jacques Mercier                                   {'Artist': 9, 'Album': 9}\n",
      "Searching For Danylo Aprile                                     {'Artist': 1, 'Album': 9}\n",
      "Searching For James Gordon Anderson                             {'Artist': 1, 'Album': 14}\n",
      "Searching For Lo Vita                                           {'Artist': 21, 'Album': 16}\n",
      "Searching For Santosh Toshi                                     {'Artist': 10, 'Album': 16}\n",
      "Searching For Heyzeus                                           {'Artist': 17, 'Album': 12}\n",
      "Searching For Femi Koya                                         {'Artist': 8, 'Album': 13}\n",
      "Searching For Raving Donkey                                     {'Artist': 29, 'Album': 13}\n",
      "Searching For Mariatti                                          {'Artist': 15, 'Album': 13}\n",
      "Searching For Real Connoisseur                                  {'Artist': 4, 'Album': 11}\n",
      "Searching For Spyral                                            {'Artist': 23, 'Album': 15}\n",
      "Searching For Niuver                                            {'Artist': 5, 'Album': 10}\n",
      "Searching For Project Subtek                                    {'Artist': 3, 'Album': 15}\n",
      "Searching For Moffous                                           {'Artist': 6, 'Album': 13}\n",
      "Searching For De Delvers                                        {'Artist': 1, 'Album': 7}\n",
      "Searching For LifeHouse Theater On-The-Air                      {'Artist': 1, 'Album': 7}\n",
      "Searching For Stamina Shorwebwenzi                              {'Artist': 3, 'Album': 8}\n",
      "Searching For Deelay                                            {'Artist': 18, 'Album': 13}\n",
      " [Getting AppleMusic ArtistIDs] | 2525/?     : RunTime 4 Hour and 21 Minute.\n",
      "*****************************************************************************************************************************\n",
      "*                                                    Saving SearchArtist                                                    *\n",
      "*****************************************************************************************************************************\n",
      "  Saving Index [331832] ... Done\n",
      "  Saving Data [16400] ... Done\n",
      "  Saving Error [87] ... Done\n"
     ]
    },
    {
     "data": {
      "application/vnd.jupyter.widget-view+json": {
       "model_id": "f2adb28177354764bcc95729103db7f4",
       "version_major": 2,
       "version_minor": 0
      },
      "text/plain": [
       "Waiting:   0%|          | 0/50 [00:00<?, ?it/s]"
      ]
     },
     "metadata": {},
     "output_type": "display_data"
    },
    {
     "name": "stdout",
     "output_type": "stream",
     "text": [
      "Searching For Tommy Iceland                                     {'Artist': 8, 'Album': 12}\n",
      "Searching For The Lazy Boyz                                     {'Artist': 20, 'Album': 13}\n",
      "Searching For The Crompton Set                                  {'Artist': 4, 'Album': 5}\n",
      "Searching For Phase 5 Stereo                                    {'Artist': 1, 'Album': 4}\n",
      "Searching For Julian Philipp David                              {'Artist': 1, 'Album': 11}\n",
      "Searching For Late Era                                          {'Artist': 5, 'Album': 9}\n",
      "Searching For Bos Taurus                                        {'Artist': 11, 'Album': 14}\n",
      "Searching For House Eater Dobo                                  {'Artist': 2, 'Album': 11}\n",
      "Searching For Indo Aminata                                      {'Artist': 2, 'Album': 9}\n",
      "Searching For Austen-Scott                                      {'Artist': 3, 'Album': 7}\n",
      "Searching For Gregory B                                         {'Artist': 29, 'Album': 15}\n",
      "Searching For Architectural Genocide                            {'Artist': 2, 'Album': 5}\n",
      "Searching For Dark Mean                                         {'Artist': 4, 'Album': 7}\n",
      "Searching For Zacharias                                         {'Artist': 18, 'Album': 11}\n",
      "Searching For The Havenot's                                     {'Artist': 30, 'Album': 18}\n",
      "Searching For Toczek                                            {'Artist': 8, 'Album': 11}\n",
      "Searching For Pale Ache                                         {'Artist': 1, 'Album': 5}\n",
      "Searching For Lionel Hampton & His Quintet                      {'Artist': 10, 'Album': 5}\n",
      "Searching For Joaquim Cordeiro                                  {'Artist': 3, 'Album': 2}\n",
      "Searching For Gene O'Quin                                       {'Artist': 3, 'Album': 1}\n",
      "Searching For Gerardo Matos Rodríguez                          {'Artist': 25, 'Album': 12}\n",
      "Searching For GloFromDa4                                        {'Artist': 4, 'Album': 14}\n",
      "Searching For Androoval                                         {'Artist': 5, 'Album': 8}\n",
      "Searching For Biblo el Nagual                                   {'Artist': 9, 'Album': 14}\n",
      "Searching For Fenix Project                                     {'Artist': 4, 'Album': 12}\n",
      " [Getting AppleMusic ArtistIDs] | 2550/?     : RunTime 4 Hour and 24 Minute.\n",
      "*****************************************************************************************************************************\n",
      "*                                                    Saving SearchArtist                                                    *\n",
      "*****************************************************************************************************************************\n",
      "  Saving Index [331857] ... Done\n",
      "  Saving Data [16425] ... Done\n",
      "  Saving Error [87] ... Done\n"
     ]
    },
    {
     "data": {
      "application/vnd.jupyter.widget-view+json": {
       "model_id": "5c2d71a7ca854552b2ef163f509b1026",
       "version_major": 2,
       "version_minor": 0
      },
      "text/plain": [
       "Waiting:   0%|          | 0/50 [00:00<?, ?it/s]"
      ]
     },
     "metadata": {},
     "output_type": "display_data"
    },
    {
     "name": "stdout",
     "output_type": "stream",
     "text": [
      "Searching For Krapulax                                          {'Artist': 8, 'Album': 10}\n",
      "Searching For Dylan Jordan                                      {'Artist': 3, 'Album': 14}\n",
      "Searching For Lado Madheshiya                                   {'Artist': 14, 'Album': 13}\n",
      "Searching For Devillas                                          {'Artist': 11, 'Album': 14}\n",
      "Searching For Deep-Maker                                        {'Artist': 10, 'Album': 12}\n",
      "Searching For Vidojean X Oliver Loenn                           {'Artist': 3, 'Album': 12}\n",
      "Searching For Michael Gordon Shapiro                            {'Artist': 19, 'Album': 5}\n",
      "Searching For X&Y                                               {'Artist': 25, 'Album': 12}\n",
      "Searching For Midnight Garden                                   {'Artist': 21, 'Album': 14}\n",
      "Searching For Albert Gonzalez                                   {'Artist': 14, 'Album': 12}\n",
      "Searching For Kosmik                                            {'Artist': 25, 'Album': 15}\n",
      "Searching For Jordnmoody                                        {'Artist': 11, 'Album': 14}\n",
      "Searching For Sosa Kriminell                                    {'Artist': 7, 'Album': 10}\n",
      "Searching For Menkena                                           {'Artist': 1, 'Album': 0}\n",
      "Searching For Future Brain                                      {'Artist': 4, 'Album': 14}\n",
      "Searching For Coosje Smid                                       {'Artist': 7, 'Album': 13}\n",
      "Searching For Experienced?!?                                    {'Artist': 19, 'Album': 8}\n",
      "Searching For Beverly Wright                                    {'Artist': 2, 'Album': 10}\n",
      "Searching For King Mizery                                       {'Artist': 11, 'Album': 14}\n",
      "Searching For Johnson & Häggkvist                              {'Artist': 1, 'Album': 1}\n",
      "Searching For Marcus Ariah                                      {'Artist': 2, 'Album': 10}\n",
      "Searching For Ayshe                                             {'Artist': 11, 'Album': 13}\n",
      "Searching For Nana O. Afriyie                                   {'Artist': 5, 'Album': 8}\n",
      "Searching For Madvim                                            {'Artist': 2, 'Album': 9}\n",
      "Searching For BriskInTheHouse                                   {'Artist': 7, 'Album': 11}\n",
      " [Getting AppleMusic ArtistIDs] | 2575/?     : RunTime 4 Hour and 26 Minute.\n",
      "*****************************************************************************************************************************\n",
      "*                                                    Saving SearchArtist                                                    *\n",
      "*****************************************************************************************************************************\n",
      "  Saving Index [331882] ... Done\n",
      "  Saving Data [16450] ... Done\n",
      "  Saving Error [87] ... Done\n"
     ]
    },
    {
     "data": {
      "application/vnd.jupyter.widget-view+json": {
       "model_id": "d923d0b5ebcf43b1803b4e59ec8eafae",
       "version_major": 2,
       "version_minor": 0
      },
      "text/plain": [
       "Waiting:   0%|          | 0/50 [00:00<?, ?it/s]"
      ]
     },
     "metadata": {},
     "output_type": "display_data"
    },
    {
     "name": "stdout",
     "output_type": "stream",
     "text": [
      "Searching For Shy Kidx                                          {'Artist': 10, 'Album': 12}\n",
      "Searching For Kiddy                                             {'Artist': 21, 'Album': 8}\n",
      "Searching For Angmaer                                           {'Artist': 6, 'Album': 7}\n",
      "Searching For Myth of a Life                                    {'Artist': 4, 'Album': 7}\n",
      "Searching For Fátima Pinto                                     {'Artist': 5, 'Album': 12}\n",
      "Searching For Kristien Hemmerechts                              {'Artist': 4, 'Album': 2}\n",
      "Searching For Meth Rats                                         {'Artist': 4, 'Album': 7}\n",
      "Searching For Steven Page                                       {'Artist': 19, 'Album': 10}\n",
      "Searching For Will Vill                                         {'Artist': 6, 'Album': 9}\n",
      "Searching For De Laatste Match van Ivan Lendl                   {'Artist': 1, 'Album': 9}\n",
      "Searching For Nathan Bartell                                    {'Artist': 4, 'Album': 9}\n",
      "Searching For Félix Máximo López                             {'Artist': 7, 'Album': 5}\n",
      "Searching For William Rousseau                                  {'Artist': 12, 'Album': 4}\n",
      "Searching For Blaketheman1000                                   {'Artist': 3, 'Album': 14}\n",
      "Searching For collectif9                                        {'Artist': 2, 'Album': 4}\n",
      "Searching For King's Division Waterloo Band                     {'Artist': 2, 'Album': 7}\n",
      "Searching For Urban Legends Cult                                {'Artist': 1, 'Album': 11}\n",
      "Searching For Jan Pietrzak                                      {'Artist': 12, 'Album': 5}\n",
      "Searching For Von Daler & Low Pressure                          {'Artist': 4, 'Album': 10}\n",
      "Searching For Dead like Me                                      {'Artist': 22, 'Album': 14}\n",
      "Searching For Phil Minton Quartet                               {'Artist': 21, 'Album': 2}\n",
      "Searching For Rektor                                            {'Artist': 18, 'Album': 10}\n",
      "Searching For Danny Boyle                                       {'Artist': 9, 'Album': 16}\n",
      "Searching For Springer                                          {'Artist': 29, 'Album': 14}\n",
      "Searching For Day Tripper                                       {'Artist': 20, 'Album': 12}\n",
      " [Getting AppleMusic ArtistIDs] | 2600/?     : RunTime 4 Hour and 29 Minute.\n",
      "*****************************************************************************************************************************\n",
      "*                                                    Saving SearchArtist                                                    *\n",
      "*****************************************************************************************************************************\n",
      "  Saving Index [331907] ... Done\n",
      "  Saving Data [16475] ... Done\n",
      "  Saving Error [87] ... Done\n"
     ]
    },
    {
     "data": {
      "application/vnd.jupyter.widget-view+json": {
       "model_id": "b28c75e5985f4c9ba7f5df8f8a474b8f",
       "version_major": 2,
       "version_minor": 0
      },
      "text/plain": [
       "Waiting:   0%|          | 0/50 [00:00<?, ?it/s]"
      ]
     },
     "metadata": {},
     "output_type": "display_data"
    },
    {
     "name": "stdout",
     "output_type": "stream",
     "text": [
      "Searching For Olga Guðrún Árnadóttir                         {'Artist': 2, 'Album': 2}\n",
      "Searching For MANdolinMAN                                       {'Artist': 7, 'Album': 8}\n",
      "Searching For Sissyfit                                          {'Artist': 3, 'Album': 7}\n",
      "Searching For Federica Fornabaio                                {'Artist': 2, 'Album': 4}\n",
      "Searching For Soulcat E-Phife                                   {'Artist': 6, 'Album': 7}\n",
      "Searching For Vilniaus energija                                 {'Artist': 2, 'Album': 5}\n",
      "Searching For Антон Зацепин                                     {'Artist': 8, 'Album': 6}\n",
      "Searching For Малолетка                                         {'Artist': 17, 'Album': 14}\n",
      "Searching For Basic Plumbing                                    {'Artist': 2, 'Album': 6}\n",
      "Searching For Quinteto Fantasía                                {'Artist': 4, 'Album': 5}\n",
      "Searching For Man Watching the Stars                            Code={response.code}\n",
      "Search Error ==> Man Watching the Stars: NotDict\n",
      "Searching For Han Dong Jun                                      {'Artist': 53, 'Album': 15}\n",
      "Searching For Me The Guts                                       {'Artist': 22, 'Album': 17}\n",
      "Searching For Emian                                             {'Artist': 5, 'Album': 7}\n",
      "Searching For Doodle                                            {'Artist': 33, 'Album': 17}\n",
      "Searching For Rock Angels                                       {'Artist': 23, 'Album': 17}\n",
      "Searching For Dave Neabore                                      {'Artist': 3, 'Album': 8}\n",
      "Searching For Sergio Serrano                                    {'Artist': 6, 'Album': 7}\n",
      "Searching For Luxi                                              {'Artist': 22, 'Album': 14}\n",
      "Searching For Александр Добрынин                                {'Artist': 1, 'Album': 6}\n",
      "Searching For Vomitface                                         {'Artist': 1, 'Album': 4}\n",
      "Searching For Franky Demon                                      {'Artist': 2, 'Album': 7}\n",
      "Searching For Phillippe                                         {'Artist': 28, 'Album': 13}\n",
      "Searching For Joa                                               {'Artist': 30, 'Album': 14}\n",
      "Searching For Lil Ashley                                        {'Artist': 28, 'Album': 15}\n",
      "Searching For Sonia Spinello                                    {'Artist': 5, 'Album': 6}\n",
      " [Getting AppleMusic ArtistIDs] | 2625/?     : RunTime 4 Hour and 32 Minute.\n",
      "*****************************************************************************************************************************\n",
      "*                                                    Saving SearchArtist                                                    *\n",
      "*****************************************************************************************************************************\n",
      "  Saving Index [331932] ... Done\n",
      "  Saving Data [16500] ... Done\n",
      "  Saving Error [88] ... Done\n"
     ]
    },
    {
     "data": {
      "application/vnd.jupyter.widget-view+json": {
       "model_id": "4de33a91887141c1bfe8cd5aed133eba",
       "version_major": 2,
       "version_minor": 0
      },
      "text/plain": [
       "Waiting:   0%|          | 0/50 [00:00<?, ?it/s]"
      ]
     },
     "metadata": {},
     "output_type": "display_data"
    },
    {
     "name": "stdout",
     "output_type": "stream",
     "text": [
      "Searching For Bella Dose                                        {'Artist': 2, 'Album': 14}\n",
      "Searching For Smuds                                             {'Artist': 11, 'Album': 13}\n",
      "Searching For Audio Kings of the Third World                    {'Artist': 7, 'Album': 11}\n",
      "Searching For Modekay                                           {'Artist': 3, 'Album': 10}\n",
      "Searching For Miki Craven                                       {'Artist': 6, 'Album': 11}\n",
      "Searching For Turker                                            {'Artist': 20, 'Album': 11}\n",
      "Searching For Lucass                                            {'Artist': 17, 'Album': 18}\n",
      "Searching For Rollercoaster Kills                               {'Artist': 3, 'Album': 8}\n",
      "Searching For Michael Paucker                                   {'Artist': 10, 'Album': 14}\n",
      "Searching For Lady Posh                                         {'Artist': 13, 'Album': 12}\n",
      "Searching For Jarmo Parviainen                                  {'Artist': 7, 'Album': 4}\n",
      "Searching For Jay Corre                                         {'Artist': 15, 'Album': 14}\n",
      "Searching For Eddie & The Eggs                                  {'Artist': 7, 'Album': 7}\n",
      "Searching For Nonnie Rosenberg                                  {'Artist': 0, 'Album': 0}\n",
      "Searching For Miško Plavi                                      {'Artist': 4, 'Album': 6}\n",
      "Searching For III Sound Academy                                 {'Artist': 7, 'Album': 9}\n",
      "Searching For CONTACTO                                          {'Artist': 33, 'Album': 16}\n",
      "Searching For Bananafish                                        {'Artist': 17, 'Album': 7}\n",
      "Searching For Magpies & Vagabonds                               {'Artist': 4, 'Album': 5}\n",
      "Searching For Musical Bro                                       {'Artist': 36, 'Album': 16}\n",
      "Searching For Reisegruppe Immer Voll                            {'Artist': 1, 'Album': 13}\n",
      "Searching For Alarm Will Sound                                  {'Artist': 12, 'Album': 10}\n",
      "Searching For Archeons                                          {'Artist': 4, 'Album': 9}\n",
      "Searching For The Astronomer                                    {'Artist': 25, 'Album': 16}\n",
      "Searching For Digital Banzai                                    {'Artist': 2, 'Album': 7}\n",
      " [Getting AppleMusic ArtistIDs] | 2650/?     : RunTime 4 Hour and 34 Minute.\n",
      "*****************************************************************************************************************************\n",
      "*                                                    Saving SearchArtist                                                    *\n",
      "*****************************************************************************************************************************\n",
      "  Saving Index [331957] ... Done\n",
      "  Saving Data [16525] ... Done\n",
      "  Saving Error [88] ... Done\n"
     ]
    },
    {
     "data": {
      "application/vnd.jupyter.widget-view+json": {
       "model_id": "2ce2ddfe58334455a607b81417c43dd5",
       "version_major": 2,
       "version_minor": 0
      },
      "text/plain": [
       "Waiting:   0%|          | 0/50 [00:00<?, ?it/s]"
      ]
     },
     "metadata": {},
     "output_type": "display_data"
    },
    {
     "name": "stdout",
     "output_type": "stream",
     "text": [
      "Searching For Scott Anthony Andrews                             {'Artist': 2, 'Album': 7}\n",
      "Searching For Wilkinson Blades                                  {'Artist': 1, 'Album': 7}\n",
      "Searching For Lou Leaves the Room                               {'Artist': 6, 'Album': 10}\n",
      "Searching For Alberto D'meo                                     {'Artist': 8, 'Album': 13}\n",
      "Searching For Hitman Beatz                                      {'Artist': 14, 'Album': 16}\n",
      "Searching For Glenn                                             {'Artist': 19, 'Album': 18}\n",
      "Searching For DanielTidwell14                                   {'Artist': 1, 'Album': 10}\n",
      "Searching For Miss CC LaFlor                                    {'Artist': 10, 'Album': 10}\n",
      "Searching For Sistematic                                        {'Artist': 24, 'Album': 15}\n",
      "Searching For Samuel Egglenton                                  {'Artist': 0, 'Album': 0}\n",
      "Searching For Hurley Mower                                      {'Artist': 1, 'Album': 11}\n",
      "Searching For Boys Hotel                                        {'Artist': 6, 'Album': 11}\n",
      "Searching For Wolves Den                                        {'Artist': 21, 'Album': 14}\n",
      "Searching For Prayer Line                                       {'Artist': 6, 'Album': 7}\n",
      "Searching For Camelia Malik                                     {'Artist': 2, 'Album': 4}\n",
      "Searching For Chie Otomi                                        {'Artist': 3, 'Album': 4}\n",
      "Searching For Nic Joseph                                        {'Artist': 16, 'Album': 13}\n",
      "Searching For Aseptic                                           {'Artist': 13, 'Album': 13}\n",
      "Searching For Kalle Gracias                                     {'Artist': 17, 'Album': 13}\n",
      "Searching For Ritchy 31                                         {'Artist': 1, 'Album': 7}\n",
      "Searching For Pablo Díaz                                       {'Artist': 22, 'Album': 13}\n",
      "Searching For Unguilty                                          {'Artist': 14, 'Album': 8}\n",
      "Searching For El Rey del monte                                  {'Artist': 9, 'Album': 9}\n",
      "Searching For El Plebe Guerrero                                 {'Artist': 3, 'Album': 9}\n",
      "Searching For Eclissi Di Soul                                   {'Artist': 6, 'Album': 12}\n",
      " [Getting AppleMusic ArtistIDs] | 2675/?     : RunTime 4 Hour and 37 Minute.\n",
      "*****************************************************************************************************************************\n",
      "*                                                    Saving SearchArtist                                                    *\n",
      "*****************************************************************************************************************************\n",
      "  Saving Index [331982] ... Done\n",
      "  Saving Data [16550] ... Done\n",
      "  Saving Error [88] ... Done\n"
     ]
    },
    {
     "data": {
      "application/vnd.jupyter.widget-view+json": {
       "model_id": "9cc2952bb8e24b9d98a2cb898b20385b",
       "version_major": 2,
       "version_minor": 0
      },
      "text/plain": [
       "Waiting:   0%|          | 0/50 [00:00<?, ?it/s]"
      ]
     },
     "metadata": {},
     "output_type": "display_data"
    },
    {
     "name": "stdout",
     "output_type": "stream",
     "text": [
      "Searching For Scarlet City                                      {'Artist': 14, 'Album': 13}\n",
      "Searching For AV9                                               {'Artist': 12, 'Album': 13}\n",
      "Searching For sydbarret.                                        {'Artist': 1, 'Album': 3}\n",
      "Searching For J.Mastermix                                       {'Artist': 20, 'Album': 14}\n",
      "Searching For ThiefofBaghdad                                    {'Artist': 6, 'Album': 8}\n",
      "Searching For UNO Stereo                                        {'Artist': 5, 'Album': 13}\n",
      "Searching For Portable Radio                                    {'Artist': 8, 'Album': 8}\n",
      "Searching For G-Love                                            {'Artist': 22, 'Album': 15}\n",
      "Searching For Enfants Malin                                     {'Artist': 11, 'Album': 8}\n",
      "Searching For Leli Hernandez                                    {'Artist': 12, 'Album': 11}\n",
      "Searching For Diwakar Meena                                     {'Artist': 1, 'Album': 4}\n",
      "Searching For Xuxa Santamaria                                   {'Artist': 1, 'Album': 4}\n",
      "Searching For Odysseus                                          {'Artist': 22, 'Album': 13}\n",
      "Searching For Dear Humans                                       {'Artist': 13, 'Album': 11}\n",
      "Searching For Carter Arrington                                  {'Artist': 9, 'Album': 9}\n",
      "Searching For Mario Paladin                                     {'Artist': 15, 'Album': 5}\n",
      "Searching For Jah Digga                                         {'Artist': 11, 'Album': 13}\n",
      "Searching For Eloise Lewis                                      {'Artist': 7, 'Album': 6}\n",
      "Searching For Pier Michele Bozzetti                             {'Artist': 0, 'Album': 0}\n",
      "Searching For Ken Baker                                         {'Artist': 22, 'Album': 12}\n",
      "Searching For FillmoeTrev                                       {'Artist': 1, 'Album': 11}\n",
      "Searching For The Yoga Mantra and Chant Music Project           {'Artist': 14, 'Album': 8}\n",
      "Searching For Burtland                                          {'Artist': 2, 'Album': 8}\n",
      "Searching For Hankat                                            {'Artist': 7, 'Album': 11}\n",
      "Searching For Neodyne                                           {'Artist': 13, 'Album': 15}\n",
      " [Getting AppleMusic ArtistIDs] | 2700/?     : RunTime 4 Hour and 39 Minute.\n",
      "*****************************************************************************************************************************\n",
      "*                                                    Saving SearchArtist                                                    *\n",
      "*****************************************************************************************************************************\n",
      "  Saving Index [332007] ... Done\n",
      "  Saving Data [16575] ... Done\n",
      "  Saving Error [88] ... Done\n"
     ]
    },
    {
     "data": {
      "application/vnd.jupyter.widget-view+json": {
       "model_id": "013c46feedea499091747ad94cd95132",
       "version_major": 2,
       "version_minor": 0
      },
      "text/plain": [
       "Waiting:   0%|          | 0/50 [00:00<?, ?it/s]"
      ]
     },
     "metadata": {},
     "output_type": "display_data"
    },
    {
     "name": "stdout",
     "output_type": "stream",
     "text": [
      "Searching For Aryas                                             {'Artist': 14, 'Album': 13}\n",
      "Searching For Mekanikall Lab                                    {'Artist': 2, 'Album': 7}\n",
      "Searching For Chelsea Crowell                                   {'Artist': 1, 'Album': 2}\n",
      "Searching For Lyndon Needs                                      {'Artist': 1, 'Album': 2}\n",
      "Searching For Moines De Rue                                     {'Artist': 1, 'Album': 2}\n",
      "Searching For Matchbox Orchestra                                {'Artist': 3, 'Album': 8}\n",
      "Searching For Synchrony                                         {'Artist': 24, 'Album': 14}\n",
      "Searching For Lyver                                             {'Artist': 26, 'Album': 13}\n",
      "Searching For PayLipService                                     {'Artist': 8, 'Album': 13}\n",
      "Searching For Nakata7                                           {'Artist': 1, 'Album': 4}\n",
      "Searching For Pullman Standard                                  {'Artist': 3, 'Album': 10}\n",
      "Searching For Domob!tch                                         {'Artist': 7, 'Album': 8}\n",
      "Searching For Paraje Alfar                                      {'Artist': 1, 'Album': 7}\n",
      "Searching For Jay Michael                                       {'Artist': 26, 'Album': 17}\n",
      "Searching For Arrowsmith                                        {'Artist': 12, 'Album': 9}\n",
      "Searching For Jérémie Naulet                                  {'Artist': 7, 'Album': 14}\n",
      "Searching For Larry Alexander                                   {'Artist': 15, 'Album': 8}\n",
      "Searching For Haekins                                           {'Artist': 13, 'Album': 13}\n",
      "Searching For 100 Kilo Maarten                                  {'Artist': 5, 'Album': 8}\n",
      "Searching For Davið þór Jónsson                               {'Artist': 5, 'Album': 6}\n",
      "Searching For Hellish Outcast                                   {'Artist': 5, 'Album': 7}\n",
      "Searching For Sweetlight                                        {'Artist': 15, 'Album': 7}\n",
      "Searching For Erciyes Fragment                                  {'Artist': 1, 'Album': 4}\n",
      "Searching For Darkness & Jive                                   {'Artist': 5, 'Album': 10}\n",
      "Searching For Chad Cisneros                                     {'Artist': 10, 'Album': 14}\n",
      " [Getting AppleMusic ArtistIDs] | 2725/?     : RunTime 4 Hour and 42 Minute.\n",
      "*****************************************************************************************************************************\n",
      "*                                                    Saving SearchArtist                                                    *\n",
      "*****************************************************************************************************************************\n",
      "  Saving Index [332032] ... Done\n",
      "  Saving Data [16600] ... Done\n",
      "  Saving Error [88] ... Done\n"
     ]
    },
    {
     "data": {
      "application/vnd.jupyter.widget-view+json": {
       "model_id": "bf3058063c294b32a42eb8a83440c6ab",
       "version_major": 2,
       "version_minor": 0
      },
      "text/plain": [
       "Waiting:   0%|          | 0/50 [00:00<?, ?it/s]"
      ]
     },
     "metadata": {},
     "output_type": "display_data"
    },
    {
     "name": "stdout",
     "output_type": "stream",
     "text": [
      "Searching For Palette                                           {'Artist': 35, 'Album': 18}\n",
      "Searching For Western Medication                                {'Artist': 4, 'Album': 8}\n",
      "Searching For Tomek N                                           {'Artist': 21, 'Album': 12}\n",
      "Searching For Magic Cucumbers                                   {'Artist': 3, 'Album': 8}\n",
      "Searching For Stereophonic                                      {'Artist': 37, 'Album': 17}\n",
      "Searching For Napoleon Gold                                     {'Artist': 1, 'Album': 7}\n",
      "Searching For Onlybino! Archived                                {'Artist': 1, 'Album': 13}\n",
      "Searching For AnimationStation                                  {'Artist': 1, 'Album': 14}\n",
      "Searching For Pippen Maa                                        {'Artist': 7, 'Album': 12}\n",
      "Searching For Bijou Noir                                        {'Artist': 1, 'Album': 7}\n",
      "Searching For BLUE BARRY                                        {'Artist': 22, 'Album': 15}\n",
      "Searching For Nitty Bo                                          {'Artist': 11, 'Album': 12}\n",
      "Searching For oh sleep                                          {'Artist': 23, 'Album': 15}\n",
      "Searching For Ericksii                                          {'Artist': 17, 'Album': 12}\n",
      "Searching For The Groove Asylum                                 {'Artist': 8, 'Album': 14}\n",
      "Searching For Cajun Roosters                                    {'Artist': 2, 'Album': 7}\n",
      "Searching For Kaiser Blues Company                              {'Artist': 1, 'Album': 4}\n",
      "Searching For MC PR                                             {'Artist': 46, 'Album': 15}\n",
      "Searching For DJ Java                                           {'Artist': 14, 'Album': 14}\n",
      "Searching For Abi Zeider                                        {'Artist': 2, 'Album': 2}\n",
      "Searching For Ori Undo                                          {'Artist': 14, 'Album': 11}\n",
      "Searching For Gallen Rho                                        {'Artist': 5, 'Album': 9}\n",
      "Searching For Liquid Nation                                     {'Artist': 8, 'Album': 8}\n",
      "Searching For Gizmo De Trini                                    {'Artist': 9, 'Album': 9}\n",
      "Searching For Jim Fish                                          {'Artist': 10, 'Album': 10}\n",
      " [Getting AppleMusic ArtistIDs] | 2750/?     : RunTime 4 Hour and 45 Minute.\n",
      "*****************************************************************************************************************************\n",
      "*                                                    Saving SearchArtist                                                    *\n",
      "*****************************************************************************************************************************\n",
      "  Saving Index [332057] ... Done\n",
      "  Saving Data [16625] ... Done\n",
      "  Saving Error [88] ... Done\n"
     ]
    },
    {
     "data": {
      "application/vnd.jupyter.widget-view+json": {
       "model_id": "c7a9dcb6e2824a608018ffd6838f351f",
       "version_major": 2,
       "version_minor": 0
      },
      "text/plain": [
       "Waiting:   0%|          | 0/50 [00:00<?, ?it/s]"
      ]
     },
     "metadata": {},
     "output_type": "display_data"
    },
    {
     "name": "stdout",
     "output_type": "stream",
     "text": [
      "Searching For Jubilee Four                                      {'Artist': 13, 'Album': 13}\n",
      "Searching For Hot Gossip                                        {'Artist': 16, 'Album': 15}\n",
      "Searching For Biplob                                            {'Artist': 23, 'Album': 13}\n",
      "Searching For Outside Smoke                                     {'Artist': 12, 'Album': 9}\n",
      "Searching For U-Wood                                            {'Artist': 19, 'Album': 20}\n",
      "Searching For Dario Gismondi                                    {'Artist': 2, 'Album': 9}\n",
      "Searching For Jorge Araujo Chiriboga                            {'Artist': 0, 'Album': 0}\n",
      "Searching For Pink Space                                        {'Artist': 18, 'Album': 14}\n",
      "Searching For 2 Below                                           {'Artist': 20, 'Album': 16}\n",
      "Searching For NECROLYNN                                         {'Artist': 4, 'Album': 13}\n",
      "Searching For Georgia Lee                                       {'Artist': 24, 'Album': 14}\n",
      "Searching For The kreellers                                     {'Artist': 1, 'Album': 4}\n",
      "Searching For Johnnie Konan                                     {'Artist': 2, 'Album': 9}\n",
      "Searching For 565                                               {'Artist': 37, 'Album': 17}\n",
      "Searching For Sam Lakeman                                       {'Artist': 6, 'Album': 7}\n",
      "Searching For Any Colour You Like                               {'Artist': 19, 'Album': 14}\n",
      "Searching For Eugenio Vatta                                     {'Artist': 7, 'Album': 9}\n",
      "Searching For The Leviathan's Mandible                          {'Artist': 1, 'Album': 1}\n",
      "Searching For Ryan G                                            {'Artist': 24, 'Album': 13}\n",
      "Searching For Jack Flynn-Oakley                                 {'Artist': 3, 'Album': 10}\n",
      "Searching For The Dread                                         {'Artist': 29, 'Album': 13}\n",
      "Searching For Ion Energie                                       {'Artist': 2, 'Album': 14}\n",
      "Searching For KÖNI                                             {'Artist': 42, 'Album': 19}\n",
      "Searching For Carlitos Flores                                   {'Artist': 6, 'Album': 13}\n",
      "Searching For Phonk of Future                                   {'Artist': 7, 'Album': 11}\n",
      " [Getting AppleMusic ArtistIDs] | 2775/?     : RunTime 4 Hour and 47 Minute.\n",
      "*****************************************************************************************************************************\n",
      "*                                                    Saving SearchArtist                                                    *\n",
      "*****************************************************************************************************************************\n",
      "  Saving Index [332082] ... Done\n",
      "  Saving Data [16650] ... Done\n",
      "  Saving Error [88] ... Done\n"
     ]
    },
    {
     "data": {
      "application/vnd.jupyter.widget-view+json": {
       "model_id": "d2373ba9ff284ddea4c1e5d6ffff9756",
       "version_major": 2,
       "version_minor": 0
      },
      "text/plain": [
       "Waiting:   0%|          | 0/50 [00:00<?, ?it/s]"
      ]
     },
     "metadata": {},
     "output_type": "display_data"
    },
    {
     "name": "stdout",
     "output_type": "stream",
     "text": [
      "Searching For Alessio Agazzi                                    {'Artist': 4, 'Album': 12}\n",
      "Searching For Ash My Love                                       {'Artist': 31, 'Album': 16}\n",
      "Searching For Peter John Birch                                  {'Artist': 20, 'Album': 6}\n",
      "Searching For Selekio                                           {'Artist': 8, 'Album': 9}\n",
      "Searching For Being Dead                                        {'Artist': 15, 'Album': 10}\n",
      "Searching For Inga From Sweden                                  {'Artist': 1, 'Album': 12}\n",
      "Searching For Väki                                             {'Artist': 23, 'Album': 15}\n",
      "Searching For DMTina and the Bumps                              {'Artist': 1, 'Album': 7}\n",
      "Searching For Prince Mydas                                      {'Artist': 2, 'Album': 11}\n",
      "Searching For Hair Dryer Sleep                                  {'Artist': 10, 'Album': 10}\n",
      "Searching For Sonora Palomar                                    {'Artist': 1, 'Album': 7}\n",
      "Searching For Broadway Broadcasters                             {'Artist': 16, 'Album': 12}\n",
      "Searching For Drabik                                            {'Artist': 12, 'Album': 12}\n",
      "Searching For Mal Black                                         {'Artist': 15, 'Album': 12}\n",
      "Searching For Who Done It?                                      {'Artist': 30, 'Album': 13}\n",
      "Searching For You Don't Need to Know                            {'Artist': 19, 'Album': 14}\n",
      "Searching For AMPRESI                                           {'Artist': 17, 'Album': 12}\n",
      "Searching For Payton Howie                                      {'Artist': 1, 'Album': 15}\n",
      "Searching For 8 Ballin'                                         {'Artist': 19, 'Album': 18}\n",
      "Searching For Los Del Cristo                                    {'Artist': 16, 'Album': 17}\n",
      "Searching For Audiotrackerz                                     {'Artist': 9, 'Album': 11}\n",
      "Searching For Max Roach Plus Four                               {'Artist': 7, 'Album': 7}\n",
      "Searching For Larabell                                          {'Artist': 3, 'Album': 7}\n",
      "Searching For Dylan Paterson                                    {'Artist': 3, 'Album': 9}\n",
      "Searching For L3                                                {'Artist': 38, 'Album': 19}\n",
      " [Getting AppleMusic ArtistIDs] | 2800/?     : RunTime 4 Hour and 50 Minute.\n",
      "*****************************************************************************************************************************\n",
      "*                                                    Saving SearchArtist                                                    *\n",
      "*****************************************************************************************************************************\n",
      "  Saving Index [332107] ... Done\n",
      "  Saving Data [16675] ... Done\n",
      "  Saving Error [88] ... Done\n"
     ]
    },
    {
     "data": {
      "application/vnd.jupyter.widget-view+json": {
       "model_id": "dadd1b974989441694951a8014dcd128",
       "version_major": 2,
       "version_minor": 0
      },
      "text/plain": [
       "Waiting:   0%|          | 0/50 [00:00<?, ?it/s]"
      ]
     },
     "metadata": {},
     "output_type": "display_data"
    },
    {
     "name": "stdout",
     "output_type": "stream",
     "text": [
      "Searching For Jack Burton                                       {'Artist': 19, 'Album': 15}\n",
      "Searching For Niki B                                            {'Artist': 30, 'Album': 19}\n",
      "Searching For Thierry Huillet                                   {'Artist': 6, 'Album': 7}\n",
      "Searching For Old Swing                                         {'Artist': 11, 'Album': 13}\n",
      "Searching For Robert Skèpis                                    {'Artist': 2, 'Album': 7}\n",
      "Searching For The Ride Committee                                {'Artist': 6, 'Album': 10}\n",
      "Searching For Flozigg                                           {'Artist': 9, 'Album': 11}\n",
      "Searching For Nate Company                                      {'Artist': 15, 'Album': 12}\n",
      "Searching For Under Konstruktion                                {'Artist': 15, 'Album': 8}\n",
      "Searching For Steve & Heather                                   {'Artist': 14, 'Album': 7}\n",
      "Searching For Frank Grischek                                    {'Artist': 1, 'Album': 4}\n",
      "Searching For Tian Bo                                           {'Artist': 17, 'Album': 7}\n",
      "Searching For Swarz                                             {'Artist': 16, 'Album': 7}\n",
      "Searching For Poeboy K.P                                        {'Artist': 1, 'Album': 7}\n",
      "Searching For Liife                                             {'Artist': 20, 'Album': 14}\n",
      "Searching For Jiggy Jay                                         {'Artist': 26, 'Album': 12}\n",
      "Searching For MCSC                                              {'Artist': 2, 'Album': 4}\n",
      "Searching For Jindřich Parma                                   {'Artist': 7, 'Album': 8}\n",
      "Searching For Fox Force Five                                    {'Artist': 13, 'Album': 9}\n",
      "Searching For Ruthless & Vorwerk                                {'Artist': 10, 'Album': 13}\n",
      "Searching For Vigo                                              {'Artist': 24, 'Album': 16}\n",
      "Searching For RareTwo Inc.                                      {'Artist': 5, 'Album': 8}\n",
      "Searching For Slick 64                                          {'Artist': 1, 'Album': 4}\n",
      "Searching For Lisa Akuah                                        {'Artist': 2, 'Album': 8}\n",
      "Searching For Wakizashi                                         {'Artist': 20, 'Album': 13}\n",
      " [Getting AppleMusic ArtistIDs] | 2825/?     : RunTime 4 Hour and 53 Minute.\n",
      "*****************************************************************************************************************************\n",
      "*                                                    Saving SearchArtist                                                    *\n",
      "*****************************************************************************************************************************\n",
      "  Saving Index [332132] ... Done\n",
      "  Saving Data [16700] ... Done\n",
      "  Saving Error [88] ... Done\n"
     ]
    },
    {
     "data": {
      "application/vnd.jupyter.widget-view+json": {
       "model_id": "ba53e82b3b2940b28e2da2bb88ff472f",
       "version_major": 2,
       "version_minor": 0
      },
      "text/plain": [
       "Waiting:   0%|          | 0/50 [00:00<?, ?it/s]"
      ]
     },
     "metadata": {},
     "output_type": "display_data"
    },
    {
     "name": "stdout",
     "output_type": "stream",
     "text": [
      "Searching For Eru Matsumoto                                     {'Artist': 16, 'Album': 8}\n",
      "Searching For Félé Flingue                                    {'Artist': 14, 'Album': 11}\n",
      "Searching For Dave Moz Mozo                                     {'Artist': 4, 'Album': 11}\n",
      "Searching For Alicia Hush                                       {'Artist': 5, 'Album': 9}\n",
      "Searching For Calico Horse                                      {'Artist': 2, 'Album': 2}\n",
      "Searching For Da Cute                                           {'Artist': 8, 'Album': 16}\n",
      "Searching For Alex Sauer                                        {'Artist': 8, 'Album': 12}\n",
      "Searching For DJ Cavem Moetavation                              {'Artist': 5, 'Album': 7}\n",
      "Searching For Maddie Storvold                                   {'Artist': 2, 'Album': 11}\n",
      "Searching For Ben Erkens                                        {'Artist': 36, 'Album': 13}\n",
      "Searching For Tambor                                            {'Artist': 38, 'Album': 17}\n",
      "Searching For Yvonne Verbeeck                                   {'Artist': 2, 'Album': 3}\n",
      "Searching For Pavel Noha                                        {'Artist': 6, 'Album': 10}\n",
      "Searching For Jacques-Nicolas Lemmens                           {'Artist': 16, 'Album': 11}\n",
      "Searching For Hans Zuber Quintett                               {'Artist': 1, 'Album': 5}\n",
      "Searching For Li Xiaotian                                       {'Artist': 25, 'Album': 14}\n",
      "Searching For Hanging Freud                                     {'Artist': 6, 'Album': 7}\n",
      "Searching For Zanma                                             {'Artist': 8, 'Album': 12}\n",
      "Searching For Opez                                              {'Artist': 8, 'Album': 7}\n",
      "Searching For Black Tongues                                     {'Artist': 15, 'Album': 10}\n",
      "Searching For Jaclyn Lovey                                      {'Artist': 3, 'Album': 9}\n",
      "Searching For Chris Prz                                         {'Artist': 22, 'Album': 14}\n",
      "Searching For Gints Stankēvičs                                {'Artist': 3, 'Album': 3}\n",
      "Searching For Thiago Pery                                       {'Artist': 12, 'Album': 11}\n",
      "Searching For R. Kelly & Public Announcement                    {'Artist': 14, 'Album': 10}\n",
      " [Getting AppleMusic ArtistIDs] | 2850/?     : RunTime 4 Hour and 55 Minute.\n",
      "*****************************************************************************************************************************\n",
      "*                                                    Saving SearchArtist                                                    *\n",
      "*****************************************************************************************************************************\n",
      "  Saving Index [332157] ... Done\n",
      "  Saving Data [16725] ... Done\n",
      "  Saving Error [88] ... Done\n"
     ]
    },
    {
     "data": {
      "application/vnd.jupyter.widget-view+json": {
       "model_id": "1bd4f1b9821e46ce98033a7d9ee3f4e2",
       "version_major": 2,
       "version_minor": 0
      },
      "text/plain": [
       "Waiting:   0%|          | 0/50 [00:00<?, ?it/s]"
      ]
     },
     "metadata": {},
     "output_type": "display_data"
    },
    {
     "name": "stdout",
     "output_type": "stream",
     "text": [
      "Searching For Solotape                                          {'Artist': 9, 'Album': 7}\n",
      "Searching For DJ Ivan90                                         {'Artist': 17, 'Album': 14}\n",
      "Searching For Kenneth Skårholen                                {'Artist': 2, 'Album': 7}\n",
      "Searching For Fish Out of Water                                 {'Artist': 18, 'Album': 14}\n",
      "Searching For Ryme C                                            {'Artist': 24, 'Album': 10}\n",
      "Searching For Ten Ton Chicken                                   {'Artist': 1, 'Album': 7}\n",
      "Searching For G.O.D Gang                                        {'Artist': 29, 'Album': 18}\n",
      "Searching For Sideshow Musicbox                                 {'Artist': 1, 'Album': 7}\n",
      "Searching For Christopher Burnett                               {'Artist': 5, 'Album': 7}\n",
      "Searching For Michael Lynne                                     {'Artist': 24, 'Album': 7}\n",
      "Searching For Eugene Genay Williams                             {'Artist': 3, 'Album': 7}\n",
      "Searching For Primacy X Emsky                                   {'Artist': 3, 'Album': 5}\n",
      "Searching For D-Jay Ay Ron                                      {'Artist': 8, 'Album': 13}\n",
      "Searching For Sudhir Jonathan Foust                             {'Artist': 1, 'Album': 2}\n",
      "Searching For I Am I Music                                      {'Artist': 34, 'Album': 19}\n",
      "Searching For Gioele                                            {'Artist': 21, 'Album': 13}\n",
      "Searching For MC Kalyba                                         {'Artist': 5, 'Album': 8}\n",
      "Searching For Dokotela Mkhenza                                  {'Artist': 2, 'Album': 4}\n",
      "Searching For Sirens and Shelter                                {'Artist': 3, 'Album': 8}\n",
      "Searching For Edgar Seipenbusch                                 {'Artist': 11, 'Album': 7}\n",
      "Searching For Sofia Asunción Claro                             {'Artist': 19, 'Album': 7}\n",
      "Searching For Lauren Mary Longo                                 {'Artist': 1, 'Album': 6}\n",
      "Searching For Minister King X Pyeface                           {'Artist': 1, 'Album': 7}\n",
      "Searching For Ray Kirk                                          {'Artist': 9, 'Album': 13}\n",
      "Searching For Baze and His Silly Friends                        {'Artist': 3, 'Album': 7}\n",
      " [Getting AppleMusic ArtistIDs] | 2875/?     : RunTime 4 Hour and 58 Minute.\n",
      "*****************************************************************************************************************************\n",
      "*                                                    Saving SearchArtist                                                    *\n",
      "*****************************************************************************************************************************\n",
      "  Saving Index [332182] ... Done\n",
      "  Saving Data [16750] ... Done\n",
      "  Saving Error [88] ... Done\n"
     ]
    },
    {
     "data": {
      "application/vnd.jupyter.widget-view+json": {
       "model_id": "ae6d9748e8fe48f989daed42f173ba7c",
       "version_major": 2,
       "version_minor": 0
      },
      "text/plain": [
       "Waiting:   0%|          | 0/50 [00:00<?, ?it/s]"
      ]
     },
     "metadata": {},
     "output_type": "display_data"
    },
    {
     "name": "stdout",
     "output_type": "stream",
     "text": [
      "Searching For Lamontikon Datastreams                            {'Artist': 1, 'Album': 6}\n",
      "Searching For Skits Moves                                       {'Artist': 13, 'Album': 13}\n",
      "Searching For Ark & Ocean                                       {'Artist': 10, 'Album': 13}\n",
      "Searching For Hugh Bonneville                                   {'Artist': 8, 'Album': 5}\n",
      "Searching For Wolfgang Michael                                  {'Artist': 29, 'Album': 11}\n",
      "Searching For Caps1                                             {'Artist': 26, 'Album': 14}\n",
      "Searching For Lee Penn Sky                                      {'Artist': 2, 'Album': 6}\n",
      "Searching For Dorino Di Lura                                    {'Artist': 2, 'Album': 6}\n",
      "Searching For Hannah Gail                                       {'Artist': 5, 'Album': 9}\n",
      "Searching For Andrea Lane                                       {'Artist': 11, 'Album': 12}\n",
      "Searching For Pedro                                             {'Artist': 36, 'Album': 16}\n",
      "Searching For John Bartus                                       {'Artist': 2, 'Album': 7}\n",
      "Searching For Hillary Reynolds Band                             {'Artist': 3, 'Album': 7}\n",
      "Searching For This Is This                                      {'Artist': 27, 'Album': 16}\n",
      "Searching For Barney Saltzberg                                  {'Artist': 1, 'Album': 5}\n",
      "Searching For The Rayo Brothers                                 {'Artist': 1, 'Album': 7}\n",
      "Searching For Big Tide                                          {'Artist': 29, 'Album': 19}\n",
      "Searching For Andres Batista                                    {'Artist': 12, 'Album': 9}\n",
      "Searching For Pongball                                          {'Artist': 20, 'Album': 12}\n",
      "Searching For Paradise Island Trio                              {'Artist': 15, 'Album': 7}\n",
      "Searching For Joan Shaw                                         {'Artist': 18, 'Album': 10}\n",
      "Searching For Eric Jupp                                         {'Artist': 12, 'Album': 13}\n",
      "Searching For Mogens Ellegaard                                  {'Artist': 8, 'Album': 6}\n",
      "Searching For Don Azpiazu & His Havana Casino Orchestra         {'Artist': 11, 'Album': 11}\n",
      "Searching For Afor Gashum                                       {'Artist': 1, 'Album': 6}\n",
      " [Getting AppleMusic ArtistIDs] | 2900/?     : RunTime 5 Hour and 49 Second.\n",
      "*****************************************************************************************************************************\n",
      "*                                                    Saving SearchArtist                                                    *\n",
      "*****************************************************************************************************************************\n",
      "  Saving Index [332207] ... Done\n",
      "  Saving Data [16775] ... Done\n",
      "  Saving Error [88] ... Done\n"
     ]
    },
    {
     "data": {
      "application/vnd.jupyter.widget-view+json": {
       "model_id": "6b74d96634d64c7b903904f352658f9d",
       "version_major": 2,
       "version_minor": 0
      },
      "text/plain": [
       "Waiting:   0%|          | 0/50 [00:00<?, ?it/s]"
      ]
     },
     "metadata": {},
     "output_type": "display_data"
    },
    {
     "name": "stdout",
     "output_type": "stream",
     "text": [
      "Searching For Michel Fannoun                                    {'Artist': 9, 'Album': 15}\n",
      "Searching For Panda Lassow                                      {'Artist': 3, 'Album': 10}\n",
      "Searching For Donna Odain                                       {'Artist': 2, 'Album': 9}\n",
      "Searching For Ariscan                                           {'Artist': 13, 'Album': 10}\n",
      "Searching For Gigi Testa                                        {'Artist': 3, 'Album': 8}\n",
      "Searching For Koulz                                             {'Artist': 9, 'Album': 11}\n",
      "Searching For Smith Cruise                                      {'Artist': 5, 'Album': 15}\n",
      "Searching For Marco Caricola                                    {'Artist': 3, 'Album': 8}\n",
      "Searching For Fedorovski                                        {'Artist': 10, 'Album': 14}\n",
      "Searching For Maktkamp                                          {'Artist': 2, 'Album': 9}\n",
      "Searching For Gołębie                                          {'Artist': 8, 'Album': 10}\n",
      "Searching For Memphis Slim & Willie Dixon                       {'Artist': 2, 'Album': 7}\n",
      "Searching For Shan Joe wil                                      {'Artist': 1, 'Album': 0}\n",
      "Searching For Psy Baba                                          {'Artist': 9, 'Album': 11}\n",
      "Searching For Bedowyn                                           {'Artist': 1, 'Album': 3}\n",
      "Searching For Omar Segura                                       {'Artist': 5, 'Album': 10}\n",
      "Searching For Tim Meadows                                       {'Artist': 17, 'Album': 8}\n",
      "Searching For Andy Fosforo                                      {'Artist': 1, 'Album': 13}\n",
      "Searching For Critical Selection                                {'Artist': 4, 'Album': 12}\n",
      "Searching For Phil Harding                                      {'Artist': 14, 'Album': 13}\n",
      "Searching For 666uba                                            {'Artist': 1, 'Album': 7}\n",
      "Searching For Giulia Penna                                      {'Artist': 3, 'Album': 13}\n",
      "Searching For Martial Taktics                                   {'Artist': 5, 'Album': 14}\n",
      "Searching For Detuner                                           {'Artist': 15, 'Album': 11}\n",
      "Searching For Milan McAlevey                                    {'Artist': 2, 'Album': 4}\n",
      " [Getting AppleMusic ArtistIDs] | 2925/?     : RunTime 5 Hour and 3 Minute.\n",
      "*****************************************************************************************************************************\n",
      "*                                                    Saving SearchArtist                                                    *\n",
      "*****************************************************************************************************************************\n",
      "  Saving Index [332232] ... Done\n",
      "  Saving Data [16800] ... Done\n",
      "  Saving Error [88] ... Done\n"
     ]
    },
    {
     "data": {
      "application/vnd.jupyter.widget-view+json": {
       "model_id": "12ba3245c52a4bdda202859545efcfe6",
       "version_major": 2,
       "version_minor": 0
      },
      "text/plain": [
       "Waiting:   0%|          | 0/50 [00:00<?, ?it/s]"
      ]
     },
     "metadata": {},
     "output_type": "display_data"
    },
    {
     "name": "stdout",
     "output_type": "stream",
     "text": [
      "Searching For Cocco Lexa                                        {'Artist': 15, 'Album': 14}\n",
      "Searching For Joe Hodgkins Boss Band                            {'Artist': 4, 'Album': 3}\n",
      "Searching For Ghetto Superstar                                  {'Artist': 25, 'Album': 16}\n",
      "Searching For Eigenraum                                         {'Artist': 15, 'Album': 13}\n",
      "Searching For Fake Oddity                                       {'Artist': 1, 'Album': 3}\n",
      "Searching For Jean-Michel Piton                                 {'Artist': 3, 'Album': 15}\n",
      "Searching For Lukas Poellauer                                   {'Artist': 3, 'Album': 9}\n",
      "Searching For Korea Michi                                       {'Artist': 7, 'Album': 6}\n",
      "Searching For Black Black Hills                                 {'Artist': 27, 'Album': 11}\n",
      "Searching For VDSIS                                             {'Artist': 3, 'Album': 8}\n",
      "Searching For Yellow Cafe                                       {'Artist': 11, 'Album': 10}\n",
      "Searching For Nat Peck                                          {'Artist': 31, 'Album': 5}\n",
      "Searching For Joe Wright                                        {'Artist': 13, 'Album': 7}\n",
      "Searching For Big Syphe                                         {'Artist': 14, 'Album': 12}\n",
      "Searching For Henry Carey                                       {'Artist': 23, 'Album': 7}\n",
      "Searching For Maria Gamborg Helbekkmo                           {'Artist': 17, 'Album': 2}\n",
      "Searching For Fritz Rotter                                      {'Artist': 34, 'Album': 7}\n",
      "Searching For Annette Tucker                                    {'Artist': 20, 'Album': 7}\n",
      "Searching For Bernice Edwards                                   {'Artist': 2, 'Album': 5}\n",
      "Searching For Robin McGee                                       {'Artist': 10, 'Album': 13}\n",
      "Searching For Alvaro Malta                                      {'Artist': 17, 'Album': 4}\n",
      "Searching For André Charlin                                    {'Artist': 0, 'Album': 0}\n",
      "Searching For Bob Hardy                                         {'Artist': 7, 'Album': 11}\n",
      "Searching For Paul Numi                                         {'Artist': 12, 'Album': 7}\n",
      "Searching For Tom Pearo                                         {'Artist': 2, 'Album': 6}\n",
      " [Getting AppleMusic ArtistIDs] | 2950/?     : RunTime 5 Hour and 5 Minute.\n",
      "*****************************************************************************************************************************\n",
      "*                                                    Saving SearchArtist                                                    *\n",
      "*****************************************************************************************************************************\n",
      "  Saving Index [332257] ... Done\n",
      "  Saving Data [16825] ... Done\n",
      "  Saving Error [88] ... Done\n"
     ]
    },
    {
     "data": {
      "application/vnd.jupyter.widget-view+json": {
       "model_id": "2707e5bea13943bfb3bac5b3ba46853a",
       "version_major": 2,
       "version_minor": 0
      },
      "text/plain": [
       "Waiting:   0%|          | 0/50 [00:00<?, ?it/s]"
      ]
     },
     "metadata": {},
     "output_type": "display_data"
    },
    {
     "name": "stdout",
     "output_type": "stream",
     "text": [
      "Searching For Ashley Irae                                       {'Artist': 6, 'Album': 10}\n",
      "Searching For Jayrun                                            {'Artist': 15, 'Album': 13}\n",
      "Searching For The Get Along Gang                                {'Artist': 10, 'Album': 14}\n",
      "Searching For 100 YEARS WAR                                     {'Artist': 16, 'Album': 13}\n",
      "Searching For Asermoietuitkomt                                  {'Artist': 1, 'Album': 2}\n",
      "Searching For Rohan Pradhan                                     {'Artist': 11, 'Album': 13}\n",
      "Searching For Naomi Alligator                                   {'Artist': 1, 'Album': 5}\n",
      "Searching For Roger Mails                                       {'Artist': 28, 'Album': 16}\n",
      "Searching For Futura Free                                       {'Artist': 5, 'Album': 8}\n",
      "Searching For Bono Badja                                        {'Artist': 6, 'Album': 12}\n",
      "Searching For Marilyn Oquendo                                   {'Artist': 3, 'Album': 7}\n",
      "Searching For Jonathan Keith                                    {'Artist': 19, 'Album': 7}\n",
      "Searching For Crook Brown                                       {'Artist': 6, 'Album': 8}\n",
      "Searching For THRPY                                             {'Artist': 26, 'Album': 15}\n",
      "Searching For Dandelions                                        {'Artist': 25, 'Album': 14}\n",
      "Searching For DJ Freak Forobb                                   {'Artist': 1, 'Album': 10}\n",
      "Searching For Rex Mundi The Great                               {'Artist': 2, 'Album': 11}\n",
      "Searching For Axl                                               {'Artist': 27, 'Album': 17}\n",
      "Searching For The Sister And Brothers                           {'Artist': 31, 'Album': 17}\n",
      "Searching For Will Wells                                        {'Artist': 12, 'Album': 8}\n",
      "Searching For Dihan Brooks                                      {'Artist': 2, 'Album': 3}\n",
      "Searching For Al D.                                             {'Artist': 17, 'Album': 13}\n",
      "Searching For Yuna Zarai                                        {'Artist': 14, 'Album': 9}\n",
      "Searching For Derek DiScanio                                    {'Artist': 7, 'Album': 8}\n",
      "Searching For Justus Heher                                      {'Artist': 7, 'Album': 11}\n",
      " [Getting AppleMusic ArtistIDs] | 2975/?     : RunTime 5 Hour and 8 Minute.\n",
      "*****************************************************************************************************************************\n",
      "*                                                    Saving SearchArtist                                                    *\n",
      "*****************************************************************************************************************************\n",
      "  Saving Index [332282] ... Done\n",
      "  Saving Data [16850] ... Done\n",
      "  Saving Error [88] ... Done\n"
     ]
    },
    {
     "data": {
      "application/vnd.jupyter.widget-view+json": {
       "model_id": "b1faf49dd7af4bdb9c481ab4412d5c0d",
       "version_major": 2,
       "version_minor": 0
      },
      "text/plain": [
       "Waiting:   0%|          | 0/50 [00:00<?, ?it/s]"
      ]
     },
     "metadata": {},
     "output_type": "display_data"
    },
    {
     "name": "stdout",
     "output_type": "stream",
     "text": [
      "Searching For Jaca Beats                                        {'Artist': 12, 'Album': 13}\n",
      "Searching For Woobedub                                          {'Artist': 2, 'Album': 4}\n",
      "Searching For Reup Reo                                          {'Artist': 6, 'Album': 9}\n",
      "Searching For Jean Atkins-Snyder                                {'Artist': 2, 'Album': 8}\n",
      "Searching For Lil Giz                                           {'Artist': 15, 'Album': 7}\n",
      "Searching For Baby Jaymes                                       {'Artist': 7, 'Album': 9}\n",
      "Searching For Andrew Skeoch's Natural Listening Series          {'Artist': 0, 'Album': 0}\n",
      "Searching For Charlie Greene                                    {'Artist': 3, 'Album': 7}\n",
      "Searching For J. Nicole                                         {'Artist': 40, 'Album': 14}\n",
      "Searching For Liv Kristine Espenaes Krull                       {'Artist': 4, 'Album': 1}\n",
      "Searching For Phil Soda                                         {'Artist': 9, 'Album': 13}\n",
      "Searching For Vorhees                                           {'Artist': 24, 'Album': 14}\n",
      "Searching For Benjaming's Clan                                  {'Artist': 1, 'Album': 8}\n",
      "Searching For MRT                                               {'Artist': 23, 'Album': 14}\n",
      "Searching For William Hope Hodgson                              {'Artist': 17, 'Album': 7}\n",
      "Searching For Konstantin Graudus                                {'Artist': 2, 'Album': 1}\n",
      "Searching For The Jim Mitchells                                 {'Artist': 4, 'Album': 7}\n",
      "Searching For Nanox                                             {'Artist': 23, 'Album': 11}\n",
      "Searching For Aba & Simonsen                                    {'Artist': 6, 'Album': 7}\n",
      "Searching For haruru犬love dog天使                                 {'Artist': 7, 'Album': 9}\n",
      "Searching For Laino & Broken Seeds                              {'Artist': 2, 'Album': 3}\n",
      "Searching For Deaf Dance                                        {'Artist': 13, 'Album': 7}\n",
      "Searching For Yobrepus                                          {'Artist': 1, 'Album': 6}\n",
      "Searching For 2+2                                               {'Artist': 32, 'Album': 16}\n",
      "Searching For 7 Mile Clee                                       {'Artist': 9, 'Album': 15}\n",
      " [Getting AppleMusic ArtistIDs] | 3000/?     : RunTime 5 Hour and 11 Minute.\n",
      "*****************************************************************************************************************************\n",
      "*                                                    Saving SearchArtist                                                    *\n",
      "*****************************************************************************************************************************\n",
      "  Saving Index [332307] ... Done\n",
      "  Saving Data [16875] ... Done\n",
      "  Saving Error [88] ... Done\n"
     ]
    },
    {
     "data": {
      "application/vnd.jupyter.widget-view+json": {
       "model_id": "79e2090113784e6fbabdc389663ca4cc",
       "version_major": 2,
       "version_minor": 0
      },
      "text/plain": [
       "Waiting:   0%|          | 0/50 [00:00<?, ?it/s]"
      ]
     },
     "metadata": {},
     "output_type": "display_data"
    },
    {
     "name": "stdout",
     "output_type": "stream",
     "text": [
      "Searching For Mohamed Lamari                                    {'Artist': 2, 'Album': 3}\n",
      "Searching For Vaporplaid                                        {'Artist': 1, 'Album': 6}\n",
      "Searching For Radyo                                             {'Artist': 31, 'Album': 11}\n",
      "Searching For Cheb Mimou                                        {'Artist': 6, 'Album': 15}\n",
      "Searching For Daniel Di Angelo                                  {'Artist': 2, 'Album': 16}\n",
      "Searching For Magik Muzik                                       {'Artist': 18, 'Album': 10}\n",
      "Searching For Jack Di'Che                                       {'Artist': 2, 'Album': 6}\n",
      "Searching For TheToader                                         {'Artist': 3, 'Album': 6}\n",
      "Searching For Plaster På Såret                                {'Artist': 8, 'Album': 13}\n",
      "Searching For David Van De Pitte                                {'Artist': 7, 'Album': 3}\n",
      "Searching For Roger Neumann                                     {'Artist': 5, 'Album': 3}\n",
      "Searching For Ed Ivory                                          {'Artist': 17, 'Album': 18}\n",
      "Searching For Visiteur                                          {'Artist': 16, 'Album': 13}\n",
      "Searching For To No End                                         {'Artist': 28, 'Album': 15}\n",
      "Searching For La Ira De Jack                                    {'Artist': 14, 'Album': 15}\n",
      "Searching For Stef Lynn                                         {'Artist': 4, 'Album': 7}\n",
      "Searching For Dirty Ice                                         {'Artist': 28, 'Album': 15}\n",
      "Searching For Descarado                                         {'Artist': 20, 'Album': 14}\n",
      "Searching For And The Rainfall                                  {'Artist': 33, 'Album': 20}\n",
      "Searching For KingCrown                                         {'Artist': 10, 'Album': 7}\n",
      "Searching For Moorea Masa & the Mood                            {'Artist': 3, 'Album': 11}\n",
      "Searching For CRÜPO                                            {'Artist': 28, 'Album': 14}\n",
      "Searching For The Mint Gun Club                                 {'Artist': 3, 'Album': 1}\n",
      "Searching For goob                                              {'Artist': 26, 'Album': 15}\n",
      "Searching For Dj Danko                                          {'Artist': 12, 'Album': 13}\n",
      " [Getting AppleMusic ArtistIDs] | 3025/?     : RunTime 5 Hour and 13 Minute.\n",
      "*****************************************************************************************************************************\n",
      "*                                                    Saving SearchArtist                                                    *\n",
      "*****************************************************************************************************************************\n",
      "  Saving Index [332332] ... Done\n",
      "  Saving Data [16900] ... Done\n",
      "  Saving Error [88] ... Done\n"
     ]
    },
    {
     "data": {
      "application/vnd.jupyter.widget-view+json": {
       "model_id": "3409d42133e7460d9efcd9928c5f2ed8",
       "version_major": 2,
       "version_minor": 0
      },
      "text/plain": [
       "Waiting:   0%|          | 0/50 [00:00<?, ?it/s]"
      ]
     },
     "metadata": {},
     "output_type": "display_data"
    },
    {
     "name": "stdout",
     "output_type": "stream",
     "text": [
      "Searching For Mr. K-Alexi                                       {'Artist': 8, 'Album': 12}\n",
      "Searching For The Gruv Manics Project                           {'Artist': 5, 'Album': 10}\n",
      "Searching For Killing Frost                                     {'Artist': 13, 'Album': 12}\n",
      "Searching For Aaron Traffas Band                                {'Artist': 5, 'Album': 6}\n",
      "Searching For Stuff Smith Trio                                  {'Artist': 2, 'Album': 3}\n",
      "Searching For Baby's Berserk                                    {'Artist': 2, 'Album': 8}\n",
      "Searching For B.A.M.                                            {'Artist': 26, 'Album': 18}\n",
      "Searching For Blues Karloff                                     {'Artist': 12, 'Album': 7}\n",
      "Searching For Aloft in the Sundry                               {'Artist': 1, 'Album': 4}\n",
      "Searching For Plainclothes                                      {'Artist': 12, 'Album': 13}\n",
      "Searching For Calder the Band                                   {'Artist': 11, 'Album': 7}\n",
      "Searching For Lecx Stacy                                        {'Artist': 4, 'Album': 12}\n",
      "Searching For Hokuto Sato                                       {'Artist': 1, 'Album': 4}\n",
      "Searching For B the First                                       {'Artist': 24, 'Album': 19}\n",
      "Searching For Oscar Wyers                                       {'Artist': 2, 'Album': 12}\n",
      "Searching For Daniel Dexter                                     {'Artist': 9, 'Album': 14}\n",
      "Searching For Mumbai Moon                                       {'Artist': 18, 'Album': 12}\n",
      "Searching For Pablo J                                           {'Artist': 29, 'Album': 10}\n",
      "Searching For Big Joe Maher                                     {'Artist': 1, 'Album': 5}\n",
      "Searching For BAMBI                                             {'Artist': 27, 'Album': 14}\n",
      "Searching For Gnawi                                             {'Artist': 11, 'Album': 11}\n",
      "Searching For Novacrow                                          {'Artist': 1, 'Album': 7}\n",
      "Searching For Colyder                                           {'Artist': 19, 'Album': 15}\n",
      "Searching For Bitchin'                                          {'Artist': 28, 'Album': 14}\n",
      "Searching For Ivan Myslikovjan                                  {'Artist': 13, 'Album': 11}\n",
      " [Getting AppleMusic ArtistIDs] | 3050/?     : RunTime 5 Hour and 16 Minute.\n",
      "*****************************************************************************************************************************\n",
      "*                                                    Saving SearchArtist                                                    *\n",
      "*****************************************************************************************************************************\n",
      "  Saving Index [332357] ... Done\n",
      "  Saving Data [16925] ... Done\n",
      "  Saving Error [88] ... Done\n"
     ]
    },
    {
     "data": {
      "application/vnd.jupyter.widget-view+json": {
       "model_id": "1bdd5f8987244c22a44b2c83b341bc11",
       "version_major": 2,
       "version_minor": 0
      },
      "text/plain": [
       "Waiting:   0%|          | 0/50 [00:00<?, ?it/s]"
      ]
     },
     "metadata": {},
     "output_type": "display_data"
    },
    {
     "name": "stdout",
     "output_type": "stream",
     "text": [
      "Searching For Ishan Mitra                                       {'Artist': 31, 'Album': 14}\n",
      "Searching For Gerardo Rivas                                     {'Artist': 13, 'Album': 11}\n",
      "Searching For Kemerov                                           {'Artist': 1, 'Album': 5}\n",
      "Searching For CRPTC                                             {'Artist': 3, 'Album': 6}\n",
      "Searching For The Sundayprayers                                 {'Artist': 4, 'Album': 13}\n",
      "Searching For Caleb J. Murphy                                   {'Artist': 1, 'Album': 11}\n",
      "Searching For Brain Ovulation                                   {'Artist': 6, 'Album': 8}\n",
      "Searching For Electric Taurus                                   {'Artist': 7, 'Album': 8}\n",
      "Searching For Pit of Toxic Slime                                {'Artist': 2, 'Album': 2}\n",
      "Searching For Serpent Eater                                     {'Artist': 1, 'Album': 2}\n",
      "Searching For Hans Naughty                                      {'Artist': 14, 'Album': 13}\n",
      "Searching For BlackScorn                                        {'Artist': 0, 'Album': 0}\n",
      "Searching For Evil Warriors                                     {'Artist': 7, 'Album': 8}\n",
      "Searching For Suffocation of Soul                               {'Artist': 4, 'Album': 8}\n",
      "Searching For Nokturnal Warfare                                 {'Artist': 4, 'Album': 3}\n",
      "Searching For Johnny Greenwood                                  {'Artist': 16, 'Album': 14}\n",
      "Searching For Lee                                               {'Artist': 29, 'Album': 16}\n",
      "Searching For Alberto \"Tico\" Mercado                            {'Artist': 4, 'Album': 8}\n",
      "Searching For Dreamcast McFly                                   {'Artist': 2, 'Album': 9}\n",
      "Searching For Of Night And Light                                {'Artist': 15, 'Album': 8}\n",
      "Searching For Rainbow Blanket                                   {'Artist': 8, 'Album': 10}\n",
      "Searching For St1gl                                             {'Artist': 3, 'Album': 11}\n",
      "Searching For ZyZ_Ruffen                                        {'Artist': 10, 'Album': 9}\n",
      "Searching For Tom Cruz                                          {'Artist': 23, 'Album': 13}\n",
      "Searching For Deeba                                             {'Artist': 28, 'Album': 13}\n",
      " [Getting AppleMusic ArtistIDs] | 3075/?     : RunTime 5 Hour and 18 Minute.\n",
      "*****************************************************************************************************************************\n",
      "*                                                    Saving SearchArtist                                                    *\n",
      "*****************************************************************************************************************************\n",
      "  Saving Index [332382] ... Done\n",
      "  Saving Data [16950] ... Done\n",
      "  Saving Error [88] ... Done\n"
     ]
    },
    {
     "data": {
      "application/vnd.jupyter.widget-view+json": {
       "model_id": "3b0c92aad87346d38d0c6fb33dde4fa7",
       "version_major": 2,
       "version_minor": 0
      },
      "text/plain": [
       "Waiting:   0%|          | 0/50 [00:00<?, ?it/s]"
      ]
     },
     "metadata": {},
     "output_type": "display_data"
    },
    {
     "name": "stdout",
     "output_type": "stream",
     "text": [
      "Searching For Erik Budai                                        {'Artist': 4, 'Album': 12}\n",
      "Searching For Kap. Wlodek                                       {'Artist': 0, 'Album': 0}\n",
      "Searching For Gerry Lane                                        {'Artist': 4, 'Album': 8}\n",
      "Searching For Manics                                            {'Artist': 15, 'Album': 12}\n",
      "Searching For Chloe Harris                                      {'Artist': 3, 'Album': 9}\n",
      "Searching For Sista Bethsabée                                  {'Artist': 10, 'Album': 10}\n",
      "Searching For Ida Kudo                                          {'Artist': 5, 'Album': 12}\n",
      "Searching For Anna Nordell                                      {'Artist': 15, 'Album': 8}\n",
      "Searching For Qlap                                              {'Artist': 9, 'Album': 13}\n",
      "Searching For DJ OP Dot                                         {'Artist': 12, 'Album': 11}\n",
      "Searching For Shadow Biosphere                                  {'Artist': 7, 'Album': 9}\n",
      "Searching For Dj Gálio                                         {'Artist': 7, 'Album': 15}\n",
      "Searching For Eduard de Lange                                   {'Artist': 1, 'Album': 10}\n",
      "Searching For Taranhawk                                         {'Artist': 2, 'Album': 14}\n",
      "Searching For G Pillola                                         {'Artist': 8, 'Album': 11}\n",
      "Searching For Tachycardie                                       {'Artist': 11, 'Album': 13}\n",
      "Searching For Morgue Vanguard                                   {'Artist': 7, 'Album': 9}\n",
      "Searching For Martin Stark                                      {'Artist': 7, 'Album': 16}\n",
      "Searching For Cosmonautica                                      {'Artist': 11, 'Album': 13}\n",
      "Searching For Decency                                           {'Artist': 29, 'Album': 14}\n",
      "Searching For Jane G                                            {'Artist': 31, 'Album': 15}\n",
      "Searching For Metal Mercy                                       {'Artist': 26, 'Album': 14}\n",
      "Searching For Johnny Flesh & The Redneck Zombies                {'Artist': 8, 'Album': 7}\n",
      "Searching For Neil Rumney                                       {'Artist': 0, 'Album': 0}\n",
      "Searching For Rashmi Virag                                      {'Artist': 48, 'Album': 18}\n",
      " [Getting AppleMusic ArtistIDs] | 3100/?     : RunTime 5 Hour and 21 Minute.\n",
      "*****************************************************************************************************************************\n",
      "*                                                    Saving SearchArtist                                                    *\n",
      "*****************************************************************************************************************************\n",
      "  Saving Index [332407] ... Done\n",
      "  Saving Data [16975] ... Done\n",
      "  Saving Error [88] ... Done\n"
     ]
    },
    {
     "data": {
      "application/vnd.jupyter.widget-view+json": {
       "model_id": "b21620a1cc1344af80bae882d2f87b9c",
       "version_major": 2,
       "version_minor": 0
      },
      "text/plain": [
       "Waiting:   0%|          | 0/50 [00:00<?, ?it/s]"
      ]
     },
     "metadata": {},
     "output_type": "display_data"
    },
    {
     "name": "stdout",
     "output_type": "stream",
     "text": [
      "Searching For 10cellphones                                      {'Artist': 9, 'Album': 13}\n",
      "Searching For Matt Tobey                                        {'Artist': 10, 'Album': 7}\n",
      "Searching For Benzo Fly                                         {'Artist': 12, 'Album': 7}\n",
      "Searching For DJ Chiquita                                       {'Artist': 16, 'Album': 13}\n",
      "Searching For Sean Riley                                        {'Artist': 16, 'Album': 9}\n",
      "Searching For Junior Zamora                                     {'Artist': 12, 'Album': 13}\n",
      "Searching For IIDA                                              {'Artist': 28, 'Album': 16}\n",
      "Searching For Yung Saber                                        {'Artist': 19, 'Album': 15}\n",
      "Searching For Motel 21                                          {'Artist': 5, 'Album': 12}\n",
      "Searching For Dries                                             {'Artist': 25, 'Album': 12}\n",
      "Searching For AMG Domina                                        {'Artist': 8, 'Album': 13}\n",
      "Searching For PraxisCat                                         {'Artist': 1, 'Album': 4}\n",
      "Searching For Watzgood                                          {'Artist': 12, 'Album': 13}\n",
      "Searching For Nate Jones                                        {'Artist': 9, 'Album': 10}\n",
      "Searching For Oath of Damnation                                 {'Artist': 6, 'Album': 7}\n",
      "Searching For Cotton & Gin                                      {'Artist': 2, 'Album': 13}\n",
      "Searching For Lil Ricky                                         {'Artist': 26, 'Album': 15}\n",
      "Searching For Harm en Roelof                                    {'Artist': 1, 'Album': 9}\n",
      "Searching For Two Boys Alright                                  {'Artist': 11, 'Album': 8}\n",
      "Searching For Naiky Unic                                        {'Artist': 10, 'Album': 11}\n",
      "Searching For Rachele Royale                                    {'Artist': 2, 'Album': 15}\n",
      "Searching For Jay 1:40                                          {'Artist': 3, 'Album': 12}\n",
      "Searching For BlaqGold                                          {'Artist': 5, 'Album': 8}\n",
      "Searching For Keith Franklin                                    {'Artist': 10, 'Album': 9}\n",
      "Searching For DJ Panico                                         {'Artist': 5, 'Album': 7}\n",
      " [Getting AppleMusic ArtistIDs] | 3125/?     : RunTime 5 Hour and 24 Minute.\n",
      "*****************************************************************************************************************************\n",
      "*                                                    Saving SearchArtist                                                    *\n",
      "*****************************************************************************************************************************\n",
      "  Saving Index [332432] ... Done\n",
      "  Saving Data [17000] ... Done\n",
      "  Saving Error [88] ... Done\n"
     ]
    },
    {
     "data": {
      "application/vnd.jupyter.widget-view+json": {
       "model_id": "b7c205f3deb34ae185f67c1e48b5ab27",
       "version_major": 2,
       "version_minor": 0
      },
      "text/plain": [
       "Waiting:   0%|          | 0/50 [00:00<?, ?it/s]"
      ]
     },
     "metadata": {},
     "output_type": "display_data"
    },
    {
     "name": "stdout",
     "output_type": "stream",
     "text": [
      "Searching For Marlose                                           {'Artist': 23, 'Album': 15}\n",
      "Searching For Cabrito Vudu                                      {'Artist': 2, 'Album': 8}\n",
      "Searching For Paul Zala                                         {'Artist': 4, 'Album': 3}\n",
      "Searching For Cole Jones                                        {'Artist': 19, 'Album': 10}\n",
      "Searching For Treadstone                                        {'Artist': 17, 'Album': 14}\n",
      "Searching For Psychoacoustic Vision                             {'Artist': 2, 'Album': 6}\n",
      "Searching For Grant Lewis                                       {'Artist': 12, 'Album': 13}\n",
      "Searching For Interstellar Noise                                {'Artist': 4, 'Album': 9}\n",
      "Searching For John Dixon                                        {'Artist': 11, 'Album': 9}\n",
      "Searching For Matt Robertson                                    {'Artist': 8, 'Album': 7}\n",
      "Searching For Despot Tomic                                      {'Artist': 1, 'Album': 7}\n",
      "Searching For Skrubol                                           {'Artist': 16, 'Album': 9}\n",
      "Searching For Digital Soundboy                                  {'Artist': 16, 'Album': 7}\n",
      "Searching For Blausch                                           {'Artist': 15, 'Album': 12}\n",
      "Searching For Schpilkas                                         {'Artist': 2, 'Album': 9}\n",
      "Searching For Quemasantos                                       {'Artist': 1, 'Album': 3}\n",
      "Searching For Francesca LaRosa                                  {'Artist': 3, 'Album': 12}\n",
      "Searching For Apelislin                                         {'Artist': 7, 'Album': 10}\n",
      "Searching For Roelo                                             {'Artist': 11, 'Album': 14}\n",
      "Searching For John Goulart                                      {'Artist': 5, 'Album': 6}\n",
      "Searching For Prod Yayo                                         {'Artist': 9, 'Album': 8}\n",
      "Searching For R. Keenan Lawler                                  {'Artist': 2, 'Album': 4}\n",
      "Searching For Inkognito                                         {'Artist': 24, 'Album': 17}\n",
      "Searching For Voice Of Art                                      {'Artist': 24, 'Album': 12}\n",
      "Searching For Marco Botelli                                     {'Artist': 1, 'Album': 6}\n",
      " [Getting AppleMusic ArtistIDs] | 3150/?     : RunTime 5 Hour and 26 Minute.\n",
      "*****************************************************************************************************************************\n",
      "*                                                    Saving SearchArtist                                                    *\n",
      "*****************************************************************************************************************************\n",
      "  Saving Index [332457] ... Done\n",
      "  Saving Data [17025] ... Done\n",
      "  Saving Error [88] ... Done\n"
     ]
    },
    {
     "data": {
      "application/vnd.jupyter.widget-view+json": {
       "model_id": "90eb08ca901c43e8a6e77cf01468e769",
       "version_major": 2,
       "version_minor": 0
      },
      "text/plain": [
       "Waiting:   0%|          | 0/50 [00:00<?, ?it/s]"
      ]
     },
     "metadata": {},
     "output_type": "display_data"
    },
    {
     "name": "stdout",
     "output_type": "stream",
     "text": [
      "Searching For Antitrust                                         {'Artist': 22, 'Album': 16}\n",
      "Searching For IN6N                                              {'Artist': 9, 'Album': 14}\n",
      "Searching For Fia Fiell                                         {'Artist': 2, 'Album': 6}\n",
      "Searching For Jassi Mahalon                                     {'Artist': 7, 'Album': 14}\n",
      "Searching For TurnOut                                           {'Artist': 31, 'Album': 16}\n",
      "Searching For Almas de Barrio                                   {'Artist': 6, 'Album': 9}\n",
      "Searching For Orli Anrow                                        {'Artist': 1, 'Album': 7}\n",
      "Searching For Alex Manga                                        {'Artist': 9, 'Album': 9}\n",
      "Searching For Anita Blay                                        {'Artist': 3, 'Album': 5}\n",
      "Searching For Nu Soul                                           {'Artist': 32, 'Album': 16}\n",
      "Searching For Pete Spruce                                       {'Artist': 5, 'Album': 13}\n",
      "Searching For Capac                                             {'Artist': 17, 'Album': 12}\n",
      "Searching For Black Mice                                        {'Artist': 14, 'Album': 11}\n",
      "Searching For Themis Flessas                                    {'Artist': 11, 'Album': 16}\n",
      "Searching For Bee Lincoln                                       {'Artist': 2, 'Album': 15}\n",
      "Searching For Feno                                              {'Artist': 23, 'Album': 14}\n",
      "Searching For Magna Carda                                       {'Artist': 2, 'Album': 8}\n",
      "Searching For Bendt                                             {'Artist': 15, 'Album': 11}\n",
      "Searching For Willis Fader                                      {'Artist': 1, 'Album': 7}\n",
      "Searching For Steaward                                          {'Artist': 19, 'Album': 16}\n",
      "Searching For The Electronic Boogie Band                        {'Artist': 21, 'Album': 16}\n",
      "Searching For LORD UNCLE DAVE                                   {'Artist': 1, 'Album': 12}\n",
      "Searching For Bethlehem Casuals                                 {'Artist': 1, 'Album': 7}\n",
      "Searching For Desorden KDC                                      {'Artist': 21, 'Album': 15}\n",
      "Searching For Trash Heaven                                      {'Artist': 5, 'Album': 7}\n",
      " [Getting AppleMusic ArtistIDs] | 3175/?     : RunTime 5 Hour and 29 Minute.\n",
      "*****************************************************************************************************************************\n",
      "*                                                    Saving SearchArtist                                                    *\n",
      "*****************************************************************************************************************************\n",
      "  Saving Index [332482] ... Done\n",
      "  Saving Data [17050] ... Done\n",
      "  Saving Error [88] ... Done\n"
     ]
    },
    {
     "data": {
      "application/vnd.jupyter.widget-view+json": {
       "model_id": "3d513a801f464e1da2eb66c49e49cd73",
       "version_major": 2,
       "version_minor": 0
      },
      "text/plain": [
       "Waiting:   0%|          | 0/50 [00:00<?, ?it/s]"
      ]
     },
     "metadata": {},
     "output_type": "display_data"
    },
    {
     "name": "stdout",
     "output_type": "stream",
     "text": [
      "Searching For Christine Lucas                                   {'Artist': 12, 'Album': 10}\n",
      "Searching For Ten Feet Tall                                     {'Artist': 18, 'Album': 15}\n",
      "Searching For The Oratorio Society Of New York                  {'Artist': 29, 'Album': 6}\n",
      "Searching For El Joy                                            {'Artist': 32, 'Album': 14}\n",
      "Searching For Arthur Kody                                       {'Artist': 15, 'Album': 13}\n",
      "Searching For Ultimo Rausea                                     {'Artist': 1, 'Album': 1}\n",
      "Searching For 5ON5                                              {'Artist': 16, 'Album': 8}\n",
      "Searching For Karen Leatham                                     {'Artist': 0, 'Album': 0}\n",
      "Searching For Maria Jeffers                                     {'Artist': 19, 'Album': 5}\n",
      "Searching For Michael Cartellone                                {'Artist': 2, 'Album': 11}\n",
      "Searching For Diana Lewis                                       {'Artist': 9, 'Album': 11}\n",
      "Searching For Mark Gajadhar                                     {'Artist': 0, 'Album': 0}\n",
      "Searching For Black Jeruz                                       {'Artist': 0, 'Album': 0}\n",
      "Searching For Roger Nilsson                                     {'Artist': 51, 'Album': 8}\n",
      "Searching For Al Eaton                                          {'Artist': 15, 'Album': 8}\n",
      "Searching For Martin Axenrot                                    {'Artist': 0, 'Album': 0}\n",
      "Searching For Herb Wong                                         {'Artist': 1, 'Album': 1}\n",
      "Searching For Marc Antoine Moreau                               {'Artist': 2, 'Album': 1}\n",
      "Searching For Tommy Nola                                        {'Artist': 14, 'Album': 11}\n",
      "Searching For Gee Roberson                                      {'Artist': 2, 'Album': 4}\n",
      "Searching For Devotional                                        {'Artist': 29, 'Album': 16}\n",
      "Searching For Iter Pactum                                       {'Artist': 1, 'Album': 1}\n",
      "Searching For The Goldilocks Enigma                             {'Artist': 3, 'Album': 10}\n",
      "Searching For Breaking Violet                                   {'Artist': 11, 'Album': 9}\n",
      "Searching For Kurt Van Meter                                    {'Artist': 3, 'Album': 12}\n",
      " [Getting AppleMusic ArtistIDs] | 3200/?     : RunTime 5 Hour and 31 Minute.\n",
      "*****************************************************************************************************************************\n",
      "*                                                    Saving SearchArtist                                                    *\n",
      "*****************************************************************************************************************************\n",
      "  Saving Index [332507] ... Done\n",
      "  Saving Data [17075] ... Done\n",
      "  Saving Error [88] ... Done\n"
     ]
    },
    {
     "data": {
      "application/vnd.jupyter.widget-view+json": {
       "model_id": "a9f82b1100a3482889f08aaedfe532f8",
       "version_major": 2,
       "version_minor": 0
      },
      "text/plain": [
       "Waiting:   0%|          | 0/50 [00:00<?, ?it/s]"
      ]
     },
     "metadata": {},
     "output_type": "display_data"
    },
    {
     "name": "stdout",
     "output_type": "stream",
     "text": [
      "Searching For El Ceh Bestial                                    {'Artist': 4, 'Album': 13}\n",
      "Searching For Caleb Blood                                       {'Artist': 6, 'Album': 8}\n",
      "Searching For Emmitte Prince                                    {'Artist': 6, 'Album': 9}\n",
      "Searching For green tee                                         {'Artist': 20, 'Album': 15}\n",
      "Searching For S.M.D Music                                       {'Artist': 30, 'Album': 17}\n",
      "Searching For Mc Avida                                          {'Artist': 8, 'Album': 12}\n",
      "Searching For Jameson Winter                                    {'Artist': 3, 'Album': 10}\n",
      "Searching For CityBoi Base                                      {'Artist': 3, 'Album': 10}\n",
      "Searching For Steel City Hustlers                               {'Artist': 7, 'Album': 10}\n",
      "Searching For Ben McConnell                                     {'Artist': 7, 'Album': 19}\n",
      "Searching For Sarah Lorente                                     {'Artist': 1, 'Album': 8}\n",
      "Searching For Stephen Onprachanh                                {'Artist': 2, 'Album': 12}\n",
      "Searching For Fred Gramann                                      {'Artist': 18, 'Album': 4}\n",
      "Searching For Amber Jay                                         {'Artist': 7, 'Album': 13}\n",
      "Searching For Precursor (NL)                                    {'Artist': 3, 'Album': 9}\n",
      "Searching For Kado Beatz                                        {'Artist': 3, 'Album': 9}\n",
      "Searching For Nigrum Mortem                                     {'Artist': 6, 'Album': 6}\n",
      "Searching For O.B.L.                                            {'Artist': 40, 'Album': 15}\n",
      "Searching For War Pigs                                          {'Artist': 21, 'Album': 14}\n",
      "Searching For King Kong Ding Dong                               {'Artist': 7, 'Album': 9}\n",
      "Searching For Sagou                                             {'Artist': 15, 'Album': 11}\n",
      "Searching For Teaadora                                          {'Artist': 4, 'Album': 4}\n",
      "Searching For Rob Madna Trio                                    {'Artist': 5, 'Album': 2}\n",
      "Searching For Giuda                                             {'Artist': 21, 'Album': 16}\n",
      "Searching For Bo Candy and His Broken Hearts                    {'Artist': 11, 'Album': 9}\n",
      " [Getting AppleMusic ArtistIDs] | 3225/?     : RunTime 5 Hour and 34 Minute.\n",
      "*****************************************************************************************************************************\n",
      "*                                                    Saving SearchArtist                                                    *\n",
      "*****************************************************************************************************************************\n",
      "  Saving Index [332532] ... Done\n",
      "  Saving Data [17100] ... Done\n",
      "  Saving Error [88] ... Done\n"
     ]
    },
    {
     "data": {
      "application/vnd.jupyter.widget-view+json": {
       "model_id": "c8e8cbd6f9ef47bba398dd905748fa98",
       "version_major": 2,
       "version_minor": 0
      },
      "text/plain": [
       "Waiting:   0%|          | 0/50 [00:00<?, ?it/s]"
      ]
     },
     "metadata": {},
     "output_type": "display_data"
    },
    {
     "name": "stdout",
     "output_type": "stream",
     "text": [
      "Searching For Corazón Rebelde                                  {'Artist': 17, 'Album': 13}\n",
      "Searching For Paul Green School of Rock All-Stars               {'Artist': 21, 'Album': 13}\n",
      "Searching For Danny Leax                                        {'Artist': 11, 'Album': 11}\n",
      "Searching For Bassex                                            {'Artist': 9, 'Album': 11}\n",
      "Searching For Mestre Chapeleiro                                 {'Artist': 3, 'Album': 13}\n",
      "Searching For Eddie Greene                                      {'Artist': 6, 'Album': 10}\n",
      "Searching For Gatien                                            {'Artist': 9, 'Album': 11}\n",
      "Searching For Untouchables                                      {'Artist': 31, 'Album': 18}\n",
      "Searching For Peters Sisters                                    {'Artist': 34, 'Album': 18}\n",
      "Searching For Tommy Sosebee                                     {'Artist': 2, 'Album': 0}\n",
      "Searching For Len Lewis                                         {'Artist': 28, 'Album': 10}\n",
      "Searching For Mihály Bächer                                   {'Artist': 5, 'Album': 10}\n",
      "Searching For Ansambl elektromuzykalnykh instrumentov pod upravleniem Vyacheslava Mescherina{'Artist': 0, 'Album': 0}\n",
      "Searching For Hollow Everdaze                                   {'Artist': 1, 'Album': 4}\n",
      "Searching For スコッテ✞ィ畜生SCOTTY INCORPORATED                       {'Artist': 0, 'Album': 0}\n",
      "Searching For icy danmaku                                       {'Artist': 1, 'Album': 0}\n",
      "Searching For Ephrem Lüchinger                                 {'Artist': 4, 'Album': 4}\n",
      "Searching For Timo$                                             {'Artist': 23, 'Album': 16}\n",
      "Searching For IGIR Woodiee                                      {'Artist': 2, 'Album': 2}\n",
      "Searching For Soulja Mook                                       {'Artist': 8, 'Album': 7}\n",
      "Searching For Soulplate                                         {'Artist': 11, 'Album': 10}\n",
      "Searching For Johannes Verhulst                                 {'Artist': 13, 'Album': 5}\n",
      "Searching For John Wimber                                       {'Artist': 6, 'Album': 4}\n",
      "Searching For Northern Departure                                {'Artist': 2, 'Album': 3}\n",
      "Searching For Heavens Sake                                      {'Artist': 21, 'Album': 13}\n",
      " [Getting AppleMusic ArtistIDs] | 3250/?     : RunTime 5 Hour and 37 Minute.\n",
      "*****************************************************************************************************************************\n",
      "*                                                    Saving SearchArtist                                                    *\n",
      "*****************************************************************************************************************************\n",
      "  Saving Index [332557] ... Done\n",
      "  Saving Data [17125] ... Done\n",
      "  Saving Error [88] ... Done\n"
     ]
    },
    {
     "data": {
      "application/vnd.jupyter.widget-view+json": {
       "model_id": "293a12098e1b41f9ae23aec759385b9f",
       "version_major": 2,
       "version_minor": 0
      },
      "text/plain": [
       "Waiting:   0%|          | 0/50 [00:00<?, ?it/s]"
      ]
     },
     "metadata": {},
     "output_type": "display_data"
    },
    {
     "name": "stdout",
     "output_type": "stream",
     "text": [
      "Searching For Texas City Revelators                             {'Artist': 1, 'Album': 2}\n",
      "Searching For Steven Merson                                     {'Artist': 1, 'Album': 8}\n",
      "Searching For LTM                                               {'Artist': 24, 'Album': 14}\n",
      "Searching For Jostra                                            {'Artist': 28, 'Album': 13}\n",
      "Searching For Garcia Smith                                      {'Artist': 17, 'Album': 8}\n",
      "Searching For Fayelo                                            {'Artist': 3, 'Album': 1}\n",
      "Searching For HEDROW                                            {'Artist': 9, 'Album': 19}\n",
      "Searching For Frowin Von Boyen                                  {'Artist': 6, 'Album': 12}\n",
      "Searching For DJ Ricky V                                        {'Artist': 3, 'Album': 8}\n",
      "Searching For French Season                                     {'Artist': 9, 'Album': 19}\n",
      "Searching For George K.                                         {'Artist': 22, 'Album': 19}\n",
      "Searching For Wörky                                            {'Artist': 25, 'Album': 17}\n",
      "Searching For Urutu                                             {'Artist': 19, 'Album': 15}\n",
      "Searching For hahapoison                                        {'Artist': 2, 'Album': 11}\n",
      "Searching For REGALO Joints                                     {'Artist': 10, 'Album': 15}\n",
      "Searching For Gumshoe                                           {'Artist': 24, 'Album': 15}\n",
      "Searching For TESS                                              {'Artist': 31, 'Album': 17}\n",
      "Searching For jye dreems alot                                   {'Artist': 2, 'Album': 2}\n",
      "Searching For Magnús Jóhann                                   {'Artist': 12, 'Album': 7}\n",
      "Searching For Descend To Rise                                   {'Artist': 1, 'Album': 3}\n",
      "Searching For Jesse Huerta                                      {'Artist': 6, 'Album': 5}\n",
      "Searching For Miki Miks                                         {'Artist': 8, 'Album': 8}\n",
      "Searching For Vyper Ranking                                     {'Artist': 8, 'Album': 12}\n",
      "Searching For Gastrick Burst                                    {'Artist': 0, 'Album': 0}\n",
      "Searching For Kevin Yadao                                       {'Artist': 6, 'Album': 14}\n",
      " [Getting AppleMusic ArtistIDs] | 3275/?     : RunTime 5 Hour and 39 Minute.\n",
      "*****************************************************************************************************************************\n",
      "*                                                    Saving SearchArtist                                                    *\n",
      "*****************************************************************************************************************************\n",
      "  Saving Index [332582] ... Done\n",
      "  Saving Data [17150] ... Done\n",
      "  Saving Error [88] ... Done\n"
     ]
    },
    {
     "data": {
      "application/vnd.jupyter.widget-view+json": {
       "model_id": "dd16cec6e3294615884c96ac0c56b6bd",
       "version_major": 2,
       "version_minor": 0
      },
      "text/plain": [
       "Waiting:   0%|          | 0/50 [00:00<?, ?it/s]"
      ]
     },
     "metadata": {},
     "output_type": "display_data"
    },
    {
     "name": "stdout",
     "output_type": "stream",
     "text": [
      "Searching For Angels And Agony                                  {'Artist': 2, 'Album': 7}\n",
      "Searching For BadaBing BadaBoom                                 {'Artist': 9, 'Album': 10}\n",
      "Searching For Ana Milenković                                   {'Artist': 2, 'Album': 4}\n",
      "Searching For Sonia Pelgrims                                    {'Artist': 8, 'Album': 10}\n",
      "Searching For Causenation                                       {'Artist': 4, 'Album': 7}\n",
      "Searching For Ecpatia                                           {'Artist': 3, 'Album': 7}\n",
      "Searching For Franky Bones                                      {'Artist': 9, 'Album': 11}\n",
      "Searching For Maia                                              {'Artist': 28, 'Album': 10}\n",
      "Searching For Flash Kostivich                                   {'Artist': 1, 'Album': 4}\n",
      "Searching For Szenario                                          {'Artist': 16, 'Album': 13}\n",
      "Searching For Tar'beat                                          {'Artist': 14, 'Album': 8}\n",
      "Searching For Kevin Kennedy III                                 {'Artist': 1, 'Album': 13}\n",
      "Searching For Orlika                                            {'Artist': 2, 'Album': 7}\n",
      "Searching For George Watsky                                     {'Artist': 7, 'Album': 4}\n",
      "Searching For Charles & Taylor                                  {'Artist': 26, 'Album': 7}\n",
      "Searching For Grupo Canoa                                       {'Artist': 4, 'Album': 9}\n",
      "Searching For Alcide \"Slow Drag\" Pavageau                       {'Artist': 6, 'Album': 7}\n",
      "Searching For Józef Ost                                        {'Artist': 21, 'Album': 7}\n",
      "Searching For Kha Structure                                     {'Artist': 3, 'Album': 16}\n",
      "Searching For Positively 13 O'Clock                             {'Artist': 11, 'Album': 11}\n",
      "Searching For Peoples Temper                                    {'Artist': 4, 'Album': 7}\n",
      "Searching For Low Season                                        {'Artist': 15, 'Album': 9}\n",
      "Searching For Skynet & Fekky                                    {'Artist': 3, 'Album': 12}\n",
      "Searching For blk.                                              {'Artist': 34, 'Album': 19}\n",
      "Searching For KILL STACY                                        {'Artist': 8, 'Album': 11}\n",
      " [Getting AppleMusic ArtistIDs] | 3300/?     : RunTime 5 Hour and 42 Minute.\n",
      "*****************************************************************************************************************************\n",
      "*                                                    Saving SearchArtist                                                    *\n",
      "*****************************************************************************************************************************\n",
      "  Saving Index [332607] ... Done\n",
      "  Saving Data [17175] ... Done\n",
      "  Saving Error [88] ... Done\n"
     ]
    },
    {
     "data": {
      "application/vnd.jupyter.widget-view+json": {
       "model_id": "565ce44ecc6e491daa4ff264847f3f32",
       "version_major": 2,
       "version_minor": 0
      },
      "text/plain": [
       "Waiting:   0%|          | 0/50 [00:00<?, ?it/s]"
      ]
     },
     "metadata": {},
     "output_type": "display_data"
    },
    {
     "name": "stdout",
     "output_type": "stream",
     "text": [
      "Searching For Dopeboy Trouble                                   {'Artist': 3, 'Album': 17}\n",
      "Searching For Konshens TheMC                                    {'Artist': 5, 'Album': 7}\n",
      "Searching For Aly Voorhees                                      {'Artist': 11, 'Album': 12}\n",
      "Searching For Tbilisi Festival Choir                            {'Artist': 6, 'Album': 6}\n",
      "Searching For Donald Hassard                                    {'Artist': 10, 'Album': 3}\n",
      "Searching For Enrico Bracco                                     {'Artist': 6, 'Album': 8}\n",
      "Searching For Ayhan Yener                                       {'Artist': 4, 'Album': 9}\n",
      "Searching For Shadow Ramirez                                    {'Artist': 9, 'Album': 7}\n",
      "Searching For Bludream                                          {'Artist': 26, 'Album': 20}\n",
      "Searching For The Emanons                                       {'Artist': 9, 'Album': 12}\n",
      "Searching For O.P.A.                                            {'Artist': 37, 'Album': 16}\n",
      "Searching For CH415                                             {'Artist': 17, 'Album': 7}\n",
      "Searching For Aryan Jolly                                       {'Artist': 4, 'Album': 13}\n",
      "Searching For Maria Szymanowska                                 {'Artist': 19, 'Album': 7}\n",
      "Searching For Trailer Trash                                     {'Artist': 19, 'Album': 13}\n",
      "Searching For Uhre                                              {'Artist': 14, 'Album': 11}\n",
      "Searching For General Lee Band                                  {'Artist': 20, 'Album': 9}\n",
      "Searching For Katie May                                         {'Artist': 17, 'Album': 14}\n",
      "Searching For Funkywhat                                         {'Artist': 7, 'Album': 11}\n",
      "Searching For Misty Blues                                       {'Artist': 20, 'Album': 13}\n",
      "Searching For M-Fix                                             {'Artist': 11, 'Album': 10}\n",
      "Searching For LUZE                                              {'Artist': 28, 'Album': 17}\n",
      "Searching For Night Motion                                      {'Artist': 17, 'Album': 13}\n",
      "Searching For Bomb Bay                                          {'Artist': 16, 'Album': 14}\n",
      "Searching For Chris TDK                                         {'Artist': 1, 'Album': 8}\n",
      " [Getting AppleMusic ArtistIDs] | 3325/?     : RunTime 5 Hour and 45 Minute.\n",
      "*****************************************************************************************************************************\n",
      "*                                                    Saving SearchArtist                                                    *\n",
      "*****************************************************************************************************************************\n",
      "  Saving Index [332632] ... Done\n",
      "  Saving Data [17200] ... Done\n",
      "  Saving Error [88] ... Done\n"
     ]
    },
    {
     "data": {
      "application/vnd.jupyter.widget-view+json": {
       "model_id": "a422c9eeaab0495bab90afb531eb81ac",
       "version_major": 2,
       "version_minor": 0
      },
      "text/plain": [
       "Waiting:   0%|          | 0/50 [00:00<?, ?it/s]"
      ]
     },
     "metadata": {},
     "output_type": "display_data"
    },
    {
     "name": "stdout",
     "output_type": "stream",
     "text": [
      "Searching For Dalex (MX)                                        {'Artist': 1, 'Album': 13}\n",
      "Searching For Shatek King                                       {'Artist': 0, 'Album': 0}\n",
      "Searching For Zuke Saga                                         {'Artist': 4, 'Album': 5}\n",
      "Searching For The Ted Taylor Four                               {'Artist': 38, 'Album': 20}\n",
      "Searching For Ian Ross Williams                                 {'Artist': 1, 'Album': 9}\n",
      "Searching For Dj Julian Jaks                                    {'Artist': 1, 'Album': 13}\n",
      "Searching For Arpatle                                           {'Artist': 2, 'Album': 6}\n",
      "Searching For Keyframe                                          {'Artist': 25, 'Album': 14}\n",
      "Searching For Pitch Please!                                     {'Artist': 12, 'Album': 12}\n",
      "Searching For Runespell                                         {'Artist': 0, 'Album': 0}\n",
      "Searching For E Ruscha V                                        {'Artist': 3, 'Album': 4}\n",
      "Searching For Sunshine Disco Kids                               {'Artist': 6, 'Album': 18}\n",
      "Searching For Peatu                                             {'Artist': 6, 'Album': 10}\n",
      "Searching For Kaya Conky                                        {'Artist': 11, 'Album': 14}\n",
      "Searching For JLEON                                             {'Artist': 17, 'Album': 13}\n",
      "Searching For Volker Heuken                                     {'Artist': 3, 'Album': 4}\n",
      "Searching For Fighterlord                                       {'Artist': 1, 'Album': 1}\n",
      "Searching For W.                                                {'Artist': 27, 'Album': 17}\n",
      "Searching For Public Assassin                                   {'Artist': 5, 'Album': 12}\n",
      "Searching For Tomáš Kočko                                    {'Artist': 10, 'Album': 7}\n",
      "Searching For Moana Pozzi                                       {'Artist': 5, 'Album': 6}\n",
      "Searching For Reac-Zo                                           {'Artist': 8, 'Album': 10}\n",
      "Searching For Haggstrom                                         {'Artist': 24, 'Album': 13}\n",
      "Searching For Millie Tizzard                                    {'Artist': 7, 'Album': 12}\n",
      "Searching For Ernest Hayes                                      {'Artist': 0, 'Album': 0}\n",
      " [Getting AppleMusic ArtistIDs] | 3350/?     : RunTime 5 Hour and 47 Minute.\n",
      "*****************************************************************************************************************************\n",
      "*                                                    Saving SearchArtist                                                    *\n",
      "*****************************************************************************************************************************\n",
      "  Saving Index [332657] ... Done\n",
      "  Saving Data [17225] ... Done\n",
      "  Saving Error [88] ... Done\n"
     ]
    },
    {
     "data": {
      "application/vnd.jupyter.widget-view+json": {
       "model_id": "391dbe92d15643d4a9642c3e11f55adc",
       "version_major": 2,
       "version_minor": 0
      },
      "text/plain": [
       "Waiting:   0%|          | 0/50 [00:00<?, ?it/s]"
      ]
     },
     "metadata": {},
     "output_type": "display_data"
    },
    {
     "name": "stdout",
     "output_type": "stream",
     "text": [
      "Searching For Katharina Ernst                                   {'Artist': 3, 'Album': 3}\n",
      "Searching For OP3                                               {'Artist': 63, 'Album': 19}\n",
      "Searching For Matto Rules                                       {'Artist': 1, 'Album': 7}\n",
      "Searching For Sud                                               {'Artist': 37, 'Album': 19}\n",
      "Searching For Young Tanna                                       {'Artist': 7, 'Album': 7}\n",
      "Searching For Tarkan Callioglu                                  {'Artist': 3, 'Album': 5}\n",
      "Searching For Somerset West                                     {'Artist': 2, 'Album': 5}\n",
      "Searching For Roger23                                           {'Artist': 11, 'Album': 9}\n",
      "Searching For Andres Fernandez Aka Knario                       {'Artist': 5, 'Album': 15}\n",
      "Searching For Julia Brennan                                     {'Artist': 2, 'Album': 10}\n",
      "Searching For Melodream                                         {'Artist': 12, 'Album': 14}\n",
      "Searching For Dandelion Fly                                     {'Artist': 5, 'Album': 6}\n",
      "Searching For Indira Valey                                      {'Artist': 2, 'Album': 4}\n",
      "Searching For Ninurta                                           {'Artist': 14, 'Album': 13}\n",
      "Searching For Ste van Holm                                      {'Artist': 3, 'Album': 9}\n",
      "Searching For Большой Детский Хор                             {'Artist': 4, 'Album': 8}\n",
      "Searching For Matteo Negrin                                     {'Artist': 3, 'Album': 4}\n",
      "Searching For Neurosphere                                       {'Artist': 4, 'Album': 8}\n",
      "Searching For Ivana Trump                                       {'Artist': 8, 'Album': 7}\n",
      "Searching For Mamzel                                            {'Artist': 15, 'Album': 15}\n",
      "Searching For Dr. Sykerö                                       {'Artist': 6, 'Album': 8}\n",
      "Searching For B.O.T.S.                                          {'Artist': 37, 'Album': 17}\n",
      "Searching For Sindy                                             {'Artist': 22, 'Album': 13}\n",
      "Searching For Powder Black                                      {'Artist': 9, 'Album': 10}\n",
      "Searching For Misha Miller                                      {'Artist': 11, 'Album': 14}\n",
      " [Getting AppleMusic ArtistIDs] | 3375/?     : RunTime 5 Hour and 50 Minute.\n",
      "*****************************************************************************************************************************\n",
      "*                                                    Saving SearchArtist                                                    *\n",
      "*****************************************************************************************************************************\n",
      "  Saving Index [332682] ... Done\n",
      "  Saving Data [17250] ... Done\n",
      "  Saving Error [88] ... Done\n"
     ]
    },
    {
     "data": {
      "application/vnd.jupyter.widget-view+json": {
       "model_id": "a430e36d9cdc4030967d20217fdd1011",
       "version_major": 2,
       "version_minor": 0
      },
      "text/plain": [
       "Waiting:   0%|          | 0/50 [00:00<?, ?it/s]"
      ]
     },
     "metadata": {},
     "output_type": "display_data"
    },
    {
     "name": "stdout",
     "output_type": "stream",
     "text": [
      "Searching For Seungmin                                          {'Artist': 11, 'Album': 12}\n",
      "Searching For Nicholas Wells                                    {'Artist': 3, 'Album': 7}\n",
      "Searching For Gorrch                                            {'Artist': 17, 'Album': 12}\n",
      "Searching For Nachtig                                           {'Artist': 32, 'Album': 13}\n",
      "Searching For Lacrymae Rerum                                    {'Artist': 8, 'Album': 14}\n",
      "Searching For Ago de Souza                                      {'Artist': 20, 'Album': 11}\n",
      "Searching For Aman Raj                                          {'Artist': 16, 'Album': 16}\n",
      "Searching For Don Julian & The Larks                            {'Artist': 3, 'Album': 8}\n",
      "Searching For Dragos Ungureanu                                  {'Artist': 1, 'Album': 9}\n",
      "Searching For Lew Card                                          {'Artist': 1, 'Album': 7}\n",
      "Searching For Les Polaris                                       {'Artist': 11, 'Album': 13}\n",
      "Searching For Diamba                                            {'Artist': 10, 'Album': 10}\n",
      "Searching For Lil Vith                                          {'Artist': 4, 'Album': 11}\n",
      "Searching For Pokyeo FX                                         {'Artist': 6, 'Album': 10}\n",
      "Searching For Ola Nordmann                                      {'Artist': 11, 'Album': 13}\n",
      "Searching For Aslak Hartberg                                    {'Artist': 7, 'Album': 8}\n",
      "Searching For Armeen Musa                                       {'Artist': 19, 'Album': 8}\n",
      "Searching For Dovetracks                                        {'Artist': 3, 'Album': 9}\n",
      "Searching For The Dirty Sweets                                  {'Artist': 20, 'Album': 13}\n",
      "Searching For Mednezz                                           {'Artist': 3, 'Album': 10}\n",
      "Searching For Buckeye Red                                       {'Artist': 3, 'Album': 7}\n",
      "Searching For Lil Kant                                          {'Artist': 5, 'Album': 8}\n",
      "Searching For Thorough                                          {'Artist': 36, 'Album': 18}\n",
      "Searching For Lefterna                                          {'Artist': 28, 'Album': 9}\n",
      "Searching For Yung Kyoto                                        {'Artist': 5, 'Album': 13}\n",
      " [Getting AppleMusic ArtistIDs] | 3400/?     : RunTime 5 Hour and 52 Minute.\n",
      "*****************************************************************************************************************************\n",
      "*                                                    Saving SearchArtist                                                    *\n",
      "*****************************************************************************************************************************\n",
      "  Saving Index [332707] ... Done\n",
      "  Saving Data [17275] ... Done\n",
      "  Saving Error [88] ... Done\n"
     ]
    },
    {
     "data": {
      "application/vnd.jupyter.widget-view+json": {
       "model_id": "ece28ff5a07f4012be8d878702cfc8fa",
       "version_major": 2,
       "version_minor": 0
      },
      "text/plain": [
       "Waiting:   0%|          | 0/50 [00:00<?, ?it/s]"
      ]
     },
     "metadata": {},
     "output_type": "display_data"
    },
    {
     "name": "stdout",
     "output_type": "stream",
     "text": [
      "Searching For Basco                                             {'Artist': 15, 'Album': 16}\n",
      "Searching For Jorda                                             {'Artist': 27, 'Album': 13}\n",
      "Searching For Dellati                                           {'Artist': 1, 'Album': 14}\n",
      "Searching For Brett Romnes                                      {'Artist': 0, 'Album': 0}\n",
      "Searching For Lootenant                                         {'Artist': 23, 'Album': 11}\n",
      "Searching For Birth Ritual                                      {'Artist': 5, 'Album': 13}\n",
      "Searching For Hell Torment                                      {'Artist': 12, 'Album': 8}\n",
      "Searching For $pud Boom                                         {'Artist': 4, 'Album': 9}\n",
      "Searching For A Good Man Goes To War                            {'Artist': 12, 'Album': 10}\n",
      "Searching For TQDatManye                                        {'Artist': 1, 'Album': 8}\n",
      "Searching For Mike Umoh                                         {'Artist': 2, 'Album': 4}\n",
      "Searching For The Youngsters                                    {'Artist': 16, 'Album': 8}\n",
      "Searching For Toast Gang                                        {'Artist': 1, 'Album': 7}\n",
      "Searching For Kyle Beats                                        {'Artist': 16, 'Album': 15}\n",
      "Searching For Mute Solo                                         {'Artist': 5, 'Album': 13}\n",
      "Searching For Mamie Perry                                       {'Artist': 2, 'Album': 1}\n",
      "Searching For Main Objective                                    {'Artist': 20, 'Album': 14}\n",
      "Searching For Buried Beneath                                    {'Artist': 17, 'Album': 15}\n",
      "Searching For Korsakov                                          {'Artist': 25, 'Album': 10}\n",
      "Searching For Chad Mac                                          {'Artist': 7, 'Album': 12}\n",
      "Searching For MarBlu                                            {'Artist': 8, 'Album': 14}\n",
      "Searching For Villegalle                                        {'Artist': 11, 'Album': 14}\n",
      "Searching For Xuxu Bower                                        {'Artist': 11, 'Album': 10}\n",
      "Searching For J & B                                             {'Artist': 22, 'Album': 18}\n",
      "Searching For Lil Willy 666                                     {'Artist': 14, 'Album': 12}\n",
      " [Getting AppleMusic ArtistIDs] | 3425/?     : RunTime 5 Hour and 55 Minute.\n",
      "*****************************************************************************************************************************\n",
      "*                                                    Saving SearchArtist                                                    *\n",
      "*****************************************************************************************************************************\n",
      "  Saving Index [332732] ... Done\n",
      "  Saving Data [17300] ... Done\n",
      "  Saving Error [88] ... Done\n"
     ]
    },
    {
     "data": {
      "application/vnd.jupyter.widget-view+json": {
       "model_id": "9af673b725a548858f303ef00a7578e5",
       "version_major": 2,
       "version_minor": 0
      },
      "text/plain": [
       "Waiting:   0%|          | 0/50 [00:00<?, ?it/s]"
      ]
     },
     "metadata": {},
     "output_type": "display_data"
    },
    {
     "name": "stdout",
     "output_type": "stream",
     "text": [
      "Searching For 7th Dimension                                     {'Artist': 20, 'Album': 16}\n",
      "Searching For Vivir Quintana                                    {'Artist': 9, 'Album': 14}\n",
      "Searching For TukkerTempo                                       {'Artist': 9, 'Album': 13}\n",
      "Searching For Sweepy G                                          {'Artist': 6, 'Album': 9}\n",
      "Searching For Terrell Grice                                     {'Artist': 13, 'Album': 7}\n",
      "Searching For Sasha Dith                                        {'Artist': 7, 'Album': 12}\n",
      "Searching For First In Line                                     {'Artist': 17, 'Album': 15}\n",
      "Searching For Sander Frame                                      {'Artist': 1, 'Album': 14}\n",
      "Searching For Doublereflect                                     {'Artist': 4, 'Album': 8}\n",
      "Searching For John Shaft                                        {'Artist': 10, 'Album': 13}\n",
      "Searching For Koomz                                             {'Artist': 7, 'Album': 14}\n",
      "Searching For William Parsons                                   {'Artist': 36, 'Album': 8}\n",
      "Searching For Joel Elizalde Jr.                                 {'Artist': 6, 'Album': 5}\n",
      "Searching For Ryan Pharrell                                     {'Artist': 7, 'Album': 13}\n",
      "Searching For Jerom                                             {'Artist': 44, 'Album': 14}\n",
      "Searching For SnowFlake Black                                   {'Artist': 6, 'Album': 8}\n",
      "Searching For Riccardo Azzurri                                  {'Artist': 2, 'Album': 7}\n",
      "Searching For Shanesa                                           {'Artist': 11, 'Album': 12}\n",
      "Searching For Hydroxide                                         {'Artist': 17, 'Album': 14}\n",
      "Searching For Radiation Dust                                    {'Artist': 8, 'Album': 6}\n",
      "Searching For M26                                               {'Artist': 25, 'Album': 17}\n",
      "Searching For Crown of Thorns                                   {'Artist': 20, 'Album': 14}\n",
      "Searching For Baal Gadrial                                      {'Artist': 0, 'Album': 0}\n",
      "Searching For Amputation                                        {'Artist': 22, 'Album': 15}\n",
      "Searching For Scaremaker                                        {'Artist': 0, 'Album': 0}\n",
      " [Getting AppleMusic ArtistIDs] | 3450/?     : RunTime 5 Hour and 58 Minute.\n",
      "*****************************************************************************************************************************\n",
      "*                                                    Saving SearchArtist                                                    *\n",
      "*****************************************************************************************************************************\n",
      "  Saving Index [332757] ... Done\n",
      "  Saving Data [17325] ... Done\n",
      "  Saving Error [88] ... Done\n"
     ]
    },
    {
     "data": {
      "application/vnd.jupyter.widget-view+json": {
       "model_id": "1dc9c48c2e454d47b56db9e3409aaf86",
       "version_major": 2,
       "version_minor": 0
      },
      "text/plain": [
       "Waiting:   0%|          | 0/50 [00:00<?, ?it/s]"
      ]
     },
     "metadata": {},
     "output_type": "display_data"
    },
    {
     "name": "stdout",
     "output_type": "stream",
     "text": [
      "Searching For Assault                                           {'Artist': 46, 'Album': 18}\n",
      "Searching For Ethicist                                          {'Artist': 2, 'Album': 5}\n",
      "Searching For Chaosmonger                                       {'Artist': 2, 'Album': 5}\n",
      "Searching For Chela Simone                                      {'Artist': 20, 'Album': 8}\n",
      "Searching For Sandy Hawkins                                     {'Artist': 1, 'Album': 12}\n",
      "Searching For Poets of Thought                                  {'Artist': 9, 'Album': 8}\n",
      "Searching For Bierstrassen Cowboys                              {'Artist': 1, 'Album': 2}\n",
      "Searching For Macadam Crocodile                                 {'Artist': 2, 'Album': 11}\n",
      "Searching For Silk Animus                                       {'Artist': 3, 'Album': 10}\n",
      "Searching For Dayum                                             {'Artist': 23, 'Album': 14}\n",
      "Searching For Simone Panetti                                    {'Artist': 8, 'Album': 9}\n",
      "Searching For ISQ                                               {'Artist': 16, 'Album': 15}\n",
      "Searching For Cyriel                                            {'Artist': 16, 'Album': 17}\n",
      "Searching For Harri Nuutinen                                    {'Artist': 2, 'Album': 3}\n",
      "Searching For Jay Oc                                            {'Artist': 15, 'Album': 14}\n",
      "Searching For Lou Geniuz                                        {'Artist': 12, 'Album': 9}\n",
      "Searching For Maija Lūsēna                                    {'Artist': 14, 'Album': 9}\n",
      "Searching For LOFT 93                                           {'Artist': 4, 'Album': 11}\n",
      "Searching For Lupe Villar                                       {'Artist': 3, 'Album': 5}\n",
      "Searching For Spectral Darkwave                                 {'Artist': 1, 'Album': 7}\n",
      "Searching For Valdo Vinoz                                       {'Artist': 14, 'Album': 16}\n",
      "Searching For Mauricio Garay Cid                                {'Artist': 1, 'Album': 7}\n",
      "Searching For Jukx                                              {'Artist': 14, 'Album': 13}\n",
      "Searching For John Paul Wright                                  {'Artist': 11, 'Album': 10}\n",
      "Searching For Jack &amp; Jones                                  {'Artist': 20, 'Album': 11}\n",
      " [Getting AppleMusic ArtistIDs] | 3475/?     : RunTime 6 Hour and 38 Second.\n",
      "*****************************************************************************************************************************\n",
      "*                                                    Saving SearchArtist                                                    *\n",
      "*****************************************************************************************************************************\n",
      "  Saving Index [332782] ... Done\n",
      "  Saving Data [17350] ... Done\n",
      "  Saving Error [88] ... Done\n"
     ]
    },
    {
     "data": {
      "application/vnd.jupyter.widget-view+json": {
       "model_id": "9d6f2b8c371a41f69a2599ede548eb36",
       "version_major": 2,
       "version_minor": 0
      },
      "text/plain": [
       "Waiting:   0%|          | 0/50 [00:00<?, ?it/s]"
      ]
     },
     "metadata": {},
     "output_type": "display_data"
    },
    {
     "name": "stdout",
     "output_type": "stream",
     "text": [
      "Searching For Tim McCarver                                      {'Artist': 2, 'Album': 2}\n",
      "Searching For Uppa Notch                                        {'Artist': 12, 'Album': 11}\n",
      "Searching For Maskhera                                          {'Artist': 2, 'Album': 7}\n",
      "Searching For Lil Fifty                                         {'Artist': 23, 'Album': 15}\n",
      "Searching For DJ Steevo                                         {'Artist': 8, 'Album': 15}\n",
      "Searching For Jazz Jamaica Allstars                             {'Artist': 4, 'Album': 4}\n",
      "Searching For DJ Kally Boom Shabazz                             {'Artist': 3, 'Album': 3}\n",
      "Searching For Mel Brown B-3 Organ Quartet                       {'Artist': 1, 'Album': 1}\n",
      "Searching For James O'Hea                                       {'Artist': 10, 'Album': 14}\n",
      "Searching For Blomfelt & Narby                                  {'Artist': 11, 'Album': 7}\n",
      "Searching For Boss and Swan                                     {'Artist': 22, 'Album': 9}\n",
      "Searching For Destiny Moriah                                    {'Artist': 9, 'Album': 13}\n",
      "Searching For Grace Lachance                                    {'Artist': 5, 'Album': 10}\n",
      "Searching For Middle Class Richkids                             {'Artist': 1, 'Album': 13}\n",
      "Searching For Buck Sosa                                         {'Artist': 5, 'Album': 13}\n",
      "Searching For Bohema                                            {'Artist': 19, 'Album': 12}\n",
      "Searching For Dark Remains                                      {'Artist': 12, 'Album': 11}\n",
      "Searching For The Sacrificed                                    {'Artist': 27, 'Album': 17}\n",
      "Searching For Pripegal                                          {'Artist': 28, 'Album': 7}\n",
      "Searching For Alta Tensão                                      {'Artist': 19, 'Album': 16}\n",
      "Searching For Never                                             {'Artist': 27, 'Album': 16}\n",
      "Searching For Exousia                                           {'Artist': 24, 'Album': 17}\n",
      "Searching For Plastilinovy Jinn                                 {'Artist': 0, 'Album': 0}\n",
      "Searching For Ivan Bonačić                                    {'Artist': 2, 'Album': 4}\n",
      "Searching For AINON                                             {'Artist': 20, 'Album': 12}\n",
      " [Getting AppleMusic ArtistIDs] | 3500/?     : RunTime 6 Hour and 3 Minute.\n",
      "*****************************************************************************************************************************\n",
      "*                                                    Saving SearchArtist                                                    *\n",
      "*****************************************************************************************************************************\n",
      "  Saving Index [332807] ... Done\n",
      "  Saving Data [17375] ... Done\n",
      "  Saving Error [88] ... Done\n"
     ]
    },
    {
     "data": {
      "application/vnd.jupyter.widget-view+json": {
       "model_id": "233a3e8f136d44288aa47cba3c47a0e0",
       "version_major": 2,
       "version_minor": 0
      },
      "text/plain": [
       "Waiting:   0%|          | 0/50 [00:00<?, ?it/s]"
      ]
     },
     "metadata": {},
     "output_type": "display_data"
    },
    {
     "name": "stdout",
     "output_type": "stream",
     "text": [
      "Searching For The Almighty Devildogs                            {'Artist': 4, 'Album': 8}\n",
      "Searching For Gardsghastr                                       {'Artist': 1, 'Album': 1}\n",
      "Searching For David Stellar                                     {'Artist': 10, 'Album': 12}\n",
      "Searching For MaStaFaktor                                       {'Artist': 1, 'Album': 10}\n",
      "Searching For Filipe Lopes                                      {'Artist': 21, 'Album': 12}\n",
      "Searching For Kirk Miller                                       {'Artist': 7, 'Album': 8}\n",
      "Searching For Benedictus Appenzeller                            {'Artist': 17, 'Album': 7}\n",
      "Searching For Exotic Skottie                                    {'Artist': 1, 'Album': 10}\n",
      "Searching For Esther Sparkes                                    {'Artist': 11, 'Album': 11}\n",
      "Searching For Phyric                                            {'Artist': 7, 'Album': 16}\n",
      "Searching For Fetch                                             {'Artist': 33, 'Album': 19}\n",
      "Searching For Crow's Flight                                     {'Artist': 7, 'Album': 7}\n",
      "Searching For Álvaro Socci                                     {'Artist': 1, 'Album': 1}\n",
      "Searching For BB Project                                        {'Artist': 10, 'Album': 9}\n",
      "Searching For HXIST                                             {'Artist': 24, 'Album': 14}\n",
      "Searching For S.K.Y.                                            {'Artist': 32, 'Album': 13}\n",
      "Searching For INSOLENTES                                        {'Artist': 25, 'Album': 14}\n",
      "Searching For Rabo                                              {'Artist': 33, 'Album': 15}\n",
      "Searching For Opus Dead                                         {'Artist': 14, 'Album': 8}\n",
      "Searching For Sibbi Hier                                        {'Artist': 1, 'Album': 1}\n",
      "Searching For Locobeach                                         {'Artist': 1, 'Album': 5}\n",
      "Searching For Sci-Fi River                                      {'Artist': 14, 'Album': 13}\n",
      "Searching For Bun-Zero                                          {'Artist': 24, 'Album': 13}\n",
      "Searching For DJ Sarasa                                         {'Artist': 5, 'Album': 6}\n",
      "Searching For Leo Nadelmann                                     {'Artist': 3, 'Album': 2}\n",
      " [Getting AppleMusic ArtistIDs] | 3525/?     : RunTime 6 Hour and 5 Minute.\n",
      "*****************************************************************************************************************************\n",
      "*                                                    Saving SearchArtist                                                    *\n",
      "*****************************************************************************************************************************\n",
      "  Saving Index [332832] ... Done\n",
      "  Saving Data [17400] ... Done\n",
      "  Saving Error [88] ... Done\n"
     ]
    },
    {
     "data": {
      "application/vnd.jupyter.widget-view+json": {
       "model_id": "e91633bc2cbf4ded8168d961f5274008",
       "version_major": 2,
       "version_minor": 0
      },
      "text/plain": [
       "Waiting:   0%|          | 0/50 [00:00<?, ?it/s]"
      ]
     },
     "metadata": {},
     "output_type": "display_data"
    },
    {
     "name": "stdout",
     "output_type": "stream",
     "text": [
      "Searching For Urban Kaos                                        {'Artist': 9, 'Album': 9}\n",
      "Searching For Hein van der Gaag                                 {'Artist': 2, 'Album': 2}\n",
      "Searching For Class of 69                                       {'Artist': 11, 'Album': 11}\n",
      "Searching For Macbeth the Great                                 {'Artist': 5, 'Album': 5}\n",
      "Searching For Luminita Dobrescu                                 {'Artist': 0, 'Album': 0}\n",
      "Searching For Symfonieorkest Vlaanderen                         {'Artist': 10, 'Album': 4}\n",
      "Searching For Billy Wiggle 'n' the Wigglers                     {'Artist': 1, 'Album': 1}\n",
      "Searching For Marguerite d'Alvarez                              {'Artist': 3, 'Album': 3}\n",
      "Searching For Organism                                          {'Artist': 26, 'Album': 16}\n",
      "Searching For Huw & Tony Williams                               {'Artist': 0, 'Album': 0}\n",
      "Searching For The Last Battle                                   {'Artist': 23, 'Album': 16}\n",
      "Searching For The Bob Mitchell Boys' Choir                      {'Artist': 7, 'Album': 0}\n",
      "Searching For Moses Tyson                                       {'Artist': 6, 'Album': 8}\n",
      "Searching For Spore Spawn                                       {'Artist': 8, 'Album': 7}\n",
      "Searching For De Leon                                           {'Artist': 30, 'Album': 15}\n",
      "Searching For A.G.E.                                            {'Artist': 22, 'Album': 11}\n",
      "Searching For The Dialtones                                     {'Artist': 7, 'Album': 12}\n",
      "Searching For Enrico Malatesta                                  {'Artist': 5, 'Album': 1}\n",
      "Searching For 202project                                        {'Artist': 8, 'Album': 4}\n",
      "Searching For Martha Love                                       {'Artist': 8, 'Album': 15}\n",
      "Searching For TJ Maxx                                           {'Artist': 11, 'Album': 14}\n",
      "Searching For Austin White 711                                  {'Artist': 8, 'Album': 12}\n",
      "Searching For Mike T                                            {'Artist': 27, 'Album': 15}\n",
      "Searching For Eduard Crazy Boy                                  {'Artist': 29, 'Album': 13}\n",
      "Searching For Jeff Winner                                       {'Artist': 3, 'Album': 8}\n",
      " [Getting AppleMusic ArtistIDs] | 3550/?     : RunTime 6 Hour and 8 Minute.\n",
      "*****************************************************************************************************************************\n",
      "*                                                    Saving SearchArtist                                                    *\n",
      "*****************************************************************************************************************************\n",
      "  Saving Index [332857] ... Done\n",
      "  Saving Data [17425] ... Done\n",
      "  Saving Error [88] ... Done\n"
     ]
    },
    {
     "data": {
      "application/vnd.jupyter.widget-view+json": {
       "model_id": "8825b799cf0d42b1b04f6c28b1a93e06",
       "version_major": 2,
       "version_minor": 0
      },
      "text/plain": [
       "Waiting:   0%|          | 0/50 [00:00<?, ?it/s]"
      ]
     },
     "metadata": {},
     "output_type": "display_data"
    },
    {
     "name": "stdout",
     "output_type": "stream",
     "text": [
      "Searching For Yellow Trash Can                                  {'Artist': 7, 'Album': 11}\n",
      "Searching For Staffan Thorsell                                  {'Artist': 6, 'Album': 12}\n",
      "Searching For Dan Wack                                          {'Artist': 5, 'Album': 11}\n",
      "Searching For Múspellzheimr                                    {'Artist': 4, 'Album': 12}\n",
      "Searching For Jake Flory                                        {'Artist': 3, 'Album': 8}\n",
      "Searching For Platzdasch                                        {'Artist': 6, 'Album': 13}\n",
      "Searching For Anwar Ali                                         {'Artist': 43, 'Album': 18}\n",
      "Searching For Grab                                              {'Artist': 39, 'Album': 17}\n",
      "Searching For Raped God 666                                     {'Artist': 1, 'Album': 1}\n",
      "Searching For MoreEats                                          {'Artist': 1, 'Album': 7}\n",
      "Searching For Double R & GK                                     {'Artist': 10, 'Album': 14}\n",
      "Searching For Audiotrauma                                       {'Artist': 9, 'Album': 7}\n",
      "Searching For Weld el 15                                        {'Artist': 14, 'Album': 13}\n",
      "Searching For Abdel                                             {'Artist': 17, 'Album': 11}\n",
      "Searching For M.I.R.O.                                          {'Artist': 27, 'Album': 17}\n",
      "Searching For Alex Deforce                                      {'Artist': 4, 'Album': 8}\n",
      "Searching For Akeem Jahat                                       {'Artist': 14, 'Album': 16}\n",
      "Searching For Andy F                                            {'Artist': 25, 'Album': 17}\n",
      "Searching For D.O. Cannons                                      {'Artist': 20, 'Album': 13}\n",
      "Searching For Artie Matthews                                    {'Artist': 7, 'Album': 8}\n",
      "Searching For Joseph Sonnleithner                               {'Artist': 59, 'Album': 11}\n",
      "Searching For Riz                                               {'Artist': 24, 'Album': 17}\n",
      "Searching For Adne                                              {'Artist': 14, 'Album': 12}\n",
      "Searching For Idolatry                                          {'Artist': 26, 'Album': 15}\n",
      "Searching For Approaching Mountains                             {'Artist': 4, 'Album': 7}\n",
      " [Getting AppleMusic ArtistIDs] | 3575/?     : RunTime 6 Hour and 11 Minute.\n",
      "*****************************************************************************************************************************\n",
      "*                                                    Saving SearchArtist                                                    *\n",
      "*****************************************************************************************************************************\n",
      "  Saving Index [332882] ... Done\n",
      "  Saving Data [17450] ... Done\n",
      "  Saving Error [88] ... Done\n"
     ]
    },
    {
     "data": {
      "application/vnd.jupyter.widget-view+json": {
       "model_id": "0d99e51189874ef4b1197314664d26e5",
       "version_major": 2,
       "version_minor": 0
      },
      "text/plain": [
       "Waiting:   0%|          | 0/50 [00:00<?, ?it/s]"
      ]
     },
     "metadata": {},
     "output_type": "display_data"
    },
    {
     "name": "stdout",
     "output_type": "stream",
     "text": [
      "Searching For Hex Horizontal                                    {'Artist': 1, 'Album': 3}\n",
      "Searching For Rais Farmiadi                                     {'Artist': 3, 'Album': 9}\n",
      "Searching For Graham Swift                                      {'Artist': 10, 'Album': 11}\n",
      "Searching For Kash Vegan                                        {'Artist': 2, 'Album': 12}\n",
      "Searching For Gigi Pussy                                        {'Artist': 5, 'Album': 6}\n",
      "Searching For Leah McCrae                                       {'Artist': 3, 'Album': 4}\n",
      "Searching For Mikko Kotamäki                                   {'Artist': 7, 'Album': 10}\n",
      "Searching For Sal Maida                                         {'Artist': 10, 'Album': 4}\n",
      "Searching For Allabastrina Choir and Consort                    {'Artist': 0, 'Album': 0}\n",
      "Searching For Dominik Stuppy                                    {'Artist': 2, 'Album': 12}\n",
      "Searching For Vadim Bogac                                       {'Artist': 6, 'Album': 11}\n",
      "Searching For George Marshman                                   {'Artist': 5, 'Album': 10}\n",
      "Searching For Prom                                              {'Artist': 27, 'Album': 18}\n",
      "Searching For Anthony Velarde                                   {'Artist': 3, 'Album': 13}\n",
      "Searching For Julia Moscardini                                  {'Artist': 6, 'Album': 3}\n",
      "Searching For Hannu Palo                                        {'Artist': 21, 'Album': 8}\n",
      "Searching For Pablo Prisma y Las Pirámides                     {'Artist': 2, 'Album': 3}\n",
      "Searching For MC Robinho                                        {'Artist': 20, 'Album': 13}\n",
      "Searching For Coroners                                          {'Artist': 26, 'Album': 13}\n",
      "Searching For Lokust Luciano                                    {'Artist': 9, 'Album': 13}\n",
      "Searching For Jeremiah                                          {'Artist': 29, 'Album': 11}\n",
      "Searching For Anson Weeks & His Orchestra                       {'Artist': 3, 'Album': 7}\n",
      "Searching For Buck Clayton And His All-Stars                    {'Artist': 17, 'Album': 7}\n",
      "Searching For Brownstone                                        {'Artist': 17, 'Album': 14}\n",
      "Searching For Stadtmusik Zürich                                {'Artist': 5, 'Album': 4}\n",
      " [Getting AppleMusic ArtistIDs] | 3600/?     : RunTime 6 Hour and 13 Minute.\n",
      "*****************************************************************************************************************************\n",
      "*                                                    Saving SearchArtist                                                    *\n",
      "*****************************************************************************************************************************\n",
      "  Saving Index [332907] ... Done\n",
      "  Saving Data [17475] ... Done\n",
      "  Saving Error [88] ... Done\n"
     ]
    },
    {
     "data": {
      "application/vnd.jupyter.widget-view+json": {
       "model_id": "49754e3215e746349978f5855beabb8d",
       "version_major": 2,
       "version_minor": 0
      },
      "text/plain": [
       "Waiting:   0%|          | 0/50 [00:00<?, ?it/s]"
      ]
     },
     "metadata": {},
     "output_type": "display_data"
    },
    {
     "name": "stdout",
     "output_type": "stream",
     "text": [
      "Searching For Leon Thomas III                                   {'Artist': 11, 'Album': 12}\n",
      "Searching For Shy Wry                                           {'Artist': 3, 'Album': 11}\n",
      "Searching For Detro Mighty                                      {'Artist': 1, 'Album': 13}\n",
      "Searching For Shadowz in the Dark                               {'Artist': 11, 'Album': 8}\n",
      "Searching For Peter Anthony Smith                               {'Artist': 7, 'Album': 10}\n",
      "Searching For Hasan Raja                                        {'Artist': 42, 'Album': 14}\n",
      "Searching For Ivana Brkic                                       {'Artist': 1, 'Album': 6}\n",
      "Searching For Pope Factory                                      {'Artist': 3, 'Album': 7}\n",
      "Searching For Robert Fripp &amp; the League of Crafty Guitarists{'Artist': 0, 'Album': 0}\n",
      "Searching For Scarlet Moon                                      {'Artist': 15, 'Album': 17}\n",
      "Searching For The Readymades                                    {'Artist': 4, 'Album': 7}\n",
      "Searching For Anus Tumor                                        {'Artist': 1, 'Album': 1}\n",
      "Searching For HYPE                                              {'Artist': 36, 'Album': 19}\n",
      "Searching For Juárez                                           {'Artist': 29, 'Album': 14}\n",
      "Searching For Naked Souls                                       {'Artist': 24, 'Album': 13}\n",
      "Searching For Gabriel M                                         {'Artist': 39, 'Album': 12}\n",
      "Searching For Shelter on Wax                                    {'Artist': 4, 'Album': 5}\n",
      "Searching For Ladi Singh                                        {'Artist': 33, 'Album': 13}\n",
      "Searching For Fair Game                                         {'Artist': 31, 'Album': 16}\n",
      "Searching For G2S                                               {'Artist': 31, 'Album': 13}\n",
      "Searching For Krunchie                                          {'Artist': 16, 'Album': 8}\n",
      "Searching For Loon-E-Toon                                       {'Artist': 0, 'Album': 0}\n",
      "Searching For Friederike Mayröcker                             {'Artist': 2, 'Album': 1}\n",
      "Searching For Expedition Zero                                   {'Artist': 15, 'Album': 13}\n",
      "Searching For Lindy Lane                                        {'Artist': 1, 'Album': 0}\n",
      " [Getting AppleMusic ArtistIDs] | 3625/?     : RunTime 6 Hour and 16 Minute.\n",
      "*****************************************************************************************************************************\n",
      "*                                                    Saving SearchArtist                                                    *\n",
      "*****************************************************************************************************************************\n",
      "  Saving Index [332932] ... Done\n",
      "  Saving Data [17500] ... Done\n",
      "  Saving Error [88] ... Done\n"
     ]
    },
    {
     "data": {
      "application/vnd.jupyter.widget-view+json": {
       "model_id": "6bb6ebc6c3794dcf99ec42e1697edda3",
       "version_major": 2,
       "version_minor": 0
      },
      "text/plain": [
       "Waiting:   0%|          | 0/50 [00:00<?, ?it/s]"
      ]
     },
     "metadata": {},
     "output_type": "display_data"
    },
    {
     "name": "stdout",
     "output_type": "stream",
     "text": [
      "Searching For Gino Volpe                                        {'Artist': 2, 'Album': 3}\n",
      "Searching For The Ivy League Trio                               {'Artist': 1, 'Album': 2}\n",
      "Searching For Ghh Shl                                           {'Artist': 0, 'Album': 0}\n",
      "Searching For Hèctor Parra                                     {'Artist': 26, 'Album': 7}\n",
      "Searching For The Phosphenes                                    {'Artist': 6, 'Album': 8}\n",
      "Searching For Root Jackson                                      {'Artist': 14, 'Album': 10}\n",
      "Searching For Soft Note                                         {'Artist': 25, 'Album': 12}\n",
      "Searching For Μαρία Ιακώβου                                   {'Artist': 2, 'Album': 10}\n",
      "Searching For Ligyrophobia                                      {'Artist': 9, 'Album': 9}\n",
      "Searching For Βασίλης Γισδάκης                                {'Artist': 3, 'Album': 1}\n",
      "Searching For Academic Worms                                    {'Artist': 3, 'Album': 2}\n",
      "Searching For The Great Peso                                    {'Artist': 19, 'Album': 14}\n",
      "Searching For The Bell Brothers                                 {'Artist': 9, 'Album': 9}\n",
      "Searching For Jae Zole                                          {'Artist': 5, 'Album': 14}\n",
      "Searching For Sculpturism                                       {'Artist': 9, 'Album': 6}\n",
      "Searching For Sam Collier                                       {'Artist': 7, 'Album': 8}\n",
      "Searching For Fulton Street                                     {'Artist': 23, 'Album': 15}\n",
      "Searching For Dam Dam                                           {'Artist': 32, 'Album': 16}\n",
      "Searching For Mirkka                                            {'Artist': 12, 'Album': 11}\n",
      "Searching For Slobodan Petrovic Jr.                             {'Artist': 1, 'Album': 0}\n",
      "Searching For Tony Bryan                                        {'Artist': 28, 'Album': 10}\n",
      "Searching For Khaled Roshdy                                     {'Artist': 3, 'Album': 12}\n",
      "Searching For Etherfox                                          {'Artist': 3, 'Album': 3}\n",
      "Searching For Gary Burk III                                     {'Artist': 1, 'Album': 14}\n",
      "Searching For Lil iceberg                                       {'Artist': 8, 'Album': 15}\n",
      " [Getting AppleMusic ArtistIDs] | 3650/?     : RunTime 6 Hour and 18 Minute.\n",
      "*****************************************************************************************************************************\n",
      "*                                                    Saving SearchArtist                                                    *\n",
      "*****************************************************************************************************************************\n",
      "  Saving Index [332957] ... Done\n",
      "  Saving Data [17525] ... Done\n",
      "  Saving Error [88] ... Done\n"
     ]
    },
    {
     "data": {
      "application/vnd.jupyter.widget-view+json": {
       "model_id": "55ca49c4077947c89eeab29a652c5016",
       "version_major": 2,
       "version_minor": 0
      },
      "text/plain": [
       "Waiting:   0%|          | 0/50 [00:00<?, ?it/s]"
      ]
     },
     "metadata": {},
     "output_type": "display_data"
    },
    {
     "name": "stdout",
     "output_type": "stream",
     "text": [
      "Searching For Cleary                                            {'Artist': 25, 'Album': 14}\n",
      "Searching For Rizzo Guerta                                      {'Artist': 14, 'Album': 14}\n",
      "Searching For Juan Kemell                                       {'Artist': 5, 'Album': 4}\n",
      "Searching For Leebert \"Gibby\" Morrison                          {'Artist': 0, 'Album': 0}\n",
      "Searching For Gaetano Piazza                                    {'Artist': 5, 'Album': 3}\n",
      "Searching For Micheline Grancher                                {'Artist': 14, 'Album': 2}\n",
      "Searching For Keetie and the Kats                               {'Artist': 3, 'Album': 3}\n",
      "Searching For Sidney Corbett                                    {'Artist': 30, 'Album': 7}\n",
      "Searching For Walter Bluhm                                      {'Artist': 24, 'Album': 3}\n",
      "Searching For Dezső Lakatos                                    {'Artist': 8, 'Album': 2}\n",
      "Searching For Dustin                                            {'Artist': 15, 'Album': 9}\n",
      "Searching For Nigel Cliffe                                      {'Artist': 28, 'Album': 6}\n",
      "Searching For Scheselong                                        {'Artist': 1, 'Album': 7}\n",
      "Searching For William Cowper                                    {'Artist': 22, 'Album': 13}\n",
      "Searching For Michel Yost                                       {'Artist': 10, 'Album': 3}\n",
      "Searching For Vivienne Segal                                    {'Artist': 7, 'Album': 4}\n",
      "Searching For Dean Brodrick                                     {'Artist': 16, 'Album': 6}\n",
      "Searching For Werner Dies                                       {'Artist': 27, 'Album': 11}\n",
      "Searching For Alan Branscombe                                   {'Artist': 7, 'Album': 0}\n",
      "Searching For Diana Coupland                                    {'Artist': 1, 'Album': 1}\n",
      "Searching For Bill Blevins                                      {'Artist': 1, 'Album': 4}\n",
      "Searching For Bobby & Terry Caraway                             {'Artist': 1, 'Album': 1}\n",
      "Searching For Curley Griffin                                    {'Artist': 2, 'Album': 5}\n",
      "Searching For Eddie Anthony                                     {'Artist': 8, 'Album': 8}\n",
      "Searching For Lloyd McCollough                                  {'Artist': 3, 'Album': 10}\n",
      " [Getting AppleMusic ArtistIDs] | 3675/?     : RunTime 6 Hour and 21 Minute.\n",
      "*****************************************************************************************************************************\n",
      "*                                                    Saving SearchArtist                                                    *\n",
      "*****************************************************************************************************************************\n",
      "  Saving Index [332982] ... Done\n",
      "  Saving Data [17550] ... Done\n",
      "  Saving Error [88] ... Done\n"
     ]
    },
    {
     "data": {
      "application/vnd.jupyter.widget-view+json": {
       "model_id": "25a2298661094fdcb82aef7e2b82b613",
       "version_major": 2,
       "version_minor": 0
      },
      "text/plain": [
       "Waiting:   0%|          | 0/50 [00:00<?, ?it/s]"
      ]
     },
     "metadata": {},
     "output_type": "display_data"
    },
    {
     "name": "stdout",
     "output_type": "stream",
     "text": [
      "Searching For The Stephen Hill Singers                          {'Artist': 26, 'Album': 7}\n",
      "Searching For Danny Simpson                                     {'Artist': 10, 'Album': 11}\n",
      "Searching For John Antes                                        {'Artist': 20, 'Album': 7}\n",
      "Searching For Elisabeth Friedrich                               {'Artist': 62, 'Album': 7}\n",
      "Searching For Brussels Virtuosi                                 {'Artist': 8, 'Album': 1}\n",
      "Searching For Rufus Shoffner                                    {'Artist': 6, 'Album': 6}\n",
      "Searching For The Four Admirals                                 {'Artist': 21, 'Album': 15}\n",
      "Searching For Jimmy Blythe & His Ragamuffins                    {'Artist': 2, 'Album': 0}\n",
      "Searching For Hoke Simpson                                      {'Artist': 13, 'Album': 14}\n",
      "Searching For Renato Gavarini                                   {'Artist': 11, 'Album': 3}\n",
      "Searching For Tommy Cassel                                      {'Artist': 4, 'Album': 6}\n",
      "Searching For Tex Cochrane                                      {'Artist': 0, 'Album': 0}\n",
      "Searching For Jennifer Phillips                                 {'Artist': 32, 'Album': 13}\n",
      "Searching For Evelyn Harlene                                    {'Artist': 2, 'Album': 2}\n",
      "Searching For Horace Stevens                                    {'Artist': 4, 'Album': 2}\n",
      "Searching For Gene Hall                                         {'Artist': 9, 'Album': 11}\n",
      "Searching For Guido Haazen                                      {'Artist': 3, 'Album': 1}\n",
      "Searching For Adolph Hofner and His Texans                      {'Artist': 1, 'Album': 0}\n",
      "Searching For Delta Skiffle Group                               {'Artist': 1, 'Album': 7}\n",
      "Searching For Samuel Ebart                                      {'Artist': 20, 'Album': 3}\n",
      "Searching For Régis Ceccarelli                                 {'Artist': 2, 'Album': 0}\n",
      "Searching For Jody Roberts                                      {'Artist': 16, 'Album': 9}\n",
      "Searching For Michael Christian Festing                         {'Artist': 14, 'Album': 5}\n",
      "Searching For Stig Lommer                                       {'Artist': 22, 'Album': 9}\n",
      "Searching For Sanford Schonbach                                 {'Artist': 26, 'Album': 7}\n",
      " [Getting AppleMusic ArtistIDs] | 3700/?     : RunTime 6 Hour and 23 Minute.\n",
      "*****************************************************************************************************************************\n",
      "*                                                    Saving SearchArtist                                                    *\n",
      "*****************************************************************************************************************************\n",
      "  Saving Index [333007] ... Done\n",
      "  Saving Data [17575] ... Done\n",
      "  Saving Error [88] ... Done\n"
     ]
    },
    {
     "data": {
      "application/vnd.jupyter.widget-view+json": {
       "model_id": "b9fedc48436b4028809f0fe479e49d0d",
       "version_major": 2,
       "version_minor": 0
      },
      "text/plain": [
       "Waiting:   0%|          | 0/50 [00:00<?, ?it/s]"
      ]
     },
     "metadata": {},
     "output_type": "display_data"
    },
    {
     "name": "stdout",
     "output_type": "stream",
     "text": [
      "Searching For Jack Toombs                                       {'Artist': 1, 'Album': 3}\n",
      "Searching For The Berkeley Kites                                {'Artist': 2, 'Album': 8}\n",
      "Searching For Feli Ferraro                                      {'Artist': 9, 'Album': 8}\n",
      "Searching For Herbert Murrill                                   {'Artist': 14, 'Album': 4}\n",
      "Searching For Fred Tillis                                       {'Artist': 0, 'Album': 0}\n",
      "Searching For Raymond DesRoches                                 {'Artist': 24, 'Album': 6}\n",
      "Searching For Delme Bryn-Jones                                  {'Artist': 22, 'Album': 2}\n",
      "Searching For Rupert Gayle                                      {'Artist': 2, 'Album': 3}\n",
      "Searching For Marco Antonio Cavazzoni                           {'Artist': 19, 'Album': 7}\n",
      "Searching For Siegfried Ochs                                    {'Artist': 23, 'Album': 4}\n",
      "Searching For Maylon Humphries                                  {'Artist': 2, 'Album': 6}\n",
      "Searching For Clementine Hoogendoorn Scimone                    {'Artist': 12, 'Album': 3}\n",
      "Searching For Heinrich Reimann                                  {'Artist': 4, 'Album': 1}\n",
      "Searching For Christian Radovan                                 {'Artist': 13, 'Album': 5}\n",
      "Searching For ML Project                                        {'Artist': 13, 'Album': 16}\n",
      "Searching For Armand De France                                  {'Artist': 14, 'Album': 15}\n",
      "Searching For Ray Valioso                                       {'Artist': 1, 'Album': 1}\n",
      "Searching For Tash M                                            {'Artist': 12, 'Album': 13}\n",
      "Searching For Lil Capi                                          {'Artist': 13, 'Album': 10}\n",
      "Searching For Laedon                                            {'Artist': 11, 'Album': 13}\n",
      "Searching For Graham Mushnik                                    {'Artist': 5, 'Album': 8}\n",
      "Searching For Norris \"Da Boss\" Windross                         {'Artist': 4, 'Album': 5}\n",
      "Searching For Jerry Lee Taylor                                  {'Artist': 16, 'Album': 9}\n",
      "Searching For Space Junkie                                      {'Artist': 24, 'Album': 16}\n",
      "Searching For Uzma                                              {'Artist': 21, 'Album': 13}\n",
      " [Getting AppleMusic ArtistIDs] | 3725/?     : RunTime 6 Hour and 26 Minute.\n",
      "*****************************************************************************************************************************\n",
      "*                                                    Saving SearchArtist                                                    *\n",
      "*****************************************************************************************************************************\n",
      "  Saving Index [333032] ... Done\n",
      "  Saving Data [17600] ... Done\n",
      "  Saving Error [88] ... Done\n"
     ]
    },
    {
     "data": {
      "application/vnd.jupyter.widget-view+json": {
       "model_id": "cec14a38f05c4b13aa855606ffb10f5d",
       "version_major": 2,
       "version_minor": 0
      },
      "text/plain": [
       "Waiting:   0%|          | 0/50 [00:00<?, ?it/s]"
      ]
     },
     "metadata": {},
     "output_type": "display_data"
    },
    {
     "name": "stdout",
     "output_type": "stream",
     "text": [
      "Searching For KUJA                                              {'Artist': 39, 'Album': 17}\n",
      "Searching For A Point Of Protest                                {'Artist': 1, 'Album': 6}\n",
      "Searching For Rex Hooligan                                      {'Artist': 36, 'Album': 10}\n",
      "Searching For Anatoliy Frolov                                   {'Artist': 5, 'Album': 17}\n",
      "Searching For TUITION                                           {'Artist': 29, 'Album': 14}\n",
      "Searching For Cherry Beach                                      {'Artist': 12, 'Album': 14}\n",
      "Searching For Ashlee.k                                          {'Artist': 13, 'Album': 9}\n",
      "Searching For Peytn                                             {'Artist': 35, 'Album': 17}\n",
      "Searching For Pief                                              {'Artist': 16, 'Album': 12}\n",
      "Searching For Astronaut 7                                       {'Artist': 4, 'Album': 10}\n",
      "Searching For C&R Project                                       {'Artist': 24, 'Album': 15}\n",
      "Searching For High Love                                         {'Artist': 28, 'Album': 9}\n",
      "Searching For Boonie                                            {'Artist': 23, 'Album': 15}\n",
      "Searching For Mart Hällgren                                    {'Artist': 4, 'Album': 3}\n",
      "Searching For Hitman Tiga                                       {'Artist': 13, 'Album': 11}\n",
      "Searching For Little Elmo & The Mambo Kings                     {'Artist': 1, 'Album': 1}\n",
      "Searching For Alan Scott Bachman                                {'Artist': 2, 'Album': 4}\n",
      "Searching For The Falla Guitar Trio                             {'Artist': 14, 'Album': 5}\n",
      "Searching For Michael Cicone                                    {'Artist': 4, 'Album': 5}\n",
      "Searching For Brigitte Von Bulow                                {'Artist': 4, 'Album': 3}\n",
      "Searching For Globito                                           {'Artist': 11, 'Album': 9}\n",
      "Searching For Betsy Diamant-Cohen                               {'Artist': 1, 'Album': 1}\n",
      "Searching For Kevin Laurence                                    {'Artist': 24, 'Album': 10}\n",
      "Searching For Peruchin Jr. & the Cuban All Stars                {'Artist': 3, 'Album': 2}\n",
      "Searching For Master Chorale of Washington                      {'Artist': 12, 'Album': 6}\n",
      " [Getting AppleMusic ArtistIDs] | 3750/?     : RunTime 6 Hour and 29 Minute.\n",
      "*****************************************************************************************************************************\n",
      "*                                                    Saving SearchArtist                                                    *\n",
      "*****************************************************************************************************************************\n",
      "  Saving Index [333057] ... Done\n",
      "  Saving Data [17625] ... Done\n",
      "  Saving Error [88] ... Done\n"
     ]
    },
    {
     "data": {
      "application/vnd.jupyter.widget-view+json": {
       "model_id": "327e3540660348f6aedd44dd6ec33f37",
       "version_major": 2,
       "version_minor": 0
      },
      "text/plain": [
       "Waiting:   0%|          | 0/50 [00:00<?, ?it/s]"
      ]
     },
     "metadata": {},
     "output_type": "display_data"
    },
    {
     "name": "stdout",
     "output_type": "stream",
     "text": [
      "Searching For Disciples of Separate Kingdom                     {'Artist': 4, 'Album': 3}\n",
      "Searching For Nomad: North of Mason-Dixon                       {'Artist': 2, 'Album': 5}\n",
      "Searching For Mark \"Big Poppa\" Stampley                         {'Artist': 2, 'Album': 2}\n",
      "Searching For Eric James Erskine                                {'Artist': 1, 'Album': 1}\n",
      "Searching For Florida Philharmonic Orchestra                    {'Artist': 25, 'Album': 13}\n",
      "Searching For bRz                                               {'Artist': 26, 'Album': 14}\n",
      "Searching For Sanjoy                                            {'Artist': 28, 'Album': 13}\n",
      "Searching For Ecclesia                                          {'Artist': 28, 'Album': 17}\n",
      "Searching For Thomas Pall                                       {'Artist': 4, 'Album': 14}\n",
      "Searching For Zygson                                            {'Artist': 10, 'Album': 8}\n",
      "Searching For Mista Mach                                        {'Artist': 4, 'Album': 7}\n",
      "Searching For Big Banana                                        {'Artist': 19, 'Album': 14}\n",
      "Searching For Melufantti                                        {'Artist': 2, 'Album': 5}\n",
      "Searching For Kevin Arnold                                      {'Artist': 14, 'Album': 12}\n",
      "Searching For Scarlett Valentina                                {'Artist': 1, 'Album': 8}\n",
      "Searching For Nørre                                             {'Artist': 20, 'Album': 12}\n",
      "Searching For Zero Degree                                       {'Artist': 17, 'Album': 8}\n",
      "Searching For Károly Garam                                     {'Artist': 1, 'Album': 5}\n",
      "Searching For Diego Santana                                     {'Artist': 11, 'Album': 7}\n",
      "Searching For Panini                                            {'Artist': 25, 'Album': 18}\n",
      "Searching For Eon MC Etc.                                       {'Artist': 9, 'Album': 9}\n",
      "Searching For Da BoogieBoys                                     {'Artist': 6, 'Album': 14}\n",
      "Searching For Until the Moment Comes                            {'Artist': 12, 'Album': 13}\n",
      "Searching For Gandhabba                                         {'Artist': 23, 'Album': 13}\n",
      "Searching For Mediahora                                         {'Artist': 15, 'Album': 10}\n",
      " [Getting AppleMusic ArtistIDs] | 3775/?     : RunTime 6 Hour and 31 Minute.\n",
      "*****************************************************************************************************************************\n",
      "*                                                    Saving SearchArtist                                                    *\n",
      "*****************************************************************************************************************************\n",
      "  Saving Index [333082] ... Done\n",
      "  Saving Data [17650] ... Done\n",
      "  Saving Error [88] ... Done\n"
     ]
    },
    {
     "data": {
      "application/vnd.jupyter.widget-view+json": {
       "model_id": "ca0ccc5100814bb4b789465e3efff7f6",
       "version_major": 2,
       "version_minor": 0
      },
      "text/plain": [
       "Waiting:   0%|          | 0/50 [00:00<?, ?it/s]"
      ]
     },
     "metadata": {},
     "output_type": "display_data"
    },
    {
     "name": "stdout",
     "output_type": "stream",
     "text": [
      "Searching For Techno Revivers Project                           {'Artist': 1, 'Album': 8}\n",
      "Searching For Ruff & Ready                                      {'Artist': 29, 'Album': 15}\n",
      "Searching For Silje Svea                                        {'Artist': 4, 'Album': 8}\n",
      "Searching For Hard Headz                                        {'Artist': 25, 'Album': 15}\n",
      "Searching For Zhut                                              {'Artist': 24, 'Album': 10}\n",
      "Searching For kenko-p                                           {'Artist': 7, 'Album': 12}\n",
      "Searching For Crime1Minister                                    {'Artist': 1, 'Album': 10}\n",
      "Searching For Ju'Go                                             {'Artist': 24, 'Album': 13}\n",
      "Searching For Drawn To The Sky                                  {'Artist': 3, 'Album': 16}\n",
      "Searching For Kayleigh Noble                                    {'Artist': 4, 'Album': 10}\n",
      "Searching For y o u r d i s c o v e r y                         {'Artist': 30, 'Album': 11}\n",
      "Searching For Serge Ibaka                                       {'Artist': 20, 'Album': 16}\n",
      "Searching For Tiago Morais Morgado                              {'Artist': 2, 'Album': 12}\n",
      "Searching For Gents                                             {'Artist': 25, 'Album': 12}\n",
      "Searching For ?Shmaltz!                                         {'Artist': 14, 'Album': 13}\n",
      "Searching For Yusuf Lemone                                      {'Artist': 5, 'Album': 15}\n",
      "Searching For Kenneth Topham                                    {'Artist': 40, 'Album': 6}\n",
      "Searching For Winston Scotland                                  {'Artist': 3, 'Album': 5}\n",
      "Searching For Hue B.                                            {'Artist': 20, 'Album': 13}\n",
      "Searching For Trio Athénée                                    {'Artist': 3, 'Album': 5}\n",
      "Searching For Maxx Baer                                         {'Artist': 5, 'Album': 10}\n",
      "Searching For Ishers                                            {'Artist': 28, 'Album': 15}\n",
      "Searching For Tim Fine                                          {'Artist': 9, 'Album': 14}\n",
      "Searching For Dr. Sam                                           {'Artist': 20, 'Album': 14}\n",
      "Searching For Robert Michael                                    {'Artist': 27, 'Album': 7}\n",
      " [Getting AppleMusic ArtistIDs] | 3800/?     : RunTime 6 Hour and 34 Minute.\n",
      "*****************************************************************************************************************************\n",
      "*                                                    Saving SearchArtist                                                    *\n",
      "*****************************************************************************************************************************\n",
      "  Saving Index [333107] ... Done\n",
      "  Saving Data [17675] ... Done\n",
      "  Saving Error [88] ... Done\n"
     ]
    },
    {
     "data": {
      "application/vnd.jupyter.widget-view+json": {
       "model_id": "9d3b604c854f453aad40de85aea39ac8",
       "version_major": 2,
       "version_minor": 0
      },
      "text/plain": [
       "Waiting:   0%|          | 0/50 [00:00<?, ?it/s]"
      ]
     },
     "metadata": {},
     "output_type": "display_data"
    },
    {
     "name": "stdout",
     "output_type": "stream",
     "text": [
      "Searching For Dylan Dray                                        {'Artist': 1, 'Album': 5}\n",
      "Searching For Joao Pedro & Ze Paulo                             {'Artist': 26, 'Album': 10}\n",
      "Searching For The Heart                                         {'Artist': 28, 'Album': 16}\n",
      "Searching For Sherée                                           {'Artist': 22, 'Album': 14}\n",
      "Searching For Classico Terzetto Italiano                        {'Artist': 5, 'Album': 4}\n",
      "Searching For King Quez                                         {'Artist': 8, 'Album': 12}\n",
      "Searching For Michael Feiner & Caisa                            {'Artist': 1, 'Album': 4}\n",
      "Searching For Grupo Comando                                     {'Artist': 14, 'Album': 7}\n",
      "Searching For Victor Gann                                       {'Artist': 1, 'Album': 4}\n",
      "Searching For Furia Santiaguena                                 {'Artist': 2, 'Album': 5}\n",
      "Searching For Tina Brown                                        {'Artist': 15, 'Album': 10}\n",
      "Searching For Aziza & The Cure                                  {'Artist': 2, 'Album': 7}\n",
      "Searching For Luigi Di Nunzio                                   {'Artist': 7, 'Album': 7}\n",
      "Searching For Armelle                                           {'Artist': 17, 'Album': 9}\n",
      "Searching For Onkel Hotte                                       {'Artist': 1, 'Album': 3}\n",
      "Searching For Marcus Fleischer                                  {'Artist': 6, 'Album': 7}\n",
      "Searching For Sophie Moser                                      {'Artist': 12, 'Album': 6}\n",
      "Searching For David Montes                                      {'Artist': 18, 'Album': 8}\n",
      "Searching For Kevin Dolan                                       {'Artist': 4, 'Album': 7}\n",
      "Searching For Sia Koskina                                       {'Artist': 7, 'Album': 7}\n",
      "Searching For Miss Wright                                       {'Artist': 15, 'Album': 8}\n",
      "Searching For Pasion                                            {'Artist': 25, 'Album': 16}\n",
      "Searching For Cori Connors                                      {'Artist': 3, 'Album': 6}\n",
      "Searching For Amanda Brecker                                    {'Artist': 2, 'Album': 7}\n",
      "Searching For Roberto Koch                                      {'Artist': 24, 'Album': 9}\n",
      " [Getting AppleMusic ArtistIDs] | 3825/?     : RunTime 6 Hour and 36 Minute.\n",
      "*****************************************************************************************************************************\n",
      "*                                                    Saving SearchArtist                                                    *\n",
      "*****************************************************************************************************************************\n",
      "  Saving Index [333132] ... Done\n",
      "  Saving Data [17700] ... Done\n",
      "  Saving Error [88] ... Done\n"
     ]
    },
    {
     "data": {
      "application/vnd.jupyter.widget-view+json": {
       "model_id": "4df12dba174f4ec3b5b9f98f16e3d6e6",
       "version_major": 2,
       "version_minor": 0
      },
      "text/plain": [
       "Waiting:   0%|          | 0/50 [00:00<?, ?it/s]"
      ]
     },
     "metadata": {},
     "output_type": "display_data"
    },
    {
     "name": "stdout",
     "output_type": "stream",
     "text": [
      "Searching For Your Favorite Franchise                           {'Artist': 1, 'Album': 4}\n",
      "Searching For Vagina Panther                                    {'Artist': 1, 'Album': 4}\n",
      "Searching For Slightly Stirred                                  {'Artist': 1, 'Album': 4}\n",
      "Searching For Prune                                             {'Artist': 21, 'Album': 16}\n",
      "Searching For Craig T. Olson                                    {'Artist': 1, 'Album': 3}\n",
      "Searching For Jeff Jerolamon                                    {'Artist': 11, 'Album': 8}\n",
      "Searching For Simone Sou                                        {'Artist': 27, 'Album': 11}\n",
      "Searching For Mensajeros del Amor                               {'Artist': 10, 'Album': 8}\n",
      "Searching For The Siss Boom Bang                                {'Artist': 1, 'Album': 2}\n",
      "Searching For Planet of 9                                       {'Artist': 2, 'Album': 7}\n",
      "Searching For David Von Beahm                                   {'Artist': 1, 'Album': 5}\n",
      "Searching For John Hamilton                                     {'Artist': 24, 'Album': 9}\n",
      "Searching For Aurèle Marthan                                   {'Artist': 14, 'Album': 4}\n",
      "Searching For Mr. Steve & Miss Katie                            {'Artist': 6, 'Album': 8}\n",
      "Searching For Audiafauna                                        {'Artist': 1, 'Album': 4}\n",
      "Searching For Five Mile Mountain Road                           {'Artist': 3, 'Album': 6}\n",
      "Searching For C.E.L.                                            {'Artist': 36, 'Album': 10}\n",
      "Searching For Big Tobacco & the Pickers                         {'Artist': 1, 'Album': 2}\n",
      "Searching For Leonie Mac                                        {'Artist': 7, 'Album': 6}\n",
      "Searching For Maria Helena Pires de Matos                       {'Artist': 6, 'Album': 4}\n",
      "Searching For Los del Pueblo                                    {'Artist': 19, 'Album': 9}\n",
      "Searching For Paulo Moraes                                      {'Artist': 13, 'Album': 7}\n",
      "Searching For Rayvaughn Vernon                                  {'Artist': 16, 'Album': 8}\n",
      "Searching For Scott E. Cooper                                   {'Artist': 2, 'Album': 14}\n",
      "Searching For Música de Selvagem                               {'Artist': 10, 'Album': 7}\n",
      " [Getting AppleMusic ArtistIDs] | 3850/?     : RunTime 6 Hour and 39 Minute.\n",
      "*****************************************************************************************************************************\n",
      "*                                                    Saving SearchArtist                                                    *\n",
      "*****************************************************************************************************************************\n",
      "  Saving Index [333157] ... Done\n",
      "  Saving Data [17725] ... Done\n",
      "  Saving Error [88] ... Done\n"
     ]
    },
    {
     "data": {
      "application/vnd.jupyter.widget-view+json": {
       "model_id": "8ba43b0595874905a76c085279b876a9",
       "version_major": 2,
       "version_minor": 0
      },
      "text/plain": [
       "Waiting:   0%|          | 0/50 [00:00<?, ?it/s]"
      ]
     },
     "metadata": {},
     "output_type": "display_data"
    },
    {
     "name": "stdout",
     "output_type": "stream",
     "text": [
      "Searching For Steve Lockwood                                    {'Artist': 10, 'Album': 6}\n",
      "Searching For Taruvinga Manjokota                               {'Artist': 3, 'Album': 5}\n",
      "Searching For The Cabrians                                      {'Artist': 1, 'Album': 5}\n",
      "Searching For Dona Inah                                         {'Artist': 1, 'Album': 4}\n",
      "Searching For Robbie James                                      {'Artist': 15, 'Album': 8}\n",
      "Searching For Oliveira                                          {'Artist': 29, 'Album': 18}\n",
      "Searching For Jamen Brooks                                      {'Artist': 3, 'Album': 7}\n",
      "Searching For Rinko Hama                                        {'Artist': 5, 'Album': 3}\n",
      "Searching For Mike Barden                                       {'Artist': 1, 'Album': 4}\n",
      "Searching For Felton Offard                                     {'Artist': 2, 'Album': 4}\n",
      "Searching For Valens Solistensemble                             {'Artist': 3, 'Album': 8}\n",
      "Searching For Damian Montagu                                    {'Artist': 6, 'Album': 5}\n",
      "Searching For Tony Rolando                                      {'Artist': 1, 'Album': 7}\n",
      "Searching For Mr. Richard and the Pound Hounds                  {'Artist': 2, 'Album': 4}\n",
      "Searching For Aethera                                           {'Artist': 10, 'Album': 7}\n",
      "Searching For Zoe Fitzgerald Carter                             {'Artist': 1, 'Album': 4}\n",
      "Searching For Galectik                                          {'Artist': 13, 'Album': 12}\n",
      "Searching For No Drinking on Grounds                            {'Artist': 1, 'Album': 6}\n",
      "Searching For Pavlova                                           {'Artist': 24, 'Album': 14}\n",
      "Searching For Sergio Chaves                                     {'Artist': 31, 'Album': 11}\n",
      "Searching For Los Gatos                                         {'Artist': 34, 'Album': 16}\n",
      "Searching For Val Marshall                                      {'Artist': 3, 'Album': 6}\n",
      "Searching For Dave Joyce                                        {'Artist': 4, 'Album': 7}\n",
      "Searching For The Star Prairie Project                          {'Artist': 1, 'Album': 6}\n",
      "Searching For Antoine Palloc                                    {'Artist': 12, 'Album': 9}\n",
      " [Getting AppleMusic ArtistIDs] | 3875/?     : RunTime 6 Hour and 42 Minute.\n",
      "*****************************************************************************************************************************\n",
      "*                                                    Saving SearchArtist                                                    *\n",
      "*****************************************************************************************************************************\n",
      "  Saving Index [333182] ... Done\n",
      "  Saving Data [17750] ... Done\n",
      "  Saving Error [88] ... Done\n"
     ]
    },
    {
     "data": {
      "application/vnd.jupyter.widget-view+json": {
       "model_id": "090a6ac5361441ed9f77928febb5eb0b",
       "version_major": 2,
       "version_minor": 0
      },
      "text/plain": [
       "Waiting:   0%|          | 0/50 [00:00<?, ?it/s]"
      ]
     },
     "metadata": {},
     "output_type": "display_data"
    },
    {
     "name": "stdout",
     "output_type": "stream",
     "text": [
      "Searching For Sas                                               {'Artist': 28, 'Album': 15}\n",
      "Searching For Helane Marie Anderson                             {'Artist': 3, 'Album': 7}\n",
      "Searching For Demure                                            {'Artist': 29, 'Album': 14}\n",
      "Searching For Robin Duhe                                        {'Artist': 2, 'Album': 7}\n",
      "Searching For Praxedis Geneviève Hug                           {'Artist': 5, 'Album': 6}\n",
      "Searching For NMC Worship                                       {'Artist': 3, 'Album': 7}\n",
      "Searching For Keller Jr                                         {'Artist': 3, 'Album': 7}\n",
      "Searching For Trey Skies                                        {'Artist': 3, 'Album': 15}\n",
      "Searching For Michael Horne                                     {'Artist': 11, 'Album': 6}\n",
      "Searching For Moot Ditty                                        {'Artist': 13, 'Album': 10}\n",
      "Searching For Emilian Starz                                     {'Artist': 3, 'Album': 6}\n",
      "Searching For Tommy Gann                                        {'Artist': 6, 'Album': 8}\n",
      "Searching For Alex Fawkes                                       {'Artist': 2, 'Album': 8}\n",
      "Searching For The Flyin' A's                                    {'Artist': 22, 'Album': 7}\n",
      "Searching For Jia Qiang Huang                                   {'Artist': 32, 'Album': 14}\n",
      "Searching For Meitar Ensemble                                   {'Artist': 26, 'Album': 7}\n",
      "Searching For Anny Petti                                        {'Artist': 2, 'Album': 6}\n",
      "Searching For Chris Dickey                                      {'Artist': 10, 'Album': 7}\n",
      "Searching For Scramble Gum                                      {'Artist': 1, 'Album': 7}\n",
      "Searching For Johnny Ravin                                      {'Artist': 9, 'Album': 14}\n",
      "Searching For Nelly Stharre                                     {'Artist': 3, 'Album': 8}\n",
      "Searching For Debbie Henning                                    {'Artist': 1, 'Album': 4}\n",
      "Searching For Barrio Band                                       {'Artist': 23, 'Album': 12}\n",
      "Searching For Milou Largo                                       {'Artist': 1, 'Album': 4}\n",
      "Searching For St Catharine's Girls' Choir, Cambridge            {'Artist': 17, 'Album': 7}\n",
      " [Getting AppleMusic ArtistIDs] | 3900/?     : RunTime 6 Hour and 44 Minute.\n",
      "*****************************************************************************************************************************\n",
      "*                                                    Saving SearchArtist                                                    *\n",
      "*****************************************************************************************************************************\n",
      "  Saving Index [333207] ... Done\n",
      "  Saving Data [17775] ... Done\n",
      "  Saving Error [88] ... Done\n"
     ]
    },
    {
     "data": {
      "application/vnd.jupyter.widget-view+json": {
       "model_id": "429fff28a7c54a6283f8946745b445e1",
       "version_major": 2,
       "version_minor": 0
      },
      "text/plain": [
       "Waiting:   0%|          | 0/50 [00:00<?, ?it/s]"
      ]
     },
     "metadata": {},
     "output_type": "display_data"
    },
    {
     "name": "stdout",
     "output_type": "stream",
     "text": [
      "Searching For Brownman & Cruzao                                 {'Artist': 3, 'Album': 2}\n",
      "Searching For Matt Sayles                                       {'Artist': 6, 'Album': 7}\n",
      "Searching For Al Este del Eden                                  {'Artist': 10, 'Album': 13}\n",
      "Searching For Cynthia Haring                                    {'Artist': 4, 'Album': 4}\n",
      "Searching For Manu Avila                                        {'Artist': 7, 'Album': 15}\n",
      "Searching For R5 Homixide                                       {'Artist': 6, 'Album': 12}\n",
      "Searching For Yung'cid                                          {'Artist': 7, 'Album': 13}\n",
      "Searching For Batteraaf                                         {'Artist': 6, 'Album': 6}\n",
      "Searching For Maple                                             {'Artist': 28, 'Album': 14}\n",
      "Searching For Shaper                                            {'Artist': 23, 'Album': 17}\n",
      "Searching For Iron Mikaveli                                     {'Artist': 4, 'Album': 11}\n",
      "Searching For Ron Greene                                        {'Artist': 4, 'Album': 7}\n",
      "Searching For Daryl Di-Kar                                      {'Artist': 8, 'Album': 15}\n",
      "Searching For Pappo Barber                                      {'Artist': 4, 'Album': 13}\n",
      "Searching For Beatifik                                          {'Artist': 27, 'Album': 14}\n",
      "Searching For LDY OSC                                           {'Artist': 4, 'Album': 6}\n",
      "Searching For Gentil Montaña                                   {'Artist': 7, 'Album': 9}\n",
      "Searching For Vita Valaguer                                     {'Artist': 8, 'Album': 11}\n",
      "Searching For Arunaja                                           {'Artist': 8, 'Album': 13}\n",
      "Searching For Toian                                             {'Artist': 11, 'Album': 12}\n",
      "Searching For Sebastián Coloma                                 {'Artist': 3, 'Album': 13}\n",
      "Searching For Dan Leigh                                         {'Artist': 17, 'Album': 7}\n",
      "Searching For Dillon Parker                                     {'Artist': 6, 'Album': 9}\n",
      "Searching For Kris Law                                          {'Artist': 5, 'Album': 14}\n",
      "Searching For Nes y Los Sensacionales                           {'Artist': 3, 'Album': 2}\n",
      " [Getting AppleMusic ArtistIDs] | 3925/?     : RunTime 6 Hour and 47 Minute.\n",
      "*****************************************************************************************************************************\n",
      "*                                                    Saving SearchArtist                                                    *\n",
      "*****************************************************************************************************************************\n",
      "  Saving Index [333232] ... Done\n",
      "  Saving Data [17800] ... Done\n",
      "  Saving Error [88] ... Done\n"
     ]
    },
    {
     "data": {
      "application/vnd.jupyter.widget-view+json": {
       "model_id": "74a9aa9258084a7d97250d10703be86d",
       "version_major": 2,
       "version_minor": 0
      },
      "text/plain": [
       "Waiting:   0%|          | 0/50 [00:00<?, ?it/s]"
      ]
     },
     "metadata": {},
     "output_type": "display_data"
    },
    {
     "name": "stdout",
     "output_type": "stream",
     "text": [
      "Searching For Георги Кордов                                     {'Artist': 14, 'Album': 15}\n",
      "Searching For Souhail Semlali                                   {'Artist': 1, 'Album': 12}\n",
      "Searching For Cassandra Reed                                    {'Artist': 2, 'Album': 2}\n",
      "Searching For East Beat Syndicate                               {'Artist': 2, 'Album': 3}\n",
      "Searching For Lucas Muto                                        {'Artist': 14, 'Album': 13}\n",
      "Searching For Terry White                                       {'Artist': 15, 'Album': 15}\n",
      "Searching For CaThY K                                           {'Artist': 16, 'Album': 13}\n",
      "Searching For Kurt Loorenz                                      {'Artist': 1, 'Album': 13}\n",
      "Searching For Warwick Smith                                     {'Artist': 1, 'Album': 8}\n",
      "Searching For Theevs                                            {'Artist': 3, 'Album': 15}\n",
      "Searching For Alexandr Bogoslovsky                              {'Artist': 5, 'Album': 12}\n",
      "Searching For Saint Getty                                       {'Artist': 5, 'Album': 15}\n",
      "Searching For Fredrik Ferrier                                   {'Artist': 17, 'Album': 13}\n",
      "Searching For Christian F                                       {'Artist': 16, 'Album': 18}\n",
      "Searching For Sivilo                                            {'Artist': 13, 'Album': 13}\n",
      "Searching For Bigbobbybitch                                     {'Artist': 7, 'Album': 10}\n",
      "Searching For Elvio Trampus                                     {'Artist': 0, 'Album': 0}\n",
      "Searching For Dolores del Río                                  {'Artist': 4, 'Album': 10}\n",
      "Searching For Matt Key                                          {'Artist': 24, 'Album': 13}\n",
      "Searching For Brendan Moir                                      {'Artist': 11, 'Album': 5}\n",
      "Searching For Pseiko                                            {'Artist': 17, 'Album': 12}\n",
      "Searching For 高田純次                                              {'Artist': 6, 'Album': 8}\n",
      "Searching For SKIITHAGOD神                                       {'Artist': 1, 'Album': 0}\n",
      "Searching For Corinna Jasmina                                   {'Artist': 7, 'Album': 12}\n",
      "Searching For Matt Cooke                                        {'Artist': 5, 'Album': 6}\n",
      " [Getting AppleMusic ArtistIDs] | 3950/?     : RunTime 6 Hour and 49 Minute.\n",
      "*****************************************************************************************************************************\n",
      "*                                                    Saving SearchArtist                                                    *\n",
      "*****************************************************************************************************************************\n",
      "  Saving Index [333257] ... Done\n",
      "  Saving Data [17825] ... Done\n",
      "  Saving Error [88] ... Done\n"
     ]
    },
    {
     "data": {
      "application/vnd.jupyter.widget-view+json": {
       "model_id": "d89e2900beab49a5ac64003033f73192",
       "version_major": 2,
       "version_minor": 0
      },
      "text/plain": [
       "Waiting:   0%|          | 0/50 [00:00<?, ?it/s]"
      ]
     },
     "metadata": {},
     "output_type": "display_data"
    },
    {
     "name": "stdout",
     "output_type": "stream",
     "text": [
      "Searching For Five 2 Oh                                         {'Artist': 14, 'Album': 7}\n",
      "Searching For Low Key Trampoline                                {'Artist': 13, 'Album': 15}\n",
      "Searching For Dirty Herz                                        {'Artist': 15, 'Album': 14}\n",
      "Searching For Juan Solórzano - Nicaragüense                   {'Artist': 3, 'Album': 8}\n",
      "Searching For Mr B                                              {'Artist': 26, 'Album': 14}\n",
      "Searching For MYR (UK)                                          {'Artist': 6, 'Album': 15}\n",
      "Searching For Iamone                                            {'Artist': 18, 'Album': 16}\n",
      "Searching For Ezra Williams                                     {'Artist': 8, 'Album': 16}\n",
      "Searching For Sbles3plex                                        {'Artist': 1, 'Album': 5}\n",
      "Searching For Tranx-mission                                     {'Artist': 2, 'Album': 12}\n",
      "Searching For Arabian Prince & The Sheiks                       {'Artist': 13, 'Album': 11}\n",
      "Searching For Tim Allan                                         {'Artist': 23, 'Album': 10}\n",
      "Searching For Jumanji                                           {'Artist': 25, 'Album': 15}\n",
      "Searching For Liora Mirnik                                      {'Artist': 0, 'Album': 0}\n",
      "Searching For Tryptamoon                                        {'Artist': 16, 'Album': 14}\n",
      "Searching For Seanny Seann                                      {'Artist': 10, 'Album': 13}\n",
      "Searching For Mark Thompson                                     {'Artist': 21, 'Album': 12}\n",
      "Searching For Kahlil Simplis                                    {'Artist': 1, 'Album': 10}\n",
      "Searching For Knights Of The Realm                              {'Artist': 9, 'Album': 9}\n",
      "Searching For Jan Paternoster                                   {'Artist': 17, 'Album': 13}\n",
      "Searching For Box of Chocolates                                 {'Artist': 17, 'Album': 13}\n",
      "Searching For Osteoferocious                                    {'Artist': 2, 'Album': 1}\n",
      "Searching For Dubfluss                                          {'Artist': 6, 'Album': 14}\n",
      "Searching For Radiactive-X                                      {'Artist': 17, 'Album': 13}\n",
      "Searching For Amy Kress                                         {'Artist': 5, 'Album': 4}\n",
      " [Getting AppleMusic ArtistIDs] | 3975/?     : RunTime 6 Hour and 52 Minute.\n",
      "*****************************************************************************************************************************\n",
      "*                                                    Saving SearchArtist                                                    *\n",
      "*****************************************************************************************************************************\n",
      "  Saving Index [333282] ... Done\n",
      "  Saving Data [17850] ... Done\n",
      "  Saving Error [88] ... Done\n"
     ]
    },
    {
     "data": {
      "application/vnd.jupyter.widget-view+json": {
       "model_id": "96a7c5b6db1e490096ba8432165b3743",
       "version_major": 2,
       "version_minor": 0
      },
      "text/plain": [
       "Waiting:   0%|          | 0/50 [00:00<?, ?it/s]"
      ]
     },
     "metadata": {},
     "output_type": "display_data"
    },
    {
     "name": "stdout",
     "output_type": "stream",
     "text": [
      "Searching For Elton Willis Trio                                 {'Artist': 1, 'Album': 6}\n",
      "Searching For Viriditas                                         {'Artist': 33, 'Album': 15}\n",
      "Searching For Grace Turner                                      {'Artist': 7, 'Album': 9}\n",
      "Searching For Turbopascal                                       {'Artist': 3, 'Album': 7}\n",
      "Searching For Flying Tulpa                                      {'Artist': 2, 'Album': 17}\n",
      "Searching For Laurie Ann Haus                                   {'Artist': 6, 'Album': 7}\n",
      "Searching For Smisch                                            {'Artist': 1, 'Album': 5}\n",
      "Searching For Gator Bait Ten                                    {'Artist': 3, 'Album': 5}\n",
      "Searching For Yiğit Bülbül                                   {'Artist': 12, 'Album': 8}\n",
      "Searching For Alpha Maid                                        {'Artist': 3, 'Album': 4}\n",
      "Searching For Seekaman                                          {'Artist': 2, 'Album': 4}\n",
      "Searching For Band of Burns                                     {'Artist': 9, 'Album': 7}\n",
      "Searching For Los Boys                                          {'Artist': 26, 'Album': 15}\n",
      "Searching For Kutral Dub                                        {'Artist': 11, 'Album': 10}\n",
      "Searching For Strangefruit                                      {'Artist': 24, 'Album': 13}\n",
      "Searching For Shaun Sandor                                      {'Artist': 3, 'Album': 6}\n",
      "Searching For Simply Drew                                       {'Artist': 7, 'Album': 16}\n",
      "Searching For Waxing Moon                                       {'Artist': 22, 'Album': 17}\n",
      "Searching For Jan Sanen                                         {'Artist': 12, 'Album': 7}\n",
      "Searching For Superdose Gangway                                 {'Artist': 1, 'Album': 7}\n",
      "Searching For Mangala                                           {'Artist': 29, 'Album': 15}\n",
      "Searching For Ametria Peridot                                   {'Artist': 3, 'Album': 12}\n",
      "Searching For Teejay Mafioso                                    {'Artist': 1, 'Album': 10}\n",
      "Searching For Beatrice Arthur                                   {'Artist': 31, 'Album': 12}\n",
      "Searching For Margaryan                                         {'Artist': 17, 'Album': 11}\n",
      " [Getting AppleMusic ArtistIDs] | 4000/?     : RunTime 6 Hour and 55 Minute.\n",
      "*****************************************************************************************************************************\n",
      "*                                                    Saving SearchArtist                                                    *\n",
      "*****************************************************************************************************************************\n",
      "  Saving Index [333307] ... Done\n",
      "  Saving Data [17875] ... Done\n",
      "  Saving Error [88] ... Done\n"
     ]
    },
    {
     "data": {
      "application/vnd.jupyter.widget-view+json": {
       "model_id": "e6607a72e61848ddb8ed14b26b7fcf63",
       "version_major": 2,
       "version_minor": 0
      },
      "text/plain": [
       "Waiting:   0%|          | 0/50 [00:00<?, ?it/s]"
      ]
     },
     "metadata": {},
     "output_type": "display_data"
    },
    {
     "name": "stdout",
     "output_type": "stream",
     "text": [
      "Searching For Awaken The Dawn                                   {'Artist': 12, 'Album': 15}\n",
      "Searching For Dressed in Black n Blue                           {'Artist': 18, 'Album': 18}\n",
      "Searching For WAYVE                                             {'Artist': 20, 'Album': 17}\n",
      "Searching For Ben Trokan                                        {'Artist': 2, 'Album': 7}\n",
      "Searching For Mina Aevum                                        {'Artist': 4, 'Album': 13}\n",
      "Searching For The Reverse Engineer                              {'Artist': 6, 'Album': 8}\n",
      "Searching For Summer Swee-Singh                                 {'Artist': 4, 'Album': 9}\n",
      "Searching For Alex Highton                                      {'Artist': 1, 'Album': 5}\n",
      "Searching For Byron Moore                                       {'Artist': 10, 'Album': 8}\n",
      "Searching For Diane Blue                                        {'Artist': 7, 'Album': 7}\n",
      "Searching For Preme Dibiasi                                     {'Artist': 5, 'Album': 11}\n",
      "Searching For Shania Yan                                        {'Artist': 2, 'Album': 10}\n",
      "Searching For Rajesh Chandra                                    {'Artist': 6, 'Album': 8}\n",
      "Searching For DJ Flower                                         {'Artist': 22, 'Album': 9}\n",
      "Searching For Milord                                            {'Artist': 26, 'Album': 14}\n",
      "Searching For L'Archicembalo                                    {'Artist': 1, 'Album': 3}\n",
      "Searching For DOM                                               {'Artist': 21, 'Album': 16}\n",
      "Searching For Pratap Das                                        {'Artist': 22, 'Album': 17}\n",
      "Searching For Donald Mills                                      {'Artist': 33, 'Album': 6}\n",
      "Searching For Natty Silver                                      {'Artist': 7, 'Album': 8}\n",
      "Searching For Blue Weaver                                       {'Artist': 21, 'Album': 11}\n",
      "Searching For Shirley Tetteh                                    {'Artist': 12, 'Album': 7}\n",
      "Searching For Cameron Neal                                      {'Artist': 5, 'Album': 12}\n",
      "Searching For Flyin & Sparky                                    {'Artist': 11, 'Album': 6}\n",
      "Searching For David Carron                                      {'Artist': 16, 'Album': 14}\n",
      " [Getting AppleMusic ArtistIDs] | 4025/?     : RunTime 6 Hour and 57 Minute.\n",
      "*****************************************************************************************************************************\n",
      "*                                                    Saving SearchArtist                                                    *\n",
      "*****************************************************************************************************************************\n",
      "  Saving Index [333332] ... Done\n",
      "  Saving Data [17900] ... Done\n",
      "  Saving Error [88] ... Done\n"
     ]
    },
    {
     "data": {
      "application/vnd.jupyter.widget-view+json": {
       "model_id": "33b8f2a9c6eb4401bebd016127f2667c",
       "version_major": 2,
       "version_minor": 0
      },
      "text/plain": [
       "Waiting:   0%|          | 0/50 [00:00<?, ?it/s]"
      ]
     },
     "metadata": {},
     "output_type": "display_data"
    },
    {
     "name": "stdout",
     "output_type": "stream",
     "text": [
      "Searching For Ivan Hoznedr                                      {'Artist': 22, 'Album': 6}\n",
      "Searching For Quincy Jones III                                  {'Artist': 17, 'Album': 15}\n",
      "Searching For Lindsay Shilling                                  {'Artist': 19, 'Album': 2}\n",
      "Searching For Ettore Carrera                                    {'Artist': 19, 'Album': 11}\n",
      "Searching For John Bigham                                       {'Artist': 24, 'Album': 10}\n",
      "Searching For Pete Reiniger                                     {'Artist': 0, 'Album': 0}\n",
      "Searching For Daniel Martin Diaz                                {'Artist': 20, 'Album': 4}\n",
      "Searching For Richard Julian Francis                            {'Artist': 23, 'Album': 3}\n",
      "Searching For Joe Jorgensen                                     {'Artist': 6, 'Album': 11}\n",
      "Searching For Daniel Värjö                                    {'Artist': 0, 'Album': 0}\n",
      "Searching For Greg Webster                                      {'Artist': 7, 'Album': 10}\n",
      "Searching For Denny Bruce                                       {'Artist': 19, 'Album': 7}\n",
      "Searching For Autry De Walt                                     {'Artist': 0, 'Album': 0}\n",
      "Searching For Don Mitchell                                      {'Artist': 18, 'Album': 7}\n",
      "Searching For Tom Feller                                        {'Artist': 11, 'Album': 2}\n",
      "Searching For Muzz Skillings                                    {'Artist': 1, 'Album': 0}\n",
      "Searching For Joe Nino-Hernes                                   {'Artist': 0, 'Album': 0}\n",
      "Searching For Jan Pethman                                       {'Artist': 0, 'Album': 0}\n",
      "Searching For Times 2 Salute                                    {'Artist': 1, 'Album': 14}\n",
      "Searching For DeepCode                                          {'Artist': 5, 'Album': 10}\n",
      "Searching For Shenbagaraj                                       {'Artist': 50, 'Album': 14}\n",
      "Searching For Narwhal                                           {'Artist': 20, 'Album': 14}\n",
      "Searching For Siggy                                             {'Artist': 35, 'Album': 9}\n",
      "Searching For Have To Have                                      {'Artist': 32, 'Album': 16}\n",
      "Searching For Flashmen                                          {'Artist': 23, 'Album': 16}\n",
      " [Getting AppleMusic ArtistIDs] | 4050/?     : RunTime 7 Hour and 20 Second.\n",
      "*****************************************************************************************************************************\n",
      "*                                                    Saving SearchArtist                                                    *\n",
      "*****************************************************************************************************************************\n",
      "  Saving Index [333357] ... Done\n",
      "  Saving Data [17925] ... Done\n",
      "  Saving Error [88] ... Done\n"
     ]
    },
    {
     "data": {
      "application/vnd.jupyter.widget-view+json": {
       "model_id": "b026caa1dbc847e090c8e239bdeb4199",
       "version_major": 2,
       "version_minor": 0
      },
      "text/plain": [
       "Waiting:   0%|          | 0/50 [00:00<?, ?it/s]"
      ]
     },
     "metadata": {},
     "output_type": "display_data"
    },
    {
     "name": "stdout",
     "output_type": "stream",
     "text": [
      "Searching For Dave Kusworth & the Tenderhooks                   {'Artist': 1, 'Album': 3}\n",
      "Searching For Mc Nill                                           {'Artist': 18, 'Album': 10}\n",
      "Searching For Lost Minds (DE)                                   {'Artist': 16, 'Album': 14}\n",
      "Searching For Kinetics                                          {'Artist': 32, 'Album': 18}\n",
      "Searching For Mak Donal                                         {'Artist': 8, 'Album': 14}\n",
      "Searching For Linslee Campbell                                  {'Artist': 8, 'Album': 1}\n",
      "Searching For King SlaFF                                        {'Artist': 5, 'Album': 8}\n",
      "Searching For The Astronomical Miracle                          {'Artist': 1, 'Album': 4}\n",
      "Searching For Asol                                              {'Artist': 24, 'Album': 14}\n",
      "Searching For Paz Del Castillo                                  {'Artist': 2, 'Album': 7}\n",
      "Searching For Nasty Bros                                        {'Artist': 10, 'Album': 13}\n",
      "Searching For Sékouba Bambino Diabaté                         {'Artist': 9, 'Album': 4}\n",
      "Searching For Luke Jr                                           {'Artist': 22, 'Album': 12}\n",
      "Searching For Gabe Real                                         {'Artist': 19, 'Album': 14}\n",
      "Searching For Daryl Palumbo                                     {'Artist': 14, 'Album': 12}\n",
      "Searching For Johan Edlund                                      {'Artist': 14, 'Album': 6}\n",
      "Searching For Carlos Cavazo                                     {'Artist': 17, 'Album': 8}\n",
      "Searching For Manic Youth                                       {'Artist': 4, 'Album': 11}\n",
      "Searching For Dylan Kanner                                      {'Artist': 2, 'Album': 6}\n",
      "Searching For Lil Chicken                                       {'Artist': 26, 'Album': 16}\n",
      "Searching For Sharin Foo                                        {'Artist': 3, 'Album': 8}\n",
      "Searching For Michael-Louis Smith                               {'Artist': 15, 'Album': 7}\n",
      "Searching For My Favorite Horses                                {'Artist': 7, 'Album': 9}\n",
      "Searching For Crazy Point                                       {'Artist': 7, 'Album': 11}\n",
      "Searching For Arlene MC                                         {'Artist': 16, 'Album': 16}\n",
      " [Getting AppleMusic ArtistIDs] | 4075/?     : RunTime 7 Hour and 2 Minute.\n",
      "*****************************************************************************************************************************\n",
      "*                                                    Saving SearchArtist                                                    *\n",
      "*****************************************************************************************************************************\n",
      "  Saving Index [333382] ... Done\n",
      "  Saving Data [17950] ... Done\n",
      "  Saving Error [88] ... Done\n"
     ]
    },
    {
     "data": {
      "application/vnd.jupyter.widget-view+json": {
       "model_id": "d0a084dad0244fb5882497ea071ec0ac",
       "version_major": 2,
       "version_minor": 0
      },
      "text/plain": [
       "Waiting:   0%|          | 0/50 [00:00<?, ?it/s]"
      ]
     },
     "metadata": {},
     "output_type": "display_data"
    },
    {
     "name": "stdout",
     "output_type": "stream",
     "text": [
      "Searching For Zehra Bajraktarevic                               {'Artist': 1, 'Album': 8}\n",
      "Searching For DJ Noxxer                                         {'Artist': 10, 'Album': 11}\n",
      "Searching For A & YU                                            {'Artist': 39, 'Album': 18}\n",
      "Searching For L Georges                                         {'Artist': 23, 'Album': 14}\n",
      "Searching For Parveen Saba                                      {'Artist': 6, 'Album': 7}\n",
      "Searching For Zack                                              {'Artist': 30, 'Album': 17}\n",
      "Searching For J.Blofeld                                         {'Artist': 6, 'Album': 11}\n",
      "Searching For DJ Grouse                                         {'Artist': 9, 'Album': 12}\n",
      "Searching For Rocksolid                                         {'Artist': 34, 'Album': 19}\n",
      "Searching For Alyna                                             {'Artist': 16, 'Album': 14}\n",
      "Searching For Coherence                                         {'Artist': 25, 'Album': 16}\n",
      "Searching For DJ Violate                                        {'Artist': 26, 'Album': 13}\n",
      "Searching For Aparthate                                         {'Artist': 14, 'Album': 9}\n",
      "Searching For P.A.Yung'n                                        {'Artist': 18, 'Album': 8}\n",
      "Searching For Chrissy DHK                                       {'Artist': 1, 'Album': 15}\n",
      "Searching For Realmbuilder                                      {'Artist': 1, 'Album': 3}\n",
      "Searching For The Real $treet Certified Ent.                    {'Artist': 1, 'Album': 7}\n",
      "Searching For Ryan Jones                                        {'Artist': 26, 'Album': 13}\n",
      "Searching For Johan Bobäck                                     {'Artist': 2, 'Album': 0}\n",
      "Searching For Geoffrey Hill                                     {'Artist': 20, 'Album': 14}\n",
      "Searching For Todd Brashear                                     {'Artist': 2, 'Album': 1}\n",
      "Searching For Путь Солнца                                       {'Artist': 2, 'Album': 8}\n",
      "Searching For Jack Devaney                                      {'Artist': 1, 'Album': 6}\n",
      "Searching For Taiki Ozawa                                       {'Artist': 1, 'Album': 6}\n",
      "Searching For DJ Benja                                          {'Artist': 10, 'Album': 11}\n",
      " [Getting AppleMusic ArtistIDs] | 4100/?     : RunTime 7 Hour and 5 Minute.\n",
      "*****************************************************************************************************************************\n",
      "*                                                    Saving SearchArtist                                                    *\n",
      "*****************************************************************************************************************************\n",
      "  Saving Index [333407] ... Done\n",
      "  Saving Data [17975] ... Done\n",
      "  Saving Error [88] ... Done\n"
     ]
    },
    {
     "data": {
      "application/vnd.jupyter.widget-view+json": {
       "model_id": "c44cd60dc6934890aa0de8aa05221c8b",
       "version_major": 2,
       "version_minor": 0
      },
      "text/plain": [
       "Waiting:   0%|          | 0/50 [00:00<?, ?it/s]"
      ]
     },
     "metadata": {},
     "output_type": "display_data"
    },
    {
     "name": "stdout",
     "output_type": "stream",
     "text": [
      "Searching For Magnificent 4                                     {'Artist': 13, 'Album': 10}\n",
      "Searching For Res_Co                                            {'Artist': 29, 'Album': 11}\n",
      "Searching For FLANNEL ALBERT                                    {'Artist': 12, 'Album': 13}\n",
      "Searching For Jordan Jack                                       {'Artist': 10, 'Album': 12}\n",
      "Searching For 021KID                                            {'Artist': 16, 'Album': 16}\n",
      "Searching For Johnny Dodds Washboard Band                       {'Artist': 2, 'Album': 7}\n",
      "Searching For Ricardo Mello                                     {'Artist': 11, 'Album': 13}\n",
      "Searching For Ages                                              {'Artist': 31, 'Album': 17}\n",
      "Searching For Haut&Court.                                       {'Artist': 4, 'Album': 7}\n",
      "Searching For Strange News From Another Star                    {'Artist': 7, 'Album': 14}\n",
      "Searching For One Thousand Directions                           {'Artist': 9, 'Album': 9}\n",
      "Searching For Zauber                                            {'Artist': 48, 'Album': 13}\n",
      "Searching For Barrakas                                          {'Artist': 21, 'Album': 9}\n",
      "Searching For Akatharsia                                        {'Artist': 8, 'Album': 7}\n",
      "Searching For Beringsee                                         {'Artist': 5, 'Album': 7}\n",
      "Searching For He Died While Hunting                             {'Artist': 16, 'Album': 10}\n",
      "Searching For Genital Jiggling                                  {'Artist': 0, 'Album': 0}\n",
      "Searching For catpuke                                           {'Artist': 7, 'Album': 9}\n",
      "Searching For Murals                                            {'Artist': 34, 'Album': 17}\n",
      "Searching For Grayson P                                         {'Artist': 4, 'Album': 13}\n",
      "Searching For Dr. Chaii                                         {'Artist': 10, 'Album': 16}\n",
      "Searching For Sylvia Bremer                                     {'Artist': 18, 'Album': 10}\n",
      "Searching For Bryson Cole                                       {'Artist': 3, 'Album': 12}\n",
      "Searching For The River of Action                               {'Artist': 9, 'Album': 13}\n",
      "Searching For Colour Vision                                     {'Artist': 14, 'Album': 7}\n",
      " [Getting AppleMusic ArtistIDs] | 4125/?     : RunTime 7 Hour and 8 Minute.\n",
      "*****************************************************************************************************************************\n",
      "*                                                    Saving SearchArtist                                                    *\n",
      "*****************************************************************************************************************************\n",
      "  Saving Index [333432] ... Done\n",
      "  Saving Data [18000] ... Done\n",
      "  Saving Error [88] ... Done\n"
     ]
    },
    {
     "data": {
      "application/vnd.jupyter.widget-view+json": {
       "model_id": "27d7b522649a4c6a8121c53e2e18f40c",
       "version_major": 2,
       "version_minor": 0
      },
      "text/plain": [
       "Waiting:   0%|          | 0/50 [00:00<?, ?it/s]"
      ]
     },
     "metadata": {},
     "output_type": "display_data"
    },
    {
     "name": "stdout",
     "output_type": "stream",
     "text": [
      "Searching For Dream Chaos                                       {'Artist': 15, 'Album': 15}\n",
      "Searching For Speed Autobahn                                    {'Artist': 2, 'Album': 7}\n",
      "Searching For Tomo Hirata                                       {'Artist': 3, 'Album': 11}\n",
      "Searching For Matteo Paolillo - Icaro                           {'Artist': 5, 'Album': 9}\n",
      "Searching For Las Cosas Invisibles                              {'Artist': 4, 'Album': 8}\n",
      "Searching For Blazer Barboza                                    {'Artist': 3, 'Album': 7}\n",
      "Searching For Jom Bee                                           {'Artist': 8, 'Album': 13}\n",
      "Searching For görl                                             {'Artist': 22, 'Album': 16}\n",
      "Searching For AFTYN                                             {'Artist': 6, 'Album': 12}\n",
      "Searching For Ozkar Ramirez                                     {'Artist': 10, 'Album': 13}\n",
      "Searching For Cash Creek                                        {'Artist': 4, 'Album': 14}\n",
      "Searching For Swing City                                        {'Artist': 26, 'Album': 16}\n",
      "Searching For Chez                                              {'Artist': 34, 'Album': 18}\n",
      "Searching For Seahorse                                          {'Artist': 29, 'Album': 14}\n",
      "Searching For Puja                                              {'Artist': 40, 'Album': 14}\n",
      "Searching For ruiner.                                           {'Artist': 25, 'Album': 15}\n",
      "Searching For Monika Bagarova                                   {'Artist': 12, 'Album': 13}\n",
      "Searching For Phil Baenz                                        {'Artist': 3, 'Album': 9}\n",
      "Searching For Maltese Massive                                   {'Artist': 8, 'Album': 11}\n",
      "Searching For Lynne Kieran                                      {'Artist': 4, 'Album': 3}\n",
      "Searching For Ross Farren                                       {'Artist': 3, 'Album': 10}\n",
      "Searching For The Palatines                                     {'Artist': 6, 'Album': 7}\n",
      "Searching For Dualtrx                                           {'Artist': 2, 'Album': 4}\n",
      "Searching For TnT Inc.                                          {'Artist': 31, 'Album': 16}\n",
      "Searching For Divine Symphony                                   {'Artist': 11, 'Album': 8}\n",
      " [Getting AppleMusic ArtistIDs] | 4150/?     : RunTime 7 Hour and 10 Minute.\n",
      "*****************************************************************************************************************************\n",
      "*                                                    Saving SearchArtist                                                    *\n",
      "*****************************************************************************************************************************\n",
      "  Saving Index [333457] ... Done\n",
      "  Saving Data [18025] ... Done\n",
      "  Saving Error [88] ... Done\n"
     ]
    },
    {
     "data": {
      "application/vnd.jupyter.widget-view+json": {
       "model_id": "e07d2a2331504c1fa28089a01f7149e7",
       "version_major": 2,
       "version_minor": 0
      },
      "text/plain": [
       "Waiting:   0%|          | 0/50 [00:00<?, ?it/s]"
      ]
     },
     "metadata": {},
     "output_type": "display_data"
    },
    {
     "name": "stdout",
     "output_type": "stream",
     "text": [
      "Searching For Alex Simmons                                      {'Artist': 3, 'Album': 7}\n",
      "Searching For DJ KUSH SMOKAH                                    {'Artist': 6, 'Album': 13}\n",
      "Searching For Lee Leprechaun                                    {'Artist': 2, 'Album': 11}\n",
      "Searching For Wiener Planquadrat                                {'Artist': 12, 'Album': 8}\n",
      "Searching For H.O.                                              {'Artist': 23, 'Album': 13}\n",
      "Searching For Frankie ThvDragon Lee                             {'Artist': 4, 'Album': 11}\n",
      "Searching For Ynwa Frank Nitty                                  {'Artist': 5, 'Album': 12}\n",
      "Searching For Xiaoling                                          {'Artist': 18, 'Album': 8}\n",
      "Searching For El Choco                                          {'Artist': 31, 'Album': 13}\n",
      "Searching For Logan Greene                                      {'Artist': 8, 'Album': 5}\n",
      "Searching For Diesect                                           {'Artist': 6, 'Album': 10}\n",
      "Searching For KAYTA                                             {'Artist': 17, 'Album': 10}\n",
      "Searching For Marc Blou                                         {'Artist': 12, 'Album': 13}\n",
      "Searching For Michelle Lawson                                   {'Artist': 13, 'Album': 9}\n",
      "Searching For DJen                                              {'Artist': 23, 'Album': 14}\n",
      "Searching For Franco Aurelio                                    {'Artist': 4, 'Album': 15}\n",
      "Searching For Mat Wobble Grinder                                {'Artist': 7, 'Album': 12}\n",
      "Searching For Winston Jones                                     {'Artist': 10, 'Album': 7}\n",
      "Searching For Frank Heinrich                                    {'Artist': 28, 'Album': 9}\n",
      "Searching For Decrat                                            {'Artist': 13, 'Album': 14}\n",
      "Searching For Edgar Smári                                      {'Artist': 11, 'Album': 7}\n",
      "Searching For LYRE                                              {'Artist': 29, 'Album': 18}\n",
      "Searching For Placidic Dream                                    {'Artist': 2, 'Album': 15}\n",
      "Searching For Piet Junior                                       {'Artist': 18, 'Album': 12}\n",
      "Searching For TWO                                               {'Artist': 31, 'Album': 17}\n",
      " [Getting AppleMusic ArtistIDs] | 4175/?     : RunTime 7 Hour and 13 Minute.\n",
      "*****************************************************************************************************************************\n",
      "*                                                    Saving SearchArtist                                                    *\n",
      "*****************************************************************************************************************************\n",
      "  Saving Index [333482] ... Done\n",
      "  Saving Data [18050] ... Done\n",
      "  Saving Error [88] ... Done\n"
     ]
    },
    {
     "data": {
      "application/vnd.jupyter.widget-view+json": {
       "model_id": "9cfefec1589d44599601baf64e737ac5",
       "version_major": 2,
       "version_minor": 0
      },
      "text/plain": [
       "Waiting:   0%|          | 0/50 [00:00<?, ?it/s]"
      ]
     },
     "metadata": {},
     "output_type": "display_data"
    },
    {
     "name": "stdout",
     "output_type": "stream",
     "text": [
      "Searching For Dalvanius and the Fascinations                    {'Artist': 2, 'Album': 4}\n",
      "Searching For data_haven                                        {'Artist': 6, 'Album': 7}\n",
      "Searching For EvilMrSod                                         {'Artist': 3, 'Album': 7}\n",
      "Searching For Terry Lightfoot and His Jazzmen                   {'Artist': 9, 'Album': 8}\n",
      "Searching For Axhan Sonn                                        {'Artist': 1, 'Album': 1}\n",
      "Searching For Cohere                                            {'Artist': 18, 'Album': 8}\n",
      "Searching For DJ Emerson 7K                                     {'Artist': 22, 'Album': 14}\n",
      "Searching For Who Stole the Cookie From the Cookie Jar          {'Artist': 14, 'Album': 12}\n",
      "Searching For USNA                                              {'Artist': 13, 'Album': 9}\n",
      "Searching For One Arctic One                                    {'Artist': 10, 'Album': 12}\n",
      "Searching For Oleksandr Yurchenko                               {'Artist': 2, 'Album': 2}\n",
      "Searching For Han Bennink & Derek Bailey                        {'Artist': 2, 'Album': 0}\n",
      "Searching For Thomas Lehn & Marcus Schmickler                   {'Artist': 2, 'Album': 2}\n",
      "Searching For Noraturi                                          {'Artist': 12, 'Album': 13}\n",
      "Searching For Gur Chahal                                        {'Artist': 13, 'Album': 12}\n",
      "Searching For Centuries                                         {'Artist': 28, 'Album': 16}\n",
      "Searching For Ali Scott                                         {'Artist': 21, 'Album': 13}\n",
      "Searching For Iñaki Del Pozo                                   {'Artist': 5, 'Album': 12}\n",
      "Searching For The General Electorate                            {'Artist': 1, 'Album': 7}\n",
      "Searching For Pino d'Ambini                                     {'Artist': 4, 'Album': 6}\n",
      "Searching For Manju Warrier                                     {'Artist': 35, 'Album': 15}\n",
      "Searching For The Roommates                                     {'Artist': 17, 'Album': 15}\n",
      "Searching For Ronnie Aldrich And His Orchestra                  {'Artist': 13, 'Album': 12}\n",
      "Searching For Lee Bates                                         {'Artist': 25, 'Album': 13}\n",
      "Searching For Cuarteto Las d'Aida                               {'Artist': 6, 'Album': 4}\n",
      " [Getting AppleMusic ArtistIDs] | 4200/?     : RunTime 7 Hour and 16 Minute.\n",
      "*****************************************************************************************************************************\n",
      "*                                                    Saving SearchArtist                                                    *\n",
      "*****************************************************************************************************************************\n",
      "  Saving Index [333507] ... Done\n",
      "  Saving Data [18075] ... Done\n",
      "  Saving Error [88] ... Done\n"
     ]
    },
    {
     "data": {
      "application/vnd.jupyter.widget-view+json": {
       "model_id": "b18ea90cfabd45638ce427dffdd0d625",
       "version_major": 2,
       "version_minor": 0
      },
      "text/plain": [
       "Waiting:   0%|          | 0/50 [00:00<?, ?it/s]"
      ]
     },
     "metadata": {},
     "output_type": "display_data"
    },
    {
     "name": "stdout",
     "output_type": "stream",
     "text": [
      "Searching For S>Range                                           {'Artist': 12, 'Album': 13}\n",
      "Searching For Mark Ice                                          {'Artist': 20, 'Album': 13}\n",
      "Searching For Erland Hagegard                                   {'Artist': 41, 'Album': 7}\n",
      "Searching For Luis Ton                                          {'Artist': 4, 'Album': 7}\n",
      "Searching For Leo Birenberg & Zach Robinson                     {'Artist': 3, 'Album': 7}\n",
      "Searching For Hajós-Dévényi Kristóf                         {'Artist': 5, 'Album': 0}\n",
      "Searching For Alphabet                                          {'Artist': 31, 'Album': 15}\n",
      "Searching For DJ Biene                                          {'Artist': 12, 'Album': 14}\n",
      "Searching For Marc D.                                           {'Artist': 16, 'Album': 8}\n",
      "Searching For The Corps                                         {'Artist': 24, 'Album': 15}\n",
      "Searching For Базиль                                            {'Artist': 3, 'Album': 10}\n",
      "Searching For Guru                                              {'Artist': 38, 'Album': 18}\n",
      "Searching For Ramón Aragall                                    {'Artist': 1, 'Album': 8}\n",
      "Searching For Madeleine Cazenave                                {'Artist': 2, 'Album': 5}\n",
      "Searching For XLR                                               {'Artist': 22, 'Album': 14}\n",
      "Searching For Jake Nicoll                                       {'Artist': 1, 'Album': 7}\n",
      "Searching For Money Ostrich                                     {'Artist': 9, 'Album': 12}\n",
      "Searching For WillowMan                                         {'Artist': 6, 'Album': 16}\n",
      "Searching For Fear Control                                      {'Artist': 14, 'Album': 13}\n",
      "Searching For Patrick Bebey                                     {'Artist': 3, 'Album': 5}\n",
      "Searching For Rios Voadores                                     {'Artist': 10, 'Album': 8}\n",
      "Searching For Diego Fernandez de Huete                          {'Artist': 8, 'Album': 2}\n",
      "Searching For Ricky Brathwaite                                  {'Artist': 2, 'Album': 4}\n",
      "Searching For Courtland and Jeffries                            {'Artist': 12, 'Album': 4}\n",
      "Searching For Jonathan Impett                                   {'Artist': 15, 'Album': 5}\n",
      " [Getting AppleMusic ArtistIDs] | 4225/?     : RunTime 7 Hour and 18 Minute.\n",
      "*****************************************************************************************************************************\n",
      "*                                                    Saving SearchArtist                                                    *\n",
      "*****************************************************************************************************************************\n",
      "  Saving Index [333532] ... Done\n",
      "  Saving Data [18100] ... Done\n",
      "  Saving Error [88] ... Done\n"
     ]
    },
    {
     "data": {
      "application/vnd.jupyter.widget-view+json": {
       "model_id": "25913c88612f4fab9af6c94efa6397df",
       "version_major": 2,
       "version_minor": 0
      },
      "text/plain": [
       "Waiting:   0%|          | 0/50 [00:00<?, ?it/s]"
      ]
     },
     "metadata": {},
     "output_type": "display_data"
    },
    {
     "name": "stdout",
     "output_type": "stream",
     "text": [
      "Searching For Jack Feldman                                      {'Artist': 35, 'Album': 12}\n",
      "Searching For Johann Grabbe                                     {'Artist': 3, 'Album': 1}\n",
      "Searching For Jack Meakin                                       {'Artist': 5, 'Album': 5}\n",
      "Searching For Dave Barbour Trio                                 {'Artist': 2, 'Album': 2}\n",
      "Searching For Maria Carbone                                     {'Artist': 14, 'Album': 4}\n",
      "Searching For Karel Valter                                      {'Artist': 11, 'Album': 4}\n",
      "Searching For Ramona Leiß                                       {'Artist': 2, 'Album': 4}\n",
      "Searching For Anna Bon di Venezia                               {'Artist': 13, 'Album': 4}\n",
      "Searching For Dorothea Joyce                                    {'Artist': 2, 'Album': 3}\n",
      "Searching For Kaspar Kummer                                     {'Artist': 10, 'Album': 3}\n",
      "Searching For Tiziana Fabbricini                                {'Artist': 23, 'Album': 5}\n",
      "Searching For Jana Feriová                                     {'Artist': 5, 'Album': 5}\n",
      "Searching For Janet Wheeler                                     {'Artist': 20, 'Album': 5}\n",
      "Searching For Mike Ruekberg                                     {'Artist': 2, 'Album': 2}\n",
      "Searching For Buddy Hyatt                                       {'Artist': 4, 'Album': 5}\n",
      "Searching For Gülşah Tütüncü                               {'Artist': 8, 'Album': 7}\n",
      "Searching For Sebastian Rogers                                  {'Artist': 28, 'Album': 11}\n",
      "Searching For Capilari & Salvavida                              {'Artist': 2, 'Album': 2}\n",
      "Searching For Scott Moffatt                                     {'Artist': 9, 'Album': 8}\n",
      "Searching For Tarira                                            {'Artist': 16, 'Album': 13}\n",
      "Searching For David DeBoor Canfield                             {'Artist': 10, 'Album': 4}\n",
      "Searching For Hywel Davies                                      {'Artist': 6, 'Album': 5}\n",
      "Searching For Ekkehard Rössle                                  {'Artist': 4, 'Album': 3}\n",
      "Searching For Martin Bowes                                      {'Artist': 3, 'Album': 5}\n",
      "Searching For Tom Beier                                         {'Artist': 1, 'Album': 3}\n",
      " [Getting AppleMusic ArtistIDs] | 4250/?     : RunTime 7 Hour and 21 Minute.\n",
      "*****************************************************************************************************************************\n",
      "*                                                    Saving SearchArtist                                                    *\n",
      "*****************************************************************************************************************************\n",
      "  Saving Index [333557] ... Done\n",
      "  Saving Data [18125] ... Done\n",
      "  Saving Error [88] ... Done\n"
     ]
    },
    {
     "data": {
      "application/vnd.jupyter.widget-view+json": {
       "model_id": "05a73788a0d640c1a44f910be2a4e8cc",
       "version_major": 2,
       "version_minor": 0
      },
      "text/plain": [
       "Waiting:   0%|          | 0/50 [00:00<?, ?it/s]"
      ]
     },
     "metadata": {},
     "output_type": "display_data"
    },
    {
     "name": "stdout",
     "output_type": "stream",
     "text": [
      "Searching For Cold Brew                                         {'Artist': 29, 'Album': 17}\n",
      "Searching For Mario Lino Stancati                               {'Artist': 4, 'Album': 3}\n",
      "Searching For Cadmium Nightcore                                 {'Artist': 4, 'Album': 14}\n",
      "Searching For Loui Santana                                      {'Artist': 7, 'Album': 15}\n",
      "Searching For Orthodox Ensemble                                 {'Artist': 38, 'Album': 7}\n",
      "Searching For Achille de Lauzières                             {'Artist': 12, 'Album': 5}\n",
      "Searching For STICKYFANGAZ                                      {'Artist': 1, 'Album': 14}\n",
      "Searching For King Oliver's Dixie Syncopators                   {'Artist': 3, 'Album': 4}\n",
      "Searching For Kike Barrios                                      {'Artist': 5, 'Album': 7}\n",
      "Searching For Ginko Bugs                                        {'Artist': 1, 'Album': 12}\n",
      "Searching For Marc Ash                                          {'Artist': 15, 'Album': 11}\n",
      "Searching For Your Forgotten Love                               {'Artist': 6, 'Album': 9}\n",
      "Searching For Killing Gandhi                                    {'Artist': 10, 'Album': 7}\n",
      "Searching For Earth Dies Burning                                {'Artist': 1, 'Album': 1}\n",
      "Searching For Alikast                                           {'Artist': 3, 'Album': 14}\n",
      "Searching For Lamentation                                       {'Artist': 31, 'Album': 13}\n",
      "Searching For Third Colony                                      {'Artist': 8, 'Album': 7}\n",
      "Searching For SVYR                                              {'Artist': 1, 'Album': 12}\n",
      "Searching For Fran Dunne                                        {'Artist': 5, 'Album': 15}\n",
      "Searching For Tycho Cassini                                     {'Artist': 5, 'Album': 7}\n",
      "Searching For King Llama                                        {'Artist': 7, 'Album': 8}\n",
      "Searching For Spatial Relation                                  {'Artist': 7, 'Album': 8}\n",
      "Searching For Umesh Kaushik                                     {'Artist': 6, 'Album': 11}\n",
      "Searching For Natalie Jane                                      {'Artist': 5, 'Album': 13}\n",
      "Searching For Bigg Bravo                                        {'Artist': 13, 'Album': 13}\n",
      " [Getting AppleMusic ArtistIDs] | 4275/?     : RunTime 7 Hour and 23 Minute.\n",
      "*****************************************************************************************************************************\n",
      "*                                                    Saving SearchArtist                                                    *\n",
      "*****************************************************************************************************************************\n",
      "  Saving Index [333582] ... Done\n",
      "  Saving Data [18150] ... Done\n",
      "  Saving Error [88] ... Done\n"
     ]
    },
    {
     "data": {
      "application/vnd.jupyter.widget-view+json": {
       "model_id": "5c6c0623eeca4015a9ad1293dcba532e",
       "version_major": 2,
       "version_minor": 0
      },
      "text/plain": [
       "Waiting:   0%|          | 0/50 [00:00<?, ?it/s]"
      ]
     },
     "metadata": {},
     "output_type": "display_data"
    },
    {
     "name": "stdout",
     "output_type": "stream",
     "text": [
      "Searching For San Francisco T.K.O.'s                            {'Artist': 18, 'Album': 16}\n",
      "Searching For Sono Oto                                          {'Artist': 4, 'Album': 6}\n",
      "Searching For Superstar DJ                                      {'Artist': 20, 'Album': 15}\n",
      "Searching For Steve Newman                                      {'Artist': 8, 'Album': 7}\n",
      "Searching For Angelique Bianca                                  {'Artist': 10, 'Album': 8}\n",
      "Searching For Max P.                                            {'Artist': 26, 'Album': 13}\n",
      "Searching For Ornviom                                           {'Artist': 12, 'Album': 9}\n",
      "Searching For Andrea Bertalan                                   {'Artist': 15, 'Album': 3}\n",
      "Searching For Daryl Shawn                                       {'Artist': 8, 'Album': 8}\n",
      "Searching For A.J. Van Drenth                                   {'Artist': 0, 'Album': 0}\n",
      "Searching For Mr. Matt                                          {'Artist': 19, 'Album': 16}\n",
      "Searching For Yang Hyun Suk                                     {'Artist': 12, 'Album': 11}\n",
      "Searching For Ultra Panda                                       {'Artist': 3, 'Album': 8}\n",
      "Searching For EthoShark                                         {'Artist': 13, 'Album': 13}\n",
      "Searching For AKTR                                              {'Artist': 9, 'Album': 8}\n",
      "Searching For Materia Gris                                      {'Artist': 22, 'Album': 13}\n",
      "Searching For Pandit Dinesh                                     {'Artist': 25, 'Album': 14}\n",
      "Searching For Wexxel &amp; Sae                                  {'Artist': 0, 'Album': 0}\n",
      "Searching For Sharmistha Chatterjee                             {'Artist': 21, 'Album': 11}\n",
      "Searching For Sin Tek                                           {'Artist': 17, 'Album': 12}\n",
      "Searching For Keats the Geek                                    {'Artist': 3, 'Album': 9}\n",
      "Searching For The New Drakes                                    {'Artist': 11, 'Album': 7}\n",
      "Searching For Janam                                             {'Artist': 33, 'Album': 15}\n",
      "Searching For Marcin Mroziński                                 {'Artist': 11, 'Album': 2}\n",
      "Searching For Brain's Toys                                      {'Artist': 6, 'Album': 12}\n",
      " [Getting AppleMusic ArtistIDs] | 4300/?     : RunTime 7 Hour and 26 Minute.\n",
      "*****************************************************************************************************************************\n",
      "*                                                    Saving SearchArtist                                                    *\n",
      "*****************************************************************************************************************************\n",
      "  Saving Index [333607] ... Done\n",
      "  Saving Data [18175] ... Done\n",
      "  Saving Error [88] ... Done\n"
     ]
    },
    {
     "data": {
      "application/vnd.jupyter.widget-view+json": {
       "model_id": "1dd7bd646c3a4eafb54f139773dfc98d",
       "version_major": 2,
       "version_minor": 0
      },
      "text/plain": [
       "Waiting:   0%|          | 0/50 [00:00<?, ?it/s]"
      ]
     },
     "metadata": {},
     "output_type": "display_data"
    },
    {
     "name": "stdout",
     "output_type": "stream",
     "text": [
      "Searching For Appi                                              {'Artist': 25, 'Album': 8}\n",
      "Searching For Elephants                                         {'Artist': 31, 'Album': 14}\n",
      "Searching For Francesca Faggella                                {'Artist': 7, 'Album': 10}\n",
      "Searching For proud.palms                                       {'Artist': 1, 'Album': 7}\n",
      "Searching For Cosmic Kitten                                     {'Artist': 2, 'Album': 8}\n",
      "Searching For Washuma                                           {'Artist': 4, 'Album': 13}\n",
      "Searching For Side 9000                                         {'Artist': 7, 'Album': 11}\n",
      "Searching For Self Aware                                        {'Artist': 26, 'Album': 16}\n",
      "Searching For Bielzin Mc                                        {'Artist': 22, 'Album': 11}\n",
      "Searching For Tripulantes del Espacio                           {'Artist': 2, 'Album': 6}\n",
      "Searching For Ready                                             {'Artist': 25, 'Album': 16}\n",
      "Searching For Kevin Cota                                        {'Artist': 2, 'Album': 11}\n",
      "Searching For Magnus I Mørket                                   {'Artist': 1, 'Album': 7}\n",
      "Searching For Erdewan Zaxoyi                                    {'Artist': 2, 'Album': 7}\n",
      "Searching For Super Grupo Simbolo 7                             {'Artist': 1, 'Album': 9}\n",
      "Searching For Mieskuoro Weljet                                  {'Artist': 2, 'Album': 7}\n",
      "Searching For Drumlinezz                                        {'Artist': 6, 'Album': 6}\n",
      "Searching For King Terry                                        {'Artist': 14, 'Album': 8}\n",
      "Searching For Ruffy & Tuffy                                     {'Artist': 3, 'Album': 6}\n",
      "Searching For Bobby Williams                                    {'Artist': 15, 'Album': 10}\n",
      "Searching For Silvia                                            {'Artist': 29, 'Album': 13}\n",
      "Searching For Jonathan Anderson                                 {'Artist': 35, 'Album': 11}\n",
      "Searching For Enrico Ascoli                                     {'Artist': 5, 'Album': 8}\n",
      "Searching For Paulette Williams                                 {'Artist': 10, 'Album': 13}\n",
      "Searching For Isac Hördegård                                  {'Artist': 0, 'Album': 0}\n",
      " [Getting AppleMusic ArtistIDs] | 4325/?     : RunTime 7 Hour and 29 Minute.\n",
      "*****************************************************************************************************************************\n",
      "*                                                    Saving SearchArtist                                                    *\n",
      "*****************************************************************************************************************************\n",
      "  Saving Index [333632] ... Done\n",
      "  Saving Data [18200] ... Done\n",
      "  Saving Error [88] ... Done\n"
     ]
    },
    {
     "data": {
      "application/vnd.jupyter.widget-view+json": {
       "model_id": "19100770bb8145f69a290522e8c382d1",
       "version_major": 2,
       "version_minor": 0
      },
      "text/plain": [
       "Waiting:   0%|          | 0/50 [00:00<?, ?it/s]"
      ]
     },
     "metadata": {},
     "output_type": "display_data"
    },
    {
     "name": "stdout",
     "output_type": "stream",
     "text": [
      "Searching For Deli OneFourz                                     {'Artist': 8, 'Album': 13}\n",
      "Searching For Vospi                                             {'Artist': 7, 'Album': 12}\n",
      "Searching For Ars Mundi                                         {'Artist': 22, 'Album': 11}\n",
      "Searching For Diego Losa                                        {'Artist': 7, 'Album': 7}\n",
      "Searching For NPC                                               {'Artist': 23, 'Album': 13}\n",
      "Searching For Ossia                                             {'Artist': 40, 'Album': 15}\n",
      "Searching For Kвaзap                                            {'Artist': 0, 'Album': 0}\n",
      "Searching For The Mountaineering Club                           {'Artist': 17, 'Album': 14}\n",
      "Searching For Joachim Heinrich                                  {'Artist': 1, 'Album': 14}\n",
      "Searching For Moontide                                          {'Artist': 26, 'Album': 15}\n",
      "Searching For Thiago Kelbert                                    {'Artist': 18, 'Album': 14}\n",
      "Searching For José Soto \"Sorderita\"                            {'Artist': 8, 'Album': 12}\n",
      "Searching For Hannu Syrjälahti                                 {'Artist': 1, 'Album': 1}\n",
      "Searching For Ina Williams                                      {'Artist': 15, 'Album': 12}\n",
      "Searching For Lou Gehrig                                        {'Artist': 10, 'Album': 13}\n",
      "Searching For Ändlös Otukt                                    {'Artist': 3, 'Album': 4}\n",
      "Searching For Bellatrix?                                        {'Artist': 23, 'Album': 14}\n",
      "Searching For Pal Joey                                          {'Artist': 26, 'Album': 10}\n",
      "Searching For Daniele Tavella                                   {'Artist': 3, 'Album': 6}\n",
      "Searching For Elastik B.M.C                                     {'Artist': 1, 'Album': 12}\n",
      "Searching For Anjana Sowmya                                     {'Artist': 19, 'Album': 20}\n",
      "Searching For Injustrial                                        {'Artist': 20, 'Album': 14}\n",
      "Searching For Jonny3snares                                      {'Artist': 1, 'Album': 6}\n",
      "Searching For Mike Archangelo                                   {'Artist': 14, 'Album': 13}\n",
      "Searching For Blaze One                                         {'Artist': 17, 'Album': 13}\n",
      " [Getting AppleMusic ArtistIDs] | 4350/?     : RunTime 7 Hour and 31 Minute.\n",
      "*****************************************************************************************************************************\n",
      "*                                                    Saving SearchArtist                                                    *\n",
      "*****************************************************************************************************************************\n",
      "  Saving Index [333657] ... Done\n",
      "  Saving Data [18225] ... Done\n",
      "  Saving Error [88] ... Done\n"
     ]
    },
    {
     "data": {
      "application/vnd.jupyter.widget-view+json": {
       "model_id": "83ae6a364d584bc1b3dd1bd85b30535c",
       "version_major": 2,
       "version_minor": 0
      },
      "text/plain": [
       "Waiting:   0%|          | 0/50 [00:00<?, ?it/s]"
      ]
     },
     "metadata": {},
     "output_type": "display_data"
    },
    {
     "name": "stdout",
     "output_type": "stream",
     "text": [
      "Searching For La Década                                        {'Artist': 24, 'Album': 13}\n",
      "Searching For Cheb Amir                                         {'Artist': 25, 'Album': 7}\n",
      "Searching For Papangu Elétrico                                 {'Artist': 2, 'Album': 13}\n",
      "Searching For Lorita Grahame                                    {'Artist': 2, 'Album': 0}\n",
      "Searching For James Onsen                                       {'Artist': 0, 'Album': 0}\n",
      "Searching For Learic Spellman                                   {'Artist': 1, 'Album': 7}\n",
      "Searching For HYDDE                                             {'Artist': 6, 'Album': 8}\n",
      "Searching For Ren Ford                                          {'Artist': 11, 'Album': 7}\n",
      "Searching For Kushal Paul                                       {'Artist': 15, 'Album': 13}\n",
      "Searching For Innerty                                           {'Artist': 1, 'Album': 1}\n",
      "Searching For Dino & The Diplomats                              {'Artist': 5, 'Album': 4}\n",
      "Searching For Helen Hathorn                                     {'Artist': 0, 'Album': 0}\n",
      "Searching For Two's a Company                                   {'Artist': 18, 'Album': 11}\n",
      "Searching For Jomari                                            {'Artist': 21, 'Album': 15}\n",
      "Searching For Johannes M. Arend                                 {'Artist': 5, 'Album': 1}\n",
      "Searching For Sandro Sù                                        {'Artist': 17, 'Album': 11}\n",
      "Searching For Moncho Berry                                      {'Artist': 2, 'Album': 9}\n",
      "Searching For UA The Duo                                        {'Artist': 17, 'Album': 8}\n",
      "Searching For Chiquetere Band                                   {'Artist': 22, 'Album': 15}\n",
      "Searching For Fanfara Kalashnikov                               {'Artist': 3, 'Album': 2}\n",
      "Searching For Fatih Kosar                                       {'Artist': 4, 'Album': 10}\n",
      "Searching For Siana Catherine                                   {'Artist': 10, 'Album': 10}\n",
      "Searching For BDM México                                       {'Artist': 9, 'Album': 8}\n",
      "Searching For Case 82                                           {'Artist': 3, 'Album': 15}\n",
      "Searching For Kallan HK                                         {'Artist': 3, 'Album': 6}\n",
      " [Getting AppleMusic ArtistIDs] | 4375/?     : RunTime 7 Hour and 34 Minute.\n",
      "*****************************************************************************************************************************\n",
      "*                                                    Saving SearchArtist                                                    *\n",
      "*****************************************************************************************************************************\n",
      "  Saving Index [333682] ... Done\n",
      "  Saving Data [18250] ... Done\n",
      "  Saving Error [88] ... Done\n"
     ]
    },
    {
     "data": {
      "application/vnd.jupyter.widget-view+json": {
       "model_id": "303290d02c70481490039771ab564c28",
       "version_major": 2,
       "version_minor": 0
      },
      "text/plain": [
       "Waiting:   0%|          | 0/50 [00:00<?, ?it/s]"
      ]
     },
     "metadata": {},
     "output_type": "display_data"
    },
    {
     "name": "stdout",
     "output_type": "stream",
     "text": [
      "Searching For Michael Weber                                     {'Artist': 13, 'Album': 7}\n",
      "Searching For Social Sport                                      {'Artist': 12, 'Album': 7}\n",
      "Searching For The Grudge                                        {'Artist': 19, 'Album': 17}\n",
      "Searching For Rodrigo Romero                                    {'Artist': 9, 'Album': 7}\n",
      "Searching For Da Tribe                                          {'Artist': 19, 'Album': 8}\n",
      "Searching For John Sweet                                        {'Artist': 17, 'Album': 15}\n",
      "Searching For Manor                                             {'Artist': 17, 'Album': 12}\n",
      "Searching For Moluccan Moods Orchestra                          {'Artist': 1, 'Album': 1}\n",
      "Searching For Hendrik van Boetzelaer                            {'Artist': 2, 'Album': 7}\n",
      "Searching For DJ Rada                                           {'Artist': 8, 'Album': 14}\n",
      "Searching For Uzielito Mix                                      {'Artist': 22, 'Album': 15}\n",
      "Searching For NRMN                                              {'Artist': 14, 'Album': 12}\n",
      "Searching For Growing Horns                                     {'Artist': 8, 'Album': 9}\n",
      "Searching For Din Brad                                          {'Artist': 9, 'Album': 9}\n",
      "Searching For KRK                                               {'Artist': 30, 'Album': 14}\n",
      "Searching For Only1Skoota                                       {'Artist': 3, 'Album': 12}\n",
      "Searching For Acid Soul Project                                 {'Artist': 4, 'Album': 11}\n",
      "Searching For Romeo Ryonell                                     {'Artist': 8, 'Album': 3}\n",
      "Searching For Betical                                           {'Artist': 10, 'Album': 12}\n",
      "Searching For Blue Material                                     {'Artist': 2, 'Album': 9}\n",
      "Searching For Dandizzy                                          {'Artist': 12, 'Album': 15}\n",
      "Searching For Dän Von Schulz                                   {'Artist': 5, 'Album': 14}\n",
      "Searching For John Alevizakis                                   {'Artist': 4, 'Album': 2}\n",
      "Searching For LiquidFyre                                        {'Artist': 2, 'Album': 8}\n",
      "Searching For Hugh Berret                                       {'Artist': 5, 'Album': 12}\n",
      " [Getting AppleMusic ArtistIDs] | 4400/?     : RunTime 7 Hour and 36 Minute.\n",
      "*****************************************************************************************************************************\n",
      "*                                                    Saving SearchArtist                                                    *\n",
      "*****************************************************************************************************************************\n",
      "  Saving Index [333707] ... Done\n",
      "  Saving Data [18275] ... Done\n",
      "  Saving Error [88] ... Done\n"
     ]
    },
    {
     "data": {
      "application/vnd.jupyter.widget-view+json": {
       "model_id": "060301f67419436b98efa88778ce6791",
       "version_major": 2,
       "version_minor": 0
      },
      "text/plain": [
       "Waiting:   0%|          | 0/50 [00:00<?, ?it/s]"
      ]
     },
     "metadata": {},
     "output_type": "display_data"
    },
    {
     "name": "stdout",
     "output_type": "stream",
     "text": [
      "Searching For Paco Moreni                                       {'Artist': 8, 'Album': 14}\n",
      "Searching For The Galactic Brain                                {'Artist': 8, 'Album': 13}\n",
      "Searching For Lara Jones                                        {'Artist': 25, 'Album': 8}\n",
      "Searching For Enthrone the Unborn                               {'Artist': 8, 'Album': 13}\n",
      "Searching For Alsion                                            {'Artist': 13, 'Album': 11}\n",
      "Searching For Heartist OTOD                                     {'Artist': 3, 'Album': 13}\n",
      "Searching For Direfox                                           {'Artist': 12, 'Album': 12}\n",
      "Searching For DJPINPON                                          {'Artist': 11, 'Album': 10}\n",
      "Searching For Hooch                                             {'Artist': 16, 'Album': 13}\n",
      "Searching For The Widest Smiling Faces                          {'Artist': 2, 'Album': 6}\n",
      "Searching For Seersha                                           {'Artist': 16, 'Album': 12}\n",
      "Searching For Hot Steppa                                        {'Artist': 25, 'Album': 14}\n",
      "Searching For Kid Smoko                                         {'Artist': 13, 'Album': 11}\n",
      "Searching For Tobes44                                           {'Artist': 3, 'Album': 10}\n",
      "Searching For Sammi Garett                                      {'Artist': 5, 'Album': 9}\n",
      "Searching For Vala                                              {'Artist': 39, 'Album': 18}\n",
      "Searching For Merged in Abyss                                   {'Artist': 4, 'Album': 9}\n",
      "Searching For Aerdex                                            {'Artist': 1, 'Album': 14}\n",
      "Searching For Jackos                                            {'Artist': 19, 'Album': 11}\n",
      "Searching For Patrick Aurelle                                   {'Artist': 9, 'Album': 10}\n",
      "Searching For Selina King Murrel                                {'Artist': 2, 'Album': 2}\n",
      "Searching For Si Thompson                                       {'Artist': 35, 'Album': 15}\n",
      "Searching For Free Parking!                                     {'Artist': 23, 'Album': 16}\n",
      "Searching For Holden Laurence                                   {'Artist': 1, 'Album': 8}\n",
      "Searching For Emerald Hill                                      {'Artist': 17, 'Album': 15}\n",
      " [Getting AppleMusic ArtistIDs] | 4425/?     : RunTime 7 Hour and 39 Minute.\n",
      "*****************************************************************************************************************************\n",
      "*                                                    Saving SearchArtist                                                    *\n",
      "*****************************************************************************************************************************\n",
      "  Saving Index [333732] ... Done\n",
      "  Saving Data [18300] ... Done\n",
      "  Saving Error [88] ... Done\n"
     ]
    },
    {
     "data": {
      "application/vnd.jupyter.widget-view+json": {
       "model_id": "f8d3d4e56a214b3fbfb4591fb3af425e",
       "version_major": 2,
       "version_minor": 0
      },
      "text/plain": [
       "Waiting:   0%|          | 0/50 [00:00<?, ?it/s]"
      ]
     },
     "metadata": {},
     "output_type": "display_data"
    },
    {
     "name": "stdout",
     "output_type": "stream",
     "text": [
      "Searching For Pleasure Voyage                                   {'Artist': 5, 'Album': 11}\n",
      "Searching For Machete Clan                                      {'Artist': 1, 'Album': 7}\n",
      "Searching For Scott Young                                       {'Artist': 22, 'Album': 13}\n",
      "Searching For Mercenaire                                        {'Artist': 24, 'Album': 15}\n",
      "Searching For Putrid Evocation                                  {'Artist': 4, 'Album': 6}\n",
      "Searching For Dopestyle                                         {'Artist': 17, 'Album': 10}\n",
      "Searching For Dave Tolliver                                     {'Artist': 4, 'Album': 8}\n",
      "Searching For RVPTR                                             {'Artist': 17, 'Album': 15}\n",
      "Searching For Delicious Nick                                    {'Artist': 6, 'Album': 10}\n",
      "Searching For Jhawk Productions                                 {'Artist': 5, 'Album': 12}\n",
      "Searching For Cozie                                             {'Artist': 22, 'Album': 7}\n",
      "Searching For Adeola Shyllon                                    {'Artist': 6, 'Album': 9}\n",
      "Searching For Valerio Bulla                                     {'Artist': 1, 'Album': 1}\n",
      "Searching For BadBoyHalo                                        {'Artist': 12, 'Album': 9}\n",
      "Searching For DiMuro Beats                                      {'Artist': 2, 'Album': 0}\n",
      "Searching For Alperen Ocak                                      {'Artist': 7, 'Album': 15}\n",
      "Searching For Stereofuse                                        {'Artist': 2, 'Album': 8}\n",
      "Searching For Ulrikes Dream                                     {'Artist': 9, 'Album': 5}\n",
      "Searching For Trevor & Skinny G                                 {'Artist': 1, 'Album': 9}\n",
      "Searching For Post Industrial Noise                             {'Artist': 7, 'Album': 8}\n",
      "Searching For Gin and Sonic                                     {'Artist': 7, 'Album': 13}\n",
      "Searching For 2MUCH CREW                                        {'Artist': 4, 'Album': 4}\n",
      "Searching For DJ Elbe                                           {'Artist': 8, 'Album': 9}\n",
      "Searching For Ampallang Infection                               {'Artist': 1, 'Album': 4}\n",
      "Searching For Death Scythe                                      {'Artist': 14, 'Album': 14}\n",
      " [Getting AppleMusic ArtistIDs] | 4450/?     : RunTime 7 Hour and 42 Minute.\n",
      "*****************************************************************************************************************************\n",
      "*                                                    Saving SearchArtist                                                    *\n",
      "*****************************************************************************************************************************\n",
      "  Saving Index [333757] ... Done\n",
      "  Saving Data [18325] ... Done\n",
      "  Saving Error [88] ... Done\n"
     ]
    },
    {
     "data": {
      "application/vnd.jupyter.widget-view+json": {
       "model_id": "ec8518647d324e11805b920323d1a482",
       "version_major": 2,
       "version_minor": 0
      },
      "text/plain": [
       "Waiting:   0%|          | 0/50 [00:00<?, ?it/s]"
      ]
     },
     "metadata": {},
     "output_type": "display_data"
    },
    {
     "name": "stdout",
     "output_type": "stream",
     "text": [
      "Searching For Mark Stephen Cousins                              {'Artist': 13, 'Album': 7}\n",
      "Searching For Luis Kiari                                        {'Artist': 4, 'Album': 9}\n",
      "Searching For DJ Floops                                         {'Artist': 2, 'Album': 9}\n",
      "Searching For Lil Reeze B                                       {'Artist': 2, 'Album': 8}\n",
      "Searching For Sarah Troedsson                                   {'Artist': 1, 'Album': 10}\n",
      "Searching For BLACKUR0                                          {'Artist': 2, 'Album': 10}\n",
      "Searching For DJ M.S.                                           {'Artist': 34, 'Album': 14}\n",
      "Searching For Chocolate Milk Boys                               {'Artist': 8, 'Album': 13}\n",
      "Searching For Mentis Fluxus                                     {'Artist': 1, 'Album': 6}\n",
      "Searching For BR and Timebomb                                   {'Artist': 6, 'Album': 7}\n",
      "Searching For Ichiro Fujitani                                   {'Artist': 0, 'Album': 0}\n",
      "Searching For Jimmie Dolan                                      {'Artist': 4, 'Album': 4}\n",
      "Searching For Aazael Ngang                                      {'Artist': 13, 'Album': 14}\n",
      "Searching For Jack Cassidy                                      {'Artist': 26, 'Album': 14}\n",
      "Searching For Mike Mass                                         {'Artist': 16, 'Album': 15}\n",
      "Searching For Faruk Khaledi                                     {'Artist': 1, 'Album': 11}\n",
      "Searching For Jack Matthew Tyson                                {'Artist': 5, 'Album': 9}\n",
      "Searching For Jorge Navarro Colorado                            {'Artist': 21, 'Album': 4}\n",
      "Searching For Andrew Rowan                                      {'Artist': 4, 'Album': 7}\n",
      "Searching For Darren Kay                                        {'Artist': 12, 'Album': 13}\n",
      "Searching For Methlab Explosion                                 {'Artist': 1, 'Album': 0}\n",
      "Searching For Shockproof                                        {'Artist': 17, 'Album': 13}\n",
      "Searching For Kronix                                            {'Artist': 22, 'Album': 14}\n",
      "Searching For Mayo Carter                                       {'Artist': 5, 'Album': 13}\n",
      "Searching For The Reverends                                     {'Artist': 19, 'Album': 7}\n",
      " [Getting AppleMusic ArtistIDs] | 4475/?     : RunTime 7 Hour and 44 Minute.\n",
      "*****************************************************************************************************************************\n",
      "*                                                    Saving SearchArtist                                                    *\n",
      "*****************************************************************************************************************************\n",
      "  Saving Index [333782] ... Done\n",
      "  Saving Data [18350] ... Done\n",
      "  Saving Error [88] ... Done\n"
     ]
    },
    {
     "data": {
      "application/vnd.jupyter.widget-view+json": {
       "model_id": "03fb316209a141dbbb521123406956b0",
       "version_major": 2,
       "version_minor": 0
      },
      "text/plain": [
       "Waiting:   0%|          | 0/50 [00:00<?, ?it/s]"
      ]
     },
     "metadata": {},
     "output_type": "display_data"
    },
    {
     "name": "stdout",
     "output_type": "stream",
     "text": [
      "Searching For Jay $way                                          {'Artist': 24, 'Album': 12}\n",
      "Searching For Phani Kalyan                                      {'Artist': 12, 'Album': 14}\n",
      "Searching For stereo type                                       {'Artist': 22, 'Album': 16}\n",
      "Searching For Nascent Nova                                      {'Artist': 3, 'Album': 11}\n",
      "Searching For La Foca                                           {'Artist': 19, 'Album': 16}\n",
      "Searching For II Faces                                          {'Artist': 32, 'Album': 12}\n",
      "Searching For Mixer Man                                         {'Artist': 13, 'Album': 10}\n",
      "Searching For Kubilay Sirin                                     {'Artist': 2, 'Album': 9}\n",
      "Searching For Bek & Wallin                                      {'Artist': 5, 'Album': 13}\n",
      "Searching For KT6900                                            {'Artist': 2, 'Album': 7}\n",
      "Searching For Mikano                                            {'Artist': 8, 'Album': 10}\n",
      "Searching For Sargentorap                                       {'Artist': 5, 'Album': 13}\n",
      "Searching For Kid Klutch                                        {'Artist': 5, 'Album': 7}\n",
      "Searching For HKI Crates                                        {'Artist': 1, 'Album': 0}\n",
      "Searching For Paul Gross                                        {'Artist': 10, 'Album': 9}\n",
      "Searching For Alice L                                           {'Artist': 22, 'Album': 14}\n",
      "Searching For Joyce November                                    {'Artist': 3, 'Album': 10}\n",
      "Searching For Phil Cheeseman                                    {'Artist': 3, 'Album': 2}\n",
      "Searching For Infiniti (Scott Christina)                        {'Artist': 6, 'Album': 13}\n",
      "Searching For Tt Johnson                                        {'Artist': 15, 'Album': 8}\n",
      "Searching For The Bygraves                                      {'Artist': 3, 'Album': 8}\n",
      "Searching For Paradise Blue                                     {'Artist': 20, 'Album': 16}\n",
      "Searching For John X                                            {'Artist': 29, 'Album': 17}\n",
      "Searching For Le Sacerdotesse Dell'isola Del Piacere            {'Artist': 1, 'Album': 5}\n",
      "Searching For Frank Epstein                                     {'Artist': 32, 'Album': 11}\n",
      " [Getting AppleMusic ArtistIDs] | 4500/?     : RunTime 7 Hour and 47 Minute.\n",
      "*****************************************************************************************************************************\n",
      "*                                                    Saving SearchArtist                                                    *\n",
      "*****************************************************************************************************************************\n",
      "  Saving Index [333807] ... Done\n",
      "  Saving Data [18375] ... Done\n",
      "  Saving Error [88] ... Done\n"
     ]
    },
    {
     "data": {
      "application/vnd.jupyter.widget-view+json": {
       "model_id": "0ba8d9b0c42c480286a9bc60a8cea780",
       "version_major": 2,
       "version_minor": 0
      },
      "text/plain": [
       "Waiting:   0%|          | 0/50 [00:00<?, ?it/s]"
      ]
     },
     "metadata": {},
     "output_type": "display_data"
    },
    {
     "name": "stdout",
     "output_type": "stream",
     "text": [
      "Searching For Adria Duch                                        {'Artist': 2, 'Album': 11}\n",
      "Searching For Giraffi Dog                                       {'Artist': 9, 'Album': 12}\n",
      "Searching For Emo DJ                                            {'Artist': 18, 'Album': 15}\n",
      "Searching For Slide20XX                                         {'Artist': 2, 'Album': 7}\n",
      "Searching For Guy Trevino and Friends                           {'Artist': 1, 'Album': 4}\n",
      "Searching For Northsidebase                                     {'Artist': 3, 'Album': 10}\n",
      "Searching For Bre Goad                                          {'Artist': 2, 'Album': 7}\n",
      "Searching For IANAI                                             {'Artist': 7, 'Album': 8}\n",
      "Searching For Kee'ahn                                           {'Artist': 8, 'Album': 13}\n",
      "Searching For Tim McGuire                                       {'Artist': 8, 'Album': 14}\n",
      "Searching For The Story of the Sun                              {'Artist': 29, 'Album': 16}\n",
      "Searching For Achilles' Heel                                    {'Artist': 24, 'Album': 18}\n",
      "Searching For Itibere Zwarg                                     {'Artist': 12, 'Album': 10}\n",
      "Searching For Cry                                               {'Artist': 26, 'Album': 14}\n",
      "Searching For Tadanori Kanno                                    {'Artist': 1, 'Album': 7}\n",
      "Searching For Pretti Emage                                      {'Artist': 4, 'Album': 14}\n",
      "Searching For Glenn Hall                                        {'Artist': 11, 'Album': 12}\n",
      "Searching For Grant Green, Jr.                                  {'Artist': 10, 'Album': 7}\n",
      "Searching For Tony Gee                                          {'Artist': 12, 'Album': 9}\n",
      "Searching For Hyperbole                                         {'Artist': 30, 'Album': 16}\n",
      "Searching For Baby Moon                                         {'Artist': 26, 'Album': 14}\n",
      "Searching For Jon Lang                                          {'Artist': 15, 'Album': 13}\n",
      "Searching For Tim Vaughn                                        {'Artist': 7, 'Album': 7}\n",
      "Searching For Oscillators                                       {'Artist': 31, 'Album': 17}\n",
      "Searching For dj viitin do bc                                   {'Artist': 5, 'Album': 13}\n",
      " [Getting AppleMusic ArtistIDs] | 4525/?     : RunTime 7 Hour and 49 Minute.\n",
      "*****************************************************************************************************************************\n",
      "*                                                    Saving SearchArtist                                                    *\n",
      "*****************************************************************************************************************************\n",
      "  Saving Index [333832] ... Done\n",
      "  Saving Data [18400] ... Done\n",
      "  Saving Error [88] ... Done\n"
     ]
    },
    {
     "data": {
      "application/vnd.jupyter.widget-view+json": {
       "model_id": "e19dc1241df24584bdbe936c4590a869",
       "version_major": 2,
       "version_minor": 0
      },
      "text/plain": [
       "Waiting:   0%|          | 0/50 [00:00<?, ?it/s]"
      ]
     },
     "metadata": {},
     "output_type": "display_data"
    },
    {
     "name": "stdout",
     "output_type": "stream",
     "text": [
      "Searching For Sound Of Kalima                                   {'Artist': 3, 'Album': 13}\n",
      "Searching For Mitzi Mars                                        {'Artist': 1, 'Album': 1}\n",
      "Searching For United and Identified                             {'Artist': 1, 'Album': 7}\n",
      "Searching For Besac Arthur                                      {'Artist': 2, 'Album': 7}\n",
      "Searching For Khan Twinz                                        {'Artist': 5, 'Album': 9}\n",
      "Searching For Fakin Pea$                                        {'Artist': 1, 'Album': 8}\n",
      "Searching For Personnage                                        {'Artist': 26, 'Album': 15}\n",
      "Searching For Torben Egeris                                     {'Artist': 2, 'Album': 4}\n",
      "Searching For Lazer Viking                                      {'Artist': 3, 'Album': 7}\n",
      "Searching For Tommy Simmsss                                     {'Artist': 4, 'Album': 1}\n",
      "Searching For Tony Xenos                                        {'Artist': 1, 'Album': 4}\n",
      "Searching For Out 2                                             {'Artist': 30, 'Album': 15}\n",
      "Searching For Luis Hungria                                      {'Artist': 2, 'Album': 10}\n",
      "Searching For Speakers For The Dead                             {'Artist': 8, 'Album': 7}\n",
      "Searching For Loud N' Killer                                    {'Artist': 6, 'Album': 14}\n",
      "Searching For Bostan                                            {'Artist': 16, 'Album': 11}\n",
      "Searching For DEOEN                                             {'Artist': 27, 'Album': 9}\n",
      "Searching For Loidimo                                           {'Artist': 11, 'Album': 14}\n",
      "Searching For Erik Strauss                                      {'Artist': 5, 'Album': 11}\n",
      "Searching For Jimorrow                                          {'Artist': 4, 'Album': 12}\n",
      "Searching For KidsNextDoor                                      {'Artist': 13, 'Album': 12}\n",
      "Searching For Blue-Room                                         {'Artist': 28, 'Album': 16}\n",
      "Searching For D.Lemma                                           {'Artist': 14, 'Album': 13}\n",
      "Searching For Brothers of Alien Rock                            {'Artist': 2, 'Album': 8}\n",
      "Searching For Megan Alice Clune                                 {'Artist': 3, 'Album': 7}\n",
      " [Getting AppleMusic ArtistIDs] | 4550/?     : RunTime 7 Hour and 52 Minute.\n",
      "*****************************************************************************************************************************\n",
      "*                                                    Saving SearchArtist                                                    *\n",
      "*****************************************************************************************************************************\n",
      "  Saving Index [333857] ... Done\n",
      "  Saving Data [18425] ... Done\n",
      "  Saving Error [88] ... Done\n"
     ]
    },
    {
     "data": {
      "application/vnd.jupyter.widget-view+json": {
       "model_id": "f72d26a630bf46c9b652c166ac55b05e",
       "version_major": 2,
       "version_minor": 0
      },
      "text/plain": [
       "Waiting:   0%|          | 0/50 [00:00<?, ?it/s]"
      ]
     },
     "metadata": {},
     "output_type": "display_data"
    },
    {
     "name": "stdout",
     "output_type": "stream",
     "text": [
      "Searching For Babebee                                           {'Artist': 5, 'Album': 11}\n",
      "Searching For INTRASoL                                          {'Artist': 1, 'Album': 9}\n",
      "Searching For Alyssa Zezza                                      {'Artist': 2, 'Album': 6}\n",
      "Searching For Kadington                                         {'Artist': 1, 'Album': 5}\n",
      "Searching For Bérangère Palix                                 {'Artist': 3, 'Album': 7}\n",
      "Searching For Groove Insane                                     {'Artist': 3, 'Album': 9}\n",
      "Searching For Sushii Boiis                                      {'Artist': 7, 'Album': 7}\n",
      "Searching For Eric Baranyanka                                   {'Artist': 2, 'Album': 7}\n",
      "Searching For Shahead Mostafafar                                {'Artist': 1, 'Album': 8}\n",
      "Searching For B.B. King & His Orchestra                         {'Artist': 26, 'Album': 18}\n",
      "Searching For Gustavo Gutiérrez                                {'Artist': 13, 'Album': 12}\n",
      "Searching For Rolf Herricht & Hans-Joachim Preil                {'Artist': 2, 'Album': 2}\n",
      "Searching For Pikasso                                           {'Artist': 19, 'Album': 13}\n",
      "Searching For Vivien Yap                                        {'Artist': 3, 'Album': 10}\n",
      "Searching For John Barnes Wells                                 {'Artist': 18, 'Album': 5}\n",
      "Searching For Ronnie Harris                                     {'Artist': 11, 'Album': 11}\n",
      "Searching For Livid Color                                       {'Artist': 3, 'Album': 11}\n",
      "Searching For Devine Channel                                    {'Artist': 5, 'Album': 9}\n",
      "Searching For Gabibbo                                           {'Artist': 13, 'Album': 5}\n",
      "Searching For Malibu Jay Hawkins                                {'Artist': 1, 'Album': 7}\n",
      "Searching For Jason Joy                                         {'Artist': 10, 'Album': 14}\n",
      "Searching For My Lo-Fi Heart                                    {'Artist': 18, 'Album': 17}\n",
      "Searching For Juan Pablo Marquez                                {'Artist': 4, 'Album': 10}\n",
      "Searching For D'estranquis                                      {'Artist': 3, 'Album': 3}\n",
      "Searching For StellaR                                           {'Artist': 24, 'Album': 14}\n",
      " [Getting AppleMusic ArtistIDs] | 4575/?     : RunTime 7 Hour and 55 Minute.\n",
      "*****************************************************************************************************************************\n",
      "*                                                    Saving SearchArtist                                                    *\n",
      "*****************************************************************************************************************************\n",
      "  Saving Index [333882] ... Done\n",
      "  Saving Data [18450] ... Done\n",
      "  Saving Error [88] ... Done\n"
     ]
    },
    {
     "data": {
      "application/vnd.jupyter.widget-view+json": {
       "model_id": "398d1b3460f74809aabef015dbbe7013",
       "version_major": 2,
       "version_minor": 0
      },
      "text/plain": [
       "Waiting:   0%|          | 0/50 [00:00<?, ?it/s]"
      ]
     },
     "metadata": {},
     "output_type": "display_data"
    },
    {
     "name": "stdout",
     "output_type": "stream",
     "text": [
      "Searching For Morfiouz                                          {'Artist': 1, 'Album': 7}\n",
      "Searching For Leonardo Zaccaria                                 {'Artist': 3, 'Album': 13}\n",
      "Searching For Monte Cristo                                      {'Artist': 26, 'Album': 14}\n",
      "Searching For Rayos                                             {'Artist': 22, 'Album': 19}\n",
      "Searching For Chill Armonia Studio                              {'Artist': 5, 'Album': 3}\n",
      "Searching For Ode to the Marionette                             {'Artist': 2, 'Album': 3}\n",
      "Searching For Mesotec                                           {'Artist': 3, 'Album': 10}\n",
      "Searching For Sara Dziri                                        {'Artist': 1, 'Album': 3}\n",
      "Searching For Yuuki Ozaki                                       {'Artist': 9, 'Album': 8}\n",
      "Searching For Ricky Rick                                        {'Artist': 24, 'Album': 16}\n",
      "Searching For Package                                           {'Artist': 26, 'Album': 12}\n",
      "Searching For Indigo Project                                    {'Artist': 14, 'Album': 13}\n",
      "Searching For Matthew Picciotto                                 {'Artist': 2, 'Album': 10}\n",
      "Searching For Stolen Lives                                      {'Artist': 20, 'Album': 13}\n",
      "Searching For The Dirty Pearls                                  {'Artist': 2, 'Album': 7}\n",
      "Searching For La Ballade des Rats                               {'Artist': 23, 'Album': 15}\n",
      "Searching For Beni Bonkers                                      {'Artist': 4, 'Album': 16}\n",
      "Searching For Oakahtoakseh                                      {'Artist': 1, 'Album': 5}\n",
      "Searching For Digital Villains                                  {'Artist': 10, 'Album': 8}\n",
      "Searching For Monkey Mike                                       {'Artist': 18, 'Album': 9}\n",
      "Searching For Friedemann Witeka                                 {'Artist': 0, 'Album': 0}\n",
      "Searching For Jim Stringer & the AM Band                        {'Artist': 4, 'Album': 7}\n",
      "Searching For And the Echo                                      {'Artist': 25, 'Album': 12}\n",
      "Searching For Ifa Raziah                                        {'Artist': 7, 'Album': 10}\n",
      "Searching For A. Cinco                                          {'Artist': 19, 'Album': 8}\n",
      " [Getting AppleMusic ArtistIDs] | 4600/?     : RunTime 7 Hour and 57 Minute.\n",
      "*****************************************************************************************************************************\n",
      "*                                                    Saving SearchArtist                                                    *\n",
      "*****************************************************************************************************************************\n",
      "  Saving Index [333907] ... Done\n",
      "  Saving Data [18475] ... Done\n",
      "  Saving Error [88] ... Done\n"
     ]
    },
    {
     "data": {
      "application/vnd.jupyter.widget-view+json": {
       "model_id": "8b6a0b4b6cde4082ac555f7810023658",
       "version_major": 2,
       "version_minor": 0
      },
      "text/plain": [
       "Waiting:   0%|          | 0/50 [00:00<?, ?it/s]"
      ]
     },
     "metadata": {},
     "output_type": "display_data"
    },
    {
     "name": "stdout",
     "output_type": "stream",
     "text": [
      "Searching For Fevertree                                         {'Artist': 8, 'Album': 10}\n",
      "Searching For Alberto Benita                                    {'Artist': 5, 'Album': 3}\n",
      "Searching For Common Man                                        {'Artist': 24, 'Album': 14}\n",
      "Searching For Sukanta Adhikari                                  {'Artist': 1, 'Album': 1}\n",
      "Searching For Suganya Migael                                    {'Artist': 1, 'Album': 2}\n",
      "Searching For Deca Ydf                                          {'Artist': 3, 'Album': 9}\n",
      "Searching For Out of Favor Boys                                 {'Artist': 1, 'Album': 5}\n",
      "Searching For Mildred Clark & The Melodyaires                   {'Artist': 1, 'Album': 7}\n",
      "Searching For Infantry                                          {'Artist': 24, 'Album': 16}\n",
      "Searching For Tilo Escobar                                      {'Artist': 1, 'Album': 6}\n",
      "Searching For Anita Dahlan                                      {'Artist': 1, 'Album': 6}\n",
      "Searching For Erhan Pehlivan                                    {'Artist': 1, 'Album': 3}\n",
      "Searching For Angel-O                                           {'Artist': 19, 'Album': 18}\n",
      "Searching For Black Seal                                        {'Artist': 15, 'Album': 10}\n",
      "Searching For Linda Agosto                                      {'Artist': 1, 'Album': 7}\n",
      "Searching For Satoshi                                           {'Artist': 32, 'Album': 16}\n",
      "Searching For Paul Spencer Adkins                               {'Artist': 3, 'Album': 2}\n",
      "Searching For Island Boyz Cartel                                {'Artist': 1, 'Album': 1}\n",
      "Searching For Joe Le Groove                                     {'Artist': 16, 'Album': 19}\n",
      "Searching For Sunchain                                          {'Artist': 9, 'Album': 12}\n",
      "Searching For Atelier Nouveau                                   {'Artist': 4, 'Album': 3}\n",
      "Searching For Mousie & The Traps                                {'Artist': 1, 'Album': 1}\n",
      "Searching For TCB                                               {'Artist': 17, 'Album': 13}\n",
      "Searching For Verdigrls                                         {'Artist': 1, 'Album': 6}\n",
      "Searching For Covergirl                                         {'Artist': 28, 'Album': 16}\n",
      " [Getting AppleMusic ArtistIDs] | 4625/?     : RunTime 8 Hour and 17 Second.\n",
      "*****************************************************************************************************************************\n",
      "*                                                    Saving SearchArtist                                                    *\n",
      "*****************************************************************************************************************************\n",
      "  Saving Index [333932] ... Done\n",
      "  Saving Data [18500] ... Done\n",
      "  Saving Error [88] ... Done\n"
     ]
    },
    {
     "data": {
      "application/vnd.jupyter.widget-view+json": {
       "model_id": "3306af7e88cb4281bdf41d76f2ad7e3b",
       "version_major": 2,
       "version_minor": 0
      },
      "text/plain": [
       "Waiting:   0%|          | 0/50 [00:00<?, ?it/s]"
      ]
     },
     "metadata": {},
     "output_type": "display_data"
    },
    {
     "name": "stdout",
     "output_type": "stream",
     "text": [
      "   ====> Terminate Time [2023-11-24 19:00:00] Is Reached <====\n",
      " [Getting AppleMusic ArtistIDs] | RunTime 8 Hour and 28 Second.  2023-11-24 19:00:20\n",
      "*****************************************************************************************************************************\n",
      "*                                                    Saving SearchArtist                                                    *\n",
      "*****************************************************************************************************************************\n",
      "  Saving Index [333932] ... Done\n",
      "  Saving Data [18500] ... Done\n",
      "  Saving Error [88] ... Done\n"
     ]
    }
   ],
   "source": [
    "ts = Timestat(f\"Getting {db} ArtistIDs\")\n",
    "tt = getTT(skipEOD=False, vacation=True)\n",
    "assert dbio.rdio.isLocal, f\"MusicDBIO is not set for local downloads!\"\n",
    "\n",
    "def isError(artistName, nErrors, sleeptime, error=None):\n",
    "    searchArtistRecord.setError(index=artistName)    \n",
    "    print(f\"Search Error ==> {artistName}: {error}\")\n",
    "    nErrors.append(artistName)\n",
    "    webio.sleep(sleeptime)\n",
    "    \n",
    "\n",
    "n = 0\n",
    "maxN = 25000000\n",
    "nErrors = []\n",
    "searchArtistRecord.load(verbose=False)\n",
    "for i, (idx, artistName) in enumerate(artistNamesToGet.items()):\n",
    "    if searchArtistRecord.isKnown(artistName):\n",
    "        continue\n",
    "\n",
    "    if len(nErrors) >= 5:\n",
    "        print(\"Stopping due to 5 consecutive errors\")\n",
    "        break\n",
    "\n",
    "    try:\n",
    "        response = webio.getArtistSearchData(artistName=artistName)\n",
    "    except Exception as error:\n",
    "        isError(artistName, nErrors, 10, error)\n",
    "        continue\n",
    "    \n",
    "    if not isinstance(response, dict):\n",
    "        isError(artistName, nErrors, 7.5, \"NotDict\")\n",
    "        continue\n",
    "\n",
    "    nErrors = []\n",
    "    searchArtistRecord.setData(index=artistName, data=response)\n",
    "    webio.sleep(5.0)\n",
    "    n += 1\n",
    "        \n",
    "    if n % 25 == 0:\n",
    "        ts.update(n=n)\n",
    "        searchArtistRecord.save()\n",
    "        webio.wait(5.0)\n",
    "        if tt.isFinished():\n",
    "            break\n",
    "    \n",
    "    if n >= maxN:\n",
    "        print(f\"Breaking after {maxN} downloads...\")\n",
    "        break\n",
    "\n",
    "ts.stop()\n",
    "searchArtistRecord.save()"
   ]
  },
  {
   "cell_type": "code",
   "execution_count": null,
   "id": "898cf4bf-bd23-4fe5-a3bd-a8db776f5098",
   "metadata": {},
   "outputs": [],
   "source": [
    "searchArtistRecord.save()"
   ]
  },
  {
   "cell_type": "code",
   "execution_count": null,
   "id": "f16e7406-01c4-4c78-b9b9-22e6ae70b68a",
   "metadata": {},
   "outputs": [],
   "source": [
    "from utils import getHTML\n",
    "bsdata = getHTML(response.data)\n",
    "\n",
    "def getLinkData(idtype: str, refs: list) -> 'dict':\n",
    "    def getBasicData(ref):\n",
    "        url = ref.get('href')\n",
    "        txt = ref.text.replace(\"\\n\", \"\").strip()\n",
    "        name = txt if len(txt) > 0 else None\n",
    "        return url, name\n",
    "    \n",
    "    linkdata = {}\n",
    "    for ref in refs:\n",
    "        url, name = getBasicData(ref)\n",
    "        func = getattr(webio.mdbid, f\"get{idtype}ID\") if hasattr(webio.mdbid, f\"get{idtype}ID\") else None\n",
    "        dbid = func(url) if callable(func) else None\n",
    "        if all([isinstance(obj, str) for obj in [url, dbid, name]]):\n",
    "            linkdata[dbid] = {\"URL\": url, \"Name\": name}\n",
    "    return linkdata\n",
    "\n",
    "linktypes = {\"artist\": \"Artist\", \"album\": \"Album\", \"playlist\": \"Playlist\", \"curator\": \"Curator\",\n",
    "             \"station\": \"Station\", \"music-video\": \"Video\", \"post\": \"Post\"}\n",
    "links = bsdata.findAll(\"a\")\n",
    "retval = {}\n",
    "for refstub, idtype in linktypes.items():\n",
    "    refs = [ref for ref in links if f\"/{refstub}/\" in ref.get('href')]\n",
    "    retval[idtype] = getLinkData(idtype, refs)\n",
    "\n",
    "status = {idtype: len(retval[idtype]) for idtype in [\"Artist\", \"Album\"]}\n",
    "print(status)"
   ]
  },
  {
   "cell_type": "code",
   "execution_count": null,
   "id": "d32447d1-5d40-47a4-8237-de40a315bc1c",
   "metadata": {},
   "outputs": [],
   "source": [
    "bsdata"
   ]
  },
  {
   "cell_type": "code",
   "execution_count": null,
   "id": "0f335b5d-a733-42ed-91e9-dd6bd262d722",
   "metadata": {},
   "outputs": [],
   "source": [
    "searchArtistRecord.load()"
   ]
  },
  {
   "cell_type": "code",
   "execution_count": null,
   "id": "6be160ec-6d71-4a39-8049-33a1a2000846",
   "metadata": {},
   "outputs": [],
   "source": [
    "dels = []\n",
    "above = 1000000000\n",
    "for i,(k,v) in enumerate(searchArtistRecord.recordData['Index'].items()):\n",
    "    if k == \"Confront\":\n",
    "        above = i\n",
    "    if i >= above:\n",
    "        dels.append(k)"
   ]
  },
  {
   "cell_type": "code",
   "execution_count": null,
   "id": "6538b1b1-10f0-4716-8bf7-a5c09a283207",
   "metadata": {},
   "outputs": [],
   "source": [
    "for name in dels:\n",
    "    del searchArtistRecord.recordData['Index'][name]\n",
    "    del searchArtistRecord.recordData['Data'][name]"
   ]
  },
  {
   "cell_type": "code",
   "execution_count": null,
   "id": "b75ba35d-9b97-4294-8155-98c68ddf61aa",
   "metadata": {},
   "outputs": [],
   "source": [
    "searchArtistRecord.save()"
   ]
  },
  {
   "cell_type": "code",
   "execution_count": 9,
   "id": "68c4117f-10a6-4d1f-bc75-4901a06d1583",
   "metadata": {},
   "outputs": [
    {
     "name": "stdout",
     "output_type": "stream",
     "text": [
      "****************************************************************************************************************************\n",
      "*                                             MergeSearchArtist(db=AppleMusic)                                             *\n",
      "****************************************************************************************************************************\n",
      "New Local Shape:  (1716416, 3)\n",
      "Old Global Shape: (890639, 3)\n",
      "New Global Shape: (1716416, 3)\n"
     ]
    }
   ],
   "source": [
    "msa = MergeSearchArtist(dbio.db)\n",
    "msa.copyFromLocal(force=True)"
   ]
  },
  {
   "cell_type": "markdown",
   "id": "80515f1b",
   "metadata": {},
   "source": [
    "# Download Artist Data"
   ]
  },
  {
   "cell_type": "code",
   "execution_count": null,
   "id": "5fc8663a",
   "metadata": {},
   "outputs": [],
   "source": [
    "dbio = MusicDBIO(verbose=False,local=True,mkDirs=False)\n",
    "webio = RawWebData(debug=False)"
   ]
  },
  {
   "cell_type": "code",
   "execution_count": null,
   "id": "526dbbe7-2306-4df6-a0f7-a4f1fa3d5bbe",
   "metadata": {},
   "outputs": [],
   "source": [
    "searchArtistRecord.load()"
   ]
  },
  {
   "cell_type": "code",
   "execution_count": null,
   "id": "1721d91a-3d36-492c-9ae2-45f6d9a68208",
   "metadata": {},
   "outputs": [],
   "source": []
  },
  {
   "cell_type": "code",
   "execution_count": null,
   "id": "28c35e8d-30b3-46c1-bbc7-5c99fc3305cc",
   "metadata": {},
   "outputs": [],
   "source": [
    "df"
   ]
  },
  {
   "cell_type": "code",
   "execution_count": null,
   "id": "2c5b5a49-7cd8-496b-b2f8-b3296639d128",
   "metadata": {},
   "outputs": [],
   "source": []
  },
  {
   "cell_type": "code",
   "execution_count": null,
   "id": "c8aa32cb",
   "metadata": {},
   "outputs": [],
   "source": [
    "artistNames            = searchArtists()\n",
    "artistNames['IndexModVal'] = artistNames.index.map(mv.getModVal)\n",
    "localArtistsDict       = localArtists.get()\n",
    "localArtistsErrorsDict = localArtistsErrors.get()\n",
    "availableNames         = artistNames[~artistNames.index.isin(localArtistsDict.keys())]\n",
    "availableNames         = availableNames[~availableNames.index.isin(localArtistsErrorsDict.keys())]\n",
    "artistNamesToGet = Series({modVal: modValDF for modVal,modValDF in availableNames.groupby([\"IndexModVal\"])})\n",
    "\n",
    "\n",
    "print(\"# {0} Search Results\".format(db))\n",
    "print(\"#   Available Names:      {0}\".format(len(artistNames)))\n",
    "print(\"#   Known Artist Names:   {0}\".format(len(localArtistsDict)))\n",
    "print(\"#   Artist Names To Get:  {0}\".format(len(availableNames)))\n",
    "\n",
    "del availableNames\n",
    "del localArtistsErrorsDict\n",
    "del localArtistsDict\n",
    "del artistNames\n",
    "\n",
    "#   Artist Names To Get:  3051"
   ]
  },
  {
   "cell_type": "code",
   "execution_count": null,
   "id": "e7145553",
   "metadata": {},
   "outputs": [],
   "source": [
    "def saveArtistData(db, localArtistsDict, localArtistsDictErrors):\n",
    "    print(\"=\"*150)\n",
    "    print(f\"Saving {len(localArtistsDict)} {db} Artists Data\")\n",
    "    localArtists.save(data=localArtistsDict)\n",
    "    print(f\"Saving {len(localArtistsDictErrors)} {db} Artists Data Errors\")\n",
    "    localArtistsErrors.save(data=localArtistsDictErrors)\n",
    "    print(\"=\"*150)"
   ]
  },
  {
   "cell_type": "code",
   "execution_count": null,
   "id": "cb6354bd",
   "metadata": {},
   "outputs": [],
   "source": [
    "ts = Timestat(\"Getting {0} ArtistIDs\".format(db))\n",
    "tt = getTT(skipEOD=False)\n",
    "\n",
    "n    = 0\n",
    "maxN = 2500000\n",
    "localArtistsDict = localArtists.get()\n",
    "localArtistsDictErrors = localArtistsErrors.get()\n",
    "stop = False\n",
    "nErrors = []\n",
    "for groupModVal,modValData in artistNamesToGet.iteritems():\n",
    "    if stop is True:\n",
    "        break\n",
    "    for j,(artistID,row) in enumerate(modValData.iterrows()):\n",
    "        if len(nErrors) >= 5:\n",
    "            for artistID in nErrors:\n",
    "                print(f\"del searchedForErrors['{artistID}']\")\n",
    "                stop=True\n",
    "                break\n",
    "        if any([dct.get(artistID) is not None for dct in [localArtistsDict, localArtistsDictErrors]]):\n",
    "            continue\n",
    "            \n",
    "        artistName  = row[\"Name\"]\n",
    "        artistRef   = row[\"Ref\"]\n",
    "\n",
    "        print(f\"{groupModVal: <8} |{j: <8} | {n: <8} | \", end=\"\")\n",
    "        try:\n",
    "            response = webio.getArtistData(artistName=artistName, artistRef=artistRef)\n",
    "        except:\n",
    "            print(\"Error ==> {0}\".format(artistName))\n",
    "            localArtistsDictErrors[artistID] = True\n",
    "            nErrors.append(artistID)\n",
    "            webio.sleep(10)\n",
    "            continue\n",
    "\n",
    "        if not isinstance(response,bytes):\n",
    "            print(\"Error ==> {0}\".format(artistName))\n",
    "            localArtistsDictErrors[artistID] = True\n",
    "            nErrors.append(artistID)\n",
    "            webio.sleep(3.5)\n",
    "            continue\n",
    "\n",
    "        nErrors = []\n",
    "        modVal  = mv.getModVal(artistID)\n",
    "        mio.data.saveRawArtistData(data=response, modval=modVal, dbID=artistID)\n",
    "        localArtistsDict[artistID] = True\n",
    "        webio.sleep(4.5)\n",
    "        n += 1\n",
    "        nLastErrors = 0\n",
    "        \n",
    "        if n % 5 == 0:\n",
    "            if tt.isFinished():\n",
    "                stop=True\n",
    "                break\n",
    "\n",
    "        if n % 50 == 0:\n",
    "            webio.sleep(5)\n",
    "            \n",
    "        if n % 100 == 0:\n",
    "            saveArtistData(db, localArtistsDict, localArtistsDictErrors)\n",
    "            if tt.isFinished():\n",
    "                stop=True\n",
    "                break\n",
    "            webio.wait(10.0)\n",
    "\n",
    "        if n >= maxN:\n",
    "            print(\"Breaking after {0} downloads...\".format(maxN))\n",
    "            stop=True\n",
    "            break\n",
    "\n",
    "ts.stop()\n",
    "if True: saveArtistData(db, localArtistsDict, localArtistsDictErrors)"
   ]
  },
  {
   "cell_type": "code",
   "execution_count": null,
   "id": "0c73ade6",
   "metadata": {},
   "outputs": [],
   "source": [
    "if True: saveArtistData(db, localArtistsDict, localArtistsDictErrors)"
   ]
  },
  {
   "cell_type": "markdown",
   "id": "e943fd7f",
   "metadata": {
    "heading_collapsed": true,
    "jp-MarkdownHeadingCollapsed": true
   },
   "source": [
    "# Download Album Data"
   ]
  },
  {
   "cell_type": "markdown",
   "id": "60841744",
   "metadata": {
    "heading_collapsed": true,
    "hidden": true
   },
   "source": [
    "## Create Media Data"
   ]
  },
  {
   "cell_type": "code",
   "execution_count": null,
   "id": "fba8df92",
   "metadata": {
    "hidden": true
   },
   "outputs": [],
   "source": [
    "mediaData = {}\n",
    "for modVal in range(100):\n",
    "    modValData = mio.data.getModValData(modVal)\n",
    "    modValMediaData = {}\n",
    "    for artistID,artistIDData in modValData.iteritems():\n",
    "        for mediaType,mediaTypeData in artistIDData.media.media.items():\n",
    "            modValMediaData.update({code: [artistID,media.album,media.url] for code,media in mediaTypeData.items()})\n",
    "    mediaData.update(modValMediaData)\n",
    "    if (modVal+1) % 10 == 0:\n",
    "        print(f\"ModVal = {modVal+1}\")\n",
    "        \n",
    "df = DataFrame(mediaData).T\n",
    "df.columns = [\"ArtistID\", \"Name\", \"Ref\"]\n",
    "knownMedia.save(data=df)"
   ]
  },
  {
   "cell_type": "markdown",
   "id": "4adc39f5",
   "metadata": {
    "hidden": true
   },
   "source": [
    "## Download Data"
   ]
  },
  {
   "cell_type": "code",
   "execution_count": null,
   "id": "c3926b7d",
   "metadata": {
    "hidden": true
   },
   "outputs": [],
   "source": [
    "mio   = bandcamp.MusicDBIO(verbose=False,local=True,mkDirs=False)\n",
    "webio = bandcamp.RawWebData(debug=False)"
   ]
  },
  {
   "cell_type": "code",
   "execution_count": null,
   "id": "3cc84ddf",
   "metadata": {
    "hidden": true
   },
   "outputs": [],
   "source": [
    "useArtist = False\n",
    "numMaster = 250\n",
    "\n",
    "knownAlbumsData = knownMedia.get()\n",
    "knownAlbumsData['IndexModVal'] = knownAlbumsData.index.map(mio.getModVal)\n",
    "availableNames  = concat([artistIDDF.head(numMaster) for artistID,artistIDDF in knownAlbumsData.groupby([\"ArtistID\"])])\n",
    "localAlbumsDict = localAlbums.get()\n",
    "availableNames  = availableNames[~availableNames.index.isin(localAlbumsDict.keys())]\n",
    "albumNamesToGet = Series({modVal: modValDF for modVal,modValDF in availableNames.groupby([\"IndexModVal\"])})\n",
    "\n",
    "print(f\"# {db} Album Search Results\")\n",
    "print(f\"#   Available Album IDs:  {knownAlbumsData.shape[0]}\")\n",
    "print(f\"#   Known Album IDs:      {len(localAlbumsDict)}\")\n",
    "print(f\"#   Albums To Download:   {availableNames.shape[0]}\")\n",
    "\n",
    "del availableNames\n",
    "del localAlbumsDict\n",
    "del knownAlbumsData\n",
    "\n",
    "#   Albums To Download:   23457\n",
    "#   Albums To Download:   20437\n",
    "#   Albums To Download:   12137\n",
    "#   Albums To Download:   4132"
   ]
  },
  {
   "cell_type": "code",
   "execution_count": null,
   "id": "d85b7827",
   "metadata": {
    "hidden": true
   },
   "outputs": [],
   "source": [
    "def saveAlbumData(db, localAlbumsDict, searchedForErrors):\n",
    "    print(\"=\"*150)\n",
    "    print(f\"Saving {len(localAlbumsDict)} {db} Albums Data\")\n",
    "    localAlbums.save(data=localAlbumsDict)\n",
    "    print(f\"Saving {len(searchedForErrors)} {db} Searched For Errors\")\n",
    "    errors.save(data=searchedForErrors)\n",
    "    print(\"=\"*150)"
   ]
  },
  {
   "cell_type": "code",
   "execution_count": null,
   "id": "27cb8e07",
   "metadata": {
    "hidden": true
   },
   "outputs": [],
   "source": [
    "ts = Timestat(\"Getting {0} AlbumIDs\".format(db))\n",
    "tt = getTT(skipEOD=False)\n",
    "\n",
    "n    = 0\n",
    "maxN = 25000000\n",
    "localAlbumsDict     = localAlbums.get()\n",
    "searchedForErrors   = errors.get()\n",
    "stop = False\n",
    "nErrors = []\n",
    "for groupModVal,modValData in albumNamesToGet.iteritems():\n",
    "    if stop is True:\n",
    "        break\n",
    "    for j,(albumID,row) in enumerate(modValData.iterrows()):\n",
    "        if len(nErrors) >= 5:\n",
    "            for artistID in nErrors:\n",
    "                print(f\"del searchedForErrors['{artistID}']\")\n",
    "                stop=True\n",
    "                break\n",
    "        if any([dct.get(albumID) is not None for dct in [localAlbumsDict, searchedForErrors]]):\n",
    "            continue\n",
    "            \n",
    "        artistID   = row[\"ArtistID\"]\n",
    "        albumName  = row[\"Name\"]\n",
    "        albumRef  = row[\"Ref\"]\n",
    "\n",
    "        print(f\"{groupModVal: <8} |{j: <8} | {n: <8} | \", end=\"\")\n",
    "        try:\n",
    "            response = webio.getAlbumData(albumName=albumName, albumRef=albumRef)\n",
    "        except:\n",
    "            print(\"Error ==> {0}\".format(albumName))\n",
    "            searchedForErrors[albumID] = True\n",
    "            nErrors.append(albumID)\n",
    "            webio.sleep(10)\n",
    "            continue\n",
    "\n",
    "        if not isinstance(response,bytes):\n",
    "            print(\"Error ==> {0}\".format(albumName))\n",
    "            searchedForErrors[albumID] = True\n",
    "            nErrors.append(albumID)\n",
    "            webio.sleep(3.5)\n",
    "            continue\n",
    "\n",
    "        nErrors = []\n",
    "        modVal=mio.mv.get(albumID)\n",
    "        mio.data.saveRawArtistAlbumData(data=response, modval=modVal, dbID=albumID)\n",
    "        localAlbumsDict[albumID] = True\n",
    "        webio.sleep(4.5)\n",
    "        n += 1\n",
    "        nLastErrors = 0\n",
    "        \n",
    "        if n % 5 == 0:\n",
    "            if tt.isFinished():\n",
    "                stop=True\n",
    "                break\n",
    "\n",
    "        if n % 50 == 0:\n",
    "            webio.sleep(5)\n",
    "            \n",
    "        if n % 100 == 0:\n",
    "            saveAlbumData(db, localAlbumsDict, searchedForErrors)\n",
    "            if tt.isFinished():\n",
    "                stop=True\n",
    "                break\n",
    "            webio.wait(10.0)\n",
    "\n",
    "        if n >= maxN:\n",
    "            print(\"Breaking after {0} downloads...\".format(maxN))\n",
    "            stop=True\n",
    "            break\n",
    "\n",
    "ts.stop()\n",
    "if True: saveAlbumData(db, localAlbumsDict, searchedForErrors)"
   ]
  },
  {
   "cell_type": "code",
   "execution_count": null,
   "id": "d69d83f3",
   "metadata": {
    "hidden": true
   },
   "outputs": [],
   "source": [
    "from os import getpid\n",
    "getpid()"
   ]
  },
  {
   "cell_type": "markdown",
   "id": "0f5ffb07",
   "metadata": {
    "heading_collapsed": true
   },
   "source": [
    "# Download Lists"
   ]
  },
  {
   "cell_type": "markdown",
   "id": "c87ebfa0",
   "metadata": {
    "hidden": true
   },
   "source": [
    "## Download Starter"
   ]
  },
  {
   "cell_type": "code",
   "execution_count": null,
   "id": "340aed0e",
   "metadata": {
    "hidden": true
   },
   "outputs": [],
   "source": [
    "from apiutils import WebIO\n",
    "from ioutils import FileIO, HTMLIO\n",
    "io  = FileIO()\n",
    "hio = HTMLIO()\n",
    "wio = WebIO()"
   ]
  },
  {
   "cell_type": "code",
   "execution_count": null,
   "id": "33406fc6",
   "metadata": {
    "hidden": true
   },
   "outputs": [],
   "source": [
    "starter             = {}\n",
    "starter[\"List\"]     = \"https://www.bandcamp.org/lists.php\"\n",
    "starter[\"Genre\"]    = \"https://www.bandcamp.org/genre.php\"\n",
    "#starterBestAlbum = \"https://www.bandcamp.org/ratings/6-highest-rated/2023/1\"\n",
    "starter[\"Rating\"]   = \"https://www.bandcamp.org/ratings\"\n",
    "starter[\"Discover\"] = \"https://www.bandcamp.org/discover\"\n",
    "starter[\"Releases\"] = \"https://www.bandcamp.org/releases\"\n",
    "starter[\"MustHear\"] = \"https://www.bandcamp.org/must-hear\"\n",
    "\n",
    "savename = \"../../sandbox/AOTYstarter.p\"\n",
    "starterData = io.get(savename)\n",
    "for key,url in starter.items():\n",
    "    if starterData.get(key) is not None:\n",
    "        continue\n",
    "    retval = wio.get(url)\n",
    "    if retval.code == 200:\n",
    "        print(key)\n",
    "        starterData[key] = retval.data\n",
    "    wio.sleep(3)\n",
    "        \n",
    "print(f\"Saving data to {savename}\")\n",
    "io.save(idata=starterData, ifile=savename)"
   ]
  },
  {
   "cell_type": "code",
   "execution_count": null,
   "id": "1b9627b1",
   "metadata": {
    "hidden": true
   },
   "outputs": [],
   "source": [
    "useStarter = False\n",
    "useSite    = True\n",
    "\n",
    "if useStarter is True:\n",
    "    aotyData = io.get(\"../../sandbox/AOTYstarter.p\")\n",
    "elif useSite is True:\n",
    "    aotyData = io.get(\"../../sandbox/AOTYsiteData.p\") | io.get(\"../../sandbox/AOTYsiteData2.p\")\n",
    "else:\n",
    "    aotyData = {}\n",
    "    \n",
    "N  = len(aotyData)\n",
    "ts = Timestat(f\"Sorting {N} Site Refs\")\n",
    "refsData = {\"List\": {}, \"Lists\": {}, \"Rating\": {}, \"Album\": {}, \"Artist\": {}, \"Discover\": {}, \"Genre\": {}, \"MustHear\": {}, \"Release\": {}, \"Spotify\": {}, \"Apple\": {}, \"Amazon\": {}, \"User\": {}}\n",
    "for n,(key,keyData) in enumerate(aotyData.items()):\n",
    "    if (n+1) % 500 == 0 or (n+1) == 100:\n",
    "        ts.update(n=n+1, N=N)\n",
    "        \n",
    "    bsdata = hio.get(keyData)\n",
    "    refs = bsdata.findAll(\"a\")\n",
    "    for ref in refs:\n",
    "        href = ref.get('href')\n",
    "        if not isinstance(href,str):\n",
    "            continue\n",
    "        if href.startswith(\"/list/\"):\n",
    "            refsData[\"List\"][href] = ref.text.strip()\n",
    "        elif \"lists.php\" in href:\n",
    "            refsData[\"Lists\"][href] = ref.text.strip()\n",
    "        elif href.startswith(\"/ratings/\"):\n",
    "            refsData[\"Rating\"][href] = ref.text.strip()\n",
    "        elif href.startswith(\"/artist/\"):\n",
    "            refsData[\"Artist\"][href] = ref.text.strip()\n",
    "        elif href.startswith(\"/album/\"):\n",
    "            refsData[\"Album\"][href] = ref.text.strip()\n",
    "        elif href.startswith(\"/discover/\"):\n",
    "            refsData[\"Discover\"][href] = ref.text.strip()\n",
    "        elif href.startswith(\"/genre/\"):\n",
    "            refsData[\"Genre\"][href] = ref.text.strip()\n",
    "        elif href.startswith(\"/must-hear/\"):\n",
    "            refsData[\"MustHear\"][href] = ref.text.strip()\n",
    "        elif \"/releases/\" in href:\n",
    "            refsData[\"Release\"][href] = ref.text.strip()\n",
    "        elif \"spotify.com\" in href:\n",
    "            refsData[\"Spotify\"][href] = ref.text.strip()\n",
    "        elif \"apple.com\" in href:\n",
    "            refsData[\"Apple\"][href] = ref.text.strip()\n",
    "        elif \"amazon.com\" in href:\n",
    "            refsData[\"Amazon\"][href] = ref.text.strip()\n",
    "        elif \"/user/\" in href:\n",
    "            refsData[\"User\"][href] = ref.text.strip()\n",
    "        else:\n",
    "            continue\n",
    "            print(href,'\\t|\\t',ref.text)\n",
    "            \n",
    "ts.stop()"
   ]
  },
  {
   "cell_type": "code",
   "execution_count": null,
   "id": "4104a0c5",
   "metadata": {
    "hidden": true
   },
   "outputs": [],
   "source": [
    "savename = \"../../sandbox/AOTYsiteRefs.p\"\n",
    "print(f\"Saving data to {savename}\")\n",
    "for key,keyData in refsData.items():\n",
    "    print(f\"  {key: <20}{len(keyData)}\")\n",
    "io.save(idata=refsData, ifile=savename)"
   ]
  },
  {
   "cell_type": "code",
   "execution_count": null,
   "id": "d6d88b46",
   "metadata": {
    "hidden": true
   },
   "outputs": [],
   "source": [
    "siteData   = {}\n",
    "artistData = {}\n",
    "albumData  = {}\n",
    "userData   = {}\n",
    "otherData  = {}\n",
    "\n",
    "if False:\n",
    "    for ref,name in refsData[\"List\"].items():\n",
    "        if ref.startswith(\"/artist/\"):\n",
    "            artistData[ref] = name\n",
    "        elif ref.startswith(\"/album/\"):\n",
    "            albumData[ref] = name\n",
    "        elif ref.startswith(\"/user/\"):\n",
    "            userData[ref] = name\n",
    "        elif ref.startswith(\"/\"):\n",
    "            siteData[ref] = name\n",
    "        else:\n",
    "            otherData[ref] = name\n",
    "else:\n",
    "    for key,keyData in refsData.items():\n",
    "        for ref,name in keyData.items():\n",
    "            if ref.startswith(\"/artist/\"):\n",
    "                artistData[ref] = name\n",
    "            elif ref.startswith(\"/album/\"):\n",
    "                albumData[ref] = name\n",
    "            elif ref.startswith(\"/user/\"):\n",
    "                userData[ref] = name\n",
    "            elif ref.startswith(\"/\"):\n",
    "                if \"/list/\" in ref:\n",
    "                    siteData[ref] = name\n",
    "                else:\n",
    "                    otherData[ref] = name\n",
    "            else:\n",
    "                otherData[ref] = name\n",
    "            \n",
    "print(f\"Found {len(artistData)} Artist Refs\")\n",
    "print(f\"Found {len(albumData)} Album Refs\")\n",
    "print(f\"Found {len(userData)} User Refs\")\n",
    "print(f\"Found {len(siteData)} Site Refs\")\n",
    "print(f\"Found {len(otherData)} Other Refs\")"
   ]
  },
  {
   "cell_type": "code",
   "execution_count": null,
   "id": "551c70cf",
   "metadata": {
    "hidden": true
   },
   "outputs": [],
   "source": [
    "for year in range(1970,2005):\n",
    "    key = f'/lists.php?y={year}'\n",
    "    val = 'View More'\n",
    "    siteData[key] = val"
   ]
  },
  {
   "cell_type": "code",
   "execution_count": null,
   "id": "8ee2cf2a",
   "metadata": {
    "hidden": true
   },
   "outputs": [],
   "source": [
    "savename1 = \"../../sandbox/AOTYsiteData.p\"\n",
    "siteDataDownloads1 = io.get(savename1)\n",
    "print(f\"Found {len(siteDataDownloads1)} Previous Downloads\")\n",
    "savename2 = \"../../sandbox/AOTYsiteData2.p\"\n",
    "siteDataDownloads2 = io.get(savename2)\n",
    "print(f\"Found {len(siteDataDownloads2)} Previous Downloads\")\n",
    "N = len(siteData)\n",
    "ts = Timestat(f\"Downloading {N} Site Refs\")\n",
    "for n,(ref,name) in enumerate(siteData.items()):\n",
    "    url=f\"https://www.bandcamp.org{ref}\"\n",
    "    if any([dct.get(ref) is not None for dct in [siteDataDownloads1,siteDataDownloads2]]):\n",
    "        continue\n",
    "    \n",
    "    retval = wio.get(url)\n",
    "    if retval.code == 200:\n",
    "        print(f\"{n: <6} | {N: <6} | {ref}\")\n",
    "        siteDataDownloads2[ref] = retval.data\n",
    "    wio.sleep(3)\n",
    "    \n",
    "    if (n+1) % 25 == 0:\n",
    "        ts.update(n=n+1,N=N)\n",
    "        print(f\"Saving {len(siteDataDownloads2)} data to {savename2}\")\n",
    "        io.save(idata=siteDataDownloads2, ifile=savename2)\n",
    "\n",
    "ts.stop()\n",
    "        \n",
    "print(f\"Saving data to {savename2}\")\n",
    "io.save(idata=siteDataDownloads2, ifile=savename2)"
   ]
  },
  {
   "cell_type": "code",
   "execution_count": null,
   "id": "31757bc0",
   "metadata": {
    "hidden": true
   },
   "outputs": [],
   "source": [
    "siteDataDownloads = io.get(\"../../sandbox/AOTYsiteData.p\")"
   ]
  },
  {
   "cell_type": "code",
   "execution_count": null,
   "id": "60389a81",
   "metadata": {
    "hidden": true
   },
   "outputs": [],
   "source": [
    "io.save(idata=siteDataDownloads, ifile=savename)"
   ]
  },
  {
   "cell_type": "markdown",
   "id": "9625faa6",
   "metadata": {
    "hidden": true
   },
   "source": [
    "## Check For New Data"
   ]
  },
  {
   "cell_type": "code",
   "execution_count": null,
   "id": "bee6ba90",
   "metadata": {
    "hidden": true
   },
   "outputs": [],
   "source": [
    "from lib.bandcamp import MusicDBID\n",
    "mid = MusicDBID()\n",
    "mid.getAlbumID('/album/515536-beyonce-renaissance/critic-lists/?f=all&y=2022')"
   ]
  },
  {
   "cell_type": "code",
   "execution_count": null,
   "id": "89396c35",
   "metadata": {
    "hidden": true
   },
   "outputs": [],
   "source": [
    "df = DataFrame(Series(refsData[\"Album\"])).reset_index().rename(columns={\"index\": \"Ref\", 0: \"List\"})\n",
    "df[\"AlbumID\"] = df[\"Ref\"].map(mid.getAlbumID)\n",
    "df = df[~df[\"AlbumID\"].duplicated()]"
   ]
  },
  {
   "cell_type": "code",
   "execution_count": null,
   "id": "5413dfa5",
   "metadata": {
    "hidden": true
   },
   "outputs": [],
   "source": [
    "df = DataFrame(Series(refsData[\"Artist\"])).reset_index().rename(columns={\"index\": \"Ref\", 0: \"Name\"})\n",
    "df[\"ArtistID\"] = df[\"Ref\"].map(mid.getArtistID)\n",
    "df = df[~df[\"ArtistID\"].duplicated()]"
   ]
  },
  {
   "cell_type": "code",
   "execution_count": null,
   "id": "bf390c07",
   "metadata": {
    "hidden": true
   },
   "outputs": [],
   "source": [
    "artistNames = searchArtists()"
   ]
  },
  {
   "cell_type": "code",
   "execution_count": null,
   "id": "9e048d3c",
   "metadata": {
    "hidden": true
   },
   "outputs": [],
   "source": [
    "df.index = df[\"ArtistID\"]\n",
    "df = df.drop([\"ArtistID\"], axis=1)\n",
    "artistNames = concat([artistNames,df])\n",
    "artistNames = artistNames[~artistNames.index.duplicated()]"
   ]
  },
  {
   "cell_type": "code",
   "execution_count": null,
   "id": "11e2e24e",
   "metadata": {
    "hidden": true
   },
   "outputs": [],
   "source": [
    "mio.data.saveSearchArtistData(data=artistNames)"
   ]
  },
  {
   "cell_type": "markdown",
   "id": "03eb06c2",
   "metadata": {},
   "source": [
    "# Backup"
   ]
  },
  {
   "cell_type": "code",
   "execution_count": null,
   "id": "21696e15",
   "metadata": {},
   "outputs": [],
   "source": [
    "from utils import StoreData, backup\n",
    "from numpy import array_split\n",
    "sd = StoreData(\"bandcamp\", \"Artist\")\n",
    "for modVals in array_split(range(100), 2):\n",
    "    sd.mergeLocalData(modVals=modVals)\n",
    "sd.mergeGlobalData()"
   ]
  },
  {
   "cell_type": "code",
   "execution_count": null,
   "id": "60404c5a",
   "metadata": {},
   "outputs": [],
   "source": [
    "from time import sleep\n",
    "sleep(200)\n",
    "sd.mergeGlobalData()"
   ]
  },
  {
   "cell_type": "code",
   "execution_count": null,
   "id": "22c968e7",
   "metadata": {},
   "outputs": [],
   "source": [
    "for modVal in range(67):\n",
    "    srcDir = DirInfo(f\"/Volumes/Piggy/Discog/artists-bandcamp/{modVal}/artists\")\n",
    "    files  = [FileInfo(ifile) for ifile in srcDir.getFiles()]\n",
    "    files  = [finfo for finfo in files if finfo.basename.isdigit()]\n",
    "    dstDir = DirInfo(f\"/Users/tgadfort/Music/Discog/artists-bandcamp/{modVal}/artists\")\n",
    "    for srcFile in files:\n",
    "        dstFile = dstDir.join(srcFile.name)\n",
    "        srcFile.mvFile(dstFile)"
   ]
  },
  {
   "cell_type": "code",
   "execution_count": null,
   "id": "6f16b7aa",
   "metadata": {},
   "outputs": [],
   "source": []
  }
 ],
 "metadata": {
  "kernelspec": {
   "display_name": "Python 3 (ipykernel)",
   "language": "python",
   "name": "python3"
  },
  "language_info": {
   "codemirror_mode": {
    "name": "ipython",
    "version": 3
   },
   "file_extension": ".py",
   "mimetype": "text/x-python",
   "name": "python",
   "nbconvert_exporter": "python",
   "pygments_lexer": "ipython3",
   "version": "3.11.4"
  },
  "toc": {
   "base_numbering": 1,
   "nav_menu": {},
   "number_sections": true,
   "sideBar": true,
   "skip_h1_title": false,
   "title_cell": "Table of Contents",
   "title_sidebar": "Contents",
   "toc_cell": false,
   "toc_position": {},
   "toc_section_display": true,
   "toc_window_display": false
  }
 },
 "nbformat": 4,
 "nbformat_minor": 5
}
