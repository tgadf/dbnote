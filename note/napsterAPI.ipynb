{
 "cells": [
  {
   "cell_type": "code",
   "execution_count": 1,
   "metadata": {},
   "outputs": [],
   "source": [
    "import datetime\n",
    "import json\n",
    "import os\n",
    "import typing\n",
    "\n",
    "import pandas as pd\n",
    "import requests\n"
   ]
  },
  {
   "cell_type": "code",
   "execution_count": null,
   "metadata": {},
   "outputs": [],
   "source": [
    "curl -v -X POST -u \"ZGY0NzUxNjAtYThhMC00YWI0LWE0ZGYtNWY1YmFkYjI2ZmQz:NjFjOTgxYTYtM2M2Zi00Y2IxLTk5NTQtZDliYTdiZGM1ZmY3\" -d \"username=tgadfort@gmail.com&password=Charlie2022$&grant_type=password\" \"https://napi-v2-2-cloud-run-b3gtd5nmxq-uw.a.run.app/oauth/token\""
   ]
  },
  {
   "cell_type": "code",
   "execution_count": null,
   "metadata": {},
   "outputs": [],
   "source": [
    "curl -v -X POST -u \"ZGY0NzUxNjAtYThhMC00YWI0LWE0ZGYtNWY1YmFkYjI2ZmQz:NjFjOTgxYTYtM2M2Zi00Y2IxLTk5NTQtZDliYTdiZGM1ZmY3\" -d \"username=tgadfort@gmail.com&password=Charlie2022$&grant_type=password\" \"https://napi-v2-2-cloud-run-b3gtd5nmxq-uw.a.run.app/oauth/token\""
   ]
  },
  {
   "cell_type": "code",
   "execution_count": 1,
   "metadata": {},
   "outputs": [
    {
     "name": "stdout",
     "output_type": "stream",
     "text": [
      "Getting OAuth Token ... <Response [200]>\n",
      "{\"access_token\":\"NDYxZDYxMGMtZGEzYi00M2Y5LWIxM2ItNWViMjZkN2QyNjVj\",\"refresh_token\":\"2216bb08-9842-41cc-9e36-aa04a2123f8a\",\"expires_in\":86399,\"token_type\":\"BearerToken\",\"username\":\"tgadfort@gmail.com\",\"first_name\":\"Thomas\",\"last_name\":\"Gadfort\",\"guid\":\"E57DF53D3DC9595AE0535403960A7DB5\",\"catalog\":\"US\",\"authCodeId\":null}\n"
     ]
    },
    {
     "ename": "NameError",
     "evalue": "name 'json' is not defined",
     "output_type": "error",
     "traceback": [
      "\u001b[0;31m---------------------------------------------------------------------------\u001b[0m",
      "\u001b[0;31mNameError\u001b[0m                                 Traceback (most recent call last)",
      "Cell \u001b[0;32mIn[1], line 17\u001b[0m\n\u001b[1;32m     15\u001b[0m \u001b[38;5;28mprint\u001b[39m(response_login)\n\u001b[1;32m     16\u001b[0m \u001b[38;5;28mprint\u001b[39m(response_login\u001b[38;5;241m.\u001b[39mtext)\n\u001b[0;32m---> 17\u001b[0m tokens \u001b[38;5;241m=\u001b[39m \u001b[43mjson\u001b[49m\u001b[38;5;241m.\u001b[39mloads(response_login\u001b[38;5;241m.\u001b[39mtext)\n\u001b[1;32m     18\u001b[0m \u001b[38;5;66;03m#self.token = tokens['access_token']\u001b[39;00m\n\u001b[1;32m     19\u001b[0m \u001b[38;5;66;03m#print(self.token)\u001b[39;00m\n\u001b[1;32m     20\u001b[0m \u001b[38;5;66;03m#self.headers = {'Authorization': f\"Bearer {self.token}\"}\u001b[39;00m\n",
      "\u001b[0;31mNameError\u001b[0m: name 'json' is not defined"
     ]
    }
   ],
   "source": [
    "import requests\n",
    "baseURL = \"https://napi-v2-2-cloud-run-b3gtd5nmxq-uw.a.run.app\"\n",
    "apikey = 'ZGY0NzUxNjAtYThhMC00YWI0LWE0ZGYtNWY1YmFkYjI2ZmQz'\n",
    "apisec = 'NjFjOTgxYTYtM2M2Zi00Y2IxLTk5NTQtZDliYTdiZGM1ZmY3'\n",
    "user = 'tgadfort@gmail.com'\n",
    "password = 'Charlie2022$'\n",
    "\n",
    "OAUTH_URL = f'{baseURL}/oauth/token'\n",
    "params = (apikey, apisec)\n",
    "data = {'username': user,\n",
    "        'password': password,\n",
    "        'grant_type': 'password'}\n",
    "print(\"Getting OAuth Token ... \", end=\"\")\n",
    "response_login = requests.post(url=OAUTH_URL, auth=params, data=data, timeout=10)\n",
    "print(response_login)\n",
    "print(response_login.text)\n",
    "tokens = json.loads(response_login.text)\n",
    "#self.token = tokens['access_token']\n",
    "#print(self.token)\n",
    "#self.headers = {'Authorization': f\"Bearer {self.token}\"}\n"
   ]
  },
  {
   "cell_type": "code",
   "execution_count": 3,
   "metadata": {},
   "outputs": [
    {
     "data": {
      "text/plain": [
       "'{\"access_token\":\"NDYxZDYxMGMtZGEzYi00M2Y5LWIxM2ItNWViMjZkN2QyNjVj\",\"refresh_token\":\"2216bb08-9842-41cc-9e36-aa04a2123f8a\",\"expires_in\":86399,\"token_type\":\"BearerToken\",\"username\":\"tgadfort@gmail.com\",\"first_name\":\"Thomas\",\"last_name\":\"Gadfort\",\"guid\":\"E57DF53D3DC9595AE0535403960A7DB5\",\"catalog\":\"US\",\"authCodeId\":null}'"
      ]
     },
     "execution_count": 3,
     "metadata": {},
     "output_type": "execute_result"
    }
   ],
   "source": [
    "response_login.text"
   ]
  },
  {
   "cell_type": "code",
   "execution_count": null,
   "metadata": {},
   "outputs": [],
   "source": []
  },
  {
   "cell_type": "code",
   "execution_count": 2,
   "metadata": {},
   "outputs": [],
   "source": [
    "class NapsterAPIcall():\n",
    "\n",
    "    API_URL = 'https://api.napster.com/'\n",
    "    API_VERSION = 'v2.2'\n",
    "    API_KEY = 'ZGY0NzUxNjAtYThhMC00YWI0LWE0ZGYtNWY1YmFkYjI2ZmQz' # os.environ['napster_API_KEY']\n",
    "    API_SECRET = 'NjFjOTgxYTYtM2M2Zi00Y2IxLTk5NTQtZDliYTdiZGM1ZmY3' # os.environ['napster_API_SECRET']\n",
    "    \n",
    "    user = 'tgadfort@gmail.com'\n",
    "    password = 'Charlie2022$'\n",
    "    # user = os.environ['napster_user']\n",
    "    # password = os.environ['napster_password']\n",
    "    \n",
    "    headers = None\n",
    "    \n",
    "    def __init__(self):\n",
    "        self.header = None\n",
    "        print('init')\n",
    "    \n",
    "    def login(self):\n",
    "        # Login\n",
    "        OAUTH_URL =  f'{self.API_URL}oauth/token'\n",
    "        params = (self.API_KEY, self.API_SECRET)\n",
    "        data = {\n",
    "            'username': self.user,\n",
    "            'password': self.password,\n",
    "            'grant_type': 'password'\n",
    "            }\n",
    "        response_login = requests.post(url=OAUTH_URL, auth=params, data=data)\n",
    "        tokens = json.loads(response_login.text)\n",
    "        self.headers = {'Authorization': f\"Bearer {tokens['access_token']}\"}\n",
    "        \n",
    "        return response_login.status_code\n",
    "    \n",
    "\n",
    "    def fetch_account_info(self):\n",
    "    # Account Information\n",
    "        response = requests.get(url=f'{self.API_URL}{self.API_VERSION}/me/account', headers=self.headers)\n",
    "        return(response)\n",
    "\n",
    "    def _fetch_favorite_tracks(self, offset):\n",
    "    # Favorite Tracks\n",
    "        params = {'limit': 200, 'offset': offset, 'filter': 'track'}\n",
    "        response = requests.get(url=f'{self.API_URL}{self.API_VERSION}/me/favorites', \n",
    "                                headers=self.headers,\n",
    "                                params = params)\n",
    "        #file = open(\"favorites.json\",\"w+\")\n",
    "        #file.write(response.text)\n",
    "        #file.close()\n",
    "        return response.status_code, json.loads(response.text)\n",
    "    \n",
    "    def fetch_favorites(self):\n",
    "    # All Favorite Tracks\n",
    "        columns = ['artist', 'title', 'streamable']\n",
    "        favorites_df = pd.DataFrame(columns=columns)\n",
    "        ind = 0\n",
    "        while(True):\n",
    "            code, favorites = self._fetch_favorite_tracks(offset=ind * 200)\n",
    "            if code == 200:\n",
    "                #print(favorites_tracks)\n",
    "                favorites_tracks = favorites['favorites']['data']['tracks']\n",
    "                for item in favorites_tracks:\n",
    "                    title, artist, streamable = self.extract_from_list(item)\n",
    "                    favorites_df = favorites_df.append(pd.DataFrame(data=[[artist, title, streamable]],\n",
    "                                                                    columns=columns), \n",
    "                                                       ignore_index=True)\n",
    "                # test for end of list\n",
    "                lim = favorites['meta']['query']['limit']\n",
    "                off = favorites['meta']['query']['offset']\n",
    "                if favorites['meta']['totalCount'] <= (off + lim):\n",
    "                    break\n",
    "                \n",
    "                ind += 1\n",
    "            else:\n",
    "                print('something went wrong!')\n",
    "                return\n",
    "        \n",
    "        return favorites_df\n",
    "    \n",
    "    def extract_from_list(self, item):\n",
    "        title = item['name']\n",
    "        artist = item['artistName']\n",
    "        streamable = item['isStreamable']\n",
    "        return title, artist, streamable\n",
    "    \n",
    "    def fetch_from_library(self, item, subitem=None, limit=200, offset=0):\n",
    "        itemstr = ''\n",
    "        if subitem is None:\n",
    "            itemstr = item\n",
    "        else:\n",
    "            itemstr = f'{item}/{subitem}'\n",
    "        params = {'limit': limit, 'offset': offset}\n",
    "        response = requests.get(url=f'{self.API_URL}{self.API_VERSION}/me/library/{itemstr}', \n",
    "                                headers=self.headers,\n",
    "                                params=params)\n",
    "        return response.status_code, json.loads(response.text)\n",
    "    \n",
    "    def fetch_list_of_playlists(self) -> typing.List[typing.List]:\n",
    "        index = 0\n",
    "        playlists_list = []\n",
    "        while True:\n",
    "            code, response = self.fetch_from_library(item='playlists', offset=index * 200)\n",
    "            if code == 200:\n",
    "                new_elements = [[item['id'], item['name']] for item in response['playlists']]\n",
    "                playlists_list.extend(new_elements)\n",
    "                if len(new_elements) < 200:\n",
    "                    break\n",
    "                index = index + 1\n",
    "        return playlists_list\n",
    "        \n",
    "    \n",
    "    def fetch_playlist(self, playlist_id) -> pd.DataFrame:\n",
    "        tracks_list = []\n",
    "        code, response = self.fetch_from_library(item = 'playlists', subitem = playlist_id + '/tracks')\n",
    "        for item in response['tracks']:\n",
    "            track_id = item['id']\n",
    "            title = item['name']\n",
    "            artist = item['artistName']\n",
    "            tracks_list.append([track_id, title, artist])\n",
    "        \n",
    "        tracks_df = pd.DataFrame(tracks_list, columns=['id', 'title', 'artist'])\n",
    "        return tracks_df\n",
    "    \n",
    "    def add_track_to_library(self, track_id):\n",
    "        headers = {**self.headers, 'Content-Length': '0'}\n",
    "        response = requests.post(url=f'{self.API_URL}{self.API_VERSION}/me/library/tracks?id={track_id}',\n",
    "                                 headers=headers)\n",
    "        \n",
    "        \n",
    "        "
   ]
  },
  {
   "cell_type": "code",
   "execution_count": null,
   "metadata": {},
   "outputs": [],
   "source": []
  },
  {
   "cell_type": "code",
   "execution_count": null,
   "metadata": {},
   "outputs": [],
   "source": [
    "def download_current_favorites(napster: NapsterAPIcall):\n",
    "    favorites_df = napster.fetch_favorites()\n",
    "    now = datetime.datetime.now().strftime('%Y-%m-%d')\n",
    "    favorites_df.to_csv(f'favorites_{now}.csv', index = 0)\n",
    "\n",
    "def check_all_playlists(napster: NapsterAPIcall):\n",
    "    listPlaylist = napster.fetch_list_of_playlists()\n",
    "    \n",
    "    columns = ['playlist','artist', 'title', 'streamable']\n",
    "    unstream_tracks_df = pd.DataFrame(columns=columns)\n",
    "    \n",
    "    for listitem in listPlaylist:\n",
    "        code, response = napster.fetch_from_library(item='playlists', subitem=f'{listitem[0]}/tracks')\n",
    "        for item in response['tracks']:\n",
    "            title, artist, streamable = napster.extract_from_list(item)\n",
    "            if not streamable:\n",
    "                unstream_tracks_df = unstream_tracks_df.append(\n",
    "                    pd.DataFrame(data=[[listitem[1], artist, title, streamable]],\n",
    "                                 columns = columns),\n",
    "                    ignore_index = True)\n",
    "        #print(response)\n",
    "        \n",
    "    now = datetime.datetime.now().strftime('%Y-%m-%d')\n",
    "    unstream_tracks_df.to_csv(f'unstreamTracks_playlists_{now}.csv', index = 0)\n",
    "    return unstream_tracks_df\n",
    "\n",
    "def add_playlist_tracks_to_library(napster: NapsterAPIcall):\n",
    "    playlists = napster.fetch_list_of_playlists()\n",
    "    for playlist in playlists:\n",
    "        playlist_id = playlist[0]\n",
    "        playlist_tracks = napster.fetch_playlist(playlist_id=playlist_id)\n",
    "        for row_index, row in playlist_tracks.iterrows():\n",
    "            napster.add_track_to_library(track_id=row['id'])\n",
    "    "
   ]
  },
  {
   "cell_type": "code",
   "execution_count": 3,
   "metadata": {},
   "outputs": [
    {
     "name": "stdout",
     "output_type": "stream",
     "text": [
      "init\n"
     ]
    },
    {
     "ename": "JSONDecodeError",
     "evalue": "Expecting value: line 1 column 1 (char 0)",
     "output_type": "error",
     "traceback": [
      "\u001b[0;31m---------------------------------------------------------------------------\u001b[0m",
      "\u001b[0;31mJSONDecodeError\u001b[0m                           Traceback (most recent call last)",
      "Cell \u001b[0;32mIn[3], line 2\u001b[0m\n\u001b[1;32m      1\u001b[0m napsterAPI \u001b[38;5;241m=\u001b[39m NapsterAPIcall()\n\u001b[0;32m----> 2\u001b[0m \u001b[43mnapsterAPI\u001b[49m\u001b[38;5;241;43m.\u001b[39;49m\u001b[43mlogin\u001b[49m\u001b[43m(\u001b[49m\u001b[43m)\u001b[49m\n\u001b[1;32m      3\u001b[0m napsterAPI\u001b[38;5;241m.\u001b[39mfetch_account_info()\n",
      "Cell \u001b[0;32mIn[2], line 29\u001b[0m, in \u001b[0;36mNapsterAPIcall.login\u001b[0;34m(self)\u001b[0m\n\u001b[1;32m     23\u001b[0m data \u001b[38;5;241m=\u001b[39m {\n\u001b[1;32m     24\u001b[0m     \u001b[38;5;124m'\u001b[39m\u001b[38;5;124musername\u001b[39m\u001b[38;5;124m'\u001b[39m: \u001b[38;5;28mself\u001b[39m\u001b[38;5;241m.\u001b[39muser,\n\u001b[1;32m     25\u001b[0m     \u001b[38;5;124m'\u001b[39m\u001b[38;5;124mpassword\u001b[39m\u001b[38;5;124m'\u001b[39m: \u001b[38;5;28mself\u001b[39m\u001b[38;5;241m.\u001b[39mpassword,\n\u001b[1;32m     26\u001b[0m     \u001b[38;5;124m'\u001b[39m\u001b[38;5;124mgrant_type\u001b[39m\u001b[38;5;124m'\u001b[39m: \u001b[38;5;124m'\u001b[39m\u001b[38;5;124mpassword\u001b[39m\u001b[38;5;124m'\u001b[39m\n\u001b[1;32m     27\u001b[0m     }\n\u001b[1;32m     28\u001b[0m response_login \u001b[38;5;241m=\u001b[39m requests\u001b[38;5;241m.\u001b[39mpost(url\u001b[38;5;241m=\u001b[39mOAUTH_URL, auth\u001b[38;5;241m=\u001b[39mparams, data\u001b[38;5;241m=\u001b[39mdata)\n\u001b[0;32m---> 29\u001b[0m tokens \u001b[38;5;241m=\u001b[39m \u001b[43mjson\u001b[49m\u001b[38;5;241;43m.\u001b[39;49m\u001b[43mloads\u001b[49m\u001b[43m(\u001b[49m\u001b[43mresponse_login\u001b[49m\u001b[38;5;241;43m.\u001b[39;49m\u001b[43mtext\u001b[49m\u001b[43m)\u001b[49m\n\u001b[1;32m     30\u001b[0m \u001b[38;5;28mself\u001b[39m\u001b[38;5;241m.\u001b[39mheaders \u001b[38;5;241m=\u001b[39m {\u001b[38;5;124m'\u001b[39m\u001b[38;5;124mAuthorization\u001b[39m\u001b[38;5;124m'\u001b[39m: \u001b[38;5;124mf\u001b[39m\u001b[38;5;124m\"\u001b[39m\u001b[38;5;124mBearer \u001b[39m\u001b[38;5;132;01m{\u001b[39;00mtokens[\u001b[38;5;124m'\u001b[39m\u001b[38;5;124maccess_token\u001b[39m\u001b[38;5;124m'\u001b[39m]\u001b[38;5;132;01m}\u001b[39;00m\u001b[38;5;124m\"\u001b[39m}\n\u001b[1;32m     32\u001b[0m \u001b[38;5;28;01mreturn\u001b[39;00m response_login\u001b[38;5;241m.\u001b[39mstatus_code\n",
      "File \u001b[0;32m~/anaconda3/envs/post/lib/python3.11/json/__init__.py:346\u001b[0m, in \u001b[0;36mloads\u001b[0;34m(s, cls, object_hook, parse_float, parse_int, parse_constant, object_pairs_hook, **kw)\u001b[0m\n\u001b[1;32m    341\u001b[0m     s \u001b[38;5;241m=\u001b[39m s\u001b[38;5;241m.\u001b[39mdecode(detect_encoding(s), \u001b[38;5;124m'\u001b[39m\u001b[38;5;124msurrogatepass\u001b[39m\u001b[38;5;124m'\u001b[39m)\n\u001b[1;32m    343\u001b[0m \u001b[38;5;28;01mif\u001b[39;00m (\u001b[38;5;28mcls\u001b[39m \u001b[38;5;129;01mis\u001b[39;00m \u001b[38;5;28;01mNone\u001b[39;00m \u001b[38;5;129;01mand\u001b[39;00m object_hook \u001b[38;5;129;01mis\u001b[39;00m \u001b[38;5;28;01mNone\u001b[39;00m \u001b[38;5;129;01mand\u001b[39;00m\n\u001b[1;32m    344\u001b[0m         parse_int \u001b[38;5;129;01mis\u001b[39;00m \u001b[38;5;28;01mNone\u001b[39;00m \u001b[38;5;129;01mand\u001b[39;00m parse_float \u001b[38;5;129;01mis\u001b[39;00m \u001b[38;5;28;01mNone\u001b[39;00m \u001b[38;5;129;01mand\u001b[39;00m\n\u001b[1;32m    345\u001b[0m         parse_constant \u001b[38;5;129;01mis\u001b[39;00m \u001b[38;5;28;01mNone\u001b[39;00m \u001b[38;5;129;01mand\u001b[39;00m object_pairs_hook \u001b[38;5;129;01mis\u001b[39;00m \u001b[38;5;28;01mNone\u001b[39;00m \u001b[38;5;129;01mand\u001b[39;00m \u001b[38;5;129;01mnot\u001b[39;00m kw):\n\u001b[0;32m--> 346\u001b[0m     \u001b[38;5;28;01mreturn\u001b[39;00m \u001b[43m_default_decoder\u001b[49m\u001b[38;5;241;43m.\u001b[39;49m\u001b[43mdecode\u001b[49m\u001b[43m(\u001b[49m\u001b[43ms\u001b[49m\u001b[43m)\u001b[49m\n\u001b[1;32m    347\u001b[0m \u001b[38;5;28;01mif\u001b[39;00m \u001b[38;5;28mcls\u001b[39m \u001b[38;5;129;01mis\u001b[39;00m \u001b[38;5;28;01mNone\u001b[39;00m:\n\u001b[1;32m    348\u001b[0m     \u001b[38;5;28mcls\u001b[39m \u001b[38;5;241m=\u001b[39m JSONDecoder\n",
      "File \u001b[0;32m~/anaconda3/envs/post/lib/python3.11/json/decoder.py:337\u001b[0m, in \u001b[0;36mJSONDecoder.decode\u001b[0;34m(self, s, _w)\u001b[0m\n\u001b[1;32m    332\u001b[0m \u001b[38;5;28;01mdef\u001b[39;00m \u001b[38;5;21mdecode\u001b[39m(\u001b[38;5;28mself\u001b[39m, s, _w\u001b[38;5;241m=\u001b[39mWHITESPACE\u001b[38;5;241m.\u001b[39mmatch):\n\u001b[1;32m    333\u001b[0m \u001b[38;5;250m    \u001b[39m\u001b[38;5;124;03m\"\"\"Return the Python representation of ``s`` (a ``str`` instance\u001b[39;00m\n\u001b[1;32m    334\u001b[0m \u001b[38;5;124;03m    containing a JSON document).\u001b[39;00m\n\u001b[1;32m    335\u001b[0m \n\u001b[1;32m    336\u001b[0m \u001b[38;5;124;03m    \"\"\"\u001b[39;00m\n\u001b[0;32m--> 337\u001b[0m     obj, end \u001b[38;5;241m=\u001b[39m \u001b[38;5;28;43mself\u001b[39;49m\u001b[38;5;241;43m.\u001b[39;49m\u001b[43mraw_decode\u001b[49m\u001b[43m(\u001b[49m\u001b[43ms\u001b[49m\u001b[43m,\u001b[49m\u001b[43m \u001b[49m\u001b[43midx\u001b[49m\u001b[38;5;241;43m=\u001b[39;49m\u001b[43m_w\u001b[49m\u001b[43m(\u001b[49m\u001b[43ms\u001b[49m\u001b[43m,\u001b[49m\u001b[43m \u001b[49m\u001b[38;5;241;43m0\u001b[39;49m\u001b[43m)\u001b[49m\u001b[38;5;241;43m.\u001b[39;49m\u001b[43mend\u001b[49m\u001b[43m(\u001b[49m\u001b[43m)\u001b[49m\u001b[43m)\u001b[49m\n\u001b[1;32m    338\u001b[0m     end \u001b[38;5;241m=\u001b[39m _w(s, end)\u001b[38;5;241m.\u001b[39mend()\n\u001b[1;32m    339\u001b[0m     \u001b[38;5;28;01mif\u001b[39;00m end \u001b[38;5;241m!=\u001b[39m \u001b[38;5;28mlen\u001b[39m(s):\n",
      "File \u001b[0;32m~/anaconda3/envs/post/lib/python3.11/json/decoder.py:355\u001b[0m, in \u001b[0;36mJSONDecoder.raw_decode\u001b[0;34m(self, s, idx)\u001b[0m\n\u001b[1;32m    353\u001b[0m     obj, end \u001b[38;5;241m=\u001b[39m \u001b[38;5;28mself\u001b[39m\u001b[38;5;241m.\u001b[39mscan_once(s, idx)\n\u001b[1;32m    354\u001b[0m \u001b[38;5;28;01mexcept\u001b[39;00m \u001b[38;5;167;01mStopIteration\u001b[39;00m \u001b[38;5;28;01mas\u001b[39;00m err:\n\u001b[0;32m--> 355\u001b[0m     \u001b[38;5;28;01mraise\u001b[39;00m JSONDecodeError(\u001b[38;5;124m\"\u001b[39m\u001b[38;5;124mExpecting value\u001b[39m\u001b[38;5;124m\"\u001b[39m, s, err\u001b[38;5;241m.\u001b[39mvalue) \u001b[38;5;28;01mfrom\u001b[39;00m \u001b[38;5;28;01mNone\u001b[39;00m\n\u001b[1;32m    356\u001b[0m \u001b[38;5;28;01mreturn\u001b[39;00m obj, end\n",
      "\u001b[0;31mJSONDecodeError\u001b[0m: Expecting value: line 1 column 1 (char 0)"
     ]
    }
   ],
   "source": [
    "napsterAPI = NapsterAPIcall()\n",
    "napsterAPI.login()\n",
    "napsterAPI.fetch_account_info()\n"
   ]
  },
  {
   "cell_type": "code",
   "execution_count": null,
   "metadata": {},
   "outputs": [],
   "source": [
    "nonstreamabletracks = check_all_playlists(napster=napsterAPI)\n",
    "print(nonstreamabletracks)"
   ]
  },
  {
   "cell_type": "code",
   "execution_count": null,
   "metadata": {},
   "outputs": [],
   "source": [
    "display(napsterAPI.fetch_list_of_playlists())"
   ]
  },
  {
   "cell_type": "code",
   "execution_count": null,
   "metadata": {},
   "outputs": [],
   "source": [
    "add_playlist_tracks_to_library(napster=napsterAPI)"
   ]
  },
  {
   "cell_type": "markdown",
   "metadata": {},
   "source": [
    "### Auswertung Favorites"
   ]
  },
  {
   "cell_type": "code",
   "execution_count": null,
   "metadata": {},
   "outputs": [],
   "source": [
    "favorites_df = pd.read_csv('favorites_2020-11-27.csv')\n",
    "\n",
    "# replace additions like \"(2009 Remix)\" or \"(Remastered 2016)\"\n",
    "# title all lowercase for better matching\n",
    "favorites_df['title'] = favorites_df['title'].replace(' \\([A-z,0-9 ]*\\)', value='', regex=True)\n",
    "favorites_df['title'] = favorites_df['title'].replace('[\\'\\?\\’]', value='', regex=True)\n",
    "favorites_df['title'] = favorites_df['title'].str.lower()\n",
    "\n",
    "# fetch all tracks which are not streamble \n",
    "unst_df = favorites_df[favorites_df['streamable'] == False]\n",
    "unst_df = unst_df.drop('streamable', 1)\n",
    "#print(unst_df)\n",
    "\n",
    "# fetch all substitutes aka double entries \n",
    "favorites_substitute_df = favorites_df[favorites_df.duplicated(subset=['artist', 'title'], keep='last')]\n",
    "favorites_substitute_df = favorites_substitute_df[favorites_substitute_df['streamable'] == True]\n",
    "#print(favorites_substitute_df)\n",
    "#print(favorites_filtered_df[favorites_filtered_df['streamable'] == False])\n",
    "\n",
    "# cross check for a list of unstreamable track which were not replaced\n",
    "unst_df = unst_df.assign(Replaced=unst_df.title.isin(favorites_substitute_df.title))\n",
    "print(unst_df[unst_df['Replaced'] == False])"
   ]
  },
  {
   "cell_type": "code",
   "execution_count": null,
   "metadata": {},
   "outputs": [],
   "source": [
    "\n",
    "\n"
   ]
  }
 ],
 "metadata": {
  "kernelspec": {
   "display_name": "Python 3 (ipykernel)",
   "language": "python",
   "name": "python3"
  },
  "language_info": {
   "codemirror_mode": {
    "name": "ipython",
    "version": 3
   },
   "file_extension": ".py",
   "mimetype": "text/x-python",
   "name": "python",
   "nbconvert_exporter": "python",
   "pygments_lexer": "ipython3",
   "version": "3.11.4"
  }
 },
 "nbformat": 4,
 "nbformat_minor": 4
}
