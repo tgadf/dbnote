{
 "cells": [
  {
   "cell_type": "code",
   "execution_count": null,
   "id": "c0d4d4b2-884c-4bfb-9645-7bfc83110d5e",
   "metadata": {},
   "outputs": [],
   "source": [
    "%load_ext autoreload\n",
    "from IPython.display import display, HTML\n",
    "display(HTML(\"<style>.container { width:100% !important; }</style>\"))"
   ]
  },
  {
   "cell_type": "code",
   "execution_count": null,
   "id": "e9d6db3b-6236-40a4-aec1-234eee149325",
   "metadata": {},
   "outputs": [],
   "source": [
    "from dbmaster import MasterParams, MasterPersist\n",
    "from dbbase import MusicDBIDModVal, MusicDBDir, MusicDBData\n",
    "from dbnote import DownloadRecord, KnownRecord, ConcatRawData\n",
    "from utils import FileIO, DirInfo, FileInfo, getFlatList, Timestat, TermTime, TermTimeTS, getTT\n",
    "from pandas import Series, DataFrame, concat, Timestamp\n",
    "from pandb import PanDBIO\n",
    "from musicdb.qobuz import MusicDBParams, RawWebData, MusicDBIO\n",
    "from os import getpid\n",
    "\n",
    "mv = MusicDBIDModVal()\n",
    "io = FileIO()\n",
    "mpar = MusicDBParams()\n",
    "dbio = MusicDBIO()\n",
    "webio = RawWebData()\n",
    "db = mpar.db"
   ]
  },
  {
   "cell_type": "code",
   "execution_count": null,
   "id": "6789621b-4c18-4372-90b5-d3285906c172",
   "metadata": {},
   "outputs": [],
   "source": [
    "searchArtistRecord = DownloadRecord(db=db, name=\"SearchArtist\", rTypes=[\"Index\", \"Data\"])\n",
    "downloadGenreRecord = DownloadRecord(db=db, name=\"DownloadGenre\", rTypes=[\"Index\", \"Data\"])\n",
    "downloadNonTermGenreRecord = DownloadRecord(db=db, name=\"DownloadNonTermGenre\", rTypes=[\"Index\", \"Data\"])\n",
    "downloadArtistRecord = DownloadRecord(db=db, name=\"DownloadArtist\", rTypes=[\"Index\"])\n",
    "downloadAlbumRecord = DownloadRecord(db=db, name=\"DownloadAlbum\", rTypes=[\"Index\"])\n",
    "knownGenreRecord = KnownRecord(db=db, name=\"Genre\")\n",
    "knownAlbumRecord = KnownRecord(db=db, name=\"KnownAlbum\")"
   ]
  },
  {
   "cell_type": "code",
   "execution_count": null,
   "id": "2dd838d2-a693-476d-bac0-1f70e5d0762d",
   "metadata": {},
   "outputs": [],
   "source": [
    "##########################################################################################\n",
    "# Show Summary\n",
    "##########################################################################################\n",
    "print(f\"{db} Search Results (PID={getpid()})\".format(db))\n",
    "searchArtistRecord.info()\n",
    "downloadGenreRecord.info()\n",
    "downloadNonTermGenreRecord.info()\n",
    "downloadArtistRecord.info()\n",
    "downloadAlbumRecord.info()\n",
    "knownGenreRecord.info()\n",
    "#print(f\"  {'KnownArtist Data': <20}: {knownArtists().shape[0]}\")"
   ]
  },
  {
   "cell_type": "code",
   "execution_count": null,
   "id": "08481c04-1226-4956-9356-d6b84f7aadf9",
   "metadata": {},
   "outputs": [],
   "source": [
    "dbio.rdio.getData(\"SearchArtistGroup\")"
   ]
  },
  {
   "cell_type": "markdown",
   "id": "91dd8764-cf03-46e5-93ba-8366c8c9ba7e",
   "metadata": {
    "jp-MarkdownHeadingCollapsed": true
   },
   "source": [
    "# Starter Data"
   ]
  },
  {
   "cell_type": "code",
   "execution_count": null,
   "id": "65f7ba36-9f86-40e3-865a-c5ad763e7d94",
   "metadata": {},
   "outputs": [],
   "source": [
    "from utils import WebIO, getHTML, FileIO\n",
    "webio = WebIO()\n",
    "url = \"https://www.qobuz.com/us-en/genres/download-streaming-albums\"\n",
    "data = webio.get(url)"
   ]
  },
  {
   "cell_type": "code",
   "execution_count": null,
   "id": "2864f3d9-647c-4458-aa3a-612e4e41052c",
   "metadata": {},
   "outputs": [],
   "source": [
    "bsdata = getHTML(data.data)\n",
    "ul = bsdata.find(\"ul\", {\"class\": \"hierarchical-list\"})\n",
    "lis = ul.findAll(\"li\")\n",
    "genres = []\n",
    "knownGenres = {}\n",
    "levels = {1: None, 2: None, 3: None, 4: None}\n",
    "prev = []\n",
    "\n",
    "for li in lis:\n",
    "    level = li.get('class')\n",
    "    levels[level] = name\n",
    "    atag = li.find('a')\n",
    "    ref = atag.get('href')\n",
    "    name = atag.text\n",
    "    genres.append([level, name, ref])\n",
    "    knownGenres[ref] = [name, level]"
   ]
  },
  {
   "cell_type": "code",
   "execution_count": null,
   "id": "9d38c4db-f164-44ae-83e9-f74adc8ced80",
   "metadata": {},
   "outputs": [],
   "source": [
    "knownGenreRecord.setData(knownGenres)\n",
    "knownGenreRecord.save()"
   ]
  },
  {
   "cell_type": "markdown",
   "id": "636e9242-b198-49fd-be8a-79031cb21dbd",
   "metadata": {
    "jp-MarkdownHeadingCollapsed": true
   },
   "source": [
    "# Download Numbered Pages"
   ]
  },
  {
   "cell_type": "code",
   "execution_count": null,
   "id": "c4ddda1a-f206-4a67-8ada-dae65c97416e",
   "metadata": {},
   "outputs": [],
   "source": [
    "def getTerminalGenres(isTerm=True):\n",
    "    knownGenreRecord.load(verbose=False)\n",
    "    data = knownGenreRecord.getData()\n",
    "    prev = [None, None, 0]\n",
    "    term = []\n",
    "    for ref, (name, level) in data.items():\n",
    "        level = int(level[0][-1])\n",
    "        #print(level,'\\t',name, end=\"\\t\")\n",
    "        if isTerm is True:\n",
    "            if level <= prev[2]: \n",
    "                term.append(prev)\n",
    "                #print(f\" + {prev}\", end=\"\")\n",
    "            #print(\"\")\n",
    "        elif isTerm is False:\n",
    "            if level > prev[2]: \n",
    "                term.append(prev)\n",
    "        prev = [ref, name, level]\n",
    "    term.append(prev)\n",
    "    return term"
   ]
  },
  {
   "cell_type": "code",
   "execution_count": null,
   "id": "4fe86403-caa6-4a09-b1d8-80e171a5fefd",
   "metadata": {},
   "outputs": [],
   "source": [
    "dbio = MusicDBIO(verbose=False,local=True,mkDirs=False)\n",
    "webio = RawWebData(debug=False)\n",
    "downloadGenreRecord.load()\n",
    "downloadNonTermGenreRecord.load()\n",
    "genreNamesToGet = {}\n",
    "nonTermGenreNamesToGet = {}\n",
    "for (ref, genre, level) in getTerminalGenres(isTerm=True):\n",
    "    genreKey = (genre, None)\n",
    "    if downloadGenreRecord.isKnown(genreKey):\n",
    "        continue\n",
    "    for page in range(1,10000):\n",
    "        genreKey = (genre, page)\n",
    "        if not downloadGenreRecord.isKnown(genreKey):\n",
    "            genreNamesToGet[genreKey] = ref\n",
    "            break\n",
    "for (ref, genre, level) in getTerminalGenres(isTerm=False):\n",
    "    genreKey = (genre, None)\n",
    "    if downloadNonTermGenreRecord.isKnown(genreKey):\n",
    "        continue\n",
    "    for page in range(1,10000):\n",
    "        genreKey = (genre, page)\n",
    "        if not downloadNonTermGenreRecord.isKnown(genreKey):\n",
    "            nonTermGenreNamesToGet[genreKey] = ref\n",
    "            break\n",
    "genreNamesToGet = Series(genreNamesToGet)\n",
    "nonTermGenreNamesToGet = Series(nonTermGenreNamesToGet)\n",
    "#knownNames = Series({(genre, 1): ref })\n",
    "#genreNamesToGet = knownNames[~knownNames.index.map(downloadGenreRecord.isKnown)]\n",
    "\n",
    "print(f\"# {db} Search Results (PID={getpid()})\")\n",
    "print(f\"#   Known Artist Names:  {downloadGenreRecord.numKnown()}\")\n",
    "print(f\"#   Artist Names To Get: {genreNamesToGet.shape[0]}\")\n",
    "print(f\"#   Known Artist Names:  {downloadNonTermGenreRecord.numKnown()}\")\n",
    "print(f\"#   Artist Names To Get: {nonTermGenreNamesToGet.shape[0]}\")"
   ]
  },
  {
   "cell_type": "markdown",
   "id": "49737146-6d02-4017-8e03-636a5734c38b",
   "metadata": {},
   "source": [
    "### Term Genre"
   ]
  },
  {
   "cell_type": "code",
   "execution_count": null,
   "id": "2132e14b-fa05-47d4-9eca-f195d4d11918",
   "metadata": {},
   "outputs": [],
   "source": [
    "ts = Timestat(f\"Getting {db} ArtistIDs\")\n",
    "tt = getTT(skipEOD=True, vacation=True)\n",
    "assert dbio.rdio.isLocal, f\"MusicDBIO is not set for local downloads!\"\n",
    "\n",
    "def isError(genreName, page, nErrors, sleeptime, error=None):\n",
    "    genreKey = (genreName, page)\n",
    "    downloadGenreRecord.setError(index=genreKey)\n",
    "    print(f\"Search Error ==> {genreName}: {error}\")\n",
    "    nErrors.append(genreName)\n",
    "    webio.sleep(sleeptime)\n",
    "    \n",
    "n = 0\n",
    "maxN = 250000000\n",
    "nErrors = []\n",
    "for i, ((genreName, page), genreRef) in enumerate(genreNamesToGet.items()):\n",
    "    if tt.isFinished():\n",
    "        break\n",
    "            \n",
    "    genreURL = None\n",
    "    pageNum = None\n",
    "    last = False\n",
    "    i = 0\n",
    "    while last is False:\n",
    "        i += 1\n",
    "\n",
    "        if i > 500:\n",
    "            last = True\n",
    "            break\n",
    "        \n",
    "        page = page if pageNum is None else pageNum\n",
    "        genreKey = (genreName, page)\n",
    "        if downloadGenreRecord.isKnown(genreKey):\n",
    "            continue\n",
    "    \n",
    "        if len(nErrors) >= 5:\n",
    "            print(\"Stopping due to 5 consecutive errors\")\n",
    "            break\n",
    "        \n",
    "        try:\n",
    "            response = webio.getGenreData(genreRef, genreURL, page)\n",
    "        except Exception as error:\n",
    "            isError(genreName, page, nErrors, 10, error)\n",
    "            break\n",
    "    \n",
    "        if not isinstance(response, dict):\n",
    "            isError(genreName, page, nErrors, 3.5, \"NotDict\")\n",
    "            break\n",
    "    \n",
    "        media = response[\"Media\"]\n",
    "        nextRef = response[\"NextRef\"]\n",
    "        pageNum = response[\"Page\"]\n",
    "        genreURL = f\"{webio.baseURL}{nextRef}\" if isinstance(nextRef, str) else None\n",
    "        if len(media) == 0:\n",
    "            last = True\n",
    "    \n",
    "        nErrors = []\n",
    "        downloadGenreRecord.setData(index=genreKey, data=media)\n",
    "        if pageNum is None or len(media) < 21:\n",
    "            last = True\n",
    "            genreKey = (genreName, None)\n",
    "            media = []\n",
    "            downloadGenreRecord.setData(index=genreKey, data=media)\n",
    "            break\n",
    "            \n",
    "        webio.sleep(7.5)\n",
    "        n += 1\n",
    "            \n",
    "        if n % 5 == 0:\n",
    "            if tt.isFinished():\n",
    "                last = True\n",
    "                break\n",
    "            webio.sleep(1.0)\n",
    "            \n",
    "        if n % 15 == 0:\n",
    "            ts.update(n=n)\n",
    "            downloadGenreRecord.save()\n",
    "            webio.wait(20.0)\n",
    "            if tt.isFinished():\n",
    "                last = True\n",
    "                break\n",
    "        \n",
    "        if n >= maxN:\n",
    "            print(f\"Breaking after {maxN} downloads...\")\n",
    "            last = True\n",
    "            break\n",
    "\n",
    "ts.stop()\n",
    "downloadGenreRecord.save()"
   ]
  },
  {
   "cell_type": "markdown",
   "id": "592e984b-04e2-4ce6-9e0d-8171c048e1f4",
   "metadata": {},
   "source": [
    "### NonTerm Genre"
   ]
  },
  {
   "cell_type": "code",
   "execution_count": null,
   "id": "b1113cac-3090-4396-9f75-61f78643fc88",
   "metadata": {},
   "outputs": [],
   "source": [
    "ts = Timestat(f\"Getting {db} ArtistIDs\")\n",
    "tt = getTT(skipEOD=False, vacation=True)\n",
    "assert dbio.rdio.isLocal, f\"MusicDBIO is not set for local downloads!\"\n",
    "\n",
    "def isError(genreName, page, nErrors, sleeptime, error=None):\n",
    "    genreKey = (genreName, page)\n",
    "    downloadNonTermGenreRecord.setError(index=genreKey)\n",
    "    print(f\"Search Error ==> {genreName}: {error}\")\n",
    "    nErrors.append(genreName)\n",
    "    webio.sleep(sleeptime)\n",
    "    \n",
    "n = 0\n",
    "maxN = 2500000\n",
    "nErrors = []\n",
    "for i, ((genreName, page), genreRef) in enumerate(nonTermGenreNamesToGet.items()):\n",
    "    if tt.isFinished():\n",
    "        break\n",
    "            \n",
    "    genreURL = None\n",
    "    pageNum = None\n",
    "    last = False\n",
    "    i = 0\n",
    "    while last is False:\n",
    "        i += 1\n",
    "\n",
    "        if i > 1000:\n",
    "            last = True\n",
    "            break\n",
    "        \n",
    "        page = page if pageNum is None else pageNum\n",
    "        genreKey = (genreName, page)\n",
    "        if downloadNonTermGenreRecord.isKnown(genreKey):\n",
    "            continue\n",
    "    \n",
    "        if len(nErrors) >= 5:\n",
    "            print(\"Stopping due to 5 consecutive errors\")\n",
    "            break\n",
    "        \n",
    "        try:\n",
    "            response = webio.getGenreData(genreRef, genreURL, page)\n",
    "        except Exception as error:\n",
    "            isError(genreName, page, nErrors, 10, error)\n",
    "            break\n",
    "    \n",
    "        if not isinstance(response, dict):\n",
    "            isError(genreName, page, nErrors, 3.5, \"NotDict\")\n",
    "            break\n",
    "    \n",
    "        media = response[\"Media\"]\n",
    "        nextRef = response[\"NextRef\"]\n",
    "        pageNum = response[\"Page\"]\n",
    "        genreURL = f\"{webio.baseURL}{nextRef}\" if isinstance(nextRef, str) else None\n",
    "        if len(media) == 0:\n",
    "            last = True\n",
    "    \n",
    "        nErrors = []\n",
    "        downloadNonTermGenreRecord.setData(index=genreKey, data=media)\n",
    "        if pageNum is None or len(media) < 21:\n",
    "            last = True\n",
    "            genreKey = (genreName, None)\n",
    "            media = []\n",
    "            downloadNonTermGenreRecord.setData(index=genreKey, data=media)\n",
    "            break\n",
    "            \n",
    "        webio.sleep(7.5)\n",
    "        n += 1\n",
    "            \n",
    "        if n % 5 == 0:\n",
    "            if tt.isFinished():\n",
    "                last = True\n",
    "                break\n",
    "            webio.sleep(1.0)\n",
    "            \n",
    "        if n % 15 == 0:\n",
    "            ts.update(n=n)\n",
    "            downloadGenreRecord.save()\n",
    "            webio.wait(20.0)\n",
    "            if tt.isFinished():\n",
    "                last = True\n",
    "                break\n",
    "        \n",
    "        if n >= maxN:\n",
    "            print(f\"Breaking after {maxN} downloads...\")\n",
    "            last = True\n",
    "            break\n",
    "\n",
    "ts.stop()\n",
    "downloadNonTermGenreRecord.save()"
   ]
  },
  {
   "cell_type": "markdown",
   "id": "a8659db5-3fd3-4e16-874a-3ae01c5f9a0e",
   "metadata": {},
   "source": [
    "## Create Music DB From Numbered Pages"
   ]
  },
  {
   "cell_type": "code",
   "execution_count": null,
   "id": "4f63be9f-5fcd-458a-a3f8-93833a93aea6",
   "metadata": {},
   "outputs": [],
   "source": [
    "from dbraw import getTimestamp, getYear\n",
    "from musicdb.qobuz import MusicDBID\n",
    "artistData = {}\n",
    "mid = MusicDBID()\n",
    "isTerm = False\n",
    "if isTerm is True:\n",
    "    downloadGenreRecord.load()\n",
    "    data = downloadGenreRecord.getData()\n",
    "else:\n",
    "    downloadNonTermGenreRecord.load()\n",
    "    data = downloadNonTermGenreRecord.getData()\n",
    "    \n",
    "for i, (genreKey, genreKeyData) in enumerate(data.items()):\n",
    "    for item in genreKeyData:\n",
    "        artist = item['Artist']\n",
    "        artistName = artist[0]\n",
    "        artistRef = artist[1]\n",
    "        artistID = mid.getArtistID(artistRef)\n",
    "        \n",
    "        album = item['Album']\n",
    "        albumName = album[0]\n",
    "        albumRef = album[1]\n",
    "        albumID = mid.getAlbumID(albumRef)\n",
    "        \n",
    "        label = item['Label']\n",
    "        genre = item['Genre']\n",
    "        release = item['Release']\n",
    "        releaseTS = getTimestamp(release)\n",
    "        year = getYear(release)\n",
    "        cover = item['Cover']\n",
    "\n",
    "        #print(albumID,'\\t',albumRef,'\\t',release,'\\t',year)\n",
    "\n",
    "        albumData = {\"AlbumID\": albumID, \"AlbumName\": albumName, \"AlbumRef\": albumRef, \"Label\": label,\n",
    "                     \"Genre\": genre, \"Release\": release, \"Year\": year}\n",
    "        artistInfo = {\"ArtistName\": artistName, \"ArtistRef\": artistRef}\n",
    "\n",
    "        if artistData.get(artistID) is None:\n",
    "            artistData[artistID] = {\"ArtistName\": artistName, \"ArtistRef\": artistRef, \"Media\": {}}\n",
    "        artistData[artistID][\"Media\"][albumID] = albumData\n",
    "\n",
    "    if i % 250 == 0:\n",
    "        key = \"-\".join([str(x) for x in genreKey])\n",
    "        print(f\"{key: <35}{len(artistData)}\")\n",
    "print(f\"{' ': <35}{len(artistData)}\")\n",
    "\n",
    "df = DataFrame({artistID: Series(artistIDData) for artistID, artistIDData in artistData.items()}).T"
   ]
  },
  {
   "cell_type": "code",
   "execution_count": null,
   "id": "c7c6c3c7-4075-4ccb-a439-e137ad5a6970",
   "metadata": {},
   "outputs": [],
   "source": [
    "dbio = MusicDBIO(mod=True, mkDirs=False)\n",
    "groupData = dbio.rdio.getData(\"SearchArtistGroup\")"
   ]
  },
  {
   "cell_type": "code",
   "execution_count": null,
   "id": "1a7093ff-d773-4bf3-860b-14cc50b1911a",
   "metadata": {},
   "outputs": [],
   "source": [
    "groupData = concat([groupData, df[~df.index.isin(groupData.index)]])"
   ]
  },
  {
   "cell_type": "code",
   "execution_count": null,
   "id": "38191c12-ffcd-4f8e-b9ed-5406c54f72a6",
   "metadata": {
    "scrolled": true
   },
   "outputs": [],
   "source": [
    "tmp = df[df.index.isin(groupData.index)]\n",
    "for artistID, artistIDData in tmp.iterrows():\n",
    "    newData = artistIDData['Media']\n",
    "    oldData = groupData.loc[artistID, \"Media\"]\n",
    "    print(f\"{artistID: <15}{len(newData): <6}{len(oldData): <6} | \", end=\"\")\n",
    "    allData = artistIDData['Media'] | groupData.loc[artistID, \"Media\"]\n",
    "    groupData.at[artistID, \"Media\"] = allData\n",
    "    #groupData.loc[artistID, \"Media\"] = artistIDData['Media'] | groupData.loc[artistID, \"Media\"]\n",
    "    #oldData = groupData.loc[artistID, \"Media\"]\n",
    "    print(f\"{len(allData): <6}\")"
   ]
  },
  {
   "cell_type": "code",
   "execution_count": null,
   "id": "a33eb58d-2d08-44eb-9158-b11dabcfe418",
   "metadata": {},
   "outputs": [],
   "source": [
    "dbio.rdio.saveData(\"SearchArtistGroup\", data=groupData)"
   ]
  },
  {
   "cell_type": "code",
   "execution_count": null,
   "id": "9f85aac5-492d-4ef2-8f47-942d78e2d428",
   "metadata": {},
   "outputs": [],
   "source": [
    "groupData.shape\n",
    "\n"
   ]
  },
  {
   "cell_type": "markdown",
   "id": "67fc8844-8844-4c7f-8cc0-22a87491177e",
   "metadata": {},
   "source": [
    "# Download Albums"
   ]
  },
  {
   "cell_type": "code",
   "execution_count": null,
   "id": "f26481a1-9a96-42e4-adb7-c91fc71a86db",
   "metadata": {},
   "outputs": [],
   "source": [
    "knownAlbumRecord.load()\n",
    "knownAlbums = concat([dbio.rdio.getData(\"ModValArtistMedia\", modVal)[['name', 'url']] for modVal in range(100)])\n",
    "def getAID(x):\n",
    "    return x.split('-')[1][3:]\n",
    "def getAlbumID(x):\n",
    "    return x.split('-')[2][3:]\n",
    "knownAlbums[\"ArtistID\"] = knownAlbums.index.map(getAID)\n",
    "knownAlbums.index = knownAlbums.index.map(getAlbumID)\n",
    "knownAlbumRecord.setData(data=knownAlbums.T.to_dict())\n",
    "knownAlbumRecord.save()"
   ]
  },
  {
   "cell_type": "code",
   "execution_count": null,
   "id": "5258101e-ce6f-4dae-b51e-6cf6b8da36be",
   "metadata": {},
   "outputs": [],
   "source": [
    "dbio = MusicDBIO(local=True, mkDirs=False)\n",
    "webio = RawWebData(debug=False)\n",
    "knownNames = DataFrame(knownAlbumRecord.getData()).T\n",
    "knownNames[\"IndexModVal\"] = knownNames.index.map(dbio.mv.getModVal)\n",
    "availableNames = knownNames[~knownNames.index.map(downloadAlbumRecord.isKnown)]\n",
    "albumNamesToGet = Series({modVal: modValDF for modVal,modValDF in availableNames.groupby([\"IndexModVal\"])})\n",
    "\n",
    "print(f\"# {db} Search Results (PID={getpid()})\")\n",
    "print(f\"#   Available Names:     {knownNames.shape[0]}\")\n",
    "print(f\"#   Known Artist Names:  {downloadAlbumRecord.numKnown()}\")\n",
    "print(f\"#   Artist Names To Get: {availableNames.shape[0]}\")\n",
    "\n",
    "del availableNames\n",
    "del knownNames"
   ]
  },
  {
   "cell_type": "code",
   "execution_count": null,
   "id": "4427bde6-1694-42d6-b26d-911eeca170a3",
   "metadata": {},
   "outputs": [],
   "source": [
    "ts = Timestat(f\"Getting {db} Artists\")\n",
    "tt = getTT(skipEOD=False, vacation=True)\n",
    "assert dbio.rdio.isLocal, f\"MusicDBIO is not set for local downloads!\"\n",
    "\n",
    "def isError(albumName, albumID, nErrors, sleeptime, error=None):\n",
    "    downloadAlbumRecord.setError(index=albumID)    \n",
    "    print(f\"Search Error ==> {albumName}: {error}\")\n",
    "    nErrors.append(albumName)\n",
    "    webio.sleep(sleeptime)\n",
    "    \n",
    "\n",
    "stop = False\n",
    "n = 0\n",
    "maxN = 250000000\n",
    "nErrors = []\n",
    "downloadAlbumRecord.load(verbose=False)\n",
    "for groupModVal, df in albumNamesToGet.items():\n",
    "    modVal = groupModVal[0]\n",
    "    if stop is True:\n",
    "        break\n",
    "    N = df.shape[0]\n",
    "    for i, (albumID, row) in enumerate(df.iterrows()):\n",
    "        if downloadAlbumRecord.isKnown(albumID):\n",
    "            continue\n",
    "    \n",
    "        if len(nErrors) >= 5:\n",
    "            print(\"Stopping due to 5 consecutive errors\")\n",
    "            stop = True\n",
    "            break\n",
    "\n",
    "        albumName = row[\"name\"]\n",
    "        albumRef = row[\"url\"]\n",
    "        print(f\"{modVal: <3} | {i: <5} | {N: <5} | {n: <5} | \", end=\"\")\n",
    "\n",
    "        try:\n",
    "            response = webio.getAlbumData(albumName=albumName, albumRef=albumRef)\n",
    "        except Exception as error:\n",
    "            isError(albumName, albumID, nErrors, 10, error)\n",
    "            continue\n",
    "    \n",
    "        if not isinstance(response, bytes):\n",
    "            isError(albumName, albumID, nErrors, 5.0, \"NotBytes\")\n",
    "            continue\n",
    "    \n",
    "        nErrors = []\n",
    "        downloadAlbumRecord.setIndex(index=albumID)\n",
    "        dbio.rdio.saveData(\"RawAlbum\", modVal, albumID, data=response)\n",
    "        webio.sleep(4.5)\n",
    "        n += 1\n",
    "            \n",
    "        if n % 25 == 0:\n",
    "            ts.update(n=n)\n",
    "            downloadAlbumRecord.save()\n",
    "            webio.wait(10.0)\n",
    "            if tt.isFinished():\n",
    "                stop = True\n",
    "                break\n",
    "        \n",
    "        if n >= maxN:\n",
    "            print(f\"Breaking after {maxN} downloads...\")\n",
    "            stop = True\n",
    "            break\n",
    "\n",
    "ts.stop()\n",
    "downloadAlbumRecord.save()"
   ]
  },
  {
   "cell_type": "code",
   "execution_count": null,
   "id": "00817dfe-0606-409b-93b4-2101e2067164",
   "metadata": {
    "scrolled": true
   },
   "outputs": [],
   "source": [
    "downloadAlbumRecord.save()"
   ]
  },
  {
   "cell_type": "code",
   "execution_count": null,
   "id": "43fa1f8b-f7fb-41df-9280-f6514e41e478",
   "metadata": {},
   "outputs": [],
   "source": [
    "dbio = MusicDBIO(local=True, mkDirs=False)\n",
    "for modVal in range(100):\n",
    "    crd = ConcatRawData(db=dbio.db, dType=\"Album\")\n",
    "    crd.concat(modVal=modVal)\n",
    "    crd.merge(modVal=modVal, test=False)\n",
    "    crd.remove(modVal=modVal, force=True)"
   ]
  },
  {
   "cell_type": "code",
   "execution_count": null,
   "id": "d3ae4611-9805-41a8-95a1-f590c578b597",
   "metadata": {},
   "outputs": [],
   "source": [
    "from musicdb import PoolIO\n",
    "from time import sleep\n",
    "\n",
    "pio = PoolIO(\"Qobuz\", nProcs=5)\n",
    "pio.concat()\n",
    "pio.merge()\n",
    "#pio.metaprod()\n",
    "#pio.sumprod()"
   ]
  },
  {
   "cell_type": "code",
   "execution_count": null,
   "id": "fa0a84da-d468-4a14-9700-43d7e9a8de80",
   "metadata": {},
   "outputs": [],
   "source": [
    "\n",
    "\n",
    "https://www.qobuz.com/us-en/album/whats-going-on-marvin-gaye/0060253780989"
   ]
  },
  {
   "cell_type": "code",
   "execution_count": null,
   "id": "2d6f3b70-09d5-489f-ad8a-74183fa24efb",
   "metadata": {},
   "outputs": [],
   "source": []
  },
  {
   "cell_type": "markdown",
   "id": "8ac0d729-7739-4caf-b6a2-8d827771673c",
   "metadata": {},
   "source": [
    "## Parse"
   ]
  },
  {
   "cell_type": "code",
   "execution_count": null,
   "id": "94b02da8-3a40-4096-8f83-7505de19cc24",
   "metadata": {},
   "outputs": [],
   "source": []
  },
  {
   "cell_type": "code",
   "execution_count": null,
   "id": "3b80f296-de2b-4dc5-ada7-56b41e0e9241",
   "metadata": {},
   "outputs": [],
   "source": [
    "dbio = MusicDBIO(verbose=True)\n",
    "dbio.pdio.parse(key=\"Artist\")"
   ]
  },
  {
   "cell_type": "code",
   "execution_count": null,
   "id": "36036059-676a-4d21-9f7f-2b0cd18d8520",
   "metadata": {},
   "outputs": [],
   "source": [
    "from utils import FileIO\n",
    "io = FileIO()\n",
    "io.save(idata=artistData, ifile=\"qobuz-artistData.p\")"
   ]
  },
  {
   "cell_type": "markdown",
   "id": "5f5a77ef-de85-4d2a-9859-51abbe9e3306",
   "metadata": {},
   "source": [
    "## Make Raw Artist Data "
   ]
  },
  {
   "cell_type": "code",
   "execution_count": null,
   "id": "b0891056-e20f-4382-841f-766fc57bf780",
   "metadata": {},
   "outputs": [],
   "source": [
    "from utils import FileIO\n",
    "io = FileIO()\n",
    "data = io.get(\"qobuz-artistData.p\")\n"
   ]
  },
  {
   "cell_type": "code",
   "execution_count": null,
   "id": "3be01a8e-55de-4093-88ac-a8f088e92e04",
   "metadata": {},
   "outputs": [],
   "source": [
    "df = Series(data).apply(Series)"
   ]
  },
  {
   "cell_type": "code",
   "execution_count": null,
   "id": "3ae7d321-d945-42cd-a54f-4c90150a8bf2",
   "metadata": {},
   "outputs": [],
   "source": [
    "df"
   ]
  },
  {
   "cell_type": "code",
   "execution_count": null,
   "id": "917ae7b7-83c6-4fa9-b8b1-b7e816ad6221",
   "metadata": {},
   "outputs": [],
   "source": [
    "for artistID, artistIDData in data.items():\n",
    "    rawio = rdio.makeArtistData(artistID, artistIDData)\n",
    "    break"
   ]
  },
  {
   "cell_type": "code",
   "execution_count": null,
   "id": "82efbcea-eb37-4e3a-b9ff-6eb8b95e3386",
   "metadata": {},
   "outputs": [],
   "source": [
    "\n",
    "up.path"
   ]
  },
  {
   "cell_type": "code",
   "execution_count": null,
   "id": "9493c091-9ec6-46d5-911c-52fbdbf108b1",
   "metadata": {},
   "outputs": [],
   "source": []
  },
  {
   "cell_type": "code",
   "execution_count": null,
   "id": "dd47ca60-bc81-4d6e-87cc-237b599484c9",
   "metadata": {},
   "outputs": [],
   "source": [
    "term = getTerminalGenres()\n",
    "ref = term[0][0]\n",
    "baseURL = dbio.params.baseURL\n",
    "url = f\"{baseURL}{ref}?ssf%5BsortBy%5D=main_catalog_date_desc\"\n",
    "print(url)\n",
    "#       https://www.qobuz.com/us-en/genre/pop-inde/download-streaming-albums/page/1?ssf%5BsortBy%5D=main_catalog_date_desc\n",
    "#print(\"https://www.qobuz.com/us-en/genre/pop-inde/download-streaming-albums?ssf%5BsortBy%5D=main_catalog_date_desc\")\n",
    "#https://www.qobuz.com/us-en/genre/pop-inde/download-streaming-albums?ssf%5BsortBy%5D=main_catalog_date_desc\n",
    "#https://www.qobuz.com/us-en/genre/pop-inde/download-streaming-albums/?ssf%5BsortBy%5D=main_catalog_date_desc\n",
    "url1=\"https://www.qobuz.com/us-en/genre/pop-inde/download-streaming-albums/page/3?ssf%5BsortBy%5D=main_catalog_date_desc\"\n",
    "url2='https://www.qobuz.com/us-en/genre/pop-inde/download-streaming-albums/page/3?ssf%5BsortBy%5D=main_catalog_date_desc'\n",
    "url1 == url2\n",
    "#url=\"https://www.qobuz.com/us-en/genre/pop-inde/download-streaming-albums/page/2?ssf%5BsortBy%5D=main_catalog_date_desc\"\n",
    "#genreData = webio.get(url)"
   ]
  },
  {
   "cell_type": "code",
   "execution_count": null,
   "id": "668cf155-1bfd-4fb6-8d49-5fca5062016c",
   "metadata": {},
   "outputs": [],
   "source": [
    "url = webio.getGenrePageURL(genreRef=ref, genreURL=None, page=3)\n",
    "genreData = webio.get(url)"
   ]
  },
  {
   "cell_type": "code",
   "execution_count": null,
   "id": "a08351fd-a13b-49b9-a110-d45dccdcb95d",
   "metadata": {},
   "outputs": [],
   "source": [
    "import difflib\n",
    "a = url1\n",
    "b = url2\n",
    "for i,s in enumerate(difflib.ndiff(a, b)):\n",
    "    print(i,'\\t',s)"
   ]
  },
  {
   "cell_type": "code",
   "execution_count": null,
   "id": "9f01f4e6-8bbb-420f-9de3-8fd514e021e2",
   "metadata": {},
   "outputs": [],
   "source": [
    "genreData.data"
   ]
  },
  {
   "cell_type": "code",
   "execution_count": null,
   "id": "509e178e-b6fe-43bf-a482-b15a749245c7",
   "metadata": {},
   "outputs": [],
   "source": [
    "from utils import getHTML\n",
    "\n",
    "https://www.qobuz.com/us-en/genre/pop-inde/download-streaming-albums?ssf%5BsortBy%5D=main_catalog_date_desc\n",
    "https://www.qobuz.com/us-en/genre/pop-inde/download-streaming-albums/page/2?ssf%5BsortBy%5D=main_catalog_date_desc\n",
    "bsdata = getHTML(gData.data)"
   ]
  },
  {
   "cell_type": "code",
   "execution_count": null,
   "id": "f72e4061-6b61-46c0-9a2a-840fccde29f6",
   "metadata": {},
   "outputs": [],
   "source": [
    "pageDiv = bsdata.find(\"div\", {\"class\": \"product__header\"})\n",
    "nextRef = pageDiv.find(\"a\", {\"rel\": \"next\"})\n",
    "nextRef"
   ]
  },
  {
   "cell_type": "code",
   "execution_count": null,
   "id": "4d6c2918-62e2-4b9e-b9e1-36b7d9b3cbc1",
   "metadata": {},
   "outputs": [],
   "source": [
    "from dbraw import isTag, getTagText\n",
    "def getPageData(bsdata):\n",
    "    retval = []\n",
    "    \n",
    "    wrapper = bsdata.find(\"ul\", {\"class\": \"product__wrapper\"})\n",
    "    for li in wrapper.findAll(\"li\"):\n",
    "        coverDiv = li.find(\"div\", {\"class\": \"product__cover\"})\n",
    "        cover = coverDiv.get('data-src') if isTag(coverDiv) else None\n",
    "    \n",
    "        dataDiv = li.find(\"div\", {\"class\": \"product__data\"})\n",
    "        genreTag = dataDiv.find(\"p\", {\"class\": \"product__data--genre\"}) if isTag(dataDiv) else None\n",
    "        genre = getTagText(genreTag).strip()\n",
    "        releaseTag = dataDiv.find(\"p\", {\"class\": \"product__data--release\"}) if isTag(dataDiv) else None\n",
    "        release = getTagText(releaseTag).strip()\n",
    "        \n",
    "        containerDiv = li.find(\"div\", {\"class\": \"product__container\"})\n",
    "        containerRefTag = containerDiv.find(\"a\") if isTag(containerDiv) else None\n",
    "        containerRef = containerRefTag.get('href') if isTag(containerRefTag) else None\n",
    "        containerTitle = getTagText(containerRefTag).strip()\n",
    "            \n",
    "        artistDiv = li.find(\"p\", {\"class\": \"product__artist\"})\n",
    "        artistTag = artistDiv.find(\"a\") if isTag(artistDiv) else None\n",
    "        artistRef = artistTag.get('href') if isTag(artistTag) else None\n",
    "        artistName = getTagText(artistTag).strip()\n",
    "        \n",
    "        infosDiv = li.find(\"p\", {\"class\": \"product__infos\"})\n",
    "        infosTag = infosDiv.find(\"a\") if isTag(infosDiv) else None\n",
    "        labelRef = infosTag.get('href') if isTag(infosTag) else None\n",
    "        labelName = getTagText(infosTag).strip()\n",
    "    \n",
    "        # print(f\"{artistName: <40}{containerTitle: <60}\")\n",
    "\n",
    "        record = {\"Artist\": [artistName, artistRef], \"Album\": [containerTitle, containerRef],\n",
    "                  \"Label\": [labelName, labelRef], \"Genre\": genre, \"Release\": release}\n",
    "\n",
    "        retval.append(record)\n",
    "\n",
    "    return retval"
   ]
  },
  {
   "cell_type": "code",
   "execution_count": null,
   "id": "75f498be-3630-4892-9b1e-eb19a60e882a",
   "metadata": {},
   "outputs": [],
   "source": [
    "retval = getPageData(bsdata)"
   ]
  },
  {
   "cell_type": "code",
   "execution_count": null,
   "id": "30d4684f-84da-4a7b-87b8-e20f6bc09a02",
   "metadata": {},
   "outputs": [],
   "source": [
    "retval"
   ]
  },
  {
   "cell_type": "code",
   "execution_count": null,
   "id": "9e64a39c-7d03-4845-91eb-696b280c72d9",
   "metadata": {},
   "outputs": [],
   "source": [
    "from utils import getHTML\n",
    "bsdata = getHTML(data.data)\n",
    "from utils import FileIO\n",
    "io = FileIO()\n",
    "io.save(idata=data.data, ifile=\"qobuz.genres.p\")"
   ]
  },
  {
   "cell_type": "code",
   "execution_count": null,
   "id": "68dc46e8-b017-4756-9d70-e6a44339c984",
   "metadata": {},
   "outputs": [],
   "source": [
    "url = \"https://www.qobuz.com/us-en/search?q=Boris\"\n",
    "data = webio.get(url)"
   ]
  },
  {
   "cell_type": "code",
   "execution_count": null,
   "id": "b511677b-1d4e-4809-b1c9-823bf2ec0c87",
   "metadata": {},
   "outputs": [],
   "source": [
    "ul = bsdata.find(\"ul\", {\"class\": \"hierarchical-list\"})\n",
    "lis = ul.findAll(\"li\")\n",
    "genres = []\n",
    "levels = {\"level1\": None, \"level2\": None, \"level3\": None}\n",
    "for li in lis:\n",
    "    level = li.get('class')\n",
    "    atag = li.find('a')\n",
    "    ref = atag.get('href')\n",
    "    name = atag.text\n",
    "    genres.append([level, name, ref])"
   ]
  }
 ],
 "metadata": {
  "kernelspec": {
   "display_name": "Python 3 (ipykernel)",
   "language": "python",
   "name": "python3"
  },
  "language_info": {
   "codemirror_mode": {
    "name": "ipython",
    "version": 3
   },
   "file_extension": ".py",
   "mimetype": "text/x-python",
   "name": "python",
   "nbconvert_exporter": "python",
   "pygments_lexer": "ipython3",
   "version": "3.11.4"
  }
 },
 "nbformat": 4,
 "nbformat_minor": 5
}
